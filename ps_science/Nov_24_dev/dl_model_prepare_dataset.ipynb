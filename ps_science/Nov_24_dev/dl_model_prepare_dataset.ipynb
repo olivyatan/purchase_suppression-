{
 "cells": [
  {
   "cell_type": "code",
   "execution_count": null,
   "id": "2bc84667-c793-463d-98c6-70db3e3502e1",
   "metadata": {},
   "outputs": [],
   "source": [
    "from utils import spark_session, save_table\n",
    "\n",
    "session = spark_session(\"purchase-suppression-dl-model\")"
   ]
  },
  {
   "cell_type": "code",
   "execution_count": null,
   "id": "262db31e-3af1-4a92-83f5-df8d8d4f8154",
   "metadata": {},
   "outputs": [],
   "source": [
    "df_smp = session.table(\"bx_ps_samples_enriched_hr\")\n",
    "df_prch = session.table(\"bx_ps_user_prch_hist_hr\")\n",
    "df_vi = session.table(\"bx_ps_user_vi_hist_hr\")"
   ]
  },
  {
   "cell_type": "code",
   "execution_count": null,
   "id": "604cf921-69f8-4e32-b6f9-c13c82aa00d1",
   "metadata": {},
   "outputs": [],
   "source": [
    "from features import vi_label\n",
    "\n",
    "config = dict()\n",
    "config['sampling'] = {\n",
    "    'ref_dt': '2024-05-01'\n",
    "}\n",
    "\n",
    "df_smp = vi_label(session, config, df_smp, df_vi)"
   ]
  },
  {
   "cell_type": "code",
   "execution_count": null,
   "id": "cedeeef3-83b0-466e-93c3-ebb26f41c948",
   "metadata": {},
   "outputs": [],
   "source": [
    "from pyspark.sql import functions as F\n",
    "\n",
    "df_prch = (df_prch.groupBy(\"BUYER_ID\").agg(F.to_json(\n",
    "                                             F.collect_list(\n",
    "                                                F.struct(*[F.col(c).alias(c) for c in df_prch.columns])\n",
    "                                             )).alias(\"PURCHASE_HIST\")))\n",
    "df_vi = (df_vi.groupBy(\"BUYER_ID\").agg(F.to_json(\n",
    "                                             F.collect_list(\n",
    "                                                F.struct(*[F.col(c).alias(c) for c in df_vi.columns])\n",
    "                                             )).alias(\"VI_HIST\")))\n",
    "df = df_smp.join(df_prch, \"BUYER_ID\").join(df_vi, \"BUYER_ID\")"
   ]
  },
  {
   "cell_type": "code",
   "execution_count": null,
   "id": "c57cb224-e933-4be3-aa5a-1ef1db2c7e28",
   "metadata": {},
   "outputs": [],
   "source": [
    "# split data to train/validation/test sets\n",
    "train, validation, test = df.randomSplit([0.7, 0.1, 0.2])"
   ]
  },
  {
   "cell_type": "code",
   "execution_count": null,
   "id": "cd3d4088-184a-4dbf-81fe-100b3bbb67ad",
   "metadata": {},
   "outputs": [],
   "source": [
    "train.write.option(\"maxRecordsPerFile\", 200).mode(\"overwrite\").parquet(\"hdfs://apollo-rno/user/b_perso/ps-dl/ps-dl-train-v1\")\n",
    "validation.write.option(\"maxRecordsPerFile\", 200).mode(\"overwrite\").parquet(\"hdfs://apollo-rno/user/b_perso/ps-dl/ps-dl-val-v1\")\n",
    "test.write.option(\"maxRecordsPerFile\", 200).mode(\"overwrite\").parquet(\"hdfs://apollo-rno/user/b_perso/ps-dl/ps-dl-test-v1\")"
   ]
  },
  {
   "cell_type": "code",
   "execution_count": null,
   "id": "eb074c44-0856-4160-8ef3-1bce7dee2827",
   "metadata": {},
   "outputs": [],
   "source": [
    "if session:\n",
    "    session.stop()"
   ]
  }
 ],
 "metadata": {
  "kernelspec": {
   "display_name": "Python 3 (ipykernel)",
   "language": "python",
   "name": "python3"
  },
  "language_info": {
   "codemirror_mode": {
    "name": "ipython",
    "version": 3
   },
   "file_extension": ".py",
   "mimetype": "text/x-python",
   "name": "python",
   "nbconvert_exporter": "python",
   "pygments_lexer": "ipython3",
   "version": "3.7.10"
  }
 },
 "nbformat": 4,
 "nbformat_minor": 5
}
