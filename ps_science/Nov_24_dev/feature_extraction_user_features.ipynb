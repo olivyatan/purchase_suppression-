{
 "cells": [
  {
   "cell_type": "code",
   "execution_count": 1,
   "id": "8a18bc6e-247b-4c9d-a7d0-e54f610a566a",
   "metadata": {
    "scrolled": true,
    "tags": []
   },
   "outputs": [
    {
     "name": "stderr",
     "output_type": "stream",
     "text": [
      "24/11/07 12:37:02 INFO SecurityManager: Changing view acls to: olivyatan,b_perso,*\n",
      "24/11/07 12:37:02 INFO SecurityManager: Changing modify acls to: olivyatan,b_perso\n",
      "24/11/07 12:37:02 INFO SecurityManager: Changing view acls groups to: \n",
      "24/11/07 12:37:02 INFO SecurityManager: Changing modify acls groups to: \n",
      "24/11/07 12:37:02 INFO SecurityManager: SecurityManager: authentication disabled; ui acls disabled; users  with view permissions: Set(olivyatan, b_perso, *); groups with view permissions: Set(); users  with modify permissions: Set(olivyatan, b_perso); groups with modify permissions: Set()\n",
      "24/11/07 12:37:02 INFO deprecation: mapred.reduce.tasks is deprecated. Instead, use mapreduce.job.reduces\n",
      "24/11/07 12:37:03 INFO SparkContext: Running Spark version 3.1.1.0.1.0\n",
      "24/11/07 12:37:03 INFO ResourceUtils: ==============================================================\n",
      "24/11/07 12:37:03 INFO ResourceUtils: No custom resources configured for spark.driver.\n",
      "24/11/07 12:37:03 INFO ResourceUtils: ==============================================================\n",
      "24/11/07 12:37:03 INFO SparkContext: Submitted application: purchase-suppression-tmp\n",
      "24/11/07 12:37:03 INFO ResourceProfile: Default ResourceProfile created, executor resources: Map(memoryOverhead -> name: memoryOverhead, amount: 4096, script: , vendor: , cores -> name: cores, amount: 3, script: , vendor: , memory -> name: memory, amount: 20480, script: , vendor: , offHeap -> name: offHeap, amount: 0, script: , vendor: ), task resources: Map(cpus -> name: cpus, amount: 1.0)\n",
      "24/11/07 12:37:03 INFO ResourceProfile: Limiting resource is cpus at 3 tasks per executor\n",
      "24/11/07 12:37:03 INFO ResourceProfileManager: Added ResourceProfile id: 0\n",
      "24/11/07 12:37:03 INFO SecurityManager: Changing view acls to: olivyatan,b_perso,*\n",
      "24/11/07 12:37:03 INFO SecurityManager: Changing modify acls to: olivyatan,b_perso\n",
      "24/11/07 12:37:03 INFO SecurityManager: Changing view acls groups to: \n",
      "24/11/07 12:37:03 INFO SecurityManager: Changing modify acls groups to: \n",
      "24/11/07 12:37:03 INFO SecurityManager: SecurityManager: authentication disabled; ui acls disabled; users  with view permissions: Set(olivyatan, b_perso, *); groups with view permissions: Set(); users  with modify permissions: Set(olivyatan, b_perso); groups with modify permissions: Set()\n",
      "24/11/07 12:37:03 INFO Utils: Successfully started service 'sparkDriver' on port 30202.\n",
      "24/11/07 12:37:03 INFO SparkEnv: Registering MapOutputTracker\n",
      "24/11/07 12:37:03 INFO SparkEnv: Registering BlockManagerMaster\n",
      "24/11/07 12:37:03 INFO BlockManagerMasterEndpoint: Using org.apache.spark.storage.DefaultTopologyMapper for getting topology information\n",
      "24/11/07 12:37:03 INFO BlockManagerMasterEndpoint: BlockManagerMasterEndpoint up\n",
      "24/11/07 12:37:03 INFO SparkEnv: Registering BlockManagerMasterHeartbeat\n",
      "24/11/07 12:37:03 INFO DiskBlockManager: Created local directory at /tmp/blockmgr-09129635-c6ee-4034-8bc1-71ac9163881f\n",
      "24/11/07 12:37:03 INFO MemoryStore: MemoryStore started with capacity 10.5 GiB\n",
      "24/11/07 12:37:03 INFO SparkEnv: Registering OutputCommitCoordinator\n",
      "24/11/07 12:37:03 INFO log: Logging initialized @3303ms to org.sparkproject.jetty.util.log.Slf4jLog\n",
      "24/11/07 12:37:03 INFO Server: jetty-9.4.36.v20210114; built: 2021-01-14T16:44:28.689Z; git: 238ec6997c7806b055319a6d11f8ae7564adc0de; jvm 1.8.0_292-b10\n",
      "24/11/07 12:37:03 INFO Server: Started @3413ms\n",
      "24/11/07 12:37:04 INFO AbstractConnector: Started ServerConnector@4ba6443f{HTTP/1.1, (http/1.1)}{0.0.0.0:30401}\n",
      "24/11/07 12:37:04 INFO Utils: Successfully started service 'SparkUI' on port 30401.\n",
      "24/11/07 12:37:04 INFO ContextHandler: Started o.s.j.s.ServletContextHandler@bc9fc63{/jobs,null,AVAILABLE,@Spark}\n",
      "24/11/07 12:37:04 INFO ContextHandler: Started o.s.j.s.ServletContextHandler@7fe479b2{/jobs/json,null,AVAILABLE,@Spark}\n",
      "24/11/07 12:37:04 INFO ContextHandler: Started o.s.j.s.ServletContextHandler@368656df{/jobs/job,null,AVAILABLE,@Spark}\n",
      "24/11/07 12:37:04 INFO ContextHandler: Started o.s.j.s.ServletContextHandler@3684e734{/jobs/job/json,null,AVAILABLE,@Spark}\n",
      "24/11/07 12:37:04 INFO ContextHandler: Started o.s.j.s.ServletContextHandler@f446bc0{/stages,null,AVAILABLE,@Spark}\n",
      "24/11/07 12:37:04 INFO ContextHandler: Started o.s.j.s.ServletContextHandler@511c603f{/stages/json,null,AVAILABLE,@Spark}\n",
      "24/11/07 12:37:04 INFO ContextHandler: Started o.s.j.s.ServletContextHandler@4cd70ce9{/stages/stage,null,AVAILABLE,@Spark}\n",
      "24/11/07 12:37:04 INFO ContextHandler: Started o.s.j.s.ServletContextHandler@25dae2d8{/stages/stage/json,null,AVAILABLE,@Spark}\n",
      "24/11/07 12:37:04 INFO ContextHandler: Started o.s.j.s.ServletContextHandler@6b1e7486{/stages/pool,null,AVAILABLE,@Spark}\n",
      "24/11/07 12:37:04 INFO ContextHandler: Started o.s.j.s.ServletContextHandler@387dde2d{/stages/pool/json,null,AVAILABLE,@Spark}\n",
      "24/11/07 12:37:04 INFO ContextHandler: Started o.s.j.s.ServletContextHandler@18ad04bd{/storage,null,AVAILABLE,@Spark}\n",
      "24/11/07 12:37:04 INFO ContextHandler: Started o.s.j.s.ServletContextHandler@1d2bfa93{/storage/json,null,AVAILABLE,@Spark}\n",
      "24/11/07 12:37:04 INFO ContextHandler: Started o.s.j.s.ServletContextHandler@127047c2{/storage/rdd,null,AVAILABLE,@Spark}\n",
      "24/11/07 12:37:04 INFO ContextHandler: Started o.s.j.s.ServletContextHandler@15b20193{/storage/rdd/json,null,AVAILABLE,@Spark}\n",
      "24/11/07 12:37:04 INFO ContextHandler: Started o.s.j.s.ServletContextHandler@26b9d501{/environment,null,AVAILABLE,@Spark}\n",
      "24/11/07 12:37:04 INFO ContextHandler: Started o.s.j.s.ServletContextHandler@812c274{/environment/json,null,AVAILABLE,@Spark}\n",
      "24/11/07 12:37:04 INFO ContextHandler: Started o.s.j.s.ServletContextHandler@6856307d{/executors,null,AVAILABLE,@Spark}\n",
      "24/11/07 12:37:04 INFO ContextHandler: Started o.s.j.s.ServletContextHandler@340468c5{/executors/json,null,AVAILABLE,@Spark}\n",
      "24/11/07 12:37:04 INFO ContextHandler: Started o.s.j.s.ServletContextHandler@123dfc7e{/executors/threadDump,null,AVAILABLE,@Spark}\n",
      "24/11/07 12:37:04 INFO ContextHandler: Started o.s.j.s.ServletContextHandler@77f501b6{/executors/threadDump/json,null,AVAILABLE,@Spark}\n",
      "24/11/07 12:37:04 INFO ContextHandler: Started o.s.j.s.ServletContextHandler@4ee6afff{/static,null,AVAILABLE,@Spark}\n",
      "24/11/07 12:37:04 INFO ContextHandler: Started o.s.j.s.ServletContextHandler@1acdb0de{/,null,AVAILABLE,@Spark}\n",
      "24/11/07 12:37:04 INFO ContextHandler: Started o.s.j.s.ServletContextHandler@3d31f026{/api,null,AVAILABLE,@Spark}\n",
      "24/11/07 12:37:04 INFO ContextHandler: Started o.s.j.s.ServletContextHandler@52c7783e{/jobs/job/kill,null,AVAILABLE,@Spark}\n",
      "24/11/07 12:37:04 INFO ContextHandler: Started o.s.j.s.ServletContextHandler@5af59b38{/stages/stage/kill,null,AVAILABLE,@Spark}\n",
      "24/11/07 12:37:04 INFO SparkUI: Bound SparkUI to 0.0.0.0, and started at http://10.198.242.32:30401\n",
      "24/11/07 12:37:04 INFO SparkContext: Added file /data/shpx/notebooks/hroitman/Purchase-Suppression/feature_helpers.py at spark://10.198.242.32:30202/files/feature_helpers.py with timestamp 1730983023050\n",
      "24/11/07 12:37:04 INFO Utils: Copying /data/shpx/notebooks/hroitman/Purchase-Suppression/feature_helpers.py to /tmp/spark-45e358cc-ef8d-475b-8a78-a92ca4290cca/userFiles-1dbafab8-d833-4971-8003-2d2e61d2b08c/feature_helpers.py\n",
      "24/11/07 12:37:04 INFO HadoopDelegationTokenManager: Attempting to load user's ticket cache.\n",
      "24/11/07 12:37:04 INFO HadoopFSDelegationTokenProvider: getting token for: org.apache.hadoop.fs.viewfs.ViewFileSystem@410d6a4c with renewer rm/apollo-rno-rm-1.vip.hadoop.ebay.com@PROD.EBAY.COM\n",
      "24/11/07 12:37:05 INFO DFSClient: Created token for b_perso: HDFS_DELEGATION_TOKEN owner=b_perso@PROD.EBAY.COM, renewer=yarn, realUser=, issueDate=1730983025328, maxDate=1731587825328, sequenceNumber=256093788, masterKeyId=34950 on ha-hdfs:apollo-router\n",
      "24/11/07 12:37:05 INFO HadoopFSDelegationTokenProvider: getting token for: org.apache.hadoop.fs.viewfs.ViewFileSystem@410d6a4c with renewer b_perso@PROD.EBAY.COM\n",
      "24/11/07 12:37:05 INFO DFSClient: Created token for b_perso: HDFS_DELEGATION_TOKEN owner=b_perso@PROD.EBAY.COM, renewer=b_perso, realUser=, issueDate=1730983025370, maxDate=1731587825370, sequenceNumber=256093789, masterKeyId=34950 on ha-hdfs:apollo-router\n",
      "24/11/07 12:37:05 INFO HadoopFSDelegationTokenProvider: Renewal interval is 86400151 for token HDFS_DELEGATION_TOKEN\n",
      "24/11/07 12:37:06 INFO HiveConf: Found configuration file file:/apache/releases/apache-hive-1.2.1000.2.6.4.2.0.23-bin/conf/hive-site.xml\n",
      "24/11/07 12:37:07 WARN HiveConf: DEPRECATED: hive.metastore.ds.retry.* no longer has any effect.  Use hive.hmshandler.retry.* instead\n",
      "24/11/07 12:37:07 WARN HiveConf: HiveConf of name hive.metastore.local does not exist\n",
      "24/11/07 12:37:07 WARN HiveConf: HiveConf of name hive.enforce.sorting does not exist\n",
      "24/11/07 12:37:07 WARN HiveConf: HiveConf of name hive.server2.proxyuser.hue.groups does not exist\n",
      "24/11/07 12:37:07 WARN HiveConf: HiveConf of name hive.server2.proxyuser.hue.hosts does not exist\n",
      "24/11/07 12:37:07 WARN HiveConf: HiveConf of name hive.metastore.ds.retry.interval does not exist\n",
      "24/11/07 12:37:07 WARN HiveConf: HiveConf of name hive.enforce.bucketing does not exist\n",
      "24/11/07 12:37:07 WARN HiveConf: HiveConf of name hive.metastore.ds.retry.attempts does not exist\n",
      "24/11/07 12:37:07 WARN HiveConf: HiveConf of name hive.server2.enable.impersonation does not exist\n",
      "24/11/07 12:37:07 INFO deprecation: mapred.reduce.tasks is deprecated. Instead, use mapreduce.job.reduces\n",
      "24/11/07 12:37:07 INFO SparkHadoopUtil: Updating delegation tokens for current user.\n",
      "24/11/07 12:37:07 INFO Utils: Using initial executors = 10, max of spark.dynamicAllocation.initialExecutors, spark.dynamicAllocation.minExecutors and spark.executor.instances\n",
      "24/11/07 12:37:07 INFO RemoteConfig: Merged with remote configs\n",
      "24/11/07 12:37:08 INFO Client: Requesting a new application from cluster with 12740 NodeManagers\n",
      "24/11/07 12:37:08 INFO Configuration: resource-types.xml not found\n",
      "24/11/07 12:37:08 INFO ResourceUtils: Unable to find 'resource-types.xml'.\n",
      "24/11/07 12:37:08 INFO Client: Verifying our application has not requested more than the maximum memory capability of the cluster (65536 MB per container)\n",
      "24/11/07 12:37:08 INFO Client: Will allocate AM container, with 4505 MB memory including 409 MB overhead\n",
      "24/11/07 12:37:08 INFO Client: Setting up container launch context for our AM\n",
      "24/11/07 12:37:08 INFO Client: Setting up the launch environment for our AM container\n",
      "24/11/07 12:37:08 INFO Client: Preparing resources for our AM container\n",
      "24/11/07 12:37:08 WARN Client: Neither spark.yarn.jars nor spark.yarn.archive is set, falling back to uploading libraries under SPARK_HOME.\n",
      "24/11/07 12:37:09 INFO Client: Uploading resource file:/tmp/spark-45e358cc-ef8d-475b-8a78-a92ca4290cca/__spark_libs__4172902259972219679.zip -> viewfs://apollo-rno/user/b_perso/.sparkStaging/application_1728324362732_7746261/__spark_libs__4172902259972219679.zip\n",
      "24/11/07 12:37:11 INFO Client: Uploading resource file:/data/shpx/notebooks/hroitman/Purchase-Suppression/feature_helpers.py -> viewfs://apollo-rno/user/b_perso/.sparkStaging/application_1728324362732_7746261/feature_helpers.py\n",
      "24/11/07 12:37:12 INFO Client: Uploading resource file:/data/shpx/data/mpalei/spark-3.1.1.0.1.0-bin-ebay/python/lib/pyspark.zip -> viewfs://apollo-rno/user/b_perso/.sparkStaging/application_1728324362732_7746261/pyspark.zip\n",
      "24/11/07 12:37:12 INFO Client: Uploading resource file:/data/shpx/data/mpalei/spark-3.1.1.0.1.0-bin-ebay/python/lib/py4j-0.10.9-src.zip -> viewfs://apollo-rno/user/b_perso/.sparkStaging/application_1728324362732_7746261/py4j-0.10.9-src.zip\n",
      "24/11/07 12:37:12 INFO Client: Uploading resource file:/tmp/spark-45e358cc-ef8d-475b-8a78-a92ca4290cca/__spark_conf__5993096617929808816.zip -> viewfs://apollo-rno/user/b_perso/.sparkStaging/application_1728324362732_7746261/__spark_conf__.zip\n",
      "24/11/07 12:37:12 INFO SecurityManager: Changing view acls to: olivyatan,b_perso,*\n",
      "24/11/07 12:37:12 INFO SecurityManager: Changing modify acls to: olivyatan,b_perso\n",
      "24/11/07 12:37:12 INFO SecurityManager: Changing view acls groups to: \n",
      "24/11/07 12:37:12 INFO SecurityManager: Changing modify acls groups to: \n",
      "24/11/07 12:37:12 INFO SecurityManager: SecurityManager: authentication disabled; ui acls disabled; users  with view permissions: Set(olivyatan, b_perso, *); groups with view permissions: Set(); users  with modify permissions: Set(olivyatan, b_perso); groups with modify permissions: Set()\n",
      "24/11/07 12:37:12 INFO Client: Submitting application application_1728324362732_7746261 to ResourceManager\n",
      "24/11/07 12:37:14 INFO YarnClientImpl: Application submission is not finished, submitted application application_1728324362732_7746261 is still in SUBMITTED\n",
      "24/11/07 12:37:16 INFO YarnClientImpl: Application submission is not finished, submitted application application_1728324362732_7746261 is still in SUBMITTED\n",
      "24/11/07 12:37:17 INFO YarnClientImpl: Submitted application application_1728324362732_7746261\n",
      "24/11/07 12:37:18 INFO Client: Application report for application_1728324362732_7746261 (state: ACCEPTED)\n",
      "24/11/07 12:37:18 INFO Client: \n",
      "\t client token: N/A\n",
      "\t diagnostics: N/A\n",
      "\t ApplicationMaster host: N/A\n",
      "\t ApplicationMaster RPC port: -1\n",
      "\t queue: hddq-exprce-perso-high-mem\n",
      "\t start time: 1730983032380\n",
      "\t final status: UNDEFINED\n",
      "\t tracking URL: https://apollo-rno-rm-1.vip.hadoop.ebay.com:50030/proxy/application_1728324362732_7746261/\n",
      "\t user: b_perso\n",
      "24/11/07 12:37:19 INFO Client: Application report for application_1728324362732_7746261 (state: ACCEPTED)\n",
      "24/11/07 12:37:20 INFO Client: Application report for application_1728324362732_7746261 (state: ACCEPTED)\n",
      "24/11/07 12:37:21 INFO Client: Application report for application_1728324362732_7746261 (state: ACCEPTED)\n",
      "24/11/07 12:37:22 INFO Client: Application report for application_1728324362732_7746261 (state: ACCEPTED)\n",
      "24/11/07 12:37:23 INFO Client: Application report for application_1728324362732_7746261 (state: ACCEPTED)\n",
      "24/11/07 12:37:24 INFO Client: Application report for application_1728324362732_7746261 (state: ACCEPTED)\n",
      "24/11/07 12:37:25 INFO Client: Application report for application_1728324362732_7746261 (state: ACCEPTED)\n",
      "24/11/07 12:37:26 INFO Client: Application report for application_1728324362732_7746261 (state: ACCEPTED)\n",
      "24/11/07 12:37:27 INFO Client: Application report for application_1728324362732_7746261 (state: ACCEPTED)\n",
      "24/11/07 12:37:28 INFO Client: Application report for application_1728324362732_7746261 (state: ACCEPTED)\n",
      "24/11/07 12:37:29 INFO Client: Application report for application_1728324362732_7746261 (state: ACCEPTED)\n",
      "24/11/07 12:37:30 INFO Client: Application report for application_1728324362732_7746261 (state: RUNNING)\n",
      "24/11/07 12:37:30 INFO Client: \n",
      "\t client token: Token { kind: YARN_CLIENT_TOKEN, service:  }\n",
      "\t diagnostics: N/A\n",
      "\t ApplicationMaster host: 10.52.237.70\n",
      "\t ApplicationMaster RPC port: -1\n",
      "\t queue: hddq-exprce-perso-high-mem\n",
      "\t start time: 1730983032380\n",
      "\t final status: UNDEFINED\n",
      "\t tracking URL: https://apollo-rno-rm-1.vip.hadoop.ebay.com:50030/proxy/application_1728324362732_7746261/\n",
      "\t user: b_perso\n",
      "24/11/07 12:37:30 INFO YarnClientSchedulerBackend: Application application_1728324362732_7746261 has started running.\n",
      "24/11/07 12:37:30 INFO Utils: Successfully started service 'org.apache.spark.network.netty.NettyBlockTransferService' on port 30601.\n",
      "24/11/07 12:37:30 INFO NettyBlockTransferService: Server created on 10.198.242.32:30601\n",
      "24/11/07 12:37:30 INFO BlockManager: Using org.apache.spark.storage.RandomBlockReplicationPolicy for block replication policy\n",
      "24/11/07 12:37:30 INFO BlockManagerMaster: Registering BlockManager BlockManagerId(driver, 10.198.242.32, 30601, None)\n",
      "24/11/07 12:37:30 INFO BlockManagerMasterEndpoint: Registering block manager 10.198.242.32:30601 with 10.5 GiB RAM, BlockManagerId(driver, 10.198.242.32, 30601, None)\n",
      "24/11/07 12:37:30 INFO BlockManagerMaster: Registered BlockManager BlockManagerId(driver, 10.198.242.32, 30601, None)\n",
      "24/11/07 12:37:30 INFO BlockManager: external shuffle service port = 7337\n",
      "24/11/07 12:37:30 INFO BlockManager: Initialized BlockManager: BlockManagerId(driver, 10.198.242.32, 30601, None)\n",
      "24/11/07 12:37:30 INFO ContextHandler: Started o.s.j.s.ServletContextHandler@2e475991{/metrics/json,null,AVAILABLE,@Spark}\n",
      "24/11/07 12:37:30 INFO YarnClientSchedulerBackend: Add WebUI Filter. org.apache.hadoop.yarn.server.webproxy.amfilter.AmIpFilter, Map(PROXY_HOSTS -> apollo-rno-rm-1.vip.hadoop.ebay.com,apollo-rno-rm-2.vip.hadoop.ebay.com, PROXY_URI_BASES -> https://apollo-rno-rm-1.vip.hadoop.ebay.com:50030/proxy/application_1728324362732_7746261,https://apollo-rno-rm-2.vip.hadoop.ebay.com:50030/proxy/application_1728324362732_7746261, RM_HA_URLS -> apollo-rno-rm-1.vip.hadoop.ebay.com:50030,apollo-rno-rm-2.vip.hadoop.ebay.com:50030), /proxy/application_1728324362732_7746261\n",
      "24/11/07 12:37:30 INFO SingleEventLogFileWriter: Logging events to hdfs://apollo-rno/spark-logs/application_1728324362732_7746261.lz4.inprogress\n",
      "24/11/07 12:37:30 INFO Utils: Using initial executors = 10, max of spark.dynamicAllocation.initialExecutors, spark.dynamicAllocation.minExecutors and spark.executor.instances\n",
      "24/11/07 12:37:30 WARN YarnSchedulerBackend$YarnSchedulerEndpoint: Attempted to request executors before the AM has registered!\n",
      "24/11/07 12:37:31 INFO YarnSchedulerBackend$YarnSchedulerEndpoint: ApplicationMaster registered as NettyRpcEndpointRef(spark-client://YarnAM)\n",
      "24/11/07 12:37:34 INFO YarnClientSchedulerBackend: SchedulerBackend is ready for scheduling beginning after waiting maxRegisteredResourcesWaitingTime: 30000000000(ns)\n",
      "24/11/07 12:37:34 INFO SharedState: Setting hive.metastore.warehouse.dir ('/user/hive/warehouse') to the value of spark.sql.warehouse.dir ('/user/hive/warehouse').\n",
      "24/11/07 12:37:34 INFO SharedState: Warehouse path is '/user/hive/warehouse'.\n",
      "24/11/07 12:37:34 INFO ServerInfo: Adding filter to /SQL: org.apache.hadoop.yarn.server.webproxy.amfilter.AmIpFilter\n",
      "24/11/07 12:37:34 INFO ContextHandler: Started o.s.j.s.ServletContextHandler@2a7fe8e0{/SQL,null,AVAILABLE,@Spark}\n",
      "24/11/07 12:37:34 INFO ServerInfo: Adding filter to /SQL/json: org.apache.hadoop.yarn.server.webproxy.amfilter.AmIpFilter\n",
      "24/11/07 12:37:34 INFO ContextHandler: Started o.s.j.s.ServletContextHandler@296e1e18{/SQL/json,null,AVAILABLE,@Spark}\n",
      "24/11/07 12:37:34 INFO ServerInfo: Adding filter to /SQL/execution: org.apache.hadoop.yarn.server.webproxy.amfilter.AmIpFilter\n",
      "24/11/07 12:37:34 INFO ContextHandler: Started o.s.j.s.ServletContextHandler@59984be5{/SQL/execution,null,AVAILABLE,@Spark}\n",
      "24/11/07 12:37:34 INFO ServerInfo: Adding filter to /SQL/execution/json: org.apache.hadoop.yarn.server.webproxy.amfilter.AmIpFilter\n",
      "24/11/07 12:37:34 INFO ContextHandler: Started o.s.j.s.ServletContextHandler@1708f2aa{/SQL/execution/json,null,AVAILABLE,@Spark}\n",
      "24/11/07 12:37:34 INFO ServerInfo: Adding filter to /static/sql: org.apache.hadoop.yarn.server.webproxy.amfilter.AmIpFilter\n",
      "24/11/07 12:37:34 INFO ContextHandler: Started o.s.j.s.ServletContextHandler@6d94220b{/static/sql,null,AVAILABLE,@Spark}\n"
     ]
    }
   ],
   "source": [
    "from utils import spark_session, save_table\n",
    "\n",
    "session = spark_session(\"purchase-suppression-tmp\")"
   ]
  },
  {
   "cell_type": "markdown",
   "id": "2149d91c-3ccd-4075-8c17-fd507bac77f9",
   "metadata": {},
   "source": [
    "## Load data:"
   ]
  },
  {
   "cell_type": "code",
   "execution_count": 2,
   "id": "7d64439c-2576-4856-9112-4139ace876a0",
   "metadata": {
    "tags": []
   },
   "outputs": [],
   "source": [
    "import features as F\n",
    "\n",
    "df_smp = session.table(\"bx_ps_samples_enriched_1\")\n",
    "df_prch = session.table(\"bx_ps_user_prch_hist_1\")\n",
    "df_vi = session.table(\"bx_ps_user_vi_hist_1\")"
   ]
  },
  {
   "cell_type": "code",
   "execution_count": 3,
   "id": "d9a047c6-490d-4d35-b7c3-c75e42cb1a49",
   "metadata": {},
   "outputs": [],
   "source": [
    "from pyspark.sql import functions as F\n",
    "import feature_helpers as fe\n",
    "from pyspark.sql.types import FloatType\n",
    "import numpy as np\n",
    "from pyspark.sql import Window   "
   ]
  },
  {
   "cell_type": "code",
   "execution_count": 4,
   "id": "5de532fd-99af-47cf-80d0-3fd13d6f0fae",
   "metadata": {},
   "outputs": [],
   "source": [
    "def add_feature(df_base, df_feature, feature_name=None, join_key=\"ITEM_ID\", na_value=None, how=\"inner\"):\n",
    "    df_res = df_base.join(df_feature, on=[\"BUYER_ID\", join_key, \"EVENT_TIMESTAMP\"], how=how)\n",
    "   # if na_value:\n",
    "    if na_value is not None and feature_name:\n",
    "        df_res = df_res.fillna(na_value, subset=[feature_name])\n",
    "    return df_res"
   ]
  },
  {
   "cell_type": "code",
   "execution_count": 5,
   "id": "e8e0a256-8136-4786-b2c8-8dfb1c0af45e",
   "metadata": {},
   "outputs": [],
   "source": [
    "def _leaf_condition(df1, df2, cat_type=\"LEAF\"):\n",
    "    if cat_type == \"LEAF\":\n",
    "        return (df1.LEAF_CATEG_ID == df2.LEAF_CATEG_ID)\n",
    "    elif cat_type == \"LVL2\":\n",
    "        return (df1.CATEG_LVL2_ID == df2.CATEG_LVL2_ID)\n",
    "    else:\n",
    "        return (df1.META_CATEG_ID == df2.META_CATEG_ID) \n",
    "    \n",
    "def _leaf_id_col(df, cat_type=\"LEAF\"):\n",
    "    if cat_type == \"LEAF\":\n",
    "        return df.LEAF_CATEG_ID\n",
    "    elif cat_type == \"LVL2\":\n",
    "        return df.CATEG_LVL2_ID\n",
    "    else:\n",
    "        return df.META_CATEG_ID\n",
    "    \n",
    "def _leaf_name_col(df, cat_type=\"LEAF\"):\n",
    "    if cat_type == \"LEAF\":\n",
    "        return df.LEAF_CATEG_NAME\n",
    "    elif cat_type == \"LVL2\":\n",
    "        return df.CATEG_LVL2_NAME\n",
    "    else:\n",
    "        return df.META_CATEG_NAME\n"
   ]
  },
  {
   "cell_type": "markdown",
   "id": "90557b49-dd45-404b-a397-dd04f82a2db7",
   "metadata": {},
   "source": [
    "## Features calc:"
   ]
  },
  {
   "cell_type": "code",
   "execution_count": 3,
   "id": "613efb66-04db-4529-a9f6-6bcf3f7e670a",
   "metadata": {
    "tags": []
   },
   "outputs": [],
   "source": [
    "# time_since_last_action_from_cat_in_days\n",
    "df_ft = F.f_time_since_last_action_from_cat_in_days(df_smp, df_prch, cat_type=\"LEAF\", action_type=\"purchase\")\n",
    "df_res = F.add_feature(df_smp, df_ft, join_key=\"LEAF_CATEG_ID\")\n",
    "\n",
    "df_ft = F.f_time_since_last_action_from_cat_in_days(df_smp, df_prch, cat_type=\"LVL2\", action_type=\"purchase\")\n",
    "df_res = F.add_feature(df_res, df_ft, join_key=\"CATEG_LVL2_ID\")\n",
    "\n",
    "df_ft = F.f_time_since_last_action_from_cat_in_days(df_smp, df_prch, cat_type=\"META\", action_type=\"purchase\")\n",
    "df_res = F.add_feature(df_res, df_ft, join_key=\"META_CATEG_ID\")\n",
    "\n",
    "df_ft = F.f_time_since_last_action_from_cat_in_days(df_smp, df_vi, cat_type=\"LEAF\", action_type=\"view\")\n",
    "df_res = F.add_feature(df_res, df_ft, join_key=\"LEAF_CATEG_ID\")\n",
    "\n",
    "df_ft = F.f_time_since_last_action_from_cat_in_days(df_smp, df_vi, cat_type=\"LVL2\", action_type=\"view\")\n",
    "df_res = F.add_feature(df_res, df_ft, join_key=\"CATEG_LVL2_ID\")\n",
    "\n",
    "df_ft = F.f_time_since_last_action_from_cat_in_days(df_smp, df_vi, cat_type=\"META\", action_type=\"view\")\n",
    "df_res = F.add_feature(df_res, df_ft, join_key=\"META_CATEG_ID\")\n",
    "\n",
    "\n",
    "#num_actions_from_cat_in_last_x_days\n",
    "df_ft = F.f_num_actions_from_cat_in_last_x_days(df_smp, df_prch, cat_type=\"LEAF\", days=1, action_type=\"purchase\")\n",
    "df_res = F.add_feature(df_res, df_ft, join_key=\"LEAF_CATEG_ID\")\n",
    "\n",
    "df_ft = F.f_num_actions_from_cat_in_last_x_days(df_smp, df_prch, cat_type=\"LEAF\", days=2, action_type=\"purchase\")\n",
    "df_res = F.add_feature(df_res, df_ft, join_key=\"LEAF_CATEG_ID\")\n",
    "\n",
    "df_ft = F.f_num_actions_from_cat_in_last_x_days(df_smp, df_prch, cat_type=\"LEAF\", days=5, action_type=\"purchase\")\n",
    "df_res = F.add_feature(df_res, df_ft, join_key=\"LEAF_CATEG_ID\")\n",
    "\n",
    "df_ft = F.f_num_actions_from_cat_in_last_x_days(df_smp, df_prch, cat_type=\"LEAF\", days=7, action_type=\"purchase\")\n",
    "df_res = F.add_feature(df_res, df_ft, join_key=\"LEAF_CATEG_ID\")\n",
    "\n",
    "df_ft = F.f_num_actions_from_cat_in_last_x_days(df_smp, df_prch, cat_type=\"LEAF\", days=14, action_type=\"purchase\")\n",
    "df_res = F.add_feature(df_res, df_ft, join_key=\"LEAF_CATEG_ID\")\n",
    "\n",
    "df_ft = F.f_num_actions_from_cat_in_last_x_days(df_smp, df_prch, cat_type=\"LEAF\", days=30, action_type=\"purchase\")\n",
    "df_res = F.add_feature(df_res, df_ft, join_key=\"LEAF_CATEG_ID\")\n",
    "\n",
    "df_ft = F.f_num_actions_from_cat_in_last_x_days(df_smp, df_prch, cat_type=\"LEAF\", days=60, action_type=\"purchase\")\n",
    "df_res = F.add_feature(df_res, df_ft, join_key=\"LEAF_CATEG_ID\")\n",
    "\n",
    "df_ft = F.f_num_actions_from_cat_in_last_x_days(df_smp, df_prch, cat_type=\"LEAF\", days=90, action_type=\"purchase\")\n",
    "df_res = F.add_feature(df_res, df_ft, join_key=\"LEAF_CATEG_ID\")\n",
    "\n",
    "df_ft = F.f_num_actions_from_cat_in_last_x_days(df_smp, df_prch, cat_type=\"LEAF\", days=180, action_type=\"purchase\")\n",
    "df_res = F.add_feature(df_res, df_ft, join_key=\"LEAF_CATEG_ID\")\n",
    "\n",
    "df_ft = F.f_num_actions_from_cat_in_last_x_days(df_smp, df_prch, cat_type=\"LEAF\", days=360, action_type=\"purchase\")\n",
    "df_res = F.add_feature(df_res, df_ft, join_key=\"LEAF_CATEG_ID\")\n",
    "\n",
    "df_ft = F.f_num_actions_from_cat_in_last_x_days(df_smp, df_prch, cat_type=\"LVL2\", days=1, action_type=\"purchase\")\n",
    "df_res = F.add_feature(df_res, df_ft, join_key=\"CATEG_LVL2_ID\")\n",
    "\n",
    "df_ft = F.f_num_actions_from_cat_in_last_x_days(df_smp, df_prch, cat_type=\"LVL2\", days=2, action_type=\"purchase\")\n",
    "df_res = F.add_feature(df_res, df_ft, join_key=\"CATEG_LVL2_ID\")\n",
    "\n",
    "df_ft = F.f_num_actions_from_cat_in_last_x_days(df_smp, df_prch, cat_type=\"LVL2\", days=5, action_type=\"purchase\")\n",
    "df_res = F.add_feature(df_res, df_ft, join_key=\"CATEG_LVL2_ID\")\n",
    "\n",
    "df_ft = F.f_num_actions_from_cat_in_last_x_days(df_smp, df_prch, cat_type=\"LVL2\", days=7, action_type=\"purchase\")\n",
    "df_res = F.add_feature(df_res, df_ft, join_key=\"CATEG_LVL2_ID\")\n",
    "\n",
    "df_ft = F.f_num_actions_from_cat_in_last_x_days(df_smp, df_prch, cat_type=\"LVL2\", days=14, action_type=\"purchase\")\n",
    "df_res = F.add_feature(df_res, df_ft, join_key=\"CATEG_LVL2_ID\")\n",
    "\n",
    "df_ft = F.f_num_actions_from_cat_in_last_x_days(df_smp, df_prch, cat_type=\"LVL2\", days=30, action_type=\"purchase\")\n",
    "df_res = F.add_feature(df_res, df_ft, join_key=\"CATEG_LVL2_ID\")\n",
    "\n",
    "df_ft = F.f_num_actions_from_cat_in_last_x_days(df_smp, df_prch, cat_type=\"LVL2\", days=60, action_type=\"purchase\")\n",
    "df_res = F.add_feature(df_res, df_ft, join_key=\"CATEG_LVL2_ID\")\n",
    "\n",
    "df_ft = F.f_num_actions_from_cat_in_last_x_days(df_smp, df_prch, cat_type=\"LVL2\", days=90, action_type=\"purchase\")\n",
    "df_res = F.add_feature(df_res, df_ft, join_key=\"CATEG_LVL2_ID\")\n",
    "\n",
    "df_ft = F.f_num_actions_from_cat_in_last_x_days(df_smp, df_prch, cat_type=\"LVL2\", days=180, action_type=\"purchase\")\n",
    "df_res = F.add_feature(df_res, df_ft, join_key=\"CATEG_LVL2_ID\")\n",
    "\n",
    "df_ft = F.f_num_actions_from_cat_in_last_x_days(df_smp, df_prch, cat_type=\"LVL2\", days=360, action_type=\"purchase\")\n",
    "df_res = F.add_feature(df_res, df_ft, join_key=\"CATEG_LVL2_ID\")\n",
    "\n",
    "df_ft = F.f_num_actions_from_cat_in_last_x_days(df_smp, df_prch, cat_type=\"META\", days=1, action_type=\"purchase\")\n",
    "df_res = F.add_feature(df_res, df_ft, join_key=\"META_CATEG_ID\")\n",
    "\n",
    "df_ft = F.f_num_actions_from_cat_in_last_x_days(df_smp, df_prch, cat_type=\"META\", days=2, action_type=\"purchase\")\n",
    "df_res = F.add_feature(df_res, df_ft, join_key=\"META_CATEG_ID\")\n",
    "\n",
    "df_ft = F.f_num_actions_from_cat_in_last_x_days(df_smp, df_prch, cat_type=\"META\", days=5, action_type=\"purchase\")\n",
    "df_res = F.add_feature(df_res, df_ft, join_key=\"META_CATEG_ID\")\n",
    "\n",
    "df_ft = F.f_num_actions_from_cat_in_last_x_days(df_smp, df_prch, cat_type=\"META\", days=7, action_type=\"purchase\")\n",
    "df_res = F.add_feature(df_res, df_ft, join_key=\"META_CATEG_ID\")\n",
    "\n",
    "df_ft = F.f_num_actions_from_cat_in_last_x_days(df_smp, df_prch, cat_type=\"META\", days=14, action_type=\"purchase\")\n",
    "df_res = F.add_feature(df_res, df_ft, join_key=\"META_CATEG_ID\")\n",
    "\n",
    "df_ft = F.f_num_actions_from_cat_in_last_x_days(df_smp, df_prch, cat_type=\"META\", days=30, action_type=\"purchase\")\n",
    "df_res = F.add_feature(df_res, df_ft, join_key=\"META_CATEG_ID\")\n",
    "\n",
    "df_ft = F.f_num_actions_from_cat_in_last_x_days(df_smp, df_prch, cat_type=\"META\", days=60, action_type=\"purchase\")\n",
    "df_res = F.add_feature(df_res, df_ft, join_key=\"META_CATEG_ID\")\n",
    "\n",
    "df_ft = F.f_num_actions_from_cat_in_last_x_days(df_smp, df_prch, cat_type=\"META\", days=90, action_type=\"purchase\")\n",
    "df_res = F.add_feature(df_res, df_ft, join_key=\"META_CATEG_ID\")\n",
    "\n",
    "df_ft = F.f_num_actions_from_cat_in_last_x_days(df_smp, df_prch, cat_type=\"META\", days=180, action_type=\"purchase\")\n",
    "df_res = F.add_feature(df_res, df_ft, join_key=\"META_CATEG_ID\")\n",
    "\n",
    "df_ft = F.f_num_actions_from_cat_in_last_x_days(df_smp, df_prch, cat_type=\"META\", days=360, action_type=\"purchase\")\n",
    "df_res = F.add_feature(df_res, df_ft, join_key=\"META_CATEG_ID\")\n",
    "\n",
    "df_ft = F.f_num_actions_from_cat_in_last_x_days(df_smp, df_vi, cat_type=\"LEAF\", days=1, action_type=\"view\")\n",
    "df_res = F.add_feature(df_res, df_ft, join_key=\"LEAF_CATEG_ID\")\n",
    "\n",
    "df_ft = F.f_num_actions_from_cat_in_last_x_days(df_smp, df_vi, cat_type=\"LEAF\", days=2, action_type=\"view\")\n",
    "df_res = F.add_feature(df_res, df_ft, join_key=\"LEAF_CATEG_ID\")\n",
    "\n",
    "df_ft = F.f_num_actions_from_cat_in_last_x_days(df_smp, df_vi, cat_type=\"LEAF\", days=5, action_type=\"view\")\n",
    "df_res = F.add_feature(df_res, df_ft, join_key=\"LEAF_CATEG_ID\")\n",
    "\n",
    "df_ft = F.f_num_actions_from_cat_in_last_x_days(df_smp, df_vi, cat_type=\"LEAF\", days=7, action_type=\"view\")\n",
    "df_res = F.add_feature(df_res, df_ft, join_key=\"LEAF_CATEG_ID\")\n",
    "\n",
    "df_ft = F.f_num_actions_from_cat_in_last_x_days(df_smp, df_vi, cat_type=\"LEAF\", days=14, action_type=\"view\")\n",
    "df_res = F.add_feature(df_res, df_ft, join_key=\"LEAF_CATEG_ID\")\n",
    "\n",
    "df_ft = F.f_num_actions_from_cat_in_last_x_days(df_smp, df_vi, cat_type=\"LEAF\", days=30, action_type=\"view\")\n",
    "df_res = F.add_feature(df_res, df_ft, join_key=\"LEAF_CATEG_ID\")\n",
    "\n",
    "df_ft = F.f_num_actions_from_cat_in_last_x_days(df_smp, df_vi, cat_type=\"LEAF\", days=60, action_type=\"view\")\n",
    "df_res = F.add_feature(df_res, df_ft, join_key=\"LEAF_CATEG_ID\")\n",
    "\n",
    "df_ft = F.f_num_actions_from_cat_in_last_x_days(df_smp, df_vi, cat_type=\"LEAF\", days=90, action_type=\"view\")\n",
    "df_res = F.add_feature(df_res, df_ft, join_key=\"LEAF_CATEG_ID\")\n",
    "\n",
    "df_ft = F.f_num_actions_from_cat_in_last_x_days(df_smp, df_vi, cat_type=\"LEAF\", days=180, action_type=\"view\")\n",
    "df_res = F.add_feature(df_res, df_ft, join_key=\"LEAF_CATEG_ID\")\n",
    "\n",
    "df_ft = F.f_num_actions_from_cat_in_last_x_days(df_smp, df_vi, cat_type=\"LEAF\", days=360, action_type=\"view\")\n",
    "df_res = F.add_feature(df_res, df_ft, join_key=\"LEAF_CATEG_ID\")\n",
    "\n",
    "df_ft = F.f_num_actions_from_cat_in_last_x_days(df_smp, df_vi, cat_type=\"LVL2\", days=1, action_type=\"view\")\n",
    "df_res = F.add_feature(df_res, df_ft, join_key=\"CATEG_LVL2_ID\")\n",
    "\n",
    "df_ft = F.f_num_actions_from_cat_in_last_x_days(df_smp, df_vi, cat_type=\"LVL2\", days=2, action_type=\"view\")\n",
    "df_res = F.add_feature(df_res, df_ft, join_key=\"CATEG_LVL2_ID\")\n",
    "\n",
    "df_ft = F.f_num_actions_from_cat_in_last_x_days(df_smp, df_vi, cat_type=\"LVL2\", days=5, action_type=\"view\")\n",
    "df_res = F.add_feature(df_res, df_ft, join_key=\"CATEG_LVL2_ID\")\n",
    "\n",
    "df_ft = F.f_num_actions_from_cat_in_last_x_days(df_smp, df_vi, cat_type=\"LVL2\", days=7, action_type=\"view\")\n",
    "df_res = F.add_feature(df_res, df_ft, join_key=\"CATEG_LVL2_ID\")\n",
    "\n",
    "df_ft = F.f_num_actions_from_cat_in_last_x_days(df_smp, df_vi, cat_type=\"LVL2\", days=14, action_type=\"view\")\n",
    "df_res = F.add_feature(df_res, df_ft, join_key=\"CATEG_LVL2_ID\")\n",
    "\n",
    "df_ft = F.f_num_actions_from_cat_in_last_x_days(df_smp, df_vi, cat_type=\"LVL2\", days=30, action_type=\"view\")\n",
    "df_res = F.add_feature(df_res, df_ft, join_key=\"CATEG_LVL2_ID\")\n",
    "\n",
    "df_ft = F.f_num_actions_from_cat_in_last_x_days(df_smp, df_vi, cat_type=\"LVL2\", days=60, action_type=\"view\")\n",
    "df_res = F.add_feature(df_res, df_ft, join_key=\"CATEG_LVL2_ID\")\n",
    "\n",
    "df_ft = F.f_num_actions_from_cat_in_last_x_days(df_smp, df_vi, cat_type=\"LVL2\", days=90, action_type=\"view\")\n",
    "df_res = F.add_feature(df_res, df_ft, join_key=\"CATEG_LVL2_ID\")\n",
    "\n",
    "df_ft = F.f_num_actions_from_cat_in_last_x_days(df_smp, df_vi, cat_type=\"LVL2\", days=180, action_type=\"view\")\n",
    "df_res = F.add_feature(df_res, df_ft, join_key=\"CATEG_LVL2_ID\")\n",
    "\n",
    "df_ft = F.f_num_actions_from_cat_in_last_x_days(df_smp, df_vi, cat_type=\"LVL2\", days=360, action_type=\"view\")\n",
    "df_res = F.add_feature(df_res, df_ft, join_key=\"CATEG_LVL2_ID\")\n",
    "\n",
    "df_ft = F.f_num_actions_from_cat_in_last_x_days(df_smp, df_vi, cat_type=\"META\", days=1, action_type=\"view\")\n",
    "df_res = F.add_feature(df_res, df_ft, join_key=\"META_CATEG_ID\")\n",
    "\n",
    "df_ft = F.f_num_actions_from_cat_in_last_x_days(df_smp, df_vi, cat_type=\"META\", days=2, action_type=\"view\")\n",
    "df_res = F.add_feature(df_res, df_ft, join_key=\"META_CATEG_ID\")\n",
    "\n",
    "df_ft = F.f_num_actions_from_cat_in_last_x_days(df_smp, df_vi, cat_type=\"META\", days=5, action_type=\"view\")\n",
    "df_res = F.add_feature(df_res, df_ft, join_key=\"META_CATEG_ID\")\n",
    "\n",
    "df_ft = F.f_num_actions_from_cat_in_last_x_days(df_smp, df_vi, cat_type=\"META\", days=7, action_type=\"view\")\n",
    "df_res = F.add_feature(df_res, df_ft, join_key=\"META_CATEG_ID\")\n",
    "\n",
    "df_ft = F.f_num_actions_from_cat_in_last_x_days(df_smp, df_vi, cat_type=\"META\", days=14, action_type=\"view\")\n",
    "df_res = F.add_feature(df_res, df_ft, join_key=\"META_CATEG_ID\")\n",
    "\n",
    "df_ft = F.f_num_actions_from_cat_in_last_x_days(df_smp, df_vi, cat_type=\"META\", days=30, action_type=\"view\")\n",
    "df_res = F.add_feature(df_res, df_ft, join_key=\"META_CATEG_ID\")\n",
    "\n",
    "df_ft = F.f_num_actions_from_cat_in_last_x_days(df_smp, df_vi, cat_type=\"META\", days=60, action_type=\"view\")\n",
    "df_res = F.add_feature(df_res, df_ft, join_key=\"META_CATEG_ID\")\n",
    "\n",
    "df_ft = F.f_num_actions_from_cat_in_last_x_days(df_smp, df_vi, cat_type=\"META\", days=90, action_type=\"view\")\n",
    "df_res = F.add_feature(df_res, df_ft, join_key=\"META_CATEG_ID\")\n",
    "\n",
    "df_ft = F.f_num_actions_from_cat_in_last_x_days(df_smp, df_vi, cat_type=\"META\", days=180, action_type=\"view\")\n",
    "df_res = F.add_feature(df_res, df_ft, join_key=\"META_CATEG_ID\")\n",
    "\n",
    "df_ft = F.f_num_actions_from_cat_in_last_x_days(df_smp, df_vi, cat_type=\"META\", days=360, action_type=\"view\")\n",
    "df_res = F.add_feature(df_res, df_ft, join_key=\"META_CATEG_ID\")"
   ]
  },
  {
   "cell_type": "code",
   "execution_count": 4,
   "id": "9cca7634-a4cd-4d2c-a581-09e2e0a961a5",
   "metadata": {
    "tags": []
   },
   "outputs": [],
   "source": [
    "#cat_propensity_sim\n",
    "df_ft = F.f_cat_propensity_sim(df_smp, df_prch, action_type=\"purchase\", cat_type=\"LEAF\", days=7)\n",
    "df_res = F.add_feature(df_res, df_ft, join_key=\"LEAF_CATEG_ID\", how=\"left\")\n",
    "\n",
    "df_ft = F.f_cat_propensity_sim(df_smp, df_prch, action_type=\"purchase\", cat_type=\"LEAF\", days=14)\n",
    "df_res = F.add_feature(df_res, df_ft, join_key=\"LEAF_CATEG_ID\", how=\"left\")\n",
    "\n",
    "df_ft = F.f_cat_propensity_sim(df_smp, df_prch, action_type=\"purchase\", cat_type=\"LEAF\", days=30)\n",
    "df_res = F.add_feature(df_res, df_ft, join_key=\"LEAF_CATEG_ID\", how=\"left\")\n",
    "\n",
    "df_ft = F.f_cat_propensity_sim(df_smp, df_prch, action_type=\"purchase\", cat_type=\"LEAF\", days=60)\n",
    "df_res = F.add_feature(df_res, df_ft, join_key=\"LEAF_CATEG_ID\", how=\"left\")\n",
    "\n",
    "df_ft = F.f_cat_propensity_sim(df_smp, df_prch, action_type=\"purchase\", cat_type=\"LEAF\", days=90)\n",
    "df_res = F.add_feature(df_res, df_ft, join_key=\"LEAF_CATEG_ID\", how=\"left\")\n",
    "\n",
    "df_ft = F.f_cat_propensity_sim(df_smp, df_prch, action_type=\"purchase\", cat_type=\"LEAF\", days=180)\n",
    "df_res = F.add_feature(df_res, df_ft, join_key=\"LEAF_CATEG_ID\", how=\"left\")\n",
    "\n",
    "df_ft = F.f_cat_propensity_sim(df_smp, df_prch, action_type=\"purchase\", cat_type=\"LEAF\", days=360)\n",
    "df_res = F.add_feature(df_res, df_ft, join_key=\"LEAF_CATEG_ID\", how=\"left\")\n",
    "\n",
    "df_ft = F.f_cat_propensity_sim(df_smp, df_prch, action_type=\"purchase\", cat_type=\"LVL2\", days=7)\n",
    "df_res = F.add_feature(df_res, df_ft, join_key=\"CATEG_LVL2_ID\", how=\"left\")\n",
    "\n",
    "df_ft = F.f_cat_propensity_sim(df_smp, df_prch, action_type=\"purchase\", cat_type=\"LVL2\", days=14)\n",
    "df_res = F.add_feature(df_res, df_ft, join_key=\"CATEG_LVL2_ID\", how=\"left\")\n",
    "\n",
    "df_ft = F.f_cat_propensity_sim(df_smp, df_prch, action_type=\"purchase\", cat_type=\"LVL2\", days=30)\n",
    "df_res = F.add_feature(df_res, df_ft, join_key=\"CATEG_LVL2_ID\", how=\"left\")\n",
    "\n",
    "df_ft = F.f_cat_propensity_sim(df_smp, df_prch, action_type=\"purchase\", cat_type=\"LVL2\", days=60)\n",
    "df_res = F.add_feature(df_res, df_ft, join_key=\"CATEG_LVL2_ID\", how=\"left\")\n",
    "\n",
    "df_ft = F.f_cat_propensity_sim(df_smp, df_prch, action_type=\"purchase\", cat_type=\"LVL2\", days=90)\n",
    "df_res = F.add_feature(df_res, df_ft, join_key=\"CATEG_LVL2_ID\", how=\"left\")\n",
    "\n",
    "df_ft = F.f_cat_propensity_sim(df_smp, df_prch, action_type=\"purchase\", cat_type=\"LVL2\", days=180)\n",
    "df_res = F.add_feature(df_res, df_ft, join_key=\"CATEG_LVL2_ID\", how=\"left\")\n",
    "\n",
    "df_ft = F.f_cat_propensity_sim(df_smp, df_prch, action_type=\"purchase\", cat_type=\"LVL2\", days=360)\n",
    "df_res = F.add_feature(df_res, df_ft, join_key=\"CATEG_LVL2_ID\", how=\"left\")\n",
    "\n",
    "df_ft = F.f_cat_propensity_sim(df_smp, df_prch, action_type=\"purchase\", cat_type=\"META\", days=7)\n",
    "df_res = F.add_feature(df_res, df_ft, join_key=\"META_CATEG_ID\", how=\"left\")\n",
    "\n",
    "df_ft = F.f_cat_propensity_sim(df_smp, df_prch, action_type=\"purchase\", cat_type=\"META\", days=14)\n",
    "df_res = F.add_feature(df_res, df_ft, join_key=\"META_CATEG_ID\", how=\"left\")\n",
    "\n",
    "df_ft = F.f_cat_propensity_sim(df_smp, df_prch, action_type=\"purchase\", cat_type=\"META\", days=30)\n",
    "df_res = F.add_feature(df_res, df_ft, join_key=\"META_CATEG_ID\", how=\"left\")\n",
    "\n",
    "df_ft = F.f_cat_propensity_sim(df_smp, df_prch, action_type=\"purchase\", cat_type=\"META\", days=60)\n",
    "df_res = F.add_feature(df_res, df_ft, join_key=\"META_CATEG_ID\", how=\"left\")\n",
    "\n",
    "df_ft = F.f_cat_propensity_sim(df_smp, df_prch, action_type=\"purchase\", cat_type=\"META\", days=90)\n",
    "df_res = F.add_feature(df_res, df_ft, join_key=\"META_CATEG_ID\", how=\"left\")\n",
    "\n",
    "df_ft = F.f_cat_propensity_sim(df_smp, df_prch, action_type=\"purchase\", cat_type=\"META\", days=180)\n",
    "df_res = F.add_feature(df_res, df_ft, join_key=\"META_CATEG_ID\", how=\"left\")\n",
    "\n",
    "df_ft = F.f_cat_propensity_sim(df_smp, df_prch, action_type=\"purchase\", cat_type=\"META\", days=360)\n",
    "df_res = F.add_feature(df_res, df_ft, join_key=\"META_CATEG_ID\", how=\"left\")\n",
    "\n",
    "df_ft = F.f_cat_propensity_sim(df_smp, df_vi, action_type=\"view\", cat_type=\"LEAF\", days=7)\n",
    "df_res = F.add_feature(df_res, df_ft, join_key=\"LEAF_CATEG_ID\", how=\"left\")\n",
    "\n",
    "df_ft = F.f_cat_propensity_sim(df_smp, df_vi, action_type=\"view\", cat_type=\"LEAF\", days=14)\n",
    "df_res = F.add_feature(df_res, df_ft, join_key=\"LEAF_CATEG_ID\", how=\"left\")\n",
    "\n",
    "df_ft = F.f_cat_propensity_sim(df_smp, df_vi, action_type=\"view\", cat_type=\"LEAF\", days=30)\n",
    "df_res = F.add_feature(df_res, df_ft, join_key=\"LEAF_CATEG_ID\", how=\"left\")\n",
    "\n",
    "df_ft = F.f_cat_propensity_sim(df_smp, df_vi, action_type=\"view\", cat_type=\"LEAF\", days=60)\n",
    "df_res = F.add_feature(df_res, df_ft, join_key=\"LEAF_CATEG_ID\", how=\"left\")\n",
    "\n",
    "df_ft = F.f_cat_propensity_sim(df_smp, df_vi, action_type=\"view\", cat_type=\"LEAF\", days=90)\n",
    "df_res = F.add_feature(df_res, df_ft, join_key=\"LEAF_CATEG_ID\", how=\"left\")\n",
    "\n",
    "df_ft = F.f_cat_propensity_sim(df_smp, df_vi, action_type=\"view\", cat_type=\"LEAF\", days=180)\n",
    "df_res = F.add_feature(df_res, df_ft, join_key=\"LEAF_CATEG_ID\", how=\"left\")\n",
    "\n",
    "df_ft = F.f_cat_propensity_sim(df_smp, df_vi, action_type=\"view\", cat_type=\"LEAF\", days=360)\n",
    "df_res = F.add_feature(df_res, df_ft, join_key=\"LEAF_CATEG_ID\", how=\"left\")\n",
    "\n",
    "df_ft = F.f_cat_propensity_sim(df_smp, df_vi, action_type=\"view\", cat_type=\"LVL2\", days=7)\n",
    "df_res = F.add_feature(df_res, df_ft, join_key=\"CATEG_LVL2_ID\", how=\"left\")\n",
    "\n",
    "df_ft = F.f_cat_propensity_sim(df_smp, df_vi, action_type=\"view\", cat_type=\"LVL2\", days=14)\n",
    "df_res = F.add_feature(df_res, df_ft, join_key=\"CATEG_LVL2_ID\", how=\"left\")\n",
    "\n",
    "df_ft = F.f_cat_propensity_sim(df_smp, df_vi, action_type=\"view\", cat_type=\"LVL2\", days=30)\n",
    "df_res = F.add_feature(df_res, df_ft, join_key=\"CATEG_LVL2_ID\", how=\"left\")\n",
    "\n",
    "df_ft = F.f_cat_propensity_sim(df_smp, df_vi, action_type=\"view\", cat_type=\"LVL2\", days=60)\n",
    "df_res = F.add_feature(df_res, df_ft, join_key=\"CATEG_LVL2_ID\", how=\"left\")\n",
    "\n",
    "df_ft = F.f_cat_propensity_sim(df_smp, df_vi, action_type=\"view\", cat_type=\"LVL2\", days=90)\n",
    "df_res = F.add_feature(df_res, df_ft, join_key=\"CATEG_LVL2_ID\", how=\"left\")\n",
    "\n",
    "df_ft = F.f_cat_propensity_sim(df_smp, df_vi, action_type=\"view\", cat_type=\"LVL2\", days=180)\n",
    "df_res = F.add_feature(df_res, df_ft, join_key=\"CATEG_LVL2_ID\", how=\"left\")\n",
    "\n",
    "df_ft = F.f_cat_propensity_sim(df_smp, df_vi, action_type=\"view\", cat_type=\"LVL2\", days=360)\n",
    "df_res = F.add_feature(df_res, df_ft, join_key=\"CATEG_LVL2_ID\", how=\"left\")\n",
    "\n",
    "df_ft = F.f_cat_propensity_sim(df_smp, df_vi, action_type=\"view\", cat_type=\"META\", days=7)\n",
    "df_res = F.add_feature(df_res, df_ft, join_key=\"META_CATEG_ID\", how=\"left\")\n",
    "\n",
    "df_ft = F.f_cat_propensity_sim(df_smp, df_vi, action_type=\"view\", cat_type=\"META\", days=14)\n",
    "df_res = F.add_feature(df_res, df_ft, join_key=\"META_CATEG_ID\", how=\"left\")\n",
    "\n",
    "df_ft = F.f_cat_propensity_sim(df_smp, df_vi, action_type=\"view\", cat_type=\"META\", days=30)\n",
    "df_res = F.add_feature(df_res, df_ft, join_key=\"META_CATEG_ID\", how=\"left\")\n",
    "\n",
    "df_ft = F.f_cat_propensity_sim(df_smp, df_vi, action_type=\"view\", cat_type=\"META\", days=60)\n",
    "df_res = F.add_feature(df_res, df_ft, join_key=\"META_CATEG_ID\", how=\"left\")\n",
    "\n",
    "df_ft = F.f_cat_propensity_sim(df_smp, df_vi, action_type=\"view\", cat_type=\"META\", days=90)\n",
    "df_res = F.add_feature(df_res, df_ft, join_key=\"META_CATEG_ID\", how=\"left\")\n",
    "\n",
    "df_ft = F.f_cat_propensity_sim(df_smp, df_vi, action_type=\"view\", cat_type=\"META\", days=180)\n",
    "df_res = F.add_feature(df_res, df_ft, join_key=\"META_CATEG_ID\", how=\"left\")\n",
    "\n",
    "df_ft = F.f_cat_propensity_sim(df_smp, df_vi, action_type=\"view\", cat_type=\"META\", days=360)\n",
    "df_res = F.add_feature(df_res, df_ft, join_key=\"META_CATEG_ID\", how=\"left\")"
   ]
  },
  {
   "cell_type": "code",
   "execution_count": null,
   "id": "57a556cd-7a87-4a3f-9719-9ccb2a64766a",
   "metadata": {
    "tags": []
   },
   "outputs": [],
   "source": [
    "#title_propensity_sim\n",
    "# df_ft = F.f_title_propensity_sim(df_smp, df_prch, action_type=\"purchase\", days=7)\n",
    "# df_res = F.add_feature(df_res, df_ft, join_key=\"ITEM_ID\", how=\"left\")\n",
    "\n",
    "# df_ft = F.f_title_propensity_sim(df_smp, df_prch, action_type=\"purchase\", days=14)\n",
    "# df_res = F.add_feature(df_res, df_ft, join_key=\"ITEM_ID\", how=\"left\")\n",
    "\n",
    "# df_ft = F.f_title_propensity_sim(df_smp, df_prch, action_type=\"purchase\", days=30)\n",
    "# df_res = F.add_feature(df_res, df_ft, join_key=\"ITEM_ID\", how=\"left\")\n",
    "\n",
    "# df_ft = F.f_title_propensity_sim(df_smp, df_prch, action_type=\"purchase\", days=60)\n",
    "# df_res = F.add_feature(df_res, df_ft, join_key=\"ITEM_ID\", how=\"left\")\n",
    "\n",
    "# df_ft = F.f_title_propensity_sim(df_smp, df_prch, action_type=\"purchase\", days=90)\n",
    "# df_res = F.add_feature(df_res, df_ft, join_key=\"ITEM_ID\", how=\"left\")\n",
    "\n",
    "# df_ft = F.f_title_propensity_sim(df_smp, df_prch, action_type=\"purchase\", days=180)\n",
    "# df_res = F.add_feature(df_res, df_ft, join_key=\"ITEM_ID\", how=\"left\")\n",
    "\n",
    "# df_ft = F.f_title_propensity_sim(df_smp, df_prch, action_type=\"purchase\", days=360)\n",
    "# df_res = F.add_feature(df_res, df_ft, join_key=\"ITEM_ID\", how=\"left\")\n",
    "\n",
    "# df_ft = F.f_title_propensity_sim(df_smp, df_vi, action_type=\"view\", days=7)\n",
    "# df_res = F.add_feature(df_res, df_ft, join_key=\"ITEM_ID\", how=\"left\")\n",
    "\n",
    "# df_ft = F.f_title_propensity_sim(df_smp, df_vi, action_type=\"view\", days=14)\n",
    "# df_res = F.add_feature(df_res, df_ft, join_key=\"ITEM_ID\", how=\"left\")\n",
    "\n",
    "# df_ft = F.f_title_propensity_sim(df_smp, df_vi, action_type=\"view\", days=30)\n",
    "# df_res = F.add_feature(df_res, df_ft, join_key=\"ITEM_ID\", how=\"left\")\n",
    "\n",
    "# df_ft = F.f_title_propensity_sim(df_smp, df_vi, action_type=\"view\", days=60)\n",
    "# df_res = F.add_feature(df_res, df_ft, join_key=\"ITEM_ID\", how=\"left\")\n",
    "\n",
    "# df_ft = F.f_title_propensity_sim(df_smp, df_vi, action_type=\"view\", days=90)\n",
    "# df_res = F.add_feature(df_res, df_ft, join_key=\"ITEM_ID\", how=\"left\")\n",
    "\n",
    "# df_ft = F.f_title_propensity_sim(df_smp, df_vi, action_type=\"view\", days=180)\n",
    "# df_res = F.add_feature(df_res, df_ft, join_key=\"ITEM_ID\", how=\"left\")\n",
    "\n",
    "# df_ft = F.f_title_propensity_sim(df_smp, df_vi, action_type=\"view\", days=360)\n",
    "# df_res = F.add_feature(df_res, df_ft, join_key=\"ITEM_ID\", how=\"left\")"
   ]
  },
  {
   "cell_type": "code",
   "execution_count": 6,
   "id": "810cc1b6-6757-427f-bd56-e070d12bceae",
   "metadata": {
    "scrolled": true,
    "tags": []
   },
   "outputs": [
    {
     "name": "stderr",
     "output_type": "stream",
     "text": [
      "                                                                                001]]]]]]\r"
     ]
    }
   ],
   "source": [
    "#save_table(session, df_res, \"bx_ps_features_1\")"
   ]
  },
  {
   "cell_type": "code",
   "execution_count": 3,
   "id": "f4c81497-d64f-4d23-8807-61f40ee07ffa",
   "metadata": {
    "tags": []
   },
   "outputs": [
    {
     "name": "stderr",
     "output_type": "stream",
     "text": [
      "                                                                                \r"
     ]
    }
   ],
   "source": [
    "# create a smaller version only with key, features and label\n",
    "df = session.table(\"bx_ps_features_1\")\n",
    "f_columns = [col for col in df.columns if col.startswith('f_')]\n",
    "f_columns.extend([\"BUYER_ID\", \"LEAF_CATEG_ID\", \"EVENT_TIMESTAMP\", \"label\", \"num_repurchases\"])\n",
    "df = df.select(f_columns)\n",
    "\n",
    "# split data to train/validation/test sets\n",
    "train, validation, test = df.randomSplit([0.7, 0.1, 0.2])\n",
    "\n",
    "# save\n",
    "save_table(session, train, \"bx_ps_features_train_1\")\n",
    "save_table(session, validation, \"bx_ps_features_valid_1\")\n",
    "save_table(session, test, \"bx_ps_features_test_1\")"
   ]
  },
  {
   "cell_type": "code",
   "execution_count": null,
   "id": "089330dc-1a0d-445f-8195-804a1b9ec67a",
   "metadata": {
    "tags": []
   },
   "outputs": [],
   "source": [
    "if session:\n",
    "    session.stop()"
   ]
  },
  {
   "cell_type": "markdown",
   "id": "bd8b74cf-7020-46c3-bd27-8c582593a8da",
   "metadata": {},
   "source": [
    "### Add features of user priors:"
   ]
  },
  {
   "cell_type": "markdown",
   "id": "6d4369be-9754-4512-91a3-e99a936c3643",
   "metadata": {},
   "source": [
    "### Data validation:"
   ]
  },
  {
   "cell_type": "code",
   "execution_count": 3,
   "id": "b76c94a8-ad0e-44d6-9988-86df4746fbeb",
   "metadata": {},
   "outputs": [],
   "source": [
    "df_res=session.table( \"bx_ps_features_1\")"
   ]
  },
  {
   "cell_type": "code",
   "execution_count": 12,
   "id": "205db457-a18e-4018-8392-10ee706408d9",
   "metadata": {},
   "outputs": [
    {
     "name": "stdout",
     "output_type": "stream",
     "text": [
      "Number of columns: 832\n"
     ]
    },
    {
     "name": "stderr",
     "output_type": "stream",
     "text": [
      "[Stage 50:>                                                         (0 + 1) / 1]\r"
     ]
    },
    {
     "name": "stdout",
     "output_type": "stream",
     "text": [
      "Number of rows: 99999\n"
     ]
    },
    {
     "name": "stderr",
     "output_type": "stream",
     "text": [
      "                                                                                \r"
     ]
    }
   ],
   "source": [
    "# Check the number of columns\n",
    "num_columns = len(df_res.columns)\n",
    "print(f\"Number of columns: {num_columns}\")\n",
    "\n",
    "# Check the number of rows\n",
    "num_rows = df_res.count()\n",
    "print(f\"Number of rows: {num_rows}\")"
   ]
  },
  {
   "cell_type": "code",
   "execution_count": 4,
   "id": "e7008d96-3aa3-4aa2-a4e6-4e48f2ade3e8",
   "metadata": {},
   "outputs": [
    {
     "name": "stderr",
     "output_type": "stream",
     "text": [
      "                                                                                \r"
     ]
    }
   ],
   "source": [
    "sample_buyers = [row[\"BUYER_ID\"] for row in df_res.select(\"BUYER_ID\").distinct().limit(10).collect()]\n",
    "\n",
    "# Step 2: Filter df_smp, df_prch, and df_vi to only include those specific buyers\n",
    "df_res_sample = df_res.filter(df_res.BUYER_ID.isin(sample_buyers))\n"
   ]
  },
  {
   "cell_type": "code",
   "execution_count": 5,
   "id": "8c387d3c-eddd-4b24-ad91-f62a47286596",
   "metadata": {
    "collapsed": true,
    "jupyter": {
     "outputs_hidden": true
    },
    "scrolled": true,
    "tags": []
   },
   "outputs": [
    {
     "data": {
      "text/plain": [
       "['BUYER_ID',\n",
       " 'META_CATEG_ID',\n",
       " 'EVENT_TIMESTAMP',\n",
       " 'CATEG_LVL2_ID',\n",
       " 'LEAF_CATEG_ID',\n",
       " 'num_repurchases',\n",
       " 'label',\n",
       " 'LEAF_CATEG_NAME',\n",
       " 'CATEG_LVL2_NAME',\n",
       " 'META_CATEG_NAME',\n",
       " 'f_time_since_last_purchase_from_LEAF_cat',\n",
       " 'f_time_since_last_purchase_from_LVL2_cat',\n",
       " 'f_time_since_last_purchase_from_META_cat',\n",
       " 'f_time_since_last_view_from_LEAF_cat',\n",
       " 'f_time_since_last_view_from_LVL2_cat',\n",
       " 'f_time_since_last_view_from_META_cat',\n",
       " 'f_num_purchases_from_LEAF_cat_in_last_1_days',\n",
       " 'f_num_purchases_from_LEAF_cat_in_last_2_days',\n",
       " 'f_num_purchases_from_LEAF_cat_in_last_5_days',\n",
       " 'f_num_purchases_from_LEAF_cat_in_last_7_days',\n",
       " 'f_num_purchases_from_LEAF_cat_in_last_14_days',\n",
       " 'f_num_purchases_from_LEAF_cat_in_last_30_days',\n",
       " 'f_num_purchases_from_LEAF_cat_in_last_60_days',\n",
       " 'f_num_purchases_from_LEAF_cat_in_last_90_days',\n",
       " 'f_num_purchases_from_LEAF_cat_in_last_180_days',\n",
       " 'f_num_purchases_from_LEAF_cat_in_last_360_days',\n",
       " 'f_num_purchases_from_LVL2_cat_in_last_1_days',\n",
       " 'f_num_purchases_from_LVL2_cat_in_last_2_days',\n",
       " 'f_num_purchases_from_LVL2_cat_in_last_5_days',\n",
       " 'f_num_purchases_from_LVL2_cat_in_last_7_days',\n",
       " 'f_num_purchases_from_LVL2_cat_in_last_14_days',\n",
       " 'f_num_purchases_from_LVL2_cat_in_last_30_days',\n",
       " 'f_num_purchases_from_LVL2_cat_in_last_60_days',\n",
       " 'f_num_purchases_from_LVL2_cat_in_last_90_days',\n",
       " 'f_num_purchases_from_LVL2_cat_in_last_180_days',\n",
       " 'f_num_purchases_from_LVL2_cat_in_last_360_days',\n",
       " 'f_num_purchases_from_META_cat_in_last_1_days',\n",
       " 'f_num_purchases_from_META_cat_in_last_2_days',\n",
       " 'f_num_purchases_from_META_cat_in_last_5_days',\n",
       " 'f_num_purchases_from_META_cat_in_last_7_days',\n",
       " 'f_num_purchases_from_META_cat_in_last_14_days',\n",
       " 'f_num_purchases_from_META_cat_in_last_30_days',\n",
       " 'f_num_purchases_from_META_cat_in_last_60_days',\n",
       " 'f_num_purchases_from_META_cat_in_last_90_days',\n",
       " 'f_num_purchases_from_META_cat_in_last_180_days',\n",
       " 'f_num_purchases_from_META_cat_in_last_360_days',\n",
       " 'f_num_views_from_LEAF_cat_in_last_1_days',\n",
       " 'f_num_views_from_LEAF_cat_in_last_2_days',\n",
       " 'f_num_views_from_LEAF_cat_in_last_5_days',\n",
       " 'f_num_views_from_LEAF_cat_in_last_7_days',\n",
       " 'f_num_views_from_LEAF_cat_in_last_14_days',\n",
       " 'f_num_views_from_LEAF_cat_in_last_30_days',\n",
       " 'f_num_views_from_LEAF_cat_in_last_60_days',\n",
       " 'f_num_views_from_LEAF_cat_in_last_90_days',\n",
       " 'f_num_views_from_LEAF_cat_in_last_180_days',\n",
       " 'f_num_views_from_LEAF_cat_in_last_360_days',\n",
       " 'f_num_views_from_LVL2_cat_in_last_1_days',\n",
       " 'f_num_views_from_LVL2_cat_in_last_2_days',\n",
       " 'f_num_views_from_LVL2_cat_in_last_5_days',\n",
       " 'f_num_views_from_LVL2_cat_in_last_7_days',\n",
       " 'f_num_views_from_LVL2_cat_in_last_14_days',\n",
       " 'f_num_views_from_LVL2_cat_in_last_30_days',\n",
       " 'f_num_views_from_LVL2_cat_in_last_60_days',\n",
       " 'f_num_views_from_LVL2_cat_in_last_90_days',\n",
       " 'f_num_views_from_LVL2_cat_in_last_180_days',\n",
       " 'f_num_views_from_LVL2_cat_in_last_360_days',\n",
       " 'f_num_views_from_META_cat_in_last_1_days',\n",
       " 'f_num_views_from_META_cat_in_last_2_days',\n",
       " 'f_num_views_from_META_cat_in_last_5_days',\n",
       " 'f_num_views_from_META_cat_in_last_7_days',\n",
       " 'f_num_views_from_META_cat_in_last_14_days',\n",
       " 'f_num_views_from_META_cat_in_last_30_days',\n",
       " 'f_num_views_from_META_cat_in_last_60_days',\n",
       " 'f_num_views_from_META_cat_in_last_90_days',\n",
       " 'f_num_views_from_META_cat_in_last_180_days',\n",
       " 'f_num_views_from_META_cat_in_last_360_days',\n",
       " 'f_max_LEAF_cat_purchase_propensity_cosine_sim_in_last_7_days',\n",
       " 'f_max_LEAF_cat_purchase_propensity_jaccard_sim_in_last_7_days',\n",
       " 'f_min_LEAF_cat_purchase_propensity_cosine_sim_in_last_7_days',\n",
       " 'f_min_LEAF_cat_purchase_propensity_jaccard_sim_in_last_7_days',\n",
       " 'f_mean_LEAF_cat_purchase_propensity_cosine_sim_in_last_7_days',\n",
       " 'f_mean_LEAF_cat_purchase_propensity_jaccard_sim_in_last_7_days',\n",
       " 'f_var_LEAF_cat_purchase_propensity_cosine_sim_in_last_7_days',\n",
       " 'f_var_LEAF_cat_purchase_propensity_jaccard_sim_in_last_7_days',\n",
       " 'f_p25_LEAF_cat_purchase_propensity_cosine_sim_in_last_7_days',\n",
       " 'f_p25_LEAF_cat_purchase_propensity_jaccard_sim_in_last_7_days',\n",
       " 'f_p50_LEAF_cat_purchase_propensity_cosine_sim_in_last_7_days',\n",
       " 'f_p50_LEAF_cat_purchase_propensity_jaccard_sim_in_last_7_days',\n",
       " 'f_p75_LEAF_cat_purchase_propensity_cosine_sim_in_last_7_days',\n",
       " 'f_p75_LEAF_cat_purchase_propensity_jaccard_sim_in_last_7_days',\n",
       " 'f_scoreratio_LEAF_cat_purchase_propensity_cosine_sim_in_last_7_days',\n",
       " 'f_scoreratio_LEAF_cat_purchase_propensity_jaccard_sim_in_last_7_days',\n",
       " 'f_poisson_LEAF_cat_purchase_propensity_cosine_sim_in_last_7_days',\n",
       " 'f_poisson_LEAF_cat_purchase_propensity_jaccard_sim_in_last_7_days',\n",
       " 'f_max_LEAF_cat_purchase_propensity_cosine_sim_in_last_14_days',\n",
       " 'f_max_LEAF_cat_purchase_propensity_jaccard_sim_in_last_14_days',\n",
       " 'f_min_LEAF_cat_purchase_propensity_cosine_sim_in_last_14_days',\n",
       " 'f_min_LEAF_cat_purchase_propensity_jaccard_sim_in_last_14_days',\n",
       " 'f_mean_LEAF_cat_purchase_propensity_cosine_sim_in_last_14_days',\n",
       " 'f_mean_LEAF_cat_purchase_propensity_jaccard_sim_in_last_14_days',\n",
       " 'f_var_LEAF_cat_purchase_propensity_cosine_sim_in_last_14_days',\n",
       " 'f_var_LEAF_cat_purchase_propensity_jaccard_sim_in_last_14_days',\n",
       " 'f_p25_LEAF_cat_purchase_propensity_cosine_sim_in_last_14_days',\n",
       " 'f_p25_LEAF_cat_purchase_propensity_jaccard_sim_in_last_14_days',\n",
       " 'f_p50_LEAF_cat_purchase_propensity_cosine_sim_in_last_14_days',\n",
       " 'f_p50_LEAF_cat_purchase_propensity_jaccard_sim_in_last_14_days',\n",
       " 'f_p75_LEAF_cat_purchase_propensity_cosine_sim_in_last_14_days',\n",
       " 'f_p75_LEAF_cat_purchase_propensity_jaccard_sim_in_last_14_days',\n",
       " 'f_scoreratio_LEAF_cat_purchase_propensity_cosine_sim_in_last_14_days',\n",
       " 'f_scoreratio_LEAF_cat_purchase_propensity_jaccard_sim_in_last_14_days',\n",
       " 'f_poisson_LEAF_cat_purchase_propensity_cosine_sim_in_last_14_days',\n",
       " 'f_poisson_LEAF_cat_purchase_propensity_jaccard_sim_in_last_14_days',\n",
       " 'f_max_LEAF_cat_purchase_propensity_cosine_sim_in_last_30_days',\n",
       " 'f_max_LEAF_cat_purchase_propensity_jaccard_sim_in_last_30_days',\n",
       " 'f_min_LEAF_cat_purchase_propensity_cosine_sim_in_last_30_days',\n",
       " 'f_min_LEAF_cat_purchase_propensity_jaccard_sim_in_last_30_days',\n",
       " 'f_mean_LEAF_cat_purchase_propensity_cosine_sim_in_last_30_days',\n",
       " 'f_mean_LEAF_cat_purchase_propensity_jaccard_sim_in_last_30_days',\n",
       " 'f_var_LEAF_cat_purchase_propensity_cosine_sim_in_last_30_days',\n",
       " 'f_var_LEAF_cat_purchase_propensity_jaccard_sim_in_last_30_days',\n",
       " 'f_p25_LEAF_cat_purchase_propensity_cosine_sim_in_last_30_days',\n",
       " 'f_p25_LEAF_cat_purchase_propensity_jaccard_sim_in_last_30_days',\n",
       " 'f_p50_LEAF_cat_purchase_propensity_cosine_sim_in_last_30_days',\n",
       " 'f_p50_LEAF_cat_purchase_propensity_jaccard_sim_in_last_30_days',\n",
       " 'f_p75_LEAF_cat_purchase_propensity_cosine_sim_in_last_30_days',\n",
       " 'f_p75_LEAF_cat_purchase_propensity_jaccard_sim_in_last_30_days',\n",
       " 'f_scoreratio_LEAF_cat_purchase_propensity_cosine_sim_in_last_30_days',\n",
       " 'f_scoreratio_LEAF_cat_purchase_propensity_jaccard_sim_in_last_30_days',\n",
       " 'f_poisson_LEAF_cat_purchase_propensity_cosine_sim_in_last_30_days',\n",
       " 'f_poisson_LEAF_cat_purchase_propensity_jaccard_sim_in_last_30_days',\n",
       " 'f_max_LEAF_cat_purchase_propensity_cosine_sim_in_last_60_days',\n",
       " 'f_max_LEAF_cat_purchase_propensity_jaccard_sim_in_last_60_days',\n",
       " 'f_min_LEAF_cat_purchase_propensity_cosine_sim_in_last_60_days',\n",
       " 'f_min_LEAF_cat_purchase_propensity_jaccard_sim_in_last_60_days',\n",
       " 'f_mean_LEAF_cat_purchase_propensity_cosine_sim_in_last_60_days',\n",
       " 'f_mean_LEAF_cat_purchase_propensity_jaccard_sim_in_last_60_days',\n",
       " 'f_var_LEAF_cat_purchase_propensity_cosine_sim_in_last_60_days',\n",
       " 'f_var_LEAF_cat_purchase_propensity_jaccard_sim_in_last_60_days',\n",
       " 'f_p25_LEAF_cat_purchase_propensity_cosine_sim_in_last_60_days',\n",
       " 'f_p25_LEAF_cat_purchase_propensity_jaccard_sim_in_last_60_days',\n",
       " 'f_p50_LEAF_cat_purchase_propensity_cosine_sim_in_last_60_days',\n",
       " 'f_p50_LEAF_cat_purchase_propensity_jaccard_sim_in_last_60_days',\n",
       " 'f_p75_LEAF_cat_purchase_propensity_cosine_sim_in_last_60_days',\n",
       " 'f_p75_LEAF_cat_purchase_propensity_jaccard_sim_in_last_60_days',\n",
       " 'f_scoreratio_LEAF_cat_purchase_propensity_cosine_sim_in_last_60_days',\n",
       " 'f_scoreratio_LEAF_cat_purchase_propensity_jaccard_sim_in_last_60_days',\n",
       " 'f_poisson_LEAF_cat_purchase_propensity_cosine_sim_in_last_60_days',\n",
       " 'f_poisson_LEAF_cat_purchase_propensity_jaccard_sim_in_last_60_days',\n",
       " 'f_max_LEAF_cat_purchase_propensity_cosine_sim_in_last_90_days',\n",
       " 'f_max_LEAF_cat_purchase_propensity_jaccard_sim_in_last_90_days',\n",
       " 'f_min_LEAF_cat_purchase_propensity_cosine_sim_in_last_90_days',\n",
       " 'f_min_LEAF_cat_purchase_propensity_jaccard_sim_in_last_90_days',\n",
       " 'f_mean_LEAF_cat_purchase_propensity_cosine_sim_in_last_90_days',\n",
       " 'f_mean_LEAF_cat_purchase_propensity_jaccard_sim_in_last_90_days',\n",
       " 'f_var_LEAF_cat_purchase_propensity_cosine_sim_in_last_90_days',\n",
       " 'f_var_LEAF_cat_purchase_propensity_jaccard_sim_in_last_90_days',\n",
       " 'f_p25_LEAF_cat_purchase_propensity_cosine_sim_in_last_90_days',\n",
       " 'f_p25_LEAF_cat_purchase_propensity_jaccard_sim_in_last_90_days',\n",
       " 'f_p50_LEAF_cat_purchase_propensity_cosine_sim_in_last_90_days',\n",
       " 'f_p50_LEAF_cat_purchase_propensity_jaccard_sim_in_last_90_days',\n",
       " 'f_p75_LEAF_cat_purchase_propensity_cosine_sim_in_last_90_days',\n",
       " 'f_p75_LEAF_cat_purchase_propensity_jaccard_sim_in_last_90_days',\n",
       " 'f_scoreratio_LEAF_cat_purchase_propensity_cosine_sim_in_last_90_days',\n",
       " 'f_scoreratio_LEAF_cat_purchase_propensity_jaccard_sim_in_last_90_days',\n",
       " 'f_poisson_LEAF_cat_purchase_propensity_cosine_sim_in_last_90_days',\n",
       " 'f_poisson_LEAF_cat_purchase_propensity_jaccard_sim_in_last_90_days',\n",
       " 'f_max_LEAF_cat_purchase_propensity_cosine_sim_in_last_180_days',\n",
       " 'f_max_LEAF_cat_purchase_propensity_jaccard_sim_in_last_180_days',\n",
       " 'f_min_LEAF_cat_purchase_propensity_cosine_sim_in_last_180_days',\n",
       " 'f_min_LEAF_cat_purchase_propensity_jaccard_sim_in_last_180_days',\n",
       " 'f_mean_LEAF_cat_purchase_propensity_cosine_sim_in_last_180_days',\n",
       " 'f_mean_LEAF_cat_purchase_propensity_jaccard_sim_in_last_180_days',\n",
       " 'f_var_LEAF_cat_purchase_propensity_cosine_sim_in_last_180_days',\n",
       " 'f_var_LEAF_cat_purchase_propensity_jaccard_sim_in_last_180_days',\n",
       " 'f_p25_LEAF_cat_purchase_propensity_cosine_sim_in_last_180_days',\n",
       " 'f_p25_LEAF_cat_purchase_propensity_jaccard_sim_in_last_180_days',\n",
       " 'f_p50_LEAF_cat_purchase_propensity_cosine_sim_in_last_180_days',\n",
       " 'f_p50_LEAF_cat_purchase_propensity_jaccard_sim_in_last_180_days',\n",
       " 'f_p75_LEAF_cat_purchase_propensity_cosine_sim_in_last_180_days',\n",
       " 'f_p75_LEAF_cat_purchase_propensity_jaccard_sim_in_last_180_days',\n",
       " 'f_scoreratio_LEAF_cat_purchase_propensity_cosine_sim_in_last_180_days',\n",
       " 'f_scoreratio_LEAF_cat_purchase_propensity_jaccard_sim_in_last_180_days',\n",
       " 'f_poisson_LEAF_cat_purchase_propensity_cosine_sim_in_last_180_days',\n",
       " 'f_poisson_LEAF_cat_purchase_propensity_jaccard_sim_in_last_180_days',\n",
       " 'f_max_LEAF_cat_purchase_propensity_cosine_sim_in_last_360_days',\n",
       " 'f_max_LEAF_cat_purchase_propensity_jaccard_sim_in_last_360_days',\n",
       " 'f_min_LEAF_cat_purchase_propensity_cosine_sim_in_last_360_days',\n",
       " 'f_min_LEAF_cat_purchase_propensity_jaccard_sim_in_last_360_days',\n",
       " 'f_mean_LEAF_cat_purchase_propensity_cosine_sim_in_last_360_days',\n",
       " 'f_mean_LEAF_cat_purchase_propensity_jaccard_sim_in_last_360_days',\n",
       " 'f_var_LEAF_cat_purchase_propensity_cosine_sim_in_last_360_days',\n",
       " 'f_var_LEAF_cat_purchase_propensity_jaccard_sim_in_last_360_days',\n",
       " 'f_p25_LEAF_cat_purchase_propensity_cosine_sim_in_last_360_days',\n",
       " 'f_p25_LEAF_cat_purchase_propensity_jaccard_sim_in_last_360_days',\n",
       " 'f_p50_LEAF_cat_purchase_propensity_cosine_sim_in_last_360_days',\n",
       " 'f_p50_LEAF_cat_purchase_propensity_jaccard_sim_in_last_360_days',\n",
       " 'f_p75_LEAF_cat_purchase_propensity_cosine_sim_in_last_360_days',\n",
       " 'f_p75_LEAF_cat_purchase_propensity_jaccard_sim_in_last_360_days',\n",
       " 'f_scoreratio_LEAF_cat_purchase_propensity_cosine_sim_in_last_360_days',\n",
       " 'f_scoreratio_LEAF_cat_purchase_propensity_jaccard_sim_in_last_360_days',\n",
       " 'f_poisson_LEAF_cat_purchase_propensity_cosine_sim_in_last_360_days',\n",
       " 'f_poisson_LEAF_cat_purchase_propensity_jaccard_sim_in_last_360_days',\n",
       " 'f_max_LVL2_cat_purchase_propensity_cosine_sim_in_last_7_days',\n",
       " 'f_max_LVL2_cat_purchase_propensity_jaccard_sim_in_last_7_days',\n",
       " 'f_min_LVL2_cat_purchase_propensity_cosine_sim_in_last_7_days',\n",
       " 'f_min_LVL2_cat_purchase_propensity_jaccard_sim_in_last_7_days',\n",
       " 'f_mean_LVL2_cat_purchase_propensity_cosine_sim_in_last_7_days',\n",
       " 'f_mean_LVL2_cat_purchase_propensity_jaccard_sim_in_last_7_days',\n",
       " 'f_var_LVL2_cat_purchase_propensity_cosine_sim_in_last_7_days',\n",
       " 'f_var_LVL2_cat_purchase_propensity_jaccard_sim_in_last_7_days',\n",
       " 'f_p25_LVL2_cat_purchase_propensity_cosine_sim_in_last_7_days',\n",
       " 'f_p25_LVL2_cat_purchase_propensity_jaccard_sim_in_last_7_days',\n",
       " 'f_p50_LVL2_cat_purchase_propensity_cosine_sim_in_last_7_days',\n",
       " 'f_p50_LVL2_cat_purchase_propensity_jaccard_sim_in_last_7_days',\n",
       " 'f_p75_LVL2_cat_purchase_propensity_cosine_sim_in_last_7_days',\n",
       " 'f_p75_LVL2_cat_purchase_propensity_jaccard_sim_in_last_7_days',\n",
       " 'f_scoreratio_LVL2_cat_purchase_propensity_cosine_sim_in_last_7_days',\n",
       " 'f_scoreratio_LVL2_cat_purchase_propensity_jaccard_sim_in_last_7_days',\n",
       " 'f_poisson_LVL2_cat_purchase_propensity_cosine_sim_in_last_7_days',\n",
       " 'f_poisson_LVL2_cat_purchase_propensity_jaccard_sim_in_last_7_days',\n",
       " 'f_max_LVL2_cat_purchase_propensity_cosine_sim_in_last_14_days',\n",
       " 'f_max_LVL2_cat_purchase_propensity_jaccard_sim_in_last_14_days',\n",
       " 'f_min_LVL2_cat_purchase_propensity_cosine_sim_in_last_14_days',\n",
       " 'f_min_LVL2_cat_purchase_propensity_jaccard_sim_in_last_14_days',\n",
       " 'f_mean_LVL2_cat_purchase_propensity_cosine_sim_in_last_14_days',\n",
       " 'f_mean_LVL2_cat_purchase_propensity_jaccard_sim_in_last_14_days',\n",
       " 'f_var_LVL2_cat_purchase_propensity_cosine_sim_in_last_14_days',\n",
       " 'f_var_LVL2_cat_purchase_propensity_jaccard_sim_in_last_14_days',\n",
       " 'f_p25_LVL2_cat_purchase_propensity_cosine_sim_in_last_14_days',\n",
       " 'f_p25_LVL2_cat_purchase_propensity_jaccard_sim_in_last_14_days',\n",
       " 'f_p50_LVL2_cat_purchase_propensity_cosine_sim_in_last_14_days',\n",
       " 'f_p50_LVL2_cat_purchase_propensity_jaccard_sim_in_last_14_days',\n",
       " 'f_p75_LVL2_cat_purchase_propensity_cosine_sim_in_last_14_days',\n",
       " 'f_p75_LVL2_cat_purchase_propensity_jaccard_sim_in_last_14_days',\n",
       " 'f_scoreratio_LVL2_cat_purchase_propensity_cosine_sim_in_last_14_days',\n",
       " 'f_scoreratio_LVL2_cat_purchase_propensity_jaccard_sim_in_last_14_days',\n",
       " 'f_poisson_LVL2_cat_purchase_propensity_cosine_sim_in_last_14_days',\n",
       " 'f_poisson_LVL2_cat_purchase_propensity_jaccard_sim_in_last_14_days',\n",
       " 'f_max_LVL2_cat_purchase_propensity_cosine_sim_in_last_30_days',\n",
       " 'f_max_LVL2_cat_purchase_propensity_jaccard_sim_in_last_30_days',\n",
       " 'f_min_LVL2_cat_purchase_propensity_cosine_sim_in_last_30_days',\n",
       " 'f_min_LVL2_cat_purchase_propensity_jaccard_sim_in_last_30_days',\n",
       " 'f_mean_LVL2_cat_purchase_propensity_cosine_sim_in_last_30_days',\n",
       " 'f_mean_LVL2_cat_purchase_propensity_jaccard_sim_in_last_30_days',\n",
       " 'f_var_LVL2_cat_purchase_propensity_cosine_sim_in_last_30_days',\n",
       " 'f_var_LVL2_cat_purchase_propensity_jaccard_sim_in_last_30_days',\n",
       " 'f_p25_LVL2_cat_purchase_propensity_cosine_sim_in_last_30_days',\n",
       " 'f_p25_LVL2_cat_purchase_propensity_jaccard_sim_in_last_30_days',\n",
       " 'f_p50_LVL2_cat_purchase_propensity_cosine_sim_in_last_30_days',\n",
       " 'f_p50_LVL2_cat_purchase_propensity_jaccard_sim_in_last_30_days',\n",
       " 'f_p75_LVL2_cat_purchase_propensity_cosine_sim_in_last_30_days',\n",
       " 'f_p75_LVL2_cat_purchase_propensity_jaccard_sim_in_last_30_days',\n",
       " 'f_scoreratio_LVL2_cat_purchase_propensity_cosine_sim_in_last_30_days',\n",
       " 'f_scoreratio_LVL2_cat_purchase_propensity_jaccard_sim_in_last_30_days',\n",
       " 'f_poisson_LVL2_cat_purchase_propensity_cosine_sim_in_last_30_days',\n",
       " 'f_poisson_LVL2_cat_purchase_propensity_jaccard_sim_in_last_30_days',\n",
       " 'f_max_LVL2_cat_purchase_propensity_cosine_sim_in_last_60_days',\n",
       " 'f_max_LVL2_cat_purchase_propensity_jaccard_sim_in_last_60_days',\n",
       " 'f_min_LVL2_cat_purchase_propensity_cosine_sim_in_last_60_days',\n",
       " 'f_min_LVL2_cat_purchase_propensity_jaccard_sim_in_last_60_days',\n",
       " 'f_mean_LVL2_cat_purchase_propensity_cosine_sim_in_last_60_days',\n",
       " 'f_mean_LVL2_cat_purchase_propensity_jaccard_sim_in_last_60_days',\n",
       " 'f_var_LVL2_cat_purchase_propensity_cosine_sim_in_last_60_days',\n",
       " 'f_var_LVL2_cat_purchase_propensity_jaccard_sim_in_last_60_days',\n",
       " 'f_p25_LVL2_cat_purchase_propensity_cosine_sim_in_last_60_days',\n",
       " 'f_p25_LVL2_cat_purchase_propensity_jaccard_sim_in_last_60_days',\n",
       " 'f_p50_LVL2_cat_purchase_propensity_cosine_sim_in_last_60_days',\n",
       " 'f_p50_LVL2_cat_purchase_propensity_jaccard_sim_in_last_60_days',\n",
       " 'f_p75_LVL2_cat_purchase_propensity_cosine_sim_in_last_60_days',\n",
       " 'f_p75_LVL2_cat_purchase_propensity_jaccard_sim_in_last_60_days',\n",
       " 'f_scoreratio_LVL2_cat_purchase_propensity_cosine_sim_in_last_60_days',\n",
       " 'f_scoreratio_LVL2_cat_purchase_propensity_jaccard_sim_in_last_60_days',\n",
       " 'f_poisson_LVL2_cat_purchase_propensity_cosine_sim_in_last_60_days',\n",
       " 'f_poisson_LVL2_cat_purchase_propensity_jaccard_sim_in_last_60_days',\n",
       " 'f_max_LVL2_cat_purchase_propensity_cosine_sim_in_last_90_days',\n",
       " 'f_max_LVL2_cat_purchase_propensity_jaccard_sim_in_last_90_days',\n",
       " 'f_min_LVL2_cat_purchase_propensity_cosine_sim_in_last_90_days',\n",
       " 'f_min_LVL2_cat_purchase_propensity_jaccard_sim_in_last_90_days',\n",
       " 'f_mean_LVL2_cat_purchase_propensity_cosine_sim_in_last_90_days',\n",
       " 'f_mean_LVL2_cat_purchase_propensity_jaccard_sim_in_last_90_days',\n",
       " 'f_var_LVL2_cat_purchase_propensity_cosine_sim_in_last_90_days',\n",
       " 'f_var_LVL2_cat_purchase_propensity_jaccard_sim_in_last_90_days',\n",
       " 'f_p25_LVL2_cat_purchase_propensity_cosine_sim_in_last_90_days',\n",
       " 'f_p25_LVL2_cat_purchase_propensity_jaccard_sim_in_last_90_days',\n",
       " 'f_p50_LVL2_cat_purchase_propensity_cosine_sim_in_last_90_days',\n",
       " 'f_p50_LVL2_cat_purchase_propensity_jaccard_sim_in_last_90_days',\n",
       " 'f_p75_LVL2_cat_purchase_propensity_cosine_sim_in_last_90_days',\n",
       " 'f_p75_LVL2_cat_purchase_propensity_jaccard_sim_in_last_90_days',\n",
       " 'f_scoreratio_LVL2_cat_purchase_propensity_cosine_sim_in_last_90_days',\n",
       " 'f_scoreratio_LVL2_cat_purchase_propensity_jaccard_sim_in_last_90_days',\n",
       " 'f_poisson_LVL2_cat_purchase_propensity_cosine_sim_in_last_90_days',\n",
       " 'f_poisson_LVL2_cat_purchase_propensity_jaccard_sim_in_last_90_days',\n",
       " 'f_max_LVL2_cat_purchase_propensity_cosine_sim_in_last_180_days',\n",
       " 'f_max_LVL2_cat_purchase_propensity_jaccard_sim_in_last_180_days',\n",
       " 'f_min_LVL2_cat_purchase_propensity_cosine_sim_in_last_180_days',\n",
       " 'f_min_LVL2_cat_purchase_propensity_jaccard_sim_in_last_180_days',\n",
       " 'f_mean_LVL2_cat_purchase_propensity_cosine_sim_in_last_180_days',\n",
       " 'f_mean_LVL2_cat_purchase_propensity_jaccard_sim_in_last_180_days',\n",
       " 'f_var_LVL2_cat_purchase_propensity_cosine_sim_in_last_180_days',\n",
       " 'f_var_LVL2_cat_purchase_propensity_jaccard_sim_in_last_180_days',\n",
       " 'f_p25_LVL2_cat_purchase_propensity_cosine_sim_in_last_180_days',\n",
       " 'f_p25_LVL2_cat_purchase_propensity_jaccard_sim_in_last_180_days',\n",
       " 'f_p50_LVL2_cat_purchase_propensity_cosine_sim_in_last_180_days',\n",
       " 'f_p50_LVL2_cat_purchase_propensity_jaccard_sim_in_last_180_days',\n",
       " 'f_p75_LVL2_cat_purchase_propensity_cosine_sim_in_last_180_days',\n",
       " 'f_p75_LVL2_cat_purchase_propensity_jaccard_sim_in_last_180_days',\n",
       " 'f_scoreratio_LVL2_cat_purchase_propensity_cosine_sim_in_last_180_days',\n",
       " 'f_scoreratio_LVL2_cat_purchase_propensity_jaccard_sim_in_last_180_days',\n",
       " 'f_poisson_LVL2_cat_purchase_propensity_cosine_sim_in_last_180_days',\n",
       " 'f_poisson_LVL2_cat_purchase_propensity_jaccard_sim_in_last_180_days',\n",
       " 'f_max_LVL2_cat_purchase_propensity_cosine_sim_in_last_360_days',\n",
       " 'f_max_LVL2_cat_purchase_propensity_jaccard_sim_in_last_360_days',\n",
       " 'f_min_LVL2_cat_purchase_propensity_cosine_sim_in_last_360_days',\n",
       " 'f_min_LVL2_cat_purchase_propensity_jaccard_sim_in_last_360_days',\n",
       " 'f_mean_LVL2_cat_purchase_propensity_cosine_sim_in_last_360_days',\n",
       " 'f_mean_LVL2_cat_purchase_propensity_jaccard_sim_in_last_360_days',\n",
       " 'f_var_LVL2_cat_purchase_propensity_cosine_sim_in_last_360_days',\n",
       " 'f_var_LVL2_cat_purchase_propensity_jaccard_sim_in_last_360_days',\n",
       " 'f_p25_LVL2_cat_purchase_propensity_cosine_sim_in_last_360_days',\n",
       " 'f_p25_LVL2_cat_purchase_propensity_jaccard_sim_in_last_360_days',\n",
       " 'f_p50_LVL2_cat_purchase_propensity_cosine_sim_in_last_360_days',\n",
       " 'f_p50_LVL2_cat_purchase_propensity_jaccard_sim_in_last_360_days',\n",
       " 'f_p75_LVL2_cat_purchase_propensity_cosine_sim_in_last_360_days',\n",
       " 'f_p75_LVL2_cat_purchase_propensity_jaccard_sim_in_last_360_days',\n",
       " 'f_scoreratio_LVL2_cat_purchase_propensity_cosine_sim_in_last_360_days',\n",
       " 'f_scoreratio_LVL2_cat_purchase_propensity_jaccard_sim_in_last_360_days',\n",
       " 'f_poisson_LVL2_cat_purchase_propensity_cosine_sim_in_last_360_days',\n",
       " 'f_poisson_LVL2_cat_purchase_propensity_jaccard_sim_in_last_360_days',\n",
       " 'f_max_META_cat_purchase_propensity_cosine_sim_in_last_7_days',\n",
       " 'f_max_META_cat_purchase_propensity_jaccard_sim_in_last_7_days',\n",
       " 'f_min_META_cat_purchase_propensity_cosine_sim_in_last_7_days',\n",
       " 'f_min_META_cat_purchase_propensity_jaccard_sim_in_last_7_days',\n",
       " 'f_mean_META_cat_purchase_propensity_cosine_sim_in_last_7_days',\n",
       " 'f_mean_META_cat_purchase_propensity_jaccard_sim_in_last_7_days',\n",
       " 'f_var_META_cat_purchase_propensity_cosine_sim_in_last_7_days',\n",
       " 'f_var_META_cat_purchase_propensity_jaccard_sim_in_last_7_days',\n",
       " 'f_p25_META_cat_purchase_propensity_cosine_sim_in_last_7_days',\n",
       " 'f_p25_META_cat_purchase_propensity_jaccard_sim_in_last_7_days',\n",
       " 'f_p50_META_cat_purchase_propensity_cosine_sim_in_last_7_days',\n",
       " 'f_p50_META_cat_purchase_propensity_jaccard_sim_in_last_7_days',\n",
       " 'f_p75_META_cat_purchase_propensity_cosine_sim_in_last_7_days',\n",
       " 'f_p75_META_cat_purchase_propensity_jaccard_sim_in_last_7_days',\n",
       " 'f_scoreratio_META_cat_purchase_propensity_cosine_sim_in_last_7_days',\n",
       " 'f_scoreratio_META_cat_purchase_propensity_jaccard_sim_in_last_7_days',\n",
       " 'f_poisson_META_cat_purchase_propensity_cosine_sim_in_last_7_days',\n",
       " 'f_poisson_META_cat_purchase_propensity_jaccard_sim_in_last_7_days',\n",
       " 'f_max_META_cat_purchase_propensity_cosine_sim_in_last_14_days',\n",
       " 'f_max_META_cat_purchase_propensity_jaccard_sim_in_last_14_days',\n",
       " 'f_min_META_cat_purchase_propensity_cosine_sim_in_last_14_days',\n",
       " 'f_min_META_cat_purchase_propensity_jaccard_sim_in_last_14_days',\n",
       " 'f_mean_META_cat_purchase_propensity_cosine_sim_in_last_14_days',\n",
       " 'f_mean_META_cat_purchase_propensity_jaccard_sim_in_last_14_days',\n",
       " 'f_var_META_cat_purchase_propensity_cosine_sim_in_last_14_days',\n",
       " 'f_var_META_cat_purchase_propensity_jaccard_sim_in_last_14_days',\n",
       " 'f_p25_META_cat_purchase_propensity_cosine_sim_in_last_14_days',\n",
       " 'f_p25_META_cat_purchase_propensity_jaccard_sim_in_last_14_days',\n",
       " 'f_p50_META_cat_purchase_propensity_cosine_sim_in_last_14_days',\n",
       " 'f_p50_META_cat_purchase_propensity_jaccard_sim_in_last_14_days',\n",
       " 'f_p75_META_cat_purchase_propensity_cosine_sim_in_last_14_days',\n",
       " 'f_p75_META_cat_purchase_propensity_jaccard_sim_in_last_14_days',\n",
       " 'f_scoreratio_META_cat_purchase_propensity_cosine_sim_in_last_14_days',\n",
       " 'f_scoreratio_META_cat_purchase_propensity_jaccard_sim_in_last_14_days',\n",
       " 'f_poisson_META_cat_purchase_propensity_cosine_sim_in_last_14_days',\n",
       " 'f_poisson_META_cat_purchase_propensity_jaccard_sim_in_last_14_days',\n",
       " 'f_max_META_cat_purchase_propensity_cosine_sim_in_last_30_days',\n",
       " 'f_max_META_cat_purchase_propensity_jaccard_sim_in_last_30_days',\n",
       " 'f_min_META_cat_purchase_propensity_cosine_sim_in_last_30_days',\n",
       " 'f_min_META_cat_purchase_propensity_jaccard_sim_in_last_30_days',\n",
       " 'f_mean_META_cat_purchase_propensity_cosine_sim_in_last_30_days',\n",
       " 'f_mean_META_cat_purchase_propensity_jaccard_sim_in_last_30_days',\n",
       " 'f_var_META_cat_purchase_propensity_cosine_sim_in_last_30_days',\n",
       " 'f_var_META_cat_purchase_propensity_jaccard_sim_in_last_30_days',\n",
       " 'f_p25_META_cat_purchase_propensity_cosine_sim_in_last_30_days',\n",
       " 'f_p25_META_cat_purchase_propensity_jaccard_sim_in_last_30_days',\n",
       " 'f_p50_META_cat_purchase_propensity_cosine_sim_in_last_30_days',\n",
       " 'f_p50_META_cat_purchase_propensity_jaccard_sim_in_last_30_days',\n",
       " 'f_p75_META_cat_purchase_propensity_cosine_sim_in_last_30_days',\n",
       " 'f_p75_META_cat_purchase_propensity_jaccard_sim_in_last_30_days',\n",
       " 'f_scoreratio_META_cat_purchase_propensity_cosine_sim_in_last_30_days',\n",
       " 'f_scoreratio_META_cat_purchase_propensity_jaccard_sim_in_last_30_days',\n",
       " 'f_poisson_META_cat_purchase_propensity_cosine_sim_in_last_30_days',\n",
       " 'f_poisson_META_cat_purchase_propensity_jaccard_sim_in_last_30_days',\n",
       " 'f_max_META_cat_purchase_propensity_cosine_sim_in_last_60_days',\n",
       " 'f_max_META_cat_purchase_propensity_jaccard_sim_in_last_60_days',\n",
       " 'f_min_META_cat_purchase_propensity_cosine_sim_in_last_60_days',\n",
       " 'f_min_META_cat_purchase_propensity_jaccard_sim_in_last_60_days',\n",
       " 'f_mean_META_cat_purchase_propensity_cosine_sim_in_last_60_days',\n",
       " 'f_mean_META_cat_purchase_propensity_jaccard_sim_in_last_60_days',\n",
       " 'f_var_META_cat_purchase_propensity_cosine_sim_in_last_60_days',\n",
       " 'f_var_META_cat_purchase_propensity_jaccard_sim_in_last_60_days',\n",
       " 'f_p25_META_cat_purchase_propensity_cosine_sim_in_last_60_days',\n",
       " 'f_p25_META_cat_purchase_propensity_jaccard_sim_in_last_60_days',\n",
       " 'f_p50_META_cat_purchase_propensity_cosine_sim_in_last_60_days',\n",
       " 'f_p50_META_cat_purchase_propensity_jaccard_sim_in_last_60_days',\n",
       " 'f_p75_META_cat_purchase_propensity_cosine_sim_in_last_60_days',\n",
       " 'f_p75_META_cat_purchase_propensity_jaccard_sim_in_last_60_days',\n",
       " 'f_scoreratio_META_cat_purchase_propensity_cosine_sim_in_last_60_days',\n",
       " 'f_scoreratio_META_cat_purchase_propensity_jaccard_sim_in_last_60_days',\n",
       " 'f_poisson_META_cat_purchase_propensity_cosine_sim_in_last_60_days',\n",
       " 'f_poisson_META_cat_purchase_propensity_jaccard_sim_in_last_60_days',\n",
       " 'f_max_META_cat_purchase_propensity_cosine_sim_in_last_90_days',\n",
       " 'f_max_META_cat_purchase_propensity_jaccard_sim_in_last_90_days',\n",
       " 'f_min_META_cat_purchase_propensity_cosine_sim_in_last_90_days',\n",
       " 'f_min_META_cat_purchase_propensity_jaccard_sim_in_last_90_days',\n",
       " 'f_mean_META_cat_purchase_propensity_cosine_sim_in_last_90_days',\n",
       " 'f_mean_META_cat_purchase_propensity_jaccard_sim_in_last_90_days',\n",
       " 'f_var_META_cat_purchase_propensity_cosine_sim_in_last_90_days',\n",
       " 'f_var_META_cat_purchase_propensity_jaccard_sim_in_last_90_days',\n",
       " 'f_p25_META_cat_purchase_propensity_cosine_sim_in_last_90_days',\n",
       " 'f_p25_META_cat_purchase_propensity_jaccard_sim_in_last_90_days',\n",
       " 'f_p50_META_cat_purchase_propensity_cosine_sim_in_last_90_days',\n",
       " 'f_p50_META_cat_purchase_propensity_jaccard_sim_in_last_90_days',\n",
       " 'f_p75_META_cat_purchase_propensity_cosine_sim_in_last_90_days',\n",
       " 'f_p75_META_cat_purchase_propensity_jaccard_sim_in_last_90_days',\n",
       " 'f_scoreratio_META_cat_purchase_propensity_cosine_sim_in_last_90_days',\n",
       " 'f_scoreratio_META_cat_purchase_propensity_jaccard_sim_in_last_90_days',\n",
       " 'f_poisson_META_cat_purchase_propensity_cosine_sim_in_last_90_days',\n",
       " 'f_poisson_META_cat_purchase_propensity_jaccard_sim_in_last_90_days',\n",
       " 'f_max_META_cat_purchase_propensity_cosine_sim_in_last_180_days',\n",
       " 'f_max_META_cat_purchase_propensity_jaccard_sim_in_last_180_days',\n",
       " 'f_min_META_cat_purchase_propensity_cosine_sim_in_last_180_days',\n",
       " 'f_min_META_cat_purchase_propensity_jaccard_sim_in_last_180_days',\n",
       " 'f_mean_META_cat_purchase_propensity_cosine_sim_in_last_180_days',\n",
       " 'f_mean_META_cat_purchase_propensity_jaccard_sim_in_last_180_days',\n",
       " 'f_var_META_cat_purchase_propensity_cosine_sim_in_last_180_days',\n",
       " 'f_var_META_cat_purchase_propensity_jaccard_sim_in_last_180_days',\n",
       " 'f_p25_META_cat_purchase_propensity_cosine_sim_in_last_180_days',\n",
       " 'f_p25_META_cat_purchase_propensity_jaccard_sim_in_last_180_days',\n",
       " 'f_p50_META_cat_purchase_propensity_cosine_sim_in_last_180_days',\n",
       " 'f_p50_META_cat_purchase_propensity_jaccard_sim_in_last_180_days',\n",
       " 'f_p75_META_cat_purchase_propensity_cosine_sim_in_last_180_days',\n",
       " 'f_p75_META_cat_purchase_propensity_jaccard_sim_in_last_180_days',\n",
       " 'f_scoreratio_META_cat_purchase_propensity_cosine_sim_in_last_180_days',\n",
       " 'f_scoreratio_META_cat_purchase_propensity_jaccard_sim_in_last_180_days',\n",
       " 'f_poisson_META_cat_purchase_propensity_cosine_sim_in_last_180_days',\n",
       " 'f_poisson_META_cat_purchase_propensity_jaccard_sim_in_last_180_days',\n",
       " 'f_max_META_cat_purchase_propensity_cosine_sim_in_last_360_days',\n",
       " 'f_max_META_cat_purchase_propensity_jaccard_sim_in_last_360_days',\n",
       " 'f_min_META_cat_purchase_propensity_cosine_sim_in_last_360_days',\n",
       " 'f_min_META_cat_purchase_propensity_jaccard_sim_in_last_360_days',\n",
       " 'f_mean_META_cat_purchase_propensity_cosine_sim_in_last_360_days',\n",
       " 'f_mean_META_cat_purchase_propensity_jaccard_sim_in_last_360_days',\n",
       " 'f_var_META_cat_purchase_propensity_cosine_sim_in_last_360_days',\n",
       " 'f_var_META_cat_purchase_propensity_jaccard_sim_in_last_360_days',\n",
       " 'f_p25_META_cat_purchase_propensity_cosine_sim_in_last_360_days',\n",
       " 'f_p25_META_cat_purchase_propensity_jaccard_sim_in_last_360_days',\n",
       " 'f_p50_META_cat_purchase_propensity_cosine_sim_in_last_360_days',\n",
       " 'f_p50_META_cat_purchase_propensity_jaccard_sim_in_last_360_days',\n",
       " 'f_p75_META_cat_purchase_propensity_cosine_sim_in_last_360_days',\n",
       " 'f_p75_META_cat_purchase_propensity_jaccard_sim_in_last_360_days',\n",
       " 'f_scoreratio_META_cat_purchase_propensity_cosine_sim_in_last_360_days',\n",
       " 'f_scoreratio_META_cat_purchase_propensity_jaccard_sim_in_last_360_days',\n",
       " 'f_poisson_META_cat_purchase_propensity_cosine_sim_in_last_360_days',\n",
       " 'f_poisson_META_cat_purchase_propensity_jaccard_sim_in_last_360_days',\n",
       " 'f_max_LEAF_cat_view_propensity_cosine_sim_in_last_7_days',\n",
       " 'f_max_LEAF_cat_view_propensity_jaccard_sim_in_last_7_days',\n",
       " 'f_min_LEAF_cat_view_propensity_cosine_sim_in_last_7_days',\n",
       " 'f_min_LEAF_cat_view_propensity_jaccard_sim_in_last_7_days',\n",
       " 'f_mean_LEAF_cat_view_propensity_cosine_sim_in_last_7_days',\n",
       " 'f_mean_LEAF_cat_view_propensity_jaccard_sim_in_last_7_days',\n",
       " 'f_var_LEAF_cat_view_propensity_cosine_sim_in_last_7_days',\n",
       " 'f_var_LEAF_cat_view_propensity_jaccard_sim_in_last_7_days',\n",
       " 'f_p25_LEAF_cat_view_propensity_cosine_sim_in_last_7_days',\n",
       " 'f_p25_LEAF_cat_view_propensity_jaccard_sim_in_last_7_days',\n",
       " 'f_p50_LEAF_cat_view_propensity_cosine_sim_in_last_7_days',\n",
       " 'f_p50_LEAF_cat_view_propensity_jaccard_sim_in_last_7_days',\n",
       " 'f_p75_LEAF_cat_view_propensity_cosine_sim_in_last_7_days',\n",
       " 'f_p75_LEAF_cat_view_propensity_jaccard_sim_in_last_7_days',\n",
       " 'f_scoreratio_LEAF_cat_view_propensity_cosine_sim_in_last_7_days',\n",
       " 'f_scoreratio_LEAF_cat_view_propensity_jaccard_sim_in_last_7_days',\n",
       " 'f_poisson_LEAF_cat_view_propensity_cosine_sim_in_last_7_days',\n",
       " 'f_poisson_LEAF_cat_view_propensity_jaccard_sim_in_last_7_days',\n",
       " 'f_max_LEAF_cat_view_propensity_cosine_sim_in_last_14_days',\n",
       " 'f_max_LEAF_cat_view_propensity_jaccard_sim_in_last_14_days',\n",
       " 'f_min_LEAF_cat_view_propensity_cosine_sim_in_last_14_days',\n",
       " 'f_min_LEAF_cat_view_propensity_jaccard_sim_in_last_14_days',\n",
       " 'f_mean_LEAF_cat_view_propensity_cosine_sim_in_last_14_days',\n",
       " 'f_mean_LEAF_cat_view_propensity_jaccard_sim_in_last_14_days',\n",
       " 'f_var_LEAF_cat_view_propensity_cosine_sim_in_last_14_days',\n",
       " 'f_var_LEAF_cat_view_propensity_jaccard_sim_in_last_14_days',\n",
       " 'f_p25_LEAF_cat_view_propensity_cosine_sim_in_last_14_days',\n",
       " 'f_p25_LEAF_cat_view_propensity_jaccard_sim_in_last_14_days',\n",
       " 'f_p50_LEAF_cat_view_propensity_cosine_sim_in_last_14_days',\n",
       " 'f_p50_LEAF_cat_view_propensity_jaccard_sim_in_last_14_days',\n",
       " 'f_p75_LEAF_cat_view_propensity_cosine_sim_in_last_14_days',\n",
       " 'f_p75_LEAF_cat_view_propensity_jaccard_sim_in_last_14_days',\n",
       " 'f_scoreratio_LEAF_cat_view_propensity_cosine_sim_in_last_14_days',\n",
       " 'f_scoreratio_LEAF_cat_view_propensity_jaccard_sim_in_last_14_days',\n",
       " 'f_poisson_LEAF_cat_view_propensity_cosine_sim_in_last_14_days',\n",
       " 'f_poisson_LEAF_cat_view_propensity_jaccard_sim_in_last_14_days',\n",
       " 'f_max_LEAF_cat_view_propensity_cosine_sim_in_last_30_days',\n",
       " 'f_max_LEAF_cat_view_propensity_jaccard_sim_in_last_30_days',\n",
       " 'f_min_LEAF_cat_view_propensity_cosine_sim_in_last_30_days',\n",
       " 'f_min_LEAF_cat_view_propensity_jaccard_sim_in_last_30_days',\n",
       " 'f_mean_LEAF_cat_view_propensity_cosine_sim_in_last_30_days',\n",
       " 'f_mean_LEAF_cat_view_propensity_jaccard_sim_in_last_30_days',\n",
       " 'f_var_LEAF_cat_view_propensity_cosine_sim_in_last_30_days',\n",
       " 'f_var_LEAF_cat_view_propensity_jaccard_sim_in_last_30_days',\n",
       " 'f_p25_LEAF_cat_view_propensity_cosine_sim_in_last_30_days',\n",
       " 'f_p25_LEAF_cat_view_propensity_jaccard_sim_in_last_30_days',\n",
       " 'f_p50_LEAF_cat_view_propensity_cosine_sim_in_last_30_days',\n",
       " 'f_p50_LEAF_cat_view_propensity_jaccard_sim_in_last_30_days',\n",
       " 'f_p75_LEAF_cat_view_propensity_cosine_sim_in_last_30_days',\n",
       " 'f_p75_LEAF_cat_view_propensity_jaccard_sim_in_last_30_days',\n",
       " 'f_scoreratio_LEAF_cat_view_propensity_cosine_sim_in_last_30_days',\n",
       " 'f_scoreratio_LEAF_cat_view_propensity_jaccard_sim_in_last_30_days',\n",
       " 'f_poisson_LEAF_cat_view_propensity_cosine_sim_in_last_30_days',\n",
       " 'f_poisson_LEAF_cat_view_propensity_jaccard_sim_in_last_30_days',\n",
       " 'f_max_LEAF_cat_view_propensity_cosine_sim_in_last_60_days',\n",
       " 'f_max_LEAF_cat_view_propensity_jaccard_sim_in_last_60_days',\n",
       " 'f_min_LEAF_cat_view_propensity_cosine_sim_in_last_60_days',\n",
       " 'f_min_LEAF_cat_view_propensity_jaccard_sim_in_last_60_days',\n",
       " 'f_mean_LEAF_cat_view_propensity_cosine_sim_in_last_60_days',\n",
       " 'f_mean_LEAF_cat_view_propensity_jaccard_sim_in_last_60_days',\n",
       " 'f_var_LEAF_cat_view_propensity_cosine_sim_in_last_60_days',\n",
       " 'f_var_LEAF_cat_view_propensity_jaccard_sim_in_last_60_days',\n",
       " 'f_p25_LEAF_cat_view_propensity_cosine_sim_in_last_60_days',\n",
       " 'f_p25_LEAF_cat_view_propensity_jaccard_sim_in_last_60_days',\n",
       " 'f_p50_LEAF_cat_view_propensity_cosine_sim_in_last_60_days',\n",
       " 'f_p50_LEAF_cat_view_propensity_jaccard_sim_in_last_60_days',\n",
       " 'f_p75_LEAF_cat_view_propensity_cosine_sim_in_last_60_days',\n",
       " 'f_p75_LEAF_cat_view_propensity_jaccard_sim_in_last_60_days',\n",
       " 'f_scoreratio_LEAF_cat_view_propensity_cosine_sim_in_last_60_days',\n",
       " 'f_scoreratio_LEAF_cat_view_propensity_jaccard_sim_in_last_60_days',\n",
       " 'f_poisson_LEAF_cat_view_propensity_cosine_sim_in_last_60_days',\n",
       " 'f_poisson_LEAF_cat_view_propensity_jaccard_sim_in_last_60_days',\n",
       " 'f_max_LEAF_cat_view_propensity_cosine_sim_in_last_90_days',\n",
       " 'f_max_LEAF_cat_view_propensity_jaccard_sim_in_last_90_days',\n",
       " 'f_min_LEAF_cat_view_propensity_cosine_sim_in_last_90_days',\n",
       " 'f_min_LEAF_cat_view_propensity_jaccard_sim_in_last_90_days',\n",
       " 'f_mean_LEAF_cat_view_propensity_cosine_sim_in_last_90_days',\n",
       " 'f_mean_LEAF_cat_view_propensity_jaccard_sim_in_last_90_days',\n",
       " 'f_var_LEAF_cat_view_propensity_cosine_sim_in_last_90_days',\n",
       " 'f_var_LEAF_cat_view_propensity_jaccard_sim_in_last_90_days',\n",
       " 'f_p25_LEAF_cat_view_propensity_cosine_sim_in_last_90_days',\n",
       " 'f_p25_LEAF_cat_view_propensity_jaccard_sim_in_last_90_days',\n",
       " 'f_p50_LEAF_cat_view_propensity_cosine_sim_in_last_90_days',\n",
       " 'f_p50_LEAF_cat_view_propensity_jaccard_sim_in_last_90_days',\n",
       " 'f_p75_LEAF_cat_view_propensity_cosine_sim_in_last_90_days',\n",
       " 'f_p75_LEAF_cat_view_propensity_jaccard_sim_in_last_90_days',\n",
       " 'f_scoreratio_LEAF_cat_view_propensity_cosine_sim_in_last_90_days',\n",
       " 'f_scoreratio_LEAF_cat_view_propensity_jaccard_sim_in_last_90_days',\n",
       " 'f_poisson_LEAF_cat_view_propensity_cosine_sim_in_last_90_days',\n",
       " 'f_poisson_LEAF_cat_view_propensity_jaccard_sim_in_last_90_days',\n",
       " 'f_max_LEAF_cat_view_propensity_cosine_sim_in_last_180_days',\n",
       " 'f_max_LEAF_cat_view_propensity_jaccard_sim_in_last_180_days',\n",
       " 'f_min_LEAF_cat_view_propensity_cosine_sim_in_last_180_days',\n",
       " 'f_min_LEAF_cat_view_propensity_jaccard_sim_in_last_180_days',\n",
       " 'f_mean_LEAF_cat_view_propensity_cosine_sim_in_last_180_days',\n",
       " 'f_mean_LEAF_cat_view_propensity_jaccard_sim_in_last_180_days',\n",
       " 'f_var_LEAF_cat_view_propensity_cosine_sim_in_last_180_days',\n",
       " 'f_var_LEAF_cat_view_propensity_jaccard_sim_in_last_180_days',\n",
       " 'f_p25_LEAF_cat_view_propensity_cosine_sim_in_last_180_days',\n",
       " 'f_p25_LEAF_cat_view_propensity_jaccard_sim_in_last_180_days',\n",
       " 'f_p50_LEAF_cat_view_propensity_cosine_sim_in_last_180_days',\n",
       " 'f_p50_LEAF_cat_view_propensity_jaccard_sim_in_last_180_days',\n",
       " 'f_p75_LEAF_cat_view_propensity_cosine_sim_in_last_180_days',\n",
       " 'f_p75_LEAF_cat_view_propensity_jaccard_sim_in_last_180_days',\n",
       " 'f_scoreratio_LEAF_cat_view_propensity_cosine_sim_in_last_180_days',\n",
       " 'f_scoreratio_LEAF_cat_view_propensity_jaccard_sim_in_last_180_days',\n",
       " 'f_poisson_LEAF_cat_view_propensity_cosine_sim_in_last_180_days',\n",
       " 'f_poisson_LEAF_cat_view_propensity_jaccard_sim_in_last_180_days',\n",
       " 'f_max_LEAF_cat_view_propensity_cosine_sim_in_last_360_days',\n",
       " 'f_max_LEAF_cat_view_propensity_jaccard_sim_in_last_360_days',\n",
       " 'f_min_LEAF_cat_view_propensity_cosine_sim_in_last_360_days',\n",
       " 'f_min_LEAF_cat_view_propensity_jaccard_sim_in_last_360_days',\n",
       " 'f_mean_LEAF_cat_view_propensity_cosine_sim_in_last_360_days',\n",
       " 'f_mean_LEAF_cat_view_propensity_jaccard_sim_in_last_360_days',\n",
       " 'f_var_LEAF_cat_view_propensity_cosine_sim_in_last_360_days',\n",
       " 'f_var_LEAF_cat_view_propensity_jaccard_sim_in_last_360_days',\n",
       " 'f_p25_LEAF_cat_view_propensity_cosine_sim_in_last_360_days',\n",
       " 'f_p25_LEAF_cat_view_propensity_jaccard_sim_in_last_360_days',\n",
       " 'f_p50_LEAF_cat_view_propensity_cosine_sim_in_last_360_days',\n",
       " 'f_p50_LEAF_cat_view_propensity_jaccard_sim_in_last_360_days',\n",
       " 'f_p75_LEAF_cat_view_propensity_cosine_sim_in_last_360_days',\n",
       " 'f_p75_LEAF_cat_view_propensity_jaccard_sim_in_last_360_days',\n",
       " 'f_scoreratio_LEAF_cat_view_propensity_cosine_sim_in_last_360_days',\n",
       " 'f_scoreratio_LEAF_cat_view_propensity_jaccard_sim_in_last_360_days',\n",
       " 'f_poisson_LEAF_cat_view_propensity_cosine_sim_in_last_360_days',\n",
       " 'f_poisson_LEAF_cat_view_propensity_jaccard_sim_in_last_360_days',\n",
       " 'f_max_LVL2_cat_view_propensity_cosine_sim_in_last_7_days',\n",
       " 'f_max_LVL2_cat_view_propensity_jaccard_sim_in_last_7_days',\n",
       " 'f_min_LVL2_cat_view_propensity_cosine_sim_in_last_7_days',\n",
       " 'f_min_LVL2_cat_view_propensity_jaccard_sim_in_last_7_days',\n",
       " 'f_mean_LVL2_cat_view_propensity_cosine_sim_in_last_7_days',\n",
       " 'f_mean_LVL2_cat_view_propensity_jaccard_sim_in_last_7_days',\n",
       " 'f_var_LVL2_cat_view_propensity_cosine_sim_in_last_7_days',\n",
       " 'f_var_LVL2_cat_view_propensity_jaccard_sim_in_last_7_days',\n",
       " 'f_p25_LVL2_cat_view_propensity_cosine_sim_in_last_7_days',\n",
       " 'f_p25_LVL2_cat_view_propensity_jaccard_sim_in_last_7_days',\n",
       " 'f_p50_LVL2_cat_view_propensity_cosine_sim_in_last_7_days',\n",
       " 'f_p50_LVL2_cat_view_propensity_jaccard_sim_in_last_7_days',\n",
       " 'f_p75_LVL2_cat_view_propensity_cosine_sim_in_last_7_days',\n",
       " 'f_p75_LVL2_cat_view_propensity_jaccard_sim_in_last_7_days',\n",
       " 'f_scoreratio_LVL2_cat_view_propensity_cosine_sim_in_last_7_days',\n",
       " 'f_scoreratio_LVL2_cat_view_propensity_jaccard_sim_in_last_7_days',\n",
       " 'f_poisson_LVL2_cat_view_propensity_cosine_sim_in_last_7_days',\n",
       " 'f_poisson_LVL2_cat_view_propensity_jaccard_sim_in_last_7_days',\n",
       " 'f_max_LVL2_cat_view_propensity_cosine_sim_in_last_14_days',\n",
       " 'f_max_LVL2_cat_view_propensity_jaccard_sim_in_last_14_days',\n",
       " 'f_min_LVL2_cat_view_propensity_cosine_sim_in_last_14_days',\n",
       " 'f_min_LVL2_cat_view_propensity_jaccard_sim_in_last_14_days',\n",
       " 'f_mean_LVL2_cat_view_propensity_cosine_sim_in_last_14_days',\n",
       " 'f_mean_LVL2_cat_view_propensity_jaccard_sim_in_last_14_days',\n",
       " 'f_var_LVL2_cat_view_propensity_cosine_sim_in_last_14_days',\n",
       " 'f_var_LVL2_cat_view_propensity_jaccard_sim_in_last_14_days',\n",
       " 'f_p25_LVL2_cat_view_propensity_cosine_sim_in_last_14_days',\n",
       " 'f_p25_LVL2_cat_view_propensity_jaccard_sim_in_last_14_days',\n",
       " 'f_p50_LVL2_cat_view_propensity_cosine_sim_in_last_14_days',\n",
       " 'f_p50_LVL2_cat_view_propensity_jaccard_sim_in_last_14_days',\n",
       " 'f_p75_LVL2_cat_view_propensity_cosine_sim_in_last_14_days',\n",
       " 'f_p75_LVL2_cat_view_propensity_jaccard_sim_in_last_14_days',\n",
       " 'f_scoreratio_LVL2_cat_view_propensity_cosine_sim_in_last_14_days',\n",
       " 'f_scoreratio_LVL2_cat_view_propensity_jaccard_sim_in_last_14_days',\n",
       " 'f_poisson_LVL2_cat_view_propensity_cosine_sim_in_last_14_days',\n",
       " 'f_poisson_LVL2_cat_view_propensity_jaccard_sim_in_last_14_days',\n",
       " 'f_max_LVL2_cat_view_propensity_cosine_sim_in_last_30_days',\n",
       " 'f_max_LVL2_cat_view_propensity_jaccard_sim_in_last_30_days',\n",
       " 'f_min_LVL2_cat_view_propensity_cosine_sim_in_last_30_days',\n",
       " 'f_min_LVL2_cat_view_propensity_jaccard_sim_in_last_30_days',\n",
       " 'f_mean_LVL2_cat_view_propensity_cosine_sim_in_last_30_days',\n",
       " 'f_mean_LVL2_cat_view_propensity_jaccard_sim_in_last_30_days',\n",
       " 'f_var_LVL2_cat_view_propensity_cosine_sim_in_last_30_days',\n",
       " 'f_var_LVL2_cat_view_propensity_jaccard_sim_in_last_30_days',\n",
       " 'f_p25_LVL2_cat_view_propensity_cosine_sim_in_last_30_days',\n",
       " 'f_p25_LVL2_cat_view_propensity_jaccard_sim_in_last_30_days',\n",
       " 'f_p50_LVL2_cat_view_propensity_cosine_sim_in_last_30_days',\n",
       " 'f_p50_LVL2_cat_view_propensity_jaccard_sim_in_last_30_days',\n",
       " 'f_p75_LVL2_cat_view_propensity_cosine_sim_in_last_30_days',\n",
       " 'f_p75_LVL2_cat_view_propensity_jaccard_sim_in_last_30_days',\n",
       " 'f_scoreratio_LVL2_cat_view_propensity_cosine_sim_in_last_30_days',\n",
       " 'f_scoreratio_LVL2_cat_view_propensity_jaccard_sim_in_last_30_days',\n",
       " 'f_poisson_LVL2_cat_view_propensity_cosine_sim_in_last_30_days',\n",
       " 'f_poisson_LVL2_cat_view_propensity_jaccard_sim_in_last_30_days',\n",
       " 'f_max_LVL2_cat_view_propensity_cosine_sim_in_last_60_days',\n",
       " 'f_max_LVL2_cat_view_propensity_jaccard_sim_in_last_60_days',\n",
       " 'f_min_LVL2_cat_view_propensity_cosine_sim_in_last_60_days',\n",
       " 'f_min_LVL2_cat_view_propensity_jaccard_sim_in_last_60_days',\n",
       " 'f_mean_LVL2_cat_view_propensity_cosine_sim_in_last_60_days',\n",
       " 'f_mean_LVL2_cat_view_propensity_jaccard_sim_in_last_60_days',\n",
       " 'f_var_LVL2_cat_view_propensity_cosine_sim_in_last_60_days',\n",
       " 'f_var_LVL2_cat_view_propensity_jaccard_sim_in_last_60_days',\n",
       " 'f_p25_LVL2_cat_view_propensity_cosine_sim_in_last_60_days',\n",
       " 'f_p25_LVL2_cat_view_propensity_jaccard_sim_in_last_60_days',\n",
       " 'f_p50_LVL2_cat_view_propensity_cosine_sim_in_last_60_days',\n",
       " 'f_p50_LVL2_cat_view_propensity_jaccard_sim_in_last_60_days',\n",
       " 'f_p75_LVL2_cat_view_propensity_cosine_sim_in_last_60_days',\n",
       " 'f_p75_LVL2_cat_view_propensity_jaccard_sim_in_last_60_days',\n",
       " 'f_scoreratio_LVL2_cat_view_propensity_cosine_sim_in_last_60_days',\n",
       " 'f_scoreratio_LVL2_cat_view_propensity_jaccard_sim_in_last_60_days',\n",
       " 'f_poisson_LVL2_cat_view_propensity_cosine_sim_in_last_60_days',\n",
       " 'f_poisson_LVL2_cat_view_propensity_jaccard_sim_in_last_60_days',\n",
       " 'f_max_LVL2_cat_view_propensity_cosine_sim_in_last_90_days',\n",
       " 'f_max_LVL2_cat_view_propensity_jaccard_sim_in_last_90_days',\n",
       " 'f_min_LVL2_cat_view_propensity_cosine_sim_in_last_90_days',\n",
       " 'f_min_LVL2_cat_view_propensity_jaccard_sim_in_last_90_days',\n",
       " 'f_mean_LVL2_cat_view_propensity_cosine_sim_in_last_90_days',\n",
       " 'f_mean_LVL2_cat_view_propensity_jaccard_sim_in_last_90_days',\n",
       " 'f_var_LVL2_cat_view_propensity_cosine_sim_in_last_90_days',\n",
       " 'f_var_LVL2_cat_view_propensity_jaccard_sim_in_last_90_days',\n",
       " 'f_p25_LVL2_cat_view_propensity_cosine_sim_in_last_90_days',\n",
       " 'f_p25_LVL2_cat_view_propensity_jaccard_sim_in_last_90_days',\n",
       " 'f_p50_LVL2_cat_view_propensity_cosine_sim_in_last_90_days',\n",
       " 'f_p50_LVL2_cat_view_propensity_jaccard_sim_in_last_90_days',\n",
       " 'f_p75_LVL2_cat_view_propensity_cosine_sim_in_last_90_days',\n",
       " 'f_p75_LVL2_cat_view_propensity_jaccard_sim_in_last_90_days',\n",
       " 'f_scoreratio_LVL2_cat_view_propensity_cosine_sim_in_last_90_days',\n",
       " 'f_scoreratio_LVL2_cat_view_propensity_jaccard_sim_in_last_90_days',\n",
       " 'f_poisson_LVL2_cat_view_propensity_cosine_sim_in_last_90_days',\n",
       " 'f_poisson_LVL2_cat_view_propensity_jaccard_sim_in_last_90_days',\n",
       " 'f_max_LVL2_cat_view_propensity_cosine_sim_in_last_180_days',\n",
       " 'f_max_LVL2_cat_view_propensity_jaccard_sim_in_last_180_days',\n",
       " 'f_min_LVL2_cat_view_propensity_cosine_sim_in_last_180_days',\n",
       " 'f_min_LVL2_cat_view_propensity_jaccard_sim_in_last_180_days',\n",
       " 'f_mean_LVL2_cat_view_propensity_cosine_sim_in_last_180_days',\n",
       " 'f_mean_LVL2_cat_view_propensity_jaccard_sim_in_last_180_days',\n",
       " 'f_var_LVL2_cat_view_propensity_cosine_sim_in_last_180_days',\n",
       " 'f_var_LVL2_cat_view_propensity_jaccard_sim_in_last_180_days',\n",
       " 'f_p25_LVL2_cat_view_propensity_cosine_sim_in_last_180_days',\n",
       " 'f_p25_LVL2_cat_view_propensity_jaccard_sim_in_last_180_days',\n",
       " 'f_p50_LVL2_cat_view_propensity_cosine_sim_in_last_180_days',\n",
       " 'f_p50_LVL2_cat_view_propensity_jaccard_sim_in_last_180_days',\n",
       " 'f_p75_LVL2_cat_view_propensity_cosine_sim_in_last_180_days',\n",
       " 'f_p75_LVL2_cat_view_propensity_jaccard_sim_in_last_180_days',\n",
       " 'f_scoreratio_LVL2_cat_view_propensity_cosine_sim_in_last_180_days',\n",
       " 'f_scoreratio_LVL2_cat_view_propensity_jaccard_sim_in_last_180_days',\n",
       " 'f_poisson_LVL2_cat_view_propensity_cosine_sim_in_last_180_days',\n",
       " 'f_poisson_LVL2_cat_view_propensity_jaccard_sim_in_last_180_days',\n",
       " 'f_max_LVL2_cat_view_propensity_cosine_sim_in_last_360_days',\n",
       " 'f_max_LVL2_cat_view_propensity_jaccard_sim_in_last_360_days',\n",
       " 'f_min_LVL2_cat_view_propensity_cosine_sim_in_last_360_days',\n",
       " 'f_min_LVL2_cat_view_propensity_jaccard_sim_in_last_360_days',\n",
       " 'f_mean_LVL2_cat_view_propensity_cosine_sim_in_last_360_days',\n",
       " 'f_mean_LVL2_cat_view_propensity_jaccard_sim_in_last_360_days',\n",
       " 'f_var_LVL2_cat_view_propensity_cosine_sim_in_last_360_days',\n",
       " 'f_var_LVL2_cat_view_propensity_jaccard_sim_in_last_360_days',\n",
       " 'f_p25_LVL2_cat_view_propensity_cosine_sim_in_last_360_days',\n",
       " 'f_p25_LVL2_cat_view_propensity_jaccard_sim_in_last_360_days',\n",
       " 'f_p50_LVL2_cat_view_propensity_cosine_sim_in_last_360_days',\n",
       " 'f_p50_LVL2_cat_view_propensity_jaccard_sim_in_last_360_days',\n",
       " 'f_p75_LVL2_cat_view_propensity_cosine_sim_in_last_360_days',\n",
       " 'f_p75_LVL2_cat_view_propensity_jaccard_sim_in_last_360_days',\n",
       " 'f_scoreratio_LVL2_cat_view_propensity_cosine_sim_in_last_360_days',\n",
       " 'f_scoreratio_LVL2_cat_view_propensity_jaccard_sim_in_last_360_days',\n",
       " 'f_poisson_LVL2_cat_view_propensity_cosine_sim_in_last_360_days',\n",
       " 'f_poisson_LVL2_cat_view_propensity_jaccard_sim_in_last_360_days',\n",
       " 'f_max_META_cat_view_propensity_cosine_sim_in_last_7_days',\n",
       " 'f_max_META_cat_view_propensity_jaccard_sim_in_last_7_days',\n",
       " 'f_min_META_cat_view_propensity_cosine_sim_in_last_7_days',\n",
       " 'f_min_META_cat_view_propensity_jaccard_sim_in_last_7_days',\n",
       " 'f_mean_META_cat_view_propensity_cosine_sim_in_last_7_days',\n",
       " 'f_mean_META_cat_view_propensity_jaccard_sim_in_last_7_days',\n",
       " 'f_var_META_cat_view_propensity_cosine_sim_in_last_7_days',\n",
       " 'f_var_META_cat_view_propensity_jaccard_sim_in_last_7_days',\n",
       " 'f_p25_META_cat_view_propensity_cosine_sim_in_last_7_days',\n",
       " 'f_p25_META_cat_view_propensity_jaccard_sim_in_last_7_days',\n",
       " 'f_p50_META_cat_view_propensity_cosine_sim_in_last_7_days',\n",
       " 'f_p50_META_cat_view_propensity_jaccard_sim_in_last_7_days',\n",
       " 'f_p75_META_cat_view_propensity_cosine_sim_in_last_7_days',\n",
       " 'f_p75_META_cat_view_propensity_jaccard_sim_in_last_7_days',\n",
       " 'f_scoreratio_META_cat_view_propensity_cosine_sim_in_last_7_days',\n",
       " 'f_scoreratio_META_cat_view_propensity_jaccard_sim_in_last_7_days',\n",
       " 'f_poisson_META_cat_view_propensity_cosine_sim_in_last_7_days',\n",
       " 'f_poisson_META_cat_view_propensity_jaccard_sim_in_last_7_days',\n",
       " 'f_max_META_cat_view_propensity_cosine_sim_in_last_14_days',\n",
       " 'f_max_META_cat_view_propensity_jaccard_sim_in_last_14_days',\n",
       " 'f_min_META_cat_view_propensity_cosine_sim_in_last_14_days',\n",
       " 'f_min_META_cat_view_propensity_jaccard_sim_in_last_14_days',\n",
       " 'f_mean_META_cat_view_propensity_cosine_sim_in_last_14_days',\n",
       " 'f_mean_META_cat_view_propensity_jaccard_sim_in_last_14_days',\n",
       " 'f_var_META_cat_view_propensity_cosine_sim_in_last_14_days',\n",
       " 'f_var_META_cat_view_propensity_jaccard_sim_in_last_14_days',\n",
       " 'f_p25_META_cat_view_propensity_cosine_sim_in_last_14_days',\n",
       " 'f_p25_META_cat_view_propensity_jaccard_sim_in_last_14_days',\n",
       " 'f_p50_META_cat_view_propensity_cosine_sim_in_last_14_days',\n",
       " 'f_p50_META_cat_view_propensity_jaccard_sim_in_last_14_days',\n",
       " 'f_p75_META_cat_view_propensity_cosine_sim_in_last_14_days',\n",
       " 'f_p75_META_cat_view_propensity_jaccard_sim_in_last_14_days',\n",
       " 'f_scoreratio_META_cat_view_propensity_cosine_sim_in_last_14_days',\n",
       " 'f_scoreratio_META_cat_view_propensity_jaccard_sim_in_last_14_days',\n",
       " 'f_poisson_META_cat_view_propensity_cosine_sim_in_last_14_days',\n",
       " 'f_poisson_META_cat_view_propensity_jaccard_sim_in_last_14_days',\n",
       " 'f_max_META_cat_view_propensity_cosine_sim_in_last_30_days',\n",
       " 'f_max_META_cat_view_propensity_jaccard_sim_in_last_30_days',\n",
       " 'f_min_META_cat_view_propensity_cosine_sim_in_last_30_days',\n",
       " 'f_min_META_cat_view_propensity_jaccard_sim_in_last_30_days',\n",
       " 'f_mean_META_cat_view_propensity_cosine_sim_in_last_30_days',\n",
       " 'f_mean_META_cat_view_propensity_jaccard_sim_in_last_30_days',\n",
       " 'f_var_META_cat_view_propensity_cosine_sim_in_last_30_days',\n",
       " 'f_var_META_cat_view_propensity_jaccard_sim_in_last_30_days',\n",
       " 'f_p25_META_cat_view_propensity_cosine_sim_in_last_30_days',\n",
       " 'f_p25_META_cat_view_propensity_jaccard_sim_in_last_30_days',\n",
       " 'f_p50_META_cat_view_propensity_cosine_sim_in_last_30_days',\n",
       " 'f_p50_META_cat_view_propensity_jaccard_sim_in_last_30_days',\n",
       " 'f_p75_META_cat_view_propensity_cosine_sim_in_last_30_days',\n",
       " 'f_p75_META_cat_view_propensity_jaccard_sim_in_last_30_days',\n",
       " 'f_scoreratio_META_cat_view_propensity_cosine_sim_in_last_30_days',\n",
       " 'f_scoreratio_META_cat_view_propensity_jaccard_sim_in_last_30_days',\n",
       " 'f_poisson_META_cat_view_propensity_cosine_sim_in_last_30_days',\n",
       " 'f_poisson_META_cat_view_propensity_jaccard_sim_in_last_30_days',\n",
       " 'f_max_META_cat_view_propensity_cosine_sim_in_last_60_days',\n",
       " 'f_max_META_cat_view_propensity_jaccard_sim_in_last_60_days',\n",
       " 'f_min_META_cat_view_propensity_cosine_sim_in_last_60_days',\n",
       " 'f_min_META_cat_view_propensity_jaccard_sim_in_last_60_days',\n",
       " 'f_mean_META_cat_view_propensity_cosine_sim_in_last_60_days',\n",
       " 'f_mean_META_cat_view_propensity_jaccard_sim_in_last_60_days',\n",
       " 'f_var_META_cat_view_propensity_cosine_sim_in_last_60_days',\n",
       " 'f_var_META_cat_view_propensity_jaccard_sim_in_last_60_days',\n",
       " 'f_p25_META_cat_view_propensity_cosine_sim_in_last_60_days',\n",
       " 'f_p25_META_cat_view_propensity_jaccard_sim_in_last_60_days',\n",
       " 'f_p50_META_cat_view_propensity_cosine_sim_in_last_60_days',\n",
       " 'f_p50_META_cat_view_propensity_jaccard_sim_in_last_60_days',\n",
       " 'f_p75_META_cat_view_propensity_cosine_sim_in_last_60_days',\n",
       " 'f_p75_META_cat_view_propensity_jaccard_sim_in_last_60_days',\n",
       " 'f_scoreratio_META_cat_view_propensity_cosine_sim_in_last_60_days',\n",
       " 'f_scoreratio_META_cat_view_propensity_jaccard_sim_in_last_60_days',\n",
       " 'f_poisson_META_cat_view_propensity_cosine_sim_in_last_60_days',\n",
       " 'f_poisson_META_cat_view_propensity_jaccard_sim_in_last_60_days',\n",
       " 'f_max_META_cat_view_propensity_cosine_sim_in_last_90_days',\n",
       " 'f_max_META_cat_view_propensity_jaccard_sim_in_last_90_days',\n",
       " 'f_min_META_cat_view_propensity_cosine_sim_in_last_90_days',\n",
       " 'f_min_META_cat_view_propensity_jaccard_sim_in_last_90_days',\n",
       " 'f_mean_META_cat_view_propensity_cosine_sim_in_last_90_days',\n",
       " 'f_mean_META_cat_view_propensity_jaccard_sim_in_last_90_days',\n",
       " 'f_var_META_cat_view_propensity_cosine_sim_in_last_90_days',\n",
       " 'f_var_META_cat_view_propensity_jaccard_sim_in_last_90_days',\n",
       " 'f_p25_META_cat_view_propensity_cosine_sim_in_last_90_days',\n",
       " 'f_p25_META_cat_view_propensity_jaccard_sim_in_last_90_days',\n",
       " 'f_p50_META_cat_view_propensity_cosine_sim_in_last_90_days',\n",
       " 'f_p50_META_cat_view_propensity_jaccard_sim_in_last_90_days',\n",
       " 'f_p75_META_cat_view_propensity_cosine_sim_in_last_90_days',\n",
       " 'f_p75_META_cat_view_propensity_jaccard_sim_in_last_90_days',\n",
       " 'f_scoreratio_META_cat_view_propensity_cosine_sim_in_last_90_days',\n",
       " 'f_scoreratio_META_cat_view_propensity_jaccard_sim_in_last_90_days',\n",
       " 'f_poisson_META_cat_view_propensity_cosine_sim_in_last_90_days',\n",
       " 'f_poisson_META_cat_view_propensity_jaccard_sim_in_last_90_days',\n",
       " 'f_max_META_cat_view_propensity_cosine_sim_in_last_180_days',\n",
       " 'f_max_META_cat_view_propensity_jaccard_sim_in_last_180_days',\n",
       " 'f_min_META_cat_view_propensity_cosine_sim_in_last_180_days',\n",
       " 'f_min_META_cat_view_propensity_jaccard_sim_in_last_180_days',\n",
       " 'f_mean_META_cat_view_propensity_cosine_sim_in_last_180_days',\n",
       " 'f_mean_META_cat_view_propensity_jaccard_sim_in_last_180_days',\n",
       " 'f_var_META_cat_view_propensity_cosine_sim_in_last_180_days',\n",
       " 'f_var_META_cat_view_propensity_jaccard_sim_in_last_180_days',\n",
       " 'f_p25_META_cat_view_propensity_cosine_sim_in_last_180_days',\n",
       " 'f_p25_META_cat_view_propensity_jaccard_sim_in_last_180_days',\n",
       " 'f_p50_META_cat_view_propensity_cosine_sim_in_last_180_days',\n",
       " 'f_p50_META_cat_view_propensity_jaccard_sim_in_last_180_days',\n",
       " 'f_p75_META_cat_view_propensity_cosine_sim_in_last_180_days',\n",
       " 'f_p75_META_cat_view_propensity_jaccard_sim_in_last_180_days',\n",
       " 'f_scoreratio_META_cat_view_propensity_cosine_sim_in_last_180_days',\n",
       " 'f_scoreratio_META_cat_view_propensity_jaccard_sim_in_last_180_days',\n",
       " 'f_poisson_META_cat_view_propensity_cosine_sim_in_last_180_days',\n",
       " 'f_poisson_META_cat_view_propensity_jaccard_sim_in_last_180_days',\n",
       " 'f_max_META_cat_view_propensity_cosine_sim_in_last_360_days',\n",
       " 'f_max_META_cat_view_propensity_jaccard_sim_in_last_360_days',\n",
       " 'f_min_META_cat_view_propensity_cosine_sim_in_last_360_days',\n",
       " 'f_min_META_cat_view_propensity_jaccard_sim_in_last_360_days',\n",
       " 'f_mean_META_cat_view_propensity_cosine_sim_in_last_360_days',\n",
       " 'f_mean_META_cat_view_propensity_jaccard_sim_in_last_360_days',\n",
       " 'f_var_META_cat_view_propensity_cosine_sim_in_last_360_days',\n",
       " 'f_var_META_cat_view_propensity_jaccard_sim_in_last_360_days',\n",
       " 'f_p25_META_cat_view_propensity_cosine_sim_in_last_360_days',\n",
       " 'f_p25_META_cat_view_propensity_jaccard_sim_in_last_360_days',\n",
       " 'f_p50_META_cat_view_propensity_cosine_sim_in_last_360_days',\n",
       " 'f_p50_META_cat_view_propensity_jaccard_sim_in_last_360_days',\n",
       " 'f_p75_META_cat_view_propensity_cosine_sim_in_last_360_days',\n",
       " 'f_p75_META_cat_view_propensity_jaccard_sim_in_last_360_days',\n",
       " 'f_scoreratio_META_cat_view_propensity_cosine_sim_in_last_360_days',\n",
       " 'f_scoreratio_META_cat_view_propensity_jaccard_sim_in_last_360_days',\n",
       " 'f_poisson_META_cat_view_propensity_cosine_sim_in_last_360_days',\n",
       " 'f_poisson_META_cat_view_propensity_jaccard_sim_in_last_360_days']"
      ]
     },
     "execution_count": 5,
     "metadata": {},
     "output_type": "execute_result"
    }
   ],
   "source": [
    "df_res_sample.columns"
   ]
  },
  {
   "cell_type": "markdown",
   "id": "d0133628-5dea-477c-8db0-8484ba03d19b",
   "metadata": {},
   "source": [
    "## Sample data for tests"
   ]
  },
  {
   "cell_type": "code",
   "execution_count": 6,
   "id": "c006f8da-1ed8-43e9-8a08-33788b508eaa",
   "metadata": {},
   "outputs": [],
   "source": [
    "from pyspark.sql import functions as F\n",
    "import feature_helpers as fe\n",
    "from pyspark.sql.types import FloatType\n",
    "import numpy as np\n",
    "\n",
    "\n",
    "specific_buyer_ids = [11245860, 1498530061, 1324204268, 1132069035] # 5 rows total with leaf\n",
    "\n",
    "# Step 2: Filter df_smp, df_prch, and df_vi to only include those specific buyers\n",
    "df_smp_sample = df_smp.filter(df_smp.BUYER_ID.isin(specific_buyer_ids))\n",
    "df_prch_sample = df_prch.filter(df_prch.BUYER_ID.isin(specific_buyer_ids))\n",
    "df_vi_sample = df_vi.filter(df_vi.BUYER_ID.isin(specific_buyer_ids))\n"
   ]
  },
  {
   "cell_type": "code",
   "execution_count": 66,
   "id": "13cb37d6-acad-41ea-9a0d-f2819946ef91",
   "metadata": {},
   "outputs": [],
   "source": [
    "import feature_helpers as fe"
   ]
  },
  {
   "cell_type": "code",
   "execution_count": 25,
   "id": "a39124a9-da11-46a1-92ee-b68f574d8562",
   "metadata": {},
   "outputs": [
    {
     "data": {
      "text/plain": [
       "1.0"
      ]
     },
     "execution_count": 25,
     "metadata": {},
     "output_type": "execute_result"
    }
   ],
   "source": [
    "sum ([0.35, 0.25, 0.2, 0.1, 0.06, 0.04])"
   ]
  },
  {
   "cell_type": "code",
   "execution_count": 24,
   "id": "2f763138-4acf-4786-9d68-e619631aaf4c",
   "metadata": {},
   "outputs": [
    {
     "data": {
      "text/plain": [
       "1.2"
      ]
     },
     "execution_count": 24,
     "metadata": {},
     "output_type": "execute_result"
    }
   ],
   "source": [
    "sum ([0.35, 0.3, 0.25, 0.2, 0.05, 0.05])"
   ]
  },
  {
   "cell_type": "markdown",
   "id": "9b97dd07-4ae0-432b-9905-fd554d153a8c",
   "metadata": {},
   "source": [
    "## Calc weighted actions of user:"
   ]
  },
  {
   "cell_type": "code",
   "execution_count": 69,
   "id": "707a5118-f857-44c9-8831-8d5a097f5546",
   "metadata": {},
   "outputs": [],
   "source": [
    "from pyspark.sql import functions as F\n",
    "\n",
    "def _leaf_condition(df1, df2, cat_type=\"LEAF\"):\n",
    "    if cat_type == \"LEAF\":\n",
    "        return (df1.LEAF_CATEG_ID == df2.LEAF_CATEG_ID)\n",
    "    elif cat_type == \"LVL2\":\n",
    "        return (df1.CATEG_LVL2_ID == df2.CATEG_LVL2_ID)\n",
    "    else:\n",
    "        return (df1.META_CATEG_ID == df2.META_CATEG_ID) \n",
    "    \n",
    "def _leaf_id_col(df, cat_type=\"LEAF\"):\n",
    "    if cat_type == \"LEAF\":\n",
    "        return df.LEAF_CATEG_ID\n",
    "    elif cat_type == \"LVL2\":\n",
    "        return df.CATEG_LVL2_ID\n",
    "    else:\n",
    "        return df.META_CATEG_ID\n",
    "    \n",
    "def _leaf_name_col(df, cat_type=\"LEAF\"):\n",
    "    if cat_type == \"LEAF\":\n",
    "        return df.LEAF_CATEG_NAME\n",
    "    elif cat_type == \"LVL2\":\n",
    "        return df.CATEG_LVL2_NAME\n",
    "    else:\n",
    "        return df.META_CATEG_NAME\n",
    "\n",
    "def f_weighted_num_actions_from_cat_in_last_x_days(df_base, df_prch, cat_type=\"LEAF\", action_type=\"purchase\",\n",
    "                                                   time_windows=[2, 7, 30, 90, 180, 360], weights=[0.35, 0.25, 0.2, 0.1, 0.06, 0.04]): \n",
    "    \n",
    "    # Define the final feature name for weighted actions\n",
    "    feature_name = f\"f_weighted_num_{action_type}s_from_{cat_type}_cat\"\n",
    "    \n",
    "    # Initialize a column to hold the cumulative weighted sum\n",
    "    df_base = df_base.withColumn(feature_name, F.lit(0))\n",
    "    \n",
    "    # Calculate each time-window feature and apply the corresponding weight\n",
    "    for i, days in enumerate(time_windows):\n",
    "        # Call `f_num_actions_from_cat_in_last_x_days` for each time window\n",
    "        df_window = f_num_actions_from_cat_in_last_x_days(df_base, df_prch, cat_type=cat_type, days=days, action_type=action_type)\n",
    "       \n",
    "        \n",
    "        # Generate the specific feature name from the base function for this time window\n",
    "        window_feature_name = f\"f_num_{action_type}s_from_{cat_type}_cat_in_last_{days}_days\"\n",
    "        \n",
    "        # Rename BUYER_ID and EVENT_TIMESTAMP to avoid ambiguity\n",
    "        df_window = (df_window\n",
    "                     .withColumnRenamed(\"BUYER_ID\", \"window_BUYER_ID\")\n",
    "                     .withColumnRenamed(\"EVENT_TIMESTAMP\", \"window_EVENT_TIMESTAMP\"))\n",
    "        \n",
    "        # Join the result to the base DataFrame and apply the weight\n",
    "        df_base = (df_base\n",
    "                   .join(\n",
    "                       df_window.select(\"window_BUYER_ID\", _leaf_id_col(df_window, cat_type), \"window_EVENT_TIMESTAMP\", window_feature_name),\n",
    "                       on=[\n",
    "                           df_base[\"BUYER_ID\"] == df_window[\"window_BUYER_ID\"],\n",
    "                           _leaf_condition(df_base, df_window, cat_type),\n",
    "                           df_base[\"EVENT_TIMESTAMP\"] == df_window[\"window_EVENT_TIMESTAMP\"]\n",
    "                       ], \n",
    "                       how=\"left\"\n",
    "                   )\n",
    "                   .select(\n",
    "                       df_base[\"BUYER_ID\"],\n",
    "                       _leaf_id_col(df_base, cat_type),\n",
    "                       df_base[\"EVENT_TIMESTAMP\"],\n",
    "                       df_base[feature_name],\n",
    "                       F.coalesce(F.col(window_feature_name), F.lit(0)).alias(f\"weighted_{window_feature_name}\")\n",
    "                   ))\n",
    "        \n",
    "        \n",
    "        \n",
    "        # If column doesn't exist, use 0 as default and then multiply by the weight\n",
    "        weighted_column = F.coalesce(F.col(f\"weighted_{window_feature_name}\"), F.lit(0)) * weights[i]\n",
    "        \n",
    "        # Accumulate the weighted sum into the main feature column\n",
    "        df_base = df_base.withColumn(feature_name, F.col(feature_name) + weighted_column)\n",
    "      #  df_base.show()\n",
    "    # Return only necessary columns: identifier and the final weighted feature\n",
    "    df_res = df_base.select(\"BUYER_ID\", _leaf_id_col(df_base, cat_type), \"EVENT_TIMESTAMP\", feature_name)\n",
    "    \n",
    "    return df_res\n"
   ]
  },
  {
   "cell_type": "code",
   "execution_count": 70,
   "id": "cf3e23db-00f6-4480-b850-cafc5fec5659",
   "metadata": {
    "scrolled": true,
    "tags": []
   },
   "outputs": [
    {
     "name": "stderr",
     "output_type": "stream",
     "text": [
      "[Stage 2051:==========================================>        (316 + 59) / 375]) / 1000]\r"
     ]
    },
    {
     "name": "stdout",
     "output_type": "stream",
     "text": [
      "+----------+-------------+---------------+--------------------------------------+\n",
      "|  BUYER_ID|LEAF_CATEG_ID|EVENT_TIMESTAMP|f_weighted_num_purchases_from_LEAF_cat|\n",
      "+----------+-------------+---------------+--------------------------------------+\n",
      "|1132069035|        24410|     2024-05-01|                                  0.28|\n",
      "|1498530061|       168135|     2024-05-01|                                   8.0|\n",
      "|  11245860|       127413|     2024-05-01|                                   0.0|\n",
      "|  11245860|        47173|     2024-05-01|                                   0.0|\n",
      "|1324204268|         2885|     2024-05-01|                                   0.1|\n",
      "+----------+-------------+---------------+--------------------------------------+\n",
      "\n"
     ]
    },
    {
     "name": "stderr",
     "output_type": "stream",
     "text": [
      "                                                                                \r"
     ]
    }
   ],
   "source": [
    "df_tsf= f_weighted_num_actions_from_cat_in_last_x_days(df_smp_sample, df_vi_sample, cat_type=\"LEAF\", action_type=\"purchase\",\n",
    "                                                       time_windows=[2, 7, 30, 90, 180, 360], weights=[0.35, 0.25, 0.2, 0.1, 0.06, 0.04])\n",
    "    # Define the final feature name for weighted actions\n",
    "df_tsf.show()"
   ]
  },
  {
   "cell_type": "code",
   "execution_count": 7,
   "id": "51f8f3e8-a0d5-4b17-b32e-f6fc0d82cc38",
   "metadata": {},
   "outputs": [
    {
     "name": "stderr",
     "output_type": "stream",
     "text": [
      "                                                                                00]0]]\r"
     ]
    },
    {
     "name": "stdout",
     "output_type": "stream",
     "text": [
      "+----------+-------------+---------------+--------------------------------------+\n",
      "|  BUYER_ID|LEAF_CATEG_ID|EVENT_TIMESTAMP|f_weighted_num_purchases_from_LEAF_cat|\n",
      "+----------+-------------+---------------+--------------------------------------+\n",
      "|1132069035|        24410|     2024-05-01|                                  0.28|\n",
      "|1498530061|       168135|     2024-05-01|                                   8.0|\n",
      "|  11245860|       127413|     2024-05-01|                                   0.0|\n",
      "|  11245860|        47173|     2024-05-01|                                   0.0|\n",
      "|1324204268|         2885|     2024-05-01|                                   0.1|\n",
      "+----------+-------------+---------------+--------------------------------------+\n",
      "\n"
     ]
    }
   ],
   "source": [
    "import features as F\n",
    "df_ft = F.f_weighted_num_actions_from_cat_in_last_x_days(df_smp_sample, df_vi_sample, cat_type=\"LEAF\", action_type=\"purchase\", \\\n",
    "                                                  time_windows=[2, 7, 30, 90, 180, 360], weights=[0.35, 0.25, 0.2, 0.1, 0.06, 0.04])\n",
    "df_ft.show()"
   ]
  },
  {
   "cell_type": "code",
   "execution_count": 7,
   "id": "881a11ce-47fb-4754-8277-d307a2b866e5",
   "metadata": {},
   "outputs": [
    {
     "name": "stderr",
     "output_type": "stream",
     "text": [
      "[Stage 125:========================================>           (295 + 80) / 375]]]]\r"
     ]
    },
    {
     "name": "stdout",
     "output_type": "stream",
     "text": [
      "+----------+-------------+---------------+--------------------------------------+\n",
      "|  BUYER_ID|CATEG_LVL2_ID|EVENT_TIMESTAMP|f_weighted_num_purchases_from_LVL2_cat|\n",
      "+----------+-------------+---------------+--------------------------------------+\n",
      "|1324204268|        24409|     2024-05-01|                                   0.3|\n",
      "|1132069035|        24409|     2024-05-01|                                  0.48|\n",
      "|  11245860|       181417|     2024-05-01|                                   0.0|\n",
      "|1498530061|          631|     2024-05-01|                                131.75|\n",
      "|  11245860|       181423|     2024-05-01|                                   0.0|\n",
      "+----------+-------------+---------------+--------------------------------------+\n",
      "\n"
     ]
    },
    {
     "name": "stderr",
     "output_type": "stream",
     "text": [
      "                                                                                \r"
     ]
    }
   ],
   "source": [
    "import features as F\n",
    "df_ft = F.f_weighted_num_actions_from_cat_in_last_x_days(df_smp_sample, df_vi_sample, cat_type=\"LVL2\", action_type=\"purchase\", \\\n",
    "                                                  time_windows=[2, 7, 30, 90, 180, 360], weights=[0.35, 0.25, 0.2, 0.1, 0.06, 0.04])\n",
    "df_ft.show()"
   ]
  },
  {
   "cell_type": "code",
   "execution_count": null,
   "id": "e1f0fd76-ad0c-4e01-952a-ec6f66398745",
   "metadata": {},
   "outputs": [
    {
     "name": "stderr",
     "output_type": "stream",
     "text": [
      "                                                                                 / 1000]]\r"
     ]
    }
   ],
   "source": [
    "df_ft = F.f_weighted_num_actions_from_cat_in_last_x_days(df_smp_sample, df_vi_sample, cat_type=\"META\", action_type=\"purchase\", \\\n",
    "                                                  time_windows=[2, 7, 30, 90, 180, 360], weights=[0.35, 0.25, 0.2, 0.1, 0.06, 0.04])\n",
    "df_ft.show()"
   ]
  },
  {
   "cell_type": "markdown",
   "id": "747a6b0d-6122-4dbf-80df-e15333e8ca80",
   "metadata": {},
   "source": [
    "# Calculating ratio of actions: views/ purchases"
   ]
  },
  {
   "cell_type": "code",
   "execution_count": 71,
   "id": "89c1af08-4861-429e-80fb-d0ed0608e527",
   "metadata": {},
   "outputs": [],
   "source": [
    "def f_actions_ratio_from_cat_in_last_x_days(df_base, df_vi, df_prch, cat_type=\"LEAF\", days=30, action_types=[\"view\", \"purchase\"]):\n",
    "    # Generate dynamic feature names based on action types\n",
    "    action_1_feature = f\"f_num_{action_types[0]}s_from_{cat_type}_cat_in_last_{days}_days\"\n",
    "    action_2_feature = f\"f_num_{action_types[1]}s_from_{cat_type}_cat_in_last_{days}_days\"\n",
    "    ratio_feature = f\"f_{action_types[0]}_to_{action_types[1]}_ratio_from_{cat_type}_cat_in_last_{days}_days\"\n",
    "    \n",
    "    # Calculate counts for the first action type \n",
    "    df_vi_counts = f_num_actions_from_cat_in_last_x_days(df_base, df_vi, cat_type=cat_type, days=days, action_type=action_types[0])\n",
    "    \n",
    "    # Calculate counts for the second action type \n",
    "    df_prch_counts = f_num_actions_from_cat_in_last_x_days(df_base, df_prch, cat_type=cat_type, days=days, action_type=action_types[1])\n",
    "    \n",
    "    # Join action counts on buyer ID, category ID, and event timestamp\n",
    "    df_ratio = (df_vi_counts\n",
    "                .join(df_prch_counts, \n",
    "                      on=[df_vi_counts.BUYER_ID == df_prch_counts.BUYER_ID,\n",
    "                          _leaf_condition(df_vi_counts, df_prch_counts, cat_type),\n",
    "                          df_vi_counts.EVENT_TIMESTAMP == df_prch_counts.EVENT_TIMESTAMP],\n",
    "                      how=\"left\")\n",
    "                .select(df_vi_counts.BUYER_ID, \n",
    "                        _leaf_id_col(df_vi_counts, cat_type),\n",
    "                        df_vi_counts.EVENT_TIMESTAMP,\n",
    "                        F.coalesce(df_vi_counts[action_1_feature], F.lit(0)).alias(action_1_feature),\n",
    "                        F.coalesce(df_prch_counts[action_2_feature], F.lit(0)).alias(action_2_feature))\n",
    "               )\n",
    "    \n",
    "    # Calculate the ratio\n",
    "    df_ratio = df_ratio.withColumn(ratio_feature,\n",
    "                                   F.when(F.col(action_2_feature) == 0, F.lit(-1))  # Avoid division by zero\n",
    "                                   .otherwise(F.col(action_1_feature) / F.col(action_2_feature)))\n",
    "    # Dropping the specified columns\n",
    "    df_ratio = df_ratio.drop(action_1_feature , action_2_feature)\n",
    "\n",
    "    \n",
    "    return df_ratio"
   ]
  },
  {
   "cell_type": "code",
   "execution_count": 72,
   "id": "42601327-f4a6-4352-8c6c-1560b7a23780",
   "metadata": {
    "scrolled": true,
    "tags": []
   },
   "outputs": [
    {
     "name": "stderr",
     "output_type": "stream",
     "text": [
      "[Stage 2093:==============================>                   (230 + 145) / 375] / 1001]]\r"
     ]
    },
    {
     "name": "stdout",
     "output_type": "stream",
     "text": [
      "+----------+-------------+---------------+-------------------------------------------------------+\n",
      "|  BUYER_ID|LEAF_CATEG_ID|EVENT_TIMESTAMP|f_view_to_purchase_ratio_from_LEAF_cat_in_last_360_days|\n",
      "+----------+-------------+---------------+-------------------------------------------------------+\n",
      "|1132069035|        24410|     2024-05-01|                                                    7.0|\n",
      "|1498530061|       168135|     2024-05-01|                                                   7.25|\n",
      "|  11245860|       127413|     2024-05-01|                                                    0.0|\n",
      "|  11245860|        47173|     2024-05-01|                                                    0.0|\n",
      "|1324204268|         2885|     2024-05-01|                                                    1.0|\n",
      "+----------+-------------+---------------+-------------------------------------------------------+\n",
      "\n"
     ]
    },
    {
     "name": "stderr",
     "output_type": "stream",
     "text": [
      "                                                                                \r"
     ]
    }
   ],
   "source": [
    "df_tsf= f_actions_ratio_from_cat_in_last_x_days(df_smp_sample, df_vi_sample, df_prch_sample, cat_type=\"LEAF\", \n",
    "                                                days=360, action_types=[\"view\", \"purchase\"])\n",
    "df_tsf.show()"
   ]
  },
  {
   "cell_type": "code",
   "execution_count": null,
   "id": "fa2694b5-59cf-4721-af26-ac57e37ddba5",
   "metadata": {},
   "outputs": [],
   "source": []
  },
  {
   "cell_type": "code",
   "execution_count": null,
   "id": "fd532373-ad79-4c53-8cf4-04b63492900e",
   "metadata": {},
   "outputs": [],
   "source": []
  },
  {
   "cell_type": "markdown",
   "id": "7c4d36fd-be01-45ca-b172-0babcae5ba8c",
   "metadata": {},
   "source": [
    "# Normalizing views and purchases:"
   ]
  },
  {
   "cell_type": "code",
   "execution_count": 11,
   "id": "63ee7742-960a-4673-b629-4df2de60f700",
   "metadata": {},
   "outputs": [],
   "source": [
    "def f_num_actions_from_cat_in_last_x_days(df_base, df_action, cat_type=\"LEAF\", days=1, action_type=\"purchase\"):\n",
    "    feature_name = f\"f_num_{action_type}s_from_{cat_type}_cat_in_last_{days}_days\"\n",
    "    df_res = (df_base.join(df_action, (df_base.BUYER_ID == df_action.BUYER_ID) & _leaf_condition(df_base, df_action, cat_type) &\n",
    "                       (F.datediff(df_base.EVENT_TIMESTAMP,df_action.EVENT_TIMESTAMP) > 0) &\n",
    "                       (F.datediff(df_base.EVENT_TIMESTAMP,df_action.EVENT_TIMESTAMP) <= days), how=\"left\")\n",
    "                  .groupBy(df_base.BUYER_ID, _leaf_id_col(df_base, cat_type), df_base.EVENT_TIMESTAMP)\n",
    "                  .agg(F.count(df_action.EVENT_TIMESTAMP).alias(feature_name))\n",
    "                  .fillna(0, subset=[feature_name])\n",
    "     )\n",
    "    return df_res"
   ]
  },
  {
   "cell_type": "code",
   "execution_count": 22,
   "id": "d8d016fa-ea91-4037-97bf-00b48f5c2519",
   "metadata": {},
   "outputs": [],
   "source": [
    "df_tsf= f_num_actions_from_cat_in_last_x_days(df_smp_sample, df_prch_sample, cat_type=\"LEAF\", days=360 ,action_type=\"view\")\n"
   ]
  },
  {
   "cell_type": "code",
   "execution_count": 24,
   "id": "095e27cc-6e9e-4b20-8e52-5904e2720a3b",
   "metadata": {},
   "outputs": [
    {
     "name": "stderr",
     "output_type": "stream",
     "text": [
      "24/11/03 12:19:16 ERROR AsyncEventQueue: Listener EventLoggingListener threw an exception\n",
      "java.util.ConcurrentModificationException\n",
      "\tat java.util.Hashtable$Enumerator.next(Hashtable.java:1387)\n",
      "\tat scala.collection.convert.Wrappers$JPropertiesWrapper$$anon$6.next(Wrappers.scala:424)\n",
      "\tat scala.collection.convert.Wrappers$JPropertiesWrapper$$anon$6.next(Wrappers.scala:420)\n",
      "\tat scala.collection.Iterator.foreach(Iterator.scala:941)\n",
      "\tat scala.collection.Iterator.foreach$(Iterator.scala:941)\n",
      "\tat scala.collection.AbstractIterator.foreach(Iterator.scala:1429)\n",
      "\tat scala.collection.IterableLike.foreach(IterableLike.scala:74)\n",
      "\tat scala.collection.IterableLike.foreach$(IterableLike.scala:73)\n",
      "\tat scala.collection.AbstractIterable.foreach(Iterable.scala:56)\n",
      "\tat scala.collection.mutable.MapLike.toSeq(MapLike.scala:75)\n",
      "\tat scala.collection.mutable.MapLike.toSeq$(MapLike.scala:72)\n",
      "\tat scala.collection.mutable.AbstractMap.toSeq(Map.scala:82)\n",
      "\tat org.apache.spark.scheduler.EventLoggingListener.redactProperties(EventLoggingListener.scala:290)\n",
      "\tat org.apache.spark.scheduler.EventLoggingListener.onJobStart(EventLoggingListener.scala:162)\n",
      "\tat org.apache.spark.scheduler.SparkListenerBus.doPostEvent(SparkListenerBus.scala:37)\n",
      "\tat org.apache.spark.scheduler.SparkListenerBus.doPostEvent$(SparkListenerBus.scala:28)\n",
      "\tat org.apache.spark.scheduler.AsyncEventQueue.doPostEvent(AsyncEventQueue.scala:37)\n",
      "\tat org.apache.spark.scheduler.AsyncEventQueue.doPostEvent(AsyncEventQueue.scala:37)\n",
      "\tat org.apache.spark.util.ListenerBus.postToAll(ListenerBus.scala:117)\n",
      "\tat org.apache.spark.util.ListenerBus.postToAll$(ListenerBus.scala:101)\n",
      "\tat org.apache.spark.scheduler.AsyncEventQueue.super$postToAll(AsyncEventQueue.scala:105)\n",
      "\tat org.apache.spark.scheduler.AsyncEventQueue.$anonfun$dispatch$1(AsyncEventQueue.scala:105)\n",
      "\tat scala.runtime.java8.JFunction0$mcJ$sp.apply(JFunction0$mcJ$sp.java:23)\n",
      "\tat scala.util.DynamicVariable.withValue(DynamicVariable.scala:62)\n",
      "\tat org.apache.spark.scheduler.AsyncEventQueue.org$apache$spark$scheduler$AsyncEventQueue$$dispatch(AsyncEventQueue.scala:100)\n",
      "\tat org.apache.spark.scheduler.AsyncEventQueue$$anon$2.$anonfun$run$1(AsyncEventQueue.scala:96)\n",
      "\tat org.apache.spark.util.Utils$.tryOrStopSparkContext(Utils.scala:1381)\n",
      "\tat org.apache.spark.scheduler.AsyncEventQueue$$anon$2.run(AsyncEventQueue.scala:96)\n",
      "[Stage 227:================================>                  (236 + 139) / 375]\r"
     ]
    },
    {
     "name": "stdout",
     "output_type": "stream",
     "text": [
      "+----------+-------------+---------------+------------------------------------------+\n",
      "|  BUYER_ID|LEAF_CATEG_ID|EVENT_TIMESTAMP|f_num_views_from_LEAF_cat_in_last_360_days|\n",
      "+----------+-------------+---------------+------------------------------------------+\n",
      "|  11245860|        47173|     2024-05-01|                                         3|\n",
      "|1132069035|        24410|     2024-05-01|                                         1|\n",
      "|  11245860|       127413|     2024-05-01|                                         1|\n",
      "|1498530061|       168135|     2024-05-01|                                         4|\n",
      "|1324204268|         2885|     2024-05-01|                                         1|\n",
      "+----------+-------------+---------------+------------------------------------------+\n",
      "\n"
     ]
    },
    {
     "name": "stderr",
     "output_type": "stream",
     "text": [
      "                                                                                \r"
     ]
    }
   ],
   "source": [
    "df_tsf.show()"
   ]
  },
  {
   "cell_type": "code",
   "execution_count": 36,
   "id": "f0a6f3e9-98c3-4037-b509-b9f445a6d230",
   "metadata": {},
   "outputs": [],
   "source": [
    "\n",
    "\n",
    "def f_norm_num_actions_from_cat_in_last_x_days(df_base, df_action, cat_type=\"LEAF\", days=1, action_type=\"purchase\"):\n",
    "    # Step 1: Calculate the number of actions from the specific category type\n",
    "    cat_actions_df = f_num_actions_from_cat_in_last_x_days(df_base, df_action, cat_type=cat_type, days=days, action_type=action_type)\n",
    "    \n",
    "    # Update the feature name for category-specific actions\n",
    "    feature_name = f\"f_norm_num_{action_type}s_from_{cat_type}_cat_in_last_{days}_days\"\n",
    "    \n",
    "    # Step 2: Calculate total actions across all categories of the same type (not limited to a specific leaf)\n",
    "    total_actions = f\"f_total_{action_type}s_in_last_{days}_days\" \n",
    "    df_total_actions = (df_base.join(df_action, \n",
    "                                      (df_base.BUYER_ID == df_action.BUYER_ID) & \n",
    "                                      (F.datediff(df_base.EVENT_TIMESTAMP, df_action.EVENT_TIMESTAMP) > 0) &\n",
    "                                      (F.datediff(df_base.EVENT_TIMESTAMP, df_action.EVENT_TIMESTAMP) <= days), \n",
    "                                      how=\"left\")\n",
    "                        .groupBy(df_base.BUYER_ID, df_base.EVENT_TIMESTAMP)\n",
    "                        .agg(F.count(df_action.EVENT_TIMESTAMP).alias(total_actions))\n",
    "                        .fillna(0, subset=[total_actions])\n",
    "    )\n",
    "\n",
    "    # Step 3: Join the category-specific actions with the total actions\n",
    "    df_result = cat_actions_df.join(df_total_actions, \n",
    "                                     [\"BUYER_ID\", \"EVENT_TIMESTAMP\"], \n",
    "                                     \"left\").fillna(0)\n",
    "\n",
    "    # Step 4: Normalize the category-specific actions by the total actions\n",
    "    df_result = df_result.withColumn(feature_name,\n",
    "                                      F.when(df_result[total_actions] > 0,  \n",
    "                                              F.round(\n",
    "                                                  df_result[f\"f_num_{action_type}s_from_{cat_type}_cat_in_last_{days}_days\"] / df_result[total_actions], \n",
    "                                                  5)  \n",
    "                                              ).otherwise(-1))\n",
    "\n",
    "    # Step 5: Drop intermediate columns\n",
    "    df_result = df_result.drop(f\"f_num_{action_type}s_from_{cat_type}_cat_in_last_{days}_days\", total_actions)\n",
    "\n",
    "    return df_result\n"
   ]
  },
  {
   "cell_type": "code",
   "execution_count": 37,
   "id": "b00cc9dd-5481-466d-912d-8e8532403986",
   "metadata": {},
   "outputs": [
    {
     "name": "stderr",
     "output_type": "stream",
     "text": [
      "[Stage 749:=======================>                           (175 + 200) / 375] 1000]]\r"
     ]
    },
    {
     "name": "stdout",
     "output_type": "stream",
     "text": [
      "+----------+---------------+-------------+-----------------------------------------------+\n",
      "|  BUYER_ID|EVENT_TIMESTAMP|LEAF_CATEG_ID|f_norm_num_views_from_LEAF_cat_in_last_360_days|\n",
      "+----------+---------------+-------------+-----------------------------------------------+\n",
      "|  11245860|     2024-05-01|       127413|                                         6.1E-4|\n",
      "|  11245860|     2024-05-01|        47173|                                        0.00182|\n",
      "|1324204268|     2024-05-01|         2885|                                        0.04167|\n",
      "|1498530061|     2024-05-01|       168135|                                        0.03053|\n",
      "|1132069035|     2024-05-01|        24410|                                        0.00885|\n",
      "+----------+---------------+-------------+-----------------------------------------------+\n",
      "\n"
     ]
    },
    {
     "name": "stderr",
     "output_type": "stream",
     "text": [
      "                                                                                \r"
     ]
    }
   ],
   "source": [
    "df_tsf= f_norm_num_actions_from_cat_in_last_x_days(df_smp_sample, df_prch_sample, cat_type=\"LEAF\", \n",
    "                                                   days=360 ,action_type=\"view\")\n",
    "df_tsf.show()"
   ]
  },
  {
   "cell_type": "code",
   "execution_count": 38,
   "id": "25b32a68-e0f2-49b7-a5f4-11a76dad6148",
   "metadata": {
    "scrolled": true,
    "tags": []
   },
   "outputs": [
    {
     "name": "stderr",
     "output_type": "stream",
     "text": [
      "[Stage 791:================>                                  (120 + 255) / 375]1000]]\r"
     ]
    },
    {
     "name": "stdout",
     "output_type": "stream",
     "text": [
      "+-----------------------------------------------+\n",
      "|f_norm_num_views_from_LEAF_cat_in_last_360_days|\n",
      "+-----------------------------------------------+\n",
      "|                                        0.00182|\n",
      "|                                         6.1E-4|\n",
      "|                                        0.04167|\n",
      "|                                        0.03053|\n",
      "|                                        0.00885|\n",
      "+-----------------------------------------------+\n",
      "\n"
     ]
    },
    {
     "name": "stderr",
     "output_type": "stream",
     "text": [
      "                                                                                \r"
     ]
    }
   ],
   "source": [
    "df_tsf.select(\"f_norm_num_views_from_LEAF_cat_in_last_360_days\").show()"
   ]
  },
  {
   "cell_type": "code",
   "execution_count": 39,
   "id": "41160bc2-ae8f-4b0f-b3d5-a8853774503c",
   "metadata": {},
   "outputs": [
    {
     "name": "stderr",
     "output_type": "stream",
     "text": [
      "                                                                                00]]]]\r"
     ]
    },
    {
     "name": "stdout",
     "output_type": "stream",
     "text": [
      "5\n"
     ]
    },
    {
     "name": "stderr",
     "output_type": "stream",
     "text": [
      "                                                                                00]]]]\r"
     ]
    },
    {
     "name": "stdout",
     "output_type": "stream",
     "text": [
      "5\n"
     ]
    },
    {
     "name": "stderr",
     "output_type": "stream",
     "text": [
      "24/11/03 13:03:31 ERROR AsyncEventQueue: Listener EventLoggingListener threw an exception\n",
      "java.util.ConcurrentModificationException\n",
      "\tat java.util.Hashtable$Enumerator.next(Hashtable.java:1387)\n",
      "\tat scala.collection.convert.Wrappers$JPropertiesWrapper$$anon$6.next(Wrappers.scala:424)\n",
      "\tat scala.collection.convert.Wrappers$JPropertiesWrapper$$anon$6.next(Wrappers.scala:420)\n",
      "\tat scala.collection.Iterator.foreach(Iterator.scala:941)\n",
      "\tat scala.collection.Iterator.foreach$(Iterator.scala:941)\n",
      "\tat scala.collection.AbstractIterator.foreach(Iterator.scala:1429)\n",
      "\tat scala.collection.IterableLike.foreach(IterableLike.scala:74)\n",
      "\tat scala.collection.IterableLike.foreach$(IterableLike.scala:73)\n",
      "\tat scala.collection.AbstractIterable.foreach(Iterable.scala:56)\n",
      "\tat scala.collection.mutable.MapLike.toSeq(MapLike.scala:75)\n",
      "\tat scala.collection.mutable.MapLike.toSeq$(MapLike.scala:72)\n",
      "\tat scala.collection.mutable.AbstractMap.toSeq(Map.scala:82)\n",
      "\tat org.apache.spark.scheduler.EventLoggingListener.redactProperties(EventLoggingListener.scala:290)\n",
      "\tat org.apache.spark.scheduler.EventLoggingListener.onJobStart(EventLoggingListener.scala:162)\n",
      "\tat org.apache.spark.scheduler.SparkListenerBus.doPostEvent(SparkListenerBus.scala:37)\n",
      "\tat org.apache.spark.scheduler.SparkListenerBus.doPostEvent$(SparkListenerBus.scala:28)\n",
      "\tat org.apache.spark.scheduler.AsyncEventQueue.doPostEvent(AsyncEventQueue.scala:37)\n",
      "\tat org.apache.spark.scheduler.AsyncEventQueue.doPostEvent(AsyncEventQueue.scala:37)\n",
      "\tat org.apache.spark.util.ListenerBus.postToAll(ListenerBus.scala:117)\n",
      "\tat org.apache.spark.util.ListenerBus.postToAll$(ListenerBus.scala:101)\n",
      "\tat org.apache.spark.scheduler.AsyncEventQueue.super$postToAll(AsyncEventQueue.scala:105)\n",
      "\tat org.apache.spark.scheduler.AsyncEventQueue.$anonfun$dispatch$1(AsyncEventQueue.scala:105)\n",
      "\tat scala.runtime.java8.JFunction0$mcJ$sp.apply(JFunction0$mcJ$sp.java:23)\n",
      "\tat scala.util.DynamicVariable.withValue(DynamicVariable.scala:62)\n",
      "\tat org.apache.spark.scheduler.AsyncEventQueue.org$apache$spark$scheduler$AsyncEventQueue$$dispatch(AsyncEventQueue.scala:100)\n",
      "\tat org.apache.spark.scheduler.AsyncEventQueue$$anon$2.$anonfun$run$1(AsyncEventQueue.scala:96)\n",
      "\tat org.apache.spark.util.Utils$.tryOrStopSparkContext(Utils.scala:1381)\n",
      "\tat org.apache.spark.scheduler.AsyncEventQueue$$anon$2.run(AsyncEventQueue.scala:96)\n",
      "                                                                                \r"
     ]
    },
    {
     "name": "stdout",
     "output_type": "stream",
     "text": [
      "+----------+-------------+---------------+-------------+-------------+---------------+-----+--------------------+--------------------+--------------------+-----------------------------------------------+-----------------------------------------------+-----------------------------------------------+\n",
      "|  BUYER_ID|META_CATEG_ID|EVENT_TIMESTAMP|CATEG_LVL2_ID|LEAF_CATEG_ID|num_repurchases|label|     LEAF_CATEG_NAME|     CATEG_LVL2_NAME|     META_CATEG_NAME|f_norm_num_views_from_LEAF_cat_in_last_360_days|f_norm_num_views_from_LVL2_cat_in_last_360_days|f_norm_num_views_from_META_cat_in_last_360_days|\n",
      "+----------+-------------+---------------+-------------+-------------+---------------+-----+--------------------+--------------------+--------------------+-----------------------------------------------+-----------------------------------------------+-----------------------------------------------+\n",
      "|  11245860|          260|     2024-05-01|       181423|       127413|              0|    0|Stamps:Africa:Sou...|              Africa|              Stamps|                                         6.1E-4|                                        0.02005|                                        0.86513|\n",
      "|  11245860|          260|     2024-05-01|       181417|        47173|              0|    0|Stamps:Latin Amer...|       Latin America|              Stamps|                                        0.00182|                                        0.00547|                                        0.86513|\n",
      "|1498530061|        11700|     2024-05-01|          631|       168135|              6|    1|Home & Garden:Too...|Tools & Workshop ...|       Home & Garden|                                        0.03053|                                         0.8626|                                        0.92366|\n",
      "|1324204268|        64482|     2024-05-01|        24409|         2885|              0|    0|Sports Mem, Cards...|Fan Apparel & Sou...|Sports Mem, Cards...|                                        0.04167|                                        0.04167|                                        0.04167|\n",
      "|1132069035|        64482|     2024-05-01|        24409|        24410|              0|    0|Sports Mem, Cards...|Fan Apparel & Sou...|Sports Mem, Cards...|                                        0.00885|                                         0.0177|                                         0.0177|\n",
      "+----------+-------------+---------------+-------------+-------------+---------------+-----+--------------------+--------------------+--------------------+-----------------------------------------------+-----------------------------------------------+-----------------------------------------------+\n",
      "\n",
      "None\n"
     ]
    },
    {
     "name": "stderr",
     "output_type": "stream",
     "text": [
      "[Stage 947:>                                                        (0 + 1) / 1]1000]]\r"
     ]
    },
    {
     "name": "stdout",
     "output_type": "stream",
     "text": [
      "5\n"
     ]
    },
    {
     "name": "stderr",
     "output_type": "stream",
     "text": [
      "                                                                                \r"
     ]
    }
   ],
   "source": [
    "df_ft = f_norm_num_actions_from_cat_in_last_x_days(df_smp_sample, df_prch_sample, cat_type=\"LEAF\", days=360 ,action_type=\"view\")\n",
    "df_res = add_feature(df_smp_sample, df_ft, join_key=\"LEAF_CATEG_ID\", how=\"inner\")\n",
    "print(df_res.count())\n",
    "\n",
    "df_ft = f_norm_num_actions_from_cat_in_last_x_days(df_smp_sample, df_prch_sample, cat_type=\"LVL2\", days=360 ,action_type=\"view\") \n",
    "df_res = add_feature(df_res, df_ft, join_key=\"CATEG_LVL2_ID\", how=\"inner\")\n",
    "print(df_res.count()) \n",
    "\n",
    "df_ft = f_norm_num_actions_from_cat_in_last_x_days(df_smp_sample, df_prch_sample, cat_type=\"META\", days=360 ,action_type=\"view\") \n",
    "df_res = add_feature(df_res, df_ft, join_key=\"META_CATEG_ID\", how=\"inner\")\n",
    "print(df_res.show())\n",
    "print(df_res.count()) "
   ]
  },
  {
   "cell_type": "code",
   "execution_count": 40,
   "id": "52d017e8-7912-4c64-a814-b330a5a0e5ee",
   "metadata": {},
   "outputs": [
    {
     "data": {
      "text/plain": [
       "['BUYER_ID',\n",
       " 'META_CATEG_ID',\n",
       " 'EVENT_TIMESTAMP',\n",
       " 'CATEG_LVL2_ID',\n",
       " 'LEAF_CATEG_ID',\n",
       " 'num_repurchases',\n",
       " 'label',\n",
       " 'LEAF_CATEG_NAME',\n",
       " 'CATEG_LVL2_NAME',\n",
       " 'META_CATEG_NAME',\n",
       " 'f_norm_num_views_from_LEAF_cat_in_last_360_days',\n",
       " 'f_norm_num_views_from_LVL2_cat_in_last_360_days',\n",
       " 'f_norm_num_views_from_META_cat_in_last_360_days']"
      ]
     },
     "execution_count": 40,
     "metadata": {},
     "output_type": "execute_result"
    }
   ],
   "source": [
    "df_res.columns"
   ]
  },
  {
   "cell_type": "code",
   "execution_count": 42,
   "id": "c6eb0a32-e68c-4ff8-a742-5b26570334a4",
   "metadata": {},
   "outputs": [
    {
     "name": "stderr",
     "output_type": "stream",
     "text": [
      "[Stage 1056:==========================>                       (196 + 179) / 375]000]]]\r"
     ]
    },
    {
     "name": "stdout",
     "output_type": "stream",
     "text": [
      "+----------+-------------+-----+-----------------------------------------------+-----------------------------------------------+\n",
      "|  BUYER_ID|LEAF_CATEG_ID|label|f_norm_num_views_from_LEAF_cat_in_last_360_days|f_norm_num_views_from_LVL2_cat_in_last_360_days|\n",
      "+----------+-------------+-----+-----------------------------------------------+-----------------------------------------------+\n",
      "|  11245860|       127413|    0|                                         6.1E-4|                                        0.02005|\n",
      "|  11245860|        47173|    0|                                        0.00182|                                        0.00547|\n",
      "|1498530061|       168135|    1|                                        0.03053|                                         0.8626|\n",
      "|1324204268|         2885|    0|                                        0.04167|                                        0.04167|\n",
      "|1132069035|        24410|    0|                                        0.00885|                                         0.0177|\n",
      "+----------+-------------+-----+-----------------------------------------------+-----------------------------------------------+\n",
      "\n"
     ]
    },
    {
     "name": "stderr",
     "output_type": "stream",
     "text": [
      "                                                                                \r"
     ]
    }
   ],
   "source": [
    "df_res.select(['BUYER_ID','LEAF_CATEG_ID', 'label' ,\n",
    "               'f_norm_num_views_from_LEAF_cat_in_last_360_days',\n",
    "               'f_norm_num_views_from_LVL2_cat_in_last_360_days']).show()"
   ]
  },
  {
   "cell_type": "code",
   "execution_count": null,
   "id": "fb0f290e-e790-4f5a-93e5-664412d67dc0",
   "metadata": {},
   "outputs": [],
   "source": []
  },
  {
   "cell_type": "code",
   "execution_count": null,
   "id": "b0c2ebb6-29b7-413f-a1b5-1c03c005cf22",
   "metadata": {},
   "outputs": [],
   "source": [
    "df_ft = F.f_norm_num_actions_from_cat_in_last_x_days(df_smp_sample, df_prch_sample, cat_type=\"LEAF\", days=1, action_type=\"purchase\")\n",
    "df_res = F.add_feature(df_res, df_ft, join_key=\"LEAF_CATEG_ID\")"
   ]
  },
  {
   "cell_type": "markdown",
   "id": "fbaaf390-93dd-420a-847d-9ea2b0694e6c",
   "metadata": {},
   "source": [
    "# User behaviour features:"
   ]
  },
  {
   "cell_type": "markdown",
   "id": "fa8bfa43-9b05-433e-ad43-7d25682983f7",
   "metadata": {},
   "source": [
    "## time_since_first_view_after_purchase_in_cat "
   ]
  },
  {
   "cell_type": "code",
   "execution_count": 7,
   "id": "08e66316-1835-4c2b-9450-adde6407ef08",
   "metadata": {},
   "outputs": [],
   "source": [
    "def _leaf_condition(df1, df2, cat_type=\"LEAF\"):\n",
    "    if cat_type == \"LEAF\":\n",
    "        return (df1.LEAF_CATEG_ID == df2.LEAF_CATEG_ID)\n",
    "    elif cat_type == \"LVL2\":\n",
    "        return (df1.CATEG_LVL2_ID == df2.CATEG_LVL2_ID)\n",
    "    else:\n",
    "        return (df1.META_CATEG_ID == df2.META_CATEG_ID) \n",
    "    \n",
    "def _leaf_id_col(df, cat_type=\"LEAF\"):\n",
    "    if cat_type == \"LEAF\":\n",
    "        return df.LEAF_CATEG_ID\n",
    "    elif cat_type == \"LVL2\":\n",
    "        return df.CATEG_LVL2_ID\n",
    "    else:\n",
    "        return df.META_CATEG_ID\n",
    "    \n",
    "def _leaf_name_col(df, cat_type=\"LEAF\"):\n",
    "    if cat_type == \"LEAF\":\n",
    "        return df.LEAF_CATEG_NAME\n",
    "    elif cat_type == \"LVL2\":\n",
    "        return df.CATEG_LVL2_NAME\n",
    "    else:\n",
    "        return df.META_CATEG_NAME\n",
    "\n",
    "#----------------------------------------------------------------------\n",
    "from pyspark.sql import functions as F\n",
    "from pyspark.sql import Window  \n",
    "import feature_helpers as fe\n",
    "\n",
    "def _first_view_after_purchase(df_prch, df_vi, df_base, cat_type=\"LEAF\"):\n",
    "    # Combined Step 1 and Step 2: Join purchases and views, filter, group by, and aggregate\n",
    "    df_res = (df_prch.join(df_vi, \n",
    "                           (df_prch.BUYER_ID == df_vi.BUYER_ID) & \n",
    "                           _leaf_condition(df_prch, df_vi, cat_type), \n",
    "                           how=\"left\")\n",
    "                      .withColumn(\"time_diff\", F.datediff(df_vi.EVENT_TIMESTAMP, df_prch.EVENT_TIMESTAMP))  # Calculate time diff\n",
    "                      .filter(F.col(\"time_diff\") > 0)  # Keep only future views\n",
    "                      .groupBy(\n",
    "                          df_prch.BUYER_ID,  \n",
    "                          _leaf_id_col(df_prch, cat_type), \n",
    "                          df_prch.EVENT_TIMESTAMP.alias(\"purchase_timestamp\")\n",
    "                      )\n",
    "                      .agg(\n",
    "                          F.min(df_vi.EVENT_TIMESTAMP).alias(\"first_view_timestamp\"),  # Get the minimum view timestamp\n",
    "                          F.min(\"time_diff\").alias(\"days_diff\")\n",
    "                      )\n",
    "                      .filter(F.col(\"first_view_timestamp\").isNotNull())\n",
    "              )\n",
    "\n",
    "    # Step 3: Use window function to ensure only the closest view is kept\n",
    "    window_spec = Window.partitionBy(\n",
    "                          df_res.BUYER_ID, \n",
    "                          _leaf_id_col(df_res, cat_type),\n",
    "                          df_res.first_view_timestamp  \n",
    "                      ).orderBy(\n",
    "                          F.col(\"days_diff\").asc()  \n",
    "                      )  \n",
    "\n",
    "    # Rank based on the closest purchase to each view timestamp\n",
    "    df_res = (df_res.withColumn(\"rank\", F.row_number().over(window_spec))  # Rank rows based on days_diff\n",
    "              .filter(F.col(\"rank\") == 1)  # Keep only the closest view (rank == 1)\n",
    "              .drop(\"rank\")  \n",
    "              )\n",
    "\n",
    "    # Step 4: Join with df_base and ensure base.EVENT_TIMESTAMP > first_view_timestamp\n",
    "    df_res = (df_res.join(df_base, \n",
    "                      (df_res[\"BUYER_ID\"] == df_base[\"BUYER_ID\"]) &  \n",
    "                      _leaf_condition(df_res, df_base, cat_type), \n",
    "                      how=\"inner\")  # Use inner join to filter based on conditions\n",
    "          .filter(F.datediff(df_base.EVENT_TIMESTAMP, df_res.first_view_timestamp) > 0)  # Filter rows based on date difference\n",
    "          .select(\n",
    "              df_res.BUYER_ID,\n",
    "              _leaf_id_col(df_res, cat_type),\n",
    "              df_res.purchase_timestamp,\n",
    "              df_res.first_view_timestamp,\n",
    "              df_res.days_diff\n",
    "                 )\n",
    "              )\n",
    "\n",
    "    # Step 5: Collect all days_diff values into an array for aggregation\n",
    "    df_res = (df_res.groupBy(df_res.BUYER_ID, _leaf_id_col(df_res, cat_type))\n",
    "                     .agg(F.collect_list(\"days_diff\").alias(\"days_diff_array\"))  # Collect all days_diff into an array\n",
    "             )\n",
    "    return df_res \n",
    "def time_since_first_view_after_purchase_in_cat(df_base, df_prch, df_vi, cat_type=\"LEAF\"):\n",
    "    # Step 1: Get the first view after each purchase\n",
    "    df_first_view = _first_view_after_purchase(df_prch, df_vi,df_base, cat_type)\n",
    "   \n",
    "    # Step 2: Join df_base with df_first_view to get days_diff_array\n",
    "    df_days_diff = (\n",
    "        df_base\n",
    "        .join(\n",
    "            df_first_view,\n",
    "            (df_base.BUYER_ID == df_first_view.BUYER_ID) & _leaf_condition(df_base, df_first_view, cat_type),\n",
    "            how=\"left\"\n",
    "        )\n",
    "        .select(\n",
    "            df_base.BUYER_ID,\n",
    "            _leaf_id_col(df_base, cat_type),\n",
    "            df_base.EVENT_TIMESTAMP,\n",
    "            F.col(\"days_diff_array\")\n",
    "        )\n",
    "    )\n",
    "    df_days_diff.printSchema()  \n",
    "    df_days_diff.show(5) \n",
    "        \n",
    "    df_days_diff_agg = (\n",
    "        df_days_diff\n",
    "        .groupBy(\n",
    "            df_days_diff.BUYER_ID,\n",
    "            _leaf_id_col(df_days_diff, cat_type),\n",
    "            df_days_diff.EVENT_TIMESTAMP\n",
    "        )\n",
    "        .agg(\n",
    "            F.min(F.when(F.col(\"days_diff_array\").isNull(), F.array(F.lit(-1))).otherwise(F.col(\"days_diff_array\"))).alias(f\"f_min_time_since_first_view_after_purchase_in_{cat_type}_cat\"),\n",
    "            F.max(F.when(F.col(\"days_diff_array\").isNull(), F.array(F.lit(-1))).otherwise(F.col(\"days_diff_array\"))).alias(f\"f_max_time_since_first_view_after_purchase_in_{cat_type}_cat\"),\n",
    "            fe.array_mean(F.when(F.col(\"days_diff_array\").isNull(),F.array(F.lit(-1))).otherwise(F.col(\"days_diff_array\"))).alias(f\"f_mean_time_since_first_view_after_purchase_in_{cat_type}_cat\")\n",
    "        )\n",
    "        .fillna(-1, subset=[f\"f_min_time_since_first_view_after_purchase_in_{cat_type}_cat\", \n",
    "                        f\"f_max_time_since_first_view_after_purchase_in_{cat_type}_cat\", \n",
    "                        f\"f_mean_time_since_first_view_after_purchase_in_{cat_type}_cat\"\n",
    "                           ])\n",
    "                .drop(\"days_diff_array\") )\n",
    "\n",
    "    return df_res \n",
    "\n",
    "\n",
    "def add_feature(df_base, df_feature, feature_name=None, join_key=\"ITEM_ID\", na_value=None, how=\"inner\"):\n",
    "    df_res = df_base.join(df_feature, on=[\"BUYER_ID\", join_key, \"EVENT_TIMESTAMP\"], how=how)\n",
    "    if na_value:\n",
    "        df_res = df_res.fillna(na_value, subset=[feature_name])\n",
    "    return df_res"
   ]
  },
  {
   "cell_type": "code",
   "execution_count": null,
   "id": "0cf9342f-0914-4fbf-ac55-8d4332794f18",
   "metadata": {
    "scrolled": true,
    "tags": []
   },
   "outputs": [],
   "source": [
    "from pyspark.sql import functions as F\n",
    "import feature_helpers as fe\n",
    "from pyspark.sql.types import FloatType\n",
    "import numpy as np\n",
    "\n",
    "\n",
    "specific_buyer_ids = [11245860, 1498530061, 1324204268, 1132069035]\n",
    "\n",
    "# Step 2: Filter df_smp, df_prch, and df_vi to only include those specific buyers\n",
    "df_smp_sample = df_smp.filter(df_smp.BUYER_ID.isin(specific_buyer_ids))\n",
    "df_prch_sample = df_prch.filter(df_prch.BUYER_ID.isin(specific_buyer_ids))\n",
    "df_vi_sample = df_vi.filter(df_vi.BUYER_ID.isin(specific_buyer_ids))\n"
   ]
  },
  {
   "cell_type": "code",
   "execution_count": 51,
   "id": "7f30e025-5b1d-4061-9a9c-e5addb72464a",
   "metadata": {
    "scrolled": true,
    "tags": []
   },
   "outputs": [
    {
     "name": "stderr",
     "output_type": "stream",
     "text": [
      "[Stage 149:====================================================>(371 + 4) / 375]\r"
     ]
    },
    {
     "name": "stdout",
     "output_type": "stream",
     "text": [
      "+-------------+----------+---------------+---------------+-----+--------------------+-------------+--------------------+-------------+--------------------+\n",
      "|LEAF_CATEG_ID|  BUYER_ID|EVENT_TIMESTAMP|num_repurchases|label|     LEAF_CATEG_NAME|CATEG_LVL2_ID|     CATEG_LVL2_NAME|META_CATEG_ID|     META_CATEG_NAME|\n",
      "+-------------+----------+---------------+---------------+-----+--------------------+-------------+--------------------+-------------+--------------------+\n",
      "|       168135|1498530061|     2024-05-01|              6|    1|Home & Garden:Too...|          631|Tools & Workshop ...|        11700|       Home & Garden|\n",
      "|        47173|  11245860|     2024-05-01|              0|    0|Stamps:Latin Amer...|       181417|       Latin America|          260|              Stamps|\n",
      "|        24410|1132069035|     2024-05-01|              0|    0|Sports Mem, Cards...|        24409|Fan Apparel & Sou...|        64482|Sports Mem, Cards...|\n",
      "|         2885|1324204268|     2024-05-01|              0|    0|Sports Mem, Cards...|        24409|Fan Apparel & Sou...|        64482|Sports Mem, Cards...|\n",
      "|       127413|  11245860|     2024-05-01|              0|    0|Stamps:Africa:Sou...|       181423|              Africa|          260|              Stamps|\n",
      "+-------------+----------+---------------+---------------+-----+--------------------+-------------+--------------------+-------------+--------------------+\n",
      "\n"
     ]
    },
    {
     "name": "stderr",
     "output_type": "stream",
     "text": [
      "                                                                                \r"
     ]
    }
   ],
   "source": [
    "#df_smp_sample.show()"
   ]
  },
  {
   "cell_type": "code",
   "execution_count": 12,
   "id": "1604d0e3-96da-4503-a367-e7c8babf64f0",
   "metadata": {},
   "outputs": [
    {
     "name": "stderr",
     "output_type": "stream",
     "text": [
      "                                                                                \r"
     ]
    },
    {
     "data": {
      "text/plain": [
       "5"
      ]
     },
     "execution_count": 12,
     "metadata": {},
     "output_type": "execute_result"
    }
   ],
   "source": [
    "#df_smp_sample.count()"
   ]
  },
  {
   "cell_type": "code",
   "execution_count": 47,
   "id": "19e26c68-8689-4f37-a0bb-d90cc6d38f53",
   "metadata": {},
   "outputs": [],
   "source": [
    "def _leaf_condition(df1, df2, cat_type=\"LEAF\"):\n",
    "    if cat_type == \"LEAF\":\n",
    "        return (df1.LEAF_CATEG_ID == df2.LEAF_CATEG_ID)\n",
    "    elif cat_type == \"LVL2\":\n",
    "        return (df1.CATEG_LVL2_ID == df2.CATEG_LVL2_ID)\n",
    "    else:\n",
    "        return (df1.META_CATEG_ID == df2.META_CATEG_ID) \n",
    "\n",
    "def _leaf_id_col(df, cat_type=\"LEAF\"):\n",
    "    if cat_type == \"LEAF\":\n",
    "        return df.LEAF_CATEG_ID\n",
    "    elif cat_type == \"LVL2\":\n",
    "        return df.CATEG_LVL2_ID\n",
    "    else:\n",
    "        return df.META_CATEG_ID\n",
    "    \n",
    "def _leaf_name_col(df, cat_type=\"LEAF\"):\n",
    "    if cat_type == \"LEAF\":\n",
    "        return df.LEAF_CATEG_NAME\n",
    "    elif cat_type == \"LVL2\":\n",
    "        return df.CATEG_LVL2_NAME\n",
    "    else:\n",
    "        return df.META_CATEG_NAME  \n",
    "    \n",
    "def _first_view_after_purchase(df_prch, df_vi, df_base, cat_type=\"LEAF\"):\n",
    "    # Combined Step 1 and Step 2: Join purchases and views, filter, group by, and aggregate\n",
    "    df_res = (df_prch.join(df_vi, \n",
    "                           (df_prch.BUYER_ID == df_vi.BUYER_ID) & _leaf_condition(df_prch, df_vi, cat_type), how=\"left\")\n",
    "                      .withColumn(\"time_diff\", F.datediff(df_vi.EVENT_TIMESTAMP, df_prch.EVENT_TIMESTAMP)).filter(F.col(\"time_diff\") > 0)\n",
    "                      .groupBy(df_prch.BUYER_ID, _leaf_id_col(df_prch, cat_type), df_prch.EVENT_TIMESTAMP.alias(\"purchase_timestamp\"))\n",
    "                      .agg(\n",
    "                          F.min(df_vi.EVENT_TIMESTAMP).alias(\"first_view_timestamp\"),\n",
    "                          F.min(\"time_diff\").alias(\"days_diff\")\n",
    "                      )\n",
    "                      .filter(F.col(\"first_view_timestamp\").isNotNull()))\n",
    "\n",
    "    # Step 3: Use window function to ensure only the closest view is kept - same view can be assigned to multiple purchases so we take the closest purchase by days diff \n",
    "    window_spec = Window.partitionBy( df_res.BUYER_ID, _leaf_id_col(df_res, cat_type), df_res.first_view_timestamp).orderBy(F.col(\"days_diff\").asc())  \n",
    "    # Rank based on the closest purchase to each view timestamp\n",
    "    df_res = (df_res.withColumn(\"rank\", F.row_number().over(window_spec)).filter(F.col(\"rank\") == 1)  # Keep only the closest view (rank == 1)\n",
    "              .drop(\"rank\"))\n",
    "\n",
    "    # Step 4: Join with df_base and ensure base.EVENT_TIMESTAMP > first_view_timestamp\n",
    "    df_res = (df_res.join(df_base, (df_res[\"BUYER_ID\"] == df_base[\"BUYER_ID\"]) &  _leaf_condition(df_res, df_base, cat_type), how=\"inner\")\n",
    "          .filter(F.datediff(df_base.EVENT_TIMESTAMP, df_res.first_view_timestamp) > 0)\n",
    "          .select(df_res.BUYER_ID,_leaf_id_col(df_res, cat_type), df_res.purchase_timestamp, df_res.first_view_timestamp,df_res.days_diff))\n",
    "\n",
    "    # Step 5: Collect all days_diff values into an array for aggregation\n",
    "    df_res = (df_res.groupBy(df_res.BUYER_ID, _leaf_id_col(df_res, cat_type))\n",
    "                     .agg(F.collect_list(\"days_diff\").alias(\"days_diff_array\")) )\n",
    "\n",
    "    #df_res.show()\n",
    "    return df_res  \n",
    "\n",
    "\n",
    "def time_since_first_view_after_purchase_in_cat(df_base, df_prch, df_vi, cat_type=\"LEAF\"):\n",
    "    # Step 1: Get the first view after each purchase\n",
    "    df_first_view = _first_view_after_purchase(df_prch, df_vi, df_base, cat_type)\n",
    "    \n",
    "    # Step 2: Calculate the days_diff_array in a separate DataFrame\n",
    "    df_days_diff = (df_base.join(df_first_view, \n",
    "                                  (df_base.BUYER_ID == df_first_view.BUYER_ID) & \n",
    "                                  _leaf_condition(df_base, df_first_view, cat_type), how=\"left\")\n",
    "                     .select(df_base.BUYER_ID, \n",
    "                             _leaf_id_col(df_base, cat_type), \n",
    "                             df_base.EVENT_TIMESTAMP,\n",
    "                             F.col(\"days_diff_array\").alias(\"days_diff_view\"))\n",
    "                    )\n",
    "\n",
    "    df_days_diff.printSchema() \n",
    "    df_res = (df_days_diff.groupBy(df_days_diff.BUYER_ID, \n",
    "                                _leaf_id_col(df_days_diff, cat_type), \n",
    "                                df_days_diff.EVENT_TIMESTAMP)\n",
    "                 .agg(\n",
    "                     F.array_min(F.col(\"days_diff_view\")).alias(f\"f_min_time_since_first_view_after_purchase_in_{cat_type}_cat\"),\n",
    "                     F.array_max(F.col(\"days_diff_view\")).alias(f\"f_max_time_since_first_view_after_purchase_in_{cat_type}_cat\"),\n",
    "                     fe.array_mean(F.col(\"days_diff_view\")).alias(f\"f_mean_time_since_first_view_after_purchase_in_{cat_type}_cat\")\n",
    "                 )\n",
    "                 .fillna(-1, subset=[\n",
    "                     f\"f_min_time_since_first_view_after_purchase_in_{cat_type}_cat\", \n",
    "                     f\"f_max_time_since_first_view_after_purchase_in_{cat_type}_cat\", \n",
    "                     f\"f_mean_time_since_first_view_after_purchase_in_{cat_type}_cat\"\n",
    "                 ])\n",
    "          )\n",
    "\n",
    "    return df_res "
   ]
  },
  {
   "cell_type": "code",
   "execution_count": 90,
   "id": "a01d9135-51f7-434b-9e40-8700bb32f584",
   "metadata": {},
   "outputs": [],
   "source": [
    "def _leaf_condition(df1, df2, cat_type=\"LEAF\"):\n",
    "    if cat_type == \"LEAF\":\n",
    "        return (df1.LEAF_CATEG_ID == df2.LEAF_CATEG_ID)\n",
    "    elif cat_type == \"LVL2\":\n",
    "        return (df1.CATEG_LVL2_ID == df2.CATEG_LVL2_ID)\n",
    "    else:\n",
    "        return (df1.META_CATEG_ID == df2.META_CATEG_ID) \n",
    "\n",
    "def _leaf_id_col(df, cat_type=\"LEAF\"):\n",
    "    if cat_type == \"LEAF\":\n",
    "        return df.LEAF_CATEG_ID\n",
    "    elif cat_type == \"LVL2\":\n",
    "        return df.CATEG_LVL2_ID\n",
    "    else:\n",
    "        return df.META_CATEG_ID\n",
    "    \n",
    "def _leaf_name_col(df, cat_type=\"LEAF\"):\n",
    "    if cat_type == \"LEAF\":\n",
    "        return df.LEAF_CATEG_NAME\n",
    "    elif cat_type == \"LVL2\":\n",
    "        return df.CATEG_LVL2_NAME\n",
    "    else:\n",
    "        return df.META_CATEG_NAME \n",
    "    \n",
    "def _first_view_after_purchase(df_prch, df_vi, df_base, cat_type=\"LEAF\"):\n",
    "    # Combined Step 1 and Step 2: Join purchases and views, filter, group by, and aggregate\n",
    "    df_res = (df_prch.join(df_vi, \n",
    "                           (df_prch.BUYER_ID == df_vi.BUYER_ID) & _leaf_condition(df_prch, df_vi, cat_type), how=\"left\")\n",
    "                      .withColumn(\"time_diff\", F.datediff(df_vi.EVENT_TIMESTAMP, df_prch.EVENT_TIMESTAMP)).filter(F.col(\"time_diff\") > 0)\n",
    "                      .groupBy(df_prch.BUYER_ID, _leaf_id_col(df_prch, cat_type), df_prch.EVENT_TIMESTAMP.alias(\"purchase_timestamp\"))\n",
    "                      .agg(\n",
    "                          F.min(df_vi.EVENT_TIMESTAMP).alias(\"first_view_timestamp\"),\n",
    "                          F.min(\"time_diff\").alias(\"days_diff\")\n",
    "                      )\n",
    "                      .filter(F.col(\"first_view_timestamp\").isNotNull()))\n",
    "\n",
    "    # Step 3: Use window function to ensure only the closest view is kept - same view can be assigned to multiple purchases so we take the closest purchase by days diff \n",
    "    window_spec = Window.partitionBy( df_res.BUYER_ID, _leaf_id_col(df_res, cat_type), df_res.first_view_timestamp).orderBy(F.col(\"days_diff\").asc())  \n",
    "    # Rank based on the closest purchase to each view timestamp\n",
    "    df_res = (df_res.withColumn(\"rank\", F.row_number().over(window_spec)).filter(F.col(\"rank\") == 1)  # Keep only the closest view (rank == 1)\n",
    "              .drop(\"rank\"))\n",
    "\n",
    "    # Step 4: Join with df_base and ensure base.EVENT_TIMESTAMP > first_view_timestamp\n",
    "    df_res = (df_res.join(df_base, (df_res[\"BUYER_ID\"] == df_base[\"BUYER_ID\"]) &  _leaf_condition(df_res, df_base, cat_type), how=\"inner\")\n",
    "          .filter(F.datediff(df_base.EVENT_TIMESTAMP, df_res.first_view_timestamp) > 0)\n",
    "          .select(df_res.BUYER_ID,_leaf_id_col(df_res, cat_type), df_res.purchase_timestamp, df_res.first_view_timestamp,df_res.days_diff))\n",
    "\n",
    "    # Step 5: Collect all days_diff values into an array for aggregation\n",
    "    df_res = (df_res.groupBy(df_res.BUYER_ID, _leaf_id_col(df_res, cat_type))\n",
    "                     .agg(F.collect_list(\"days_diff\").alias(\"days_diff_array\")) )\n",
    "\n",
    "   # df_res.show()\n",
    "    return df_res \n",
    "\n",
    "def time_since_first_view_after_purchase_in_cat(df_base, df_prch, df_vi, cat_type=\"LEAF\"):\n",
    "    # Step 1: Get the first view after each purchase\n",
    "    df_first_view = _first_view_after_purchase(df_prch, df_vi,df_base, cat_type)\n",
    "    \n",
    "\n",
    "    # Step 2: Join df_base with df_first_view to get days_diff_array\n",
    "    df_days_diff = (df_base.join(df_first_view, \n",
    "                                  (df_base.BUYER_ID == df_first_view.BUYER_ID) & \n",
    "                                  _leaf_condition(df_base, df_first_view, cat_type) , how=\"left\")\n",
    "                     .select(df_base.BUYER_ID, \n",
    "                             _leaf_id_col(df_base, cat_type), \n",
    "                             df_base.EVENT_TIMESTAMP,\n",
    "                             F.col(\"days_diff_array\"))  \n",
    "                    )\n",
    "    df_days_diff.show() \n",
    "    \n",
    "    cat_col= _leaf_id_col(df_days_diff, cat_type)\n",
    "    \n",
    "    df_days_diff = df_days_diff.dropDuplicates(\n",
    "        subset=[df_days_diff.BUYER_ID, cat_col, df_days_diff.EVENT_TIMESTAMP]\n",
    "    ) \n",
    "    \n",
    "    # Step 3: Calculate features based on days_diff_array (min, max, mean)\n",
    "    df_res = (df_days_diff.withColumn(f\"f_min_time_since_first_view_after_purchase_in_{cat_type}_cat\", F.array_min(F.col(\"days_diff_array\")))  \n",
    "                         .withColumn(f\"f_max_time_since_first_view_after_purchase_in_{cat_type}_cat\", F.array_max(F.col(\"days_diff_array\")))  \n",
    "                         .withColumn(f\"f_mean_time_since_first_view_after_purchase_in_{cat_type}_cat\", fe.array_mean(F.col(\"days_diff_array\")))   \n",
    "                         .fillna(-1, subset=[f\"f_min_time_since_first_view_after_purchase_in_{cat_type}_cat\", \n",
    "                                             f\"f_max_time_since_first_view_after_purchase_in_{cat_type}_cat\", \n",
    "                                             f\"f_mean_time_since_first_view_after_purchase_in_{cat_type}_cat\"])\n",
    "                         .drop(\"days_diff_array\") \n",
    "            )\n",
    "\n",
    "    return df_res\n"
   ]
  },
  {
   "cell_type": "code",
   "execution_count": null,
   "id": "deb1960a-d8b6-4d8a-8c3f-05bc41d4dbee",
   "metadata": {},
   "outputs": [],
   "source": []
  },
  {
   "cell_type": "markdown",
   "id": "5394a013-6459-493b-99ae-078bcd30e181",
   "metadata": {},
   "source": [
    "#### time since first view grouped"
   ]
  },
  {
   "cell_type": "code",
   "execution_count": 8,
   "id": "bf022801-766d-4666-85e2-d0d5a305ed9c",
   "metadata": {},
   "outputs": [],
   "source": [
    "def _leaf_condition(df1, df2, cat_type=\"LEAF\"):\n",
    "    if cat_type == \"LEAF\":\n",
    "        return (df1.LEAF_CATEG_ID == df2.LEAF_CATEG_ID)\n",
    "    elif cat_type == \"LVL2\":\n",
    "        return (df1.CATEG_LVL2_ID == df2.CATEG_LVL2_ID)\n",
    "    else:\n",
    "        return (df1.META_CATEG_ID == df2.META_CATEG_ID) \n",
    "\n",
    "def _leaf_id_col(df, cat_type=\"LEAF\"):\n",
    "    if cat_type == \"LEAF\":\n",
    "        return df.LEAF_CATEG_ID\n",
    "    elif cat_type == \"LVL2\":\n",
    "        return df.CATEG_LVL2_ID\n",
    "    else:\n",
    "        return df.META_CATEG_ID\n",
    "    \n",
    "def _leaf_name_col(df, cat_type=\"LEAF\"):\n",
    "    if cat_type == \"LEAF\":\n",
    "        return df.LEAF_CATEG_NAME\n",
    "    elif cat_type == \"LVL2\":\n",
    "        return df.CATEG_LVL2_NAME\n",
    "    else:\n",
    "        return df.META_CATEG_NAME "
   ]
  },
  {
   "cell_type": "code",
   "execution_count": 14,
   "id": "5df42bc1-7d4b-479d-b67d-f61205cb610a",
   "metadata": {},
   "outputs": [],
   "source": [
    "from pyspark.sql import functions as F\n",
    "from pyspark.sql import Window\n",
    "\n",
    "def _first_view_after_purchase(df_prch, df_vi, df_base, cat_type=\"LEAF\"):\n",
    "    # Combined Step 1 and Step 2: Join purchases and views, filter, group by, and aggregate\n",
    "    df_res = (df_prch.join(df_vi, \n",
    "                           (df_prch.BUYER_ID == df_vi.BUYER_ID) & _leaf_condition(df_prch, df_vi, cat_type), how=\"left\")\n",
    "                      .withColumn(\"time_diff\", F.datediff(df_vi.EVENT_TIMESTAMP, df_prch.EVENT_TIMESTAMP)).filter(F.col(\"time_diff\") > 0)\n",
    "                      .groupBy(df_prch.BUYER_ID, _leaf_id_col(df_prch, cat_type), df_prch.EVENT_TIMESTAMP.alias(\"purchase_timestamp\"))\n",
    "                      .agg(\n",
    "                          F.min(df_vi.EVENT_TIMESTAMP).alias(\"first_view_timestamp\"),\n",
    "                          F.min(\"time_diff\").alias(\"days_diff\")\n",
    "                      )\n",
    "                      .filter(F.col(\"first_view_timestamp\").isNotNull()))\n",
    "\n",
    "    # Step 3: Use window function to ensure only the closest view is kept - same view can be assigned to multiple purchases so we take the closest purchase by days diff \n",
    "    window_spec = Window.partitionBy(df_res.BUYER_ID, _leaf_id_col(df_res, cat_type), df_res.first_view_timestamp).orderBy(F.col(\"days_diff\").asc())  \n",
    "    # Rank based on the closest purchase to each view timestamp\n",
    "    df_res = (df_res.withColumn(\"rank\", F.row_number().over(window_spec)).filter(F.col(\"rank\") == 1)  # Keep only the closest view (rank == 1)\n",
    "              .drop(\"rank\"))\n",
    "\n",
    "    # Step 4: Join with df_base and ensure base.EVENT_TIMESTAMP > first_view_timestamp\n",
    "    df_res = (df_res.join(df_base, (df_res[\"BUYER_ID\"] == df_base[\"BUYER_ID\"]) &  _leaf_condition(df_res, df_base, cat_type), how=\"inner\")\n",
    "              .filter(F.datediff(df_base.EVENT_TIMESTAMP, df_res.first_view_timestamp) > 0)\n",
    "              .select(df_res.BUYER_ID, _leaf_id_col(df_res, cat_type), df_res.purchase_timestamp, df_res.first_view_timestamp, df_res.days_diff))\n",
    "\n",
    "    return df_res  \n",
    "\n",
    "def time_since_first_view_after_purchase_in_cat(df_base, df_prch, df_vi, cat_type=\"LEAF\"):\n",
    "    # Step 1: Get the first view after each purchase\n",
    "    df_first_view = _first_view_after_purchase(df_prch, df_vi, df_base, cat_type)\n",
    "    \n",
    "    # Step 2: Join with df_base and perform aggregation directly, calculating min, max, and mean days_diff in a single step\n",
    "    df_res = df_base.join(df_first_view, \n",
    "                           (df_base.BUYER_ID == df_first_view.BUYER_ID) & \n",
    "                           _leaf_condition(df_base, df_first_view, cat_type), how=\"left\").select(df_base.BUYER_ID, \n",
    "                             _leaf_id_col(df_base, cat_type), \n",
    "                             df_base.EVENT_TIMESTAMP,\n",
    "                             F.col(\"days_diff\"))  \n",
    "  \n",
    "    \n",
    "    df_res_agg= df_res.groupBy(df_res.BUYER_ID, \n",
    "                       _leaf_id_col(df_res, cat_type), \n",
    "                       df_base.EVENT_TIMESTAMP).agg(\n",
    "                  F.array_min(F.collect_list(\"days_diff\")).alias(f\"f_min_time_since_first_view_after_purchase_in_{cat_type}_cat\"),\n",
    "                  F.array_max(F.collect_list(\"days_diff\")).alias(f\"f_max_time_since_first_view_after_purchase_in_{cat_type}_cat\"),\n",
    "                  fe.array_mean(F.collect_list(\"days_diff\")).alias(f\"f_mean_time_since_first_view_after_purchase_in_{cat_type}_cat\")\n",
    "              ).fillna(-1, subset=[\n",
    "                  f\"f_min_time_since_first_view_after_purchase_in_{cat_type}_cat\", \n",
    "                  f\"f_max_time_since_first_view_after_purchase_in_{cat_type}_cat\", \n",
    "                  f\"f_mean_time_since_first_view_after_purchase_in_{cat_type}_cat\"\n",
    "              ])\n",
    "          \n",
    "    \n",
    "    \n",
    "    return df_res_agg\n"
   ]
  },
  {
   "cell_type": "code",
   "execution_count": 10,
   "id": "c24fcb5c-96db-40a5-bdcf-48c8d7e95023",
   "metadata": {},
   "outputs": [],
   "source": [
    "df_tsf= time_since_first_view_after_purchase_in_cat(df_smp_sample, df_prch_sample, df_vi_sample, cat_type=\"LEAF\")"
   ]
  },
  {
   "cell_type": "code",
   "execution_count": 11,
   "id": "cb471ec4-085c-4e73-b47d-d49486d94bbe",
   "metadata": {},
   "outputs": [
    {
     "name": "stderr",
     "output_type": "stream",
     "text": [
      "[Stage 24:===================================>                (255 + 120) / 375]\r"
     ]
    },
    {
     "name": "stdout",
     "output_type": "stream",
     "text": [
      "+----------+-------------+---------------+------------------------------------------------------+------------------------------------------------------+-------------------------------------------------------+\n",
      "|  BUYER_ID|LEAF_CATEG_ID|EVENT_TIMESTAMP|f_min_time_since_first_view_after_purchase_in_LEAF_cat|f_max_time_since_first_view_after_purchase_in_LEAF_cat|f_mean_time_since_first_view_after_purchase_in_LEAF_cat|\n",
      "+----------+-------------+---------------+------------------------------------------------------+------------------------------------------------------+-------------------------------------------------------+\n",
      "|  11245860|        47173|     2024-05-01|                                                    -1|                                                    -1|                                                   -1.0|\n",
      "|1132069035|        24410|     2024-05-01|                                                    -1|                                                    -1|                                                   -1.0|\n",
      "|  11245860|       127413|     2024-05-01|                                                    -1|                                                    -1|                                                   -1.0|\n",
      "|1498530061|       168135|     2024-05-01|                                                     7|                                                    76|                                              34.666668|\n",
      "|1324204268|         2885|     2024-05-01|                                                    -1|                                                    -1|                                                   -1.0|\n",
      "+----------+-------------+---------------+------------------------------------------------------+------------------------------------------------------+-------------------------------------------------------+\n",
      "\n"
     ]
    },
    {
     "name": "stderr",
     "output_type": "stream",
     "text": [
      "                                                                                \r"
     ]
    }
   ],
   "source": [
    "df_tsf.show()"
   ]
  },
  {
   "cell_type": "code",
   "execution_count": 77,
   "id": "48d8ebce-e8ab-4c3e-945c-01bf2854db5c",
   "metadata": {
    "tags": []
   },
   "outputs": [
    {
     "name": "stderr",
     "output_type": "stream",
     "text": [
      "                                                                                1000]\r"
     ]
    },
    {
     "name": "stdout",
     "output_type": "stream",
     "text": [
      "7\n"
     ]
    },
    {
     "name": "stderr",
     "output_type": "stream",
     "text": [
      "                                                                                \r"
     ]
    },
    {
     "name": "stdout",
     "output_type": "stream",
     "text": [
      "5\n"
     ]
    },
    {
     "name": "stderr",
     "output_type": "stream",
     "text": [
      "                                                                                1]]]\r"
     ]
    },
    {
     "name": "stdout",
     "output_type": "stream",
     "text": [
      "+----------+-------------+---------------+---------+\n",
      "|  BUYER_ID|LEAF_CATEG_ID|EVENT_TIMESTAMP|days_diff|\n",
      "+----------+-------------+---------------+---------+\n",
      "|  11245860|        47173|     2024-05-01|     null|\n",
      "|1132069035|        24410|     2024-05-01|     null|\n",
      "|  11245860|       127413|     2024-05-01|     null|\n",
      "|1498530061|       168135|     2024-05-01|       76|\n",
      "|1498530061|       168135|     2024-05-01|       21|\n",
      "|1498530061|       168135|     2024-05-01|        7|\n",
      "|1324204268|         2885|     2024-05-01|     null|\n",
      "+----------+-------------+---------------+---------+\n",
      "\n",
      "None\n"
     ]
    },
    {
     "name": "stderr",
     "output_type": "stream",
     "text": [
      "[Stage 813:===================================================>(999 + 1) / 1000]001]\r"
     ]
    },
    {
     "name": "stdout",
     "output_type": "stream",
     "text": [
      "5\n"
     ]
    },
    {
     "name": "stderr",
     "output_type": "stream",
     "text": [
      "                                                                                \r"
     ]
    }
   ],
   "source": [
    "df_tsf= time_since_first_view_after_purchase_in_cat(df_smp_sample, df_prch_sample, df_vi_sample, cat_type=\"LEAF\")"
   ]
  },
  {
   "cell_type": "code",
   "execution_count": 78,
   "id": "1ed4eba7-05de-4df4-8e4d-f73b4a9df39e",
   "metadata": {},
   "outputs": [
    {
     "name": "stderr",
     "output_type": "stream",
     "text": [
      "[Stage 839:=======================================>            (286 + 89) / 375] 1001]]\r"
     ]
    },
    {
     "name": "stdout",
     "output_type": "stream",
     "text": [
      "+----------+-------------+---------------+------------------------------------------------------+------------------------------------------------------+-------------------------------------------------------+\n",
      "|  BUYER_ID|LEAF_CATEG_ID|EVENT_TIMESTAMP|f_min_time_since_first_view_after_purchase_in_LEAF_cat|f_max_time_since_first_view_after_purchase_in_LEAF_cat|f_mean_time_since_first_view_after_purchase_in_LEAF_cat|\n",
      "+----------+-------------+---------------+------------------------------------------------------+------------------------------------------------------+-------------------------------------------------------+\n",
      "|  11245860|        47173|     2024-05-01|                                                    -1|                                                    -1|                                                   -1.0|\n",
      "|1132069035|        24410|     2024-05-01|                                                    -1|                                                    -1|                                                   -1.0|\n",
      "|  11245860|       127413|     2024-05-01|                                                    -1|                                                    -1|                                                   -1.0|\n",
      "|1498530061|       168135|     2024-05-01|                                                     7|                                                    76|                                              34.666668|\n",
      "|1324204268|         2885|     2024-05-01|                                                    -1|                                                    -1|                                                   -1.0|\n",
      "+----------+-------------+---------------+------------------------------------------------------+------------------------------------------------------+-------------------------------------------------------+\n",
      "\n"
     ]
    },
    {
     "name": "stderr",
     "output_type": "stream",
     "text": [
      "                                                                                \r"
     ]
    }
   ],
   "source": [
    "df_tsf.show()"
   ]
  },
  {
   "cell_type": "code",
   "execution_count": 17,
   "id": "1f5d3dcc-c961-455e-8d97-ade27046a09c",
   "metadata": {},
   "outputs": [],
   "source": [
    "def add_feature(df_base, df_feature, feature_name=None, join_key=\"ITEM_ID\", na_value=None, how=\"inner\"):\n",
    "    df_res = df_base.join(df_feature, on=[\"BUYER_ID\", join_key, \"EVENT_TIMESTAMP\"], how=how)\n",
    "   # if na_value:\n",
    "    if na_value is not None and feature_name:\n",
    "        df_res = df_res.fillna(na_value, subset=[feature_name])\n",
    "    return df_res"
   ]
  },
  {
   "cell_type": "markdown",
   "id": "7c61078f-7af9-4db0-a261-7500889ba1c4",
   "metadata": {},
   "source": [
    "##### time since first view - adding by cat"
   ]
  },
  {
   "cell_type": "code",
   "execution_count": 18,
   "id": "caaaa3fd-2658-48b3-8993-6d39a67c45b4",
   "metadata": {},
   "outputs": [
    {
     "name": "stderr",
     "output_type": "stream",
     "text": [
      "                                                                                00]]\r"
     ]
    },
    {
     "name": "stdout",
     "output_type": "stream",
     "text": [
      "+----------+-------------+---------------+---------------+-----+--------------------+-------------+--------------------+-------------+--------------------+------------------------------------------------------+------------------------------------------------------+-------------------------------------------------------+\n",
      "|  BUYER_ID|LEAF_CATEG_ID|EVENT_TIMESTAMP|num_repurchases|label|     LEAF_CATEG_NAME|CATEG_LVL2_ID|     CATEG_LVL2_NAME|META_CATEG_ID|     META_CATEG_NAME|f_min_time_since_first_view_after_purchase_in_LEAF_cat|f_max_time_since_first_view_after_purchase_in_LEAF_cat|f_mean_time_since_first_view_after_purchase_in_LEAF_cat|\n",
      "+----------+-------------+---------------+---------------+-----+--------------------+-------------+--------------------+-------------+--------------------+------------------------------------------------------+------------------------------------------------------+-------------------------------------------------------+\n",
      "|1132069035|        24410|     2024-05-01|              0|    0|Sports Mem, Cards...|        24409|Fan Apparel & Sou...|        64482|Sports Mem, Cards...|                                                    -1|                                                    -1|                                                   -1.0|\n",
      "|1498530061|       168135|     2024-05-01|              6|    1|Home & Garden:Too...|          631|Tools & Workshop ...|        11700|       Home & Garden|                                                     7|                                                    76|                                              34.666668|\n",
      "|  11245860|       127413|     2024-05-01|              0|    0|Stamps:Africa:Sou...|       181423|              Africa|          260|              Stamps|                                                    -1|                                                    -1|                                                   -1.0|\n",
      "|  11245860|        47173|     2024-05-01|              0|    0|Stamps:Latin Amer...|       181417|       Latin America|          260|              Stamps|                                                    -1|                                                    -1|                                                   -1.0|\n",
      "|1324204268|         2885|     2024-05-01|              0|    0|Sports Mem, Cards...|        24409|Fan Apparel & Sou...|        64482|Sports Mem, Cards...|                                                    -1|                                                    -1|                                                   -1.0|\n",
      "+----------+-------------+---------------+---------------+-----+--------------------+-------------+--------------------+-------------+--------------------+------------------------------------------------------+------------------------------------------------------+-------------------------------------------------------+\n",
      "\n",
      "None\n"
     ]
    },
    {
     "name": "stderr",
     "output_type": "stream",
     "text": [
      "24/10/28 17:50:31 ERROR AsyncEventQueue: Listener EventLoggingListener threw an exception\n",
      "java.util.ConcurrentModificationException\n",
      "\tat java.util.Hashtable$Enumerator.next(Hashtable.java:1387)\n",
      "\tat scala.collection.convert.Wrappers$JPropertiesWrapper$$anon$6.next(Wrappers.scala:424)\n",
      "\tat scala.collection.convert.Wrappers$JPropertiesWrapper$$anon$6.next(Wrappers.scala:420)\n",
      "\tat scala.collection.Iterator.foreach(Iterator.scala:941)\n",
      "\tat scala.collection.Iterator.foreach$(Iterator.scala:941)\n",
      "\tat scala.collection.AbstractIterator.foreach(Iterator.scala:1429)\n",
      "\tat scala.collection.IterableLike.foreach(IterableLike.scala:74)\n",
      "\tat scala.collection.IterableLike.foreach$(IterableLike.scala:73)\n",
      "\tat scala.collection.AbstractIterable.foreach(Iterable.scala:56)\n",
      "\tat scala.collection.mutable.MapLike.toSeq(MapLike.scala:75)\n",
      "\tat scala.collection.mutable.MapLike.toSeq$(MapLike.scala:72)\n",
      "\tat scala.collection.mutable.AbstractMap.toSeq(Map.scala:82)\n",
      "\tat org.apache.spark.scheduler.EventLoggingListener.redactProperties(EventLoggingListener.scala:290)\n",
      "\tat org.apache.spark.scheduler.EventLoggingListener.onJobStart(EventLoggingListener.scala:162)\n",
      "\tat org.apache.spark.scheduler.SparkListenerBus.doPostEvent(SparkListenerBus.scala:37)\n",
      "\tat org.apache.spark.scheduler.SparkListenerBus.doPostEvent$(SparkListenerBus.scala:28)\n",
      "\tat org.apache.spark.scheduler.AsyncEventQueue.doPostEvent(AsyncEventQueue.scala:37)\n",
      "\tat org.apache.spark.scheduler.AsyncEventQueue.doPostEvent(AsyncEventQueue.scala:37)\n",
      "\tat org.apache.spark.util.ListenerBus.postToAll(ListenerBus.scala:117)\n",
      "\tat org.apache.spark.util.ListenerBus.postToAll$(ListenerBus.scala:101)\n",
      "\tat org.apache.spark.scheduler.AsyncEventQueue.super$postToAll(AsyncEventQueue.scala:105)\n",
      "\tat org.apache.spark.scheduler.AsyncEventQueue.$anonfun$dispatch$1(AsyncEventQueue.scala:105)\n",
      "\tat scala.runtime.java8.JFunction0$mcJ$sp.apply(JFunction0$mcJ$sp.java:23)\n",
      "\tat scala.util.DynamicVariable.withValue(DynamicVariable.scala:62)\n",
      "\tat org.apache.spark.scheduler.AsyncEventQueue.org$apache$spark$scheduler$AsyncEventQueue$$dispatch(AsyncEventQueue.scala:100)\n",
      "\tat org.apache.spark.scheduler.AsyncEventQueue$$anon$2.$anonfun$run$1(AsyncEventQueue.scala:96)\n",
      "\tat org.apache.spark.util.Utils$.tryOrStopSparkContext(Utils.scala:1381)\n",
      "\tat org.apache.spark.scheduler.AsyncEventQueue$$anon$2.run(AsyncEventQueue.scala:96)\n",
      "                                                                                0]\r"
     ]
    },
    {
     "name": "stdout",
     "output_type": "stream",
     "text": [
      "5\n"
     ]
    },
    {
     "name": "stderr",
     "output_type": "stream",
     "text": [
      "                                                                                0]]]\r"
     ]
    },
    {
     "name": "stdout",
     "output_type": "stream",
     "text": [
      "+----------+-------------+---------------+-------------+---------------+-----+--------------------+--------------------+-------------+--------------------+------------------------------------------------------+------------------------------------------------------+-------------------------------------------------------+------------------------------------------------------+------------------------------------------------------+-------------------------------------------------------+\n",
      "|  BUYER_ID|CATEG_LVL2_ID|EVENT_TIMESTAMP|LEAF_CATEG_ID|num_repurchases|label|     LEAF_CATEG_NAME|     CATEG_LVL2_NAME|META_CATEG_ID|     META_CATEG_NAME|f_min_time_since_first_view_after_purchase_in_LEAF_cat|f_max_time_since_first_view_after_purchase_in_LEAF_cat|f_mean_time_since_first_view_after_purchase_in_LEAF_cat|f_min_time_since_first_view_after_purchase_in_LVL2_cat|f_max_time_since_first_view_after_purchase_in_LVL2_cat|f_mean_time_since_first_view_after_purchase_in_LVL2_cat|\n",
      "+----------+-------------+---------------+-------------+---------------+-----+--------------------+--------------------+-------------+--------------------+------------------------------------------------------+------------------------------------------------------+-------------------------------------------------------+------------------------------------------------------+------------------------------------------------------+-------------------------------------------------------+\n",
      "|1324204268|        24409|     2024-05-01|         2885|              0|    0|Sports Mem, Cards...|Fan Apparel & Sou...|        64482|Sports Mem, Cards...|                                                    -1|                                                    -1|                                                   -1.0|                                                    -1|                                                    -1|                                                   -1.0|\n",
      "|1132069035|        24409|     2024-05-01|        24410|              0|    0|Sports Mem, Cards...|Fan Apparel & Sou...|        64482|Sports Mem, Cards...|                                                    -1|                                                    -1|                                                   -1.0|                                                    12|                                                    12|                                                   12.0|\n",
      "|  11245860|       181417|     2024-05-01|        47173|              0|    0|Stamps:Latin Amer...|       Latin America|          260|              Stamps|                                                    -1|                                                    -1|                                                   -1.0|                                                    -1|                                                    -1|                                                   -1.0|\n",
      "|1498530061|          631|     2024-05-01|       168135|              6|    1|Home & Garden:Too...|Tools & Workshop ...|        11700|       Home & Garden|                                                     7|                                                    76|                                              34.666668|                                                     1|                                                    10|                                              1.9666667|\n",
      "|  11245860|       181423|     2024-05-01|       127413|              0|    0|Stamps:Africa:Sou...|              Africa|          260|              Stamps|                                                    -1|                                                    -1|                                                   -1.0|                                                    -1|                                                    -1|                                                   -1.0|\n",
      "+----------+-------------+---------------+-------------+---------------+-----+--------------------+--------------------+-------------+--------------------+------------------------------------------------------+------------------------------------------------------+-------------------------------------------------------+------------------------------------------------------+------------------------------------------------------+-------------------------------------------------------+\n",
      "\n",
      "None\n"
     ]
    },
    {
     "name": "stderr",
     "output_type": "stream",
     "text": [
      "                                                                                1001]]]\r"
     ]
    },
    {
     "name": "stdout",
     "output_type": "stream",
     "text": [
      "5\n"
     ]
    },
    {
     "name": "stderr",
     "output_type": "stream",
     "text": [
      "                                                                                / 1001]]]\r"
     ]
    },
    {
     "name": "stdout",
     "output_type": "stream",
     "text": [
      "+----------+-------------+---------------+-------------+-------------+---------------+-----+--------------------+--------------------+--------------------+------------------------------------------------------+------------------------------------------------------+-------------------------------------------------------+------------------------------------------------------+------------------------------------------------------+-------------------------------------------------------+------------------------------------------------------+------------------------------------------------------+-------------------------------------------------------+\n",
      "|  BUYER_ID|META_CATEG_ID|EVENT_TIMESTAMP|CATEG_LVL2_ID|LEAF_CATEG_ID|num_repurchases|label|     LEAF_CATEG_NAME|     CATEG_LVL2_NAME|     META_CATEG_NAME|f_min_time_since_first_view_after_purchase_in_LEAF_cat|f_max_time_since_first_view_after_purchase_in_LEAF_cat|f_mean_time_since_first_view_after_purchase_in_LEAF_cat|f_min_time_since_first_view_after_purchase_in_LVL2_cat|f_max_time_since_first_view_after_purchase_in_LVL2_cat|f_mean_time_since_first_view_after_purchase_in_LVL2_cat|f_min_time_since_first_view_after_purchase_in_META_cat|f_max_time_since_first_view_after_purchase_in_META_cat|f_mean_time_since_first_view_after_purchase_in_META_cat|\n",
      "+----------+-------------+---------------+-------------+-------------+---------------+-----+--------------------+--------------------+--------------------+------------------------------------------------------+------------------------------------------------------+-------------------------------------------------------+------------------------------------------------------+------------------------------------------------------+-------------------------------------------------------+------------------------------------------------------+------------------------------------------------------+-------------------------------------------------------+\n",
      "|  11245860|          260|     2024-05-01|       181423|       127413|              0|    0|Stamps:Africa:Sou...|              Africa|              Stamps|                                                    -1|                                                    -1|                                                   -1.0|                                                    -1|                                                    -1|                                                   -1.0|                                                    -1|                                                    -1|                                                   -1.0|\n",
      "|  11245860|          260|     2024-05-01|       181417|        47173|              0|    0|Stamps:Latin Amer...|       Latin America|              Stamps|                                                    -1|                                                    -1|                                                   -1.0|                                                    -1|                                                    -1|                                                   -1.0|                                                    -1|                                                    -1|                                                   -1.0|\n",
      "|1498530061|        11700|     2024-05-01|          631|       168135|              6|    1|Home & Garden:Too...|Tools & Workshop ...|       Home & Garden|                                                     7|                                                    76|                                              34.666668|                                                     1|                                                    10|                                              1.9666667|                                                     1|                                                    10|                                                1.96875|\n",
      "|1324204268|        64482|     2024-05-01|        24409|         2885|              0|    0|Sports Mem, Cards...|Fan Apparel & Sou...|Sports Mem, Cards...|                                                    -1|                                                    -1|                                                   -1.0|                                                    -1|                                                    -1|                                                   -1.0|                                                    -1|                                                    -1|                                                   -1.0|\n",
      "|1132069035|        64482|     2024-05-01|        24409|        24410|              0|    0|Sports Mem, Cards...|Fan Apparel & Sou...|Sports Mem, Cards...|                                                    -1|                                                    -1|                                                   -1.0|                                                    12|                                                    12|                                                   12.0|                                                    12|                                                    12|                                                   12.0|\n",
      "+----------+-------------+---------------+-------------+-------------+---------------+-----+--------------------+--------------------+--------------------+------------------------------------------------------+------------------------------------------------------+-------------------------------------------------------+------------------------------------------------------+------------------------------------------------------+-------------------------------------------------------+------------------------------------------------------+------------------------------------------------------+-------------------------------------------------------+\n",
      "\n",
      "None\n"
     ]
    },
    {
     "name": "stderr",
     "output_type": "stream",
     "text": [
      "[Stage 266:================================================>  (945 + 55) / 1000]000]0]]]\r"
     ]
    },
    {
     "name": "stdout",
     "output_type": "stream",
     "text": [
      "5\n"
     ]
    },
    {
     "name": "stderr",
     "output_type": "stream",
     "text": [
      "                                                                                \r"
     ]
    }
   ],
   "source": [
    "\n",
    "df_ft = time_since_first_view_after_purchase_in_cat(df_smp_sample, df_prch_sample, df_vi_sample, cat_type=\"LEAF\")\n",
    "\n",
    "df_res = add_feature(df_smp_sample, df_ft, join_key=\"LEAF_CATEG_ID\", how=\"inner\")\n",
    "print(df_res.show())\n",
    "print(df_res.count())\n",
    "\n",
    "df_ft = time_since_first_view_after_purchase_in_cat(df_smp, df_prch_sample, df_vi_sample, cat_type=\"LVL2\")\n",
    "df_res = add_feature(df_res, df_ft, join_key=\"CATEG_LVL2_ID\", how=\"inner\")\n",
    "print(df_res.show())\n",
    "print(df_res.count()) \n",
    "\n",
    "df_ft = time_since_first_view_after_purchase_in_cat(df_smp, df_prch_sample, df_vi_sample, cat_type=\"META\")\n",
    "df_res = add_feature(df_res, df_ft, join_key=\"META_CATEG_ID\", how=\"inner\")\n",
    "print(df_res.show())\n",
    "print(df_res.count()) "
   ]
  },
  {
   "cell_type": "code",
   "execution_count": 19,
   "id": "1caa5169-34c6-4ec6-b0b2-889c8a32184f",
   "metadata": {},
   "outputs": [
    {
     "name": "stderr",
     "output_type": "stream",
     "text": [
      "                                                                                0]]]1]]\r"
     ]
    },
    {
     "name": "stdout",
     "output_type": "stream",
     "text": [
      "+----------+-------------+---------------+-------------+-------------+---------------+-----+--------------------+--------------------+--------------------+------------------------------------------------------+------------------------------------------------------+-------------------------------------------------------+------------------------------------------------------+------------------------------------------------------+-------------------------------------------------------+------------------------------------------------------+------------------------------------------------------+-------------------------------------------------------+\n",
      "|  BUYER_ID|META_CATEG_ID|EVENT_TIMESTAMP|CATEG_LVL2_ID|LEAF_CATEG_ID|num_repurchases|label|     LEAF_CATEG_NAME|     CATEG_LVL2_NAME|     META_CATEG_NAME|f_min_time_since_first_view_after_purchase_in_LEAF_cat|f_max_time_since_first_view_after_purchase_in_LEAF_cat|f_mean_time_since_first_view_after_purchase_in_LEAF_cat|f_min_time_since_first_view_after_purchase_in_LVL2_cat|f_max_time_since_first_view_after_purchase_in_LVL2_cat|f_mean_time_since_first_view_after_purchase_in_LVL2_cat|f_min_time_since_first_view_after_purchase_in_META_cat|f_max_time_since_first_view_after_purchase_in_META_cat|f_mean_time_since_first_view_after_purchase_in_META_cat|\n",
      "+----------+-------------+---------------+-------------+-------------+---------------+-----+--------------------+--------------------+--------------------+------------------------------------------------------+------------------------------------------------------+-------------------------------------------------------+------------------------------------------------------+------------------------------------------------------+-------------------------------------------------------+------------------------------------------------------+------------------------------------------------------+-------------------------------------------------------+\n",
      "|  11245860|          260|     2024-05-01|       181423|       127413|              0|    0|Stamps:Africa:Sou...|              Africa|              Stamps|                                                    -1|                                                    -1|                                                   -1.0|                                                    -1|                                                    -1|                                                   -1.0|                                                    -1|                                                    -1|                                                   -1.0|\n",
      "|  11245860|          260|     2024-05-01|       181417|        47173|              0|    0|Stamps:Latin Amer...|       Latin America|              Stamps|                                                    -1|                                                    -1|                                                   -1.0|                                                    -1|                                                    -1|                                                   -1.0|                                                    -1|                                                    -1|                                                   -1.0|\n",
      "|1498530061|        11700|     2024-05-01|          631|       168135|              6|    1|Home & Garden:Too...|Tools & Workshop ...|       Home & Garden|                                                     7|                                                    76|                                              34.666668|                                                     1|                                                    10|                                              1.9666667|                                                     1|                                                    10|                                                1.96875|\n",
      "|1324204268|        64482|     2024-05-01|        24409|         2885|              0|    0|Sports Mem, Cards...|Fan Apparel & Sou...|Sports Mem, Cards...|                                                    -1|                                                    -1|                                                   -1.0|                                                    -1|                                                    -1|                                                   -1.0|                                                    -1|                                                    -1|                                                   -1.0|\n",
      "|1132069035|        64482|     2024-05-01|        24409|        24410|              0|    0|Sports Mem, Cards...|Fan Apparel & Sou...|Sports Mem, Cards...|                                                    -1|                                                    -1|                                                   -1.0|                                                    12|                                                    12|                                                   12.0|                                                    12|                                                    12|                                                   12.0|\n",
      "+----------+-------------+---------------+-------------+-------------+---------------+-----+--------------------+--------------------+--------------------+------------------------------------------------------+------------------------------------------------------+-------------------------------------------------------+------------------------------------------------------+------------------------------------------------------+-------------------------------------------------------+------------------------------------------------------+------------------------------------------------------+-------------------------------------------------------+\n",
      "\n"
     ]
    }
   ],
   "source": [
    "df_res.show()"
   ]
  },
  {
   "cell_type": "code",
   "execution_count": null,
   "id": "96ff1594-edc3-46fb-85af-11cec0640307",
   "metadata": {},
   "outputs": [],
   "source": [
    "df_tsf.select([\"f_max_time_since_first_view_after_purchase_in_LEAF_cat\",\n",
    "               \"f_mean_time_since_first_view_after_purchase_in_LEAF_cat\",\n",
    "               \"f_min_time_since_first_view_after_purchase_in_LEAF_cat\"]).show()"
   ]
  },
  {
   "cell_type": "code",
   "execution_count": 21,
   "id": "f30c4f5f-68ec-4188-b7ca-e01f498a1458",
   "metadata": {},
   "outputs": [
    {
     "name": "stderr",
     "output_type": "stream",
     "text": [
      "                                                                                00]\r"
     ]
    },
    {
     "data": {
      "text/plain": [
       "5"
      ]
     },
     "execution_count": 21,
     "metadata": {},
     "output_type": "execute_result"
    }
   ],
   "source": [
    "df_tsf.count()"
   ]
  },
  {
   "cell_type": "markdown",
   "id": "3190e0ad-68ec-4c26-8e63-2a139b4cec4e",
   "metadata": {},
   "source": [
    "##### time since first view - sample features adding F. "
   ]
  },
  {
   "cell_type": "code",
   "execution_count": 4,
   "id": "a528b747-8adc-48de-af2c-adb95492093c",
   "metadata": {
    "scrolled": true,
    "tags": []
   },
   "outputs": [
    {
     "name": "stderr",
     "output_type": "stream",
     "text": [
      "                                                                                \r"
     ]
    },
    {
     "name": "stdout",
     "output_type": "stream",
     "text": [
      "1006\n"
     ]
    },
    {
     "name": "stderr",
     "output_type": "stream",
     "text": [
      "                                                                                01]]\r"
     ]
    },
    {
     "name": "stdout",
     "output_type": "stream",
     "text": [
      "1006\n"
     ]
    },
    {
     "name": "stderr",
     "output_type": "stream",
     "text": [
      "                                                                                 1000]]\r"
     ]
    },
    {
     "name": "stdout",
     "output_type": "stream",
     "text": [
      "1006\n"
     ]
    },
    {
     "name": "stderr",
     "output_type": "stream",
     "text": [
      "                                                                                / 1000]]\r"
     ]
    },
    {
     "name": "stdout",
     "output_type": "stream",
     "text": [
      "1006\n"
     ]
    },
    {
     "name": "stderr",
     "output_type": "stream",
     "text": [
      "[Stage 225:====================================================>  (19 + 1) / 20] 1000]]]\r"
     ]
    },
    {
     "name": "stdout",
     "output_type": "stream",
     "text": [
      "+----------+-------------+---------------+-------------+-------------+---------------+-----+--------------------+--------------------+--------------------+------------------------------------------------------+------------------------------------------------------+-------------------------------------------------------+------------------------------------------------------+------------------------------------------------------+-------------------------------------------------------+------------------------------------------------------+------------------------------------------------------+-------------------------------------------------------+\n",
      "|  BUYER_ID|META_CATEG_ID|EVENT_TIMESTAMP|CATEG_LVL2_ID|LEAF_CATEG_ID|num_repurchases|label|     LEAF_CATEG_NAME|     CATEG_LVL2_NAME|     META_CATEG_NAME|f_min_time_since_first_view_after_purchase_in_LEAF_cat|f_max_time_since_first_view_after_purchase_in_LEAF_cat|f_mean_time_since_first_view_after_purchase_in_LEAF_cat|f_min_time_since_first_view_after_purchase_in_LVL2_cat|f_max_time_since_first_view_after_purchase_in_LVL2_cat|f_mean_time_since_first_view_after_purchase_in_LVL2_cat|f_min_time_since_first_view_after_purchase_in_META_cat|f_max_time_since_first_view_after_purchase_in_META_cat|f_mean_time_since_first_view_after_purchase_in_META_cat|\n",
      "+----------+-------------+---------------+-------------+-------------+---------------+-----+--------------------+--------------------+--------------------+------------------------------------------------------+------------------------------------------------------+-------------------------------------------------------+------------------------------------------------------+------------------------------------------------------+-------------------------------------------------------+------------------------------------------------------+------------------------------------------------------+-------------------------------------------------------+\n",
      "|2618023309|        26395|     2024-05-01|        31414|       122773|              0|    0|Health & Beauty:V...|         Vision Care|     Health & Beauty|                                                    -1|                                                    -1|                                                   -1.0|                                                    -1|                                                    -1|                                                   -1.0|                                                    -1|                                                    -1|                                                   -1.0|\n",
      "|  45435807|        64482|     2024-05-01|        24409|          205|              0|    0|Sports Mem, Cards...|Fan Apparel & Sou...|Sports Mem, Cards...|                                                    -1|                                                    -1|                                                   -1.0|                                                     1|                                                     9|                                              3.3333333|                                                     1|                                                     9|                                              3.3333333|\n",
      "|  70523288|        11700|     2024-05-01|        20625|       178058|              0|    0|Home & Garden:Kit...|Kitchen, Dining &...|       Home & Garden|                                                    -1|                                                    -1|                                                   -1.0|                                                    27|                                                   130|                                                   78.5|                                                    25|                                                   129|                                                   77.0|\n",
      "| 362153737|        11450|     2024-05-01|       260012|       155183|              0|    0|Clothing, Shoes &...|                 Men|Clothing, Shoes &...|                                                    90|                                                    90|                                                   90.0|                                                     1|                                                    18|                                                   5.75|                                                     1|                                                    15|                                                    5.0|\n",
      "| 105887655|        11450|     2024-05-01|       260010|        63861|              0|    0|Clothing, Shoes &...|               Women|Clothing, Shoes &...|                                                    -1|                                                    -1|                                                   -1.0|                                                     1|                                                    21|                                              10.666667|                                                     1|                                                    21|                                              10.666667|\n",
      "| 140409603|        11700|     2024-05-01|       159907|        20612|              0|    0|Home & Garden:Hom...|    Home Improvement|       Home & Garden|                                                    -1|                                                    -1|                                                   -1.0|                                                   156|                                                   156|                                                  156.0|                                                     1|                                                    67|                                                   23.0|\n",
      "|  11245860|          260|     2024-05-01|       181417|        47173|              0|    0|Stamps:Latin Amer...|       Latin America|              Stamps|                                                    -1|                                                    -1|                                                   -1.0|                                                    -1|                                                    -1|                                                   -1.0|                                                    -1|                                                    -1|                                                   -1.0|\n",
      "|  11245860|          260|     2024-05-01|       181423|       127413|              0|    0|Stamps:Africa:Sou...|              Africa|              Stamps|                                                    -1|                                                    -1|                                                   -1.0|                                                    -1|                                                    -1|                                                   -1.0|                                                    -1|                                                    -1|                                                   -1.0|\n",
      "|1993799074|          220|     2024-05-01|         2536|       183454|              1|    1|Toys & Hobbies:Co...|Collectible Card ...|      Toys & Hobbies|                                                    20|                                                    20|                                                   20.0|                                                     1|                                                    21|                                                   10.2|                                                     1|                                                    48|                                                   15.8|\n",
      "| 168153910|          293|     2024-05-01|        32852|       168058|              0|    0|Consumer Electron...|TV, Video & Home ...|Consumer Electronics|                                                    -1|                                                    -1|                                                   -1.0|                                                    -1|                                                    -1|                                                   -1.0|                                                    -1|                                                    -1|                                                   -1.0|\n",
      "|2497556075|        26395|     2024-05-01|        67588|       176998|              1|    1|Health & Beauty:H...|         Health Care|     Health & Beauty|                                                    12|                                                    67|                                                   36.6|                                                     5|                                                    67|                                                   29.2|                                                     5|                                                    67|                                                   29.2|\n",
      "|2585266998|        12576|     2024-05-01|        25298|       159710|              0|    0|Business & Indust...|              Office|Business & Indust...|                                                    -1|                                                    -1|                                                   -1.0|                                                    -1|                                                    -1|                                                   -1.0|                                                    -1|                                                    -1|                                                   -1.0|\n",
      "| 178480646|        11232|     2024-05-01|          309|          309|              0|    0|Movies & TV:VHS T...|           VHS Tapes|         Movies & TV|                                                   133|                                                   133|                                                  133.0|                                                   133|                                                   133|                                                  133.0|                                                   130|                                                   130|                                                  130.0|\n",
      "|1246683550|        11450|     2024-05-01|       260010|       163588|              1|    1|Clothing, Shoes &...|               Women|Clothing, Shoes &...|                                                    -1|                                                    -1|                                                   -1.0|                                                    17|                                                    17|                                                   17.0|                                                    17|                                                    17|                                                   17.0|\n",
      "|2079139648|        15032|     2024-05-01|         9394|        20349|              0|    0|Cell Phones & Acc...|Cell Phone Access...|Cell Phones & Acc...|                                                     1|                                                     1|                                                    1.0|                                                     1|                                                     1|                                                    1.0|                                                     1|                                                     1|                                                    1.0|\n",
      "|2541367954|        12576|     2024-05-01|        25298|        61754|              0|    0|Business & Indust...|              Office|Business & Indust...|                                                     1|                                                     1|                                                    1.0|                                                     1|                                                     1|                                                    1.0|                                                     1|                                                     1|                                                    1.0|\n",
      "|  27250015|          888|     2024-05-01|        36259|        21229|              0|    0|Sporting Goods:Wi...|       Winter Sports|      Sporting Goods|                                                    -1|                                                    -1|                                                   -1.0|                                                     1|                                                     1|                                                    1.0|                                                     1|                                                     1|                                                    1.0|\n",
      "|1181489910|        15032|     2024-05-01|         9394|       123422|              0|    0|Cell Phones & Acc...|Cell Phone Access...|Cell Phones & Acc...|                                                    -1|                                                    -1|                                                   -1.0|                                                     1|                                                   222|                                                  111.5|                                                     1|                                                   222|                                                  111.5|\n",
      "|1318259014|        12576|     2024-05-01|        11748|        57111|              0|    0|Business & Indust...|Agriculture & For...|Business & Indust...|                                                    23|                                                    23|                                                   23.0|                                                    23|                                                    23|                                                   23.0|                                                     4|                                                    23|                                                   13.5|\n",
      "|1169303030|            1|     2024-05-01|        13905|        13925|              0|    0|Collectibles:Kitc...|      Kitchen & Home|        Collectibles|                                                     9|                                                     9|                                                    9.0|                                                     1|                                                     1|                                                    1.0|                                                     1|                                                     3|                                                    2.0|\n",
      "+----------+-------------+---------------+-------------+-------------+---------------+-----+--------------------+--------------------+--------------------+------------------------------------------------------+------------------------------------------------------+-------------------------------------------------------+------------------------------------------------------+------------------------------------------------------+-------------------------------------------------------+------------------------------------------------------+------------------------------------------------------+-------------------------------------------------------+\n",
      "only showing top 20 rows\n",
      "\n"
     ]
    },
    {
     "name": "stderr",
     "output_type": "stream",
     "text": [
      "                                                                                \r"
     ]
    }
   ],
   "source": [
    "import features as F\n",
    "\n",
    "# Step 1: Sample 20 buyers from df_smp\n",
    "sample_buyers = (df_smp.select(\"BUYER_ID\").distinct().limit(1000)).collect()\n",
    "buyer_ids = [row[\"BUYER_ID\"] for row in sample_buyers]\n",
    "\n",
    "# Step 2: Filter df_smp, df_prch, and df_vi to only include those 20 buyers\n",
    "df_smp_sample = df_smp.filter(df_smp.BUYER_ID.isin(buyer_ids))\n",
    "df_prch_sample = df_prch.filter(df_prch.BUYER_ID.isin(buyer_ids))\n",
    "df_vi_sample = df_vi.filter(df_vi.BUYER_ID.isin(buyer_ids))\n",
    "print(df_smp_sample.count())\n",
    "# Step 3: Calculate features for LEAF category\n",
    "df_ft_leaf = F.f_time_since_first_view_after_purchase_in_cat(df_smp_sample, df_prch_sample, df_vi_sample, cat_type=\"LEAF\")\n",
    "df_res_t = F.add_feature(df_smp_sample, df_ft_leaf, join_key=\"LEAF_CATEG_ID\")\n",
    "print(df_res_t.count())\n",
    "# Step 4: Calculate features for LVL2 category\n",
    "df_ft_lvl2 = F.f_time_since_first_view_after_purchase_in_cat(df_smp_sample, df_prch_sample, df_vi_sample, cat_type=\"LVL2\")\n",
    "df_res_t = F.add_feature(df_res_t, df_ft_lvl2, join_key=\"CATEG_LVL2_ID\")\n",
    "print(df_res_t.count())\n",
    "# Step 5: Calculate features for META category\n",
    "df_ft_meta = F.f_time_since_first_view_after_purchase_in_cat(df_smp_sample, df_prch_sample, df_vi_sample, cat_type=\"META\")\n",
    "df_res_t = F.add_feature(df_res_t, df_ft_meta, join_key=\"META_CATEG_ID\")\n",
    "print(df_res_t.count())\n",
    "# Step 6: Show the results\n",
    "df_res_t.show()"
   ]
  },
  {
   "cell_type": "markdown",
   "id": "538f6ee1-bdcc-46c3-b83d-1e3eaf2cdfe6",
   "metadata": {},
   "source": [
    "## f_num_views_from_purchase_in_cat "
   ]
  },
  {
   "cell_type": "code",
   "execution_count": 3,
   "id": "fcd088f7-07ed-4f73-9044-435dd18b39e6",
   "metadata": {},
   "outputs": [],
   "source": [
    "\n",
    "\n",
    "def _num_views_from_purchase_in_cat(df_prch, df_vi, df_base, cat_type=\"LEAF\"):\n",
    "    # Step 1: Get unique purchase timestamps per buyer and category\n",
    "    purchase_df = df_prch.select(\"BUYER_ID\", _leaf_id_col(df_prch, cat_type), \"EVENT_TIMESTAMP\").distinct()\n",
    "    \n",
    "    # Step 2: Create a window to identify the next purchase timestamp for each buyer and category\n",
    "    window_spec = Window.partitionBy(\"BUYER_ID\", _leaf_id_col(df_prch, cat_type)).orderBy(F.col(\"EVENT_TIMESTAMP\").asc())\n",
    "    \n",
    "    # Add the next purchase timestamp using lead\n",
    "    purchase_df = purchase_df.withColumn(\"next_purchase_timestamp\", F.lead(\"EVENT_TIMESTAMP\", 1).over(window_spec))\n",
    "\n",
    "    # Step 3: Join views with purchases to find views that fall between purchases\n",
    "    view_purchase_joined = df_vi.join(\n",
    "        purchase_df,\n",
    "        (df_vi.BUYER_ID == purchase_df.BUYER_ID) &\n",
    "        _leaf_condition(purchase_df, df_vi, cat_type),  # Ensure the condition uses purchase_df\n",
    "        how=\"left\"\n",
    "    ).select(\n",
    "        df_vi.BUYER_ID,\n",
    "        df_vi.ITEM_ID,\n",
    "        df_vi.EVENT_TIMESTAMP.alias(\"view_timestamp\"),  # Rename view timestamp for clarity\n",
    "        purchase_df.EVENT_TIMESTAMP.alias(\"purchase_timestamp\"),  # Rename purchase timestamp for clarity\n",
    "        _leaf_id_col(purchase_df, cat_type),  # Include leaf category ID from purchase_df\n",
    "        purchase_df.next_purchase_timestamp\n",
    "    )\n",
    "    print(\"step 1\") \n",
    "    view_purchase_joined.show()\n",
    "    \n",
    "    # Step 4: Filter views to ensure each view is associated with the closest past purchase\n",
    "    view_purchase_filtered = view_purchase_joined.filter(\n",
    "        (view_purchase_joined.view_timestamp > view_purchase_joined.purchase_timestamp) & \n",
    "        (view_purchase_joined.view_timestamp <= F.coalesce(view_purchase_joined.next_purchase_timestamp, F.lit('9999-12-31')))\n",
    "    )\n",
    "    print(\"step 4 Filter views by dt\") \n",
    "    view_purchase_filtered.show()\n",
    "    \n",
    "    # Step 5: Use a window function to rank views per buyer and category and purchase \n",
    "    view_ranked = view_purchase_filtered.withColumn(\n",
    "        \"rank\",\n",
    "        F.row_number().over(Window.partitionBy(view_purchase_filtered.BUYER_ID, _leaf_id_col(view_purchase_filtered, cat_type),\n",
    "                                               view_purchase_filtered.view_timestamp )\n",
    "                             .orderBy(F.col(\"purchase_timestamp\").desc()))  # Rank by the closest purchase\n",
    "    )\n",
    "    print(\"step 5 rank\")\n",
    "    view_ranked.show()\n",
    "    \n",
    "    # Step 6: Keep only the highest-ranked view (the closest to the purchase)\n",
    "    view_single_assigned = view_ranked.filter(F.col(\"rank\") == 1)\n",
    "    print(\"step 6 filter rank\")\n",
    "    view_single_assigned.show()\n",
    "    \n",
    "    # Step 7: Select the desired columns and add time_diff\n",
    "    df_res = view_single_assigned.select(\n",
    "        \"BUYER_ID\",\n",
    "        \"ITEM_ID\",\n",
    "        _leaf_id_col(view_single_assigned, cat_type),\n",
    "        F.col(\"purchase_timestamp\"),\n",
    "        F.col(\"view_timestamp\"),\n",
    "        F.datediff(F.col(\"view_timestamp\"), F.col(\"purchase_timestamp\")).alias(\"time_diff\")\n",
    "    )\n",
    "    print(\"step 7 after filter rank\")\n",
    "    df_res.show()\n",
    "\n",
    "    # Step 8: Join with df_base and select the relevant columns\n",
    "    df_res = (df_res.join(df_base, \n",
    "                          (df_res[\"BUYER_ID\"] == df_base[\"BUYER_ID\"]) &  \n",
    "                          _leaf_condition(df_res, df_base, cat_type), \n",
    "                          how=\"inner\")  # Use inner join to filter based on conditions\n",
    "                  .filter(F.datediff(df_base.EVENT_TIMESTAMP, df_res.view_timestamp) > 0)  # Filter rows based on date difference\n",
    "                  .select(\n",
    "                      df_res.BUYER_ID,\n",
    "                      _leaf_id_col(df_res, cat_type),\n",
    "                      df_res.purchase_timestamp,\n",
    "                      df_res.view_timestamp,  # Select view timestamp without alias\n",
    "                      df_res.time_diff.alias(\"days_diff\")  # Alias for time difference\n",
    "                  )\n",
    "              )\n",
    "    print(\"step 7 bs filter dt\")\n",
    "    df_res.show()\n",
    "\n",
    "    # Step 9: Count the views between purchases\n",
    "    df_view_count = df_res.groupBy(\"BUYER_ID\", _leaf_id_col(df_res, cat_type), \"purchase_timestamp\") \\\n",
    "                          .agg(F.count(F.col(\"view_timestamp\")).alias(\"view_count\"),\n",
    "                               F.max(F.col(\"days_diff\")).alias(\"max_days_diff\"))\n",
    "    df_view_count.show()\n",
    "    \n",
    "    # Step 10: Collect all view counts into an array per buyer and category\n",
    "    df_view_count_array = df_view_count.groupBy(\"BUYER_ID\", _leaf_id_col(df_view_count, cat_type)) \\\n",
    "                                       .agg(F.collect_list(F.col(\"view_count\")).alias(\"view_count_array\"))\n",
    "    df_view_count_array.show()\n",
    "    return df_view_count_array\n",
    "\n",
    "\n",
    "# Function to add the features to the base dataframe\n",
    "def f_num_views_from_purchase_in_cat(df_base, df_prch, df_vi, cat_type=\"LEAF\"):\n",
    "    # Step 1: Get the number of views between purchases for the given category type\n",
    "    df_view_counts = _num_views_from_purchase_in_cat(df_prch, df_vi, df_base, cat_type)\n",
    "\n",
    "    # Step 2: Join df_base with df_view_counts to add the new features\n",
    "    df_res = (df_base.join(df_view_counts, \n",
    "                           (df_base.BUYER_ID == df_view_counts.BUYER_ID) & \n",
    "                           _leaf_condition(df_base, df_view_counts, cat_type), \n",
    "                           how=\"left\")\n",
    "                     .select(df_base.BUYER_ID, \n",
    "                             df_base.LEAF_CATEG_ID,\n",
    "                             df_base.EVENT_TIMESTAMP,\n",
    "                             F.col(\"view_count_array\"))  # Include the collected view counts\n",
    "             )\n",
    "    print(\"# Step 2: Join df_base with df_view_counts to add the new features\")\n",
    "    df_res.show()\n",
    "    \n",
    "    # Step 3: Calculate features based on view counts (min, max, mean)\n",
    "    df_res = (df_res.withColumn(f\"f_min_num_views_between_purchases_in_{cat_type}_cat\", \n",
    "                            F.array_min(F.col(\"view_count_array\")))  # Min value of the array\n",
    "                     .withColumn(f\"f_max_num_views_between_purchases_in_{cat_type}_cat\", \n",
    "                            F.array_max(F.col(\"view_count_array\")))  # Max value of the array\n",
    "                     .withColumn(f\"f_mean_num_views_between_purchases_in_{cat_type}_cat\", \n",
    "                            fe.array_mean(F.col(\"view_count_array\")))  # Mean value of the array\n",
    "                     .fillna(-1, subset=[f\"f_min_num_views_between_purchases_in_{cat_type}_cat\", \n",
    "                                         f\"f_max_num_views_between_purchases_in_{cat_type}_cat\", \n",
    "                                         f\"f_mean_num_views_between_purchases_in_{cat_type}_cat\"])  # Fill nulls with -1\n",
    "                     .drop(\"view_count_array\")  # Drop the view_count_array if no longer needed\n",
    "          )\n",
    "\n",
    "    return df_res\n"
   ]
  },
  {
   "cell_type": "markdown",
   "id": "57e5181a-1a4b-427c-8625-e950854becd6",
   "metadata": {},
   "source": [
    "#### prev logic in features with max days: "
   ]
  },
  {
   "cell_type": "code",
   "execution_count": null,
   "id": "2f1114eb-730d-4ebf-ae85-d608242f4895",
   "metadata": {},
   "outputs": [],
   "source": [
    "# Function to calculate the number of views between purchases and max days\n",
    "def _num_views_from_purchase_in_cat(df_prch, df_vi, df_base, cat_type=\"LEAF\"):\n",
    "    \n",
    "    purchase_df = df_prch.select(\"BUYER_ID\", _leaf_id_col(df_prch, cat_type), \"EVENT_TIMESTAMP\").distinct()\n",
    "    window_spec = Window.partitionBy(\"BUYER_ID\", _leaf_id_col(df_prch, cat_type)).orderBy(F.col(\"EVENT_TIMESTAMP\").asc())\n",
    "    purchase_df = purchase_df.withColumn(\"next_purchase_timestamp\", F.lead(\"EVENT_TIMESTAMP\", 1).over(window_spec))\n",
    "   \n",
    "    # Step 3: Join views with purchases to find views that fall between purchases\n",
    "    view_purchase_joined = df_vi.join(\n",
    "        purchase_df,\n",
    "        (df_vi.BUYER_ID == purchase_df.BUYER_ID) &_leaf_condition(purchase_df, df_vi, cat_type), how=\"left\"\n",
    "        ).select(df_vi.BUYER_ID,df_vi.ITEM_ID,df_vi.EVENT_TIMESTAMP.alias(\"view_timestamp\"),\n",
    "                 purchase_df.EVENT_TIMESTAMP.alias(\"purchase_timestamp\"), \n",
    "        _leaf_id_col(purchase_df, cat_type),  purchase_df.next_purchase_timestamp )\n",
    "    \n",
    "    view_purchase_filtered = view_purchase_joined.filter((view_purchase_joined.view_timestamp > view_purchase_joined.purchase_timestamp)& \n",
    "        (view_purchase_joined.view_timestamp <= F.coalesce(view_purchase_joined.next_purchase_timestamp, F.lit('9999-12-31'))))\n",
    "    \n",
    "    # Step 5: Use a window function to rank views per buyer and category and purchase -- a specific view associated to 1 purchase.\n",
    "    view_ranked = view_purchase_filtered.withColumn( \"rank\",F.row_number().over(Window.partitionBy(view_purchase_filtered.BUYER_ID,\n",
    "                            _leaf_id_col(view_purchase_filtered, cat_type),\n",
    "                            view_purchase_filtered.view_timestamp ).orderBy(F.col(\"purchase_timestamp\").desc())) )\n",
    "\n",
    "    # Step 6: Keep only the highest-ranked view (the closest to the purchase)\n",
    "    view_single_assigned = view_ranked.filter(F.col(\"rank\") == 1)\n",
    "    \n",
    "    # Step 7: Select the desired columns and add time_diff\n",
    "    df_res = view_single_assigned.select(\"BUYER_ID\", \"ITEM_ID\",_leaf_id_col(view_single_assigned, cat_type), F.col(\"purchase_timestamp\"),\n",
    "        F.col(\"view_timestamp\"),\n",
    "        F.datediff(F.col(\"view_timestamp\"), F.col(\"purchase_timestamp\")).alias(\"time_diff\")\n",
    "    )\n",
    "    # Step 8: Join with df_base and select the relevant columns\n",
    "    df_res = (df_res.join(df_base, \n",
    "                          (df_res[\"BUYER_ID\"] == df_base[\"BUYER_ID\"]) &  _leaf_condition(df_res, df_base, cat_type),  how=\"inner\")  \n",
    "                  .filter((F.datediff(df_base.EVENT_TIMESTAMP, df_res.view_timestamp) > 0) & \n",
    "                    (F.datediff(df_base.EVENT_TIMESTAMP, df_res.purchase_timestamp) > 0)) \n",
    "              # Filter rows based on date difference\n",
    "                  .select(df_res.BUYER_ID, _leaf_id_col(df_res, cat_type),df_res.purchase_timestamp,\n",
    "                          df_res.view_timestamp, df_res.time_diff.alias(\"days_diff\")  \n",
    "                  ))    \n",
    "    # Step 9: Count the views between purchases and calculate max days\n",
    "    df_view_count = df_res.groupBy(\"BUYER_ID\", _leaf_id_col(df_res, cat_type), \"purchase_timestamp\") \\\n",
    "                          .agg(F.count(F.col(\"view_timestamp\")).alias(\"view_count\"),F.max(F.col(\"days_diff\")).alias(\"max_days_diff\"))\n",
    "\n",
    "    # Step 10: Add new feature (views / max_days_diff)\n",
    "    df_view_count = df_view_count.withColumn( \"view_count_per_max_days\",\n",
    "                                         F.when(F.col(\"max_days_diff\") > 0, F.col(\"view_count\") / F.col(\"max_days_diff\")).otherwise(0))\n",
    "    # Step 11: Collect all view counts into an array per buyer and category\n",
    "    df_view_count_array = df_view_count.groupBy(\"BUYER_ID\", _leaf_id_col(df_view_count, cat_type)) \\\n",
    "                                       .agg(F.collect_list(F.col(\"view_count\")).alias(\"view_count_array\"),\n",
    "                                            F.collect_list(F.col(\"view_count_per_max_days\")).alias(\"view_count_per_max_days_array\"))    \n",
    "    return df_view_count_array\n",
    "\n",
    "\n",
    "# Function to add the features to the base dataframe\n",
    "def f_num_views_from_purchase_in_cat(df_base, df_prch, df_vi, cat_type=\"LEAF\"):\n",
    "    # Step 1: Get the number of views between purchases for the given category type\n",
    "    df_view_counts = _num_views_from_purchase_in_cat(df_prch, df_vi, df_base, cat_type)\n",
    "\n",
    "    # Step 2: Join df_base with df_view_counts to add the new features\n",
    "    df_res = (df_base.join(df_view_counts, \n",
    "                           (df_base.BUYER_ID == df_view_counts.BUYER_ID) & \n",
    "                           _leaf_condition(df_base, df_view_counts, cat_type), \n",
    "                           how=\"left\")\n",
    "                     .select(df_base.BUYER_ID, \n",
    "                             _leaf_id_col(df_base, cat_type),\n",
    "                             df_base.EVENT_TIMESTAMP,\n",
    "                             F.col(\"view_count_array\"),  # Include the collected view counts\n",
    "                             F.col(\"view_count_per_max_days_array\"))  # Include the collected views per max days\n",
    "             )\n",
    "    \n",
    "    # Step 3: Calculate features based on view counts (min, max, mean)\n",
    "    df_res = (df_res.withColumn(f\"f_min_num_views_between_purchases_in_{cat_type}_cat\", \n",
    "                            F.array_min(F.col(\"view_count_array\")))  # Min value of the array\n",
    "                     .withColumn(f\"f_max_num_views_between_purchases_in_{cat_type}_cat\", \n",
    "                            F.array_max(F.col(\"view_count_array\")))  # Max value of the array\n",
    "                     .withColumn(f\"f_mean_num_views_between_purchases_in_{cat_type}_cat\", \n",
    "                            fe.array_mean(F.col(\"view_count_array\")))  # Mean value of the array\n",
    "                     # Compute min, max, mean for 'view_count_per_max_days_array'\n",
    "                     .withColumn(f\"f_min_views_between_purchases_per_days_in_{cat_type}_cat\", \n",
    "                            F.array_min(F.col(\"view_count_per_max_days_array\")))  # Min of views/max_days ratio\n",
    "                     .withColumn(f\"f_max_views_between_purchases_per_days_in_{cat_type}_cat\", \n",
    "                            F.array_max(F.col(\"view_count_per_max_days_array\")))  # Max of views/max_days ratio\n",
    "                     .withColumn(f\"f_mean_views_between_purchases_per_days_in_{cat_type}_cat\", \n",
    "                            fe.array_mean(F.col(\"view_count_per_max_days_array\")))  # Mean of views/max_days ratio\n",
    "                     # Fill null values with -1\n",
    "                     .fillna(0, subset=[f\"f_min_num_views_between_purchases_in_{cat_type}_cat\", \n",
    "                                         f\"f_max_num_views_between_purchases_in_{cat_type}_cat\", \n",
    "                                         f\"f_mean_num_views_between_purchases_in_{cat_type}_cat\",\n",
    "                                         f\"f_min_views_between_purchases_per_days_in_{cat_type}_cat\", \n",
    "                                         f\"f_max_views_between_purchases_per_days_in_{cat_type}_cat\",\n",
    "                                         f\"f_mean_views_between_purchases_per_days_in_{cat_type}_cat\"])  # Fill nulls with -1\n",
    "                     # Drop the arrays if no longer needed\n",
    "                     .drop(\"view_count_array\", \"view_count_per_max_days_array\")\n",
    "          )\n",
    "\n",
    "    return df_res\n"
   ]
  },
  {
   "cell_type": "markdown",
   "id": "7a4087b1-5659-4749-9480-d5e3694373aa",
   "metadata": {},
   "source": [
    "### additional feature of views per days "
   ]
  },
  {
   "cell_type": "code",
   "execution_count": 24,
   "id": "6b2088f3-0261-4f97-b8fc-03c0ec9997a9",
   "metadata": {},
   "outputs": [],
   "source": [
    "from pyspark.sql import functions as F\n",
    "import feature_helpers as fe\n",
    "from pyspark.sql.types import FloatType\n",
    "import numpy as np\n",
    "from pyspark.sql import Window\n",
    "from pyspark.sql import functions as F\n",
    "import feature_helpers as fe\n",
    "from pyspark.sql.types import FloatType\n",
    "import numpy as np\n",
    "from pyspark.sql import Window   \n",
    "\n",
    "def _leaf_condition(df1, df2, cat_type=\"LEAF\"):\n",
    "    if cat_type == \"LEAF\":\n",
    "        return (df1.LEAF_CATEG_ID == df2.LEAF_CATEG_ID)\n",
    "    elif cat_type == \"LVL2\":\n",
    "        return (df1.CATEG_LVL2_ID == df2.CATEG_LVL2_ID)\n",
    "    else:\n",
    "        return (df1.META_CATEG_ID == df2.META_CATEG_ID)  \n",
    "\n",
    "def _leaf_id_col(df, cat_type=\"LEAF\"):\n",
    "    if cat_type == \"LEAF\":\n",
    "        return df.LEAF_CATEG_ID\n",
    "    elif cat_type == \"LVL2\":\n",
    "        return df.CATEG_LVL2_ID\n",
    "    else:\n",
    "        return df.META_CATEG_ID\n",
    "    \n",
    "def _leaf_name_col(df, cat_type=\"LEAF\"):\n",
    "    if cat_type == \"LEAF\":\n",
    "        return df.LEAF_CATEG_NAME\n",
    "    elif cat_type == \"LVL2\":\n",
    "        return df.CATEG_LVL2_NAME\n",
    "    else:\n",
    "        return df.META_CATEG_NAME\n",
    "\n",
    "# Function to calculate the number of views between purchases and max days\n",
    "def _num_views_from_purchase_in_cat(df_prch, df_vi, df_base, cat_type=\"LEAF\"):\n",
    "    # Step 1: Get unique purchase timestamps per buyer and category\n",
    "    purchase_df = df_prch.select(\"BUYER_ID\", _leaf_id_col(df_prch, cat_type), \"EVENT_TIMESTAMP\").distinct()\n",
    "    \n",
    "    # Step 2: Create a window to identify the next purchase timestamp for each buyer and category\n",
    "    window_spec = Window.partitionBy(\"BUYER_ID\", _leaf_id_col(df_prch, cat_type)).orderBy(F.col(\"EVENT_TIMESTAMP\").asc())\n",
    "    \n",
    "    # Add the next purchase timestamp using lead\n",
    "    purchase_df = purchase_df.withColumn(\"next_purchase_timestamp\", F.lead(\"EVENT_TIMESTAMP\", 1).over(window_spec))\n",
    "\n",
    "    # Step 3: Join views with purchases to find views that fall between purchases\n",
    "    view_purchase_joined = df_vi.join(\n",
    "        purchase_df,\n",
    "        (df_vi.BUYER_ID == purchase_df.BUYER_ID) &\n",
    "        _leaf_condition(purchase_df, df_vi, cat_type),  # Ensure the condition uses purchase_df\n",
    "        how=\"left\"\n",
    "    ).select(\n",
    "        df_vi.BUYER_ID,\n",
    "        df_vi.ITEM_ID,\n",
    "        df_vi.EVENT_TIMESTAMP.alias(\"view_timestamp\"),  # Rename view timestamp for clarity\n",
    "        purchase_df.EVENT_TIMESTAMP.alias(\"purchase_timestamp\"),  # Rename purchase timestamp for clarity\n",
    "        _leaf_id_col(purchase_df, cat_type),  # Include leaf category ID from purchase_df\n",
    "        purchase_df.next_purchase_timestamp\n",
    "    )\n",
    "    \n",
    "\n",
    "    # Step 4: Filter views to ensure each view is associated with the closest past purchase\n",
    "    view_purchase_filtered = view_purchase_joined.filter(\n",
    "        (view_purchase_joined.view_timestamp > view_purchase_joined.purchase_timestamp) & \n",
    "        (view_purchase_joined.view_timestamp <= F.coalesce(view_purchase_joined.next_purchase_timestamp, F.lit('9999-12-31')))\n",
    "    )\n",
    "    \n",
    "    # Step 5: Use a window function to rank views per buyer and category and purchase -- a specific view associated to 1 purchase.\n",
    "    view_ranked = view_purchase_filtered.withColumn(\n",
    "        \"rank\",\n",
    "        F.row_number().over(Window.partitionBy(view_purchase_filtered.BUYER_ID, _leaf_id_col(view_purchase_filtered, cat_type),\n",
    "                                               view_purchase_filtered.view_timestamp )\n",
    "                             .orderBy(F.col(\"purchase_timestamp\").desc()))  # Rank by the closest purchase\n",
    "    )\n",
    "\n",
    "    # Step 6: Keep only the highest-ranked view (the closest to the purchase)\n",
    "    view_single_assigned = view_ranked.filter(F.col(\"rank\") == 1)\n",
    "    \n",
    "    # Step 7: Select the desired columns and add time_diff\n",
    "    df_res = view_single_assigned.select(\n",
    "        \"BUYER_ID\",\n",
    "        \"ITEM_ID\",\n",
    "        _leaf_id_col(view_single_assigned, cat_type),\n",
    "        F.col(\"purchase_timestamp\"),\n",
    "        F.col(\"view_timestamp\"),\n",
    "        F.datediff(F.col(\"view_timestamp\"), F.col(\"purchase_timestamp\")).alias(\"time_diff\")\n",
    "    )\n",
    "\n",
    "    # Step 8: Join with df_base and select the relevant columns\n",
    "    df_res = (df_res.join(df_base, \n",
    "                          (df_res[\"BUYER_ID\"] == df_base[\"BUYER_ID\"]) &  \n",
    "                          _leaf_condition(df_res, df_base, cat_type), \n",
    "                          how=\"inner\")  # Use inner join to filter based on conditions\n",
    "                  .filter((F.datediff(df_base.EVENT_TIMESTAMP, df_res.view_timestamp) > 0) & \n",
    "                    (F.datediff(df_base.EVENT_TIMESTAMP, df_res.purchase_timestamp) > 0)) \n",
    "              # Filter rows based on date difference\n",
    "                  .select(\n",
    "                      df_res.BUYER_ID,\n",
    "                      _leaf_id_col(df_res, cat_type),\n",
    "                      df_base.EVENT_TIMESTAMP,\n",
    "                      df_res.purchase_timestamp,\n",
    "                      df_res.view_timestamp,  # Select view timestamp without alias\n",
    "                      df_res.time_diff.alias(\"days_diff\")  # Alias for time difference\n",
    "                  )\n",
    "              )\n",
    "\n",
    "    \n",
    "    # Step 9: Count the views between purchases and calculate max days\n",
    "    df_view_count = df_res.groupBy(\"BUYER_ID\", _leaf_id_col(df_res, cat_type),\"EVENT_TIMESTAMP\", \"purchase_timestamp\") \\\n",
    "                          .agg(F.count(F.col(\"view_timestamp\")).alias(\"view_count\"),\n",
    "                               F.max(F.col(\"days_diff\")).alias(\"max_days_diff\"))\n",
    "\n",
    "    # Step 10: Add new feature (views / max_days_diff)\n",
    "\n",
    "    df_view_count = df_view_count.withColumn(\n",
    "    \"view_count_per_max_days\",\n",
    "    F.when(F.col(\"max_days_diff\") != 0, F.col(\"view_count\") / F.col(\"max_days_diff\")).otherwise(F.lit(0))\n",
    ")\n",
    "\n",
    "    #print( df_view_count.show() )\n",
    "    # Step 11: Collect all view counts into an array per buyer and category\n",
    "    df_view_count_array = df_view_count.groupBy(\"BUYER_ID\", _leaf_id_col(df_view_count, cat_type),\"EVENT_TIMESTAMP\") \\\n",
    "                                       .agg(F.collect_list(F.col(\"view_count\")).alias(\"view_count_array\"),\n",
    "                                            F.collect_list(F.col(\"view_count_per_max_days\")).alias(\"view_count_per_max_days_array\"))\n",
    "    \n",
    "    \n",
    "    print(\"step of Collect all view counts into an array per buyer and category\")\n",
    "    print( df_view_count_array.count() )\n",
    "    print( df_view_count_array.show() )\n",
    "    return df_view_count_array\n",
    "\n",
    "# Function to add the features to the base dataframe\n",
    "def f_num_views_from_purchase_in_cat(df_base, df_prch, df_vi, cat_type=\"LEAF\"):\n",
    "    # Step 1: Get the number of views between purchases for the given category type\n",
    "    df_view_counts = _num_views_from_purchase_in_cat(df_prch, df_vi, df_base, cat_type)\n",
    "\n",
    "    # Step 2: Join df_base with df_view_counts to add the new features\n",
    "    df_res = (df_base.join(df_view_counts, \n",
    "                           (df_base.BUYER_ID == df_view_counts.BUYER_ID) & \n",
    "                           (df_base.EVENT_TIMESTAMP == df_view_counts.EVENT_TIMESTAMP)& \n",
    "                           _leaf_condition(df_base, df_view_counts, cat_type), \n",
    "                           how=\"left\")\n",
    "                     .select(df_base.BUYER_ID, \n",
    "                             _leaf_id_col(df_base, cat_type),\n",
    "                             df_base.EVENT_TIMESTAMP,\n",
    "                             F.col(\"view_count_array\"),  # Include the collected view counts\n",
    "                             F.col(\"view_count_per_max_days_array\"))  # Include the collected views per max days\n",
    "             )\n",
    "    \n",
    "    print( df_res.count() )\n",
    "    print( df_res.show() )\n",
    "    # Step 3: Calculate features based on view counts (min, max, mean)\n",
    "    df_res_features = (df_res.withColumn(f\"f_min_num_views_between_purchases_in_{cat_type}_cat\", \n",
    "                            F.array_min(F.col(\"view_count_array\")))  # Min value of the array\n",
    "                     .withColumn(f\"f_max_num_views_between_purchases_in_{cat_type}_cat\", \n",
    "                            F.array_max(F.col(\"view_count_array\")))  # Max value of the array\n",
    "                     .withColumn(f\"f_mean_num_views_between_purchases_in_{cat_type}_cat\", \n",
    "                            fe.array_mean(F.col(\"view_count_array\")))  # Mean value of the array\n",
    "                     # Compute min, max, mean for 'view_count_per_max_days_array'\n",
    "                     .withColumn(f\"f_min_views_between_purchases_per_days_in_{cat_type}_cat\", \n",
    "                            F.array_min(F.col(\"view_count_per_max_days_array\")))  # Min of views/max_days ratio\n",
    "                     .withColumn(f\"f_max_views_between_purchases_per_days_in_{cat_type}_cat\", \n",
    "                            F.array_max(F.col(\"view_count_per_max_days_array\")))  # Max of views/max_days ratio\n",
    "                     .withColumn(f\"f_mean_views_between_purchases_per_days_in_{cat_type}_cat\", \n",
    "                            fe.array_mean(F.col(\"view_count_per_max_days_array\")))  # Mean of views/max_days ratio\n",
    "                     # Fill null values with -1\n",
    "                     .fillna(0, subset=[f\"f_min_num_views_between_purchases_in_{cat_type}_cat\", \n",
    "                                         f\"f_max_num_views_between_purchases_in_{cat_type}_cat\", \n",
    "                                         f\"f_mean_num_views_between_purchases_in_{cat_type}_cat\",\n",
    "                                         f\"f_min_views_between_purchases_per_days_in_{cat_type}_cat\", \n",
    "                                         f\"f_max_views_between_purchases_per_days_in_{cat_type}_cat\",\n",
    "                                         f\"f_mean_views_between_purchases_per_days_in_{cat_type}_cat\"])  # Fill nulls with -1\n",
    "                     # Drop the arrays if no longer needed\n",
    "                     .drop(\"view_count_array\", \"view_count_per_max_days_array\")\n",
    "          )\n",
    "    print( df_res_features.count() )\n",
    "    print( df_res_features.show() )\n",
    "    return df_res_features\n"
   ]
  },
  {
   "cell_type": "markdown",
   "id": "444762b6-57a0-4a73-a46a-4bd11ee4504d",
   "metadata": {},
   "source": [
    "#### grouped and collect:"
   ]
  },
  {
   "cell_type": "code",
   "execution_count": 23,
   "id": "c55cacf4-bea0-402d-aa7b-cd7c6dfb3f75",
   "metadata": {},
   "outputs": [],
   "source": [
    "from pyspark.sql import functions as F\n",
    "import feature_helpers as fe\n",
    "from pyspark.sql.types import FloatType\n",
    "import numpy as np\n",
    "from pyspark.sql import Window\n",
    "from pyspark.sql import functions as F\n",
    "import feature_helpers as fe\n",
    "from pyspark.sql.types import FloatType\n",
    "import numpy as np\n",
    "from pyspark.sql import Window   \n",
    "\n",
    "def _leaf_condition(df1, df2, cat_type=\"LEAF\"):\n",
    "    if cat_type == \"LEAF\":\n",
    "        return (df1.LEAF_CATEG_ID == df2.LEAF_CATEG_ID)\n",
    "    elif cat_type == \"LVL2\":\n",
    "        return (df1.CATEG_LVL2_ID == df2.CATEG_LVL2_ID)\n",
    "    else:\n",
    "        return (df1.META_CATEG_ID == df2.META_CATEG_ID)  \n",
    "\n",
    "def _leaf_id_col(df, cat_type=\"LEAF\"):\n",
    "    if cat_type == \"LEAF\":\n",
    "        return df.LEAF_CATEG_ID\n",
    "    elif cat_type == \"LVL2\":\n",
    "        return df.CATEG_LVL2_ID\n",
    "    else:\n",
    "        return df.META_CATEG_ID\n",
    "    \n",
    "def _leaf_name_col(df, cat_type=\"LEAF\"):\n",
    "    if cat_type == \"LEAF\":\n",
    "        return df.LEAF_CATEG_NAME\n",
    "    elif cat_type == \"LVL2\":\n",
    "        return df.CATEG_LVL2_NAME\n",
    "    else:\n",
    "        return df.META_CATEG_NAME\n",
    "\n",
    "# Function to calculate the number of views between purchases and max days\n",
    "def _num_views_from_purchase_in_cat(df_prch, df_vi, df_base, cat_type=\"LEAF\"):\n",
    "    # Step 1: Get unique purchase timestamps per buyer and category\n",
    "    purchase_df = df_prch.select(\"BUYER_ID\", _leaf_id_col(df_prch, cat_type), \"EVENT_TIMESTAMP\").distinct()\n",
    "    \n",
    "    # Step 2: Create a window to identify the next purchase timestamp for each buyer and category\n",
    "    window_spec = Window.partitionBy(\"BUYER_ID\", _leaf_id_col(df_prch, cat_type)).orderBy(F.col(\"EVENT_TIMESTAMP\").asc())\n",
    "    \n",
    "    # Add the next purchase timestamp using lead\n",
    "    purchase_df = purchase_df.withColumn(\"next_purchase_timestamp\", F.lead(\"EVENT_TIMESTAMP\", 1).over(window_spec))\n",
    "\n",
    "    # Step 3: Join views with purchases to find views that fall between purchases\n",
    "    view_purchase_joined = df_vi.join(\n",
    "        purchase_df,\n",
    "        (df_vi.BUYER_ID == purchase_df.BUYER_ID) & _leaf_condition(purchase_df, df_vi, cat_type), how=\"left\"\n",
    "    ).select(\n",
    "        df_vi.BUYER_ID,\n",
    "        df_vi.ITEM_ID,\n",
    "        df_vi.EVENT_TIMESTAMP.alias(\"view_timestamp\"),  # Rename view timestamp for clarity\n",
    "        purchase_df.EVENT_TIMESTAMP.alias(\"purchase_timestamp\"),  # Rename purchase timestamp for clarity\n",
    "        _leaf_id_col(purchase_df, cat_type),  \n",
    "        purchase_df.next_purchase_timestamp\n",
    "    )\n",
    "    \n",
    "\n",
    "    # Step 4: Filter views to ensure each view is associated with the closest past purchase\n",
    "    view_purchase_filtered = view_purchase_joined.filter(\n",
    "        (view_purchase_joined.view_timestamp > view_purchase_joined.purchase_timestamp) & \n",
    "        (view_purchase_joined.view_timestamp <= F.coalesce(view_purchase_joined.next_purchase_timestamp, F.lit('9999-12-31')))\n",
    "    )\n",
    "    \n",
    "    # Step 5: Use a window function to rank views per buyer and category and purchase -- a specific view associated to 1 purchase.\n",
    "    view_ranked = view_purchase_filtered.withColumn(\n",
    "        \"rank\",\n",
    "        F.row_number().over(Window.partitionBy(view_purchase_filtered.BUYER_ID, _leaf_id_col(view_purchase_filtered, cat_type),\n",
    "                                               view_purchase_filtered.view_timestamp )\n",
    "                             .orderBy(F.col(\"purchase_timestamp\").desc()))  # Rank by the closest purchase\n",
    "    )\n",
    "    \n",
    "    # Step 6: Keep only the highest-ranked view (the closest to the purchase)\n",
    "    view_single_assigned = view_ranked.filter(F.col(\"rank\") == 1)\n",
    "    \n",
    "    # Step 7: Select the desired columns and add time_diff\n",
    "    df_res = view_single_assigned.select(\n",
    "        \"BUYER_ID\",\n",
    "        \"ITEM_ID\",\n",
    "        _leaf_id_col(view_single_assigned, cat_type),\n",
    "        F.col(\"purchase_timestamp\"),\n",
    "        F.col(\"view_timestamp\"),\n",
    "        F.datediff(F.col(\"view_timestamp\"), F.col(\"purchase_timestamp\")).alias(\"time_diff\")\n",
    "    )\n",
    "\n",
    "    # Step 8: Join with df_base and select the relevant columns\n",
    "    df_res = (df_res.join(df_base, \n",
    "                          (df_res[\"BUYER_ID\"] == df_base[\"BUYER_ID\"]) &  \n",
    "                          _leaf_condition(df_res, df_base, cat_type), \n",
    "                          how=\"inner\")  # Use inner join to filter based on conditions\n",
    "                  .filter((F.datediff(df_base.EVENT_TIMESTAMP, df_res.view_timestamp) > 0) & \n",
    "                    (F.datediff(df_base.EVENT_TIMESTAMP, df_res.purchase_timestamp) > 0)) \n",
    "              # Filter rows based on date difference\n",
    "                  .select(\n",
    "                      df_res.BUYER_ID,\n",
    "                      _leaf_id_col(df_res, cat_type),\n",
    "                      df_base.EVENT_TIMESTAMP,\n",
    "                      df_res.purchase_timestamp,\n",
    "                      df_res.view_timestamp,  # Select view timestamp without alias\n",
    "                      df_res.time_diff.alias(\"days_diff\")  # Alias for time difference\n",
    "                  )\n",
    "              )\n",
    "\n",
    "    \n",
    "    # Step 9: Count the views between purchases and calculate max days\n",
    "    df_view_count = df_res.groupBy(\"BUYER_ID\", _leaf_id_col(df_res, cat_type),\"EVENT_TIMESTAMP\", \"purchase_timestamp\") \\\n",
    "                          .agg(F.count(F.col(\"view_timestamp\")).alias(\"view_count\"),\n",
    "                               F.max(F.col(\"days_diff\")).alias(\"max_days_diff\"))\n",
    "\n",
    "    # Step 10: Add new feature (views / max_days_diff)\n",
    "\n",
    "    df_view_count = df_view_count.withColumn(\n",
    "    \"view_count_per_max_days\",\n",
    "    F.when(F.col(\"max_days_diff\") > 0, F.col(\"view_count\") / F.col(\"max_days_diff\")).otherwise(F.lit(0))\n",
    ")\n",
    "   \n",
    "    \n",
    "    print(\"step of Collect all view counts into an array per buyer and category\")\n",
    " #   print( df_view_count.count() )\n",
    " #   print( df_view_count.show() )\n",
    "    return df_view_count\n",
    "\n",
    "# Function to add the features to the base dataframe\n",
    "def f_num_views_from_purchase_in_cat(df_base, df_prch, df_vi, cat_type=\"LEAF\"):\n",
    "    # Step 1: Get the number of views between purchases for the given category type\n",
    "    df_view_counts = _num_views_from_purchase_in_cat(df_prch, df_vi, df_base, cat_type)\n",
    "\n",
    "    # Step 2: Join df_base with df_view_counts to add the new features\n",
    "    df_res = (df_base.join(df_view_counts, \n",
    "                           (df_base.BUYER_ID == df_view_counts.BUYER_ID) & \n",
    "                           (df_base.EVENT_TIMESTAMP == df_view_counts.EVENT_TIMESTAMP)& \n",
    "                           _leaf_condition(df_base, df_view_counts, cat_type), \n",
    "                           how=\"left\").groupBy(df_base.BUYER_ID, _leaf_id_col(df_base, cat_type),df_base.EVENT_TIMESTAMP) \\\n",
    "                                       .agg(F.collect_list(F.col(\"view_count\")).alias(\"view_count_array\"),\n",
    "                                            F.collect_list(F.col(\"view_count_per_max_days\")).alias(\"view_count_per_max_days_array\"))\n",
    "                     .select(df_base.BUYER_ID, \n",
    "                             _leaf_id_col(df_base, cat_type),\n",
    "                             df_base.EVENT_TIMESTAMP,\n",
    "                             F.col(\"view_count_array\"),  # Include the collected view counts\n",
    "                             F.col(\"view_count_per_max_days_array\"))  # Include the collected views per max days\n",
    "             )\n",
    "    \n",
    " #   print( df_res.count() )\n",
    " #   print( df_res.show() )\n",
    "    # Step 3: Calculate features based on view counts (min, max, mean)\n",
    "    df_res_features = (df_res.withColumn(f\"f_min_num_views_between_purchases_in_{cat_type}_cat\", \n",
    "                            F.array_min(F.col(\"view_count_array\")))  # Min value of the array\n",
    "                     .withColumn(f\"f_max_num_views_between_purchases_in_{cat_type}_cat\", \n",
    "                            F.array_max(F.col(\"view_count_array\")))  # Max value of the array\n",
    "                     .withColumn(f\"f_mean_num_views_between_purchases_in_{cat_type}_cat\", \n",
    "                            fe.array_mean(F.col(\"view_count_array\")))  # Mean value of the array\n",
    "                     # Compute min, max, mean for 'view_count_per_max_days_array'\n",
    "                     .withColumn(f\"f_min_views_between_purchases_per_days_in_{cat_type}_cat\", \n",
    "                            F.array_min(F.col(\"view_count_per_max_days_array\")))  # Min of views/max_days ratio\n",
    "                     .withColumn(f\"f_max_views_between_purchases_per_days_in_{cat_type}_cat\", \n",
    "                            F.array_max(F.col(\"view_count_per_max_days_array\")))  # Max of views/max_days ratio\n",
    "                     .withColumn(f\"f_mean_views_between_purchases_per_days_in_{cat_type}_cat\", \n",
    "                            fe.array_mean(F.col(\"view_count_per_max_days_array\")))  # Mean of views/max_days ratio\n",
    "                     # Fill null values with -1\n",
    "                     .fillna(0, subset=[f\"f_min_num_views_between_purchases_in_{cat_type}_cat\", \n",
    "                                         f\"f_max_num_views_between_purchases_in_{cat_type}_cat\", \n",
    "                                         f\"f_mean_num_views_between_purchases_in_{cat_type}_cat\",\n",
    "                                         f\"f_min_views_between_purchases_per_days_in_{cat_type}_cat\", \n",
    "                                         f\"f_max_views_between_purchases_per_days_in_{cat_type}_cat\",\n",
    "                                         f\"f_mean_views_between_purchases_per_days_in_{cat_type}_cat\"])  # Fill nulls with -1\n",
    "                     # Drop the arrays if no longer needed\n",
    "                     .drop(\"view_count_array\", \"view_count_per_max_days_array\")\n",
    "          )\n",
    "  #  print( df_res_features.count() )\n",
    "  #  print( df_res_features.show() )\n",
    "    return df_res_features\n"
   ]
  },
  {
   "cell_type": "code",
   "execution_count": 18,
   "id": "75433788-f9ad-4caa-9732-dd5f98ad8596",
   "metadata": {},
   "outputs": [
    {
     "name": "stderr",
     "output_type": "stream",
     "text": [
      "                                                                                \r"
     ]
    },
    {
     "data": {
      "text/plain": [
       "5"
      ]
     },
     "execution_count": 18,
     "metadata": {},
     "output_type": "execute_result"
    }
   ],
   "source": [
    "df_smp_sample.count()"
   ]
  },
  {
   "cell_type": "code",
   "execution_count": 16,
   "id": "970db34b-eef3-4c57-85b5-e0ff1f1e4e43",
   "metadata": {},
   "outputs": [
    {
     "name": "stderr",
     "output_type": "stream",
     "text": [
      "[Stage 157:======================>                           (442 + 300) / 1000]\r"
     ]
    },
    {
     "name": "stdout",
     "output_type": "stream",
     "text": [
      "step of Collect all view counts into an array per buyer and category\n"
     ]
    },
    {
     "name": "stderr",
     "output_type": "stream",
     "text": [
      "                                                                                \r"
     ]
    },
    {
     "name": "stdout",
     "output_type": "stream",
     "text": [
      "3\n"
     ]
    },
    {
     "name": "stderr",
     "output_type": "stream",
     "text": [
      "                                                                                \r"
     ]
    },
    {
     "name": "stdout",
     "output_type": "stream",
     "text": [
      "+----------+-------------+---------------+-------------------+----------+-------------+-----------------------+\n",
      "|  BUYER_ID|LEAF_CATEG_ID|EVENT_TIMESTAMP| purchase_timestamp|view_count|max_days_diff|view_count_per_max_days|\n",
      "+----------+-------------+---------------+-------------------+----------+-------------+-----------------------+\n",
      "|1498530061|       168135|     2024-05-01|2023-09-11 02:49:50|         2|          124|   0.016129032258064516|\n",
      "|1498530061|       168135|     2024-05-01|2024-01-15 21:19:59|        14|           70|                    0.2|\n",
      "|1498530061|       168135|     2024-05-01|2024-03-25 03:46:10|        13|           15|     0.8666666666666667|\n",
      "+----------+-------------+---------------+-------------------+----------+-------------+-----------------------+\n",
      "\n",
      "None\n"
     ]
    },
    {
     "name": "stderr",
     "output_type": "stream",
     "text": [
      "                                                                                / 1000]]\r"
     ]
    },
    {
     "name": "stdout",
     "output_type": "stream",
     "text": [
      "5\n"
     ]
    },
    {
     "name": "stderr",
     "output_type": "stream",
     "text": [
      "                                                                                001]\r"
     ]
    },
    {
     "name": "stdout",
     "output_type": "stream",
     "text": [
      "+----------+-------------+---------------+----------------+-----------------------------+\n",
      "|  BUYER_ID|LEAF_CATEG_ID|EVENT_TIMESTAMP|view_count_array|view_count_per_max_days_array|\n",
      "+----------+-------------+---------------+----------------+-----------------------------+\n",
      "|1132069035|        24410|     2024-05-01|              []|                           []|\n",
      "|  11245860|       127413|     2024-05-01|              []|                           []|\n",
      "|1324204268|         2885|     2024-05-01|              []|                           []|\n",
      "|1498530061|       168135|     2024-05-01|     [2, 14, 13]|         [0.01612903225806...|\n",
      "|  11245860|        47173|     2024-05-01|              []|                           []|\n",
      "+----------+-------------+---------------+----------------+-----------------------------+\n",
      "\n",
      "None\n"
     ]
    },
    {
     "name": "stderr",
     "output_type": "stream",
     "text": [
      "                                                                                / 1000]]\r"
     ]
    },
    {
     "name": "stdout",
     "output_type": "stream",
     "text": [
      "5\n"
     ]
    },
    {
     "name": "stderr",
     "output_type": "stream",
     "text": [
      "[Stage 321:==========================================>         (308 + 67) / 375]1000]]\r"
     ]
    },
    {
     "name": "stdout",
     "output_type": "stream",
     "text": [
      "+----------+-------------+---------------+---------------------------------------------+---------------------------------------------+----------------------------------------------+--------------------------------------------------+--------------------------------------------------+---------------------------------------------------+\n",
      "|  BUYER_ID|LEAF_CATEG_ID|EVENT_TIMESTAMP|f_min_num_views_between_purchases_in_LEAF_cat|f_max_num_views_between_purchases_in_LEAF_cat|f_mean_num_views_between_purchases_in_LEAF_cat|f_min_views_between_purchases_per_days_in_LEAF_cat|f_max_views_between_purchases_per_days_in_LEAF_cat|f_mean_views_between_purchases_per_days_in_LEAF_cat|\n",
      "+----------+-------------+---------------+---------------------------------------------+---------------------------------------------+----------------------------------------------+--------------------------------------------------+--------------------------------------------------+---------------------------------------------------+\n",
      "|1132069035|        24410|     2024-05-01|                                            0|                                            0|                                           0.0|                                               0.0|                                               0.0|                                                0.0|\n",
      "|  11245860|       127413|     2024-05-01|                                            0|                                            0|                                           0.0|                                               0.0|                                               0.0|                                                0.0|\n",
      "|1324204268|         2885|     2024-05-01|                                            0|                                            0|                                           0.0|                                               0.0|                                               0.0|                                                0.0|\n",
      "|1498530061|       168135|     2024-05-01|                                            2|                                           14|                                      9.666667|                              0.016129032258064516|                                0.8666666666666667|                                          0.3609319|\n",
      "|  11245860|        47173|     2024-05-01|                                            0|                                            0|                                           0.0|                                               0.0|                                               0.0|                                                0.0|\n",
      "+----------+-------------+---------------+---------------------------------------------+---------------------------------------------+----------------------------------------------+--------------------------------------------------+--------------------------------------------------+---------------------------------------------------+\n",
      "\n",
      "None\n"
     ]
    },
    {
     "name": "stderr",
     "output_type": "stream",
     "text": [
      "                                                                                \r"
     ]
    }
   ],
   "source": [
    "df_tsf= f_num_views_from_purchase_in_cat(df_smp_sample, df_prch_sample, df_vi_sample, cat_type=\"LEAF\")"
   ]
  },
  {
   "cell_type": "code",
   "execution_count": 17,
   "id": "297a855c-c317-48fc-8657-ee1d54de88a5",
   "metadata": {},
   "outputs": [
    {
     "name": "stdout",
     "output_type": "stream",
     "text": [
      "step of Collect all view counts into an array per buyer and category\n"
     ]
    },
    {
     "name": "stderr",
     "output_type": "stream",
     "text": [
      "                                                                                \r"
     ]
    },
    {
     "name": "stdout",
     "output_type": "stream",
     "text": [
      "50\n"
     ]
    },
    {
     "name": "stderr",
     "output_type": "stream",
     "text": [
      "                                                                                \r"
     ]
    },
    {
     "name": "stdout",
     "output_type": "stream",
     "text": [
      "+----------+-------------+---------------+-------------------+----------+-------------+-----------------------+\n",
      "|  BUYER_ID|META_CATEG_ID|EVENT_TIMESTAMP| purchase_timestamp|view_count|max_days_diff|view_count_per_max_days|\n",
      "+----------+-------------+---------------+-------------------+----------+-------------+-----------------------+\n",
      "|1498530061|        11700|     2024-05-01|2023-12-15 12:37:57|        37|            6|      6.166666666666667|\n",
      "|1498530061|        11700|     2024-05-01|2024-04-09 04:55:59|        15|            0|                    0.0|\n",
      "|1498530061|        11700|     2024-05-01|2023-12-14 04:22:02|        20|            0|                    0.0|\n",
      "|1498530061|        11700|     2024-05-01|2024-04-04 05:33:33|         6|            0|                    0.0|\n",
      "|1498530061|        11700|     2024-05-01|2024-01-20 05:30:47|         3|            3|                    1.0|\n",
      "|1498530061|        11700|     2024-05-01|2024-02-18 18:37:17|        11|            0|                    0.0|\n",
      "|1498530061|        11700|     2024-05-01|2024-02-02 15:04:04|        18|            1|                   18.0|\n",
      "|1498530061|        11700|     2024-05-01|2024-03-11 23:25:02|        13|            4|                   3.25|\n",
      "|1498530061|        11700|     2024-05-01|2023-12-14 17:35:07|        13|            1|                   13.0|\n",
      "|1498530061|        11700|     2024-05-01|2024-04-03 22:32:39|         2|            0|                    0.0|\n",
      "|1498530061|        11700|     2024-05-01|2024-04-03 22:33:35|         4|            1|                    4.0|\n",
      "|1132069035|        64482|     2024-05-01|2023-09-28 06:30:24|         3|           12|                   0.25|\n",
      "|1498530061|        11700|     2024-05-01|2024-01-23 14:31:06|         5|            0|                    0.0|\n",
      "|1498530061|        11700|     2024-05-01|2024-02-02 15:01:45|         2|            0|                    0.0|\n",
      "|1498530061|        11700|     2024-05-01|2024-02-24 17:57:49|        20|            5|                    4.0|\n",
      "|1498530061|        11700|     2024-05-01|2024-02-03 04:08:09|         2|            0|                    0.0|\n",
      "|1498530061|        11700|     2024-05-01|2024-04-01 02:56:04|        19|            2|                    9.5|\n",
      "|1498530061|        11700|     2024-05-01|2023-12-13 04:44:20|        12|            1|                   12.0|\n",
      "|1498530061|        11700|     2024-05-01|2024-01-26 21:45:07|         9|            5|                    1.8|\n",
      "|1498530061|        11700|     2024-05-01|2023-12-28 05:51:57|        26|           17|     1.5294117647058822|\n",
      "+----------+-------------+---------------+-------------------+----------+-------------+-----------------------+\n",
      "only showing top 20 rows\n",
      "\n",
      "None\n"
     ]
    },
    {
     "name": "stderr",
     "output_type": "stream",
     "text": [
      "                                                                                000]]]\r"
     ]
    },
    {
     "name": "stdout",
     "output_type": "stream",
     "text": [
      "4\n"
     ]
    },
    {
     "name": "stderr",
     "output_type": "stream",
     "text": [
      "                                                                                01]]\r"
     ]
    },
    {
     "name": "stdout",
     "output_type": "stream",
     "text": [
      "+----------+-------------+---------------+--------------------+-----------------------------+\n",
      "|  BUYER_ID|META_CATEG_ID|EVENT_TIMESTAMP|    view_count_array|view_count_per_max_days_array|\n",
      "+----------+-------------+---------------+--------------------+-----------------------------+\n",
      "|  11245860|          260|     2024-05-01|                  []|                           []|\n",
      "|1324204268|        64482|     2024-05-01|                  []|                           []|\n",
      "|1498530061|        11700|     2024-05-01|[2, 2, 10, 20, 11...|         [0.66666666666666...|\n",
      "|1132069035|        64482|     2024-05-01|                 [3]|                       [0.25]|\n",
      "+----------+-------------+---------------+--------------------+-----------------------------+\n",
      "\n",
      "None\n"
     ]
    },
    {
     "name": "stderr",
     "output_type": "stream",
     "text": [
      "                                                                                 1000]]]\r"
     ]
    },
    {
     "name": "stdout",
     "output_type": "stream",
     "text": [
      "4\n"
     ]
    },
    {
     "name": "stderr",
     "output_type": "stream",
     "text": [
      "[Stage 484:=============================>                     (216 + 159) / 375]000]]]\r"
     ]
    },
    {
     "name": "stdout",
     "output_type": "stream",
     "text": [
      "+----------+-------------+---------------+---------------------------------------------+---------------------------------------------+----------------------------------------------+--------------------------------------------------+--------------------------------------------------+---------------------------------------------------+\n",
      "|  BUYER_ID|META_CATEG_ID|EVENT_TIMESTAMP|f_min_num_views_between_purchases_in_META_cat|f_max_num_views_between_purchases_in_META_cat|f_mean_num_views_between_purchases_in_META_cat|f_min_views_between_purchases_per_days_in_META_cat|f_max_views_between_purchases_per_days_in_META_cat|f_mean_views_between_purchases_per_days_in_META_cat|\n",
      "+----------+-------------+---------------+---------------------------------------------+---------------------------------------------+----------------------------------------------+--------------------------------------------------+--------------------------------------------------+---------------------------------------------------+\n",
      "|  11245860|          260|     2024-05-01|                                            0|                                            0|                                           0.0|                                               0.0|                                               0.0|                                                0.0|\n",
      "|1324204268|        64482|     2024-05-01|                                            0|                                            0|                                           0.0|                                               0.0|                                               0.0|                                                0.0|\n",
      "|1498530061|        11700|     2024-05-01|                                            1|                                           71|                                          14.0|                                               0.0|                                              26.0|                                           4.414381|\n",
      "|1132069035|        64482|     2024-05-01|                                            3|                                            3|                                           3.0|                                              0.25|                                              0.25|                                               0.25|\n",
      "+----------+-------------+---------------+---------------------------------------------+---------------------------------------------+----------------------------------------------+--------------------------------------------------+--------------------------------------------------+---------------------------------------------------+\n",
      "\n",
      "None\n"
     ]
    },
    {
     "name": "stderr",
     "output_type": "stream",
     "text": [
      "                                                                                \r"
     ]
    }
   ],
   "source": [
    "df_tsf= f_num_views_from_purchase_in_cat(df_smp_sample, df_prch_sample, df_vi_sample, cat_type=\"META\")"
   ]
  },
  {
   "cell_type": "code",
   "execution_count": 25,
   "id": "9da085c8-1821-4312-a702-5f565695f4d0",
   "metadata": {
    "scrolled": true,
    "tags": []
   },
   "outputs": [
    {
     "name": "stdout",
     "output_type": "stream",
     "text": [
      "step of Collect all view counts into an array per buyer and category\n"
     ]
    },
    {
     "name": "stderr",
     "output_type": "stream",
     "text": [
      "                                                                                \r"
     ]
    },
    {
     "name": "stdout",
     "output_type": "stream",
     "text": [
      "2\n"
     ]
    },
    {
     "name": "stderr",
     "output_type": "stream",
     "text": [
      "                                                                                \r"
     ]
    },
    {
     "name": "stdout",
     "output_type": "stream",
     "text": [
      "+----------+-------------+---------------+--------------------+-----------------------------+\n",
      "|  BUYER_ID|META_CATEG_ID|EVENT_TIMESTAMP|    view_count_array|view_count_per_max_days_array|\n",
      "+----------+-------------+---------------+--------------------+-----------------------------+\n",
      "|1498530061|        11700|     2024-05-01|[9, 28, 24, 1, 13...|         [1.8, 5.6, 8.0, 0...|\n",
      "|1132069035|        64482|     2024-05-01|                 [3]|                       [0.25]|\n",
      "+----------+-------------+---------------+--------------------+-----------------------------+\n",
      "\n",
      "None\n"
     ]
    },
    {
     "name": "stderr",
     "output_type": "stream",
     "text": [
      "                                                                                3) / 1000]\r"
     ]
    },
    {
     "name": "stdout",
     "output_type": "stream",
     "text": [
      "5\n"
     ]
    },
    {
     "name": "stderr",
     "output_type": "stream",
     "text": [
      "                                                                                1001]]]\r"
     ]
    },
    {
     "name": "stdout",
     "output_type": "stream",
     "text": [
      "+----------+-------------+---------------+--------------------+-----------------------------+\n",
      "|  BUYER_ID|META_CATEG_ID|EVENT_TIMESTAMP|    view_count_array|view_count_per_max_days_array|\n",
      "+----------+-------------+---------------+--------------------+-----------------------------+\n",
      "|  11245860|          260|     2024-05-01|                null|                         null|\n",
      "|  11245860|          260|     2024-05-01|                null|                         null|\n",
      "|1498530061|        11700|     2024-05-01|[14, 26, 22, 6, 1...|         [14.0, 26.0, 2.0,...|\n",
      "|1324204268|        64482|     2024-05-01|                null|                         null|\n",
      "|1132069035|        64482|     2024-05-01|                 [3]|                       [0.25]|\n",
      "+----------+-------------+---------------+--------------------+-----------------------------+\n",
      "\n",
      "None\n"
     ]
    },
    {
     "name": "stderr",
     "output_type": "stream",
     "text": [
      "                                                                                71) / 1000]]\r"
     ]
    },
    {
     "name": "stdout",
     "output_type": "stream",
     "text": [
      "5\n"
     ]
    },
    {
     "name": "stderr",
     "output_type": "stream",
     "text": [
      "[Stage 1525:===============================>                  (238 + 137) / 375]1001]]]\r"
     ]
    },
    {
     "name": "stdout",
     "output_type": "stream",
     "text": [
      "+----------+-------------+---------------+---------------------------------------------+---------------------------------------------+----------------------------------------------+--------------------------------------------------+--------------------------------------------------+---------------------------------------------------+\n",
      "|  BUYER_ID|META_CATEG_ID|EVENT_TIMESTAMP|f_min_num_views_between_purchases_in_META_cat|f_max_num_views_between_purchases_in_META_cat|f_mean_num_views_between_purchases_in_META_cat|f_min_views_between_purchases_per_days_in_META_cat|f_max_views_between_purchases_per_days_in_META_cat|f_mean_views_between_purchases_per_days_in_META_cat|\n",
      "+----------+-------------+---------------+---------------------------------------------+---------------------------------------------+----------------------------------------------+--------------------------------------------------+--------------------------------------------------+---------------------------------------------------+\n",
      "|  11245860|          260|     2024-05-01|                                            0|                                            0|                                           0.0|                                               0.0|                                               0.0|                                                0.0|\n",
      "|  11245860|          260|     2024-05-01|                                            0|                                            0|                                           0.0|                                               0.0|                                               0.0|                                                0.0|\n",
      "|1498530061|        11700|     2024-05-01|                                            1|                                           71|                                          14.0|                                               0.0|                                              26.0|                                           4.414381|\n",
      "|1324204268|        64482|     2024-05-01|                                            0|                                            0|                                           0.0|                                               0.0|                                               0.0|                                                0.0|\n",
      "|1132069035|        64482|     2024-05-01|                                            3|                                            3|                                           3.0|                                              0.25|                                              0.25|                                               0.25|\n",
      "+----------+-------------+---------------+---------------------------------------------+---------------------------------------------+----------------------------------------------+--------------------------------------------------+--------------------------------------------------+---------------------------------------------------+\n",
      "\n",
      "None\n"
     ]
    },
    {
     "name": "stderr",
     "output_type": "stream",
     "text": [
      "                                                                                \r"
     ]
    }
   ],
   "source": [
    "df_tsf= f_num_views_from_purchase_in_cat(df_smp_sample, df_prch_sample, df_vi_sample, cat_type=\"META\")"
   ]
  },
  {
   "cell_type": "code",
   "execution_count": 17,
   "id": "96f0d0f3-9808-4057-8bcf-4c875f6ec4e4",
   "metadata": {},
   "outputs": [
    {
     "name": "stderr",
     "output_type": "stream",
     "text": [
      "                                                                                \r"
     ]
    },
    {
     "name": "stdout",
     "output_type": "stream",
     "text": [
      "+----------+-------------+---------------+-------------------+----------+-------------+-----------------------+\n",
      "|  BUYER_ID|LEAF_CATEG_ID|EVENT_TIMESTAMP| purchase_timestamp|view_count|max_days_diff|view_count_per_max_days|\n",
      "+----------+-------------+---------------+-------------------+----------+-------------+-----------------------+\n",
      "|1498530061|       168135|     2024-05-01|2023-09-11 02:49:50|         2|          124|   0.016129032258064516|\n",
      "|1498530061|       168135|     2024-05-01|2024-01-15 21:19:59|        14|           70|                    0.2|\n",
      "|1498530061|       168135|     2024-05-01|2024-03-25 03:46:10|        13|           15|     0.8666666666666667|\n",
      "+----------+-------------+---------------+-------------------+----------+-------------+-----------------------+\n",
      "\n",
      "None\n",
      "step of Collect all view counts into an array per buyer and category\n"
     ]
    },
    {
     "name": "stderr",
     "output_type": "stream",
     "text": [
      "                                                                                \r"
     ]
    },
    {
     "name": "stdout",
     "output_type": "stream",
     "text": [
      "1\n"
     ]
    },
    {
     "name": "stderr",
     "output_type": "stream",
     "text": [
      "                                                                                \r"
     ]
    },
    {
     "name": "stdout",
     "output_type": "stream",
     "text": [
      "+----------+-------------+---------------+----------------+-----------------------------+\n",
      "|  BUYER_ID|LEAF_CATEG_ID|EVENT_TIMESTAMP|view_count_array|view_count_per_max_days_array|\n",
      "+----------+-------------+---------------+----------------+-----------------------------+\n",
      "|1498530061|       168135|     2024-05-01|     [14, 2, 13]|         [0.2, 0.016129032...|\n",
      "+----------+-------------+---------------+----------------+-----------------------------+\n",
      "\n",
      "None\n"
     ]
    },
    {
     "name": "stderr",
     "output_type": "stream",
     "text": [
      "                                                                                / 1000]]]\r"
     ]
    },
    {
     "name": "stdout",
     "output_type": "stream",
     "text": [
      "5\n"
     ]
    },
    {
     "name": "stderr",
     "output_type": "stream",
     "text": [
      "                                                                                1000]]\r"
     ]
    },
    {
     "name": "stdout",
     "output_type": "stream",
     "text": [
      "+----------+-------------+---------------+----------------+-----------------------------+\n",
      "|  BUYER_ID|LEAF_CATEG_ID|EVENT_TIMESTAMP|view_count_array|view_count_per_max_days_array|\n",
      "+----------+-------------+---------------+----------------+-----------------------------+\n",
      "|1132069035|        24410|     2024-05-01|            null|                         null|\n",
      "|1498530061|       168135|     2024-05-01|     [2, 13, 14]|         [0.01612903225806...|\n",
      "|  11245860|       127413|     2024-05-01|            null|                         null|\n",
      "|  11245860|        47173|     2024-05-01|            null|                         null|\n",
      "|1324204268|         2885|     2024-05-01|            null|                         null|\n",
      "+----------+-------------+---------------+----------------+-----------------------------+\n",
      "\n",
      "None\n"
     ]
    },
    {
     "name": "stderr",
     "output_type": "stream",
     "text": [
      "                                                                                 1000]]]\r"
     ]
    },
    {
     "name": "stdout",
     "output_type": "stream",
     "text": [
      "5\n"
     ]
    },
    {
     "name": "stderr",
     "output_type": "stream",
     "text": [
      "[Stage 481:===============================>                   (228 + 147) / 375]01]]\r"
     ]
    },
    {
     "name": "stdout",
     "output_type": "stream",
     "text": [
      "+----------+-------------+---------------+---------------------------------------------+---------------------------------------------+----------------------------------------------+--------------------------------------------------+--------------------------------------------------+---------------------------------------------------+\n",
      "|  BUYER_ID|LEAF_CATEG_ID|EVENT_TIMESTAMP|f_min_num_views_between_purchases_in_LEAF_cat|f_max_num_views_between_purchases_in_LEAF_cat|f_mean_num_views_between_purchases_in_LEAF_cat|f_min_views_between_purchases_per_days_in_LEAF_cat|f_max_views_between_purchases_per_days_in_LEAF_cat|f_mean_views_between_purchases_per_days_in_LEAF_cat|\n",
      "+----------+-------------+---------------+---------------------------------------------+---------------------------------------------+----------------------------------------------+--------------------------------------------------+--------------------------------------------------+---------------------------------------------------+\n",
      "|1132069035|        24410|     2024-05-01|                                            0|                                            0|                                           0.0|                                               0.0|                                               0.0|                                                0.0|\n",
      "|1498530061|       168135|     2024-05-01|                                            2|                                           14|                                      9.666667|                              0.016129032258064516|                                0.8666666666666667|                                          0.3609319|\n",
      "|  11245860|       127413|     2024-05-01|                                            0|                                            0|                                           0.0|                                               0.0|                                               0.0|                                                0.0|\n",
      "|  11245860|        47173|     2024-05-01|                                            0|                                            0|                                           0.0|                                               0.0|                                               0.0|                                                0.0|\n",
      "|1324204268|         2885|     2024-05-01|                                            0|                                            0|                                           0.0|                                               0.0|                                               0.0|                                                0.0|\n",
      "+----------+-------------+---------------+---------------------------------------------+---------------------------------------------+----------------------------------------------+--------------------------------------------------+--------------------------------------------------+---------------------------------------------------+\n",
      "\n",
      "None\n"
     ]
    },
    {
     "name": "stderr",
     "output_type": "stream",
     "text": [
      "                                                                                \r"
     ]
    }
   ],
   "source": [
    "df_tsf= f_num_views_from_purchase_in_cat(df_smp_sample, df_prch_sample, df_vi_sample, cat_type=\"LEAF\")"
   ]
  },
  {
   "cell_type": "code",
   "execution_count": 19,
   "id": "da3ceae7-7b44-45ea-a4f5-56c34d6c5bab",
   "metadata": {},
   "outputs": [
    {
     "name": "stderr",
     "output_type": "stream",
     "text": [
      "                                                                                1000]]\r"
     ]
    },
    {
     "data": {
      "text/plain": [
       "5"
      ]
     },
     "execution_count": 19,
     "metadata": {},
     "output_type": "execute_result"
    }
   ],
   "source": [
    "df_tsf.count()"
   ]
  },
  {
   "cell_type": "markdown",
   "id": "05da5c35-9f9b-445a-92ce-f7f4577ca467",
   "metadata": {},
   "source": [
    "#### Testing results of grouped feature and collect- updated feature:"
   ]
  },
  {
   "cell_type": "code",
   "execution_count": 22,
   "id": "7c361bde-a858-474e-a651-24a2eae47c51",
   "metadata": {},
   "outputs": [
    {
     "name": "stderr",
     "output_type": "stream",
     "text": [
      "[Stage 554:==========>(1000 + 1) / 1001][Stage 561:=>        (108 + 299) / 1000]\r"
     ]
    },
    {
     "name": "stdout",
     "output_type": "stream",
     "text": [
      "step of Collect all view counts into an array per buyer and category\n"
     ]
    },
    {
     "name": "stderr",
     "output_type": "stream",
     "text": [
      "                                                                                 4]4]]]\r"
     ]
    },
    {
     "name": "stdout",
     "output_type": "stream",
     "text": [
      "+----------+-------------+---------------+---------------+-----+--------------------+-------------+--------------------+-------------+--------------------+---------------------------------------------+---------------------------------------------+----------------------------------------------+--------------------------------------------------+--------------------------------------------------+---------------------------------------------------+\n",
      "|  BUYER_ID|LEAF_CATEG_ID|EVENT_TIMESTAMP|num_repurchases|label|     LEAF_CATEG_NAME|CATEG_LVL2_ID|     CATEG_LVL2_NAME|META_CATEG_ID|     META_CATEG_NAME|f_min_num_views_between_purchases_in_LEAF_cat|f_max_num_views_between_purchases_in_LEAF_cat|f_mean_num_views_between_purchases_in_LEAF_cat|f_min_views_between_purchases_per_days_in_LEAF_cat|f_max_views_between_purchases_per_days_in_LEAF_cat|f_mean_views_between_purchases_per_days_in_LEAF_cat|\n",
      "+----------+-------------+---------------+---------------+-----+--------------------+-------------+--------------------+-------------+--------------------+---------------------------------------------+---------------------------------------------+----------------------------------------------+--------------------------------------------------+--------------------------------------------------+---------------------------------------------------+\n",
      "|1132069035|        24410|     2024-05-01|              0|    0|Sports Mem, Cards...|        24409|Fan Apparel & Sou...|        64482|Sports Mem, Cards...|                                            0|                                            0|                                           0.0|                                               0.0|                                               0.0|                                                0.0|\n",
      "|1498530061|       168135|     2024-05-01|              6|    1|Home & Garden:Too...|          631|Tools & Workshop ...|        11700|       Home & Garden|                                            2|                                           14|                                      9.666667|                              0.016129032258064516|                                0.8666666666666667|                                          0.3609319|\n",
      "|  11245860|       127413|     2024-05-01|              0|    0|Stamps:Africa:Sou...|       181423|              Africa|          260|              Stamps|                                            0|                                            0|                                           0.0|                                               0.0|                                               0.0|                                                0.0|\n",
      "|  11245860|        47173|     2024-05-01|              0|    0|Stamps:Latin Amer...|       181417|       Latin America|          260|              Stamps|                                            0|                                            0|                                           0.0|                                               0.0|                                               0.0|                                                0.0|\n",
      "|1324204268|         2885|     2024-05-01|              0|    0|Sports Mem, Cards...|        24409|Fan Apparel & Sou...|        64482|Sports Mem, Cards...|                                            0|                                            0|                                           0.0|                                               0.0|                                               0.0|                                                0.0|\n",
      "+----------+-------------+---------------+---------------+-----+--------------------+-------------+--------------------+-------------+--------------------+---------------------------------------------+---------------------------------------------+----------------------------------------------+--------------------------------------------------+--------------------------------------------------+---------------------------------------------------+\n",
      "\n",
      "None\n"
     ]
    },
    {
     "name": "stderr",
     "output_type": "stream",
     "text": [
      "                                                                                1000]]\r"
     ]
    },
    {
     "name": "stdout",
     "output_type": "stream",
     "text": [
      "5\n",
      "step of Collect all view counts into an array per buyer and category\n"
     ]
    },
    {
     "name": "stderr",
     "output_type": "stream",
     "text": [
      "                                                                                1000]]]]\r"
     ]
    },
    {
     "name": "stdout",
     "output_type": "stream",
     "text": [
      "+----------+-------------+---------------+-------------+---------------+-----+--------------------+--------------------+-------------+--------------------+---------------------------------------------+---------------------------------------------+----------------------------------------------+--------------------------------------------------+--------------------------------------------------+---------------------------------------------------+---------------------------------------------+---------------------------------------------+----------------------------------------------+--------------------------------------------------+--------------------------------------------------+---------------------------------------------------+\n",
      "|  BUYER_ID|CATEG_LVL2_ID|EVENT_TIMESTAMP|LEAF_CATEG_ID|num_repurchases|label|     LEAF_CATEG_NAME|     CATEG_LVL2_NAME|META_CATEG_ID|     META_CATEG_NAME|f_min_num_views_between_purchases_in_LEAF_cat|f_max_num_views_between_purchases_in_LEAF_cat|f_mean_num_views_between_purchases_in_LEAF_cat|f_min_views_between_purchases_per_days_in_LEAF_cat|f_max_views_between_purchases_per_days_in_LEAF_cat|f_mean_views_between_purchases_per_days_in_LEAF_cat|f_min_num_views_between_purchases_in_LVL2_cat|f_max_num_views_between_purchases_in_LVL2_cat|f_mean_num_views_between_purchases_in_LVL2_cat|f_min_views_between_purchases_per_days_in_LVL2_cat|f_max_views_between_purchases_per_days_in_LVL2_cat|f_mean_views_between_purchases_per_days_in_LVL2_cat|\n",
      "+----------+-------------+---------------+-------------+---------------+-----+--------------------+--------------------+-------------+--------------------+---------------------------------------------+---------------------------------------------+----------------------------------------------+--------------------------------------------------+--------------------------------------------------+---------------------------------------------------+---------------------------------------------+---------------------------------------------+----------------------------------------------+--------------------------------------------------+--------------------------------------------------+---------------------------------------------------+\n",
      "|1324204268|        24409|     2024-05-01|         2885|              0|    0|Sports Mem, Cards...|Fan Apparel & Sou...|        64482|Sports Mem, Cards...|                                            0|                                            0|                                           0.0|                                               0.0|                                               0.0|                                                0.0|                                            0|                                            0|                                           0.0|                                               0.0|                                               0.0|                                                0.0|\n",
      "|1132069035|        24409|     2024-05-01|        24410|              0|    0|Sports Mem, Cards...|Fan Apparel & Sou...|        64482|Sports Mem, Cards...|                                            0|                                            0|                                           0.0|                                               0.0|                                               0.0|                                                0.0|                                            3|                                            3|                                           3.0|                                              0.25|                                              0.25|                                               0.25|\n",
      "|  11245860|       181417|     2024-05-01|        47173|              0|    0|Stamps:Latin Amer...|       Latin America|          260|              Stamps|                                            0|                                            0|                                           0.0|                                               0.0|                                               0.0|                                                0.0|                                            0|                                            0|                                           0.0|                                               0.0|                                               0.0|                                                0.0|\n",
      "|1498530061|          631|     2024-05-01|       168135|              6|    1|Home & Garden:Too...|Tools & Workshop ...|        11700|       Home & Garden|                                            2|                                           14|                                      9.666667|                              0.016129032258064516|                                0.8666666666666667|                                          0.3609319|                                            1|                                           71|                                      14.26087|                                               0.0|                                              26.0|                                          4.4243197|\n",
      "|  11245860|       181423|     2024-05-01|       127413|              0|    0|Stamps:Africa:Sou...|              Africa|          260|              Stamps|                                            0|                                            0|                                           0.0|                                               0.0|                                               0.0|                                                0.0|                                            0|                                            0|                                           0.0|                                               0.0|                                               0.0|                                                0.0|\n",
      "+----------+-------------+---------------+-------------+---------------+-----+--------------------+--------------------+-------------+--------------------+---------------------------------------------+---------------------------------------------+----------------------------------------------+--------------------------------------------------+--------------------------------------------------+---------------------------------------------------+---------------------------------------------+---------------------------------------------+----------------------------------------------+--------------------------------------------------+--------------------------------------------------+---------------------------------------------------+\n",
      "\n",
      "None\n"
     ]
    },
    {
     "name": "stderr",
     "output_type": "stream",
     "text": [
      "                                                                                / 1000]]\r"
     ]
    },
    {
     "name": "stdout",
     "output_type": "stream",
     "text": [
      "5\n",
      "step of Collect all view counts into an array per buyer and category\n"
     ]
    },
    {
     "name": "stderr",
     "output_type": "stream",
     "text": [
      "                                                                                 / 1000]]\r"
     ]
    },
    {
     "name": "stdout",
     "output_type": "stream",
     "text": [
      "+----------+-------------+---------------+-------------+-------------+---------------+-----+--------------------+--------------------+--------------------+---------------------------------------------+---------------------------------------------+----------------------------------------------+--------------------------------------------------+--------------------------------------------------+---------------------------------------------------+---------------------------------------------+---------------------------------------------+----------------------------------------------+--------------------------------------------------+--------------------------------------------------+---------------------------------------------------+---------------------------------------------+---------------------------------------------+----------------------------------------------+--------------------------------------------------+--------------------------------------------------+---------------------------------------------------+\n",
      "|  BUYER_ID|META_CATEG_ID|EVENT_TIMESTAMP|CATEG_LVL2_ID|LEAF_CATEG_ID|num_repurchases|label|     LEAF_CATEG_NAME|     CATEG_LVL2_NAME|     META_CATEG_NAME|f_min_num_views_between_purchases_in_LEAF_cat|f_max_num_views_between_purchases_in_LEAF_cat|f_mean_num_views_between_purchases_in_LEAF_cat|f_min_views_between_purchases_per_days_in_LEAF_cat|f_max_views_between_purchases_per_days_in_LEAF_cat|f_mean_views_between_purchases_per_days_in_LEAF_cat|f_min_num_views_between_purchases_in_LVL2_cat|f_max_num_views_between_purchases_in_LVL2_cat|f_mean_num_views_between_purchases_in_LVL2_cat|f_min_views_between_purchases_per_days_in_LVL2_cat|f_max_views_between_purchases_per_days_in_LVL2_cat|f_mean_views_between_purchases_per_days_in_LVL2_cat|f_min_num_views_between_purchases_in_META_cat|f_max_num_views_between_purchases_in_META_cat|f_mean_num_views_between_purchases_in_META_cat|f_min_views_between_purchases_per_days_in_META_cat|f_max_views_between_purchases_per_days_in_META_cat|f_mean_views_between_purchases_per_days_in_META_cat|\n",
      "+----------+-------------+---------------+-------------+-------------+---------------+-----+--------------------+--------------------+--------------------+---------------------------------------------+---------------------------------------------+----------------------------------------------+--------------------------------------------------+--------------------------------------------------+---------------------------------------------------+---------------------------------------------+---------------------------------------------+----------------------------------------------+--------------------------------------------------+--------------------------------------------------+---------------------------------------------------+---------------------------------------------+---------------------------------------------+----------------------------------------------+--------------------------------------------------+--------------------------------------------------+---------------------------------------------------+\n",
      "|  11245860|          260|     2024-05-01|       181423|       127413|              0|    0|Stamps:Africa:Sou...|              Africa|              Stamps|                                            0|                                            0|                                           0.0|                                               0.0|                                               0.0|                                                0.0|                                            0|                                            0|                                           0.0|                                               0.0|                                               0.0|                                                0.0|                                            0|                                            0|                                           0.0|                                               0.0|                                               0.0|                                                0.0|\n",
      "|  11245860|          260|     2024-05-01|       181417|        47173|              0|    0|Stamps:Latin Amer...|       Latin America|              Stamps|                                            0|                                            0|                                           0.0|                                               0.0|                                               0.0|                                                0.0|                                            0|                                            0|                                           0.0|                                               0.0|                                               0.0|                                                0.0|                                            0|                                            0|                                           0.0|                                               0.0|                                               0.0|                                                0.0|\n",
      "|1498530061|        11700|     2024-05-01|          631|       168135|              6|    1|Home & Garden:Too...|Tools & Workshop ...|       Home & Garden|                                            2|                                           14|                                      9.666667|                              0.016129032258064516|                                0.8666666666666667|                                          0.3609319|                                            1|                                           71|                                      14.26087|                                               0.0|                                              26.0|                                          4.4243197|                                            1|                                           71|                                          14.0|                                               0.0|                                              26.0|                                           4.414381|\n",
      "|1324204268|        64482|     2024-05-01|        24409|         2885|              0|    0|Sports Mem, Cards...|Fan Apparel & Sou...|Sports Mem, Cards...|                                            0|                                            0|                                           0.0|                                               0.0|                                               0.0|                                                0.0|                                            0|                                            0|                                           0.0|                                               0.0|                                               0.0|                                                0.0|                                            0|                                            0|                                           0.0|                                               0.0|                                               0.0|                                                0.0|\n",
      "|1132069035|        64482|     2024-05-01|        24409|        24410|              0|    0|Sports Mem, Cards...|Fan Apparel & Sou...|Sports Mem, Cards...|                                            0|                                            0|                                           0.0|                                               0.0|                                               0.0|                                                0.0|                                            3|                                            3|                                           3.0|                                              0.25|                                              0.25|                                               0.25|                                            3|                                            3|                                           3.0|                                              0.25|                                              0.25|                                               0.25|\n",
      "+----------+-------------+---------------+-------------+-------------+---------------+-----+--------------------+--------------------+--------------------+---------------------------------------------+---------------------------------------------+----------------------------------------------+--------------------------------------------------+--------------------------------------------------+---------------------------------------------------+---------------------------------------------+---------------------------------------------+----------------------------------------------+--------------------------------------------------+--------------------------------------------------+---------------------------------------------------+---------------------------------------------+---------------------------------------------+----------------------------------------------+--------------------------------------------------+--------------------------------------------------+---------------------------------------------------+\n",
      "\n",
      "None\n"
     ]
    },
    {
     "name": "stderr",
     "output_type": "stream",
     "text": [
      "[Stage 1019:==========================================>      (874 + 126) / 1000]1000]1000]\r"
     ]
    },
    {
     "name": "stdout",
     "output_type": "stream",
     "text": [
      "5\n"
     ]
    },
    {
     "name": "stderr",
     "output_type": "stream",
     "text": [
      "                                                                                \r"
     ]
    }
   ],
   "source": [
    "df_ft = f_num_views_from_purchase_in_cat(df_smp_sample, df_prch_sample, df_vi_sample, cat_type=\"LEAF\")\n",
    "df_res = add_feature(df_smp_sample, df_ft, join_key=\"LEAF_CATEG_ID\", how=\"inner\")\n",
    "print(df_res.show())\n",
    "print(df_res.count())\n",
    "\n",
    "df_ft = f_num_views_from_purchase_in_cat(df_smp_sample, df_prch_sample, df_vi_sample, cat_type=\"LVL2\")\n",
    "df_res = add_feature(df_res, df_ft, join_key=\"CATEG_LVL2_ID\", how=\"inner\")\n",
    "print(df_res.show())\n",
    "print(df_res.count()) \n",
    "\n",
    "df_ft = f_num_views_from_purchase_in_cat(df_smp_sample, df_prch_sample, df_vi_sample, cat_type=\"META\")\n",
    "df_res = add_feature(df_res, df_ft, join_key=\"META_CATEG_ID\", how=\"inner\")\n",
    "print(df_res.show())\n",
    "print(df_res.count()) "
   ]
  },
  {
   "cell_type": "code",
   "execution_count": 23,
   "id": "1245ee32-02c3-4503-8a1f-3b0291fe24b4",
   "metadata": {},
   "outputs": [
    {
     "name": "stderr",
     "output_type": "stream",
     "text": [
      "                                                                                1000]]\r"
     ]
    },
    {
     "name": "stdout",
     "output_type": "stream",
     "text": [
      "+----------+-------------+---------------+---------------+-----+--------------------+-------------+--------------------+-------------+--------------------+---------------------------------------------+---------------------------------------------+----------------------------------------------+--------------------------------------------------+--------------------------------------------------+---------------------------------------------------+\n",
      "|  BUYER_ID|LEAF_CATEG_ID|EVENT_TIMESTAMP|num_repurchases|label|     LEAF_CATEG_NAME|CATEG_LVL2_ID|     CATEG_LVL2_NAME|META_CATEG_ID|     META_CATEG_NAME|f_min_num_views_between_purchases_in_LEAF_cat|f_max_num_views_between_purchases_in_LEAF_cat|f_mean_num_views_between_purchases_in_LEAF_cat|f_min_views_between_purchases_per_days_in_LEAF_cat|f_max_views_between_purchases_per_days_in_LEAF_cat|f_mean_views_between_purchases_per_days_in_LEAF_cat|\n",
      "+----------+-------------+---------------+---------------+-----+--------------------+-------------+--------------------+-------------+--------------------+---------------------------------------------+---------------------------------------------+----------------------------------------------+--------------------------------------------------+--------------------------------------------------+---------------------------------------------------+\n",
      "|1132069035|        24410|     2024-05-01|              0|    0|Sports Mem, Cards...|        24409|Fan Apparel & Sou...|        64482|Sports Mem, Cards...|                                            0|                                            0|                                           0.0|                                               0.0|                                               0.0|                                                0.0|\n",
      "|1498530061|       168135|     2024-05-01|              6|    1|Home & Garden:Too...|          631|Tools & Workshop ...|        11700|       Home & Garden|                                            2|                                           14|                                      9.666667|                              0.016129032258064516|                                0.8666666666666667|                                          0.3609319|\n",
      "|  11245860|       127413|     2024-05-01|              0|    0|Stamps:Africa:Sou...|       181423|              Africa|          260|              Stamps|                                            0|                                            0|                                           0.0|                                               0.0|                                               0.0|                                                0.0|\n",
      "|  11245860|        47173|     2024-05-01|              0|    0|Stamps:Latin Amer...|       181417|       Latin America|          260|              Stamps|                                            0|                                            0|                                           0.0|                                               0.0|                                               0.0|                                                0.0|\n",
      "|1324204268|         2885|     2024-05-01|              0|    0|Sports Mem, Cards...|        24409|Fan Apparel & Sou...|        64482|Sports Mem, Cards...|                                            0|                                            0|                                           0.0|                                               0.0|                                               0.0|                                                0.0|\n",
      "+----------+-------------+---------------+---------------+-----+--------------------+-------------+--------------------+-------------+--------------------+---------------------------------------------+---------------------------------------------+----------------------------------------------+--------------------------------------------------+--------------------------------------------------+---------------------------------------------------+\n",
      "\n",
      "None\n"
     ]
    },
    {
     "name": "stderr",
     "output_type": "stream",
     "text": [
      "                                                                                ) / 1000]]]\r"
     ]
    },
    {
     "name": "stdout",
     "output_type": "stream",
     "text": [
      "5\n"
     ]
    },
    {
     "name": "stderr",
     "output_type": "stream",
     "text": [
      "                                                                                 / 1000]]0]]\r"
     ]
    },
    {
     "name": "stdout",
     "output_type": "stream",
     "text": [
      "+----------+-------------+---------------+-------------+---------------+-----+--------------------+--------------------+-------------+--------------------+---------------------------------------------+---------------------------------------------+----------------------------------------------+--------------------------------------------------+--------------------------------------------------+---------------------------------------------------+---------------------------------------------+---------------------------------------------+----------------------------------------------+--------------------------------------------------+--------------------------------------------------+---------------------------------------------------+\n",
      "|  BUYER_ID|CATEG_LVL2_ID|EVENT_TIMESTAMP|LEAF_CATEG_ID|num_repurchases|label|     LEAF_CATEG_NAME|     CATEG_LVL2_NAME|META_CATEG_ID|     META_CATEG_NAME|f_min_num_views_between_purchases_in_LEAF_cat|f_max_num_views_between_purchases_in_LEAF_cat|f_mean_num_views_between_purchases_in_LEAF_cat|f_min_views_between_purchases_per_days_in_LEAF_cat|f_max_views_between_purchases_per_days_in_LEAF_cat|f_mean_views_between_purchases_per_days_in_LEAF_cat|f_min_num_views_between_purchases_in_LVL2_cat|f_max_num_views_between_purchases_in_LVL2_cat|f_mean_num_views_between_purchases_in_LVL2_cat|f_min_views_between_purchases_per_days_in_LVL2_cat|f_max_views_between_purchases_per_days_in_LVL2_cat|f_mean_views_between_purchases_per_days_in_LVL2_cat|\n",
      "+----------+-------------+---------------+-------------+---------------+-----+--------------------+--------------------+-------------+--------------------+---------------------------------------------+---------------------------------------------+----------------------------------------------+--------------------------------------------------+--------------------------------------------------+---------------------------------------------------+---------------------------------------------+---------------------------------------------+----------------------------------------------+--------------------------------------------------+--------------------------------------------------+---------------------------------------------------+\n",
      "|1324204268|        24409|     2024-05-01|         2885|              0|    0|Sports Mem, Cards...|Fan Apparel & Sou...|        64482|Sports Mem, Cards...|                                            0|                                            0|                                           0.0|                                               0.0|                                               0.0|                                                0.0|                                            0|                                            0|                                           0.0|                                               0.0|                                               0.0|                                                0.0|\n",
      "|1132069035|        24409|     2024-05-01|        24410|              0|    0|Sports Mem, Cards...|Fan Apparel & Sou...|        64482|Sports Mem, Cards...|                                            0|                                            0|                                           0.0|                                               0.0|                                               0.0|                                                0.0|                                            3|                                            3|                                           3.0|                                              0.25|                                              0.25|                                               0.25|\n",
      "|  11245860|       181417|     2024-05-01|        47173|              0|    0|Stamps:Latin Amer...|       Latin America|          260|              Stamps|                                            0|                                            0|                                           0.0|                                               0.0|                                               0.0|                                                0.0|                                            0|                                            0|                                           0.0|                                               0.0|                                               0.0|                                                0.0|\n",
      "|1498530061|          631|     2024-05-01|       168135|              6|    1|Home & Garden:Too...|Tools & Workshop ...|        11700|       Home & Garden|                                            2|                                           14|                                      9.666667|                              0.016129032258064516|                                0.8666666666666667|                                          0.3609319|                                            1|                                           71|                                      14.26087|                                               0.0|                                              26.0|                                          4.4243197|\n",
      "|  11245860|       181423|     2024-05-01|       127413|              0|    0|Stamps:Africa:Sou...|              Africa|          260|              Stamps|                                            0|                                            0|                                           0.0|                                               0.0|                                               0.0|                                                0.0|                                            0|                                            0|                                           0.0|                                               0.0|                                               0.0|                                                0.0|\n",
      "+----------+-------------+---------------+-------------+---------------+-----+--------------------+--------------------+-------------+--------------------+---------------------------------------------+---------------------------------------------+----------------------------------------------+--------------------------------------------------+--------------------------------------------------+---------------------------------------------------+---------------------------------------------+---------------------------------------------+----------------------------------------------+--------------------------------------------------+--------------------------------------------------+---------------------------------------------------+\n",
      "\n",
      "None\n"
     ]
    },
    {
     "name": "stderr",
     "output_type": "stream",
     "text": [
      "                                                                                3) / 1000]]]\r"
     ]
    },
    {
     "name": "stdout",
     "output_type": "stream",
     "text": [
      "5\n"
     ]
    },
    {
     "name": "stderr",
     "output_type": "stream",
     "text": [
      "                                                                                7) / 1000]]\r"
     ]
    },
    {
     "name": "stdout",
     "output_type": "stream",
     "text": [
      "+----------+-------------+---------------+-------------+-------------+---------------+-----+--------------------+--------------------+--------------------+---------------------------------------------+---------------------------------------------+----------------------------------------------+--------------------------------------------------+--------------------------------------------------+---------------------------------------------------+---------------------------------------------+---------------------------------------------+----------------------------------------------+--------------------------------------------------+--------------------------------------------------+---------------------------------------------------+---------------------------------------------+---------------------------------------------+----------------------------------------------+--------------------------------------------------+--------------------------------------------------+---------------------------------------------------+\n",
      "|  BUYER_ID|META_CATEG_ID|EVENT_TIMESTAMP|CATEG_LVL2_ID|LEAF_CATEG_ID|num_repurchases|label|     LEAF_CATEG_NAME|     CATEG_LVL2_NAME|     META_CATEG_NAME|f_min_num_views_between_purchases_in_LEAF_cat|f_max_num_views_between_purchases_in_LEAF_cat|f_mean_num_views_between_purchases_in_LEAF_cat|f_min_views_between_purchases_per_days_in_LEAF_cat|f_max_views_between_purchases_per_days_in_LEAF_cat|f_mean_views_between_purchases_per_days_in_LEAF_cat|f_min_num_views_between_purchases_in_LVL2_cat|f_max_num_views_between_purchases_in_LVL2_cat|f_mean_num_views_between_purchases_in_LVL2_cat|f_min_views_between_purchases_per_days_in_LVL2_cat|f_max_views_between_purchases_per_days_in_LVL2_cat|f_mean_views_between_purchases_per_days_in_LVL2_cat|f_min_num_views_between_purchases_in_META_cat|f_max_num_views_between_purchases_in_META_cat|f_mean_num_views_between_purchases_in_META_cat|f_min_views_between_purchases_per_days_in_META_cat|f_max_views_between_purchases_per_days_in_META_cat|f_mean_views_between_purchases_per_days_in_META_cat|\n",
      "+----------+-------------+---------------+-------------+-------------+---------------+-----+--------------------+--------------------+--------------------+---------------------------------------------+---------------------------------------------+----------------------------------------------+--------------------------------------------------+--------------------------------------------------+---------------------------------------------------+---------------------------------------------+---------------------------------------------+----------------------------------------------+--------------------------------------------------+--------------------------------------------------+---------------------------------------------------+---------------------------------------------+---------------------------------------------+----------------------------------------------+--------------------------------------------------+--------------------------------------------------+---------------------------------------------------+\n",
      "|  11245860|          260|     2024-05-01|       181423|       127413|              0|    0|Stamps:Africa:Sou...|              Africa|              Stamps|                                            0|                                            0|                                           0.0|                                               0.0|                                               0.0|                                                0.0|                                            0|                                            0|                                           0.0|                                               0.0|                                               0.0|                                                0.0|                                            0|                                            0|                                           0.0|                                               0.0|                                               0.0|                                                0.0|\n",
      "|  11245860|          260|     2024-05-01|       181423|       127413|              0|    0|Stamps:Africa:Sou...|              Africa|              Stamps|                                            0|                                            0|                                           0.0|                                               0.0|                                               0.0|                                                0.0|                                            0|                                            0|                                           0.0|                                               0.0|                                               0.0|                                                0.0|                                            0|                                            0|                                           0.0|                                               0.0|                                               0.0|                                                0.0|\n",
      "|  11245860|          260|     2024-05-01|       181417|        47173|              0|    0|Stamps:Latin Amer...|       Latin America|              Stamps|                                            0|                                            0|                                           0.0|                                               0.0|                                               0.0|                                                0.0|                                            0|                                            0|                                           0.0|                                               0.0|                                               0.0|                                                0.0|                                            0|                                            0|                                           0.0|                                               0.0|                                               0.0|                                                0.0|\n",
      "|  11245860|          260|     2024-05-01|       181417|        47173|              0|    0|Stamps:Latin Amer...|       Latin America|              Stamps|                                            0|                                            0|                                           0.0|                                               0.0|                                               0.0|                                                0.0|                                            0|                                            0|                                           0.0|                                               0.0|                                               0.0|                                                0.0|                                            0|                                            0|                                           0.0|                                               0.0|                                               0.0|                                                0.0|\n",
      "|1498530061|        11700|     2024-05-01|          631|       168135|              6|    1|Home & Garden:Too...|Tools & Workshop ...|       Home & Garden|                                            2|                                           14|                                      9.666667|                              0.016129032258064516|                                0.8666666666666667|                                          0.3609319|                                            1|                                           71|                                      14.26087|                                               0.0|                                              26.0|                                          4.4243197|                                            1|                                           71|                                          14.0|                                               0.0|                                              26.0|                                           4.414381|\n",
      "|1324204268|        64482|     2024-05-01|        24409|         2885|              0|    0|Sports Mem, Cards...|Fan Apparel & Sou...|Sports Mem, Cards...|                                            0|                                            0|                                           0.0|                                               0.0|                                               0.0|                                                0.0|                                            0|                                            0|                                           0.0|                                               0.0|                                               0.0|                                                0.0|                                            0|                                            0|                                           0.0|                                               0.0|                                               0.0|                                                0.0|\n",
      "|1132069035|        64482|     2024-05-01|        24409|        24410|              0|    0|Sports Mem, Cards...|Fan Apparel & Sou...|Sports Mem, Cards...|                                            0|                                            0|                                           0.0|                                               0.0|                                               0.0|                                                0.0|                                            3|                                            3|                                           3.0|                                              0.25|                                              0.25|                                               0.25|                                            3|                                            3|                                           3.0|                                              0.25|                                              0.25|                                               0.25|\n",
      "+----------+-------------+---------------+-------------+-------------+---------------+-----+--------------------+--------------------+--------------------+---------------------------------------------+---------------------------------------------+----------------------------------------------+--------------------------------------------------+--------------------------------------------------+---------------------------------------------------+---------------------------------------------+---------------------------------------------+----------------------------------------------+--------------------------------------------------+--------------------------------------------------+---------------------------------------------------+---------------------------------------------+---------------------------------------------+----------------------------------------------+--------------------------------------------------+--------------------------------------------------+---------------------------------------------------+\n",
      "\n",
      "None\n"
     ]
    },
    {
     "name": "stderr",
     "output_type": "stream",
     "text": [
      "[Stage 1354:===========================================>     (895 + 105) / 1000]5) / 1000]]]\r"
     ]
    },
    {
     "name": "stdout",
     "output_type": "stream",
     "text": [
      "7\n"
     ]
    },
    {
     "name": "stderr",
     "output_type": "stream",
     "text": [
      "                                                                                \r"
     ]
    }
   ],
   "source": [
    "df_ft = f_num_views_from_purchase_in_cat(df_smp_sample, df_prch_sample, df_vi_sample, cat_type=\"LEAF\")\n",
    "df_res = add_feature(df_smp_sample, df_ft, join_key=\"LEAF_CATEG_ID\", how=\"inner\")\n",
    "print(df_res.show())\n",
    "print(df_res.count())\n",
    "\n",
    "df_ft = f_num_views_from_purchase_in_cat(df_smp_sample, df_prch_sample, df_vi_sample, cat_type=\"LVL2\")\n",
    "df_res = add_feature(df_res, df_ft, join_key=\"CATEG_LVL2_ID\", how=\"inner\")\n",
    "print(df_res.show())\n",
    "print(df_res.count()) \n",
    "\n",
    "df_ft = f_num_views_from_purchase_in_cat(df_smp_sample, df_prch_sample, df_vi_sample, cat_type=\"META\")\n",
    "df_res = add_feature(df_res, df_ft, join_key=\"META_CATEG_ID\", how=\"inner\")\n",
    "print(df_res.show())\n",
    "print(df_res.count()) "
   ]
  },
  {
   "cell_type": "markdown",
   "id": "8869229e-5fae-49c5-9f38-e7bdd10134f3",
   "metadata": {},
   "source": [
    "#### sample 1000 buyers, add features f_num_views_from_purchase_in_cat"
   ]
  },
  {
   "cell_type": "code",
   "execution_count": null,
   "id": "f8a75feb-dc14-46ec-8665-f1204c2d0e8a",
   "metadata": {},
   "outputs": [],
   "source": [
    "import features as F\n",
    "\n",
    "# Step 1: Sample 20 buyers from df_smp\n",
    "sample_buyers = (df_smp.select(\"BUYER_ID\").distinct().limit(1000)).collect()\n",
    "buyer_ids = [row[\"BUYER_ID\"] for row in sample_buyers]\n",
    "\n",
    "# Step 2: Filter df_smp, df_prch, and df_vi to only include those 20 buyers\n",
    "df_smp_sample = df_smp.filter(df_smp.BUYER_ID.isin(buyer_ids))\n",
    "df_prch_sample = df_prch.filter(df_prch.BUYER_ID.isin(buyer_ids))\n",
    "df_vi_sample = df_vi.filter(df_vi.BUYER_ID.isin(buyer_ids))\n",
    "\n",
    "\n",
    "num_columns = len(df_smp_sample.columns)\n",
    "print(f\"Number of columns: {num_columns}\")\n",
    "# Check the number of rows\n",
    "num_rows = df_smp_sample.count()\n",
    "print(f\"Number of rows: {num_rows}\")\n",
    "\n",
    "# Step 3: Calculate features for LEAF category\n",
    "df_ft_leaf = F.f_num_views_from_purchase_in_cat(df_smp_sample, df_prch_sample, df_vi_sample, cat_type=\"LEAF\")\n",
    "df_res_t = F.add_feature(df_smp_sample, df_ft_leaf, join_key=\"LEAF_CATEG_ID\")\n",
    "print(df_res_t.count())\n",
    "# Step 4: Calculate features for LVL2 category\n",
    "df_ft_lvl2 = F.f_num_views_from_purchase_in_cat(df_smp_sample, df_prch_sample, df_vi_sample, cat_type=\"LVL2\")\n",
    "df_res_t = F.add_feature(df_res_t, df_ft_lvl2, join_key=\"CATEG_LVL2_ID\")\n",
    "print(df_res_t.count())\n",
    "# Step 5: Calculate features for META category\n",
    "df_ft_meta = F.f_num_views_from_purchase_in_cat(df_smp_sample, df_prch_sample, df_vi_sample, cat_type=\"META\")\n",
    "df_res_t = F.add_feature(df_res_t, df_ft_meta, join_key=\"META_CATEG_ID\")\n",
    "num_columns = len(df_res_t.columns)\n",
    "print(f\"Number of columns: {num_columns}\")\n",
    "# Check the number of rows\n",
    "num_rows = df_res_t.count()\n",
    "print(f\"Number of rows: {num_rows}\")\n",
    "# Step 6: Show the results\n",
    "df_res_t.show()"
   ]
  },
  {
   "cell_type": "code",
   "execution_count": 9,
   "id": "535ba9db-f076-44da-9fe1-f9d98a4062bd",
   "metadata": {},
   "outputs": [
    {
     "name": "stderr",
     "output_type": "stream",
     "text": [
      "                                                                                \r"
     ]
    }
   ],
   "source": [
    "import features as F\n",
    "\n",
    "# Step 1: Sample 20 buyers from df_smp\n",
    "sample_buyers = (df_smp.select(\"BUYER_ID\").distinct().limit(100)).collect()\n",
    "buyer_ids = [row[\"BUYER_ID\"] for row in sample_buyers]\n",
    "\n",
    "# Step 2: Filter df_smp, df_prch, and df_vi to only include those 20 buyers\n",
    "df_smp_sample = df_smp.filter(df_smp.BUYER_ID.isin(buyer_ids))\n",
    "df_prch_sample = df_prch.filter(df_prch.BUYER_ID.isin(buyer_ids))\n",
    "df_vi_sample = df_vi.filter(df_vi.BUYER_ID.isin(buyer_ids))"
   ]
  },
  {
   "cell_type": "code",
   "execution_count": 12,
   "id": "0963555b-cae0-4d5d-9135-4174492c817e",
   "metadata": {},
   "outputs": [],
   "source": [
    "from pyspark.sql import functions as F\n",
    "import feature_helpers as fe\n",
    "from pyspark.sql.types import FloatType\n",
    "import numpy as np\n",
    "\n",
    "#sample_buyers = (df_smp.select(\"BUYER_ID\").distinct().limit(30)).collect()\n",
    "# Step 1: Define the specific buyer IDs you want to sample\n",
    "specific_buyer_ids = [11245860, 1498530061, 1324204268]\n",
    "\n",
    "# Step 2: Filter df_smp, df_prch, and df_vi to only include those specific buyers\n",
    "df_smp_sample = df_smp.filter(df_smp.BUYER_ID.isin(specific_buyer_ids))\n",
    "df_prch_sample = df_prch.filter(df_prch.BUYER_ID.isin(specific_buyer_ids))\n",
    "df_vi_sample = df_vi.filter(df_vi.BUYER_ID.isin(specific_buyer_ids))\n"
   ]
  },
  {
   "cell_type": "code",
   "execution_count": null,
   "id": "48094110-3f28-4bde-8388-7b109a741a1a",
   "metadata": {},
   "outputs": [],
   "source": [
    "# Step 1: Define the specific buyer IDs and leaf category IDs you want to sample\n",
    "specific_buyer_ids = [1498530061]\n",
    "specific_leaf_id = 33089\n",
    "\n",
    "# Step 2: Filter df_smp, df_prch, and df_vi to only include those specific buyers and leaf category\n",
    "df_smp_sample = df_smp.filter((df_smp.BUYER_ID.isin(specific_buyer_ids)) & (df_smp.LEAF_CATEG_ID == specific_leaf_id))\n",
    "df_prch_sample = df_prch.filter((df_prch.BUYER_ID.isin(specific_buyer_ids)) & (df_prch.LEAF_CATEG_ID == specific_leaf_id))\n",
    "df_vi_sample = df_vi.filter((df_vi.BUYER_ID.isin(specific_buyer_ids)) & (df_vi.LEAF_CATEG_ID == specific_leaf_id))\n",
    "\n",
    "# Show the filtered results for verification\n",
    "df_smp_sample.show()\n",
    "df_prch_sample.show()\n",
    "df_vi_sample.show()\n"
   ]
  },
  {
   "cell_type": "code",
   "execution_count": 15,
   "id": "7b17069e-0b40-4568-894f-340b21007dc2",
   "metadata": {
    "scrolled": true,
    "tags": []
   },
   "outputs": [
    {
     "name": "stdout",
     "output_type": "stream",
     "text": [
      "step of Collect all view counts into an array per buyer and category\n"
     ]
    },
    {
     "name": "stderr",
     "output_type": "stream",
     "text": [
      "24/10/27 13:27:58 ERROR AsyncEventQueue: Listener EventLoggingListener threw an exception\n",
      "java.util.ConcurrentModificationException\n",
      "\tat java.util.Hashtable$Enumerator.next(Hashtable.java:1387)\n",
      "\tat scala.collection.convert.Wrappers$JPropertiesWrapper$$anon$6.next(Wrappers.scala:424)\n",
      "\tat scala.collection.convert.Wrappers$JPropertiesWrapper$$anon$6.next(Wrappers.scala:420)\n",
      "\tat scala.collection.Iterator.foreach(Iterator.scala:941)\n",
      "\tat scala.collection.Iterator.foreach$(Iterator.scala:941)\n",
      "\tat scala.collection.AbstractIterator.foreach(Iterator.scala:1429)\n",
      "\tat scala.collection.IterableLike.foreach(IterableLike.scala:74)\n",
      "\tat scala.collection.IterableLike.foreach$(IterableLike.scala:73)\n",
      "\tat scala.collection.AbstractIterable.foreach(Iterable.scala:56)\n",
      "\tat scala.collection.mutable.MapLike.toSeq(MapLike.scala:75)\n",
      "\tat scala.collection.mutable.MapLike.toSeq$(MapLike.scala:72)\n",
      "\tat scala.collection.mutable.AbstractMap.toSeq(Map.scala:82)\n",
      "\tat org.apache.spark.scheduler.EventLoggingListener.redactProperties(EventLoggingListener.scala:290)\n",
      "\tat org.apache.spark.scheduler.EventLoggingListener.onJobStart(EventLoggingListener.scala:162)\n",
      "\tat org.apache.spark.scheduler.SparkListenerBus.doPostEvent(SparkListenerBus.scala:37)\n",
      "\tat org.apache.spark.scheduler.SparkListenerBus.doPostEvent$(SparkListenerBus.scala:28)\n",
      "\tat org.apache.spark.scheduler.AsyncEventQueue.doPostEvent(AsyncEventQueue.scala:37)\n",
      "\tat org.apache.spark.scheduler.AsyncEventQueue.doPostEvent(AsyncEventQueue.scala:37)\n",
      "\tat org.apache.spark.util.ListenerBus.postToAll(ListenerBus.scala:117)\n",
      "\tat org.apache.spark.util.ListenerBus.postToAll$(ListenerBus.scala:101)\n",
      "\tat org.apache.spark.scheduler.AsyncEventQueue.super$postToAll(AsyncEventQueue.scala:105)\n",
      "\tat org.apache.spark.scheduler.AsyncEventQueue.$anonfun$dispatch$1(AsyncEventQueue.scala:105)\n",
      "\tat scala.runtime.java8.JFunction0$mcJ$sp.apply(JFunction0$mcJ$sp.java:23)\n",
      "\tat scala.util.DynamicVariable.withValue(DynamicVariable.scala:62)\n",
      "\tat org.apache.spark.scheduler.AsyncEventQueue.org$apache$spark$scheduler$AsyncEventQueue$$dispatch(AsyncEventQueue.scala:100)\n",
      "\tat org.apache.spark.scheduler.AsyncEventQueue$$anon$2.$anonfun$run$1(AsyncEventQueue.scala:96)\n",
      "\tat org.apache.spark.util.Utils$.tryOrStopSparkContext(Utils.scala:1381)\n",
      "\tat org.apache.spark.scheduler.AsyncEventQueue$$anon$2.run(AsyncEventQueue.scala:96)\n",
      "[Stage 395:========================>                          (183 + 192) / 375]\r"
     ]
    },
    {
     "name": "stdout",
     "output_type": "stream",
     "text": [
      "+----------+-------------+---------------+---------------+-----+--------------------+-------------+--------------------+-------------+--------------------+---------------------------------------------+---------------------------------------------+----------------------------------------------+--------------------------------------------------+--------------------------------------------------+---------------------------------------------------+\n",
      "|  BUYER_ID|LEAF_CATEG_ID|EVENT_TIMESTAMP|num_repurchases|label|     LEAF_CATEG_NAME|CATEG_LVL2_ID|     CATEG_LVL2_NAME|META_CATEG_ID|     META_CATEG_NAME|f_min_num_views_between_purchases_in_LEAF_cat|f_max_num_views_between_purchases_in_LEAF_cat|f_mean_num_views_between_purchases_in_LEAF_cat|f_min_views_between_purchases_per_days_in_LEAF_cat|f_max_views_between_purchases_per_days_in_LEAF_cat|f_mean_views_between_purchases_per_days_in_LEAF_cat|\n",
      "+----------+-------------+---------------+---------------+-----+--------------------+-------------+--------------------+-------------+--------------------+---------------------------------------------+---------------------------------------------+----------------------------------------------+--------------------------------------------------+--------------------------------------------------+---------------------------------------------------+\n",
      "|1498530061|       168135|     2024-05-01|              6|    1|Home & Garden:Too...|          631|Tools & Workshop ...|        11700|       Home & Garden|                                            2|                                           14|                                      9.666667|                              0.016129032258064516|                                0.8666666666666667|                                          0.3609319|\n",
      "|  11245860|       127413|     2024-05-01|              0|    0|Stamps:Africa:Sou...|       181423|              Africa|          260|              Stamps|                                            0|                                            0|                                           0.0|                                               0.0|                                               0.0|                                                0.0|\n",
      "|  11245860|        47173|     2024-05-01|              0|    0|Stamps:Latin Amer...|       181417|       Latin America|          260|              Stamps|                                            0|                                            0|                                           0.0|                                               0.0|                                               0.0|                                                0.0|\n",
      "|1324204268|         2885|     2024-05-01|              0|    0|Sports Mem, Cards...|        24409|Fan Apparel & Sou...|        64482|Sports Mem, Cards...|                                            0|                                            0|                                           0.0|                                               0.0|                                               0.0|                                                0.0|\n",
      "+----------+-------------+---------------+---------------+-----+--------------------+-------------+--------------------+-------------+--------------------+---------------------------------------------+---------------------------------------------+----------------------------------------------+--------------------------------------------------+--------------------------------------------------+---------------------------------------------------+\n",
      "\n"
     ]
    },
    {
     "name": "stderr",
     "output_type": "stream",
     "text": [
      "                                                                                \r"
     ]
    }
   ],
   "source": [
    "\n",
    "# Step 3: Calculate features for LEAF category\n",
    "df_ft_leaf = f_num_views_from_purchase_in_cat(df_smp_sample, df_prch_sample, df_vi_sample, cat_type=\"LEAF\")\n",
    "df_res_t = add_feature(df_smp_sample, df_ft_leaf, join_key=\"LEAF_CATEG_ID\")\n",
    "\n",
    "# Step 6: Show the results\n",
    "df_res_t.show()"
   ]
  },
  {
   "cell_type": "code",
   "execution_count": 9,
   "id": "d42a3acb-9a38-461a-ae3a-090bb0c66556",
   "metadata": {
    "scrolled": true,
    "tags": []
   },
   "outputs": [
    {
     "name": "stdout",
     "output_type": "stream",
     "text": [
      "step of adding vi\n"
     ]
    },
    {
     "name": "stderr",
     "output_type": "stream",
     "text": [
      "                                                                                \r"
     ]
    },
    {
     "name": "stdout",
     "output_type": "stream",
     "text": [
      "+----------+------------+--------------------+-------------------+-------------+-----------------------+\n",
      "|  BUYER_ID|     ITEM_ID|      view_timestamp| purchase_timestamp|LEAF_CATEG_ID|next_purchase_timestamp|\n",
      "+----------+------------+--------------------+-------------------+-------------+-----------------------+\n",
      "|  11245860|314949668068|2024-05-22 14:23:...|2023-10-27 03:56:55|       123422|    2024-01-17 01:07:48|\n",
      "|  11245860|314949668068|2024-05-22 14:23:...|2024-01-17 01:07:48|       123422|    2024-04-12 14:58:26|\n",
      "|  11245860|314949668068|2024-05-22 14:23:...|2024-04-12 14:58:26|       123422|    2024-05-22 14:28:53|\n",
      "|  11245860|314949668068|2024-05-22 14:23:...|2024-05-22 14:28:53|       123422|                   null|\n",
      "|  11245860|113812810152|2024-05-22 14:26:...|2023-10-27 03:56:55|       123422|    2024-01-17 01:07:48|\n",
      "|  11245860|113812810152|2024-05-22 14:26:...|2024-01-17 01:07:48|       123422|    2024-04-12 14:58:26|\n",
      "|  11245860|113812810152|2024-05-22 14:26:...|2024-04-12 14:58:26|       123422|    2024-05-22 14:28:53|\n",
      "|  11245860|113812810152|2024-05-22 14:26:...|2024-05-22 14:28:53|       123422|                   null|\n",
      "|  11245860|392953153725|2024-05-22 14:25:...|2023-10-27 03:56:55|       123422|    2024-01-17 01:07:48|\n",
      "|  11245860|392953153725|2024-05-22 14:25:...|2024-01-17 01:07:48|       123422|    2024-04-12 14:58:26|\n",
      "|  11245860|392953153725|2024-05-22 14:25:...|2024-04-12 14:58:26|       123422|    2024-05-22 14:28:53|\n",
      "|  11245860|392953153725|2024-05-22 14:25:...|2024-05-22 14:28:53|       123422|                   null|\n",
      "|  11245860|143698575191|2024-05-22 14:28:...|2023-10-27 03:56:55|       123422|    2024-01-17 01:07:48|\n",
      "|  11245860|143698575191|2024-05-22 14:28:...|2024-01-17 01:07:48|       123422|    2024-04-12 14:58:26|\n",
      "|  11245860|143698575191|2024-05-22 14:28:...|2024-04-12 14:58:26|       123422|    2024-05-22 14:28:53|\n",
      "|  11245860|143698575191|2024-05-22 14:28:...|2024-05-22 14:28:53|       123422|                   null|\n",
      "|1498530061|115993587794|2023-11-29 17:33:...|               null|         null|                   null|\n",
      "|1498530061|115993587794|2023-11-29 17:33:...|               null|         null|                   null|\n",
      "|1498530061|115993587794|2023-11-29 16:45:...|               null|         null|                   null|\n",
      "|1498530061|115993587794|2023-11-29 16:23:...|               null|         null|                   null|\n",
      "+----------+------------+--------------------+-------------------+-------------+-----------------------+\n",
      "only showing top 20 rows\n",
      "\n",
      "step of rank vi\n"
     ]
    },
    {
     "name": "stderr",
     "output_type": "stream",
     "text": [
      "                                                                                \r"
     ]
    },
    {
     "name": "stdout",
     "output_type": "stream",
     "text": [
      "+----------+------------+--------------------+-------------------+-------------+-----------------------+----+\n",
      "|  BUYER_ID|     ITEM_ID|      view_timestamp| purchase_timestamp|LEAF_CATEG_ID|next_purchase_timestamp|rank|\n",
      "+----------+------------+--------------------+-------------------+-------------+-----------------------+----+\n",
      "|  11245860|196381095272|2024-05-13 01:02:...|2024-05-13 00:59:06|          701|                   null|   1|\n",
      "|  11245860|305608766291|2024-06-08 19:52:...|2024-05-07 07:48:09|       127424|                   null|   1|\n",
      "|1324204268|203452793160|2023-10-08 17:31:...|2023-09-16 16:19:29|       261987|                   null|   1|\n",
      "|1498530061|386822786231|2024-04-03 23:42:...|2023-07-31 12:36:40|       260205|                   null|   1|\n",
      "|  11245860|276462762779|2024-05-15 05:00:...|2024-05-14 03:12:36|        17734|    2024-05-16 01:08:36|   1|\n",
      "|  11245860|235544490440|2024-05-09 07:43:...|2024-03-04 20:40:41|        68114|                   null|   1|\n",
      "|  11245860|285929156827|2024-06-29 13:24:...|2024-06-29 11:09:41|         4744|    2024-06-29 13:27:00|   1|\n",
      "|  11245860|285888803232|2024-06-08 18:57:...|2024-06-07 03:03:25|        17734|    2024-06-09 08:30:39|   1|\n",
      "|  11245860|235629330735|2024-07-01 01:59:...|2024-05-02 06:35:58|       166775|                   null|   1|\n",
      "|  11245860|355747570796|2024-05-30 19:18:...|2024-01-28 20:01:04|        12563|    2024-05-30 19:29:14|   1|\n",
      "|  11245860|285854192051|2024-05-15 21:40:...|2024-05-14 03:12:36|        17734|    2024-05-16 01:08:36|   1|\n",
      "|  11245860|285888785910|2024-06-08 15:27:...|2024-06-07 03:03:25|        17734|    2024-06-09 08:30:39|   1|\n",
      "|  11245860|355414358721|2024-06-30 18:25:...|2024-06-30 06:16:33|        17734|    2024-06-30 18:38:17|   1|\n",
      "|  11245860|285878082741|2024-06-02 10:48:...|2024-06-02 10:27:31|        17734|    2024-06-02 10:53:29|   1|\n",
      "|1498530061|335208698096|2024-01-14 22:44:...|2023-11-24 15:37:27|       260204|    2024-01-14 22:45:03|   1|\n",
      "|  11245860|305568395846|2024-05-21 18:09:...|2024-05-04 23:31:14|         7921|    2024-06-29 08:36:04|   1|\n",
      "|  11245860|276481913220|2024-05-27 01:43:...|2024-05-18 09:12:42|        17734|    2024-05-27 23:45:51|   1|\n",
      "|1498530061|386324047260|2023-12-23 04:05:...|2023-07-31 03:10:14|        22661|    2024-01-26 18:43:25|   1|\n",
      "|1498530061|115936607324|2023-12-23 04:07:...|2023-07-31 03:10:14|        22661|    2024-01-26 18:43:25|   1|\n",
      "|  11245860|285888803232|2024-06-06 00:20:...|2024-06-02 10:53:29|        17734|    2024-06-07 03:03:25|   1|\n",
      "+----------+------------+--------------------+-------------------+-------------+-----------------------+----+\n",
      "only showing top 20 rows\n",
      "\n",
      "step of base\n"
     ]
    },
    {
     "name": "stderr",
     "output_type": "stream",
     "text": [
      "24/10/15 11:38:17 ERROR AsyncEventQueue: Listener EventLoggingListener threw an exception\n",
      "java.util.ConcurrentModificationException\n",
      "\tat java.util.Hashtable$Enumerator.next(Hashtable.java:1387)\n",
      "\tat scala.collection.convert.Wrappers$JPropertiesWrapper$$anon$6.next(Wrappers.scala:424)\n",
      "\tat scala.collection.convert.Wrappers$JPropertiesWrapper$$anon$6.next(Wrappers.scala:420)\n",
      "\tat scala.collection.Iterator.foreach(Iterator.scala:941)\n",
      "\tat scala.collection.Iterator.foreach$(Iterator.scala:941)\n",
      "\tat scala.collection.AbstractIterator.foreach(Iterator.scala:1429)\n",
      "\tat scala.collection.IterableLike.foreach(IterableLike.scala:74)\n",
      "\tat scala.collection.IterableLike.foreach$(IterableLike.scala:73)\n",
      "\tat scala.collection.AbstractIterable.foreach(Iterable.scala:56)\n",
      "\tat scala.collection.mutable.MapLike.toSeq(MapLike.scala:75)\n",
      "\tat scala.collection.mutable.MapLike.toSeq$(MapLike.scala:72)\n",
      "\tat scala.collection.mutable.AbstractMap.toSeq(Map.scala:82)\n",
      "\tat org.apache.spark.scheduler.EventLoggingListener.redactProperties(EventLoggingListener.scala:290)\n",
      "\tat org.apache.spark.scheduler.EventLoggingListener.onJobStart(EventLoggingListener.scala:162)\n",
      "\tat org.apache.spark.scheduler.SparkListenerBus.doPostEvent(SparkListenerBus.scala:37)\n",
      "\tat org.apache.spark.scheduler.SparkListenerBus.doPostEvent$(SparkListenerBus.scala:28)\n",
      "\tat org.apache.spark.scheduler.AsyncEventQueue.doPostEvent(AsyncEventQueue.scala:37)\n",
      "\tat org.apache.spark.scheduler.AsyncEventQueue.doPostEvent(AsyncEventQueue.scala:37)\n",
      "\tat org.apache.spark.util.ListenerBus.postToAll(ListenerBus.scala:117)\n",
      "\tat org.apache.spark.util.ListenerBus.postToAll$(ListenerBus.scala:101)\n",
      "\tat org.apache.spark.scheduler.AsyncEventQueue.super$postToAll(AsyncEventQueue.scala:105)\n",
      "\tat org.apache.spark.scheduler.AsyncEventQueue.$anonfun$dispatch$1(AsyncEventQueue.scala:105)\n",
      "\tat scala.runtime.java8.JFunction0$mcJ$sp.apply(JFunction0$mcJ$sp.java:23)\n",
      "\tat scala.util.DynamicVariable.withValue(DynamicVariable.scala:62)\n",
      "\tat org.apache.spark.scheduler.AsyncEventQueue.org$apache$spark$scheduler$AsyncEventQueue$$dispatch(AsyncEventQueue.scala:100)\n",
      "\tat org.apache.spark.scheduler.AsyncEventQueue$$anon$2.$anonfun$run$1(AsyncEventQueue.scala:96)\n",
      "\tat org.apache.spark.util.Utils$.tryOrStopSparkContext(Utils.scala:1381)\n",
      "\tat org.apache.spark.scheduler.AsyncEventQueue$$anon$2.run(AsyncEventQueue.scala:96)\n",
      "                                                                                \r"
     ]
    },
    {
     "name": "stdout",
     "output_type": "stream",
     "text": [
      "+----------+-------------+-------------------+--------------------+---------+\n",
      "|  BUYER_ID|LEAF_CATEG_ID| purchase_timestamp|      view_timestamp|days_diff|\n",
      "+----------+-------------+-------------------+--------------------+---------+\n",
      "|1498530061|       168135|2024-03-25 03:46:10|2024-04-08 21:08:...|       14|\n",
      "|1498530061|       168135|2024-01-15 21:19:59|2024-03-25 03:45:...|       70|\n",
      "|1498530061|       168135|2024-01-15 21:19:59|2024-03-25 03:45:...|       70|\n",
      "|1498530061|       168135|2024-01-15 21:19:59|2024-02-06 02:21:...|       22|\n",
      "|1498530061|       168135|2024-01-15 21:19:59|2024-02-17 18:25:...|       33|\n",
      "|1498530061|       168135|2024-01-15 21:19:59|2024-02-06 01:53:...|       22|\n",
      "|1498530061|       168135|2024-03-25 03:46:10|2024-04-01 02:44:...|        7|\n",
      "|1498530061|       168135|2024-01-15 21:19:59|2024-02-05 21:33:...|       21|\n",
      "|1498530061|       168135|2024-01-15 21:19:59|2024-02-21 00:26:...|       37|\n",
      "|1498530061|       168135|2024-01-15 21:19:59|2024-03-25 03:45:...|       70|\n",
      "|1498530061|       168135|2024-03-25 03:46:10|2024-03-25 03:46:...|        0|\n",
      "|1498530061|       168135|2024-01-15 21:19:59|2024-02-12 05:33:...|       28|\n",
      "|1498530061|       168135|2024-03-25 03:46:10|2024-04-01 02:44:...|        7|\n",
      "|1498530061|       168135|2023-09-11 02:49:50|2024-01-13 21:02:...|      124|\n",
      "|1498530061|       168135|2024-01-15 21:19:59|2024-02-12 05:34:...|       28|\n",
      "|1498530061|       168135|2024-01-15 21:19:59|2024-02-25 01:23:...|       41|\n",
      "|1498530061|       168135|2024-03-25 03:46:10|2024-04-08 22:02:...|       14|\n",
      "|1498530061|       168135|2024-03-25 03:46:10|2024-04-01 02:47:...|        7|\n",
      "|1498530061|       168135|2024-01-15 21:19:59|2024-02-07 14:49:...|       23|\n",
      "|1498530061|       168135|2024-01-15 21:19:59|2024-03-25 03:45:...|       70|\n",
      "+----------+-------------+-------------------+--------------------+---------+\n",
      "only showing top 20 rows\n",
      "\n",
      "step of vi count\n"
     ]
    },
    {
     "name": "stderr",
     "output_type": "stream",
     "text": [
      "                                                                                \r"
     ]
    },
    {
     "name": "stdout",
     "output_type": "stream",
     "text": [
      "+----------+-------------+-------------------+----------+-------------+-----------------------+\n",
      "|  BUYER_ID|LEAF_CATEG_ID| purchase_timestamp|view_count|max_days_diff|view_count_per_max_days|\n",
      "+----------+-------------+-------------------+----------+-------------+-----------------------+\n",
      "|1498530061|       168135|2024-01-15 21:19:59|        14|           70|                    0.2|\n",
      "|1498530061|       168135|2024-03-25 03:46:10|        13|           15|     0.8666666666666667|\n",
      "|1498530061|       168135|2023-09-11 02:49:50|         2|          124|   0.016129032258064516|\n",
      "+----------+-------------+-------------------+----------+-------------+-----------------------+\n",
      "\n",
      "step of Collect all view counts into an array per buyer and category\n"
     ]
    },
    {
     "name": "stderr",
     "output_type": "stream",
     "text": [
      "24/10/15 11:40:49 ERROR AsyncEventQueue: Listener EventLoggingListener threw an exception\n",
      "java.util.ConcurrentModificationException\n",
      "\tat java.util.Hashtable$Enumerator.next(Hashtable.java:1387)\n",
      "\tat scala.collection.convert.Wrappers$JPropertiesWrapper$$anon$6.next(Wrappers.scala:424)\n",
      "\tat scala.collection.convert.Wrappers$JPropertiesWrapper$$anon$6.next(Wrappers.scala:420)\n",
      "\tat scala.collection.Iterator.foreach(Iterator.scala:941)\n",
      "\tat scala.collection.Iterator.foreach$(Iterator.scala:941)\n",
      "\tat scala.collection.AbstractIterator.foreach(Iterator.scala:1429)\n",
      "\tat scala.collection.IterableLike.foreach(IterableLike.scala:74)\n",
      "\tat scala.collection.IterableLike.foreach$(IterableLike.scala:73)\n",
      "\tat scala.collection.AbstractIterable.foreach(Iterable.scala:56)\n",
      "\tat scala.collection.mutable.MapLike.toSeq(MapLike.scala:75)\n",
      "\tat scala.collection.mutable.MapLike.toSeq$(MapLike.scala:72)\n",
      "\tat scala.collection.mutable.AbstractMap.toSeq(Map.scala:82)\n",
      "\tat org.apache.spark.scheduler.EventLoggingListener.redactProperties(EventLoggingListener.scala:290)\n",
      "\tat org.apache.spark.scheduler.EventLoggingListener.onJobStart(EventLoggingListener.scala:162)\n",
      "\tat org.apache.spark.scheduler.SparkListenerBus.doPostEvent(SparkListenerBus.scala:37)\n",
      "\tat org.apache.spark.scheduler.SparkListenerBus.doPostEvent$(SparkListenerBus.scala:28)\n",
      "\tat org.apache.spark.scheduler.AsyncEventQueue.doPostEvent(AsyncEventQueue.scala:37)\n",
      "\tat org.apache.spark.scheduler.AsyncEventQueue.doPostEvent(AsyncEventQueue.scala:37)\n",
      "\tat org.apache.spark.util.ListenerBus.postToAll(ListenerBus.scala:117)\n",
      "\tat org.apache.spark.util.ListenerBus.postToAll$(ListenerBus.scala:101)\n",
      "\tat org.apache.spark.scheduler.AsyncEventQueue.super$postToAll(AsyncEventQueue.scala:105)\n",
      "\tat org.apache.spark.scheduler.AsyncEventQueue.$anonfun$dispatch$1(AsyncEventQueue.scala:105)\n",
      "\tat scala.runtime.java8.JFunction0$mcJ$sp.apply(JFunction0$mcJ$sp.java:23)\n",
      "\tat scala.util.DynamicVariable.withValue(DynamicVariable.scala:62)\n",
      "\tat org.apache.spark.scheduler.AsyncEventQueue.org$apache$spark$scheduler$AsyncEventQueue$$dispatch(AsyncEventQueue.scala:100)\n",
      "\tat org.apache.spark.scheduler.AsyncEventQueue$$anon$2.$anonfun$run$1(AsyncEventQueue.scala:96)\n",
      "\tat org.apache.spark.util.Utils$.tryOrStopSparkContext(Utils.scala:1381)\n",
      "\tat org.apache.spark.scheduler.AsyncEventQueue$$anon$2.run(AsyncEventQueue.scala:96)\n",
      "24/10/15 11:40:50 ERROR AsyncEventQueue: Listener EventLoggingListener threw an exception\n",
      "java.util.ConcurrentModificationException\n",
      "\tat java.util.Hashtable$Enumerator.next(Hashtable.java:1387)\n",
      "\tat scala.collection.convert.Wrappers$JPropertiesWrapper$$anon$6.next(Wrappers.scala:424)\n",
      "\tat scala.collection.convert.Wrappers$JPropertiesWrapper$$anon$6.next(Wrappers.scala:420)\n",
      "\tat scala.collection.Iterator.foreach(Iterator.scala:941)\n",
      "\tat scala.collection.Iterator.foreach$(Iterator.scala:941)\n",
      "\tat scala.collection.AbstractIterator.foreach(Iterator.scala:1429)\n",
      "\tat scala.collection.IterableLike.foreach(IterableLike.scala:74)\n",
      "\tat scala.collection.IterableLike.foreach$(IterableLike.scala:73)\n",
      "\tat scala.collection.AbstractIterable.foreach(Iterable.scala:56)\n",
      "\tat scala.collection.mutable.MapLike.toSeq(MapLike.scala:75)\n",
      "\tat scala.collection.mutable.MapLike.toSeq$(MapLike.scala:72)\n",
      "\tat scala.collection.mutable.AbstractMap.toSeq(Map.scala:82)\n",
      "\tat org.apache.spark.scheduler.EventLoggingListener.redactProperties(EventLoggingListener.scala:290)\n",
      "\tat org.apache.spark.scheduler.EventLoggingListener.onJobStart(EventLoggingListener.scala:162)\n",
      "\tat org.apache.spark.scheduler.SparkListenerBus.doPostEvent(SparkListenerBus.scala:37)\n",
      "\tat org.apache.spark.scheduler.SparkListenerBus.doPostEvent$(SparkListenerBus.scala:28)\n",
      "\tat org.apache.spark.scheduler.AsyncEventQueue.doPostEvent(AsyncEventQueue.scala:37)\n",
      "\tat org.apache.spark.scheduler.AsyncEventQueue.doPostEvent(AsyncEventQueue.scala:37)\n",
      "\tat org.apache.spark.util.ListenerBus.postToAll(ListenerBus.scala:117)\n",
      "\tat org.apache.spark.util.ListenerBus.postToAll$(ListenerBus.scala:101)\n",
      "\tat org.apache.spark.scheduler.AsyncEventQueue.super$postToAll(AsyncEventQueue.scala:105)\n",
      "\tat org.apache.spark.scheduler.AsyncEventQueue.$anonfun$dispatch$1(AsyncEventQueue.scala:105)\n",
      "\tat scala.runtime.java8.JFunction0$mcJ$sp.apply(JFunction0$mcJ$sp.java:23)\n",
      "\tat scala.util.DynamicVariable.withValue(DynamicVariable.scala:62)\n",
      "\tat org.apache.spark.scheduler.AsyncEventQueue.org$apache$spark$scheduler$AsyncEventQueue$$dispatch(AsyncEventQueue.scala:100)\n",
      "\tat org.apache.spark.scheduler.AsyncEventQueue$$anon$2.$anonfun$run$1(AsyncEventQueue.scala:96)\n",
      "\tat org.apache.spark.util.Utils$.tryOrStopSparkContext(Utils.scala:1381)\n",
      "\tat org.apache.spark.scheduler.AsyncEventQueue$$anon$2.run(AsyncEventQueue.scala:96)\n",
      "                                                                                \r"
     ]
    },
    {
     "name": "stdout",
     "output_type": "stream",
     "text": [
      "+----------+-------------+-------------------+----------+-------------+-----------------------+\n",
      "|  BUYER_ID|LEAF_CATEG_ID| purchase_timestamp|view_count|max_days_diff|view_count_per_max_days|\n",
      "+----------+-------------+-------------------+----------+-------------+-----------------------+\n",
      "|1498530061|       168135|2024-01-15 21:19:59|        14|           70|                    0.2|\n",
      "|1498530061|       168135|2024-03-25 03:46:10|        13|           15|     0.8666666666666667|\n",
      "|1498530061|       168135|2023-09-11 02:49:50|         2|          124|   0.016129032258064516|\n",
      "+----------+-------------+-------------------+----------+-------------+-----------------------+\n",
      "\n"
     ]
    },
    {
     "name": "stderr",
     "output_type": "stream",
     "text": [
      "24/10/15 11:42:48 ERROR AsyncEventQueue: Listener EventLoggingListener threw an exception\n",
      "java.util.ConcurrentModificationException\n",
      "\tat java.util.Hashtable$Enumerator.next(Hashtable.java:1387)\n",
      "\tat scala.collection.convert.Wrappers$JPropertiesWrapper$$anon$6.next(Wrappers.scala:424)\n",
      "\tat scala.collection.convert.Wrappers$JPropertiesWrapper$$anon$6.next(Wrappers.scala:420)\n",
      "\tat scala.collection.Iterator.foreach(Iterator.scala:941)\n",
      "\tat scala.collection.Iterator.foreach$(Iterator.scala:941)\n",
      "\tat scala.collection.AbstractIterator.foreach(Iterator.scala:1429)\n",
      "\tat scala.collection.IterableLike.foreach(IterableLike.scala:74)\n",
      "\tat scala.collection.IterableLike.foreach$(IterableLike.scala:73)\n",
      "\tat scala.collection.AbstractIterable.foreach(Iterable.scala:56)\n",
      "\tat scala.collection.mutable.MapLike.toSeq(MapLike.scala:75)\n",
      "\tat scala.collection.mutable.MapLike.toSeq$(MapLike.scala:72)\n",
      "\tat scala.collection.mutable.AbstractMap.toSeq(Map.scala:82)\n",
      "\tat org.apache.spark.scheduler.EventLoggingListener.redactProperties(EventLoggingListener.scala:290)\n",
      "\tat org.apache.spark.scheduler.EventLoggingListener.onJobStart(EventLoggingListener.scala:162)\n",
      "\tat org.apache.spark.scheduler.SparkListenerBus.doPostEvent(SparkListenerBus.scala:37)\n",
      "\tat org.apache.spark.scheduler.SparkListenerBus.doPostEvent$(SparkListenerBus.scala:28)\n",
      "\tat org.apache.spark.scheduler.AsyncEventQueue.doPostEvent(AsyncEventQueue.scala:37)\n",
      "\tat org.apache.spark.scheduler.AsyncEventQueue.doPostEvent(AsyncEventQueue.scala:37)\n",
      "\tat org.apache.spark.util.ListenerBus.postToAll(ListenerBus.scala:117)\n",
      "\tat org.apache.spark.util.ListenerBus.postToAll$(ListenerBus.scala:101)\n",
      "\tat org.apache.spark.scheduler.AsyncEventQueue.super$postToAll(AsyncEventQueue.scala:105)\n",
      "\tat org.apache.spark.scheduler.AsyncEventQueue.$anonfun$dispatch$1(AsyncEventQueue.scala:105)\n",
      "\tat scala.runtime.java8.JFunction0$mcJ$sp.apply(JFunction0$mcJ$sp.java:23)\n",
      "\tat scala.util.DynamicVariable.withValue(DynamicVariable.scala:62)\n",
      "\tat org.apache.spark.scheduler.AsyncEventQueue.org$apache$spark$scheduler$AsyncEventQueue$$dispatch(AsyncEventQueue.scala:100)\n",
      "\tat org.apache.spark.scheduler.AsyncEventQueue$$anon$2.$anonfun$run$1(AsyncEventQueue.scala:96)\n",
      "\tat org.apache.spark.util.Utils$.tryOrStopSparkContext(Utils.scala:1381)\n",
      "\tat org.apache.spark.scheduler.AsyncEventQueue$$anon$2.run(AsyncEventQueue.scala:96)\n",
      "24/10/15 11:42:54 ERROR AsyncEventQueue: Listener EventLoggingListener threw an exception\n",
      "java.util.ConcurrentModificationException\n",
      "\tat java.util.Hashtable$Enumerator.next(Hashtable.java:1387)\n",
      "\tat scala.collection.convert.Wrappers$JPropertiesWrapper$$anon$6.next(Wrappers.scala:424)\n",
      "\tat scala.collection.convert.Wrappers$JPropertiesWrapper$$anon$6.next(Wrappers.scala:420)\n",
      "\tat scala.collection.Iterator.foreach(Iterator.scala:941)\n",
      "\tat scala.collection.Iterator.foreach$(Iterator.scala:941)\n",
      "\tat scala.collection.AbstractIterator.foreach(Iterator.scala:1429)\n",
      "\tat scala.collection.IterableLike.foreach(IterableLike.scala:74)\n",
      "\tat scala.collection.IterableLike.foreach$(IterableLike.scala:73)\n",
      "\tat scala.collection.AbstractIterable.foreach(Iterable.scala:56)\n",
      "\tat scala.collection.mutable.MapLike.toSeq(MapLike.scala:75)\n",
      "\tat scala.collection.mutable.MapLike.toSeq$(MapLike.scala:72)\n",
      "\tat scala.collection.mutable.AbstractMap.toSeq(Map.scala:82)\n",
      "\tat org.apache.spark.scheduler.EventLoggingListener.redactProperties(EventLoggingListener.scala:290)\n",
      "\tat org.apache.spark.scheduler.EventLoggingListener.onJobStart(EventLoggingListener.scala:162)\n",
      "\tat org.apache.spark.scheduler.SparkListenerBus.doPostEvent(SparkListenerBus.scala:37)\n",
      "\tat org.apache.spark.scheduler.SparkListenerBus.doPostEvent$(SparkListenerBus.scala:28)\n",
      "\tat org.apache.spark.scheduler.AsyncEventQueue.doPostEvent(AsyncEventQueue.scala:37)\n",
      "\tat org.apache.spark.scheduler.AsyncEventQueue.doPostEvent(AsyncEventQueue.scala:37)\n",
      "\tat org.apache.spark.util.ListenerBus.postToAll(ListenerBus.scala:117)\n",
      "\tat org.apache.spark.util.ListenerBus.postToAll$(ListenerBus.scala:101)\n",
      "\tat org.apache.spark.scheduler.AsyncEventQueue.super$postToAll(AsyncEventQueue.scala:105)\n",
      "\tat org.apache.spark.scheduler.AsyncEventQueue.$anonfun$dispatch$1(AsyncEventQueue.scala:105)\n",
      "\tat scala.runtime.java8.JFunction0$mcJ$sp.apply(JFunction0$mcJ$sp.java:23)\n",
      "\tat scala.util.DynamicVariable.withValue(DynamicVariable.scala:62)\n",
      "\tat org.apache.spark.scheduler.AsyncEventQueue.org$apache$spark$scheduler$AsyncEventQueue$$dispatch(AsyncEventQueue.scala:100)\n",
      "\tat org.apache.spark.scheduler.AsyncEventQueue$$anon$2.$anonfun$run$1(AsyncEventQueue.scala:96)\n",
      "\tat org.apache.spark.util.Utils$.tryOrStopSparkContext(Utils.scala:1381)\n",
      "\tat org.apache.spark.scheduler.AsyncEventQueue$$anon$2.run(AsyncEventQueue.scala:96)\n",
      "[Stage 352:===============================>                   (233 + 142) / 375]\r"
     ]
    },
    {
     "name": "stdout",
     "output_type": "stream",
     "text": [
      "+----------+-------------+---------------+---------------+-----+--------------------+-------------+--------------------+-------------+--------------------+---------------------------------------------+---------------------------------------------+----------------------------------------------+------------------------------------+------------------------------------+-------------------------------------+\n",
      "|  BUYER_ID|LEAF_CATEG_ID|EVENT_TIMESTAMP|num_repurchases|label|     LEAF_CATEG_NAME|CATEG_LVL2_ID|     CATEG_LVL2_NAME|META_CATEG_ID|     META_CATEG_NAME|f_min_num_views_between_purchases_in_LEAF_cat|f_max_num_views_between_purchases_in_LEAF_cat|f_mean_num_views_between_purchases_in_LEAF_cat|f_min_views_per_max_days_in_LEAF_cat|f_max_views_per_max_days_in_LEAF_cat|f_mean_views_per_max_days_in_LEAF_cat|\n",
      "+----------+-------------+---------------+---------------+-----+--------------------+-------------+--------------------+-------------+--------------------+---------------------------------------------+---------------------------------------------+----------------------------------------------+------------------------------------+------------------------------------+-------------------------------------+\n",
      "|1498530061|       168135|     2024-05-01|              6|    1|Home & Garden:Too...|          631|Tools & Workshop ...|        11700|       Home & Garden|                                            2|                                           14|                                      9.666667|                0.016129032258064516|                  0.8666666666666667|                            0.3609319|\n",
      "|  11245860|       127413|     2024-05-01|              0|    0|Stamps:Africa:Sou...|       181423|              Africa|          260|              Stamps|                                           -1|                                           -1|                                          -1.0|                                -1.0|                                -1.0|                                 -1.0|\n",
      "|  11245860|        47173|     2024-05-01|              0|    0|Stamps:Latin Amer...|       181417|       Latin America|          260|              Stamps|                                           -1|                                           -1|                                          -1.0|                                -1.0|                                -1.0|                                 -1.0|\n",
      "|1324204268|         2885|     2024-05-01|              0|    0|Sports Mem, Cards...|        24409|Fan Apparel & Sou...|        64482|Sports Mem, Cards...|                                           -1|                                           -1|                                          -1.0|                                -1.0|                                -1.0|                                 -1.0|\n",
      "+----------+-------------+---------------+---------------+-----+--------------------+-------------+--------------------+-------------+--------------------+---------------------------------------------+---------------------------------------------+----------------------------------------------+------------------------------------+------------------------------------+-------------------------------------+\n",
      "\n"
     ]
    },
    {
     "name": "stderr",
     "output_type": "stream",
     "text": [
      "                                                                                \r"
     ]
    }
   ],
   "source": [
    "##views per days:\n",
    "df_ft_leaf = f_num_views_from_purchase_in_cat(df_smp_sample, df_prch_sample, df_vi_sample, cat_type=\"LEAF\")\n",
    "df_res_t = add_feature(df_smp_sample, df_ft_leaf, join_key=\"LEAF_CATEG_ID\")\n",
    "\n",
    "# Step 6: Show the results\n",
    "df_res_t.show()"
   ]
  },
  {
   "cell_type": "code",
   "execution_count": 3,
   "id": "eaaa5263-2269-42f5-98d2-b3840c829655",
   "metadata": {},
   "outputs": [
    {
     "name": "stderr",
     "output_type": "stream",
     "text": [
      "[Stage 62:=====================================>              (268 + 107) / 375]0]\r"
     ]
    },
    {
     "name": "stdout",
     "output_type": "stream",
     "text": [
      "+----------+-------------+---------------+---------------+-----+--------------------+-------------+--------------------+-------------+-----------------+---------------------------------------------+---------------------------------------------+----------------------------------------------+------------------------------------+------------------------------------+-------------------------------------+\n",
      "|  BUYER_ID|LEAF_CATEG_ID|EVENT_TIMESTAMP|num_repurchases|label|     LEAF_CATEG_NAME|CATEG_LVL2_ID|     CATEG_LVL2_NAME|META_CATEG_ID|  META_CATEG_NAME|f_min_num_views_between_purchases_in_LEAF_cat|f_max_num_views_between_purchases_in_LEAF_cat|f_mean_num_views_between_purchases_in_LEAF_cat|f_min_views_per_max_days_in_LEAF_cat|f_max_views_per_max_days_in_LEAF_cat|f_mean_views_per_max_days_in_LEAF_cat|\n",
      "+----------+-------------+---------------+---------------+-----+--------------------+-------------+--------------------+-------------+-----------------+---------------------------------------------+---------------------------------------------+----------------------------------------------+------------------------------------+------------------------------------+-------------------------------------+\n",
      "|  80471728|        74925|     2024-05-01|              0|    0|Cameras & Photo:B...|        28179|Binoculars & Tele...|          625|  Cameras & Photo|                                           -1|                                           -1|                                          -1.0|                                -1.0|                                -1.0|                                 -1.0|\n",
      "|2233331276|          280|     2024-05-01|              0|    0|Books & Magazines...|          280|           Magazines|          267|Books & Magazines|                                           -1|                                           -1|                                          -1.0|                                -1.0|                                -1.0|                                 -1.0|\n",
      "|1147044579|          140|     2024-05-01|              0|    0|Collectibles:Disn...|          137|           Disneyana|            1|     Collectibles|                                           -1|                                           -1|                                          -1.0|                                -1.0|                                -1.0|                                 -1.0|\n",
      "+----------+-------------+---------------+---------------+-----+--------------------+-------------+--------------------+-------------+-----------------+---------------------------------------------+---------------------------------------------+----------------------------------------------+------------------------------------+------------------------------------+-------------------------------------+\n",
      "\n"
     ]
    },
    {
     "name": "stderr",
     "output_type": "stream",
     "text": [
      "                                                                                \r"
     ]
    }
   ],
   "source": [
    "import features as F\n",
    "\n",
    "# Step 1: Sample 20 buyers from df_smp\n",
    "sample_buyers = (df_smp.select(\"BUYER_ID\").distinct().limit(3)).collect()\n",
    "buyer_ids = [row[\"BUYER_ID\"] for row in sample_buyers]\n",
    "\n",
    "# Step 2: Filter df_smp, df_prch, and df_vi to only include those 3 buyers\n",
    "df_smp_sample = df_smp.filter(df_smp.BUYER_ID.isin(buyer_ids))\n",
    "df_prch_sample = df_prch.filter(df_prch.BUYER_ID.isin(buyer_ids))\n",
    "df_vi_sample = df_vi.filter(df_vi.BUYER_ID.isin(buyer_ids))\n",
    "\n",
    "# Step 3: Calculate features for LEAF category\n",
    "df_ft_leaf = F.f_num_views_from_purchase_in_cat(df_smp_sample, df_prch_sample, df_vi_sample, cat_type=\"LEAF\")\n",
    "df_res_t = F.add_feature(df_smp_sample, df_ft_leaf, join_key=\"LEAF_CATEG_ID\")\n",
    "df_res_t.show()"
   ]
  },
  {
   "cell_type": "code",
   "execution_count": 3,
   "id": "f576222a-f69e-4d76-9a2a-f6ef06dcd603",
   "metadata": {
    "scrolled": true,
    "tags": []
   },
   "outputs": [
    {
     "name": "stderr",
     "output_type": "stream",
     "text": [
      "[Stage 172:===========================================>        (316 + 59) / 375]000]]]\r"
     ]
    },
    {
     "name": "stdout",
     "output_type": "stream",
     "text": [
      "+----------+-------------+---------------+-------------+-------------+---------------+-----+--------------------+--------------------+--------------------+---------------------------------------------+---------------------------------------------+----------------------------------------------+------------------------------------+------------------------------------+-------------------------------------+---------------------------------------------+---------------------------------------------+----------------------------------------------+------------------------------------+------------------------------------+-------------------------------------+---------------------------------------------+---------------------------------------------+----------------------------------------------+------------------------------------+------------------------------------+-------------------------------------+\n",
      "|  BUYER_ID|META_CATEG_ID|EVENT_TIMESTAMP|CATEG_LVL2_ID|LEAF_CATEG_ID|num_repurchases|label|     LEAF_CATEG_NAME|     CATEG_LVL2_NAME|     META_CATEG_NAME|f_min_num_views_between_purchases_in_LEAF_cat|f_max_num_views_between_purchases_in_LEAF_cat|f_mean_num_views_between_purchases_in_LEAF_cat|f_min_views_per_max_days_in_LEAF_cat|f_max_views_per_max_days_in_LEAF_cat|f_mean_views_per_max_days_in_LEAF_cat|f_min_num_views_between_purchases_in_LVL2_cat|f_max_num_views_between_purchases_in_LVL2_cat|f_mean_num_views_between_purchases_in_LVL2_cat|f_min_views_per_max_days_in_LVL2_cat|f_max_views_per_max_days_in_LVL2_cat|f_mean_views_per_max_days_in_LVL2_cat|f_min_num_views_between_purchases_in_META_cat|f_max_num_views_between_purchases_in_META_cat|f_mean_num_views_between_purchases_in_META_cat|f_min_views_per_max_days_in_META_cat|f_max_views_per_max_days_in_META_cat|f_mean_views_per_max_days_in_META_cat|\n",
      "+----------+-------------+---------------+-------------+-------------+---------------+-----+--------------------+--------------------+--------------------+---------------------------------------------+---------------------------------------------+----------------------------------------------+------------------------------------+------------------------------------+-------------------------------------+---------------------------------------------+---------------------------------------------+----------------------------------------------+------------------------------------+------------------------------------+-------------------------------------+---------------------------------------------+---------------------------------------------+----------------------------------------------+------------------------------------+------------------------------------+-------------------------------------+\n",
      "| 585293343|        11700|     2024-05-01|       159907|        79621|              0|    0|Home & Garden:Hom...|    Home Improvement|       Home & Garden|                                            2|                                            2|                                           2.0|                                 0.4|                                 0.4|                                  0.4|                                            2|                                            2|                                           2.0|                                 0.4|                                 0.4|                                  0.4|                                            5|                                            5|                                           5.0|                0.026881720430107527|                0.026881720430107527|                           0.02688172|\n",
      "|2618121509|            1|     2024-05-01|        13777|       261624|              0|    0|Collectibles:Deco...|Decorative Collec...|        Collectibles|                                           -1|                                           -1|                                          -1.0|                                -1.0|                                -1.0|                                 -1.0|                                           -1|                                           -1|                                          -1.0|                                -1.0|                                -1.0|                                 -1.0|                                           -1|                                           -1|                                          -1.0|                                -1.0|                                -1.0|                                 -1.0|\n",
      "|1388401594|        11450|     2024-05-01|       260010|        63864|              0|    0|Clothing, Shoes &...|               Women|Clothing, Shoes &...|                                           21|                                           21|                                          21.0|                 0.13815789473684212|                 0.13815789473684212|                           0.13815789|                                           72|                                          191|                                         147.0|                  1.0670391061452513|                                 7.2|                            3.3000221|                                           72|                                          194|                                         148.0|                  1.0837988826815643|                                 7.2|                            3.3056087|\n",
      "|2279254348|        11450|     2024-05-01|       260012|        15709|              0|    0|Clothing, Shoes &...|                 Men|Clothing, Shoes &...|                                            7|                                           96|                                     42.333332|                                 2.4|                                 7.0|                                  4.7|                                            7|                                          115|                                     48.666668|                  1.6911764705882353|                                 7.0|                             4.345588|                                            7|                                          117|                                     49.333332|                  1.7205882352941178|                                 7.0|                            4.3602943|\n",
      "|2542532356|        11450|     2024-05-01|       260012|        15709|              0|    0|Clothing, Shoes &...|                 Men|Clothing, Shoes &...|                                           -1|                                           -1|                                          -1.0|                                -1.0|                                -1.0|                                 -1.0|                                           -1|                                           -1|                                          -1.0|                                -1.0|                                -1.0|                                 -1.0|                                           -1|                                           -1|                                          -1.0|                                -1.0|                                -1.0|                                 -1.0|\n",
      "|  80471728|          625|     2024-05-01|        28179|        74925|              0|    0|Cameras & Photo:B...|Binoculars & Tele...|     Cameras & Photo|                                           -1|                                           -1|                                          -1.0|                                -1.0|                                -1.0|                                 -1.0|                                           -1|                                           -1|                                          -1.0|                                -1.0|                                -1.0|                                 -1.0|                                           -1|                                           -1|                                          -1.0|                                -1.0|                                -1.0|                                 -1.0|\n",
      "|1826880424|        26395|     2024-05-01|        31786|        82596|              0|    0|Health & Beauty:M...|              Makeup|     Health & Beauty|                                            3|                                            3|                                           3.0|                 0.03571428571428571|                 0.03571428571428571|                          0.035714287|                                           10|                                           10|                                          10.0|                 0.11904761904761904|                 0.11904761904761904|                           0.11904762|                                           11|                                           11|                                          11.0|                 0.13095238095238096|                 0.13095238095238096|                           0.13095239|\n",
      "|1132069035|        64482|     2024-05-01|        24409|        24410|              0|    0|Sports Mem, Cards...|Fan Apparel & Sou...|Sports Mem, Cards...|                                           -1|                                           -1|                                          -1.0|                                -1.0|                                -1.0|                                 -1.0|                                            3|                                            3|                                           3.0|                                0.25|                                0.25|                                 0.25|                                            3|                                            3|                                           3.0|                                0.25|                                0.25|                                 0.25|\n",
      "|1854227088|        12576|     2024-05-01|        11897|       183836|              0|    0|Business & Indust...|Facility Maintena...|Business & Indust...|                                            4|                                            4|                                           4.0|                  0.0547945205479452|                  0.0547945205479452|                           0.05479452|                                            3|                                           14|                                           7.0|                 0.16666666666666666|                                 2.0|                            0.8102725|                                            1|                                           30|                                          12.0|                  0.2777777777777778|                                 6.0|                             2.281272|\n",
      "|2306906627|        26395|     2024-05-01|        31786|       177666|              0|    0|Health & Beauty:M...|              Makeup|     Health & Beauty|                                            1|                                            1|                                           1.0|                0.010638297872340425|                0.010638297872340425|                          0.010638298|                                           33|                                           33|                                          33.0|                   0.336734693877551|                   0.336734693877551|                           0.33673468|                                           18|                                          116|                                         66.25|                               1.125|                                 3.3|                            2.2109509|\n",
      "+----------+-------------+---------------+-------------+-------------+---------------+-----+--------------------+--------------------+--------------------+---------------------------------------------+---------------------------------------------+----------------------------------------------+------------------------------------+------------------------------------+-------------------------------------+---------------------------------------------+---------------------------------------------+----------------------------------------------+------------------------------------+------------------------------------+-------------------------------------+---------------------------------------------+---------------------------------------------+----------------------------------------------+------------------------------------+------------------------------------+-------------------------------------+\n",
      "\n"
     ]
    },
    {
     "name": "stderr",
     "output_type": "stream",
     "text": [
      "                                                                                \r"
     ]
    }
   ],
   "source": [
    "import features as F\n",
    "\n",
    "# Step 1: Sample 20 buyers from df_smp\n",
    "sample_buyers = (df_smp.select(\"BUYER_ID\").distinct().limit(10)).collect()\n",
    "buyer_ids = [row[\"BUYER_ID\"] for row in sample_buyers]\n",
    "\n",
    "# Step 2: Filter df_smp, df_prch, and df_vi to only include those 20 buyers\n",
    "df_smp_sample = df_smp.filter(df_smp.BUYER_ID.isin(buyer_ids))\n",
    "df_prch_sample = df_prch.filter(df_prch.BUYER_ID.isin(buyer_ids))\n",
    "df_vi_sample = df_vi.filter(df_vi.BUYER_ID.isin(buyer_ids))\n",
    "\n",
    "# Step 3: Calculate features for LEAF category\n",
    "df_ft_leaf = F.f_num_views_from_purchase_in_cat(df_smp_sample, df_prch_sample, df_vi_sample, cat_type=\"LEAF\")\n",
    "df_res_t = F.add_feature(df_smp_sample, df_ft_leaf, join_key=\"LEAF_CATEG_ID\")\n",
    "\n",
    "# Step 4: Calculate features for LVL2 category\n",
    "df_ft_lvl2 = F.f_num_views_from_purchase_in_cat(df_smp_sample, df_prch_sample, df_vi_sample, cat_type=\"LVL2\")\n",
    "df_res_t = F.add_feature(df_res_t, df_ft_lvl2, join_key=\"CATEG_LVL2_ID\")\n",
    "\n",
    "# Step 5: Calculate features for META category\n",
    "df_ft_meta = F.f_num_views_from_purchase_in_cat(df_smp_sample, df_prch_sample, df_vi_sample, cat_type=\"META\")\n",
    "df_res_t = F.add_feature(df_res_t, df_ft_meta, join_key=\"META_CATEG_ID\")\n",
    "\n",
    "\n",
    "df_res_t.show()"
   ]
  },
  {
   "cell_type": "markdown",
   "id": "2c5188b2-dff1-4e2f-9972-75f4560dc09f",
   "metadata": {},
   "source": [
    "## time since last purchase and num views "
   ]
  },
  {
   "cell_type": "code",
   "execution_count": 36,
   "id": "b04c0985-fdf9-495d-a849-def6e3fa0c33",
   "metadata": {},
   "outputs": [
    {
     "name": "stderr",
     "output_type": "stream",
     "text": [
      "[Stage 1533:(995 + 6) / 1001][Stage 1534:(457 + 294) / 1000][Stage 1537:(0 + 0) / 1000]]\r"
     ]
    }
   ],
   "source": [
    "from pyspark.sql import functions as F\n",
    "from pyspark.sql import Window\n",
    "\n",
    "\n",
    "# Helper method to compute views and time-related features between purchases\n",
    "def _compute_view_based_features(df_prch, df_vi, df_base, cat_type=\"LEAF\"):\n",
    "    # Step 1: Join purchases with views and calculate the time difference\n",
    "    df_view_join = (df_prch\n",
    "                    .join(df_vi, \n",
    "                          (df_prch.BUYER_ID == df_vi.BUYER_ID) & \n",
    "                          _leaf_condition(df_prch, df_vi, cat_type), how=\"left\")\n",
    "                    .select(\n",
    "                        df_vi.BUYER_ID,\n",
    "                        df_vi.ITEM_ID,\n",
    "                        df_vi.EVENT_TIMESTAMP.alias(\"view_timestamp\"), \n",
    "                        df_prch.EVENT_TIMESTAMP.alias(\"purchase_timestamp\"), \n",
    "                        _leaf_id_col(df_prch, cat_type) \n",
    "                    )\n",
    "                    .withColumn(\"time_diff\", F.datediff(F.col(\"view_timestamp\"), F.col(\"purchase_timestamp\")))\n",
    "                    .filter(F.col(\"time_diff\") > 0)  \n",
    "                   )\n",
    "   # print(\"join\")\n",
    "   # print(df_view_join.show())\n",
    "\n",
    "    # Step 4: Join df_view_join with df_base to filter views that happen after the base event timestamp\n",
    "    df_view_join = (df_view_join\n",
    "                    .join(df_base, \n",
    "                          (df_view_join.BUYER_ID == df_base.BUYER_ID) & \n",
    "                          _leaf_condition(df_view_join, df_base, cat_type), how=\"inner\")\n",
    "                     .filter((F.datediff(df_base.EVENT_TIMESTAMP, F.col(\"view_timestamp\")) > 0))\n",
    "                    .select(\n",
    "                        df_view_join.BUYER_ID,\n",
    "                        df_view_join.ITEM_ID,\n",
    "                        df_view_join.view_timestamp,\n",
    "                        df_view_join.purchase_timestamp,\n",
    "                        _leaf_id_col(df_view_join, cat_type),\n",
    "                        df_view_join.time_diff\n",
    "                           \n",
    "                    )\n",
    "                   )\n",
    "    \n",
    " #   print(\"views filtered based on base timestamp\")\n",
    " #   print(df_view_join.show())\n",
    "\n",
    "    # New Step: Ensure each view is associated with the closest preceding purchase\n",
    "    # Step 5: Use a window function to rank views per buyer and category\n",
    "    view_ranked = df_view_join.withColumn(\n",
    "        \"rank\", \n",
    "        F.row_number().over(Window.partitionBy(\n",
    "            df_view_join.BUYER_ID,\n",
    "            _leaf_id_col(df_view_join, cat_type),\n",
    "            df_view_join.view_timestamp\n",
    "        ).orderBy(F.desc(\"purchase_timestamp\")))\n",
    "    )\n",
    "   # print(view_ranked.show())\n",
    "    # Step 6: Keep only the highest-ranked view (the closest to the purchase)\n",
    "    view_single_assigned = view_ranked.filter(F.col(\"rank\") == 1).drop(\"rank\")\n",
    "\n",
    "    # Step 7: Assign row number to each view-purchase pair, ordering by purchase date descending per buyer have last purchase.\n",
    "    window_spec = Window.partitionBy(view_single_assigned.BUYER_ID, _leaf_id_col(df_prch, cat_type) ).orderBy(F.desc(\"purchase_timestamp\"))\n",
    "    view_single_assigned = view_single_assigned.withColumn(\"rn\", F.rank().over(window_spec))\n",
    "\n",
    "    #print(\"last purchase rank\")\n",
    "    #view_single_assigned.show()\n",
    "    \n",
    "    view_single = view_single_assigned.filter(F.col(\"rn\") == 1).drop(\"rn\")\n",
    "    \n",
    "    # Step 5: Group by user, category, and purchase timestamp to calculate features\n",
    "    df_grouped = (view_single.groupBy(\n",
    "                        view_single.BUYER_ID,  \n",
    "                        _leaf_id_col(view_single, cat_type), \n",
    "                        view_single.purchase_timestamp)\n",
    "                   .agg(\n",
    "                        F.count(\"view_timestamp\").alias(\"num_views\"),  # Count views since last purchase\n",
    "                        F.max(\"view_timestamp\").alias(\"last_view_timestamp\"),  # Last view timestamp\n",
    "                        F.max(\"time_diff\").alias(\"days_since_last_view\")  # Time since the last view to purchase\n",
    "                    )\n",
    "                 )\n",
    "\n",
    "   # print(\"last view and days diff\")\n",
    "   # df_grouped.show()\n",
    "\n",
    "    # Step 6: Filter rows where the last view is not null\n",
    "    df_grouped = df_grouped.filter(F.col(\"last_view_timestamp\").isNotNull())\n",
    "\n",
    "    return df_grouped\n",
    "\n",
    "# Feature generation function to add the number of views and days since last view\n",
    "def f_views_since_last_purchase_in_cat(df_base, df_prch, df_vi, cat_type=\"LEAF\"):\n",
    "    # Step 1: Compute the view-based features\n",
    "    df_view_features = _compute_view_based_features(df_prch, df_vi, df_base, cat_type)\n",
    "\n",
    "    # Step 2: Join the computed features with the base dataset\n",
    "    df_res = (df_base.join(df_view_features, \n",
    "                           (df_base.BUYER_ID == df_view_features.BUYER_ID) & \n",
    "                           (F.datediff(df_base.EVENT_TIMESTAMP, F.col(\"last_view_timestamp\")) > 0)&\n",
    "                           _leaf_condition(df_base, df_view_features, cat_type), \n",
    "                           how=\"left\")\n",
    "              .select(\n",
    "                  df_base.BUYER_ID,\n",
    "                  _leaf_id_col(df_base, cat_type),\n",
    "                  df_base.EVENT_TIMESTAMP,\n",
    "                  df_view_features.num_views.alias(f\"num_views_since_last_purchase_in_{cat_type}_cat\"),\n",
    "                  df_view_features.days_since_last_view.alias(f\"time_from_last_view_to_last_purchase_in_{cat_type}_cat\")))\n",
    "     \n",
    "\n",
    "    #print(\"grouped joined result\")\n",
    "    #df_res.show()\n",
    "    df_res = df_res.fillna(0, subset=[f\"num_views_since_last_purchase_in_{cat_type}_cat\"])\n",
    "    df_res = df_res.fillna(-1, subset=[f\"time_from_last_view_to_last_purchase_in_{cat_type}_cat\"])\n",
    "\n",
    "    #print(\"final joined result\")\n",
    "    #print(df_res.show())\n",
    "    df_res_no_dups = df_res.distinct()\n",
    "\n",
    "    return df_res_no_dups "
   ]
  },
  {
   "cell_type": "code",
   "execution_count": 34,
   "id": "679196c8-e66d-41c1-be47-1050bb4b149a",
   "metadata": {},
   "outputs": [
    {
     "name": "stdout",
     "output_type": "stream",
     "text": [
      "final joined result\n"
     ]
    },
    {
     "name": "stderr",
     "output_type": "stream",
     "text": [
      "[Stage 1436:=============================>                    (218 + 157) / 375]/ 1000]\r"
     ]
    },
    {
     "name": "stdout",
     "output_type": "stream",
     "text": [
      "+----------+-------------+---------------+-----------------------------------------+------------------------------------------------+\n",
      "|  BUYER_ID|LEAF_CATEG_ID|EVENT_TIMESTAMP|num_views_since_last_purchase_in_LEAF_cat|time_from_last_view_to_last_purchase_in_LEAF_cat|\n",
      "+----------+-------------+---------------+-----------------------------------------+------------------------------------------------+\n",
      "|  11245860|        47173|     2024-05-01|                                        0|                                              -1|\n",
      "|1132069035|        24410|     2024-05-01|                                        0|                                              -1|\n",
      "|  11245860|       127413|     2024-05-01|                                        0|                                              -1|\n",
      "|1498530061|       168135|     2024-05-01|                                       12|                                              15|\n",
      "|1324204268|         2885|     2024-05-01|                                        0|                                              -1|\n",
      "+----------+-------------+---------------+-----------------------------------------+------------------------------------------------+\n",
      "\n",
      "None\n"
     ]
    },
    {
     "name": "stderr",
     "output_type": "stream",
     "text": [
      "                                                                                \r"
     ]
    }
   ],
   "source": [
    "df_tsf= f_views_since_last_purchase_in_cat(df_smp_sample, df_prch_sample, df_vi_sample, cat_type=\"LEAF\")"
   ]
  },
  {
   "cell_type": "code",
   "execution_count": 27,
   "id": "f12ea174-f61d-46f6-aa74-edafbd78863d",
   "metadata": {
    "scrolled": true,
    "tags": []
   },
   "outputs": [
    {
     "name": "stdout",
     "output_type": "stream",
     "text": [
      "join\n"
     ]
    },
    {
     "name": "stderr",
     "output_type": "stream",
     "text": [
      "                                                                                \r"
     ]
    },
    {
     "name": "stdout",
     "output_type": "stream",
     "text": [
      "+----------+------------+--------------------+-------------------+-------------+---------+\n",
      "|  BUYER_ID|     ITEM_ID|      view_timestamp| purchase_timestamp|LEAF_CATEG_ID|time_diff|\n",
      "+----------+------------+--------------------+-------------------+-------------+---------+\n",
      "|  11245860|314949668068|2024-05-22 14:23:...|2024-01-17 01:07:48|       123422|      126|\n",
      "|  11245860|113812810152|2024-05-22 14:26:...|2024-01-17 01:07:48|       123422|      126|\n",
      "|  11245860|392953153725|2024-05-22 14:25:...|2024-01-17 01:07:48|       123422|      126|\n",
      "|  11245860|143698575191|2024-05-22 14:28:...|2024-01-17 01:07:48|       123422|      126|\n",
      "|  11245860|314949668068|2024-05-22 14:23:...|2024-04-12 14:58:26|       123422|       40|\n",
      "|  11245860|113812810152|2024-05-22 14:26:...|2024-04-12 14:58:26|       123422|       40|\n",
      "|  11245860|392953153725|2024-05-22 14:25:...|2024-04-12 14:58:26|       123422|       40|\n",
      "|  11245860|143698575191|2024-05-22 14:28:...|2024-04-12 14:58:26|       123422|       40|\n",
      "|  11245860|314949668068|2024-05-22 14:23:...|2023-10-27 03:56:55|       123422|      208|\n",
      "|  11245860|113812810152|2024-05-22 14:26:...|2023-10-27 03:56:55|       123422|      208|\n",
      "|  11245860|392953153725|2024-05-22 14:25:...|2023-10-27 03:56:55|       123422|      208|\n",
      "|  11245860|143698575191|2024-05-22 14:28:...|2023-10-27 03:56:55|       123422|      208|\n",
      "|1324204268|203452793160|2023-10-08 17:31:...|2023-09-16 16:19:29|       261987|       22|\n",
      "|1324204268|203914318851|2023-10-08 17:19:...|2023-09-16 16:19:29|       261987|       22|\n",
      "|1324204268|203914318851|2023-10-08 17:18:...|2023-09-16 16:19:29|       261987|       22|\n",
      "|1324204268|203914318851|2023-10-08 17:18:...|2023-09-16 16:19:29|       261987|       22|\n",
      "|1324204268|203914318851|2023-10-08 17:18:...|2023-09-16 16:19:29|       261987|       22|\n",
      "|1324204268|203914318851|2023-10-08 17:17:...|2023-09-16 16:19:29|       261987|       22|\n",
      "|1324204268|203452793160|2023-10-08 17:31:...|2023-09-16 16:19:29|       261987|       22|\n",
      "|1324204268|203914318851|2023-10-08 17:19:...|2023-09-16 16:19:29|       261987|       22|\n",
      "+----------+------------+--------------------+-------------------+-------------+---------+\n",
      "only showing top 20 rows\n",
      "\n",
      "None\n",
      "views filtered based on base timestamp\n"
     ]
    },
    {
     "name": "stderr",
     "output_type": "stream",
     "text": [
      "                                                                                \r"
     ]
    },
    {
     "name": "stdout",
     "output_type": "stream",
     "text": [
      "+----------+------------+--------------------+-------------------+-------------+---------+\n",
      "|  BUYER_ID|     ITEM_ID|      view_timestamp| purchase_timestamp|LEAF_CATEG_ID|time_diff|\n",
      "+----------+------------+--------------------+-------------------+-------------+---------+\n",
      "|1498530061|295495274519|2024-02-12 05:33:...|2024-01-15 21:19:59|       168135|       28|\n",
      "|1498530061|386886812375|2024-04-09 06:36:...|2024-01-15 21:19:59|       168135|       85|\n",
      "|1498530061|386886812375|2024-04-09 06:36:...|2024-01-15 21:19:59|       168135|       85|\n",
      "|1498530061|386886812375|2024-04-08 21:08:...|2024-01-15 21:19:59|       168135|       84|\n",
      "|1498530061|386886812375|2024-04-08 21:08:...|2024-01-15 21:19:59|       168135|       84|\n",
      "|1498530061|386886812375|2024-04-08 21:07:...|2024-01-15 21:19:59|       168135|       84|\n",
      "|1498530061|335284547649|2024-04-08 22:02:...|2024-01-15 21:19:59|       168135|       84|\n",
      "|1498530061|335284547649|2024-04-08 22:02:...|2024-01-15 21:19:59|       168135|       84|\n",
      "|1498530061|335284547649|2024-04-01 02:47:...|2024-01-15 21:19:59|       168135|       77|\n",
      "|1498530061|335284547649|2024-04-01 02:44:...|2024-01-15 21:19:59|       168135|       77|\n",
      "|1498530061|335284547649|2024-04-01 02:44:...|2024-01-15 21:19:59|       168135|       77|\n",
      "|1498530061|335284547649|2024-04-01 02:44:...|2024-01-15 21:19:59|       168135|       77|\n",
      "|1498530061|334493018893|2024-02-05 21:33:...|2024-01-15 21:19:59|       168135|       21|\n",
      "|1498530061|126338142661|2024-02-25 01:23:...|2024-01-15 21:19:59|       168135|       41|\n",
      "|1498530061|386911570003|2024-04-08 21:08:...|2024-01-15 21:19:59|       168135|       84|\n",
      "|1498530061|176225574132|2024-02-17 18:25:...|2024-01-15 21:19:59|       168135|       33|\n",
      "|1498530061|176225574132|2024-02-07 14:49:...|2024-01-15 21:19:59|       168135|       23|\n",
      "|1498530061|176225574132|2024-02-06 02:21:...|2024-01-15 21:19:59|       168135|       22|\n",
      "|1498530061|186292245955|2024-02-12 05:34:...|2024-01-15 21:19:59|       168135|       28|\n",
      "|1498530061|196220773756|2024-02-21 00:26:...|2024-01-15 21:19:59|       168135|       37|\n",
      "+----------+------------+--------------------+-------------------+-------------+---------+\n",
      "only showing top 20 rows\n",
      "\n",
      "None\n"
     ]
    },
    {
     "name": "stderr",
     "output_type": "stream",
     "text": [
      "                                                                                \r"
     ]
    },
    {
     "name": "stdout",
     "output_type": "stream",
     "text": [
      "+----------+------------+--------------------+-------------------+-------------+---------+----+\n",
      "|  BUYER_ID|     ITEM_ID|      view_timestamp| purchase_timestamp|LEAF_CATEG_ID|time_diff|rank|\n",
      "+----------+------------+--------------------+-------------------+-------------+---------+----+\n",
      "|1498530061|386886812375|2024-04-08 21:08:...|2024-03-25 03:46:10|       168135|       14|   1|\n",
      "|1498530061|386886812375|2024-04-08 21:08:...|2024-01-15 21:19:59|       168135|       84|   2|\n",
      "|1498530061|386886812375|2024-04-08 21:08:...|2023-09-11 02:49:50|       168135|      210|   3|\n",
      "|1498530061|386886812375|2024-04-08 21:08:...|2023-08-02 04:23:18|       168135|      250|   4|\n",
      "|1498530061|176279071107|2024-03-25 03:45:...|2024-01-15 21:19:59|       168135|       70|   1|\n",
      "|1498530061|176279071107|2024-03-25 03:45:...|2023-09-11 02:49:50|       168135|      196|   2|\n",
      "|1498530061|176279071107|2024-03-25 03:45:...|2023-08-02 04:23:18|       168135|      236|   3|\n",
      "|1498530061|176279071107|2024-03-25 03:45:...|2024-01-15 21:19:59|       168135|       70|   1|\n",
      "|1498530061|176279071107|2024-03-25 03:45:...|2023-09-11 02:49:50|       168135|      196|   2|\n",
      "|1498530061|176279071107|2024-03-25 03:45:...|2023-08-02 04:23:18|       168135|      236|   3|\n",
      "|1498530061|176225574132|2024-02-06 02:21:...|2024-01-15 21:19:59|       168135|       22|   1|\n",
      "|1498530061|176225574132|2024-02-06 02:21:...|2023-09-11 02:49:50|       168135|      148|   2|\n",
      "|1498530061|176225574132|2024-02-06 02:21:...|2023-08-02 04:23:18|       168135|      188|   3|\n",
      "|1498530061|176225574132|2024-02-17 18:25:...|2024-01-15 21:19:59|       168135|       33|   1|\n",
      "|1498530061|176225574132|2024-02-17 18:25:...|2023-09-11 02:49:50|       168135|      159|   2|\n",
      "|1498530061|176225574132|2024-02-17 18:25:...|2023-08-02 04:23:18|       168135|      199|   3|\n",
      "|1498530061|133507904544|2024-02-06 01:53:...|2024-01-15 21:19:59|       168135|       22|   1|\n",
      "|1498530061|133507904544|2024-02-06 01:53:...|2023-09-11 02:49:50|       168135|      148|   2|\n",
      "|1498530061|133507904544|2024-02-06 01:53:...|2023-08-02 04:23:18|       168135|      188|   3|\n",
      "|1498530061|335284547649|2024-04-01 02:44:...|2024-03-25 03:46:10|       168135|        7|   1|\n",
      "+----------+------------+--------------------+-------------------+-------------+---------+----+\n",
      "only showing top 20 rows\n",
      "\n",
      "None\n",
      "last purchase rank\n"
     ]
    },
    {
     "name": "stderr",
     "output_type": "stream",
     "text": [
      "                                                                                \r"
     ]
    },
    {
     "name": "stdout",
     "output_type": "stream",
     "text": [
      "+----------+------------+--------------------+-------------------+-------------+---------+---+\n",
      "|  BUYER_ID|     ITEM_ID|      view_timestamp| purchase_timestamp|LEAF_CATEG_ID|time_diff| rn|\n",
      "+----------+------------+--------------------+-------------------+-------------+---------+---+\n",
      "|1498530061|335284547649|2024-04-01 02:44:...|2024-03-25 03:46:10|       168135|        7|  1|\n",
      "|1498530061|386886812375|2024-04-08 21:07:...|2024-03-25 03:46:10|       168135|       14|  1|\n",
      "|1498530061|386886812375|2024-04-08 21:08:...|2024-03-25 03:46:10|       168135|       14|  1|\n",
      "|1498530061|335284547649|2024-04-08 22:02:...|2024-03-25 03:46:10|       168135|       14|  1|\n",
      "|1498530061|386886812375|2024-04-09 06:36:...|2024-03-25 03:46:10|       168135|       15|  1|\n",
      "|1498530061|335284547649|2024-04-01 02:44:...|2024-03-25 03:46:10|       168135|        7|  1|\n",
      "|1498530061|335284547649|2024-04-01 02:47:...|2024-03-25 03:46:10|       168135|        7|  1|\n",
      "|1498530061|386886812375|2024-04-08 21:08:...|2024-03-25 03:46:10|       168135|       14|  1|\n",
      "|1498530061|386911570003|2024-04-08 21:08:...|2024-03-25 03:46:10|       168135|       14|  1|\n",
      "|1498530061|386886812375|2024-04-09 06:36:...|2024-03-25 03:46:10|       168135|       15|  1|\n",
      "|1498530061|335284547649|2024-04-08 22:02:...|2024-03-25 03:46:10|       168135|       14|  1|\n",
      "|1498530061|335284547649|2024-04-01 02:44:...|2024-03-25 03:46:10|       168135|        7|  1|\n",
      "|1498530061|305469856828|2024-03-25 03:46:...|2024-01-15 21:19:59|       168135|       70| 13|\n",
      "|1498530061|334493018893|2024-02-05 21:33:...|2024-01-15 21:19:59|       168135|       21| 13|\n",
      "|1498530061|186292245955|2024-02-12 05:34:...|2024-01-15 21:19:59|       168135|       28| 13|\n",
      "|1498530061|133507904544|2024-02-06 01:53:...|2024-01-15 21:19:59|       168135|       22| 13|\n",
      "|1498530061|126338142661|2024-02-25 01:23:...|2024-01-15 21:19:59|       168135|       41| 13|\n",
      "|1498530061|386787220204|2024-03-19 19:56:...|2024-01-15 21:19:59|       168135|       64| 13|\n",
      "|1498530061|176225574132|2024-02-17 18:25:...|2024-01-15 21:19:59|       168135|       33| 13|\n",
      "|1498530061|176279071107|2024-03-25 03:45:...|2024-01-15 21:19:59|       168135|       70| 13|\n",
      "+----------+------------+--------------------+-------------------+-------------+---------+---+\n",
      "only showing top 20 rows\n",
      "\n",
      "last view and days diff\n"
     ]
    },
    {
     "name": "stderr",
     "output_type": "stream",
     "text": [
      "                                                                                \r"
     ]
    },
    {
     "name": "stdout",
     "output_type": "stream",
     "text": [
      "+----------+-------------+-------------------+---------+--------------------+--------------------+\n",
      "|  BUYER_ID|LEAF_CATEG_ID| purchase_timestamp|num_views| last_view_timestamp|days_since_last_view|\n",
      "+----------+-------------+-------------------+---------+--------------------+--------------------+\n",
      "|1498530061|       168135|2024-03-25 03:46:10|       12|2024-04-09 06:36:...|                  15|\n",
      "+----------+-------------+-------------------+---------+--------------------+--------------------+\n",
      "\n",
      "final joined result\n"
     ]
    },
    {
     "name": "stderr",
     "output_type": "stream",
     "text": [
      "                                                                                \r"
     ]
    },
    {
     "name": "stdout",
     "output_type": "stream",
     "text": [
      "+----------+-------------+---------------+-----------------------------------------+------------------------------------------------+\n",
      "|  BUYER_ID|LEAF_CATEG_ID|EVENT_TIMESTAMP|num_views_since_last_purchase_in_LEAF_cat|time_from_last_view_to_last_purchase_in_LEAF_cat|\n",
      "+----------+-------------+---------------+-----------------------------------------+------------------------------------------------+\n",
      "|1498530061|       168135|     2024-05-01|                                       12|                                              15|\n",
      "+----------+-------------+---------------+-----------------------------------------+------------------------------------------------+\n",
      "\n",
      "final joined result\n"
     ]
    },
    {
     "name": "stderr",
     "output_type": "stream",
     "text": [
      "[Stage 1185:===================================>              (263 + 112) / 375]\r"
     ]
    },
    {
     "name": "stdout",
     "output_type": "stream",
     "text": [
      "+----------+-------------+---------------+-----------------------------------------+------------------------------------------------+\n",
      "|  BUYER_ID|LEAF_CATEG_ID|EVENT_TIMESTAMP|num_views_since_last_purchase_in_LEAF_cat|time_from_last_view_to_last_purchase_in_LEAF_cat|\n",
      "+----------+-------------+---------------+-----------------------------------------+------------------------------------------------+\n",
      "|1498530061|       168135|     2024-05-01|                                       12|                                              15|\n",
      "+----------+-------------+---------------+-----------------------------------------+------------------------------------------------+\n",
      "\n",
      "None\n"
     ]
    },
    {
     "name": "stderr",
     "output_type": "stream",
     "text": [
      "                                                                                \r"
     ]
    }
   ],
   "source": [
    "df_tsf= f_views_since_last_purchase_in_cat(df_smp_sample, df_prch_sample, df_vi_sample, cat_type=\"LEAF\")"
   ]
  },
  {
   "cell_type": "markdown",
   "id": "bcc6c4b1-bd54-4bfe-854e-2a22eda6469f",
   "metadata": {},
   "source": [
    "#### calculating features based on sample per caeg level-- total 6"
   ]
  },
  {
   "cell_type": "code",
   "execution_count": 38,
   "id": "b719c86b-9fd0-47e5-adbd-89fc371d34cb",
   "metadata": {},
   "outputs": [
    {
     "name": "stderr",
     "output_type": "stream",
     "text": [
      "                                                                                / 1000]\r"
     ]
    },
    {
     "name": "stdout",
     "output_type": "stream",
     "text": [
      "5\n"
     ]
    },
    {
     "name": "stderr",
     "output_type": "stream",
     "text": [
      "                                                                                ) / 1000]]]\r"
     ]
    },
    {
     "name": "stdout",
     "output_type": "stream",
     "text": [
      "+----------+-------------+---------------+-------------+---------------+-----+--------------------+--------------------+-------------+--------------------+-----------------------------------------+------------------------------------------------+-----------------------------------------+------------------------------------------------+\n",
      "|  BUYER_ID|CATEG_LVL2_ID|EVENT_TIMESTAMP|LEAF_CATEG_ID|num_repurchases|label|     LEAF_CATEG_NAME|     CATEG_LVL2_NAME|META_CATEG_ID|     META_CATEG_NAME|num_views_since_last_purchase_in_LEAF_cat|time_from_last_view_to_last_purchase_in_LEAF_cat|num_views_since_last_purchase_in_LVL2_cat|time_from_last_view_to_last_purchase_in_LVL2_cat|\n",
      "+----------+-------------+---------------+-------------+---------------+-----+--------------------+--------------------+-------------+--------------------+-----------------------------------------+------------------------------------------------+-----------------------------------------+------------------------------------------------+\n",
      "|1324204268|        24409|     2024-05-01|         2885|              0|    0|Sports Mem, Cards...|Fan Apparel & Sou...|        64482|Sports Mem, Cards...|                                        0|                                              -1|                                        0|                                              -1|\n",
      "|1132069035|        24409|     2024-05-01|        24410|              0|    0|Sports Mem, Cards...|Fan Apparel & Sou...|        64482|Sports Mem, Cards...|                                        0|                                              -1|                                        3|                                              12|\n",
      "|  11245860|       181417|     2024-05-01|        47173|              0|    0|Stamps:Latin Amer...|       Latin America|          260|              Stamps|                                        0|                                              -1|                                        0|                                              -1|\n",
      "|1498530061|          631|     2024-05-01|       168135|              6|    1|Home & Garden:Too...|Tools & Workshop ...|        11700|       Home & Garden|                                       12|                                              15|                                        4|                                              14|\n",
      "|  11245860|       181423|     2024-05-01|       127413|              0|    0|Stamps:Africa:Sou...|              Africa|          260|              Stamps|                                        0|                                              -1|                                        0|                                              -1|\n",
      "+----------+-------------+---------------+-------------+---------------+-----+--------------------+--------------------+-------------+--------------------+-----------------------------------------+------------------------------------------------+-----------------------------------------+------------------------------------------------+\n",
      "\n",
      "None\n"
     ]
    },
    {
     "name": "stderr",
     "output_type": "stream",
     "text": [
      "                                                                                8) / 1000]\r"
     ]
    },
    {
     "name": "stdout",
     "output_type": "stream",
     "text": [
      "5\n"
     ]
    },
    {
     "name": "stderr",
     "output_type": "stream",
     "text": [
      "                                                                                 / 1000]]]]\r"
     ]
    },
    {
     "name": "stdout",
     "output_type": "stream",
     "text": [
      "+----------+-------------+---------------+-------------+-------------+---------------+-----+--------------------+--------------------+--------------------+-----------------------------------------+------------------------------------------------+-----------------------------------------+------------------------------------------------+-----------------------------------------+------------------------------------------------+\n",
      "|  BUYER_ID|META_CATEG_ID|EVENT_TIMESTAMP|CATEG_LVL2_ID|LEAF_CATEG_ID|num_repurchases|label|     LEAF_CATEG_NAME|     CATEG_LVL2_NAME|     META_CATEG_NAME|num_views_since_last_purchase_in_LEAF_cat|time_from_last_view_to_last_purchase_in_LEAF_cat|num_views_since_last_purchase_in_LVL2_cat|time_from_last_view_to_last_purchase_in_LVL2_cat|num_views_since_last_purchase_in_META_cat|time_from_last_view_to_last_purchase_in_META_cat|\n",
      "+----------+-------------+---------------+-------------+-------------+---------------+-----+--------------------+--------------------+--------------------+-----------------------------------------+------------------------------------------------+-----------------------------------------+------------------------------------------------+-----------------------------------------+------------------------------------------------+\n",
      "|  11245860|          260|     2024-05-01|       181417|        47173|              0|    0|Stamps:Latin Amer...|       Latin America|              Stamps|                                        0|                                              -1|                                        0|                                              -1|                                        0|                                              -1|\n",
      "|  11245860|          260|     2024-05-01|       181423|       127413|              0|    0|Stamps:Africa:Sou...|              Africa|              Stamps|                                        0|                                              -1|                                        0|                                              -1|                                        0|                                              -1|\n",
      "|1498530061|        11700|     2024-05-01|          631|       168135|              6|    1|Home & Garden:Too...|Tools & Workshop ...|       Home & Garden|                                       12|                                              15|                                        4|                                              14|                                        4|                                              14|\n",
      "|1324204268|        64482|     2024-05-01|        24409|         2885|              0|    0|Sports Mem, Cards...|Fan Apparel & Sou...|Sports Mem, Cards...|                                        0|                                              -1|                                        0|                                              -1|                                        0|                                              -1|\n",
      "|1132069035|        64482|     2024-05-01|        24409|        24410|              0|    0|Sports Mem, Cards...|Fan Apparel & Sou...|Sports Mem, Cards...|                                        0|                                              -1|                                        3|                                              12|                                        3|                                              12|\n",
      "+----------+-------------+---------------+-------------+-------------+---------------+-----+--------------------+--------------------+--------------------+-----------------------------------------+------------------------------------------------+-----------------------------------------+------------------------------------------------+-----------------------------------------+------------------------------------------------+\n",
      "\n",
      "None\n"
     ]
    },
    {
     "name": "stderr",
     "output_type": "stream",
     "text": [
      "[Stage 2172:=======================================>         (812 + 188) / 1000] 1) / 1001]\r"
     ]
    },
    {
     "name": "stdout",
     "output_type": "stream",
     "text": [
      "5\n"
     ]
    },
    {
     "name": "stderr",
     "output_type": "stream",
     "text": [
      "                                                                                \r"
     ]
    }
   ],
   "source": [
    "df_ft = f_views_since_last_purchase_in_cat(df_smp_sample, df_prch_sample, df_vi_sample, cat_type=\"LEAF\")\n",
    "df_res = add_feature(df_smp_sample, df_ft, join_key=\"LEAF_CATEG_ID\", how=\"inner\")\n",
    "print(df_res.count())\n",
    "\n",
    "df_ft = f_views_since_last_purchase_in_cat(df_smp_sample, df_prch_sample, df_vi_sample, cat_type=\"LVL2\")\n",
    "df_res = add_feature(df_res, df_ft, join_key=\"CATEG_LVL2_ID\", how=\"inner\")\n",
    "print(df_res.show())\n",
    "print(df_res.count()) \n",
    "\n",
    "df_ft = f_views_since_last_purchase_in_cat(df_smp_sample, df_prch_sample, df_vi_sample, cat_type=\"META\")\n",
    "df_res = add_feature(df_res, df_ft, join_key=\"META_CATEG_ID\", how=\"inner\")\n",
    "print(df_res.show())\n",
    "print(df_res.count()) "
   ]
  },
  {
   "cell_type": "code",
   "execution_count": 37,
   "id": "299f43c6-8c49-44a7-beed-362945673603",
   "metadata": {},
   "outputs": [
    {
     "name": "stderr",
     "output_type": "stream",
     "text": [
      "                                                                                 1000]00]]]\r"
     ]
    },
    {
     "name": "stdout",
     "output_type": "stream",
     "text": [
      "+----------+-------------+---------------+---------------+-----+--------------------+-------------+--------------------+-------------+--------------------+-----------------------------------------+------------------------------------------------+\n",
      "|  BUYER_ID|LEAF_CATEG_ID|EVENT_TIMESTAMP|num_repurchases|label|     LEAF_CATEG_NAME|CATEG_LVL2_ID|     CATEG_LVL2_NAME|META_CATEG_ID|     META_CATEG_NAME|num_views_since_last_purchase_in_LEAF_cat|time_from_last_view_to_last_purchase_in_LEAF_cat|\n",
      "+----------+-------------+---------------+---------------+-----+--------------------+-------------+--------------------+-------------+--------------------+-----------------------------------------+------------------------------------------------+\n",
      "|1132069035|        24410|     2024-05-01|              0|    0|Sports Mem, Cards...|        24409|Fan Apparel & Sou...|        64482|Sports Mem, Cards...|                                        0|                                              -1|\n",
      "|1498530061|       168135|     2024-05-01|              6|    1|Home & Garden:Too...|          631|Tools & Workshop ...|        11700|       Home & Garden|                                       12|                                              15|\n",
      "|  11245860|       127413|     2024-05-01|              0|    0|Stamps:Africa:Sou...|       181423|              Africa|          260|              Stamps|                                        0|                                              -1|\n",
      "|  11245860|        47173|     2024-05-01|              0|    0|Stamps:Latin Amer...|       181417|       Latin America|          260|              Stamps|                                        0|                                              -1|\n",
      "|1324204268|         2885|     2024-05-01|              0|    0|Sports Mem, Cards...|        24409|Fan Apparel & Sou...|        64482|Sports Mem, Cards...|                                        0|                                              -1|\n",
      "+----------+-------------+---------------+---------------+-----+--------------------+-------------+--------------------+-------------+--------------------+-----------------------------------------+------------------------------------------------+\n",
      "\n",
      "None\n"
     ]
    },
    {
     "name": "stderr",
     "output_type": "stream",
     "text": [
      "                                                                                ) / 1000]\r"
     ]
    },
    {
     "name": "stdout",
     "output_type": "stream",
     "text": [
      "5\n"
     ]
    },
    {
     "name": "stderr",
     "output_type": "stream",
     "text": [
      "                                                                                ) / 1000]]]\r"
     ]
    },
    {
     "name": "stdout",
     "output_type": "stream",
     "text": [
      "5\n"
     ]
    },
    {
     "name": "stderr",
     "output_type": "stream",
     "text": [
      "                                                                                 / 1000]]]]]\r"
     ]
    },
    {
     "name": "stdout",
     "output_type": "stream",
     "text": [
      "+----------+-------------+---------------+-------------+-------------+---------------+-----+--------------------+--------------------+--------------------+-----------------------------------------+------------------------------------------------+-----------------------------------------+------------------------------------------------+-----------------------------------------+------------------------------------------------+\n",
      "|  BUYER_ID|META_CATEG_ID|EVENT_TIMESTAMP|CATEG_LVL2_ID|LEAF_CATEG_ID|num_repurchases|label|     LEAF_CATEG_NAME|     CATEG_LVL2_NAME|     META_CATEG_NAME|num_views_since_last_purchase_in_LEAF_cat|time_from_last_view_to_last_purchase_in_LEAF_cat|num_views_since_last_purchase_in_LVL2_cat|time_from_last_view_to_last_purchase_in_LVL2_cat|num_views_since_last_purchase_in_META_cat|time_from_last_view_to_last_purchase_in_META_cat|\n",
      "+----------+-------------+---------------+-------------+-------------+---------------+-----+--------------------+--------------------+--------------------+-----------------------------------------+------------------------------------------------+-----------------------------------------+------------------------------------------------+-----------------------------------------+------------------------------------------------+\n",
      "|  11245860|          260|     2024-05-01|       181417|        47173|              0|    0|Stamps:Latin Amer...|       Latin America|              Stamps|                                        0|                                              -1|                                        0|                                              -1|                                        0|                                              -1|\n",
      "|  11245860|          260|     2024-05-01|       181423|       127413|              0|    0|Stamps:Africa:Sou...|              Africa|              Stamps|                                        0|                                              -1|                                        0|                                              -1|                                        0|                                              -1|\n",
      "|1498530061|        11700|     2024-05-01|          631|       168135|              6|    1|Home & Garden:Too...|Tools & Workshop ...|       Home & Garden|                                       12|                                              15|                                        4|                                              14|                                        4|                                              14|\n",
      "|1324204268|        64482|     2024-05-01|        24409|         2885|              0|    0|Sports Mem, Cards...|Fan Apparel & Sou...|Sports Mem, Cards...|                                        0|                                              -1|                                        0|                                              -1|                                        0|                                              -1|\n",
      "|1132069035|        64482|     2024-05-01|        24409|        24410|              0|    0|Sports Mem, Cards...|Fan Apparel & Sou...|Sports Mem, Cards...|                                        0|                                              -1|                                        3|                                              12|                                        3|                                              12|\n",
      "+----------+-------------+---------------+-------------+-------------+---------------+-----+--------------------+--------------------+--------------------+-----------------------------------------+------------------------------------------------+-----------------------------------------+------------------------------------------------+-----------------------------------------+------------------------------------------------+\n",
      "\n",
      "None\n"
     ]
    },
    {
     "name": "stderr",
     "output_type": "stream",
     "text": [
      "[Stage 1895:>                                                       (0 + 1) / 1]) / 1000]]\r"
     ]
    },
    {
     "name": "stdout",
     "output_type": "stream",
     "text": [
      "5\n"
     ]
    },
    {
     "name": "stderr",
     "output_type": "stream",
     "text": [
      "                                                                                \r"
     ]
    }
   ],
   "source": [
    "df_ft = f_views_since_last_purchase_in_cat(df_smp_sample, df_prch_sample, df_vi_sample, cat_type=\"LEAF\")\n",
    "df_res = add_feature(df_smp_sample, df_ft, join_key=\"LEAF_CATEG_ID\", how=\"inner\")\n",
    "print(df_res.show())\n",
    "print(df_res.count())\n",
    "\n",
    "df_ft = f_views_since_last_purchase_in_cat(df_smp_sample, df_prch_sample, df_vi_sample, cat_type=\"LVL2\")\n",
    "df_res = add_feature(df_res, df_ft, join_key=\"CATEG_LVL2_ID\", how=\"inner\")\n",
    "print(df_res.show())\n",
    "print(df_res.count()) \n",
    "\n",
    "df_ft = f_views_since_last_purchase_in_cat(df_smp_sample, df_prch_sample, df_vi_sample, cat_type=\"META\")\n",
    "df_res = add_feature(df_res, df_ft, join_key=\"META_CATEG_ID\", how=\"inner\")\n",
    "print(df_res.show())\n",
    "print(df_res.count()) "
   ]
  },
  {
   "cell_type": "code",
   "execution_count": 4,
   "id": "22080523-5825-4891-a1f8-d9cf8f112868",
   "metadata": {},
   "outputs": [],
   "source": [
    "from pyspark.sql import functions as F\n",
    "import feature_helpers as fe\n",
    "from pyspark.sql.types import FloatType\n",
    "import numpy as np\n",
    "\n",
    "#sample_buyers = (df_smp.select(\"BUYER_ID\").distinct().limit(30)).collect()\n",
    "# Step 1: Define the specific buyer IDs you want to sample\n",
    "specific_buyer_ids = [11245860, 1498530061, 1324204268]\n",
    "\n",
    "# Step 2: Filter df_smp, df_prch, and df_vi to only include those specific buyers\n",
    "df_smp_sample = df_smp.filter(df_smp.BUYER_ID.isin(specific_buyer_ids))\n",
    "df_prch_sample = df_prch.filter(df_prch.BUYER_ID.isin(specific_buyer_ids))\n",
    "df_vi_sample = df_vi.filter(df_vi.BUYER_ID.isin(specific_buyer_ids))\n"
   ]
  },
  {
   "cell_type": "code",
   "execution_count": 5,
   "id": "1cdde793-9f0b-40d3-ba08-29e801724ce9",
   "metadata": {},
   "outputs": [
    {
     "name": "stderr",
     "output_type": "stream",
     "text": [
      "[Stage 116:=====================================>             (273 + 102) / 375]0]]]\r"
     ]
    },
    {
     "name": "stdout",
     "output_type": "stream",
     "text": [
      "+----------+-------------+---------------+-------------+-------------+---------------+-----+--------------------+--------------------+---------------+-----------------------------------------+------------------------------------------------+-----------------------------------------+------------------------------------------------+-----------------------------------------+------------------------------------------------+\n",
      "|  BUYER_ID|META_CATEG_ID|EVENT_TIMESTAMP|CATEG_LVL2_ID|LEAF_CATEG_ID|num_repurchases|label|     LEAF_CATEG_NAME|     CATEG_LVL2_NAME|META_CATEG_NAME|num_views_since_last_purchase_in_LEAF_cat|time_from_last_view_to_last_purchase_in_LEAF_cat|num_views_since_last_purchase_in_LVL2_cat|time_from_last_view_to_last_purchase_in_LVL2_cat|num_views_since_last_purchase_in_META_cat|time_from_last_view_to_last_purchase_in_META_cat|\n",
      "+----------+-------------+---------------+-------------+-------------+---------------+-----+--------------------+--------------------+---------------+-----------------------------------------+------------------------------------------------+-----------------------------------------+------------------------------------------------+-----------------------------------------+------------------------------------------------+\n",
      "|1498530061|        11700|     2024-05-01|          631|       168135|              6|    1|Home & Garden:Too...|Tools & Workshop ...|  Home & Garden|                                       12|                                              15|                                        4|                                              14|                                        4|                                              14|\n",
      "+----------+-------------+---------------+-------------+-------------+---------------+-----+--------------------+--------------------+---------------+-----------------------------------------+------------------------------------------------+-----------------------------------------+------------------------------------------------+-----------------------------------------+------------------------------------------------+\n",
      "\n"
     ]
    },
    {
     "name": "stderr",
     "output_type": "stream",
     "text": [
      "                                                                                \r"
     ]
    }
   ],
   "source": [
    "import features as F\n",
    "\n",
    "\n",
    "# Step 3: Calculate features for LEAF category\n",
    "df_ft_leaf = F.f_views_since_last_purchase_in_cat(df_smp_sample, df_prch_sample, df_vi_sample, cat_type=\"LEAF\")\n",
    "df_res_t = F.add_feature(df_smp_sample, df_ft_leaf, join_key=\"LEAF_CATEG_ID\")\n",
    "\n",
    "# Step 4: Calculate features for LVL2 category\n",
    "df_ft_lvl2 = F.f_views_since_last_purchase_in_cat(df_smp_sample, df_prch_sample, df_vi_sample, cat_type=\"LVL2\")\n",
    "df_res_t = F.add_feature(df_res_t, df_ft_lvl2, join_key=\"CATEG_LVL2_ID\")\n",
    "\n",
    "# Step 5: Calculate features for META category\n",
    "df_ft_meta = F.f_views_since_last_purchase_in_cat(df_smp_sample, df_prch_sample, df_vi_sample, cat_type=\"META\")\n",
    "df_res_t = F.add_feature(df_res_t, df_ft_meta, join_key=\"META_CATEG_ID\")\n",
    "\n",
    "\n",
    "df_res_t.show()"
   ]
  },
  {
   "cell_type": "code",
   "execution_count": 40,
   "id": "4d85668c-cd84-4b7d-909b-a66f40efa652",
   "metadata": {
    "scrolled": true,
    "tags": []
   },
   "outputs": [
    {
     "name": "stdout",
     "output_type": "stream",
     "text": [
      "join\n"
     ]
    },
    {
     "name": "stderr",
     "output_type": "stream",
     "text": [
      "                                                                                \r"
     ]
    },
    {
     "name": "stdout",
     "output_type": "stream",
     "text": [
      "+----------+------------+--------------------+-------------------+-------------+---------+\n",
      "|  BUYER_ID|     ITEM_ID|      view_timestamp| purchase_timestamp|LEAF_CATEG_ID|time_diff|\n",
      "+----------+------------+--------------------+-------------------+-------------+---------+\n",
      "|  11245860|314949668068|2024-05-22 14:23:...|2024-01-17 01:07:48|       123422|      126|\n",
      "|  11245860|113812810152|2024-05-22 14:26:...|2024-01-17 01:07:48|       123422|      126|\n",
      "|  11245860|392953153725|2024-05-22 14:25:...|2024-01-17 01:07:48|       123422|      126|\n",
      "|  11245860|143698575191|2024-05-22 14:28:...|2024-01-17 01:07:48|       123422|      126|\n",
      "|  11245860|314949668068|2024-05-22 14:23:...|2024-04-12 14:58:26|       123422|       40|\n",
      "|  11245860|113812810152|2024-05-22 14:26:...|2024-04-12 14:58:26|       123422|       40|\n",
      "|  11245860|392953153725|2024-05-22 14:25:...|2024-04-12 14:58:26|       123422|       40|\n",
      "|  11245860|143698575191|2024-05-22 14:28:...|2024-04-12 14:58:26|       123422|       40|\n",
      "|  11245860|314949668068|2024-05-22 14:23:...|2023-10-27 03:56:55|       123422|      208|\n",
      "|  11245860|113812810152|2024-05-22 14:26:...|2023-10-27 03:56:55|       123422|      208|\n",
      "|  11245860|392953153725|2024-05-22 14:25:...|2023-10-27 03:56:55|       123422|      208|\n",
      "|  11245860|143698575191|2024-05-22 14:28:...|2023-10-27 03:56:55|       123422|      208|\n",
      "|1324204268|203452793160|2023-10-08 17:31:...|2023-09-16 16:19:29|       261987|       22|\n",
      "|1324204268|203914318851|2023-10-08 17:19:...|2023-09-16 16:19:29|       261987|       22|\n",
      "|1324204268|203914318851|2023-10-08 17:18:...|2023-09-16 16:19:29|       261987|       22|\n",
      "|1324204268|203914318851|2023-10-08 17:18:...|2023-09-16 16:19:29|       261987|       22|\n",
      "|1324204268|203914318851|2023-10-08 17:18:...|2023-09-16 16:19:29|       261987|       22|\n",
      "|1324204268|203914318851|2023-10-08 17:17:...|2023-09-16 16:19:29|       261987|       22|\n",
      "|1324204268|203452793160|2023-10-08 17:31:...|2023-09-16 16:19:29|       261987|       22|\n",
      "|1324204268|203914318851|2023-10-08 17:19:...|2023-09-16 16:19:29|       261987|       22|\n",
      "+----------+------------+--------------------+-------------------+-------------+---------+\n",
      "only showing top 20 rows\n",
      "\n",
      "views filtered based on base timestamp\n"
     ]
    },
    {
     "name": "stderr",
     "output_type": "stream",
     "text": [
      "24/10/20 09:45:53 ERROR AsyncEventQueue: Listener EventLoggingListener threw an exception\n",
      "java.util.ConcurrentModificationException\n",
      "\tat java.util.Hashtable$Enumerator.next(Hashtable.java:1387)\n",
      "\tat scala.collection.convert.Wrappers$JPropertiesWrapper$$anon$6.next(Wrappers.scala:424)\n",
      "\tat scala.collection.convert.Wrappers$JPropertiesWrapper$$anon$6.next(Wrappers.scala:420)\n",
      "\tat scala.collection.Iterator.foreach(Iterator.scala:941)\n",
      "\tat scala.collection.Iterator.foreach$(Iterator.scala:941)\n",
      "\tat scala.collection.AbstractIterator.foreach(Iterator.scala:1429)\n",
      "\tat scala.collection.IterableLike.foreach(IterableLike.scala:74)\n",
      "\tat scala.collection.IterableLike.foreach$(IterableLike.scala:73)\n",
      "\tat scala.collection.AbstractIterable.foreach(Iterable.scala:56)\n",
      "\tat scala.collection.mutable.MapLike.toSeq(MapLike.scala:75)\n",
      "\tat scala.collection.mutable.MapLike.toSeq$(MapLike.scala:72)\n",
      "\tat scala.collection.mutable.AbstractMap.toSeq(Map.scala:82)\n",
      "\tat org.apache.spark.scheduler.EventLoggingListener.redactProperties(EventLoggingListener.scala:290)\n",
      "\tat org.apache.spark.scheduler.EventLoggingListener.onJobStart(EventLoggingListener.scala:162)\n",
      "\tat org.apache.spark.scheduler.SparkListenerBus.doPostEvent(SparkListenerBus.scala:37)\n",
      "\tat org.apache.spark.scheduler.SparkListenerBus.doPostEvent$(SparkListenerBus.scala:28)\n",
      "\tat org.apache.spark.scheduler.AsyncEventQueue.doPostEvent(AsyncEventQueue.scala:37)\n",
      "\tat org.apache.spark.scheduler.AsyncEventQueue.doPostEvent(AsyncEventQueue.scala:37)\n",
      "\tat org.apache.spark.util.ListenerBus.postToAll(ListenerBus.scala:117)\n",
      "\tat org.apache.spark.util.ListenerBus.postToAll$(ListenerBus.scala:101)\n",
      "\tat org.apache.spark.scheduler.AsyncEventQueue.super$postToAll(AsyncEventQueue.scala:105)\n",
      "\tat org.apache.spark.scheduler.AsyncEventQueue.$anonfun$dispatch$1(AsyncEventQueue.scala:105)\n",
      "\tat scala.runtime.java8.JFunction0$mcJ$sp.apply(JFunction0$mcJ$sp.java:23)\n",
      "\tat scala.util.DynamicVariable.withValue(DynamicVariable.scala:62)\n",
      "\tat org.apache.spark.scheduler.AsyncEventQueue.org$apache$spark$scheduler$AsyncEventQueue$$dispatch(AsyncEventQueue.scala:100)\n",
      "\tat org.apache.spark.scheduler.AsyncEventQueue$$anon$2.$anonfun$run$1(AsyncEventQueue.scala:96)\n",
      "\tat org.apache.spark.util.Utils$.tryOrStopSparkContext(Utils.scala:1381)\n",
      "\tat org.apache.spark.scheduler.AsyncEventQueue$$anon$2.run(AsyncEventQueue.scala:96)\n",
      "24/10/20 09:46:40 ERROR AsyncEventQueue: Listener EventLoggingListener threw an exception\n",
      "java.util.ConcurrentModificationException\n",
      "\tat java.util.Hashtable$Enumerator.next(Hashtable.java:1387)\n",
      "\tat scala.collection.convert.Wrappers$JPropertiesWrapper$$anon$6.next(Wrappers.scala:424)\n",
      "\tat scala.collection.convert.Wrappers$JPropertiesWrapper$$anon$6.next(Wrappers.scala:420)\n",
      "\tat scala.collection.Iterator.foreach(Iterator.scala:941)\n",
      "\tat scala.collection.Iterator.foreach$(Iterator.scala:941)\n",
      "\tat scala.collection.AbstractIterator.foreach(Iterator.scala:1429)\n",
      "\tat scala.collection.IterableLike.foreach(IterableLike.scala:74)\n",
      "\tat scala.collection.IterableLike.foreach$(IterableLike.scala:73)\n",
      "\tat scala.collection.AbstractIterable.foreach(Iterable.scala:56)\n",
      "\tat scala.collection.mutable.MapLike.toSeq(MapLike.scala:75)\n",
      "\tat scala.collection.mutable.MapLike.toSeq$(MapLike.scala:72)\n",
      "\tat scala.collection.mutable.AbstractMap.toSeq(Map.scala:82)\n",
      "\tat org.apache.spark.scheduler.EventLoggingListener.redactProperties(EventLoggingListener.scala:290)\n",
      "\tat org.apache.spark.scheduler.EventLoggingListener.onJobStart(EventLoggingListener.scala:162)\n",
      "\tat org.apache.spark.scheduler.SparkListenerBus.doPostEvent(SparkListenerBus.scala:37)\n",
      "\tat org.apache.spark.scheduler.SparkListenerBus.doPostEvent$(SparkListenerBus.scala:28)\n",
      "\tat org.apache.spark.scheduler.AsyncEventQueue.doPostEvent(AsyncEventQueue.scala:37)\n",
      "\tat org.apache.spark.scheduler.AsyncEventQueue.doPostEvent(AsyncEventQueue.scala:37)\n",
      "\tat org.apache.spark.util.ListenerBus.postToAll(ListenerBus.scala:117)\n",
      "\tat org.apache.spark.util.ListenerBus.postToAll$(ListenerBus.scala:101)\n",
      "\tat org.apache.spark.scheduler.AsyncEventQueue.super$postToAll(AsyncEventQueue.scala:105)\n",
      "\tat org.apache.spark.scheduler.AsyncEventQueue.$anonfun$dispatch$1(AsyncEventQueue.scala:105)\n",
      "\tat scala.runtime.java8.JFunction0$mcJ$sp.apply(JFunction0$mcJ$sp.java:23)\n",
      "\tat scala.util.DynamicVariable.withValue(DynamicVariable.scala:62)\n",
      "\tat org.apache.spark.scheduler.AsyncEventQueue.org$apache$spark$scheduler$AsyncEventQueue$$dispatch(AsyncEventQueue.scala:100)\n",
      "\tat org.apache.spark.scheduler.AsyncEventQueue$$anon$2.$anonfun$run$1(AsyncEventQueue.scala:96)\n",
      "\tat org.apache.spark.util.Utils$.tryOrStopSparkContext(Utils.scala:1381)\n",
      "\tat org.apache.spark.scheduler.AsyncEventQueue$$anon$2.run(AsyncEventQueue.scala:96)\n",
      "                                                                                \r"
     ]
    },
    {
     "name": "stdout",
     "output_type": "stream",
     "text": [
      "+----------+------------+--------------------+-------------------+-------------+---------+\n",
      "|  BUYER_ID|     ITEM_ID|      view_timestamp| purchase_timestamp|LEAF_CATEG_ID|time_diff|\n",
      "+----------+------------+--------------------+-------------------+-------------+---------+\n",
      "|1498530061|295495274519|2024-02-12 05:33:...|2024-01-15 21:19:59|       168135|       28|\n",
      "|1498530061|386886812375|2024-04-09 06:36:...|2024-01-15 21:19:59|       168135|       85|\n",
      "|1498530061|386886812375|2024-04-09 06:36:...|2024-01-15 21:19:59|       168135|       85|\n",
      "|1498530061|386886812375|2024-04-08 21:08:...|2024-01-15 21:19:59|       168135|       84|\n",
      "|1498530061|386886812375|2024-04-08 21:08:...|2024-01-15 21:19:59|       168135|       84|\n",
      "|1498530061|386886812375|2024-04-08 21:07:...|2024-01-15 21:19:59|       168135|       84|\n",
      "|1498530061|335284547649|2024-04-08 22:02:...|2024-01-15 21:19:59|       168135|       84|\n",
      "|1498530061|335284547649|2024-04-08 22:02:...|2024-01-15 21:19:59|       168135|       84|\n",
      "|1498530061|335284547649|2024-04-01 02:47:...|2024-01-15 21:19:59|       168135|       77|\n",
      "|1498530061|335284547649|2024-04-01 02:44:...|2024-01-15 21:19:59|       168135|       77|\n",
      "|1498530061|335284547649|2024-04-01 02:44:...|2024-01-15 21:19:59|       168135|       77|\n",
      "|1498530061|335284547649|2024-04-01 02:44:...|2024-01-15 21:19:59|       168135|       77|\n",
      "|1498530061|334493018893|2024-02-05 21:33:...|2024-01-15 21:19:59|       168135|       21|\n",
      "|1498530061|126338142661|2024-02-25 01:23:...|2024-01-15 21:19:59|       168135|       41|\n",
      "|1498530061|386911570003|2024-04-08 21:08:...|2024-01-15 21:19:59|       168135|       84|\n",
      "|1498530061|176225574132|2024-02-17 18:25:...|2024-01-15 21:19:59|       168135|       33|\n",
      "|1498530061|176225574132|2024-02-07 14:49:...|2024-01-15 21:19:59|       168135|       23|\n",
      "|1498530061|176225574132|2024-02-06 02:21:...|2024-01-15 21:19:59|       168135|       22|\n",
      "|1498530061|186292245955|2024-02-12 05:34:...|2024-01-15 21:19:59|       168135|       28|\n",
      "|1498530061|196220773756|2024-02-21 00:26:...|2024-01-15 21:19:59|       168135|       37|\n",
      "+----------+------------+--------------------+-------------------+-------------+---------+\n",
      "only showing top 20 rows\n",
      "\n"
     ]
    },
    {
     "name": "stderr",
     "output_type": "stream",
     "text": [
      "24/10/20 09:47:02 ERROR AsyncEventQueue: Listener EventLoggingListener threw an exception\n",
      "java.util.ConcurrentModificationException\n",
      "\tat java.util.Hashtable$Enumerator.next(Hashtable.java:1387)\n",
      "\tat scala.collection.convert.Wrappers$JPropertiesWrapper$$anon$6.next(Wrappers.scala:424)\n",
      "\tat scala.collection.convert.Wrappers$JPropertiesWrapper$$anon$6.next(Wrappers.scala:420)\n",
      "\tat scala.collection.Iterator.foreach(Iterator.scala:941)\n",
      "\tat scala.collection.Iterator.foreach$(Iterator.scala:941)\n",
      "\tat scala.collection.AbstractIterator.foreach(Iterator.scala:1429)\n",
      "\tat scala.collection.IterableLike.foreach(IterableLike.scala:74)\n",
      "\tat scala.collection.IterableLike.foreach$(IterableLike.scala:73)\n",
      "\tat scala.collection.AbstractIterable.foreach(Iterable.scala:56)\n",
      "\tat scala.collection.mutable.MapLike.toSeq(MapLike.scala:75)\n",
      "\tat scala.collection.mutable.MapLike.toSeq$(MapLike.scala:72)\n",
      "\tat scala.collection.mutable.AbstractMap.toSeq(Map.scala:82)\n",
      "\tat org.apache.spark.scheduler.EventLoggingListener.redactProperties(EventLoggingListener.scala:290)\n",
      "\tat org.apache.spark.scheduler.EventLoggingListener.onJobStart(EventLoggingListener.scala:162)\n",
      "\tat org.apache.spark.scheduler.SparkListenerBus.doPostEvent(SparkListenerBus.scala:37)\n",
      "\tat org.apache.spark.scheduler.SparkListenerBus.doPostEvent$(SparkListenerBus.scala:28)\n",
      "\tat org.apache.spark.scheduler.AsyncEventQueue.doPostEvent(AsyncEventQueue.scala:37)\n",
      "\tat org.apache.spark.scheduler.AsyncEventQueue.doPostEvent(AsyncEventQueue.scala:37)\n",
      "\tat org.apache.spark.util.ListenerBus.postToAll(ListenerBus.scala:117)\n",
      "\tat org.apache.spark.util.ListenerBus.postToAll$(ListenerBus.scala:101)\n",
      "\tat org.apache.spark.scheduler.AsyncEventQueue.super$postToAll(AsyncEventQueue.scala:105)\n",
      "\tat org.apache.spark.scheduler.AsyncEventQueue.$anonfun$dispatch$1(AsyncEventQueue.scala:105)\n",
      "\tat scala.runtime.java8.JFunction0$mcJ$sp.apply(JFunction0$mcJ$sp.java:23)\n",
      "\tat scala.util.DynamicVariable.withValue(DynamicVariable.scala:62)\n",
      "\tat org.apache.spark.scheduler.AsyncEventQueue.org$apache$spark$scheduler$AsyncEventQueue$$dispatch(AsyncEventQueue.scala:100)\n",
      "\tat org.apache.spark.scheduler.AsyncEventQueue$$anon$2.$anonfun$run$1(AsyncEventQueue.scala:96)\n",
      "\tat org.apache.spark.util.Utils$.tryOrStopSparkContext(Utils.scala:1381)\n",
      "\tat org.apache.spark.scheduler.AsyncEventQueue$$anon$2.run(AsyncEventQueue.scala:96)\n",
      "24/10/20 09:47:35 ERROR AsyncEventQueue: Listener EventLoggingListener threw an exception\n",
      "java.util.ConcurrentModificationException\n",
      "\tat java.util.Hashtable$Enumerator.next(Hashtable.java:1387)\n",
      "\tat scala.collection.convert.Wrappers$JPropertiesWrapper$$anon$6.next(Wrappers.scala:424)\n",
      "\tat scala.collection.convert.Wrappers$JPropertiesWrapper$$anon$6.next(Wrappers.scala:420)\n",
      "\tat scala.collection.Iterator.foreach(Iterator.scala:941)\n",
      "\tat scala.collection.Iterator.foreach$(Iterator.scala:941)\n",
      "\tat scala.collection.AbstractIterator.foreach(Iterator.scala:1429)\n",
      "\tat scala.collection.IterableLike.foreach(IterableLike.scala:74)\n",
      "\tat scala.collection.IterableLike.foreach$(IterableLike.scala:73)\n",
      "\tat scala.collection.AbstractIterable.foreach(Iterable.scala:56)\n",
      "\tat scala.collection.mutable.MapLike.toSeq(MapLike.scala:75)\n",
      "\tat scala.collection.mutable.MapLike.toSeq$(MapLike.scala:72)\n",
      "\tat scala.collection.mutable.AbstractMap.toSeq(Map.scala:82)\n",
      "\tat org.apache.spark.scheduler.EventLoggingListener.redactProperties(EventLoggingListener.scala:290)\n",
      "\tat org.apache.spark.scheduler.EventLoggingListener.onJobStart(EventLoggingListener.scala:162)\n",
      "\tat org.apache.spark.scheduler.SparkListenerBus.doPostEvent(SparkListenerBus.scala:37)\n",
      "\tat org.apache.spark.scheduler.SparkListenerBus.doPostEvent$(SparkListenerBus.scala:28)\n",
      "\tat org.apache.spark.scheduler.AsyncEventQueue.doPostEvent(AsyncEventQueue.scala:37)\n",
      "\tat org.apache.spark.scheduler.AsyncEventQueue.doPostEvent(AsyncEventQueue.scala:37)\n",
      "\tat org.apache.spark.util.ListenerBus.postToAll(ListenerBus.scala:117)\n",
      "\tat org.apache.spark.util.ListenerBus.postToAll$(ListenerBus.scala:101)\n",
      "\tat org.apache.spark.scheduler.AsyncEventQueue.super$postToAll(AsyncEventQueue.scala:105)\n",
      "\tat org.apache.spark.scheduler.AsyncEventQueue.$anonfun$dispatch$1(AsyncEventQueue.scala:105)\n",
      "\tat scala.runtime.java8.JFunction0$mcJ$sp.apply(JFunction0$mcJ$sp.java:23)\n",
      "\tat scala.util.DynamicVariable.withValue(DynamicVariable.scala:62)\n",
      "\tat org.apache.spark.scheduler.AsyncEventQueue.org$apache$spark$scheduler$AsyncEventQueue$$dispatch(AsyncEventQueue.scala:100)\n",
      "\tat org.apache.spark.scheduler.AsyncEventQueue$$anon$2.$anonfun$run$1(AsyncEventQueue.scala:96)\n",
      "\tat org.apache.spark.util.Utils$.tryOrStopSparkContext(Utils.scala:1381)\n",
      "\tat org.apache.spark.scheduler.AsyncEventQueue$$anon$2.run(AsyncEventQueue.scala:96)\n",
      "                                                                                \r"
     ]
    },
    {
     "name": "stdout",
     "output_type": "stream",
     "text": [
      "+----------+------------+--------------------+-------------------+-------------+---------+----+\n",
      "|  BUYER_ID|     ITEM_ID|      view_timestamp| purchase_timestamp|LEAF_CATEG_ID|time_diff|rank|\n",
      "+----------+------------+--------------------+-------------------+-------------+---------+----+\n",
      "|1498530061|386886812375|2024-04-08 21:08:...|2024-03-25 03:46:10|       168135|       14|   1|\n",
      "|1498530061|386886812375|2024-04-08 21:08:...|2024-01-15 21:19:59|       168135|       84|   2|\n",
      "|1498530061|386886812375|2024-04-08 21:08:...|2023-09-11 02:49:50|       168135|      210|   3|\n",
      "|1498530061|386886812375|2024-04-08 21:08:...|2023-08-02 04:23:18|       168135|      250|   4|\n",
      "|1498530061|176279071107|2024-03-25 03:45:...|2024-01-15 21:19:59|       168135|       70|   1|\n",
      "|1498530061|176279071107|2024-03-25 03:45:...|2023-09-11 02:49:50|       168135|      196|   2|\n",
      "|1498530061|176279071107|2024-03-25 03:45:...|2023-08-02 04:23:18|       168135|      236|   3|\n",
      "|1498530061|176279071107|2024-03-25 03:45:...|2024-01-15 21:19:59|       168135|       70|   1|\n",
      "|1498530061|176279071107|2024-03-25 03:45:...|2023-09-11 02:49:50|       168135|      196|   2|\n",
      "|1498530061|176279071107|2024-03-25 03:45:...|2023-08-02 04:23:18|       168135|      236|   3|\n",
      "|1498530061|176225574132|2024-02-06 02:21:...|2024-01-15 21:19:59|       168135|       22|   1|\n",
      "|1498530061|176225574132|2024-02-06 02:21:...|2023-09-11 02:49:50|       168135|      148|   2|\n",
      "|1498530061|176225574132|2024-02-06 02:21:...|2023-08-02 04:23:18|       168135|      188|   3|\n",
      "|1498530061|176225574132|2024-02-17 18:25:...|2024-01-15 21:19:59|       168135|       33|   1|\n",
      "|1498530061|176225574132|2024-02-17 18:25:...|2023-09-11 02:49:50|       168135|      159|   2|\n",
      "|1498530061|176225574132|2024-02-17 18:25:...|2023-08-02 04:23:18|       168135|      199|   3|\n",
      "|1498530061|133507904544|2024-02-06 01:53:...|2024-01-15 21:19:59|       168135|       22|   1|\n",
      "|1498530061|133507904544|2024-02-06 01:53:...|2023-09-11 02:49:50|       168135|      148|   2|\n",
      "|1498530061|133507904544|2024-02-06 01:53:...|2023-08-02 04:23:18|       168135|      188|   3|\n",
      "|1498530061|335284547649|2024-04-01 02:44:...|2024-03-25 03:46:10|       168135|        7|   1|\n",
      "+----------+------------+--------------------+-------------------+-------------+---------+----+\n",
      "only showing top 20 rows\n",
      "\n",
      "last purchase rank\n"
     ]
    },
    {
     "name": "stderr",
     "output_type": "stream",
     "text": [
      "24/10/20 09:48:35 ERROR AsyncEventQueue: Listener EventLoggingListener threw an exception\n",
      "java.util.ConcurrentModificationException\n",
      "\tat java.util.Hashtable$Enumerator.next(Hashtable.java:1387)\n",
      "\tat scala.collection.convert.Wrappers$JPropertiesWrapper$$anon$6.next(Wrappers.scala:424)\n",
      "\tat scala.collection.convert.Wrappers$JPropertiesWrapper$$anon$6.next(Wrappers.scala:420)\n",
      "\tat scala.collection.Iterator.foreach(Iterator.scala:941)\n",
      "\tat scala.collection.Iterator.foreach$(Iterator.scala:941)\n",
      "\tat scala.collection.AbstractIterator.foreach(Iterator.scala:1429)\n",
      "\tat scala.collection.IterableLike.foreach(IterableLike.scala:74)\n",
      "\tat scala.collection.IterableLike.foreach$(IterableLike.scala:73)\n",
      "\tat scala.collection.AbstractIterable.foreach(Iterable.scala:56)\n",
      "\tat scala.collection.mutable.MapLike.toSeq(MapLike.scala:75)\n",
      "\tat scala.collection.mutable.MapLike.toSeq$(MapLike.scala:72)\n",
      "\tat scala.collection.mutable.AbstractMap.toSeq(Map.scala:82)\n",
      "\tat org.apache.spark.scheduler.EventLoggingListener.redactProperties(EventLoggingListener.scala:290)\n",
      "\tat org.apache.spark.scheduler.EventLoggingListener.onJobStart(EventLoggingListener.scala:162)\n",
      "\tat org.apache.spark.scheduler.SparkListenerBus.doPostEvent(SparkListenerBus.scala:37)\n",
      "\tat org.apache.spark.scheduler.SparkListenerBus.doPostEvent$(SparkListenerBus.scala:28)\n",
      "\tat org.apache.spark.scheduler.AsyncEventQueue.doPostEvent(AsyncEventQueue.scala:37)\n",
      "\tat org.apache.spark.scheduler.AsyncEventQueue.doPostEvent(AsyncEventQueue.scala:37)\n",
      "\tat org.apache.spark.util.ListenerBus.postToAll(ListenerBus.scala:117)\n",
      "\tat org.apache.spark.util.ListenerBus.postToAll$(ListenerBus.scala:101)\n",
      "\tat org.apache.spark.scheduler.AsyncEventQueue.super$postToAll(AsyncEventQueue.scala:105)\n",
      "\tat org.apache.spark.scheduler.AsyncEventQueue.$anonfun$dispatch$1(AsyncEventQueue.scala:105)\n",
      "\tat scala.runtime.java8.JFunction0$mcJ$sp.apply(JFunction0$mcJ$sp.java:23)\n",
      "\tat scala.util.DynamicVariable.withValue(DynamicVariable.scala:62)\n",
      "\tat org.apache.spark.scheduler.AsyncEventQueue.org$apache$spark$scheduler$AsyncEventQueue$$dispatch(AsyncEventQueue.scala:100)\n",
      "\tat org.apache.spark.scheduler.AsyncEventQueue$$anon$2.$anonfun$run$1(AsyncEventQueue.scala:96)\n",
      "\tat org.apache.spark.util.Utils$.tryOrStopSparkContext(Utils.scala:1381)\n",
      "\tat org.apache.spark.scheduler.AsyncEventQueue$$anon$2.run(AsyncEventQueue.scala:96)\n",
      "                                                                                \r"
     ]
    },
    {
     "name": "stdout",
     "output_type": "stream",
     "text": [
      "+----------+------------+--------------------+-------------------+-------------+---------+---+\n",
      "|  BUYER_ID|     ITEM_ID|      view_timestamp| purchase_timestamp|LEAF_CATEG_ID|time_diff| rn|\n",
      "+----------+------------+--------------------+-------------------+-------------+---------+---+\n",
      "|1498530061|386886812375|2024-04-09 06:36:...|2024-03-25 03:46:10|       168135|       15|  1|\n",
      "|1498530061|335284547649|2024-04-01 02:44:...|2024-03-25 03:46:10|       168135|        7|  1|\n",
      "|1498530061|335284547649|2024-04-08 22:02:...|2024-03-25 03:46:10|       168135|       14|  1|\n",
      "|1498530061|335284547649|2024-04-01 02:44:...|2024-03-25 03:46:10|       168135|        7|  1|\n",
      "|1498530061|335284547649|2024-04-08 22:02:...|2024-03-25 03:46:10|       168135|       14|  1|\n",
      "|1498530061|386886812375|2024-04-08 21:07:...|2024-03-25 03:46:10|       168135|       14|  1|\n",
      "|1498530061|335284547649|2024-04-01 02:47:...|2024-03-25 03:46:10|       168135|        7|  1|\n",
      "|1498530061|386911570003|2024-04-08 21:08:...|2024-03-25 03:46:10|       168135|       14|  1|\n",
      "|1498530061|386886812375|2024-04-08 21:08:...|2024-03-25 03:46:10|       168135|       14|  1|\n",
      "|1498530061|386886812375|2024-04-09 06:36:...|2024-03-25 03:46:10|       168135|       15|  1|\n",
      "|1498530061|335284547649|2024-04-01 02:44:...|2024-03-25 03:46:10|       168135|        7|  1|\n",
      "|1498530061|386886812375|2024-04-08 21:08:...|2024-03-25 03:46:10|       168135|       14|  1|\n",
      "|1498530061|176225574132|2024-02-07 14:49:...|2024-01-15 21:19:59|       168135|       23| 13|\n",
      "|1498530061|334493018893|2024-02-05 21:33:...|2024-01-15 21:19:59|       168135|       21| 13|\n",
      "|1498530061|133507904544|2024-02-06 01:53:...|2024-01-15 21:19:59|       168135|       22| 13|\n",
      "|1498530061|386787220204|2024-03-19 19:56:...|2024-01-15 21:19:59|       168135|       64| 13|\n",
      "|1498530061|176225574132|2024-02-17 18:25:...|2024-01-15 21:19:59|       168135|       33| 13|\n",
      "|1498530061|295495274519|2024-02-12 05:33:...|2024-01-15 21:19:59|       168135|       28| 13|\n",
      "|1498530061|176279071107|2024-03-25 03:45:...|2024-01-15 21:19:59|       168135|       70| 13|\n",
      "|1498530061|196220773756|2024-02-21 00:26:...|2024-01-15 21:19:59|       168135|       37| 13|\n",
      "+----------+------------+--------------------+-------------------+-------------+---------+---+\n",
      "only showing top 20 rows\n",
      "\n",
      "last view and days diff\n"
     ]
    },
    {
     "name": "stderr",
     "output_type": "stream",
     "text": [
      "                                                                                \r"
     ]
    },
    {
     "name": "stdout",
     "output_type": "stream",
     "text": [
      "+----------+-------------+-------------------+---------+--------------------+--------------------+\n",
      "|  BUYER_ID|LEAF_CATEG_ID| purchase_timestamp|num_views| last_view_timestamp|days_since_last_view|\n",
      "+----------+-------------+-------------------+---------+--------------------+--------------------+\n",
      "|1498530061|       168135|2024-03-25 03:46:10|       12|2024-04-09 06:36:...|                  15|\n",
      "+----------+-------------+-------------------+---------+--------------------+--------------------+\n",
      "\n",
      "final joined result\n"
     ]
    },
    {
     "name": "stderr",
     "output_type": "stream",
     "text": [
      "24/10/20 09:50:36 ERROR AsyncEventQueue: Listener EventLoggingListener threw an exception\n",
      "java.util.ConcurrentModificationException\n",
      "\tat java.util.Hashtable$Enumerator.next(Hashtable.java:1387)\n",
      "\tat scala.collection.convert.Wrappers$JPropertiesWrapper$$anon$6.next(Wrappers.scala:424)\n",
      "\tat scala.collection.convert.Wrappers$JPropertiesWrapper$$anon$6.next(Wrappers.scala:420)\n",
      "\tat scala.collection.Iterator.foreach(Iterator.scala:941)\n",
      "\tat scala.collection.Iterator.foreach$(Iterator.scala:941)\n",
      "\tat scala.collection.AbstractIterator.foreach(Iterator.scala:1429)\n",
      "\tat scala.collection.IterableLike.foreach(IterableLike.scala:74)\n",
      "\tat scala.collection.IterableLike.foreach$(IterableLike.scala:73)\n",
      "\tat scala.collection.AbstractIterable.foreach(Iterable.scala:56)\n",
      "\tat scala.collection.mutable.MapLike.toSeq(MapLike.scala:75)\n",
      "\tat scala.collection.mutable.MapLike.toSeq$(MapLike.scala:72)\n",
      "\tat scala.collection.mutable.AbstractMap.toSeq(Map.scala:82)\n",
      "\tat org.apache.spark.scheduler.EventLoggingListener.redactProperties(EventLoggingListener.scala:290)\n",
      "\tat org.apache.spark.scheduler.EventLoggingListener.onJobStart(EventLoggingListener.scala:162)\n",
      "\tat org.apache.spark.scheduler.SparkListenerBus.doPostEvent(SparkListenerBus.scala:37)\n",
      "\tat org.apache.spark.scheduler.SparkListenerBus.doPostEvent$(SparkListenerBus.scala:28)\n",
      "\tat org.apache.spark.scheduler.AsyncEventQueue.doPostEvent(AsyncEventQueue.scala:37)\n",
      "\tat org.apache.spark.scheduler.AsyncEventQueue.doPostEvent(AsyncEventQueue.scala:37)\n",
      "\tat org.apache.spark.util.ListenerBus.postToAll(ListenerBus.scala:117)\n",
      "\tat org.apache.spark.util.ListenerBus.postToAll$(ListenerBus.scala:101)\n",
      "\tat org.apache.spark.scheduler.AsyncEventQueue.super$postToAll(AsyncEventQueue.scala:105)\n",
      "\tat org.apache.spark.scheduler.AsyncEventQueue.$anonfun$dispatch$1(AsyncEventQueue.scala:105)\n",
      "\tat scala.runtime.java8.JFunction0$mcJ$sp.apply(JFunction0$mcJ$sp.java:23)\n",
      "\tat scala.util.DynamicVariable.withValue(DynamicVariable.scala:62)\n",
      "\tat org.apache.spark.scheduler.AsyncEventQueue.org$apache$spark$scheduler$AsyncEventQueue$$dispatch(AsyncEventQueue.scala:100)\n",
      "\tat org.apache.spark.scheduler.AsyncEventQueue$$anon$2.$anonfun$run$1(AsyncEventQueue.scala:96)\n",
      "\tat org.apache.spark.util.Utils$.tryOrStopSparkContext(Utils.scala:1381)\n",
      "\tat org.apache.spark.scheduler.AsyncEventQueue$$anon$2.run(AsyncEventQueue.scala:96)\n",
      "[Stage 900:============================>                      (211 + 164) / 375]\r"
     ]
    },
    {
     "name": "stdout",
     "output_type": "stream",
     "text": [
      "+----------+-------------+---------------+-----------------------------------------+------------------------------------------------+\n",
      "|  BUYER_ID|LEAF_CATEG_ID|EVENT_TIMESTAMP|num_views_since_last_purchase_in_LEAF_cat|time_from_last_view_to_last_purchase_in_LEAF_cat|\n",
      "+----------+-------------+---------------+-----------------------------------------+------------------------------------------------+\n",
      "|1498530061|       168135|     2024-05-01|                                       12|                                              15|\n",
      "+----------+-------------+---------------+-----------------------------------------+------------------------------------------------+\n",
      "\n"
     ]
    },
    {
     "name": "stderr",
     "output_type": "stream",
     "text": [
      "                                                                                \r"
     ]
    }
   ],
   "source": [
    "df_ft_leaf = views_since_last_purchase_in_cat(df_smp_sample, df_prch_sample, df_vi_sample, cat_type=\"LEAF\")\n",
    "df_res_t = add_feature(df_smp_sample, df_ft_leaf, join_key=\"LEAF_CATEG_ID\")"
   ]
  },
  {
   "cell_type": "code",
   "execution_count": 38,
   "id": "a0edec6f-3d96-45f2-92fd-b2b0905daaef",
   "metadata": {
    "scrolled": true,
    "tags": []
   },
   "outputs": [
    {
     "name": "stderr",
     "output_type": "stream",
     "text": [
      "24/10/20 09:41:54 ERROR AsyncEventQueue: Listener EventLoggingListener threw an exception\n",
      "java.util.ConcurrentModificationException\n",
      "\tat java.util.Hashtable$Enumerator.next(Hashtable.java:1387)\n",
      "\tat scala.collection.convert.Wrappers$JPropertiesWrapper$$anon$6.next(Wrappers.scala:424)\n",
      "\tat scala.collection.convert.Wrappers$JPropertiesWrapper$$anon$6.next(Wrappers.scala:420)\n",
      "\tat scala.collection.Iterator.foreach(Iterator.scala:941)\n",
      "\tat scala.collection.Iterator.foreach$(Iterator.scala:941)\n",
      "\tat scala.collection.AbstractIterator.foreach(Iterator.scala:1429)\n",
      "\tat scala.collection.IterableLike.foreach(IterableLike.scala:74)\n",
      "\tat scala.collection.IterableLike.foreach$(IterableLike.scala:73)\n",
      "\tat scala.collection.AbstractIterable.foreach(Iterable.scala:56)\n",
      "\tat scala.collection.mutable.MapLike.toSeq(MapLike.scala:75)\n",
      "\tat scala.collection.mutable.MapLike.toSeq$(MapLike.scala:72)\n",
      "\tat scala.collection.mutable.AbstractMap.toSeq(Map.scala:82)\n",
      "\tat org.apache.spark.scheduler.EventLoggingListener.redactProperties(EventLoggingListener.scala:290)\n",
      "\tat org.apache.spark.scheduler.EventLoggingListener.onJobStart(EventLoggingListener.scala:162)\n",
      "\tat org.apache.spark.scheduler.SparkListenerBus.doPostEvent(SparkListenerBus.scala:37)\n",
      "\tat org.apache.spark.scheduler.SparkListenerBus.doPostEvent$(SparkListenerBus.scala:28)\n",
      "\tat org.apache.spark.scheduler.AsyncEventQueue.doPostEvent(AsyncEventQueue.scala:37)\n",
      "\tat org.apache.spark.scheduler.AsyncEventQueue.doPostEvent(AsyncEventQueue.scala:37)\n",
      "\tat org.apache.spark.util.ListenerBus.postToAll(ListenerBus.scala:117)\n",
      "\tat org.apache.spark.util.ListenerBus.postToAll$(ListenerBus.scala:101)\n",
      "\tat org.apache.spark.scheduler.AsyncEventQueue.super$postToAll(AsyncEventQueue.scala:105)\n",
      "\tat org.apache.spark.scheduler.AsyncEventQueue.$anonfun$dispatch$1(AsyncEventQueue.scala:105)\n",
      "\tat scala.runtime.java8.JFunction0$mcJ$sp.apply(JFunction0$mcJ$sp.java:23)\n",
      "\tat scala.util.DynamicVariable.withValue(DynamicVariable.scala:62)\n",
      "\tat org.apache.spark.scheduler.AsyncEventQueue.org$apache$spark$scheduler$AsyncEventQueue$$dispatch(AsyncEventQueue.scala:100)\n",
      "\tat org.apache.spark.scheduler.AsyncEventQueue$$anon$2.$anonfun$run$1(AsyncEventQueue.scala:96)\n",
      "\tat org.apache.spark.util.Utils$.tryOrStopSparkContext(Utils.scala:1381)\n",
      "\tat org.apache.spark.scheduler.AsyncEventQueue$$anon$2.run(AsyncEventQueue.scala:96)\n",
      "[Stage 766:============================>                      (206 + 169) / 375]1]]]\r"
     ]
    },
    {
     "name": "stdout",
     "output_type": "stream",
     "text": [
      "+----------+-------------+---------------+---------------+-----+--------------------+-------------+--------------------+-------------+---------------+-----------------------------------------+------------------------------------------------+\n",
      "|  BUYER_ID|LEAF_CATEG_ID|EVENT_TIMESTAMP|num_repurchases|label|     LEAF_CATEG_NAME|CATEG_LVL2_ID|     CATEG_LVL2_NAME|META_CATEG_ID|META_CATEG_NAME|num_views_since_last_purchase_in_LEAF_cat|time_from_last_view_to_last_purchase_in_LEAF_cat|\n",
      "+----------+-------------+---------------+---------------+-----+--------------------+-------------+--------------------+-------------+---------------+-----------------------------------------+------------------------------------------------+\n",
      "|1498530061|       168135|     2024-05-01|              6|    1|Home & Garden:Too...|          631|Tools & Workshop ...|        11700|  Home & Garden|                                       12|                                              15|\n",
      "+----------+-------------+---------------+---------------+-----+--------------------+-------------+--------------------+-------------+---------------+-----------------------------------------+------------------------------------------------+\n",
      "\n"
     ]
    },
    {
     "name": "stderr",
     "output_type": "stream",
     "text": [
      "                                                                                \r"
     ]
    }
   ],
   "source": [
    "df_res_t.show()"
   ]
  },
  {
   "cell_type": "code",
   "execution_count": 9,
   "id": "d3a377da-814b-4cd6-9a74-61aaf671d39d",
   "metadata": {},
   "outputs": [
    {
     "name": "stderr",
     "output_type": "stream",
     "text": [
      "[Stage 251:======================================>             (280 + 95) / 375]/ 1000]]\r"
     ]
    },
    {
     "name": "stdout",
     "output_type": "stream",
     "text": [
      "+----------+-------------+---------------+-------------+-------------+---------------+-----+--------------------+--------------------+---------------+-----------------------------------------+------------------------------------------------+-----------------------------------------+------------------------------------------------+-----------------------------------------+------------------------------------------------+\n",
      "|  BUYER_ID|META_CATEG_ID|EVENT_TIMESTAMP|CATEG_LVL2_ID|LEAF_CATEG_ID|num_repurchases|label|     LEAF_CATEG_NAME|     CATEG_LVL2_NAME|META_CATEG_NAME|num_views_since_last_purchase_in_LEAF_cat|time_from_last_view_to_last_purchase_in_LEAF_cat|num_views_since_last_purchase_in_LVL2_cat|time_from_last_view_to_last_purchase_in_LVL2_cat|num_views_since_last_purchase_in_META_cat|time_from_last_view_to_last_purchase_in_META_cat|\n",
      "+----------+-------------+---------------+-------------+-------------+---------------+-----+--------------------+--------------------+---------------+-----------------------------------------+------------------------------------------------+-----------------------------------------+------------------------------------------------+-----------------------------------------+------------------------------------------------+\n",
      "|1498530061|        11700|     2024-05-01|          631|       168135|              6|    1|Home & Garden:Too...|Tools & Workshop ...|  Home & Garden|                                       12|                                              15|                                        4|                                              14|                                        4|                                              14|\n",
      "+----------+-------------+---------------+-------------+-------------+---------------+-----+--------------------+--------------------+---------------+-----------------------------------------+------------------------------------------------+-----------------------------------------+------------------------------------------------+-----------------------------------------+------------------------------------------------+\n",
      "\n"
     ]
    },
    {
     "name": "stderr",
     "output_type": "stream",
     "text": [
      "                                                                                \r"
     ]
    }
   ],
   "source": [
    "# Step 3: Calculate features for LEAF category\n",
    "df_ft_leaf = F.f_views_since_last_purchase_in_cat(df_smp_sample, df_prch_sample, df_vi_sample, cat_type=\"LEAF\")\n",
    "df_res_t = F.add_feature(df_smp_sample, df_ft_leaf, join_key=\"LEAF_CATEG_ID\")\n",
    "\n",
    "# Step 4: Calculate features for LVL2 category\n",
    "df_ft_lvl2 = F.f_views_since_last_purchase_in_cat(df_smp_sample, df_prch_sample, df_vi_sample, cat_type=\"LVL2\")\n",
    "df_res_t = F.add_feature(df_res_t, df_ft_lvl2, join_key=\"CATEG_LVL2_ID\")\n",
    "\n",
    "# Step 5: Calculate features for META category\n",
    "df_ft_meta = F.f_views_since_last_purchase_in_cat(df_smp_sample, df_prch_sample, df_vi_sample, cat_type=\"META\")\n",
    "df_res_t = F.add_feature(df_res_t, df_ft_meta, join_key=\"META_CATEG_ID\")\n",
    "\n",
    "\n",
    "df_res_t.show()"
   ]
  },
  {
   "cell_type": "code",
   "execution_count": 10,
   "id": "c6fc477b-5f38-427d-b7ef-fa6ba743d4f2",
   "metadata": {},
   "outputs": [
    {
     "data": {
      "text/plain": [
       "['BUYER_ID',\n",
       " 'META_CATEG_ID',\n",
       " 'EVENT_TIMESTAMP',\n",
       " 'CATEG_LVL2_ID',\n",
       " 'LEAF_CATEG_ID',\n",
       " 'num_repurchases',\n",
       " 'label',\n",
       " 'LEAF_CATEG_NAME',\n",
       " 'CATEG_LVL2_NAME',\n",
       " 'META_CATEG_NAME',\n",
       " 'num_views_since_last_purchase_in_LEAF_cat',\n",
       " 'time_from_last_view_to_last_purchase_in_LEAF_cat',\n",
       " 'num_views_since_last_purchase_in_LVL2_cat',\n",
       " 'time_from_last_view_to_last_purchase_in_LVL2_cat',\n",
       " 'num_views_since_last_purchase_in_META_cat',\n",
       " 'time_from_last_view_to_last_purchase_in_META_cat']"
      ]
     },
     "execution_count": 10,
     "metadata": {},
     "output_type": "execute_result"
    }
   ],
   "source": [
    "df_res_t.columns"
   ]
  },
  {
   "cell_type": "markdown",
   "id": "2210fd86-2b24-43bb-87b5-efe4ba8dc5fb",
   "metadata": {},
   "source": [
    "## Category entropy: "
   ]
  },
  {
   "cell_type": "code",
   "execution_count": 52,
   "id": "5220a562-3885-4517-9e9a-a89f64974a38",
   "metadata": {},
   "outputs": [],
   "source": [
    "from pyspark.sql import functions as F\n",
    "from pyspark.sql import Window\n",
    "import math\n",
    "\n",
    "# Function to compute entropy\n",
    "def entropy(proportions):\n",
    "    if proportions is None or len(proportions) == 0:\n",
    "        return -1  \n",
    "    entropy_value = -sum([p * math.log2(p) for p in proportions if p > 0])\n",
    "    return round(abs(entropy_value), 4)\n",
    "\n",
    "# Register the UDF for entropy calculation\n",
    "entropy_udf = F.udf(entropy, \"double\")\n",
    "\n",
    "# Function to calculate category diversity entropy\n",
    "def add_category_entropy(df_base, df_action, action_type=\"purchase\", cat_type=\"LEAF\"):\n",
    "    df_action_base = (\n",
    "        df_base\n",
    "        .join(df_action, \n",
    "              (df_base.BUYER_ID == df_action.BUYER_ID) & \n",
    "              _leaf_condition(df_base, df_action, cat_type), \n",
    "              how=\"left\")\n",
    "        .filter(F.datediff(df_base.EVENT_TIMESTAMP, df_action.EVENT_TIMESTAMP) > 0)\n",
    "        .select(\n",
    "            df_action.BUYER_ID,\n",
    "            df_action.ITEM_ID, \n",
    "            df_action.EVENT_TIMESTAMP, \n",
    "            _leaf_id_col(df_action, cat_type))) \n",
    "   # print(\" action- base\") \n",
    "   # df_action_base.show()\n",
    "    # Step 3: Count number of actions (purchases/views) per user per category\n",
    "    df_counts = (\n",
    "        df_action_base\n",
    "        .groupBy(df_action_base.BUYER_ID, _leaf_id_col(df_action, cat_type))\n",
    "        .agg(F.count(\"*\").alias(\"cat_action_count\"))\n",
    "    )\n",
    "    \n",
    "    #print(\" df_counts\") \n",
    "    #df_counts.show()\n",
    "    # Step 4: Calculate total number of actions per user\n",
    "    df_total = (\n",
    "        df_action_base\n",
    "        .groupBy(df_action_base.BUYER_ID)\n",
    "        .agg(F.count(\"*\").alias(\"total_action_count\"))\n",
    "    )\n",
    "\n",
    "    #print(\" df_total\") \n",
    "    #df_total.show()\n",
    "    # Step 5: Join category counts with total counts\n",
    "    df_joined = (\n",
    "        df_counts\n",
    "        .join(df_total, on=\"BUYER_ID\", how=\"inner\")\n",
    "        .withColumn(\"proportion\",\n",
    "            F.when(F.col(\"total_action_count\") > 0, F.col(\"cat_action_count\") / F.col(\"total_action_count\")).otherwise(-1)\n",
    "        )\n",
    "    )\n",
    "    \n",
    "    #print(\" df_joined\") \n",
    "    #df_joined.show() \n",
    "    \n",
    "    # Step 6: Group by user and calculate entropy for each user\n",
    "    df_entropy = (\n",
    "        df_joined\n",
    "        .groupBy(\"BUYER_ID\")\n",
    "        .agg(F.collect_list(\"proportion\").alias(\"proportions\"))\n",
    "    )\n",
    "  \n",
    "    #print(\" df_entropy proportion\") \n",
    "    #df_entropy.show() \n",
    "    # Step 7: Apply entropy function to the list of proportions\n",
    "    df_entropy = (\n",
    "        df_entropy\n",
    "        .withColumn(\"category_entropy\", entropy_udf(F.col(\"proportions\")))\n",
    "        .select(\"BUYER_ID\", \"category_entropy\")\n",
    "    )\n",
    "    \n",
    "    #print(\" df_entropy\") \n",
    "    #df_entropy.show()   \n",
    "    return df_entropy \n",
    "\n",
    "def f_category_entropy(df_base, df_action, action_type=\"purchase\", cat_type=\"LEAF\"):\n",
    "    # Calculate category entropy for the given category type and action type\n",
    "    df_entropy = add_category_entropy(df_base, df_action, action_type=action_type, cat_type=cat_type)\n",
    "    \n",
    "    df_res = (\n",
    "        df_base\n",
    "        .join(df_entropy, on=\"BUYER_ID\", how=\"left\")\n",
    "        .withColumnRenamed(\"category_entropy\", f\"f_entropy_for_{cat_type}_cat_{action_type}s\")\n",
    "        .select(\n",
    "            df_base.BUYER_ID,\n",
    "            _leaf_id_col(df_base, cat_type),\n",
    "            df_base.EVENT_TIMESTAMP,\n",
    "            F.col(f\"f_entropy_for_{cat_type}_cat_{action_type}s\"))\n",
    "    )\n",
    "    df_res = df_res.fillna(-1, subset=[f\"f_entropy_for_{cat_type}_cat_{action_type}s\"])\n",
    "    \n",
    "    df_res_no_dups = df_res.distinct() \n",
    "    \n",
    "    #print(\"final result\")\n",
    "    #print(df_res.show())\n",
    "    return df_res_no_dups\n"
   ]
  },
  {
   "cell_type": "code",
   "execution_count": 47,
   "id": "e99dbf56-b2d2-42df-8b26-b0b849d7f4aa",
   "metadata": {},
   "outputs": [
    {
     "name": "stdout",
     "output_type": "stream",
     "text": [
      "final result\n"
     ]
    },
    {
     "name": "stderr",
     "output_type": "stream",
     "text": [
      "[Stage 2483:=================================>                (248 + 127) / 375]/ 1000]]\r"
     ]
    },
    {
     "name": "stdout",
     "output_type": "stream",
     "text": [
      "+----------+-------------+---------------+--------------------------------+\n",
      "|  BUYER_ID|LEAF_CATEG_ID|EVENT_TIMESTAMP|f_entropy_for_LEAF_cat_purchases|\n",
      "+----------+-------------+---------------+--------------------------------+\n",
      "|  11245860|        47173|     2024-05-01|                          0.8113|\n",
      "|  11245860|       127413|     2024-05-01|                          0.8113|\n",
      "|1132069035|        24410|     2024-05-01|                             0.0|\n",
      "|1324204268|         2885|     2024-05-01|                             0.0|\n",
      "|1498530061|       168135|     2024-05-01|                             0.0|\n",
      "+----------+-------------+---------------+--------------------------------+\n",
      "\n",
      "None\n"
     ]
    },
    {
     "name": "stderr",
     "output_type": "stream",
     "text": [
      "                                                                                \r"
     ]
    }
   ],
   "source": [
    "df_tsf= f_category_entropy(df_smp_sample, df_prch_sample, action_type=\"purchase\", cat_type=\"LEAF\")"
   ]
  },
  {
   "cell_type": "code",
   "execution_count": 54,
   "id": "826a17c2-6d20-4c8c-bc7d-b2e19074fe16",
   "metadata": {},
   "outputs": [
    {
     "name": "stderr",
     "output_type": "stream",
     "text": [
      "                                                                                 / 1000]]]\r"
     ]
    },
    {
     "name": "stdout",
     "output_type": "stream",
     "text": [
      "+----------+-------------+---------------+-------------+-------------+---------------+-----+--------------------+--------------------+--------------------+--------------------------------+--------------------------------+--------------------------------+\n",
      "|  BUYER_ID|META_CATEG_ID|EVENT_TIMESTAMP|CATEG_LVL2_ID|LEAF_CATEG_ID|num_repurchases|label|     LEAF_CATEG_NAME|     CATEG_LVL2_NAME|     META_CATEG_NAME|f_entropy_for_LEAF_cat_purchases|f_entropy_for_LVL2_cat_purchases|f_entropy_for_META_cat_purchases|\n",
      "+----------+-------------+---------------+-------------+-------------+---------------+-----+--------------------+--------------------+--------------------+--------------------------------+--------------------------------+--------------------------------+\n",
      "|  11245860|          260|     2024-05-01|       181423|       127413|              0|    0|Stamps:Africa:Sou...|              Africa|              Stamps|                          0.8113|                          0.7496|                             0.0|\n",
      "|  11245860|          260|     2024-05-01|       181417|        47173|              0|    0|Stamps:Latin Amer...|       Latin America|              Stamps|                          0.8113|                          0.7496|                             0.0|\n",
      "|1498530061|        11700|     2024-05-01|          631|       168135|              6|    1|Home & Garden:Too...|Tools & Workshop ...|       Home & Garden|                             0.0|                             0.0|                             0.0|\n",
      "|1324204268|        64482|     2024-05-01|        24409|         2885|              0|    0|Sports Mem, Cards...|Fan Apparel & Sou...|Sports Mem, Cards...|                             0.0|                             0.0|                             0.0|\n",
      "|1132069035|        64482|     2024-05-01|        24409|        24410|              0|    0|Sports Mem, Cards...|Fan Apparel & Sou...|Sports Mem, Cards...|                             0.0|                             0.0|                             0.0|\n",
      "+----------+-------------+---------------+-------------+-------------+---------------+-----+--------------------+--------------------+--------------------+--------------------------------+--------------------------------+--------------------------------+\n",
      "\n",
      "None\n"
     ]
    },
    {
     "name": "stderr",
     "output_type": "stream",
     "text": [
      "[Stage 2921:>                                                       (0 + 1) / 1]/ 1000]]]]\r"
     ]
    },
    {
     "name": "stdout",
     "output_type": "stream",
     "text": [
      "5\n"
     ]
    },
    {
     "name": "stderr",
     "output_type": "stream",
     "text": [
      "                                                                                \r"
     ]
    }
   ],
   "source": [
    "df_ft = f_category_entropy(df_smp_sample, df_prch_sample, action_type=\"purchase\", cat_type=\"LEAF\")\n",
    "df_res = add_feature(df_smp_sample, df_ft, join_key=\"LEAF_CATEG_ID\", how=\"inner\")\n",
    "\n",
    "\n",
    "df_ft = f_category_entropy(df_smp_sample, df_prch_sample, action_type=\"purchase\", cat_type=\"LVL2\")\n",
    "df_res = add_feature(df_res, df_ft, join_key=\"CATEG_LVL2_ID\", how=\"inner\")\n",
    "\n",
    "\n",
    "df_ft = f_category_entropy(df_smp_sample, df_prch_sample, action_type=\"purchase\", cat_type=\"META\")\n",
    "df_res = add_feature(df_res, df_ft, join_key=\"META_CATEG_ID\", how=\"inner\")\n",
    "print(df_res.show())\n",
    "print(df_res.count())"
   ]
  },
  {
   "cell_type": "code",
   "execution_count": 53,
   "id": "9771ce09-fccc-42e1-8cb8-ae99c727fd96",
   "metadata": {},
   "outputs": [
    {
     "name": "stderr",
     "output_type": "stream",
     "text": [
      "                                                                                 / 1000]]\r"
     ]
    },
    {
     "name": "stdout",
     "output_type": "stream",
     "text": [
      "5\n"
     ]
    },
    {
     "name": "stderr",
     "output_type": "stream",
     "text": [
      "                                                                                 / 1000]]\r"
     ]
    },
    {
     "name": "stdout",
     "output_type": "stream",
     "text": [
      "+----------+-------------+---------------+-------------+---------------+-----+--------------------+--------------------+-------------+--------------------+--------------------------------+--------------------------------+\n",
      "|  BUYER_ID|CATEG_LVL2_ID|EVENT_TIMESTAMP|LEAF_CATEG_ID|num_repurchases|label|     LEAF_CATEG_NAME|     CATEG_LVL2_NAME|META_CATEG_ID|     META_CATEG_NAME|f_entropy_for_LEAF_cat_purchases|f_entropy_for_LVL2_cat_purchases|\n",
      "+----------+-------------+---------------+-------------+---------------+-----+--------------------+--------------------+-------------+--------------------+--------------------------------+--------------------------------+\n",
      "|1324204268|        24409|     2024-05-01|         2885|              0|    0|Sports Mem, Cards...|Fan Apparel & Sou...|        64482|Sports Mem, Cards...|                             0.0|                             0.0|\n",
      "|1132069035|        24409|     2024-05-01|        24410|              0|    0|Sports Mem, Cards...|Fan Apparel & Sou...|        64482|Sports Mem, Cards...|                             0.0|                             0.0|\n",
      "|  11245860|       181417|     2024-05-01|        47173|              0|    0|Stamps:Latin Amer...|       Latin America|          260|              Stamps|                          0.8113|                          0.7496|\n",
      "|1498530061|          631|     2024-05-01|       168135|              6|    1|Home & Garden:Too...|Tools & Workshop ...|        11700|       Home & Garden|                             0.0|                             0.0|\n",
      "|  11245860|       181423|     2024-05-01|       127413|              0|    0|Stamps:Africa:Sou...|              Africa|          260|              Stamps|                          0.8113|                          0.7496|\n",
      "+----------+-------------+---------------+-------------+---------------+-----+--------------------+--------------------+-------------+--------------------+--------------------------------+--------------------------------+\n",
      "\n",
      "None\n"
     ]
    },
    {
     "name": "stderr",
     "output_type": "stream",
     "text": [
      "                                                                                 / 1000]]]]\r"
     ]
    },
    {
     "name": "stdout",
     "output_type": "stream",
     "text": [
      "5\n"
     ]
    },
    {
     "name": "stderr",
     "output_type": "stream",
     "text": [
      "                                                                                 / 1000]]\r"
     ]
    },
    {
     "name": "stdout",
     "output_type": "stream",
     "text": [
      "+----------+-------------+---------------+-------------+-------------+---------------+-----+--------------------+--------------------+--------------------+--------------------------------+--------------------------------+--------------------------------+\n",
      "|  BUYER_ID|META_CATEG_ID|EVENT_TIMESTAMP|CATEG_LVL2_ID|LEAF_CATEG_ID|num_repurchases|label|     LEAF_CATEG_NAME|     CATEG_LVL2_NAME|     META_CATEG_NAME|f_entropy_for_LEAF_cat_purchases|f_entropy_for_LVL2_cat_purchases|f_entropy_for_META_cat_purchases|\n",
      "+----------+-------------+---------------+-------------+-------------+---------------+-----+--------------------+--------------------+--------------------+--------------------------------+--------------------------------+--------------------------------+\n",
      "|  11245860|          260|     2024-05-01|       181423|       127413|              0|    0|Stamps:Africa:Sou...|              Africa|              Stamps|                          0.8113|                          0.7496|                             0.0|\n",
      "|  11245860|          260|     2024-05-01|       181417|        47173|              0|    0|Stamps:Latin Amer...|       Latin America|              Stamps|                          0.8113|                          0.7496|                             0.0|\n",
      "|1498530061|        11700|     2024-05-01|          631|       168135|              6|    1|Home & Garden:Too...|Tools & Workshop ...|       Home & Garden|                             0.0|                             0.0|                             0.0|\n",
      "|1324204268|        64482|     2024-05-01|        24409|         2885|              0|    0|Sports Mem, Cards...|Fan Apparel & Sou...|Sports Mem, Cards...|                             0.0|                             0.0|                             0.0|\n",
      "|1132069035|        64482|     2024-05-01|        24409|        24410|              0|    0|Sports Mem, Cards...|Fan Apparel & Sou...|Sports Mem, Cards...|                             0.0|                             0.0|                             0.0|\n",
      "+----------+-------------+---------------+-------------+-------------+---------------+-----+--------------------+--------------------+--------------------+--------------------------------+--------------------------------+--------------------------------+\n",
      "\n",
      "None\n"
     ]
    },
    {
     "name": "stderr",
     "output_type": "stream",
     "text": [
      "[Stage 2761:>                                                       (0 + 1) / 1] / 1000]]]]\r"
     ]
    },
    {
     "name": "stdout",
     "output_type": "stream",
     "text": [
      "5\n"
     ]
    },
    {
     "name": "stderr",
     "output_type": "stream",
     "text": [
      "                                                                                \r"
     ]
    }
   ],
   "source": [
    "df_ft = f_category_entropy(df_smp_sample, df_prch_sample, action_type=\"purchase\", cat_type=\"LEAF\")\n",
    "df_res = add_feature(df_smp_sample, df_ft, join_key=\"LEAF_CATEG_ID\", how=\"inner\")\n",
    "print(df_res.count())\n",
    "\n",
    "df_ft = f_category_entropy(df_smp_sample, df_prch_sample, action_type=\"purchase\", cat_type=\"LVL2\")\n",
    "df_res = add_feature(df_res, df_ft, join_key=\"CATEG_LVL2_ID\", how=\"inner\")\n",
    "print(df_res.show())\n",
    "print(df_res.count()) \n",
    "\n",
    "df_ft = f_category_entropy(df_smp_sample, df_prch_sample, action_type=\"purchase\", cat_type=\"META\")\n",
    "df_res = add_feature(df_res, df_ft, join_key=\"META_CATEG_ID\", how=\"inner\")\n",
    "print(df_res.show())\n",
    "print(df_res.count())"
   ]
  },
  {
   "cell_type": "code",
   "execution_count": 3,
   "id": "f2a18a51-5b1c-46cf-a23a-7b45f8617a0e",
   "metadata": {},
   "outputs": [],
   "source": [
    "from pyspark.sql import functions as F\n",
    "import feature_helpers as fe\n",
    "from pyspark.sql.types import FloatType\n",
    "import numpy as np\n",
    "\n",
    "#sample_buyers = (df_smp.select(\"BUYER_ID\").distinct().limit(30)).collect()\n",
    "# Step 1: Define the specific buyer IDs you want to sample\n",
    "specific_buyer_ids = [11245860, 1498530061, 1324204268]\n",
    "\n",
    "# Step 2: Filter df_smp, df_prch, and df_vi to only include those specific buyers\n",
    "df_smp_sample = df_smp.filter(df_smp.BUYER_ID.isin(specific_buyer_ids))\n",
    "df_prch_sample = df_prch.filter(df_prch.BUYER_ID.isin(specific_buyer_ids))\n",
    "df_vi_sample = df_vi.filter(df_vi.BUYER_ID.isin(specific_buyer_ids))"
   ]
  },
  {
   "cell_type": "code",
   "execution_count": 10,
   "id": "8a16c6de-9230-43ff-8e03-62ce5722c58f",
   "metadata": {
    "scrolled": true,
    "tags": []
   },
   "outputs": [
    {
     "name": "stdout",
     "output_type": "stream",
     "text": [
      " action- base\n"
     ]
    },
    {
     "name": "stderr",
     "output_type": "stream",
     "text": [
      "                                                                                \r"
     ]
    },
    {
     "name": "stdout",
     "output_type": "stream",
     "text": [
      "+----------+------------+-------------------+-------------+\n",
      "|  BUYER_ID|     ITEM_ID|    EVENT_TIMESTAMP|LEAF_CATEG_ID|\n",
      "+----------+------------+-------------------+-------------+\n",
      "|1498530061|404678532104|2024-01-15 21:19:59|       168135|\n",
      "|1498530061|314821705039|2023-09-11 02:49:50|       168135|\n",
      "|1498530061|385829607761|2023-08-02 04:23:18|       168135|\n",
      "|1498530061|305469856828|2024-03-25 03:46:10|       168135|\n",
      "|  11245860|305238529560|2023-11-06 20:54:19|        47173|\n",
      "|  11245860|305403756032|2024-02-25 20:26:12|        47173|\n",
      "|  11245860|404455166831|2023-09-03 18:39:10|        47173|\n",
      "|1324204268|175992311998|2023-12-24 22:29:05|         2885|\n",
      "|  11245860|305338864187|2024-01-10 21:33:54|       127413|\n",
      "+----------+------------+-------------------+-------------+\n",
      "\n",
      " df_counts\n"
     ]
    },
    {
     "name": "stderr",
     "output_type": "stream",
     "text": [
      "                                                                                \r"
     ]
    },
    {
     "name": "stdout",
     "output_type": "stream",
     "text": [
      "+----------+-------------+----------------+\n",
      "|  BUYER_ID|LEAF_CATEG_ID|cat_action_count|\n",
      "+----------+-------------+----------------+\n",
      "|  11245860|        47173|               3|\n",
      "|  11245860|       127413|               1|\n",
      "|1498530061|       168135|               4|\n",
      "|1324204268|         2885|               1|\n",
      "+----------+-------------+----------------+\n",
      "\n",
      " df_total\n"
     ]
    },
    {
     "name": "stderr",
     "output_type": "stream",
     "text": [
      "24/10/22 08:12:21 ERROR AsyncEventQueue: Listener EventLoggingListener threw an exception\n",
      "java.util.ConcurrentModificationException\n",
      "\tat java.util.Hashtable$Enumerator.next(Hashtable.java:1387)\n",
      "\tat scala.collection.convert.Wrappers$JPropertiesWrapper$$anon$6.next(Wrappers.scala:424)\n",
      "\tat scala.collection.convert.Wrappers$JPropertiesWrapper$$anon$6.next(Wrappers.scala:420)\n",
      "\tat scala.collection.Iterator.foreach(Iterator.scala:941)\n",
      "\tat scala.collection.Iterator.foreach$(Iterator.scala:941)\n",
      "\tat scala.collection.AbstractIterator.foreach(Iterator.scala:1429)\n",
      "\tat scala.collection.IterableLike.foreach(IterableLike.scala:74)\n",
      "\tat scala.collection.IterableLike.foreach$(IterableLike.scala:73)\n",
      "\tat scala.collection.AbstractIterable.foreach(Iterable.scala:56)\n",
      "\tat scala.collection.mutable.MapLike.toSeq(MapLike.scala:75)\n",
      "\tat scala.collection.mutable.MapLike.toSeq$(MapLike.scala:72)\n",
      "\tat scala.collection.mutable.AbstractMap.toSeq(Map.scala:82)\n",
      "\tat org.apache.spark.scheduler.EventLoggingListener.redactProperties(EventLoggingListener.scala:290)\n",
      "\tat org.apache.spark.scheduler.EventLoggingListener.onJobStart(EventLoggingListener.scala:162)\n",
      "\tat org.apache.spark.scheduler.SparkListenerBus.doPostEvent(SparkListenerBus.scala:37)\n",
      "\tat org.apache.spark.scheduler.SparkListenerBus.doPostEvent$(SparkListenerBus.scala:28)\n",
      "\tat org.apache.spark.scheduler.AsyncEventQueue.doPostEvent(AsyncEventQueue.scala:37)\n",
      "\tat org.apache.spark.scheduler.AsyncEventQueue.doPostEvent(AsyncEventQueue.scala:37)\n",
      "\tat org.apache.spark.util.ListenerBus.postToAll(ListenerBus.scala:117)\n",
      "\tat org.apache.spark.util.ListenerBus.postToAll$(ListenerBus.scala:101)\n",
      "\tat org.apache.spark.scheduler.AsyncEventQueue.super$postToAll(AsyncEventQueue.scala:105)\n",
      "\tat org.apache.spark.scheduler.AsyncEventQueue.$anonfun$dispatch$1(AsyncEventQueue.scala:105)\n",
      "\tat scala.runtime.java8.JFunction0$mcJ$sp.apply(JFunction0$mcJ$sp.java:23)\n",
      "\tat scala.util.DynamicVariable.withValue(DynamicVariable.scala:62)\n",
      "\tat org.apache.spark.scheduler.AsyncEventQueue.org$apache$spark$scheduler$AsyncEventQueue$$dispatch(AsyncEventQueue.scala:100)\n",
      "\tat org.apache.spark.scheduler.AsyncEventQueue$$anon$2.$anonfun$run$1(AsyncEventQueue.scala:96)\n",
      "\tat org.apache.spark.util.Utils$.tryOrStopSparkContext(Utils.scala:1381)\n",
      "\tat org.apache.spark.scheduler.AsyncEventQueue$$anon$2.run(AsyncEventQueue.scala:96)\n",
      "24/10/22 08:12:22 ERROR AsyncEventQueue: Listener EventLoggingListener threw an exception\n",
      "java.util.ConcurrentModificationException\n",
      "\tat java.util.Hashtable$Enumerator.next(Hashtable.java:1387)\n",
      "\tat scala.collection.convert.Wrappers$JPropertiesWrapper$$anon$6.next(Wrappers.scala:424)\n",
      "\tat scala.collection.convert.Wrappers$JPropertiesWrapper$$anon$6.next(Wrappers.scala:420)\n",
      "\tat scala.collection.Iterator.foreach(Iterator.scala:941)\n",
      "\tat scala.collection.Iterator.foreach$(Iterator.scala:941)\n",
      "\tat scala.collection.AbstractIterator.foreach(Iterator.scala:1429)\n",
      "\tat scala.collection.IterableLike.foreach(IterableLike.scala:74)\n",
      "\tat scala.collection.IterableLike.foreach$(IterableLike.scala:73)\n",
      "\tat scala.collection.AbstractIterable.foreach(Iterable.scala:56)\n",
      "\tat scala.collection.mutable.MapLike.toSeq(MapLike.scala:75)\n",
      "\tat scala.collection.mutable.MapLike.toSeq$(MapLike.scala:72)\n",
      "\tat scala.collection.mutable.AbstractMap.toSeq(Map.scala:82)\n",
      "\tat org.apache.spark.scheduler.EventLoggingListener.redactProperties(EventLoggingListener.scala:290)\n",
      "\tat org.apache.spark.scheduler.EventLoggingListener.onJobStart(EventLoggingListener.scala:162)\n",
      "\tat org.apache.spark.scheduler.SparkListenerBus.doPostEvent(SparkListenerBus.scala:37)\n",
      "\tat org.apache.spark.scheduler.SparkListenerBus.doPostEvent$(SparkListenerBus.scala:28)\n",
      "\tat org.apache.spark.scheduler.AsyncEventQueue.doPostEvent(AsyncEventQueue.scala:37)\n",
      "\tat org.apache.spark.scheduler.AsyncEventQueue.doPostEvent(AsyncEventQueue.scala:37)\n",
      "\tat org.apache.spark.util.ListenerBus.postToAll(ListenerBus.scala:117)\n",
      "\tat org.apache.spark.util.ListenerBus.postToAll$(ListenerBus.scala:101)\n",
      "\tat org.apache.spark.scheduler.AsyncEventQueue.super$postToAll(AsyncEventQueue.scala:105)\n",
      "\tat org.apache.spark.scheduler.AsyncEventQueue.$anonfun$dispatch$1(AsyncEventQueue.scala:105)\n",
      "\tat scala.runtime.java8.JFunction0$mcJ$sp.apply(JFunction0$mcJ$sp.java:23)\n",
      "\tat scala.util.DynamicVariable.withValue(DynamicVariable.scala:62)\n",
      "\tat org.apache.spark.scheduler.AsyncEventQueue.org$apache$spark$scheduler$AsyncEventQueue$$dispatch(AsyncEventQueue.scala:100)\n",
      "\tat org.apache.spark.scheduler.AsyncEventQueue$$anon$2.$anonfun$run$1(AsyncEventQueue.scala:96)\n",
      "\tat org.apache.spark.util.Utils$.tryOrStopSparkContext(Utils.scala:1381)\n",
      "\tat org.apache.spark.scheduler.AsyncEventQueue$$anon$2.run(AsyncEventQueue.scala:96)\n",
      "24/10/22 08:12:23 ERROR AsyncEventQueue: Listener EventLoggingListener threw an exception\n",
      "java.util.ConcurrentModificationException\n",
      "\tat java.util.Hashtable$Enumerator.next(Hashtable.java:1387)\n",
      "\tat scala.collection.convert.Wrappers$JPropertiesWrapper$$anon$6.next(Wrappers.scala:424)\n",
      "\tat scala.collection.convert.Wrappers$JPropertiesWrapper$$anon$6.next(Wrappers.scala:420)\n",
      "\tat scala.collection.Iterator.foreach(Iterator.scala:941)\n",
      "\tat scala.collection.Iterator.foreach$(Iterator.scala:941)\n",
      "\tat scala.collection.AbstractIterator.foreach(Iterator.scala:1429)\n",
      "\tat scala.collection.IterableLike.foreach(IterableLike.scala:74)\n",
      "\tat scala.collection.IterableLike.foreach$(IterableLike.scala:73)\n",
      "\tat scala.collection.AbstractIterable.foreach(Iterable.scala:56)\n",
      "\tat scala.collection.mutable.MapLike.toSeq(MapLike.scala:75)\n",
      "\tat scala.collection.mutable.MapLike.toSeq$(MapLike.scala:72)\n",
      "\tat scala.collection.mutable.AbstractMap.toSeq(Map.scala:82)\n",
      "\tat org.apache.spark.scheduler.EventLoggingListener.redactProperties(EventLoggingListener.scala:290)\n",
      "\tat org.apache.spark.scheduler.EventLoggingListener.onJobStart(EventLoggingListener.scala:162)\n",
      "\tat org.apache.spark.scheduler.SparkListenerBus.doPostEvent(SparkListenerBus.scala:37)\n",
      "\tat org.apache.spark.scheduler.SparkListenerBus.doPostEvent$(SparkListenerBus.scala:28)\n",
      "\tat org.apache.spark.scheduler.AsyncEventQueue.doPostEvent(AsyncEventQueue.scala:37)\n",
      "\tat org.apache.spark.scheduler.AsyncEventQueue.doPostEvent(AsyncEventQueue.scala:37)\n",
      "\tat org.apache.spark.util.ListenerBus.postToAll(ListenerBus.scala:117)\n",
      "\tat org.apache.spark.util.ListenerBus.postToAll$(ListenerBus.scala:101)\n",
      "\tat org.apache.spark.scheduler.AsyncEventQueue.super$postToAll(AsyncEventQueue.scala:105)\n",
      "\tat org.apache.spark.scheduler.AsyncEventQueue.$anonfun$dispatch$1(AsyncEventQueue.scala:105)\n",
      "\tat scala.runtime.java8.JFunction0$mcJ$sp.apply(JFunction0$mcJ$sp.java:23)\n",
      "\tat scala.util.DynamicVariable.withValue(DynamicVariable.scala:62)\n",
      "\tat org.apache.spark.scheduler.AsyncEventQueue.org$apache$spark$scheduler$AsyncEventQueue$$dispatch(AsyncEventQueue.scala:100)\n",
      "\tat org.apache.spark.scheduler.AsyncEventQueue$$anon$2.$anonfun$run$1(AsyncEventQueue.scala:96)\n",
      "\tat org.apache.spark.util.Utils$.tryOrStopSparkContext(Utils.scala:1381)\n",
      "\tat org.apache.spark.scheduler.AsyncEventQueue$$anon$2.run(AsyncEventQueue.scala:96)\n",
      "                                                                                \r"
     ]
    },
    {
     "name": "stdout",
     "output_type": "stream",
     "text": [
      "+----------+------------------+\n",
      "|  BUYER_ID|total_action_count|\n",
      "+----------+------------------+\n",
      "|1498530061|                 4|\n",
      "|  11245860|                 4|\n",
      "|1324204268|                 1|\n",
      "+----------+------------------+\n",
      "\n",
      " df_joined\n"
     ]
    },
    {
     "name": "stderr",
     "output_type": "stream",
     "text": [
      "                                                                                \r"
     ]
    },
    {
     "name": "stdout",
     "output_type": "stream",
     "text": [
      "+----------+-------------+----------------+------------------+----------+\n",
      "|  BUYER_ID|LEAF_CATEG_ID|cat_action_count|total_action_count|proportion|\n",
      "+----------+-------------+----------------+------------------+----------+\n",
      "|  11245860|        47173|               3|                 4|      0.75|\n",
      "|  11245860|       127413|               1|                 4|      0.25|\n",
      "|1324204268|         2885|               1|                 1|       1.0|\n",
      "|1498530061|       168135|               4|                 4|       1.0|\n",
      "+----------+-------------+----------------+------------------+----------+\n",
      "\n",
      " df_entropy\n"
     ]
    },
    {
     "name": "stderr",
     "output_type": "stream",
     "text": [
      "                                                                                \r"
     ]
    },
    {
     "name": "stdout",
     "output_type": "stream",
     "text": [
      "+----------+------------+\n",
      "|  BUYER_ID| proportions|\n",
      "+----------+------------+\n",
      "|  11245860|[0.75, 0.25]|\n",
      "|1324204268|       [1.0]|\n",
      "|1498530061|       [1.0]|\n",
      "+----------+------------+\n",
      "\n",
      " df_entropy\n"
     ]
    },
    {
     "name": "stderr",
     "output_type": "stream",
     "text": [
      "                                                                                \r"
     ]
    },
    {
     "name": "stdout",
     "output_type": "stream",
     "text": [
      "+----------+----------------+\n",
      "|  BUYER_ID|category_entropy|\n",
      "+----------+----------------+\n",
      "|  11245860|          0.8113|\n",
      "|1324204268|             0.0|\n",
      "|1498530061|             0.0|\n",
      "+----------+----------------+\n",
      "\n",
      " action- base\n"
     ]
    },
    {
     "name": "stderr",
     "output_type": "stream",
     "text": [
      "                                                                                \r"
     ]
    },
    {
     "name": "stdout",
     "output_type": "stream",
     "text": [
      "+----------+------------+-------------------+-------------+\n",
      "|  BUYER_ID|     ITEM_ID|    EVENT_TIMESTAMP|CATEG_LVL2_ID|\n",
      "+----------+------------+-------------------+-------------+\n",
      "|  11245860|276101471735|2023-10-22 12:54:59|       181423|\n",
      "|  11245860|305361302999|2024-01-26 20:00:33|       181423|\n",
      "|  11245860|355150487000|2024-02-08 05:47:24|       181423|\n",
      "|  11245860|394837544814|2023-09-03 20:09:15|       181417|\n",
      "|  11245860|305331573736|2024-01-04 22:05:08|       181423|\n",
      "|  11245860|305334594647|2024-01-07 20:00:41|       181423|\n",
      "|  11245860|305236392270|2023-11-05 19:52:50|       181423|\n",
      "|  11245860|354418076799|2023-12-29 21:50:15|       181423|\n",
      "|  11245860|305236393574|2023-11-05 19:55:23|       181423|\n",
      "|  11245860|305321018508|2023-12-26 20:52:29|       181423|\n",
      "|  11245860|305435207585|2024-03-12 21:32:53|       181423|\n",
      "|  11245860|305315907480|2023-12-22 20:30:44|       181423|\n",
      "|  11245860|305101779759|2023-09-04 20:07:42|       181423|\n",
      "|  11245860|285517341019|2023-10-22 07:19:43|       181423|\n",
      "|  11245860|276101405247|2023-10-22 12:06:55|       181423|\n",
      "|1498530061|404678532104|2024-01-15 21:19:59|          631|\n",
      "|1498530061|314821705039|2023-09-11 02:49:50|          631|\n",
      "|1498530061|385829607761|2023-08-02 04:23:18|          631|\n",
      "|1498530061|305469856828|2024-03-25 03:46:10|          631|\n",
      "|1498530061|404752755173|2024-01-20 05:30:47|          631|\n",
      "+----------+------------+-------------------+-------------+\n",
      "only showing top 20 rows\n",
      "\n",
      " df_counts\n"
     ]
    },
    {
     "name": "stderr",
     "output_type": "stream",
     "text": [
      "                                                                                \r"
     ]
    },
    {
     "name": "stdout",
     "output_type": "stream",
     "text": [
      "+----------+-------------+----------------+\n",
      "|  BUYER_ID|CATEG_LVL2_ID|cat_action_count|\n",
      "+----------+-------------+----------------+\n",
      "|1498530061|          631|             113|\n",
      "|1324204268|        24409|               1|\n",
      "|  11245860|       181423|              33|\n",
      "|  11245860|       181417|               9|\n",
      "+----------+-------------+----------------+\n",
      "\n",
      " df_total\n"
     ]
    },
    {
     "name": "stderr",
     "output_type": "stream",
     "text": [
      "                                                                                \r"
     ]
    },
    {
     "name": "stdout",
     "output_type": "stream",
     "text": [
      "+----------+------------------+\n",
      "|  BUYER_ID|total_action_count|\n",
      "+----------+------------------+\n",
      "|1498530061|               113|\n",
      "|  11245860|                42|\n",
      "|1324204268|                 1|\n",
      "+----------+------------------+\n",
      "\n",
      " df_joined\n"
     ]
    },
    {
     "name": "stderr",
     "output_type": "stream",
     "text": [
      "                                                                                \r"
     ]
    },
    {
     "name": "stdout",
     "output_type": "stream",
     "text": [
      "+----------+-------------+----------------+------------------+-------------------+\n",
      "|  BUYER_ID|CATEG_LVL2_ID|cat_action_count|total_action_count|         proportion|\n",
      "+----------+-------------+----------------+------------------+-------------------+\n",
      "|  11245860|       181417|               9|                42|0.21428571428571427|\n",
      "|  11245860|       181423|              33|                42| 0.7857142857142857|\n",
      "|1324204268|        24409|               1|                 1|                1.0|\n",
      "|1498530061|          631|             113|               113|                1.0|\n",
      "+----------+-------------+----------------+------------------+-------------------+\n",
      "\n",
      " df_entropy\n"
     ]
    },
    {
     "name": "stderr",
     "output_type": "stream",
     "text": [
      "                                                                                \r"
     ]
    },
    {
     "name": "stdout",
     "output_type": "stream",
     "text": [
      "+----------+--------------------+\n",
      "|  BUYER_ID|         proportions|\n",
      "+----------+--------------------+\n",
      "|  11245860|[0.21428571428571...|\n",
      "|1324204268|               [1.0]|\n",
      "|1498530061|               [1.0]|\n",
      "+----------+--------------------+\n",
      "\n",
      " df_entropy\n"
     ]
    },
    {
     "name": "stderr",
     "output_type": "stream",
     "text": [
      "                                                                                \r"
     ]
    },
    {
     "name": "stdout",
     "output_type": "stream",
     "text": [
      "+----------+----------------+\n",
      "|  BUYER_ID|category_entropy|\n",
      "+----------+----------------+\n",
      "|  11245860|          0.7496|\n",
      "|1324204268|             0.0|\n",
      "|1498530061|             0.0|\n",
      "+----------+----------------+\n",
      "\n",
      " action- base\n"
     ]
    },
    {
     "name": "stderr",
     "output_type": "stream",
     "text": [
      "                                                                                \r"
     ]
    },
    {
     "name": "stdout",
     "output_type": "stream",
     "text": [
      "+--------+------------+-------------------+-------------+\n",
      "|BUYER_ID|     ITEM_ID|    EVENT_TIMESTAMP|META_CATEG_ID|\n",
      "+--------+------------+-------------------+-------------+\n",
      "|11245860|276101471735|2023-10-22 12:54:59|          260|\n",
      "|11245860|276101471735|2023-10-22 12:54:59|          260|\n",
      "|11245860|305361302999|2024-01-26 20:00:33|          260|\n",
      "|11245860|305361302999|2024-01-26 20:00:33|          260|\n",
      "|11245860|305287969183|2023-12-03 17:00:42|          260|\n",
      "|11245860|305287969183|2023-12-03 17:00:42|          260|\n",
      "|11245860|305107038480|2023-09-06 19:41:31|          260|\n",
      "|11245860|305107038480|2023-09-06 19:41:31|          260|\n",
      "|11245860|305337587903|2024-01-09 22:08:30|          260|\n",
      "|11245860|305337587903|2024-01-09 22:08:30|          260|\n",
      "|11245860|305137182725|2023-09-20 19:10:42|          260|\n",
      "|11245860|305137182725|2023-09-20 19:10:42|          260|\n",
      "|11245860|305327858107|2024-01-01 21:14:50|          260|\n",
      "|11245860|305327858107|2024-01-01 21:14:50|          260|\n",
      "|11245860|305332802842|2024-01-05 21:57:34|          260|\n",
      "|11245860|305332802842|2024-01-05 21:57:34|          260|\n",
      "|11245860|305291330918|2023-12-05 18:31:39|          260|\n",
      "|11245860|305291330918|2023-12-05 18:31:39|          260|\n",
      "|11245860|305337583117|2024-01-09 22:04:36|          260|\n",
      "|11245860|305337583117|2024-01-09 22:04:36|          260|\n",
      "+--------+------------+-------------------+-------------+\n",
      "only showing top 20 rows\n",
      "\n",
      " df_counts\n"
     ]
    },
    {
     "name": "stderr",
     "output_type": "stream",
     "text": [
      "                                                                                \r"
     ]
    },
    {
     "name": "stdout",
     "output_type": "stream",
     "text": [
      "+----------+-------------+----------------+\n",
      "|  BUYER_ID|META_CATEG_ID|cat_action_count|\n",
      "+----------+-------------+----------------+\n",
      "|1498530061|        11700|             121|\n",
      "|  11245860|          260|            1424|\n",
      "|1324204268|        64482|               1|\n",
      "+----------+-------------+----------------+\n",
      "\n",
      " df_total\n"
     ]
    },
    {
     "name": "stderr",
     "output_type": "stream",
     "text": [
      "                                                                                \r"
     ]
    },
    {
     "name": "stdout",
     "output_type": "stream",
     "text": [
      "+----------+------------------+\n",
      "|  BUYER_ID|total_action_count|\n",
      "+----------+------------------+\n",
      "|  11245860|              1424|\n",
      "|1498530061|               121|\n",
      "|1324204268|                 1|\n",
      "+----------+------------------+\n",
      "\n",
      " df_joined\n"
     ]
    },
    {
     "name": "stderr",
     "output_type": "stream",
     "text": [
      "                                                                                \r"
     ]
    },
    {
     "name": "stdout",
     "output_type": "stream",
     "text": [
      "+----------+-------------+----------------+------------------+----------+\n",
      "|  BUYER_ID|META_CATEG_ID|cat_action_count|total_action_count|proportion|\n",
      "+----------+-------------+----------------+------------------+----------+\n",
      "|  11245860|          260|            1424|              1424|       1.0|\n",
      "|1324204268|        64482|               1|                 1|       1.0|\n",
      "|1498530061|        11700|             121|               121|       1.0|\n",
      "+----------+-------------+----------------+------------------+----------+\n",
      "\n",
      " df_entropy\n"
     ]
    },
    {
     "name": "stderr",
     "output_type": "stream",
     "text": [
      "                                                                                \r"
     ]
    },
    {
     "name": "stdout",
     "output_type": "stream",
     "text": [
      "+----------+-----------+\n",
      "|  BUYER_ID|proportions|\n",
      "+----------+-----------+\n",
      "|  11245860|      [1.0]|\n",
      "|1324204268|      [1.0]|\n",
      "|1498530061|      [1.0]|\n",
      "+----------+-----------+\n",
      "\n",
      " df_entropy\n"
     ]
    },
    {
     "name": "stderr",
     "output_type": "stream",
     "text": [
      "                                                                                \r"
     ]
    },
    {
     "name": "stdout",
     "output_type": "stream",
     "text": [
      "+----------+----------------+\n",
      "|  BUYER_ID|category_entropy|\n",
      "+----------+----------------+\n",
      "|  11245860|             0.0|\n",
      "|1324204268|             0.0|\n",
      "|1498530061|             0.0|\n",
      "+----------+----------------+\n",
      "\n"
     ]
    },
    {
     "name": "stderr",
     "output_type": "stream",
     "text": [
      "[Stage 714:=================================>                 (245 + 130) / 375]000]]]]]\r"
     ]
    },
    {
     "name": "stdout",
     "output_type": "stream",
     "text": [
      "+----------+-------------+---------------+-------------+-------------+---------------+-----+--------------------+--------------------+--------------------+---------------------------+---------------------------+---------------------------+\n",
      "|  BUYER_ID|META_CATEG_ID|EVENT_TIMESTAMP|CATEG_LVL2_ID|LEAF_CATEG_ID|num_repurchases|label|     LEAF_CATEG_NAME|     CATEG_LVL2_NAME|     META_CATEG_NAME|f_LEAF_cat_purchase_entropy|f_LVL2_cat_purchase_entropy|f_META_cat_purchase_entropy|\n",
      "+----------+-------------+---------------+-------------+-------------+---------------+-----+--------------------+--------------------+--------------------+---------------------------+---------------------------+---------------------------+\n",
      "|  11245860|          260|     2024-05-01|       181417|        47173|              0|    0|Stamps:Latin Amer...|       Latin America|              Stamps|                     0.8113|                     0.7496|                        0.0|\n",
      "|  11245860|          260|     2024-05-01|       181417|        47173|              0|    0|Stamps:Latin Amer...|       Latin America|              Stamps|                     0.8113|                     0.7496|                        0.0|\n",
      "|  11245860|          260|     2024-05-01|       181423|       127413|              0|    0|Stamps:Africa:Sou...|              Africa|              Stamps|                     0.8113|                     0.7496|                        0.0|\n",
      "|  11245860|          260|     2024-05-01|       181423|       127413|              0|    0|Stamps:Africa:Sou...|              Africa|              Stamps|                     0.8113|                     0.7496|                        0.0|\n",
      "|1498530061|        11700|     2024-05-01|          631|       168135|              6|    1|Home & Garden:Too...|Tools & Workshop ...|       Home & Garden|                        0.0|                        0.0|                        0.0|\n",
      "|1324204268|        64482|     2024-05-01|        24409|         2885|              0|    0|Sports Mem, Cards...|Fan Apparel & Sou...|Sports Mem, Cards...|                        0.0|                        0.0|                        0.0|\n",
      "+----------+-------------+---------------+-------------+-------------+---------------+-----+--------------------+--------------------+--------------------+---------------------------+---------------------------+---------------------------+\n",
      "\n"
     ]
    },
    {
     "name": "stderr",
     "output_type": "stream",
     "text": [
      "                                                                                \r"
     ]
    }
   ],
   "source": [
    "# Step 3: Calculate features for LEAF category\n",
    "df_ft_leaf = f_category_entropy(df_smp_sample, df_prch_sample,  action_type=\"purchase\", cat_type=\"LEAF\")\n",
    "df_res_t = add_feature(df_smp_sample, df_ft_leaf, join_key=\"LEAF_CATEG_ID\")\n",
    "\n",
    "# Step 4: Calculate features for LVL2 category\n",
    "df_ft_lvl2 = f_category_entropy(df_smp_sample, df_prch_sample,  action_type=\"purchase\", cat_type=\"LVL2\")\n",
    "df_res_t = add_feature(df_res_t, df_ft_lvl2, join_key=\"CATEG_LVL2_ID\")\n",
    "\n",
    "# Step 5: Calculate features for META category\n",
    "df_ft_meta = f_category_entropy(df_smp_sample, df_prch_sample,  action_type=\"purchase\", cat_type=\"META\")\n",
    "df_res_t = add_feature(df_res_t, df_ft_meta, join_key=\"META_CATEG_ID\")\n",
    "\n",
    "df_res_t.show()"
   ]
  },
  {
   "cell_type": "code",
   "execution_count": 13,
   "id": "6dc577c6-0caa-4cc4-873a-bb16b2a0d325",
   "metadata": {},
   "outputs": [
    {
     "data": {
      "text/plain": [
       "['BUYER_ID',\n",
       " 'META_CATEG_ID',\n",
       " 'EVENT_TIMESTAMP',\n",
       " 'CATEG_LVL2_ID',\n",
       " 'LEAF_CATEG_ID',\n",
       " 'num_repurchases',\n",
       " 'label',\n",
       " 'LEAF_CATEG_NAME',\n",
       " 'CATEG_LVL2_NAME',\n",
       " 'META_CATEG_NAME',\n",
       " 'f_LEAF_cat_purchase_entropy',\n",
       " 'f_LVL2_cat_purchase_entropy',\n",
       " 'f_META_cat_purchase_entropy']"
      ]
     },
     "execution_count": 13,
     "metadata": {},
     "output_type": "execute_result"
    }
   ],
   "source": [
    "df_res_t.columns"
   ]
  },
  {
   "cell_type": "markdown",
   "id": "3f001cbf-c0f3-459c-8983-1bc8dc3ef0be",
   "metadata": {},
   "source": [
    "##### test add features calc:"
   ]
  },
  {
   "cell_type": "code",
   "execution_count": 9,
   "id": "f93f128a-5a49-4547-aeb8-b5d968c174b3",
   "metadata": {
    "scrolled": true,
    "tags": []
   },
   "outputs": [
    {
     "name": "stderr",
     "output_type": "stream",
     "text": [
      "                                                                                0]]]\r"
     ]
    },
    {
     "name": "stdout",
     "output_type": "stream",
     "text": [
      "5\n"
     ]
    },
    {
     "name": "stderr",
     "output_type": "stream",
     "text": [
      "[Stage 159:================================>                  (237 + 138) / 375]00]]]\r"
     ]
    },
    {
     "name": "stdout",
     "output_type": "stream",
     "text": [
      "+----------+-------------+---------------+-------------+-------------+---------------+-----+--------------------+--------------------+--------------------+--------------------------------+--------------------------------+--------------------------------+\n",
      "|  BUYER_ID|META_CATEG_ID|EVENT_TIMESTAMP|CATEG_LVL2_ID|LEAF_CATEG_ID|num_repurchases|label|     LEAF_CATEG_NAME|     CATEG_LVL2_NAME|     META_CATEG_NAME|f_entropy_for_LEAF_cat_purchases|f_entropy_for_LVL2_cat_purchases|f_entropy_for_META_cat_purchases|\n",
      "+----------+-------------+---------------+-------------+-------------+---------------+-----+--------------------+--------------------+--------------------+--------------------------------+--------------------------------+--------------------------------+\n",
      "|  11245860|          260|     2024-05-01|       181417|        47173|              0|    0|Stamps:Latin Amer...|       Latin America|              Stamps|                          0.8113|                          0.7496|                             0.0|\n",
      "|  11245860|          260|     2024-05-01|       181423|       127413|              0|    0|Stamps:Africa:Sou...|              Africa|              Stamps|                          0.8113|                          0.7496|                             0.0|\n",
      "|1498530061|        11700|     2024-05-01|          631|       168135|              6|    1|Home & Garden:Too...|Tools & Workshop ...|       Home & Garden|                             0.0|                             0.0|                             0.0|\n",
      "|1324204268|        64482|     2024-05-01|        24409|         2885|              0|    0|Sports Mem, Cards...|Fan Apparel & Sou...|Sports Mem, Cards...|                             0.0|                             0.0|                             0.0|\n",
      "|1132069035|        64482|     2024-05-01|        24409|        24410|              0|    0|Sports Mem, Cards...|Fan Apparel & Sou...|Sports Mem, Cards...|                             0.0|                             0.0|                             0.0|\n",
      "+----------+-------------+---------------+-------------+-------------+---------------+-----+--------------------+--------------------+--------------------+--------------------------------+--------------------------------+--------------------------------+\n",
      "\n",
      "None\n"
     ]
    },
    {
     "name": "stderr",
     "output_type": "stream",
     "text": [
      "                                                                                \r"
     ]
    }
   ],
   "source": [
    "import features as F\n",
    "\n",
    "# Step 3: Calculate features for LEAF category\n",
    "df_ft_leaf = F.f_category_entropy(df_smp_sample, df_prch_sample,  action_type=\"purchase\", cat_type=\"LEAF\")\n",
    "df_res_t = F.add_feature(df_smp_sample, df_ft_leaf, join_key=\"LEAF_CATEG_ID\")\n",
    "\n",
    "# Step 4: Calculate features for LVL2 category\n",
    "df_ft_lvl2 = F.f_category_entropy(df_smp_sample, df_prch_sample,  action_type=\"purchase\", cat_type=\"LVL2\")\n",
    "df_res_t = F.add_feature(df_res_t, df_ft_lvl2, join_key=\"CATEG_LVL2_ID\")\n",
    "\n",
    "# Step 5: Calculate features for META category\n",
    "df_ft_meta = F.f_category_entropy(df_smp_sample, df_prch_sample,  action_type=\"purchase\", cat_type=\"META\")\n",
    "df_res_t = F.add_feature(df_res_t, df_ft_meta, join_key=\"META_CATEG_ID\")\n",
    "print(df_res_t.count())\n",
    "print(df_res_t.show())"
   ]
  },
  {
   "cell_type": "code",
   "execution_count": null,
   "id": "af99d7d0-8ddb-4b9a-b39f-30ed8fb481a3",
   "metadata": {},
   "outputs": [],
   "source": [
    "df_res_t.columns"
   ]
  },
  {
   "cell_type": "code",
   "execution_count": 11,
   "id": "bfbbaf4c-e97d-4e77-93f2-4ed36da630c3",
   "metadata": {
    "scrolled": true,
    "tags": []
   },
   "outputs": [
    {
     "name": "stderr",
     "output_type": "stream",
     "text": [
      "24/10/29 11:36:20 ERROR AsyncEventQueue: Listener EventLoggingListener threw an exception\n",
      "java.util.ConcurrentModificationException\n",
      "\tat java.util.Hashtable$Enumerator.next(Hashtable.java:1387)\n",
      "\tat scala.collection.convert.Wrappers$JPropertiesWrapper$$anon$6.next(Wrappers.scala:424)\n",
      "\tat scala.collection.convert.Wrappers$JPropertiesWrapper$$anon$6.next(Wrappers.scala:420)\n",
      "\tat scala.collection.Iterator.foreach(Iterator.scala:941)\n",
      "\tat scala.collection.Iterator.foreach$(Iterator.scala:941)\n",
      "\tat scala.collection.AbstractIterator.foreach(Iterator.scala:1429)\n",
      "\tat scala.collection.IterableLike.foreach(IterableLike.scala:74)\n",
      "\tat scala.collection.IterableLike.foreach$(IterableLike.scala:73)\n",
      "\tat scala.collection.AbstractIterable.foreach(Iterable.scala:56)\n",
      "\tat scala.collection.mutable.MapLike.toSeq(MapLike.scala:75)\n",
      "\tat scala.collection.mutable.MapLike.toSeq$(MapLike.scala:72)\n",
      "\tat scala.collection.mutable.AbstractMap.toSeq(Map.scala:82)\n",
      "\tat org.apache.spark.scheduler.EventLoggingListener.redactProperties(EventLoggingListener.scala:290)\n",
      "\tat org.apache.spark.scheduler.EventLoggingListener.onJobStart(EventLoggingListener.scala:162)\n",
      "\tat org.apache.spark.scheduler.SparkListenerBus.doPostEvent(SparkListenerBus.scala:37)\n",
      "\tat org.apache.spark.scheduler.SparkListenerBus.doPostEvent$(SparkListenerBus.scala:28)\n",
      "\tat org.apache.spark.scheduler.AsyncEventQueue.doPostEvent(AsyncEventQueue.scala:37)\n",
      "\tat org.apache.spark.scheduler.AsyncEventQueue.doPostEvent(AsyncEventQueue.scala:37)\n",
      "\tat org.apache.spark.util.ListenerBus.postToAll(ListenerBus.scala:117)\n",
      "\tat org.apache.spark.util.ListenerBus.postToAll$(ListenerBus.scala:101)\n",
      "\tat org.apache.spark.scheduler.AsyncEventQueue.super$postToAll(AsyncEventQueue.scala:105)\n",
      "\tat org.apache.spark.scheduler.AsyncEventQueue.$anonfun$dispatch$1(AsyncEventQueue.scala:105)\n",
      "\tat scala.runtime.java8.JFunction0$mcJ$sp.apply(JFunction0$mcJ$sp.java:23)\n",
      "\tat scala.util.DynamicVariable.withValue(DynamicVariable.scala:62)\n",
      "\tat org.apache.spark.scheduler.AsyncEventQueue.org$apache$spark$scheduler$AsyncEventQueue$$dispatch(AsyncEventQueue.scala:100)\n",
      "\tat org.apache.spark.scheduler.AsyncEventQueue$$anon$2.$anonfun$run$1(AsyncEventQueue.scala:96)\n",
      "\tat org.apache.spark.util.Utils$.tryOrStopSparkContext(Utils.scala:1381)\n",
      "\tat org.apache.spark.scheduler.AsyncEventQueue$$anon$2.run(AsyncEventQueue.scala:96)\n",
      "[Stage 283:=================================>                 (243 + 132) / 375]000]]]\r"
     ]
    },
    {
     "name": "stdout",
     "output_type": "stream",
     "text": [
      "+----------+-------------+--------------------------------+--------------------------------+--------------------------------+\n",
      "|  BUYER_ID|LEAF_CATEG_ID|f_entropy_for_LEAF_cat_purchases|f_entropy_for_LVL2_cat_purchases|f_entropy_for_META_cat_purchases|\n",
      "+----------+-------------+--------------------------------+--------------------------------+--------------------------------+\n",
      "|  11245860|        47173|                          0.8113|                          0.7496|                             0.0|\n",
      "|  11245860|       127413|                          0.8113|                          0.7496|                             0.0|\n",
      "|1498530061|       168135|                             0.0|                             0.0|                             0.0|\n",
      "|1324204268|         2885|                             0.0|                             0.0|                             0.0|\n",
      "|1132069035|        24410|                             0.0|                             0.0|                             0.0|\n",
      "+----------+-------------+--------------------------------+--------------------------------+--------------------------------+\n",
      "\n"
     ]
    },
    {
     "name": "stderr",
     "output_type": "stream",
     "text": [
      "                                                                                \r"
     ]
    }
   ],
   "source": [
    "\n",
    "df_res_t.select(\"BUYER_ID\" ,\"LEAF_CATEG_ID\",\"f_entropy_for_LEAF_cat_purchases\",\"f_entropy_for_LVL2_cat_purchases\",\"f_entropy_for_META_cat_purchases\").show()"
   ]
  },
  {
   "cell_type": "code",
   "execution_count": 8,
   "id": "3e9d7279-0a11-41b8-883f-6ba870e01042",
   "metadata": {
    "scrolled": true,
    "tags": []
   },
   "outputs": [
    {
     "name": "stdout",
     "output_type": "stream",
     "text": [
      " action- base\n"
     ]
    },
    {
     "name": "stderr",
     "output_type": "stream",
     "text": [
      "                                                                                \r"
     ]
    },
    {
     "name": "stdout",
     "output_type": "stream",
     "text": [
      "+----------+------------+-------------------+-------------+\n",
      "|  BUYER_ID|     ITEM_ID|    EVENT_TIMESTAMP|LEAF_CATEG_ID|\n",
      "+----------+------------+-------------------+-------------+\n",
      "|1498530061|404678532104|2024-01-15 21:19:59|       168135|\n",
      "|1498530061|314821705039|2023-09-11 02:49:50|       168135|\n",
      "|1498530061|385829607761|2023-08-02 04:23:18|       168135|\n",
      "|1498530061|305469856828|2024-03-25 03:46:10|       168135|\n",
      "|  11245860|305238529560|2023-11-06 20:54:19|        47173|\n",
      "|  11245860|305403756032|2024-02-25 20:26:12|        47173|\n",
      "|  11245860|404455166831|2023-09-03 18:39:10|        47173|\n",
      "|1324204268|175992311998|2023-12-24 22:29:05|         2885|\n",
      "|  11245860|305338864187|2024-01-10 21:33:54|       127413|\n",
      "+----------+------------+-------------------+-------------+\n",
      "\n",
      " df_counts\n"
     ]
    },
    {
     "name": "stderr",
     "output_type": "stream",
     "text": [
      "                                                                                \r"
     ]
    },
    {
     "name": "stdout",
     "output_type": "stream",
     "text": [
      "+----------+-------------+----------------+\n",
      "|  BUYER_ID|LEAF_CATEG_ID|cat_action_count|\n",
      "+----------+-------------+----------------+\n",
      "|  11245860|        47173|               3|\n",
      "|  11245860|       127413|               1|\n",
      "|1498530061|       168135|               4|\n",
      "|1324204268|         2885|               1|\n",
      "+----------+-------------+----------------+\n",
      "\n",
      " df_total\n"
     ]
    },
    {
     "name": "stderr",
     "output_type": "stream",
     "text": [
      "                                                                                \r"
     ]
    },
    {
     "name": "stdout",
     "output_type": "stream",
     "text": [
      "+----------+------------------+\n",
      "|  BUYER_ID|total_action_count|\n",
      "+----------+------------------+\n",
      "|  11245860|                 4|\n",
      "|1324204268|                 1|\n",
      "|1498530061|                 4|\n",
      "+----------+------------------+\n",
      "\n",
      " df_joined\n"
     ]
    },
    {
     "name": "stderr",
     "output_type": "stream",
     "text": [
      "                                                                                \r"
     ]
    },
    {
     "name": "stdout",
     "output_type": "stream",
     "text": [
      "+----------+-------------+----------------+------------------+----------+\n",
      "|  BUYER_ID|LEAF_CATEG_ID|cat_action_count|total_action_count|proportion|\n",
      "+----------+-------------+----------------+------------------+----------+\n",
      "|  11245860|       127413|               1|                 4|      0.25|\n",
      "|  11245860|        47173|               3|                 4|      0.75|\n",
      "|1324204268|         2885|               1|                 1|       1.0|\n",
      "|1498530061|       168135|               4|                 4|       1.0|\n",
      "+----------+-------------+----------------+------------------+----------+\n",
      "\n",
      " df_entropy\n"
     ]
    },
    {
     "name": "stderr",
     "output_type": "stream",
     "text": [
      "                                                                                \r"
     ]
    },
    {
     "name": "stdout",
     "output_type": "stream",
     "text": [
      "+----------+------------+\n",
      "|  BUYER_ID| proportions|\n",
      "+----------+------------+\n",
      "|  11245860|[0.75, 0.25]|\n",
      "|1324204268|       [1.0]|\n",
      "|1498530061|       [1.0]|\n",
      "+----------+------------+\n",
      "\n",
      " df_entropy\n"
     ]
    },
    {
     "name": "stderr",
     "output_type": "stream",
     "text": [
      "                                                                                \r"
     ]
    },
    {
     "name": "stdout",
     "output_type": "stream",
     "text": [
      "+----------+------------------+\n",
      "|  BUYER_ID|  category_entropy|\n",
      "+----------+------------------+\n",
      "|  11245860|0.8112781244591328|\n",
      "|1324204268|              -0.0|\n",
      "|1498530061|              -0.0|\n",
      "+----------+------------------+\n",
      "\n"
     ]
    }
   ],
   "source": [
    "df_ft_leaf = f_category_entropy(df_smp_sample, df_prch_sample,  action_type=\"purchase\", cat_type=\"LEAF\")\n",
    "df_res_t = add_feature(df_smp_sample, df_ft_leaf, join_key=\"LEAF_CATEG_ID\")"
   ]
  },
  {
   "cell_type": "code",
   "execution_count": 9,
   "id": "cbcee95c-5fce-4693-8368-cbfdcca7aafe",
   "metadata": {
    "scrolled": true,
    "tags": []
   },
   "outputs": [
    {
     "name": "stderr",
     "output_type": "stream",
     "text": [
      "24/10/21 09:38:38 ERROR AsyncEventQueue: Listener EventLoggingListener threw an exception\n",
      "java.util.ConcurrentModificationException\n",
      "\tat java.util.Hashtable$Enumerator.next(Hashtable.java:1387)\n",
      "\tat scala.collection.convert.Wrappers$JPropertiesWrapper$$anon$6.next(Wrappers.scala:424)\n",
      "\tat scala.collection.convert.Wrappers$JPropertiesWrapper$$anon$6.next(Wrappers.scala:420)\n",
      "\tat scala.collection.Iterator.foreach(Iterator.scala:941)\n",
      "\tat scala.collection.Iterator.foreach$(Iterator.scala:941)\n",
      "\tat scala.collection.AbstractIterator.foreach(Iterator.scala:1429)\n",
      "\tat scala.collection.IterableLike.foreach(IterableLike.scala:74)\n",
      "\tat scala.collection.IterableLike.foreach$(IterableLike.scala:73)\n",
      "\tat scala.collection.AbstractIterable.foreach(Iterable.scala:56)\n",
      "\tat scala.collection.mutable.MapLike.toSeq(MapLike.scala:75)\n",
      "\tat scala.collection.mutable.MapLike.toSeq$(MapLike.scala:72)\n",
      "\tat scala.collection.mutable.AbstractMap.toSeq(Map.scala:82)\n",
      "\tat org.apache.spark.scheduler.EventLoggingListener.redactProperties(EventLoggingListener.scala:290)\n",
      "\tat org.apache.spark.scheduler.EventLoggingListener.onJobStart(EventLoggingListener.scala:162)\n",
      "\tat org.apache.spark.scheduler.SparkListenerBus.doPostEvent(SparkListenerBus.scala:37)\n",
      "\tat org.apache.spark.scheduler.SparkListenerBus.doPostEvent$(SparkListenerBus.scala:28)\n",
      "\tat org.apache.spark.scheduler.AsyncEventQueue.doPostEvent(AsyncEventQueue.scala:37)\n",
      "\tat org.apache.spark.scheduler.AsyncEventQueue.doPostEvent(AsyncEventQueue.scala:37)\n",
      "\tat org.apache.spark.util.ListenerBus.postToAll(ListenerBus.scala:117)\n",
      "\tat org.apache.spark.util.ListenerBus.postToAll$(ListenerBus.scala:101)\n",
      "\tat org.apache.spark.scheduler.AsyncEventQueue.super$postToAll(AsyncEventQueue.scala:105)\n",
      "\tat org.apache.spark.scheduler.AsyncEventQueue.$anonfun$dispatch$1(AsyncEventQueue.scala:105)\n",
      "\tat scala.runtime.java8.JFunction0$mcJ$sp.apply(JFunction0$mcJ$sp.java:23)\n",
      "\tat scala.util.DynamicVariable.withValue(DynamicVariable.scala:62)\n",
      "\tat org.apache.spark.scheduler.AsyncEventQueue.org$apache$spark$scheduler$AsyncEventQueue$$dispatch(AsyncEventQueue.scala:100)\n",
      "\tat org.apache.spark.scheduler.AsyncEventQueue$$anon$2.$anonfun$run$1(AsyncEventQueue.scala:96)\n",
      "\tat org.apache.spark.util.Utils$.tryOrStopSparkContext(Utils.scala:1381)\n",
      "\tat org.apache.spark.scheduler.AsyncEventQueue$$anon$2.run(AsyncEventQueue.scala:96)\n",
      "[Stage 264:===============================>                   (230 + 145) / 375]000]]]\r"
     ]
    },
    {
     "name": "stdout",
     "output_type": "stream",
     "text": [
      "+----------+-------------+---------------+---------------+-----+--------------------+-------------+--------------------+-------------+--------------------+---------------+-----+--------------------+-------------+--------------------+-------------+--------------------+---------------------------+\n",
      "|  BUYER_ID|LEAF_CATEG_ID|EVENT_TIMESTAMP|num_repurchases|label|     LEAF_CATEG_NAME|CATEG_LVL2_ID|     CATEG_LVL2_NAME|META_CATEG_ID|     META_CATEG_NAME|num_repurchases|label|     LEAF_CATEG_NAME|CATEG_LVL2_ID|     CATEG_LVL2_NAME|META_CATEG_ID|     META_CATEG_NAME|f_LEAF_cat_purchase_entropy|\n",
      "+----------+-------------+---------------+---------------+-----+--------------------+-------------+--------------------+-------------+--------------------+---------------+-----+--------------------+-------------+--------------------+-------------+--------------------+---------------------------+\n",
      "|1498530061|       168135|     2024-05-01|              6|    1|Home & Garden:Too...|          631|Tools & Workshop ...|        11700|       Home & Garden|              6|    1|Home & Garden:Too...|          631|Tools & Workshop ...|        11700|       Home & Garden|                       -0.0|\n",
      "|  11245860|       127413|     2024-05-01|              0|    0|Stamps:Africa:Sou...|       181423|              Africa|          260|              Stamps|              0|    0|Stamps:Africa:Sou...|       181423|              Africa|          260|              Stamps|         0.8112781244591328|\n",
      "|  11245860|        47173|     2024-05-01|              0|    0|Stamps:Latin Amer...|       181417|       Latin America|          260|              Stamps|              0|    0|Stamps:Latin Amer...|       181417|       Latin America|          260|              Stamps|         0.8112781244591328|\n",
      "|1324204268|         2885|     2024-05-01|              0|    0|Sports Mem, Cards...|        24409|Fan Apparel & Sou...|        64482|Sports Mem, Cards...|              0|    0|Sports Mem, Cards...|        24409|Fan Apparel & Sou...|        64482|Sports Mem, Cards...|                       -0.0|\n",
      "+----------+-------------+---------------+---------------+-----+--------------------+-------------+--------------------+-------------+--------------------+---------------+-----+--------------------+-------------+--------------------+-------------+--------------------+---------------------------+\n",
      "\n"
     ]
    },
    {
     "name": "stderr",
     "output_type": "stream",
     "text": [
      "                                                                                \r"
     ]
    }
   ],
   "source": [
    "df_res_t.show()"
   ]
  },
  {
   "cell_type": "code",
   "execution_count": 15,
   "id": "fed5b4cf-de66-46d7-9819-b929849ffbfa",
   "metadata": {},
   "outputs": [
    {
     "name": "stderr",
     "output_type": "stream",
     "text": [
      "[Stage 340:=============================>                     (218 + 157) / 375]000]\r"
     ]
    },
    {
     "name": "stdout",
     "output_type": "stream",
     "text": [
      "+----------+-------------+---------------------------+\n",
      "|  BUYER_ID|LEAF_CATEG_ID|f_LEAF_cat_purchase_entropy|\n",
      "+----------+-------------+---------------------------+\n",
      "|  11245860|       127413|         0.8112781244591328|\n",
      "|  11245860|        47173|         0.8112781244591328|\n",
      "|1324204268|         2885|                       -0.0|\n",
      "|1498530061|       168135|                       -0.0|\n",
      "+----------+-------------+---------------------------+\n",
      "\n"
     ]
    },
    {
     "name": "stderr",
     "output_type": "stream",
     "text": [
      "                                                                                \r"
     ]
    }
   ],
   "source": [
    "\n",
    "df_res_t.select(\"BUYER_ID\" ,\"LEAF_CATEG_ID\",\"f_LEAF_cat_purchase_entropy\").show()"
   ]
  },
  {
   "cell_type": "markdown",
   "id": "453de312-b134-43dc-a1d9-3923cf384f8b",
   "metadata": {},
   "source": [
    "## difference between mean purchases/views "
   ]
  },
  {
   "cell_type": "code",
   "execution_count": 20,
   "id": "f5dc114a-b2fd-4215-a58e-c50bca8099cc",
   "metadata": {},
   "outputs": [
    {
     "name": "stderr",
     "output_type": "stream",
     "text": [
      "[Stage 441:===========>(999 + 1) / 1000][Stage 443:=====>    (535 + 299) / 1000]\r"
     ]
    }
   ],
   "source": [
    "from pyspark.sql import functions as F\n",
    "from pyspark.sql import Window\n",
    "import math\n",
    " \n",
    "\n",
    "def f_user_vs_mean_cat_actions_in_last_x_days(df_base, df_action, cat_type=\"LEAF\", days=30, action_type=\"purchase\"):\n",
    "    feature_name = f\"f_user_vs_mean_{action_type}_from_{cat_type}_cat_in_last_{days}_days\"\n",
    "    \n",
    "    # Step 1: Calculate user activity in the last 'days' period\n",
    "    df_user_actions = (\n",
    "        df_base.join(df_action, \n",
    "            (df_base.BUYER_ID == df_action.BUYER_ID) & \n",
    "            _leaf_condition(df_base, df_action, cat_type) &\n",
    "            (F.datediff(df_base.EVENT_TIMESTAMP, df_action.EVENT_TIMESTAMP) > 0) &\n",
    "            (F.datediff(df_base.EVENT_TIMESTAMP, df_action.EVENT_TIMESTAMP) <= days), \n",
    "            how=\"left\")\n",
    "        .groupBy(df_base.BUYER_ID, _leaf_id_col(df_base, cat_type), df_base.EVENT_TIMESTAMP)\n",
    "        .agg(F.count(df_action.EVENT_TIMESTAMP).alias(f\"user_{action_type}_count\"))\n",
    "    )\n",
    "\n",
    "    #print (\" df_user_actions\" ) \n",
    "    #df_user_actions.show() \n",
    "    \n",
    "    # Step 2: Calculate population mean and stddev only for values > 0\n",
    "    df_population_stats = (\n",
    "       # df_user_actions.filter(F.col(f\"user_{action_type}_count\") > 0)\n",
    "        df_user_actions.groupBy(_leaf_id_col(df_user_actions, cat_type))\n",
    "        .agg(\n",
    "            F.mean(f\"user_{action_type}_count\").alias(\"population_mean\"),\n",
    "            F.stddev(f\"user_{action_type}_count\").alias(\"population_stddev\")\n",
    "        )\n",
    "    )\n",
    "    #print (\" df_population_stats\" ) \n",
    "    #df_population_stats.show() \n",
    "    \n",
    "    # Step 3: Join user actions with population stats and calculate z-score\n",
    "    df_result = (\n",
    "        df_user_actions.join(\n",
    "            df_population_stats, \n",
    "            on=_leaf_condition(df_user_actions, df_population_stats, cat_type), \n",
    "            how=\"left\"\n",
    "        )\n",
    "        .withColumn(\n",
    "            feature_name, \n",
    "            F.when(\n",
    "                (F.col(\"population_stddev\") > 0) & (F.col(\"population_stddev\").isNotNull()), \n",
    "                (F.col(f\"user_{action_type}_count\") - F.col(\"population_mean\")) / F.col(\"population_stddev\")\n",
    "            ).otherwise(0)\n",
    "        )\n",
    "        .fillna(0,subset=[feature_name] )\n",
    "    ).select(\n",
    "            df_user_actions.BUYER_ID,\n",
    "            _leaf_id_col(df_user_actions, cat_type),\n",
    "            df_user_actions.EVENT_TIMESTAMP,\n",
    "            F.col(feature_name))\n",
    "    \n",
    "    df_res = df_result.distinct() \n",
    "    \n",
    "    #print(\"df_res_no_dups\")\n",
    "    #print(df_res.show())\n",
    "    return df_res\n",
    "    \n",
    "   "
   ]
  },
  {
   "cell_type": "markdown",
   "id": "a49fe408-30cf-4d5a-bf08-b57ff95bb019",
   "metadata": {},
   "source": [
    "#### tests:"
   ]
  },
  {
   "cell_type": "code",
   "execution_count": 18,
   "id": "8642acba-7187-4533-b8b2-0caf38496584",
   "metadata": {},
   "outputs": [
    {
     "name": "stdout",
     "output_type": "stream",
     "text": [
      "df_res_no_dups\n"
     ]
    },
    {
     "name": "stderr",
     "output_type": "stream",
     "text": [
      "[Stage 439:=============================>                     (217 + 158) / 375]000]\r"
     ]
    },
    {
     "name": "stdout",
     "output_type": "stream",
     "text": [
      "+----------+-------------+---------------+-----------------------------------------------------+\n",
      "|  BUYER_ID|LEAF_CATEG_ID|EVENT_TIMESTAMP|f_user_vs_mean_purchase_from_LEAF_cat_in_last_30_days|\n",
      "+----------+-------------+---------------+-----------------------------------------------------+\n",
      "|1324204268|         2885|     2024-05-01|                                                  0.0|\n",
      "|  11245860|       127413|     2024-05-01|                                                  0.0|\n",
      "|1498530061|       168135|     2024-05-01|                                                  0.0|\n",
      "|  11245860|        47173|     2024-05-01|                                                  0.0|\n",
      "|1132069035|        24410|     2024-05-01|                                                  0.0|\n",
      "+----------+-------------+---------------+-----------------------------------------------------+\n",
      "\n",
      "None\n"
     ]
    },
    {
     "name": "stderr",
     "output_type": "stream",
     "text": [
      "                                                                                \r"
     ]
    }
   ],
   "source": [
    "df_tsf= f_user_vs_mean_cat_actions_in_last_x_days(df_smp_sample, df_prch_sample, cat_type=\"LEAF\", days=30 ,action_type=\"purchase\")\n"
   ]
  },
  {
   "cell_type": "code",
   "execution_count": 15,
   "id": "f69dcb70-96fb-4f29-84f5-c7f8777c8a90",
   "metadata": {
    "scrolled": true,
    "tags": []
   },
   "outputs": [
    {
     "name": "stdout",
     "output_type": "stream",
     "text": [
      " df_user_actions\n"
     ]
    },
    {
     "name": "stderr",
     "output_type": "stream",
     "text": [
      "                                                                                \r"
     ]
    },
    {
     "name": "stdout",
     "output_type": "stream",
     "text": [
      "+----------+-------------+---------------+-------------------+\n",
      "|  BUYER_ID|LEAF_CATEG_ID|EVENT_TIMESTAMP|user_purchase_count|\n",
      "+----------+-------------+---------------+-------------------+\n",
      "|  11245860|        47173|     2024-05-01|                  0|\n",
      "|1132069035|        24410|     2024-05-01|                  0|\n",
      "|  11245860|       127413|     2024-05-01|                  0|\n",
      "|1498530061|       168135|     2024-05-01|                  0|\n",
      "|1324204268|         2885|     2024-05-01|                  0|\n",
      "+----------+-------------+---------------+-------------------+\n",
      "\n",
      " df_population_stats\n"
     ]
    },
    {
     "name": "stderr",
     "output_type": "stream",
     "text": [
      "24/10/29 12:04:40 ERROR AsyncEventQueue: Listener EventLoggingListener threw an exception\n",
      "java.util.ConcurrentModificationException\n",
      "\tat java.util.Hashtable$Enumerator.next(Hashtable.java:1387)\n",
      "\tat scala.collection.convert.Wrappers$JPropertiesWrapper$$anon$6.next(Wrappers.scala:424)\n",
      "\tat scala.collection.convert.Wrappers$JPropertiesWrapper$$anon$6.next(Wrappers.scala:420)\n",
      "\tat scala.collection.Iterator.foreach(Iterator.scala:941)\n",
      "\tat scala.collection.Iterator.foreach$(Iterator.scala:941)\n",
      "\tat scala.collection.AbstractIterator.foreach(Iterator.scala:1429)\n",
      "\tat scala.collection.IterableLike.foreach(IterableLike.scala:74)\n",
      "\tat scala.collection.IterableLike.foreach$(IterableLike.scala:73)\n",
      "\tat scala.collection.AbstractIterable.foreach(Iterable.scala:56)\n",
      "\tat scala.collection.mutable.MapLike.toSeq(MapLike.scala:75)\n",
      "\tat scala.collection.mutable.MapLike.toSeq$(MapLike.scala:72)\n",
      "\tat scala.collection.mutable.AbstractMap.toSeq(Map.scala:82)\n",
      "\tat org.apache.spark.scheduler.EventLoggingListener.redactProperties(EventLoggingListener.scala:290)\n",
      "\tat org.apache.spark.scheduler.EventLoggingListener.onJobStart(EventLoggingListener.scala:162)\n",
      "\tat org.apache.spark.scheduler.SparkListenerBus.doPostEvent(SparkListenerBus.scala:37)\n",
      "\tat org.apache.spark.scheduler.SparkListenerBus.doPostEvent$(SparkListenerBus.scala:28)\n",
      "\tat org.apache.spark.scheduler.AsyncEventQueue.doPostEvent(AsyncEventQueue.scala:37)\n",
      "\tat org.apache.spark.scheduler.AsyncEventQueue.doPostEvent(AsyncEventQueue.scala:37)\n",
      "\tat org.apache.spark.util.ListenerBus.postToAll(ListenerBus.scala:117)\n",
      "\tat org.apache.spark.util.ListenerBus.postToAll$(ListenerBus.scala:101)\n",
      "\tat org.apache.spark.scheduler.AsyncEventQueue.super$postToAll(AsyncEventQueue.scala:105)\n",
      "\tat org.apache.spark.scheduler.AsyncEventQueue.$anonfun$dispatch$1(AsyncEventQueue.scala:105)\n",
      "\tat scala.runtime.java8.JFunction0$mcJ$sp.apply(JFunction0$mcJ$sp.java:23)\n",
      "\tat scala.util.DynamicVariable.withValue(DynamicVariable.scala:62)\n",
      "\tat org.apache.spark.scheduler.AsyncEventQueue.org$apache$spark$scheduler$AsyncEventQueue$$dispatch(AsyncEventQueue.scala:100)\n",
      "\tat org.apache.spark.scheduler.AsyncEventQueue$$anon$2.$anonfun$run$1(AsyncEventQueue.scala:96)\n",
      "\tat org.apache.spark.util.Utils$.tryOrStopSparkContext(Utils.scala:1381)\n",
      "\tat org.apache.spark.scheduler.AsyncEventQueue$$anon$2.run(AsyncEventQueue.scala:96)\n",
      "[Stage 403:==========================================>         (306 + 69) / 375]\r"
     ]
    },
    {
     "name": "stdout",
     "output_type": "stream",
     "text": [
      "+-------------+---------------+-----------------+\n",
      "|LEAF_CATEG_ID|population_mean|population_stddev|\n",
      "+-------------+---------------+-----------------+\n",
      "|         2885|            0.0|              NaN|\n",
      "|       127413|            0.0|              NaN|\n",
      "|       168135|            0.0|              NaN|\n",
      "|        47173|            0.0|              NaN|\n",
      "|        24410|            0.0|              NaN|\n",
      "+-------------+---------------+-----------------+\n",
      "\n",
      "df_res_no_dups\n"
     ]
    },
    {
     "name": "stderr",
     "output_type": "stream",
     "text": [
      "                                                                                \r"
     ]
    },
    {
     "ename": "NameError",
     "evalue": "name 'df_res_no_dups' is not defined",
     "output_type": "error",
     "traceback": [
      "\u001b[0;31m---------------------------------------------------------------------------\u001b[0m",
      "\u001b[0;31mNameError\u001b[0m                                 Traceback (most recent call last)",
      "\u001b[0;32m/tmp/ipykernel_274110/953239158.py\u001b[0m in \u001b[0;36m<module>\u001b[0;34m\u001b[0m\n\u001b[0;32m----> 1\u001b[0;31m \u001b[0mdf_tsf\u001b[0m\u001b[0;34m=\u001b[0m \u001b[0mf_user_vs_mean_cat_actions_in_last_x_days\u001b[0m\u001b[0;34m(\u001b[0m\u001b[0mdf_smp_sample\u001b[0m\u001b[0;34m,\u001b[0m \u001b[0mdf_prch_sample\u001b[0m\u001b[0;34m,\u001b[0m \u001b[0mcat_type\u001b[0m\u001b[0;34m=\u001b[0m\u001b[0;34m\"LEAF\"\u001b[0m\u001b[0;34m,\u001b[0m \u001b[0mdays\u001b[0m\u001b[0;34m=\u001b[0m\u001b[0;36m30\u001b[0m \u001b[0;34m,\u001b[0m\u001b[0maction_type\u001b[0m\u001b[0;34m=\u001b[0m\u001b[0;34m\"purchase\"\u001b[0m\u001b[0;34m)\u001b[0m\u001b[0;34m\u001b[0m\u001b[0;34m\u001b[0m\u001b[0m\n\u001b[0m",
      "\u001b[0;32m/tmp/ipykernel_274110/400424509.py\u001b[0m in \u001b[0;36mf_user_vs_mean_cat_actions_in_last_x_days\u001b[0;34m(df_base, df_action, cat_type, days, action_type)\u001b[0m\n\u001b[1;32m     57\u001b[0m     \u001b[0mdf_res\u001b[0m \u001b[0;34m=\u001b[0m \u001b[0mdf_result\u001b[0m\u001b[0;34m.\u001b[0m\u001b[0mdistinct\u001b[0m\u001b[0;34m(\u001b[0m\u001b[0;34m)\u001b[0m\u001b[0;34m\u001b[0m\u001b[0;34m\u001b[0m\u001b[0m\n\u001b[1;32m     58\u001b[0m     \u001b[0mprint\u001b[0m\u001b[0;34m(\u001b[0m\u001b[0;34m\"df_res_no_dups\"\u001b[0m\u001b[0;34m)\u001b[0m\u001b[0;34m\u001b[0m\u001b[0;34m\u001b[0m\u001b[0m\n\u001b[0;32m---> 59\u001b[0;31m     \u001b[0mprint\u001b[0m\u001b[0;34m(\u001b[0m\u001b[0mdf_res_no_dups\u001b[0m\u001b[0;34m.\u001b[0m\u001b[0mshow\u001b[0m\u001b[0;34m(\u001b[0m\u001b[0;34m)\u001b[0m\u001b[0;34m)\u001b[0m\u001b[0;34m\u001b[0m\u001b[0;34m\u001b[0m\u001b[0m\n\u001b[0m\u001b[1;32m     60\u001b[0m     \u001b[0;32mreturn\u001b[0m \u001b[0mdf_res\u001b[0m\u001b[0;34m\u001b[0m\u001b[0;34m\u001b[0m\u001b[0m\n\u001b[1;32m     61\u001b[0m \u001b[0;34m\u001b[0m\u001b[0m\n",
      "\u001b[0;31mNameError\u001b[0m: name 'df_res_no_dups' is not defined"
     ]
    }
   ],
   "source": [
    "df_tsf= f_user_vs_mean_cat_actions_in_last_x_days(df_smp_sample, df_prch_sample, cat_type=\"LEAF\", days=30 ,action_type=\"purchase\")\n"
   ]
  },
  {
   "cell_type": "code",
   "execution_count": 21,
   "id": "b05a322e-942c-4f29-8d05-21af2e80a16d",
   "metadata": {},
   "outputs": [
    {
     "name": "stderr",
     "output_type": "stream",
     "text": [
      "                                                                                 / 4]]]]\r"
     ]
    },
    {
     "name": "stdout",
     "output_type": "stream",
     "text": [
      "5\n"
     ]
    },
    {
     "name": "stderr",
     "output_type": "stream",
     "text": [
      "                                                                                1000]]\r"
     ]
    },
    {
     "name": "stdout",
     "output_type": "stream",
     "text": [
      "5\n"
     ]
    },
    {
     "name": "stderr",
     "output_type": "stream",
     "text": [
      "                                                                                00]]]]\r"
     ]
    },
    {
     "name": "stdout",
     "output_type": "stream",
     "text": [
      "+----------+-------------+---------------+-------------+-------------+---------------+-----+--------------------+--------------------+--------------------+-----------------------------------------------------+-----------------------------------------------------+-----------------------------------------------------+\n",
      "|  BUYER_ID|META_CATEG_ID|EVENT_TIMESTAMP|CATEG_LVL2_ID|LEAF_CATEG_ID|num_repurchases|label|     LEAF_CATEG_NAME|     CATEG_LVL2_NAME|     META_CATEG_NAME|f_user_vs_mean_purchase_from_LEAF_cat_in_last_30_days|f_user_vs_mean_purchase_from_LVL2_cat_in_last_30_days|f_user_vs_mean_purchase_from_META_cat_in_last_30_days|\n",
      "+----------+-------------+---------------+-------------+-------------+---------------+-----+--------------------+--------------------+--------------------+-----------------------------------------------------+-----------------------------------------------------+-----------------------------------------------------+\n",
      "|  11245860|          260|     2024-05-01|       181423|       127413|              0|    0|Stamps:Africa:Sou...|              Africa|              Stamps|                                                  0.0|                                                  0.0|                                                  0.0|\n",
      "|  11245860|          260|     2024-05-01|       181417|        47173|              0|    0|Stamps:Latin Amer...|       Latin America|              Stamps|                                                  0.0|                                                  0.0|                                                  0.0|\n",
      "|1498530061|        11700|     2024-05-01|          631|       168135|              6|    1|Home & Garden:Too...|Tools & Workshop ...|       Home & Garden|                                                  0.0|                                                  0.0|                                                  0.0|\n",
      "|1324204268|        64482|     2024-05-01|        24409|         2885|              0|    0|Sports Mem, Cards...|Fan Apparel & Sou...|Sports Mem, Cards...|                                                  0.0|                                                  0.0|                                                  0.0|\n",
      "|1132069035|        64482|     2024-05-01|        24409|        24410|              0|    0|Sports Mem, Cards...|Fan Apparel & Sou...|Sports Mem, Cards...|                                                  0.0|                                                  0.0|                                                  0.0|\n",
      "+----------+-------------+---------------+-------------+-------------+---------------+-----+--------------------+--------------------+--------------------+-----------------------------------------------------+-----------------------------------------------------+-----------------------------------------------------+\n",
      "\n",
      "None\n"
     ]
    },
    {
     "name": "stderr",
     "output_type": "stream",
     "text": [
      "[Stage 652:>                                                        (0 + 1) / 1]1000]]]]\r"
     ]
    },
    {
     "name": "stdout",
     "output_type": "stream",
     "text": [
      "5\n"
     ]
    },
    {
     "name": "stderr",
     "output_type": "stream",
     "text": [
      "                                                                                \r"
     ]
    }
   ],
   "source": [
    "df_ft = f_user_vs_mean_cat_actions_in_last_x_days(df_smp_sample, df_prch_sample, cat_type=\"LEAF\", days=30 ,action_type=\"purchase\")\n",
    "df_res = add_feature(df_smp_sample, df_ft, join_key=\"LEAF_CATEG_ID\", how=\"inner\")\n",
    "print(df_res.count())\n",
    "\n",
    "df_ft = f_user_vs_mean_cat_actions_in_last_x_days(df_smp_sample, df_prch_sample, cat_type=\"LVL2\", days=30 ,action_type=\"purchase\") \n",
    "df_res = add_feature(df_res, df_ft, join_key=\"CATEG_LVL2_ID\", how=\"inner\")\n",
    "print(df_res.count()) \n",
    "\n",
    "df_ft = f_user_vs_mean_cat_actions_in_last_x_days(df_smp_sample, df_prch_sample, cat_type=\"META\", days=30 ,action_type=\"purchase\") \n",
    "df_res = add_feature(df_res, df_ft, join_key=\"META_CATEG_ID\", how=\"inner\")\n",
    "print(df_res.show())\n",
    "print(df_res.count()) "
   ]
  },
  {
   "cell_type": "code",
   "execution_count": null,
   "id": "70f2fa11-03b9-4d9d-8b09-8aa44ba72760",
   "metadata": {},
   "outputs": [],
   "source": [
    "import features as F\n",
    "\n",
    "\n",
    "# Step 3: Calculate features for LEAF category\n",
    "df_ft_leaf = F.f_views_since_last_purchase_in_cat(df_smp_sample, df_prch_sample, df_vi_sample, cat_type=\"LEAF\")\n",
    "df_res_t = F.add_feature(df_smp_sample, df_ft_leaf, join_key=\"LEAF_CATEG_ID\")\n",
    "\n",
    "# Step 4: Calculate features for LVL2 category\n",
    "df_ft_lvl2 = F.f_views_since_last_purchase_in_cat(df_smp_sample, df_prch_sample, df_vi_sample, cat_type=\"LVL2\")\n",
    "df_res_t = F.add_feature(df_res_t, df_ft_lvl2, join_key=\"CATEG_LVL2_ID\")\n",
    "\n",
    "# Step 5: Calculate features for META category\n",
    "df_ft_meta = F.f_views_since_last_purchase_in_cat(df_smp_sample, df_prch_sample, df_vi_sample, cat_type=\"META\")\n",
    "df_res_t = F.add_feature(df_res_t, df_ft_meta, join_key=\"META_CATEG_ID\")\n",
    "\n",
    "\n",
    "df_res_t.show()"
   ]
  },
  {
   "cell_type": "code",
   "execution_count": 4,
   "id": "426a206f-7c9e-4eec-a0f6-7e48945707f8",
   "metadata": {},
   "outputs": [
    {
     "name": "stderr",
     "output_type": "stream",
     "text": [
      "                                                                                \r"
     ]
    }
   ],
   "source": [
    "# Step 1: Sample 20 distinct buyer IDs from df_smp\n",
    "sample_buyers = [row[\"BUYER_ID\"] for row in df_smp.select(\"BUYER_ID\").distinct().limit(100).collect()]\n",
    "\n",
    "# Step 2: Filter df_smp, df_prch, and df_vi to only include those specific buyers\n",
    "df_smp_sample = df_smp.filter(df_smp.BUYER_ID.isin(sample_buyers))\n",
    "df_prch_sample = df_prch.filter(df_prch.BUYER_ID.isin(sample_buyers))\n",
    "df_vi_sample = df_vi.filter(df_vi.BUYER_ID.isin(sample_buyers))"
   ]
  },
  {
   "cell_type": "code",
   "execution_count": 4,
   "id": "85d9260c-61c7-42bb-907b-a5d190760a9a",
   "metadata": {},
   "outputs": [],
   "source": [
    "from pyspark.sql import functions as F\n",
    "import feature_helpers as fe\n",
    "from pyspark.sql.types import FloatType\n",
    "import numpy as np\n",
    "\n",
    "#sample_buyers = (df_smp.select(\"BUYER_ID\").distinct().limit(20)).collect()\n",
    "# Step 1: Define the specific buyer IDs you want to sample\n",
    "specific_buyer_ids = [11245860, 1498530061, 1324204268,20696,258212,24541,23782,15709]\n",
    "\n",
    "# Step 2: Filter df_smp, df_prch, and df_vi to only include those specific buyers\n",
    "df_smp_sample = df_smp.filter(df_smp.BUYER_ID.isin(specific_buyer_ids))\n",
    "df_prch_sample = df_prch.filter(df_prch.BUYER_ID.isin(specific_buyer_ids))\n",
    "df_vi_sample = df_vi.filter(df_vi.BUYER_ID.isin(specific_buyer_ids))"
   ]
  },
  {
   "cell_type": "code",
   "execution_count": 5,
   "id": "9fbe8ea2-a6f9-4a6b-b889-0a9a242ae759",
   "metadata": {
    "scrolled": true,
    "tags": []
   },
   "outputs": [
    {
     "name": "stdout",
     "output_type": "stream",
     "text": [
      " df_user_actions\n"
     ]
    },
    {
     "name": "stderr",
     "output_type": "stream",
     "text": [
      "                                                                                \r"
     ]
    },
    {
     "name": "stdout",
     "output_type": "stream",
     "text": [
      "+----------+-------------+---------------+-------------------+\n",
      "|  BUYER_ID|LEAF_CATEG_ID|EVENT_TIMESTAMP|user_purchase_count|\n",
      "+----------+-------------+---------------+-------------------+\n",
      "|    839622|        20696|     2024-05-01|                  2|\n",
      "|   8248926|        23782|     2024-05-01|                  0|\n",
      "|  11245860|        47173|     2024-05-01|                  1|\n",
      "|  22447157|       261186|     2024-05-01|                  0|\n",
      "| 102058654|       178893|     2024-05-01|                  0|\n",
      "| 147993967|        29223|     2024-05-01|                  0|\n",
      "| 209859385|       105516|     2024-05-01|                  0|\n",
      "| 238279677|       117400|     2024-05-01|                  0|\n",
      "| 326936611|          206|     2024-05-01|                  0|\n",
      "| 556681734|        15053|     2024-05-01|                  0|\n",
      "| 993558660|        20349|     2024-05-01|                  1|\n",
      "|1033959804|       261186|     2024-05-01|                  1|\n",
      "|1036833091|       121848|     2024-05-01|                  0|\n",
      "|1059092323|       261028|     2024-05-01|                  1|\n",
      "|1243062385|       158906|     2024-05-01|                  0|\n",
      "|1749714821|        58540|     2024-05-01|                  0|\n",
      "|2034241998|         9355|     2024-05-01|                  1|\n",
      "|2542532356|        15709|     2024-05-01|                  0|\n",
      "|2618753932|        11858|     2024-05-01|                  1|\n",
      "|    452763|       258212|     2024-05-01|                  0|\n",
      "+----------+-------------+---------------+-------------------+\n",
      "only showing top 20 rows\n",
      "\n",
      " df_population_stats\n"
     ]
    },
    {
     "name": "stderr",
     "output_type": "stream",
     "text": [
      "24/10/27 11:45:32 ERROR AsyncEventQueue: Listener EventLoggingListener threw an exception\n",
      "java.util.ConcurrentModificationException\n",
      "\tat java.util.Hashtable$Enumerator.next(Hashtable.java:1387)\n",
      "\tat scala.collection.convert.Wrappers$JPropertiesWrapper$$anon$6.next(Wrappers.scala:424)\n",
      "\tat scala.collection.convert.Wrappers$JPropertiesWrapper$$anon$6.next(Wrappers.scala:420)\n",
      "\tat scala.collection.Iterator.foreach(Iterator.scala:941)\n",
      "\tat scala.collection.Iterator.foreach$(Iterator.scala:941)\n",
      "\tat scala.collection.AbstractIterator.foreach(Iterator.scala:1429)\n",
      "\tat scala.collection.IterableLike.foreach(IterableLike.scala:74)\n",
      "\tat scala.collection.IterableLike.foreach$(IterableLike.scala:73)\n",
      "\tat scala.collection.AbstractIterable.foreach(Iterable.scala:56)\n",
      "\tat scala.collection.mutable.MapLike.toSeq(MapLike.scala:75)\n",
      "\tat scala.collection.mutable.MapLike.toSeq$(MapLike.scala:72)\n",
      "\tat scala.collection.mutable.AbstractMap.toSeq(Map.scala:82)\n",
      "\tat org.apache.spark.scheduler.EventLoggingListener.redactProperties(EventLoggingListener.scala:290)\n",
      "\tat org.apache.spark.scheduler.EventLoggingListener.onJobStart(EventLoggingListener.scala:162)\n",
      "\tat org.apache.spark.scheduler.SparkListenerBus.doPostEvent(SparkListenerBus.scala:37)\n",
      "\tat org.apache.spark.scheduler.SparkListenerBus.doPostEvent$(SparkListenerBus.scala:28)\n",
      "\tat org.apache.spark.scheduler.AsyncEventQueue.doPostEvent(AsyncEventQueue.scala:37)\n",
      "\tat org.apache.spark.scheduler.AsyncEventQueue.doPostEvent(AsyncEventQueue.scala:37)\n",
      "\tat org.apache.spark.util.ListenerBus.postToAll(ListenerBus.scala:117)\n",
      "\tat org.apache.spark.util.ListenerBus.postToAll$(ListenerBus.scala:101)\n",
      "\tat org.apache.spark.scheduler.AsyncEventQueue.super$postToAll(AsyncEventQueue.scala:105)\n",
      "\tat org.apache.spark.scheduler.AsyncEventQueue.$anonfun$dispatch$1(AsyncEventQueue.scala:105)\n",
      "\tat scala.runtime.java8.JFunction0$mcJ$sp.apply(JFunction0$mcJ$sp.java:23)\n",
      "\tat scala.util.DynamicVariable.withValue(DynamicVariable.scala:62)\n",
      "\tat org.apache.spark.scheduler.AsyncEventQueue.org$apache$spark$scheduler$AsyncEventQueue$$dispatch(AsyncEventQueue.scala:100)\n",
      "\tat org.apache.spark.scheduler.AsyncEventQueue$$anon$2.$anonfun$run$1(AsyncEventQueue.scala:96)\n",
      "\tat org.apache.spark.util.Utils$.tryOrStopSparkContext(Utils.scala:1381)\n",
      "\tat org.apache.spark.scheduler.AsyncEventQueue$$anon$2.run(AsyncEventQueue.scala:96)\n",
      "                                                                                \r"
     ]
    },
    {
     "name": "stdout",
     "output_type": "stream",
     "text": [
      "+-------------+---------------+------------------+\n",
      "|LEAF_CATEG_ID|population_mean| population_stddev|\n",
      "+-------------+---------------+------------------+\n",
      "|       261044|            0.0|               NaN|\n",
      "|       261999|            0.0|               NaN|\n",
      "|       117400|            0.0|               NaN|\n",
      "|        52365|            0.0|               0.0|\n",
      "|       178893|            0.0|               0.0|\n",
      "|        74925|            1.0|               NaN|\n",
      "|         2885|            0.0|               NaN|\n",
      "|         3226|            0.0|               NaN|\n",
      "|       261028|            1.0|               NaN|\n",
      "|         9355|            1.0|               NaN|\n",
      "|        10960|            1.0|               NaN|\n",
      "|       139806|            0.0|               NaN|\n",
      "|        20349|            1.0|               NaN|\n",
      "|       261624|            1.0|               NaN|\n",
      "|       259859|            0.0|               NaN|\n",
      "|       260115|            0.0|               NaN|\n",
      "|        48706|            0.0|               NaN|\n",
      "|       158746|            0.0|               NaN|\n",
      "|       183069|            1.0|               NaN|\n",
      "|        53120|            0.5|0.7071067811865476|\n",
      "+-------------+---------------+------------------+\n",
      "only showing top 20 rows\n",
      "\n",
      "df_result\n"
     ]
    },
    {
     "name": "stderr",
     "output_type": "stream",
     "text": [
      "[Stage 130:===========>                                        (32 + 109) / 141]00]]\r"
     ]
    },
    {
     "name": "stdout",
     "output_type": "stream",
     "text": [
      "+----------+-------------+---------------+---------------+-----+--------------------+-------------+--------------------+-------------+--------------------+-----------------------------------------------------+\n",
      "|  BUYER_ID|LEAF_CATEG_ID|EVENT_TIMESTAMP|num_repurchases|label|     LEAF_CATEG_NAME|CATEG_LVL2_ID|     CATEG_LVL2_NAME|META_CATEG_ID|     META_CATEG_NAME|f_user_vs_mean_purchase_from_LEAF_cat_in_last_90_days|\n",
      "+----------+-------------+---------------+---------------+-----+--------------------+-------------+--------------------+-------------+--------------------+-----------------------------------------------------+\n",
      "|  17515348|        36032|     2024-05-01|              1|    1|Home & Garden:Kit...|        20625|Kitchen, Dining &...|        11700|       Home & Garden|                                                 -1.0|\n",
      "| 727415409|        85917|     2024-05-01|              0|    0|Home & Garden:Too...|          631|Tools & Workshop ...|        11700|       Home & Garden|                                                 -1.0|\n",
      "|2007886322|       158746|     2024-05-01|              0|    0|Toys & Hobbies:Pr...|        19169|Preschool Toys & ...|          220|      Toys & Hobbies|                                                 -1.0|\n",
      "| 102058654|       178893|     2024-05-01|              0|    0|Cell Phones & Acc...|       178893|       Smart Watches|        15032|Cell Phones & Acc...|                                                 -1.0|\n",
      "|1796827116|          617|     2024-05-01|              0|    0|Movies & TV:DVDs ...|          617|DVDs & Blu-ray Discs|        11232|         Movies & TV|                                   0.7071067811865475|\n",
      "| 141800510|        67408|     2024-05-01|              0|    0|Health & Beauty:S...|        31762|Shaving & Hair Re...|        26395|     Health & Beauty|                                                 -1.0|\n",
      "|1028831373|        50602|     2024-05-01|              0|    0|Consumer Electron...|        48446|Multipurpose Batt...|          293|Consumer Electronics|                                                 -1.0|\n",
      "|    839622|        20696|     2024-05-01|              0|    0|Home & Garden:Kit...|        20625|Kitchen, Dining &...|        11700|       Home & Garden|                                                 -1.0|\n",
      "| 150575312|       111289|     2024-05-01|              0|    0|Sporting Goods:Go...|         1513|                Golf|          888|      Sporting Goods|                                                 -1.0|\n",
      "|1132069035|        24410|     2024-05-01|              0|    0|Sports Mem, Cards...|        24409|Fan Apparel & Sou...|        64482|Sports Mem, Cards...|                                                 -1.0|\n",
      "|  18698040|       139806|     2024-05-01|              0|    0|Coins & Paper Mon...|          253|           Coins: US|        11116| Coins & Paper Money|                                                 -1.0|\n",
      "|1059092323|       261028|     2024-05-01|              0|    0|Sporting Goods:Fi...|         1492|             Fishing|          888|      Sporting Goods|                                                 -1.0|\n",
      "|1498530061|       168135|     2024-05-01|              6|    1|Home & Garden:Too...|          631|Tools & Workshop ...|        11700|       Home & Garden|                                                 -1.0|\n",
      "| 671658871|        53120|     2024-05-01|              0|    0|Clothing, Shoes &...|       260012|                 Men|        11450|Clothing, Shoes &...|                                   0.7071067811865475|\n",
      "|1848882824|        20445|     2024-05-01|              0|    0|Home & Garden:Bed...|        20444|             Bedding|        11700|       Home & Garden|                                                 -1.0|\n",
      "|2203671848|        29527|     2024-05-01|              0|    0|Home & Garden:Too...|          631|Tools & Workshop ...|        11700|       Home & Garden|                                                 -1.0|\n",
      "| 142518073|       259859|     2024-05-01|              0|    0|Home & Garden:Hom...|       159907|    Home Improvement|        11700|       Home & Garden|                                                 -1.0|\n",
      "| 438279715|        46435|     2024-05-01|              0|    0|Home & Garden:Yar...|       159912|Yard, Garden & Ou...|        11700|       Home & Garden|                                                 -1.0|\n",
      "|1159133810|       155183|     2024-05-01|              0|    0|Clothing, Shoes &...|       260012|                 Men|        11450|Clothing, Shoes &...|                                                 -1.0|\n",
      "|  80471728|        74925|     2024-05-01|              0|    0|Cameras & Photo:B...|        28179|Binoculars & Tele...|          625|     Cameras & Photo|                                                 -1.0|\n",
      "+----------+-------------+---------------+---------------+-----+--------------------+-------------+--------------------+-------------+--------------------+-----------------------------------------------------+\n",
      "only showing top 20 rows\n",
      "\n"
     ]
    },
    {
     "name": "stderr",
     "output_type": "stream",
     "text": [
      "                                                                                \r"
     ]
    }
   ],
   "source": [
    "# Step 3: Calculate features for LEAF category\n",
    "df_ft_leaf = f_user_vs_mean_cat_actions_in_last_x_days(df_smp_sample, df_prch_sample ,cat_type=\"LEAF\",days=90, action_type=\"purchase\" )\n",
    "df_res_t = add_feature(df_smp_sample, df_ft_leaf, join_key=\"LEAF_CATEG_ID\")\n",
    "df_res_t.show()"
   ]
  },
  {
   "cell_type": "code",
   "execution_count": 7,
   "id": "86c1839a-ff52-4ae8-b1d5-b697e498d4f5",
   "metadata": {
    "scrolled": true,
    "tags": []
   },
   "outputs": [
    {
     "name": "stderr",
     "output_type": "stream",
     "text": [
      "[Stage 161:==================================>                 (115 + 56) / 171]000]\r"
     ]
    },
    {
     "name": "stdout",
     "output_type": "stream",
     "text": [
      "+----------+-------------+-----------------------------------------------------+\n",
      "|  BUYER_ID|LEAF_CATEG_ID|f_user_vs_mean_purchase_from_LEAF_cat_in_last_90_days|\n",
      "+----------+-------------+-----------------------------------------------------+\n",
      "|  67114836|       261044|                                                 -1.0|\n",
      "|  53132737|       261999|                                                 -1.0|\n",
      "| 238279677|       117400|                                                 -1.0|\n",
      "| 782596511|        52365|                                                 -1.0|\n",
      "|2592723567|        52365|                                                 -1.0|\n",
      "|1122553165|       178893|                                                 -1.0|\n",
      "| 102058654|       178893|                                                 -1.0|\n",
      "|  80471728|        74925|                                                 -1.0|\n",
      "|1324204268|         2885|                                                 -1.0|\n",
      "| 113704205|         3226|                                                 -1.0|\n",
      "|1059092323|       261028|                                                 -1.0|\n",
      "|2034241998|         9355|                                                 -1.0|\n",
      "|1515408165|        10960|                                                 -1.0|\n",
      "|  18698040|       139806|                                                 -1.0|\n",
      "| 993558660|        20349|                                                 -1.0|\n",
      "|2618121509|       261624|                                                 -1.0|\n",
      "| 142518073|       259859|                                                 -1.0|\n",
      "|  67852790|       260115|                                                 -1.0|\n",
      "|1708210896|        48706|                                                 -1.0|\n",
      "|2007886322|       158746|                                                 -1.0|\n",
      "+----------+-------------+-----------------------------------------------------+\n",
      "only showing top 20 rows\n",
      "\n"
     ]
    },
    {
     "name": "stderr",
     "output_type": "stream",
     "text": [
      "                                                                                \r"
     ]
    }
   ],
   "source": [
    "df_res_t.select( [\"BUYER_ID\", \"LEAF_CATEG_ID\",\"f_user_vs_mean_purchase_from_LEAF_cat_in_last_90_days\"]).show()"
   ]
  },
  {
   "cell_type": "code",
   "execution_count": 8,
   "id": "18970bb2-ae2d-4333-af1c-174ecce0fad5",
   "metadata": {
    "scrolled": true,
    "tags": []
   },
   "outputs": [
    {
     "name": "stdout",
     "output_type": "stream",
     "text": [
      " df_user_actions\n"
     ]
    },
    {
     "name": "stderr",
     "output_type": "stream",
     "text": [
      "                                                                                \r"
     ]
    },
    {
     "name": "stdout",
     "output_type": "stream",
     "text": [
      "+----------+-------------+---------------+-------------------+\n",
      "|  BUYER_ID|LEAF_CATEG_ID|EVENT_TIMESTAMP|user_purchase_count|\n",
      "+----------+-------------+---------------+-------------------+\n",
      "|    839622|        20696|     2024-05-01|                  2|\n",
      "|   8248926|        23782|     2024-05-01|                  0|\n",
      "|  11245860|        47173|     2024-05-01|                  1|\n",
      "|  22447157|       261186|     2024-05-01|                  0|\n",
      "| 102058654|       178893|     2024-05-01|                  0|\n",
      "| 147993967|        29223|     2024-05-01|                  0|\n",
      "| 209859385|       105516|     2024-05-01|                  0|\n",
      "| 238279677|       117400|     2024-05-01|                  0|\n",
      "| 326936611|          206|     2024-05-01|                  0|\n",
      "| 556681734|        15053|     2024-05-01|                  0|\n",
      "| 993558660|        20349|     2024-05-01|                  1|\n",
      "|1033959804|       261186|     2024-05-01|                  1|\n",
      "|1036833091|       121848|     2024-05-01|                  0|\n",
      "|1059092323|       261028|     2024-05-01|                  1|\n",
      "|1243062385|       158906|     2024-05-01|                  0|\n",
      "|1749714821|        58540|     2024-05-01|                  0|\n",
      "|2034241998|         9355|     2024-05-01|                  1|\n",
      "|2542532356|        15709|     2024-05-01|                  0|\n",
      "|2618753932|        11858|     2024-05-01|                  1|\n",
      "|    452763|       258212|     2024-05-01|                  0|\n",
      "+----------+-------------+---------------+-------------------+\n",
      "only showing top 20 rows\n",
      "\n",
      " df_population_stats\n"
     ]
    },
    {
     "name": "stderr",
     "output_type": "stream",
     "text": [
      "                                                                                \r"
     ]
    },
    {
     "name": "stdout",
     "output_type": "stream",
     "text": [
      "+-------------+---------------+------------------+\n",
      "|LEAF_CATEG_ID|population_mean| population_stddev|\n",
      "+-------------+---------------+------------------+\n",
      "|       261044|            0.0|               NaN|\n",
      "|       261999|            0.0|               NaN|\n",
      "|       117400|            0.0|               NaN|\n",
      "|        52365|            0.0|               0.0|\n",
      "|       178893|            0.0|               0.0|\n",
      "|        74925|            1.0|               NaN|\n",
      "|         2885|            0.0|               NaN|\n",
      "|         3226|            0.0|               NaN|\n",
      "|       261028|            1.0|               NaN|\n",
      "|         9355|            1.0|               NaN|\n",
      "|        10960|            1.0|               NaN|\n",
      "|       139806|            0.0|               NaN|\n",
      "|        20349|            1.0|               NaN|\n",
      "|       261624|            1.0|               NaN|\n",
      "|       259859|            0.0|               NaN|\n",
      "|       260115|            0.0|               NaN|\n",
      "|        48706|            0.0|               NaN|\n",
      "|       158746|            0.0|               NaN|\n",
      "|       183069|            1.0|               NaN|\n",
      "|        53120|            0.5|0.7071067811865476|\n",
      "+-------------+---------------+------------------+\n",
      "only showing top 20 rows\n",
      "\n",
      "df_result\n"
     ]
    },
    {
     "name": "stderr",
     "output_type": "stream",
     "text": [
      "                                                                                0]]]\r"
     ]
    },
    {
     "name": "stdout",
     "output_type": "stream",
     "text": [
      "+----------+-------------+---------------+-----------------------------------------------------+\n",
      "|  BUYER_ID|LEAF_CATEG_ID|EVENT_TIMESTAMP|f_user_vs_mean_purchase_from_LEAF_cat_in_last_90_days|\n",
      "+----------+-------------+---------------+-----------------------------------------------------+\n",
      "|  67114836|       261044|     2024-05-01|                                                 -1.0|\n",
      "|  53132737|       261999|     2024-05-01|                                                 -1.0|\n",
      "| 238279677|       117400|     2024-05-01|                                                 -1.0|\n",
      "| 782596511|        52365|     2024-05-01|                                                 -1.0|\n",
      "|2592723567|        52365|     2024-05-01|                                                 -1.0|\n",
      "|1122553165|       178893|     2024-05-01|                                                 -1.0|\n",
      "| 102058654|       178893|     2024-05-01|                                                 -1.0|\n",
      "|  80471728|        74925|     2024-05-01|                                                 -1.0|\n",
      "|1324204268|         2885|     2024-05-01|                                                 -1.0|\n",
      "| 113704205|         3226|     2024-05-01|                                                 -1.0|\n",
      "|1059092323|       261028|     2024-05-01|                                                 -1.0|\n",
      "|2034241998|         9355|     2024-05-01|                                                 -1.0|\n",
      "|1515408165|        10960|     2024-05-01|                                                 -1.0|\n",
      "|  18698040|       139806|     2024-05-01|                                                 -1.0|\n",
      "| 993558660|        20349|     2024-05-01|                                                 -1.0|\n",
      "|2618121509|       261624|     2024-05-01|                                                 -1.0|\n",
      "| 142518073|       259859|     2024-05-01|                                                 -1.0|\n",
      "|  67852790|       260115|     2024-05-01|                                                 -1.0|\n",
      "|1708210896|        48706|     2024-05-01|                                                 -1.0|\n",
      "|2007886322|       158746|     2024-05-01|                                                 -1.0|\n",
      "+----------+-------------+---------------+-----------------------------------------------------+\n",
      "only showing top 20 rows\n",
      "\n",
      " df_user_actions\n"
     ]
    },
    {
     "name": "stderr",
     "output_type": "stream",
     "text": [
      "                                                                                \r"
     ]
    },
    {
     "name": "stdout",
     "output_type": "stream",
     "text": [
      "+----------+-------------+---------------+-------------------+\n",
      "|  BUYER_ID|LEAF_CATEG_ID|EVENT_TIMESTAMP|user_purchase_count|\n",
      "+----------+-------------+---------------+-------------------+\n",
      "|    839622|        20696|     2024-05-01|                  2|\n",
      "|   8248926|        23782|     2024-05-01|                  0|\n",
      "|  11245860|        47173|     2024-05-01|                  2|\n",
      "|  22447157|       261186|     2024-05-01|                  1|\n",
      "| 102058654|       178893|     2024-05-01|                  0|\n",
      "| 147993967|        29223|     2024-05-01|                  0|\n",
      "| 209859385|       105516|     2024-05-01|                  0|\n",
      "| 238279677|       117400|     2024-05-01|                  1|\n",
      "| 326936611|          206|     2024-05-01|                  1|\n",
      "| 556681734|        15053|     2024-05-01|                  0|\n",
      "| 993558660|        20349|     2024-05-01|                  1|\n",
      "|1033959804|       261186|     2024-05-01|                  1|\n",
      "|1036833091|       121848|     2024-05-01|                  0|\n",
      "|1059092323|       261028|     2024-05-01|                  1|\n",
      "|1243062385|       158906|     2024-05-01|                  1|\n",
      "|1749714821|        58540|     2024-05-01|                  1|\n",
      "|2034241998|         9355|     2024-05-01|                  1|\n",
      "|2542532356|        15709|     2024-05-01|                  1|\n",
      "|2618753932|        11858|     2024-05-01|                  1|\n",
      "|    452763|       258212|     2024-05-01|                  2|\n",
      "+----------+-------------+---------------+-------------------+\n",
      "only showing top 20 rows\n",
      "\n",
      " df_population_stats\n"
     ]
    },
    {
     "name": "stderr",
     "output_type": "stream",
     "text": [
      "                                                                                \r"
     ]
    },
    {
     "name": "stdout",
     "output_type": "stream",
     "text": [
      "+-------------+---------------+------------------+\n",
      "|LEAF_CATEG_ID|population_mean| population_stddev|\n",
      "+-------------+---------------+------------------+\n",
      "|       261044|            2.0|               NaN|\n",
      "|       261999|            0.0|               NaN|\n",
      "|       117400|            1.0|               NaN|\n",
      "|        52365|            0.5|0.7071067811865476|\n",
      "|       178893|            0.5|0.7071067811865476|\n",
      "|        74925|            2.0|               NaN|\n",
      "|         2885|            1.0|               NaN|\n",
      "|         3226|            0.0|               NaN|\n",
      "|       261028|            1.0|               NaN|\n",
      "|         9355|            1.0|               NaN|\n",
      "|        10960|            1.0|               NaN|\n",
      "|       139806|            0.0|               NaN|\n",
      "|        20349|            1.0|               NaN|\n",
      "|       261624|            1.0|               NaN|\n",
      "|       259859|            1.0|               NaN|\n",
      "|       260115|            0.0|               NaN|\n",
      "|        48706|            1.0|               NaN|\n",
      "|       158746|            1.0|               NaN|\n",
      "|       183069|            1.0|               NaN|\n",
      "|        53120|            0.5|0.7071067811865476|\n",
      "+-------------+---------------+------------------+\n",
      "only showing top 20 rows\n",
      "\n",
      "df_result\n"
     ]
    },
    {
     "name": "stderr",
     "output_type": "stream",
     "text": [
      "                                                                                00]]\r"
     ]
    },
    {
     "name": "stdout",
     "output_type": "stream",
     "text": [
      "+----------+-------------+---------------+------------------------------------------------------+\n",
      "|  BUYER_ID|LEAF_CATEG_ID|EVENT_TIMESTAMP|f_user_vs_mean_purchase_from_LEAF_cat_in_last_180_days|\n",
      "+----------+-------------+---------------+------------------------------------------------------+\n",
      "|  67114836|       261044|     2024-05-01|                                                  -1.0|\n",
      "|  53132737|       261999|     2024-05-01|                                                  -1.0|\n",
      "| 238279677|       117400|     2024-05-01|                                                  -1.0|\n",
      "| 782596511|        52365|     2024-05-01|                                   -0.7071067811865475|\n",
      "|2592723567|        52365|     2024-05-01|                                    0.7071067811865475|\n",
      "|1122553165|       178893|     2024-05-01|                                    0.7071067811865475|\n",
      "| 102058654|       178893|     2024-05-01|                                   -0.7071067811865475|\n",
      "|  80471728|        74925|     2024-05-01|                                                  -1.0|\n",
      "|1324204268|         2885|     2024-05-01|                                                  -1.0|\n",
      "| 113704205|         3226|     2024-05-01|                                                  -1.0|\n",
      "|1059092323|       261028|     2024-05-01|                                                  -1.0|\n",
      "|2034241998|         9355|     2024-05-01|                                                  -1.0|\n",
      "|1515408165|        10960|     2024-05-01|                                                  -1.0|\n",
      "|  18698040|       139806|     2024-05-01|                                                  -1.0|\n",
      "| 993558660|        20349|     2024-05-01|                                                  -1.0|\n",
      "|2618121509|       261624|     2024-05-01|                                                  -1.0|\n",
      "| 142518073|       259859|     2024-05-01|                                                  -1.0|\n",
      "|  67852790|       260115|     2024-05-01|                                                  -1.0|\n",
      "|1708210896|        48706|     2024-05-01|                                                  -1.0|\n",
      "|2007886322|       158746|     2024-05-01|                                                  -1.0|\n",
      "+----------+-------------+---------------+------------------------------------------------------+\n",
      "only showing top 20 rows\n",
      "\n",
      " df_user_actions\n"
     ]
    },
    {
     "name": "stderr",
     "output_type": "stream",
     "text": [
      "                                                                                \r"
     ]
    },
    {
     "name": "stdout",
     "output_type": "stream",
     "text": [
      "+----------+-------------+---------------+-------------------+\n",
      "|  BUYER_ID|LEAF_CATEG_ID|EVENT_TIMESTAMP|user_purchase_count|\n",
      "+----------+-------------+---------------+-------------------+\n",
      "|    839622|        20696|     2024-05-01|                  2|\n",
      "|   8248926|        23782|     2024-05-01|                  1|\n",
      "|  11245860|        47173|     2024-05-01|                  3|\n",
      "|  22447157|       261186|     2024-05-01|                  3|\n",
      "| 102058654|       178893|     2024-05-01|                  1|\n",
      "| 147993967|        29223|     2024-05-01|                  1|\n",
      "| 209859385|       105516|     2024-05-01|                  3|\n",
      "| 238279677|       117400|     2024-05-01|                  5|\n",
      "| 326936611|          206|     2024-05-01|                  1|\n",
      "| 556681734|        15053|     2024-05-01|                  1|\n",
      "| 993558660|        20349|     2024-05-01|                  1|\n",
      "|1033959804|       261186|     2024-05-01|                  1|\n",
      "|1036833091|       121848|     2024-05-01|                  1|\n",
      "|1059092323|       261028|     2024-05-01|                  1|\n",
      "|1243062385|       158906|     2024-05-01|                  1|\n",
      "|1749714821|        58540|     2024-05-01|                  1|\n",
      "|2034241998|         9355|     2024-05-01|                  1|\n",
      "|2542532356|        15709|     2024-05-01|                  1|\n",
      "|2618753932|        11858|     2024-05-01|                  1|\n",
      "|    452763|       258212|     2024-05-01|                  2|\n",
      "+----------+-------------+---------------+-------------------+\n",
      "only showing top 20 rows\n",
      "\n",
      " df_population_stats\n"
     ]
    },
    {
     "name": "stderr",
     "output_type": "stream",
     "text": [
      "24/10/27 11:54:46 ERROR AsyncEventQueue: Listener EventLoggingListener threw an exception\n",
      "java.util.ConcurrentModificationException\n",
      "\tat java.util.Hashtable$Enumerator.next(Hashtable.java:1387)\n",
      "\tat scala.collection.convert.Wrappers$JPropertiesWrapper$$anon$6.next(Wrappers.scala:424)\n",
      "\tat scala.collection.convert.Wrappers$JPropertiesWrapper$$anon$6.next(Wrappers.scala:420)\n",
      "\tat scala.collection.Iterator.foreach(Iterator.scala:941)\n",
      "\tat scala.collection.Iterator.foreach$(Iterator.scala:941)\n",
      "\tat scala.collection.AbstractIterator.foreach(Iterator.scala:1429)\n",
      "\tat scala.collection.IterableLike.foreach(IterableLike.scala:74)\n",
      "\tat scala.collection.IterableLike.foreach$(IterableLike.scala:73)\n",
      "\tat scala.collection.AbstractIterable.foreach(Iterable.scala:56)\n",
      "\tat scala.collection.mutable.MapLike.toSeq(MapLike.scala:75)\n",
      "\tat scala.collection.mutable.MapLike.toSeq$(MapLike.scala:72)\n",
      "\tat scala.collection.mutable.AbstractMap.toSeq(Map.scala:82)\n",
      "\tat org.apache.spark.scheduler.EventLoggingListener.redactProperties(EventLoggingListener.scala:290)\n",
      "\tat org.apache.spark.scheduler.EventLoggingListener.onJobStart(EventLoggingListener.scala:162)\n",
      "\tat org.apache.spark.scheduler.SparkListenerBus.doPostEvent(SparkListenerBus.scala:37)\n",
      "\tat org.apache.spark.scheduler.SparkListenerBus.doPostEvent$(SparkListenerBus.scala:28)\n",
      "\tat org.apache.spark.scheduler.AsyncEventQueue.doPostEvent(AsyncEventQueue.scala:37)\n",
      "\tat org.apache.spark.scheduler.AsyncEventQueue.doPostEvent(AsyncEventQueue.scala:37)\n",
      "\tat org.apache.spark.util.ListenerBus.postToAll(ListenerBus.scala:117)\n",
      "\tat org.apache.spark.util.ListenerBus.postToAll$(ListenerBus.scala:101)\n",
      "\tat org.apache.spark.scheduler.AsyncEventQueue.super$postToAll(AsyncEventQueue.scala:105)\n",
      "\tat org.apache.spark.scheduler.AsyncEventQueue.$anonfun$dispatch$1(AsyncEventQueue.scala:105)\n",
      "\tat scala.runtime.java8.JFunction0$mcJ$sp.apply(JFunction0$mcJ$sp.java:23)\n",
      "\tat scala.util.DynamicVariable.withValue(DynamicVariable.scala:62)\n",
      "\tat org.apache.spark.scheduler.AsyncEventQueue.org$apache$spark$scheduler$AsyncEventQueue$$dispatch(AsyncEventQueue.scala:100)\n",
      "\tat org.apache.spark.scheduler.AsyncEventQueue$$anon$2.$anonfun$run$1(AsyncEventQueue.scala:96)\n",
      "\tat org.apache.spark.util.Utils$.tryOrStopSparkContext(Utils.scala:1381)\n",
      "\tat org.apache.spark.scheduler.AsyncEventQueue$$anon$2.run(AsyncEventQueue.scala:96)\n",
      "24/10/27 11:54:46 ERROR AsyncEventQueue: Listener EventLoggingListener threw an exception\n",
      "java.util.ConcurrentModificationException\n",
      "\tat java.util.Hashtable$Enumerator.next(Hashtable.java:1387)\n",
      "\tat scala.collection.convert.Wrappers$JPropertiesWrapper$$anon$6.next(Wrappers.scala:424)\n",
      "\tat scala.collection.convert.Wrappers$JPropertiesWrapper$$anon$6.next(Wrappers.scala:420)\n",
      "\tat scala.collection.Iterator.foreach(Iterator.scala:941)\n",
      "\tat scala.collection.Iterator.foreach$(Iterator.scala:941)\n",
      "\tat scala.collection.AbstractIterator.foreach(Iterator.scala:1429)\n",
      "\tat scala.collection.IterableLike.foreach(IterableLike.scala:74)\n",
      "\tat scala.collection.IterableLike.foreach$(IterableLike.scala:73)\n",
      "\tat scala.collection.AbstractIterable.foreach(Iterable.scala:56)\n",
      "\tat scala.collection.mutable.MapLike.toSeq(MapLike.scala:75)\n",
      "\tat scala.collection.mutable.MapLike.toSeq$(MapLike.scala:72)\n",
      "\tat scala.collection.mutable.AbstractMap.toSeq(Map.scala:82)\n",
      "\tat org.apache.spark.scheduler.EventLoggingListener.redactProperties(EventLoggingListener.scala:290)\n",
      "\tat org.apache.spark.scheduler.EventLoggingListener.onJobStart(EventLoggingListener.scala:162)\n",
      "\tat org.apache.spark.scheduler.SparkListenerBus.doPostEvent(SparkListenerBus.scala:37)\n",
      "\tat org.apache.spark.scheduler.SparkListenerBus.doPostEvent$(SparkListenerBus.scala:28)\n",
      "\tat org.apache.spark.scheduler.AsyncEventQueue.doPostEvent(AsyncEventQueue.scala:37)\n",
      "\tat org.apache.spark.scheduler.AsyncEventQueue.doPostEvent(AsyncEventQueue.scala:37)\n",
      "\tat org.apache.spark.util.ListenerBus.postToAll(ListenerBus.scala:117)\n",
      "\tat org.apache.spark.util.ListenerBus.postToAll$(ListenerBus.scala:101)\n",
      "\tat org.apache.spark.scheduler.AsyncEventQueue.super$postToAll(AsyncEventQueue.scala:105)\n",
      "\tat org.apache.spark.scheduler.AsyncEventQueue.$anonfun$dispatch$1(AsyncEventQueue.scala:105)\n",
      "\tat scala.runtime.java8.JFunction0$mcJ$sp.apply(JFunction0$mcJ$sp.java:23)\n",
      "\tat scala.util.DynamicVariable.withValue(DynamicVariable.scala:62)\n",
      "\tat org.apache.spark.scheduler.AsyncEventQueue.org$apache$spark$scheduler$AsyncEventQueue$$dispatch(AsyncEventQueue.scala:100)\n",
      "\tat org.apache.spark.scheduler.AsyncEventQueue$$anon$2.$anonfun$run$1(AsyncEventQueue.scala:96)\n",
      "\tat org.apache.spark.util.Utils$.tryOrStopSparkContext(Utils.scala:1381)\n",
      "\tat org.apache.spark.scheduler.AsyncEventQueue$$anon$2.run(AsyncEventQueue.scala:96)\n",
      "                                                                                \r"
     ]
    },
    {
     "name": "stdout",
     "output_type": "stream",
     "text": [
      "+-------------+---------------+------------------+\n",
      "|LEAF_CATEG_ID|population_mean| population_stddev|\n",
      "+-------------+---------------+------------------+\n",
      "|       261044|            2.0|               NaN|\n",
      "|       261999|            1.0|               NaN|\n",
      "|       117400|            5.0|               NaN|\n",
      "|        52365|            1.0|               0.0|\n",
      "|       178893|            1.0|               0.0|\n",
      "|        74925|            2.0|               NaN|\n",
      "|         2885|            1.0|               NaN|\n",
      "|         3226|            1.0|               NaN|\n",
      "|       261028|            1.0|               NaN|\n",
      "|         9355|            1.0|               NaN|\n",
      "|        10960|            1.0|               NaN|\n",
      "|       139806|            1.0|               NaN|\n",
      "|        20349|            1.0|               NaN|\n",
      "|       261624|            1.0|               NaN|\n",
      "|       259859|            1.0|               NaN|\n",
      "|       260115|            1.0|               NaN|\n",
      "|        48706|            1.0|               NaN|\n",
      "|       158746|            1.0|               NaN|\n",
      "|       183069|            1.0|               NaN|\n",
      "|        53120|            1.5|0.7071067811865476|\n",
      "+-------------+---------------+------------------+\n",
      "only showing top 20 rows\n",
      "\n",
      "df_result\n"
     ]
    },
    {
     "name": "stderr",
     "output_type": "stream",
     "text": [
      "                                                                                000]\r"
     ]
    },
    {
     "name": "stdout",
     "output_type": "stream",
     "text": [
      "+----------+-------------+---------------+------------------------------------------------------+\n",
      "|  BUYER_ID|LEAF_CATEG_ID|EVENT_TIMESTAMP|f_user_vs_mean_purchase_from_LEAF_cat_in_last_360_days|\n",
      "+----------+-------------+---------------+------------------------------------------------------+\n",
      "|  67114836|       261044|     2024-05-01|                                                  -1.0|\n",
      "|  53132737|       261999|     2024-05-01|                                                  -1.0|\n",
      "| 238279677|       117400|     2024-05-01|                                                  -1.0|\n",
      "| 782596511|        52365|     2024-05-01|                                                  -1.0|\n",
      "|2592723567|        52365|     2024-05-01|                                                  -1.0|\n",
      "|1122553165|       178893|     2024-05-01|                                                  -1.0|\n",
      "| 102058654|       178893|     2024-05-01|                                                  -1.0|\n",
      "|  80471728|        74925|     2024-05-01|                                                  -1.0|\n",
      "|1324204268|         2885|     2024-05-01|                                                  -1.0|\n",
      "| 113704205|         3226|     2024-05-01|                                                  -1.0|\n",
      "|1059092323|       261028|     2024-05-01|                                                  -1.0|\n",
      "|2034241998|         9355|     2024-05-01|                                                  -1.0|\n",
      "|1515408165|        10960|     2024-05-01|                                                  -1.0|\n",
      "|  18698040|       139806|     2024-05-01|                                                  -1.0|\n",
      "| 993558660|        20349|     2024-05-01|                                                  -1.0|\n",
      "|2618121509|       261624|     2024-05-01|                                                  -1.0|\n",
      "| 142518073|       259859|     2024-05-01|                                                  -1.0|\n",
      "|  67852790|       260115|     2024-05-01|                                                  -1.0|\n",
      "|1708210896|        48706|     2024-05-01|                                                  -1.0|\n",
      "|2007886322|       158746|     2024-05-01|                                                  -1.0|\n",
      "+----------+-------------+---------------+------------------------------------------------------+\n",
      "only showing top 20 rows\n",
      "\n",
      " df_user_actions\n"
     ]
    },
    {
     "name": "stderr",
     "output_type": "stream",
     "text": [
      "                                                                                \r"
     ]
    },
    {
     "name": "stdout",
     "output_type": "stream",
     "text": [
      "+----------+-------------+---------------+-------------------+\n",
      "|  BUYER_ID|CATEG_LVL2_ID|EVENT_TIMESTAMP|user_purchase_count|\n",
      "+----------+-------------+---------------+-------------------+\n",
      "|1324204268|        24409|     2024-05-01|                  1|\n",
      "|1498530061|          631|     2024-05-01|                 60|\n",
      "| 141800510|        31762|     2024-05-01|                  0|\n",
      "|  22447157|       261186|     2024-05-01|                  1|\n",
      "| 100271924|         3858|     2024-05-01|                  5|\n",
      "| 102058654|       178893|     2024-05-01|                  0|\n",
      "| 147993967|        29223|     2024-05-01|                  0|\n",
      "|1033959804|       261186|     2024-05-01|                  1|\n",
      "|2034241998|         9355|     2024-05-01|                  1|\n",
      "|2279254348|       260012|     2024-05-01|                  0|\n",
      "| 326936611|        24409|     2024-05-01|                  1|\n",
      "|1848882824|        20444|     2024-05-01|                  1|\n",
      "|1542249700|        11804|     2024-05-01|                  0|\n",
      "|  17515348|        20625|     2024-05-01|                 21|\n",
      "|2556278777|       183067|     2024-05-01|                  1|\n",
      "|   8248926|          631|     2024-05-01|                  0|\n",
      "|1749424220|          309|     2024-05-01|                  0|\n",
      "|2627206613|       261186|     2024-05-01|                  1|\n",
      "|1515408165|          417|     2024-05-01|                  2|\n",
      "|  16800848|         1513|     2024-05-01|                  0|\n",
      "+----------+-------------+---------------+-------------------+\n",
      "only showing top 20 rows\n",
      "\n",
      " df_population_stats\n"
     ]
    },
    {
     "name": "stderr",
     "output_type": "stream",
     "text": [
      "                                                                                \r"
     ]
    },
    {
     "name": "stdout",
     "output_type": "stream",
     "text": [
      "+-------------+---------------+------------------+\n",
      "|CATEG_LVL2_ID|population_mean| population_stddev|\n",
      "+-------------+---------------+------------------+\n",
      "|        42909|            0.0|               NaN|\n",
      "|       183978|            5.0|               NaN|\n",
      "|       178893|            0.5|0.7071067811865476|\n",
      "|        11897|            4.0|               NaN|\n",
      "|         3197|            1.0|               NaN|\n",
      "|        11863|            1.0|               NaN|\n",
      "|        25298|            0.0|               NaN|\n",
      "|       181417|            4.0|               NaN|\n",
      "|        13777|            1.0|               NaN|\n",
      "|         9355|            1.0|               NaN|\n",
      "|        67588|            0.0|               NaN|\n",
      "|          137|            4.0|               NaN|\n",
      "|         1500|            5.0|               NaN|\n",
      "|        13905|            0.0|               NaN|\n",
      "|       159907|            1.0|               1.0|\n",
      "|        18793|            1.0|               NaN|\n",
      "|        48446|            1.0|               NaN|\n",
      "|          309|            0.0|               NaN|\n",
      "|         2536|           17.0|               NaN|\n",
      "|          280|            1.0|               NaN|\n",
      "+-------------+---------------+------------------+\n",
      "only showing top 20 rows\n",
      "\n",
      "df_result\n"
     ]
    },
    {
     "name": "stderr",
     "output_type": "stream",
     "text": [
      "                                                                                00]]\r"
     ]
    },
    {
     "name": "stdout",
     "output_type": "stream",
     "text": [
      "+----------+-------------+---------------+------------------------------------------------------+\n",
      "|  BUYER_ID|CATEG_LVL2_ID|EVENT_TIMESTAMP|f_user_vs_mean_purchase_from_LVL2_cat_in_last_180_days|\n",
      "+----------+-------------+---------------+------------------------------------------------------+\n",
      "|  67852790|        42909|     2024-05-01|                                                  -1.0|\n",
      "|1108288397|       183978|     2024-05-01|                                                  -1.0|\n",
      "|1122553165|       178893|     2024-05-01|                                    0.7071067811865475|\n",
      "| 102058654|       178893|     2024-05-01|                                   -0.7071067811865475|\n",
      "|1854227088|        11897|     2024-05-01|                                                  -1.0|\n",
      "| 895988726|         3197|     2024-05-01|                                                  -1.0|\n",
      "|2537748086|        11863|     2024-05-01|                                                  -1.0|\n",
      "|2541367954|        25298|     2024-05-01|                                                  -1.0|\n",
      "|  11245860|       181417|     2024-05-01|                                                  -1.0|\n",
      "|2618121509|        13777|     2024-05-01|                                                  -1.0|\n",
      "|2034241998|         9355|     2024-05-01|                                                  -1.0|\n",
      "|2155228594|        67588|     2024-05-01|                                                  -1.0|\n",
      "|1147044579|          137|     2024-05-01|                                                  -1.0|\n",
      "|1708210896|         1500|     2024-05-01|                                                  -1.0|\n",
      "|2514004939|        13905|     2024-05-01|                                                  -1.0|\n",
      "| 585293343|       159907|     2024-05-01|                                                  -1.0|\n",
      "| 124439030|       159907|     2024-05-01|                                                   0.0|\n",
      "| 142518073|       159907|     2024-05-01|                                                   1.0|\n",
      "|1243062385|        18793|     2024-05-01|                                                  -1.0|\n",
      "|1028831373|        48446|     2024-05-01|                                                  -1.0|\n",
      "+----------+-------------+---------------+------------------------------------------------------+\n",
      "only showing top 20 rows\n",
      "\n",
      " df_user_actions\n"
     ]
    },
    {
     "name": "stderr",
     "output_type": "stream",
     "text": [
      "                                                                                \r"
     ]
    },
    {
     "name": "stdout",
     "output_type": "stream",
     "text": [
      "+----------+-------------+---------------+-------------------+\n",
      "|  BUYER_ID|META_CATEG_ID|EVENT_TIMESTAMP|user_purchase_count|\n",
      "+----------+-------------+---------------+-------------------+\n",
      "|2203671848|        11700|     2024-05-01|                  1|\n",
      "| 124439030|        11700|     2024-05-01|                  0|\n",
      "|1719030591|        64482|     2024-05-01|                  0|\n",
      "|1173967650|        11233|     2024-05-01|                  0|\n",
      "|1796827116|        11232|     2024-05-01|                  1|\n",
      "|1948199593|        26395|     2024-05-01|                  0|\n",
      "|1749424220|        11232|     2024-05-01|                  0|\n",
      "|1444589293|        26395|     2024-05-01|                  0|\n",
      "|1018245484|        26395|     2024-05-01|                  1|\n",
      "|2541367954|        12576|     2024-05-01|                  0|\n",
      "|  15191497|        11450|     2024-05-01|                  0|\n",
      "|  18698040|        11116|     2024-05-01|                  1|\n",
      "|1132069035|        64482|     2024-05-01|                  0|\n",
      "|2075248588|          293|     2024-05-01|                  2|\n",
      "| 113704205|            1|     2024-05-01|                  0|\n",
      "|1663211882|          281|     2024-05-01|                  0|\n",
      "|  80471728|          625|     2024-05-01|                  0|\n",
      "| 768472107|        11450|     2024-05-01|                  0|\n",
      "|1243062385|        58058|     2024-05-01|                  0|\n",
      "| 326936611|        64482|     2024-05-01|                  0|\n",
      "+----------+-------------+---------------+-------------------+\n",
      "only showing top 20 rows\n",
      "\n",
      " df_population_stats\n"
     ]
    },
    {
     "name": "stderr",
     "output_type": "stream",
     "text": [
      "                                                                                \r"
     ]
    },
    {
     "name": "stdout",
     "output_type": "stream",
     "text": [
      "+-------------+-------------------+-------------------+\n",
      "|META_CATEG_ID|    population_mean|  population_stddev|\n",
      "+-------------+-------------------+-------------------+\n",
      "|        11700| 2.8333333333333335|  5.238432634919365|\n",
      "|        14339|                0.0|                NaN|\n",
      "|          281|               0.25|                0.5|\n",
      "|        11232| 0.3333333333333333| 0.5773502691896257|\n",
      "|          293| 1.3333333333333333|  1.505545305418162|\n",
      "|        11450|                0.0|                0.0|\n",
      "|        26395|0.18181818181818182|0.40451991747794525|\n",
      "|          625|                0.0|                NaN|\n",
      "|        64482| 0.3333333333333333|  0.816496580927726|\n",
      "|          260|               46.0|                NaN|\n",
      "|        11116|                1.0|                NaN|\n",
      "|        58058|                0.0|                NaN|\n",
      "|            1|                0.5|  1.224744871391589|\n",
      "|          220|                0.5| 0.7071067811865476|\n",
      "|          267| 0.5714285714285714| 0.7867957924694431|\n",
      "|          619|                0.0|                0.0|\n",
      "|          316|                0.0|                NaN|\n",
      "|        15032|                0.2| 0.4472135954999579|\n",
      "|        12576| 0.8571428571428571| 1.4638501094227998|\n",
      "|        11233|                0.0|                NaN|\n",
      "+-------------+-------------------+-------------------+\n",
      "only showing top 20 rows\n",
      "\n",
      "df_result\n"
     ]
    },
    {
     "name": "stderr",
     "output_type": "stream",
     "text": [
      "                                                                                00]]\r"
     ]
    },
    {
     "name": "stdout",
     "output_type": "stream",
     "text": [
      "+----------+-------------+---------------+-----------------------------------------------------+\n",
      "|  BUYER_ID|META_CATEG_ID|EVENT_TIMESTAMP|f_user_vs_mean_purchase_from_META_cat_in_last_30_days|\n",
      "+----------+-------------+---------------+-----------------------------------------------------+\n",
      "|1848882824|        11700|     2024-05-01|                                  -0.5408742520513384|\n",
      "|  69144217|        11700|     2024-05-01|                                   1.9407840808900967|\n",
      "| 182299961|        11700|     2024-05-01|                                  -0.5408742520513384|\n",
      "|  62447387|        11700|     2024-05-01|                                  -0.5408742520513384|\n",
      "|2203671848|        11700|     2024-05-01|                                  -0.3499774572096896|\n",
      "|  17515348|        11700|     2024-05-01|                                   2.5134744654150434|\n",
      "| 895988726|        11700|     2024-05-01|                                  -0.5408742520513384|\n",
      "|    839622|        11700|     2024-05-01|                                 0.031816132473608115|\n",
      "| 438279715|        11700|     2024-05-01|                                  -0.5408742520513384|\n",
      "|1498530061|        11700|     2024-05-01|                                   1.9407840808900967|\n",
      "|2625548635|        11700|     2024-05-01|                                  -0.3499774572096896|\n",
      "| 727415409|        11700|     2024-05-01|                                 -0.15908066236804075|\n",
      "|1036833091|        11700|     2024-05-01|                                  -0.5408742520513384|\n",
      "| 585293343|        11700|     2024-05-01|                                  -0.3499774572096896|\n",
      "| 142518073|        11700|     2024-05-01|                                  -0.5408742520513384|\n",
      "|   8248926|        11700|     2024-05-01|                                  -0.3499774572096896|\n",
      "| 207597240|        11700|     2024-05-01|                                  -0.5408742520513384|\n",
      "| 124439030|        11700|     2024-05-01|                                  -0.5408742520513384|\n",
      "| 238279677|        14339|     2024-05-01|                                                 -1.0|\n",
      "|1663211882|          281|     2024-05-01|                                                 -0.5|\n",
      "+----------+-------------+---------------+-----------------------------------------------------+\n",
      "only showing top 20 rows\n",
      "\n"
     ]
    },
    {
     "name": "stderr",
     "output_type": "stream",
     "text": [
      "[Stage 720:==========================>                          (86 + 85) / 171]1000]]]]\r"
     ]
    },
    {
     "name": "stdout",
     "output_type": "stream",
     "text": [
      "+----------+-------------+---------------+-------------+-------------+---------------+-----+--------------------+--------------------+--------------------+------------------------------------------------------+------------------------------------------------------+-----------------------------------------------------+\n",
      "|  BUYER_ID|META_CATEG_ID|EVENT_TIMESTAMP|CATEG_LVL2_ID|LEAF_CATEG_ID|num_repurchases|label|     LEAF_CATEG_NAME|     CATEG_LVL2_NAME|     META_CATEG_NAME|f_user_vs_mean_purchase_from_LEAF_cat_in_last_360_days|f_user_vs_mean_purchase_from_LVL2_cat_in_last_180_days|f_user_vs_mean_purchase_from_META_cat_in_last_30_days|\n",
      "+----------+-------------+---------------+-------------+-------------+---------------+-----+--------------------+--------------------+--------------------+------------------------------------------------------+------------------------------------------------------+-----------------------------------------------------+\n",
      "|  11245860|          260|     2024-05-01|       181423|       127413|              0|    0|Stamps:Africa:Sou...|              Africa|              Stamps|                                                  -1.0|                                                  -1.0|                                                 -1.0|\n",
      "|  11245860|          260|     2024-05-01|       181417|        47173|              0|    0|Stamps:Latin Amer...|       Latin America|              Stamps|                                                  -1.0|                                                  -1.0|                                                 -1.0|\n",
      "| 168153910|          293|     2024-05-01|        32852|       168058|              0|    0|Consumer Electron...|TV, Video & Home ...|Consumer Electronics|                                                  -1.0|                                                  -1.0|                                  -0.8856148855400953|\n",
      "|2541367954|        12576|     2024-05-01|        25298|        61754|              0|    0|Business & Indust...|              Office|Business & Indust...|                                                  -1.0|                                                  -1.0|                                  -0.5855400437691198|\n",
      "|1784972362|          316|     2024-05-01|       175814|       175815|              0|    0|Specialty Service...| Item Based Services|  Specialty Services|                                                  -1.0|                                                  -1.0|                                                 -1.0|\n",
      "|1159133810|        11450|     2024-05-01|       260012|       155183|              0|    0|Clothing, Shoes &...|                 Men|Clothing, Shoes &...|                                                  -1.0|                                   0.22866478019001177|                                                 -1.0|\n",
      "|  62447387|        11700|     2024-05-01|       159912|       260923|              0|    0|Home & Garden:Yar...|Yard, Garden & Ou...|       Home & Garden|                                                  -1.0|                                   -1.0722219284950192|                                  -0.5408742520513384|\n",
      "|  18698040|        11116|     2024-05-01|          253|       139806|              0|    0|Coins & Paper Mon...|           Coins: US| Coins & Paper Money|                                                  -1.0|                                                  -1.0|                                                 -1.0|\n",
      "|  82168277|        11450|     2024-05-01|       260010|        45246|              0|    0|Clothing, Shoes &...|               Women|Clothing, Shoes &...|                                                  -1.0|                                    0.5773502691896258|                                                 -1.0|\n",
      "|1796827116|        11232|     2024-05-01|          617|          617|              0|    0|Movies & TV:DVDs ...|DVDs & Blu-ray Discs|         Movies & TV|                                    0.7071067811865475|                                    0.7071067811865475|                                   1.1547005383792517|\n",
      "|2203671848|        11700|     2024-05-01|          631|        29527|              0|    0|Home & Garden:Too...|Tools & Workshop ...|       Home & Garden|                                                  -1.0|                                   -0.3220599295818197|                                  -0.3499774572096896|\n",
      "| 556681734|          293|     2024-05-01|        15052|        15053|              0|    0|Consumer Electron...|Portable Audio & ...|Consumer Electronics|                                                  -1.0|                                                  -1.0|                                  -0.8856148855400953|\n",
      "|1401153417|            1|     2024-05-01|          417|        35970|              0|    0|Collectibles:Tran...|      Transportation|        Collectibles|                                                  -1.0|                                    0.7071067811865475|                                    2.041241452319315|\n",
      "|1444589293|        26395|     2024-05-01|       180959|        21561|              0|    0|Health & Beauty:V...|Vitamins & Lifest...|     Health & Beauty|                                                  -1.0|                                   -0.7071067811865475|                                  -0.4494665749754947|\n",
      "| 142518073|        11700|     2024-05-01|       159907|       259859|              0|    0|Home & Garden:Hom...|    Home Improvement|       Home & Garden|                                                  -1.0|                                                   1.0|                                  -0.5408742520513384|\n",
      "|2521675744|        11232|     2024-05-01|          617|          617|              0|    0|Movies & TV:DVDs ...|DVDs & Blu-ray Discs|         Movies & TV|                                   -0.7071067811865475|                                   -0.7071067811865475|                                  -0.5773502691896257|\n",
      "| 124439030|        11700|     2024-05-01|       159907|        43510|              0|    0|Home & Garden:Hom...|    Home Improvement|       Home & Garden|                                                  -1.0|                                                   0.0|                                  -0.5408742520513384|\n",
      "| 585293343|        11700|     2024-05-01|       159907|        79621|              0|    0|Home & Garden:Hom...|    Home Improvement|       Home & Garden|                                                  -1.0|                                                  -1.0|                                  -0.3499774572096896|\n",
      "|1028831373|          293|     2024-05-01|        48446|        50602|              0|    0|Consumer Electron...|Multipurpose Batt...|Consumer Electronics|                                                  -1.0|                                                  -1.0|                                 -0.22140372138502376|\n",
      "|1848882824|        11700|     2024-05-01|        20444|        20445|              0|    0|Home & Garden:Bed...|             Bedding|       Home & Garden|                                                  -1.0|                                                  -1.0|                                  -0.5408742520513384|\n",
      "+----------+-------------+---------------+-------------+-------------+---------------+-----+--------------------+--------------------+--------------------+------------------------------------------------------+------------------------------------------------------+-----------------------------------------------------+\n",
      "only showing top 20 rows\n",
      "\n"
     ]
    },
    {
     "name": "stderr",
     "output_type": "stream",
     "text": [
      "                                                                                \r"
     ]
    }
   ],
   "source": [
    "# Step 3: Calculate features for LEAF category\n",
    "df_ft_leaf = f_user_vs_mean_cat_actions_in_last_x_days(df_smp_sample, df_prch_sample ,cat_type=\"LEAF\",days=90, action_type=\"purchase\" )\n",
    "df_res_t = add_feature(df_smp_sample, df_ft_leaf, join_key=\"LEAF_CATEG_ID\")\n",
    "\n",
    "df_ft_leaf = f_user_vs_mean_cat_actions_in_last_x_days(df_smp_sample, df_prch_sample ,cat_type=\"LEAF\",days=180, action_type=\"purchase\" )\n",
    "df_res_t = add_feature(df_smp_sample, df_ft_leaf, join_key=\"LEAF_CATEG_ID\")\n",
    "\n",
    "df_ft_leaf = f_user_vs_mean_cat_actions_in_last_x_days(df_smp_sample, df_prch_sample ,cat_type=\"LEAF\",days=360, action_type=\"purchase\" )\n",
    "df_res_t = add_feature(df_smp_sample, df_ft_leaf, join_key=\"LEAF_CATEG_ID\")\n",
    "# Step 4: Calculate features for LVL2 category\n",
    "df_ft_lvl2 = f_user_vs_mean_cat_actions_in_last_x_days(df_smp_sample, df_prch_sample ,cat_type=\"LVL2\",days=180, action_type=\"purchase\" )\n",
    "df_res_t = add_feature(df_res_t, df_ft_lvl2, join_key=\"CATEG_LVL2_ID\")\n",
    "\n",
    "# Step 5: Calculate features for META category\n",
    "df_ft_meta = f_user_vs_mean_cat_actions_in_last_x_days(df_smp_sample, df_prch_sample, cat_type=\"META\", days=30, action_type=\"purchase\" )\n",
    "df_res_t = add_feature(df_res_t, df_ft_meta, join_key=\"META_CATEG_ID\")\n",
    "\n",
    "df_res_t.show()"
   ]
  },
  {
   "cell_type": "code",
   "execution_count": 16,
   "id": "bfb5900c-27e0-46e8-8236-65fa0842093d",
   "metadata": {},
   "outputs": [
    {
     "name": "stderr",
     "output_type": "stream",
     "text": [
      "[Stage 821:=========================>                           (81 + 90) / 171]000]]]]]\r"
     ]
    },
    {
     "name": "stdout",
     "output_type": "stream",
     "text": [
      "+----------+-------------+------------------------------------------------------+\n",
      "|  BUYER_ID|LEAF_CATEG_ID|f_user_vs_mean_purchase_from_LEAF_cat_in_last_360_days|\n",
      "+----------+-------------+------------------------------------------------------+\n",
      "|  11245860|        47173|                                                  -1.0|\n",
      "|  11245860|       127413|                                                  -1.0|\n",
      "| 168153910|       168058|                                                  -1.0|\n",
      "|2541367954|        61754|                                                  -1.0|\n",
      "|1784972362|       175815|                                                  -1.0|\n",
      "|1159133810|       155183|                                                  -1.0|\n",
      "|  62447387|       260923|                                                  -1.0|\n",
      "|  18698040|       139806|                                                  -1.0|\n",
      "|  82168277|        45246|                                                  -1.0|\n",
      "|1796827116|          617|                                    0.7071067811865475|\n",
      "|2203671848|        29527|                                                  -1.0|\n",
      "| 556681734|        15053|                                                  -1.0|\n",
      "|1401153417|        35970|                                                  -1.0|\n",
      "|1444589293|        21561|                                                  -1.0|\n",
      "| 142518073|       259859|                                                  -1.0|\n",
      "|2521675744|          617|                                   -0.7071067811865475|\n",
      "| 124439030|        43510|                                                  -1.0|\n",
      "| 585293343|        79621|                                                  -1.0|\n",
      "|1028831373|        50602|                                                  -1.0|\n",
      "|1848882824|        20445|                                                  -1.0|\n",
      "+----------+-------------+------------------------------------------------------+\n",
      "only showing top 20 rows\n",
      "\n"
     ]
    },
    {
     "name": "stderr",
     "output_type": "stream",
     "text": [
      "                                                                                \r"
     ]
    }
   ],
   "source": [
    "df_res_t.select( [\"BUYER_ID\", \"LEAF_CATEG_ID\",\"f_user_vs_mean_purchase_from_LEAF_cat_in_last_360_days\"]).show()"
   ]
  },
  {
   "cell_type": "code",
   "execution_count": 5,
   "id": "2584cd44-e91e-48cc-84b8-e8e80f496b7c",
   "metadata": {},
   "outputs": [],
   "source": [
    "import features as F\n",
    "\n",
    "df_ft = F.f_user_vs_mean_cat_actions_in_last_x_days(df_smp_sample, df_prch_sample, cat_type=\"LEAF\",  days=30,action_type=\"purchase\")\n",
    "df_res = F.add_feature(df_smp_sample, df_ft, join_key=\"LEAF_CATEG_ID\", how=\"left\") \n",
    "\n",
    "df_ft = F.f_user_vs_mean_cat_actions_in_last_x_days(df_smp_sample, df_prch_sample, cat_type=\"LEAF\",  days=60,action_type=\"purchase\")\n",
    "df_res = F.add_feature(df_res, df_ft, join_key=\"LEAF_CATEG_ID\", how=\"left\") \n",
    "\n",
    "df_ft = F.f_user_vs_mean_cat_actions_in_last_x_days(df_smp_sample, df_prch_sample, cat_type=\"LEAF\",  days=90,action_type=\"purchase\")\n",
    "df_res = F.add_feature(df_res, df_ft, join_key=\"LEAF_CATEG_ID\", how=\"left\") \n",
    "\n",
    "df_ft = F.f_user_vs_mean_cat_actions_in_last_x_days(df_smp_sample, df_prch_sample, cat_type=\"LEAF\",  days=180,action_type=\"purchase\")\n",
    "df_res = F.add_feature(df_res, df_ft, join_key=\"LEAF_CATEG_ID\", how=\"left\")  \n",
    "\n",
    "df_ft = F.f_user_vs_mean_cat_actions_in_last_x_days(df_smp_sample, df_prch_sample, cat_type=\"LEAF\",  days=360, action_type=\"purchase\")\n",
    "df_res = F.add_feature(df_res, df_ft, join_key=\"LEAF_CATEG_ID\", how=\"left\") \n",
    "\n",
    "# Adding features for LVL2 category type\n",
    "df_ft = F.f_user_vs_mean_cat_actions_in_last_x_days(df_smp_sample, df_prch_sample, cat_type=\"LVL2\", days=30, action_type=\"purchase\")\n",
    "df_res = F.add_feature(df_res, df_ft, join_key=\"CATEG_LVL2_ID\", how=\"left\")"
   ]
  },
  {
   "cell_type": "code",
   "execution_count": 6,
   "id": "22212df4-0341-48a8-b15c-c99cec5765e7",
   "metadata": {},
   "outputs": [
    {
     "name": "stderr",
     "output_type": "stream",
     "text": [
      "[Stage 136:================================>                   (155 + 95) / 250]]]]]\r"
     ]
    },
    {
     "name": "stdout",
     "output_type": "stream",
     "text": [
      "+----------+-------------+---------------+-------------+---------------+-----+--------------------+--------------------+-------------+--------------------+-----------------------------------------------------+-----------------------------------------------------+-----------------------------------------------------+------------------------------------------------------+------------------------------------------------------+-----------------------------------------------------+\n",
      "|  BUYER_ID|CATEG_LVL2_ID|EVENT_TIMESTAMP|LEAF_CATEG_ID|num_repurchases|label|     LEAF_CATEG_NAME|     CATEG_LVL2_NAME|META_CATEG_ID|     META_CATEG_NAME|f_user_vs_mean_purchase_from_LEAF_cat_in_last_30_days|f_user_vs_mean_purchase_from_LEAF_cat_in_last_60_days|f_user_vs_mean_purchase_from_LEAF_cat_in_last_90_days|f_user_vs_mean_purchase_from_LEAF_cat_in_last_180_days|f_user_vs_mean_purchase_from_LEAF_cat_in_last_360_days|f_user_vs_mean_purchase_from_LVL2_cat_in_last_30_days|\n",
      "+----------+-------------+---------------+-------------+---------------+-----+--------------------+--------------------+-------------+--------------------+-----------------------------------------------------+-----------------------------------------------------+-----------------------------------------------------+------------------------------------------------------+------------------------------------------------------+-----------------------------------------------------+\n",
      "|2556278777|       183067|     2024-05-01|       183069|              0|    0|Consumer Electron...|     Virtual Reality|          293|Consumer Electronics|                                                 -1.0|                                                 -1.0|                                                 -1.0|                                                  -1.0|                                                  -1.0|                                                 -1.0|\n",
      "| 727415409|          631|     2024-05-01|        85917|              0|    0|Home & Garden:Too...|Tools & Workshop ...|        11700|       Home & Garden|                                                 -1.0|                                                 -1.0|                                                 -1.0|                                                  -1.0|                                                  -1.0|                                  -0.5511070751355519|\n",
      "| 102058654|       178893|     2024-05-01|       178893|              0|    0|Cell Phones & Acc...|       Smart Watches|        15032|Cell Phones & Acc...|                                                 -1.0|                                                 -1.0|                                                 -1.0|                                   -0.7071067811865475|                                                  -1.0|                                                 -1.0|\n",
      "|1745370293|        66503|     2024-05-01|        13733|              0|    0|Collectibles:Bank...|Banks, Registers ...|            1|        Collectibles|                                                 -1.0|                                                 -1.0|                                                 -1.0|                                                  -1.0|                                                  -1.0|                                                 -1.0|\n",
      "|1324204268|        24409|     2024-05-01|         2885|              0|    0|Sports Mem, Cards...|Fan Apparel & Sou...|        64482|Sports Mem, Cards...|                                                 -1.0|                                                 -1.0|                                                 -1.0|                                                  -1.0|                                                  -1.0|                                                 -1.0|\n",
      "|1028831373|        48446|     2024-05-01|        50602|              0|    0|Consumer Electron...|Multipurpose Batt...|          293|Consumer Electronics|                                                 -1.0|                                                 -1.0|                                                 -1.0|                                                  -1.0|                                                  -1.0|                                                 -1.0|\n",
      "|1388401594|       260010|     2024-05-01|        63864|              0|    0|Clothing, Shoes &...|               Women|        11450|Clothing, Shoes &...|                                                 -1.0|                                                 -1.0|                                                 -1.0|                                                  -1.0|                                                  -1.0|                                                 -1.0|\n",
      "|1749714821|         9394|     2024-05-01|        58540|              0|    0|Cell Phones & Acc...|Cell Phone Access...|        15032|Cell Phones & Acc...|                                                 -1.0|                                                 -1.0|                                                 -1.0|                                                  -1.0|                                                  -1.0|                                                 -1.0|\n",
      "| 556681734|        15052|     2024-05-01|        15053|              0|    0|Consumer Electron...|Portable Audio & ...|          293|Consumer Electronics|                                                 -1.0|                                                 -1.0|                                                 -1.0|                                                  -1.0|                                                  -1.0|                                                 -1.0|\n",
      "|2625548635|        20625|     2024-05-01|        20677|              0|    0|Home & Garden:Kit...|Kitchen, Dining &...|        11700|       Home & Garden|                                                 -1.0|                                                 -1.0|                                                 -1.0|                                                  -1.0|                                                  -1.0|                                 -0.34009212075908146|\n",
      "|1984676384|        20710|     2024-05-01|       184666|              0|    0|Home & Garden:Maj...|    Major Appliances|        11700|       Home & Garden|                                                 -1.0|                                                 -1.0|                                                 -1.0|                                                  -1.0|                                                  -1.0|                                                 -1.0|\n",
      "|1663211882|       260324|     2024-05-01|        98624|              0|    0|Jewelry & Watches...|Watches, Parts & ...|          281|   Jewelry & Watches|                                                 -1.0|                                                 -1.0|                                                 -1.0|                                                  -1.0|                                                  -1.0|                                  -0.7071067811865475|\n",
      "|  82168277|       260010|     2024-05-01|        45246|              0|    0|Clothing, Shoes &...|               Women|        11450|Clothing, Shoes &...|                                                 -1.0|                                                 -1.0|                                                 -1.0|                                                  -1.0|                                                  -1.0|                                                 -1.0|\n",
      "| 671658871|       260012|     2024-05-01|        53120|              0|    0|Clothing, Shoes &...|                 Men|        11450|Clothing, Shoes &...|                                                 -1.0|                                                 -1.0|                                   0.7071067811865475|                                    0.7071067811865475|                                    0.7071067811865475|                                                 -1.0|\n",
      "|2614560287|       180959|     2024-05-01|        11776|              0|    0|Health & Beauty:V...|Vitamins & Lifest...|        26395|     Health & Beauty|                                                 -1.0|                                                 -1.0|                                                 -1.0|                                                  -1.0|                                                  -1.0|                                                 -1.0|\n",
      "|1122553165|       178893|     2024-05-01|       178893|              0|    0|Cell Phones & Acc...|       Smart Watches|        15032|Cell Phones & Acc...|                                                 -1.0|                                                 -1.0|                                                 -1.0|                                    0.7071067811865475|                                                  -1.0|                                                 -1.0|\n",
      "|1159133810|       260012|     2024-05-01|       155183|              0|    0|Clothing, Shoes &...|                 Men|        11450|Clothing, Shoes &...|                                                 -1.0|                                                 -1.0|                                                 -1.0|                                                  -1.0|                                                  -1.0|                                                 -1.0|\n",
      "|  67852790|        42909|     2024-05-01|       260115|              0|    0|Business & Indust...|HVAC & Refrigeration|        12576|Business & Indust...|                                                 -1.0|                                                 -1.0|                                                 -1.0|                                                  -1.0|                                                  -1.0|                                                 -1.0|\n",
      "| 142518073|       159907|     2024-05-01|       259859|              0|    0|Home & Garden:Hom...|    Home Improvement|        11700|       Home & Garden|                                                 -1.0|                                                 -1.0|                                                 -1.0|                                                  -1.0|                                                  -1.0|                                                 -1.0|\n",
      "|2019901162|        33914|     2024-05-01|        16705|              0|    0|Health & Beauty:T...|  Tattoos & Body Art|        26395|     Health & Beauty|                                                 -1.0|                                                 -1.0|                                                 -1.0|                                                  -1.0|                                                  -1.0|                                                 -1.0|\n",
      "+----------+-------------+---------------+-------------+---------------+-----+--------------------+--------------------+-------------+--------------------+-----------------------------------------------------+-----------------------------------------------------+-----------------------------------------------------+------------------------------------------------------+------------------------------------------------------+-----------------------------------------------------+\n",
      "only showing top 20 rows\n",
      "\n"
     ]
    },
    {
     "name": "stderr",
     "output_type": "stream",
     "text": [
      "                                                                                \r"
     ]
    }
   ],
   "source": [
    "df_res.show()"
   ]
  },
  {
   "cell_type": "code",
   "execution_count": 7,
   "id": "7c5bb388-b587-4b2a-a81b-cff3f3088ef2",
   "metadata": {},
   "outputs": [
    {
     "name": "stderr",
     "output_type": "stream",
     "text": [
      "[Stage 271:============================================>       (216 + 34) / 250]000]]]\r"
     ]
    },
    {
     "name": "stdout",
     "output_type": "stream",
     "text": [
      "+-----------------------------------------------------+-----------------------------------------------------+------------------------------------------------------+\n",
      "|f_user_vs_mean_purchase_from_LEAF_cat_in_last_30_days|f_user_vs_mean_purchase_from_LEAF_cat_in_last_60_days|f_user_vs_mean_purchase_from_LEAF_cat_in_last_360_days|\n",
      "+-----------------------------------------------------+-----------------------------------------------------+------------------------------------------------------+\n",
      "|                                                 -1.0|                                                 -1.0|                                                  -1.0|\n",
      "|                                                 -1.0|                                                 -1.0|                                                  -1.0|\n",
      "|                                                 -1.0|                                                 -1.0|                                                  -1.0|\n",
      "|                                                 -1.0|                                                 -1.0|                                                  -1.0|\n",
      "|                                                 -1.0|                                                 -1.0|                                                  -1.0|\n",
      "|                                                 -1.0|                                                 -1.0|                                                  -1.0|\n",
      "|                                                 -1.0|                                                 -1.0|                                                  -1.0|\n",
      "|                                                 -1.0|                                                 -1.0|                                                  -1.0|\n",
      "|                                                 -1.0|                                                 -1.0|                                                  -1.0|\n",
      "|                                                 -1.0|                                                 -1.0|                                                  -1.0|\n",
      "|                                                 -1.0|                                                 -1.0|                                                  -1.0|\n",
      "|                                                 -1.0|                                                 -1.0|                                                  -1.0|\n",
      "|                                                 -1.0|                                                 -1.0|                                                  -1.0|\n",
      "|                                                 -1.0|                                                 -1.0|                                    0.7071067811865475|\n",
      "|                                                 -1.0|                                                 -1.0|                                                  -1.0|\n",
      "|                                                 -1.0|                                                 -1.0|                                                  -1.0|\n",
      "|                                                 -1.0|                                                 -1.0|                                                  -1.0|\n",
      "|                                                 -1.0|                                                 -1.0|                                                  -1.0|\n",
      "|                                                 -1.0|                                                 -1.0|                                                  -1.0|\n",
      "|                                                 -1.0|                                                 -1.0|                                                  -1.0|\n",
      "+-----------------------------------------------------+-----------------------------------------------------+------------------------------------------------------+\n",
      "only showing top 20 rows\n",
      "\n"
     ]
    },
    {
     "name": "stderr",
     "output_type": "stream",
     "text": [
      "                                                                                \r"
     ]
    }
   ],
   "source": [
    "df_res.select(\"f_user_vs_mean_purchase_from_LEAF_cat_in_last_30_days\",\n",
    "               \"f_user_vs_mean_purchase_from_LEAF_cat_in_last_60_days\",\"f_user_vs_mean_purchase_from_LEAF_cat_in_last_360_days\").show()"
   ]
  },
  {
   "cell_type": "markdown",
   "id": "c1bc2c27-d93e-43f0-9e4e-3eed58d0b11c",
   "metadata": {},
   "source": [
    "## Features comb"
   ]
  },
  {
   "cell_type": "code",
   "execution_count": null,
   "id": "66430bed-3e45-4e08-acca-5df369386b99",
   "metadata": {},
   "outputs": [],
   "source": [
    "#mean/max/min time- time -- number of days between the first view after a purchase:\n",
    "df_ft = F.f_time_since_first_view_after_purchase_in_cat(df_smp, df_prch, df_vi, cat_type=\"LEAF\")\n",
    "df_res = F.add_feature(df_res, df_ft, join_key=\"LEAF_CATEG_ID\")\n",
    "\n",
    "df_ft = F.f_time_since_first_view_after_purchase_in_cat(df_smp, df_prch, df_vi, cat_type=\"LVL2\")\n",
    "df_res = F.add_feature(df_res, df_ft, join_key=\"CATEG_LVL2_ID\")\n",
    "\n",
    "df_ft = F.f_time_since_first_view_after_purchase_in_cat(df_smp, df_prch, df_vi, cat_type=\"META\")\n",
    "df_res = F.add_feature(df_res, df_ft, join_key=\"META_CATEG_ID\")"
   ]
  },
  {
   "cell_type": "code",
   "execution_count": null,
   "id": "fbe63eb9-0619-4321-97f5-9cd160d0ad45",
   "metadata": {},
   "outputs": [],
   "source": [
    "#mean/max/min num_views_between_purchases:\n",
    "df_ft = F.f_num_views_from_purchase_in_cat(df_smp, df_prch, df_vi, cat_type=\"LEAF\")\n",
    "df_res = F.add_feature(df_res, df_ft, join_key=\"LEAF_CATEG_ID\")\n",
    "\n",
    "df_ft = F.f_num_views_from_purchase_in_cat(df_smp, df_prch, df_vi, cat_type=\"LVL2\")\n",
    "df_res = F.add_feature(df_res, df_ft, join_key=\"CATEG_LVL2_ID\")\n",
    "\n",
    "df_ft = F.f_num_views_from_purchase_in_cat(df_smp, df_prch, df_vi, cat_type=\"META\")\n",
    "df_res = F.add_feature(df_res, df_ft, join_key=\"META_CATEG_ID\")"
   ]
  },
  {
   "cell_type": "code",
   "execution_count": null,
   "id": "03cbc722-fd16-4343-ae8a-f99465f8698e",
   "metadata": {},
   "outputs": [],
   "source": [
    "#Per user and category: num views since last purchase & Per user and category: time in days since last purchase \n",
    "df_ft = F.f_views_since_last_purchase_in_cat(df_smp, df_prch, df_vi, cat_type=\"LEAF\")\n",
    "df_res = F.add_feature(df_res, df_ft, join_key=\"LEAF_CATEG_ID\") \n",
    "\n",
    "df_ft = F.f_views_since_last_purchase_in_cat(df_smp, df_prch, df_vi, cat_type=\"LVL2\")\n",
    "df_res = F.add_feature(df_res, df_ft, join_key=\"CATEG_LVL2_ID\")\n",
    "\n",
    "df_ft = F.f_views_since_last_purchase_in_cat(df_smp, df_prch, df_vi, cat_type=\"META\")\n",
    "df_res = F.add_feature(df_res, df_ft, join_key=\"META_CATEG_ID\")"
   ]
  },
  {
   "cell_type": "code",
   "execution_count": null,
   "id": "4283ee14-dab2-4966-b507-9cf74273651e",
   "metadata": {},
   "outputs": [],
   "source": [
    "#Also calc num views divided by the period of days from purchase to last view"
   ]
  },
  {
   "cell_type": "code",
   "execution_count": null,
   "id": "51e433e9-0c39-4dda-83e0-c984c6a5105d",
   "metadata": {},
   "outputs": [],
   "source": [
    "# category_diversity_entropy - diversity of purchases/views: \n",
    "df_ft = F.f_category_entropy(df_smp, df_prch, action_type=\"purchase\", cat_type=\"LEAF\")\n",
    "df_res = F.add_feature(df_res, df_ft, join_key=\"LEAF_CATEG_ID\", how=\"left\") \n",
    "\n",
    "df_ft = F.f_category_entropy(df_smp, df_prch,action_type=\"purchase\", cat_type=\"LVL2\")\n",
    "df_res = F.add_feature(df_res, df_ft, join_key=\"CATEG_LVL2_ID\")\n",
    "\n",
    "df_ft = F.f_category_entropy(df_smp, df_prch,action_type=\"purchase\", cat_type=\"META\")\n",
    "df_res = F.add_feature(df_res, df_ft, join_key=\"META_CATEG_ID\")\n",
    "\n",
    "df_ft = F.f_category_entropy(df_smp, df_vi, action_type=\"view\", cat_type=\"LEAF\")\n",
    "df_res = F.add_feature(df_res, df_ft, join_key=\"LEAF_CATEG_ID\", how=\"left\") \n",
    "\n",
    "df_ft = F.f_category_entropy(df_smp, df_vi,action_type=\"view\", cat_type=\"LVL2\")\n",
    "df_res = F.add_feature(df_res, df_ft, join_key=\"CATEG_LVL2_ID\")\n",
    "\n",
    "df_ft = F.f_category_entropy(df_smp, df_vi,action_type=\"view\", cat_type=\"META\")\n",
    "df_res = F.add_feature(df_res, df_ft, join_key=\"META_CATEG_ID\")\n"
   ]
  },
  {
   "cell_type": "code",
   "execution_count": null,
   "id": "3c873555-0fdd-4bdf-8fd0-90078b4a594b",
   "metadata": {},
   "outputs": [],
   "source": [
    "# Difference between mean purchases/views in period to user's own number of purchases/views in period so far\n",
    "\n",
    "df_ft = F.f_user_vs_mean_cat_actions_in_last_x_days(df_smp, df_prch, cat_type=\"LEAF\", days=30, action_type=\"purchase\")\n",
    "df_res = F.add_feature(df_res, df_ft, join_key=\"LEAF_CATEG_ID\", how=\"left\")\n",
    "\n",
    "df_ft = F.f_user_vs_mean_cat_actions_in_last_x_days(df_smp, df_prch, cat_type=\"LEAF\", days=60, action_type=\"purchase\")\n",
    "df_res = F.add_feature(df_res, df_ft, join_key=\"LEAF_CATEG_ID\", how=\"left\")\n",
    "\n",
    "df_ft = F.f_user_vs_mean_cat_actions_in_last_x_days(df_smp, df_prch, cat_type=\"LEAF\", days=90, action_type=\"purchase\")\n",
    "df_res = F.add_feature(df_res, df_ft, join_key=\"LEAF_CATEG_ID\", how=\"left\")\n",
    "\n",
    "df_ft = F.f_user_vs_mean_cat_actions_in_last_x_days(df_smp, df_prch, cat_type=\"LEAF\", days=180, action_type=\"purchase\")\n",
    "df_res = F.add_feature(df_res, df_ft, join_key=\"LEAF_CATEG_ID\", how=\"left\")\n",
    "\n",
    "df_ft = F.f_user_vs_mean_cat_actions_in_last_x_days(df_smp, df_prch, cat_type=\"LEAF\", days=360, action_type=\"purchase\")\n",
    "df_res = F.add_feature(df_res, df_ft, join_key=\"LEAF_CATEG_ID\", how=\"left\")\n",
    "\n",
    "# Adding features for LVL2 category type\n",
    "df_ft = F.f_user_vs_mean_cat_actions_in_last_x_days(df_smp, df_prch, cat_type=\"LVL2\", days=30, action_type=\"purchase\")\n",
    "df_res = F.add_feature(df_res, df_ft, join_key=\"CATEG_LVL2_ID\", how=\"left\")\n",
    "\n",
    "df_ft = F.f_user_vs_mean_cat_actions_in_last_x_days(df_smp, df_prch, cat_type=\"LVL2\", days=60, action_type=\"purchase\")\n",
    "df_res = F.add_feature(df_res, df_ft, join_key=\"CATEG_LVL2_ID\", how=\"left\")\n",
    "\n",
    "df_ft = F.f_user_vs_mean_cat_actions_in_last_x_days(df_smp, df_prch, cat_type=\"LVL2\", days=90, action_type=\"purchase\")\n",
    "df_res = F.add_feature(df_res, df_ft, join_key=\"CATEG_LVL2_ID\", how=\"left\")\n",
    "\n",
    "df_ft = F.f_user_vs_mean_cat_actions_in_last_x_days(df_smp, df_prch, cat_type=\"LVL2\", days=180, action_type=\"purchase\")\n",
    "df_res = F.add_feature(df_res, df_ft, join_key=\"CATEG_LVL2_ID\", how=\"left\")\n",
    "\n",
    "df_ft = F.f_user_vs_mean_cat_actions_in_last_x_days(df_smp, df_prch, cat_type=\"LVL2\", days=360, action_type=\"purchase\")\n",
    "df_res = F.add_feature(df_res, df_ft, join_key=\"CATEG_LVL2_ID\", how=\"left\")\n",
    "\n",
    "# Adding features for META category type\n",
    "df_ft = F.f_user_vs_mean_cat_actions_in_last_x_days(df_smp, df_prch, cat_type=\"META\", days=30, action_type=\"purchase\")\n",
    "df_res = F.add_feature(df_res, df_ft, join_key=\"META_CATEG_ID\", how=\"left\")\n",
    "\n",
    "df_ft = F.f_user_vs_mean_cat_actions_in_last_x_days(df_smp, df_prch, cat_type=\"META\", days=60, action_type=\"purchase\")\n",
    "df_res = F.add_feature(df_res, df_ft, join_key=\"META_CATEG_ID\", how=\"left\")\n",
    "\n",
    "df_ft = F.f_user_vs_mean_cat_actions_in_last_x_days(df_smp, df_prch, cat_type=\"META\", days=90, action_type=\"purchase\")\n",
    "df_res = F.add_feature(df_res, df_ft, join_key=\"META_CATEG_ID\", how=\"left\")\n",
    "\n",
    "df_ft = F.f_user_vs_mean_cat_actions_in_last_x_days(df_smp, df_prch, cat_type=\"META\", days=180, action_type=\"purchase\")\n",
    "df_res = F.add_feature(df_res, df_ft, join_key=\"META_CATEG_ID\", how=\"left\")\n",
    "\n",
    "df_ft = F.f_user_vs_mean_cat_actions_in_last_x_days(df_smp, df_prch, cat_type=\"META\", days=360, action_type=\"purchase\")\n",
    "df_res = F.add_feature(df_res, df_ft, join_key=\"META_CATEG_ID\", how=\"left\")\n",
    "\n",
    "# Adding features for LEAF category type for view action\n",
    "df_ft = F.f_user_vs_mean_cat_actions_in_last_x_days(df_smp, df_vi, cat_type=\"LEAF\", days=30, action_type=\"view\")\n",
    "df_res = F.add_feature(df_res, df_ft, join_key=\"LEAF_CATEG_ID\", how=\"left\")\n",
    "\n",
    "df_ft = F.f_user_vs_mean_cat_actions_in_last_x_days(df_smp, df_vi, cat_type=\"LEAF\", days=60, action_type=\"view\")\n",
    "df_res = F.add_feature(df_res, df_ft, join_key=\"LEAF_CATEG_ID\", how=\"left\")\n",
    "\n",
    "df_ft = F.f_user_vs_mean_cat_actions_in_last_x_days(df_smp, df_vi, cat_type=\"LEAF\", days=90, action_type=\"view\")\n",
    "df_res = F.add_feature(df_res, df_ft, join_key=\"LEAF_CATEG_ID\", how=\"left\")\n",
    "\n",
    "df_ft = F.f_user_vs_mean_cat_actions_in_last_x_days(df_smp, df_vi, cat_type=\"LEAF\", days=180, action_type=\"view\")\n",
    "df_res = F.add_feature(df_res, df_ft, join_key=\"LEAF_CATEG_ID\", how=\"left\")\n",
    "\n",
    "df_ft = F.f_user_vs_mean_cat_actions_in_last_x_days(df_smp, df_vi, cat_type=\"LEAF\", days=360, action_type=\"view\")\n",
    "df_res = F.add_feature(df_res, df_ft, join_key=\"LEAF_CATEG_ID\", how=\"left\")\n",
    "\n",
    "# Adding features for LVL2 category type for view action\n",
    "df_ft = F.f_user_vs_mean_cat_actions_in_last_x_days(df_smp, df_vi, cat_type=\"LVL2\", days=30, action_type=\"view\")\n",
    "df_res = F.add_feature(df_res, df_ft, join_key=\"CATEG_LVL2_ID\", how=\"left\")\n",
    "\n",
    "df_ft = F.f_user_vs_mean_cat_actions_in_last_x_days(df_smp, df_vi, cat_type=\"LVL2\", days=60, action_type=\"view\")\n",
    "df_res = F.add_feature(df_res, df_ft, join_key=\"CATEG_LVL2_ID\", how=\"left\")\n",
    "\n",
    "df_ft = F.f_user_vs_mean_cat_actions_in_last_x_days(df_smp, df_vi, cat_type=\"LVL2\", days=90, action_type=\"view\")\n",
    "df_res = F.add_feature(df_res, df_ft, join_key=\"CATEG_LVL2_ID\", how=\"left\")\n",
    "\n",
    "df_ft = F.f_user_vs_mean_cat_actions_in_last_x_days(df_smp, df_vi, cat_type=\"LVL2\", days=180, action_type=\"view\")\n",
    "df_res = F.add_feature(df_res, df_ft, join_key=\"CATEG_LVL2_ID\", how=\"left\")\n",
    "\n",
    "df_ft = F.f_user_vs_mean_cat_actions_in_last_x_days(df_smp, df_vi, cat_type=\"LVL2\", days=360, action_type=\"view\")\n",
    "df_res = F.add_feature(df_res, df_ft, join_key=\"CATEG_LVL2_ID\", how=\"left\")\n",
    "\n",
    "# Adding features for META category type for view action\n",
    "df_ft = F.f_user_vs_mean_cat_actions_in_last_x_days(df_smp, df_vi, cat_type=\"META\", days=30, action_type=\"view\")\n",
    "df_res = F.add_feature(df_res, df_ft, join_key=\"META_CATEG_ID\", how=\"left\")\n",
    "\n",
    "df_ft = F.f_user_vs_mean_cat_actions_in_last_x_days(df_smp, df_vi, cat_type=\"META\", days=60, action_type=\"view\")\n",
    "df_res = F.add_feature(df_res, df_ft, join_key=\"META_CATEG_ID\", how=\"left\")\n",
    "\n",
    "df_ft = F.f_user_vs_mean_cat_actions_in_last_x_days(df_smp, df_vi, cat_type=\"META\", days=90, action_type=\"view\")\n",
    "df_res = F.add_feature(df_res, df_ft, join_key=\"META_CATEG_ID\", how=\"left\")\n",
    "\n",
    "df_ft = F.f_user_vs_mean_cat_actions_in_last_x_days(df_smp, df_vi, cat_type=\"META\", days=180, action_type=\"view\")\n",
    "df_res = F.add_feature(df_res, df_ft, join_key=\"META_CATEG_ID\", how=\"left\")\n",
    "\n",
    "df_ft = F.f_user_vs_mean_cat_actions_in_last_x_days(df_smp, df_vi, cat_type=\"META\", days=360, action_type=\"view\")\n",
    "df_res = F.add_feature(df_res, df_ft, join_key=\"META_CATEG_ID\", how=\"left\")\n"
   ]
  },
  {
   "cell_type": "code",
   "execution_count": 8,
   "id": "7f601c99-a5d6-4bf3-aabe-a97577e8b0a3",
   "metadata": {},
   "outputs": [
    {
     "name": "stdout",
     "output_type": "stream",
     "text": [
      "Number of columns: 1243\n"
     ]
    },
    {
     "name": "stderr",
     "output_type": "stream",
     "text": [
      "[Stage 93:==================================================> (972 + 28) / 1000]]]]]]]\r"
     ]
    },
    {
     "name": "stdout",
     "output_type": "stream",
     "text": [
      "Number of rows: 99999\n"
     ]
    },
    {
     "name": "stderr",
     "output_type": "stream",
     "text": [
      "                                                                                \r"
     ]
    }
   ],
   "source": [
    "# Check the number of columns\n",
    "num_columns = len(df_res.columns)\n",
    "print(f\"Number of columns: {num_columns}\")\n",
    "\n",
    "# Check the number of rows\n",
    "num_rows = df_res.count()\n",
    "print(f\"Number of rows: {num_rows}\")"
   ]
  },
  {
   "cell_type": "code",
   "execution_count": 9,
   "id": "4ca75310-d8e9-4e1b-a357-f3a03908f75f",
   "metadata": {},
   "outputs": [
    {
     "name": "stderr",
     "output_type": "stream",
     "text": [
      "                                                                                00]]]]]]]\r"
     ]
    }
   ],
   "source": [
    "save_table(session, df_res, \"bx_ps_features_srch_1\")"
   ]
  },
  {
   "cell_type": "code",
   "execution_count": 10,
   "id": "bde19e2d-12e3-450e-be61-fb29404ac332",
   "metadata": {},
   "outputs": [
    {
     "name": "stderr",
     "output_type": "stream",
     "text": [
      "                                                                                \r"
     ]
    }
   ],
   "source": [
    "# create a smaller version only with key, features and label #(\"bx_ps_features_1\") \n",
    "df = session.table(\"bx_ps_features_srch_1\")\n",
    "f_columns = [col for col in df.columns if col.startswith('f_')]\n",
    "f_columns.extend([\"BUYER_ID\", \"LEAF_CATEG_ID\", \"EVENT_TIMESTAMP\", \"label\", \"num_repurchases\"])\n",
    "df = df.select(f_columns)\n",
    "\n",
    "# split data to train/validation/test sets\n",
    "train, validation, test = df.randomSplit([0.7, 0.1, 0.2])\n",
    "\n",
    "# save # prev bx_ps_features_train_1 , bx_ps_features_valid_1, bx_ps_features_test_1 \n",
    "save_table(session, train, \"bx_ps_features_train_srch_1\")\n",
    "save_table(session, validation, \"bx_ps_features_valid_srch_1\")\n",
    "save_table(session, test, \"bx_ps_features_test_srch_1\")"
   ]
  },
  {
   "cell_type": "code",
   "execution_count": null,
   "id": "141a14c0-9d4f-4516-b11f-cbb8ed11ab65",
   "metadata": {},
   "outputs": [],
   "source": [
    "if session:\n",
    "    session.stop()"
   ]
  }
 ],
 "metadata": {
  "kernelspec": {
   "display_name": "Python 3 (ipykernel)",
   "language": "python",
   "name": "python3"
  },
  "language_info": {
   "codemirror_mode": {
    "name": "ipython",
    "version": 3
   },
   "file_extension": ".py",
   "mimetype": "text/x-python",
   "name": "python",
   "nbconvert_exporter": "python",
   "pygments_lexer": "ipython3",
   "version": "3.7.10"
  },
  "toc-autonumbering": true,
  "toc-showcode": false,
  "toc-showmarkdowntxt": true,
  "toc-showtags": true
 },
 "nbformat": 4,
 "nbformat_minor": 5
}
