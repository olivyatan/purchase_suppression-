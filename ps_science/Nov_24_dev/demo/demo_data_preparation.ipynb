{
 "cells": [
  {
   "cell_type": "code",
   "execution_count": null,
   "id": "dd725287-0b34-4b88-b81e-6b827fb713be",
   "metadata": {},
   "outputs": [],
   "source": [
    "from utils import spark_session\n",
    "\n",
    "session = spark_session(\"purchase-suppression-tmp\")"
   ]
  },
  {
   "cell_type": "code",
   "execution_count": null,
   "id": "5aa400a5-4469-4700-8edb-719e3dd1f30b",
   "metadata": {},
   "outputs": [],
   "source": [
    "df_sample = session.table(\"bx_ps_features_hr\").sample(0.05).limit(1000).toPandas()\n",
    "buyers_list = df_sample[\"BUYER_ID\"].to_list()\n",
    "df_sample.to_csv(\"demo_users.cvs\")"
   ]
  },
  {
   "cell_type": "code",
   "execution_count": null,
   "id": "d238bd42-fb9b-4a55-964c-4a225f05123e",
   "metadata": {},
   "outputs": [],
   "source": [
    "df_vi = session.table(\"bx_ps_user_vi_hist_hr\")\n",
    "df_vi = df_vi.where(df_vi.BUYER_ID.isin(buyers_list)).alias(\"df_vi\")\n",
    "df_lst = session.table(\"access_views.DW_LSTG_ITEM\")\n",
    "df_vi = df_vi.join(df_lst, \"ITEM_ID\").select(\"df_vi.*\", \"gallery_url\")"
   ]
  },
  {
   "cell_type": "code",
   "execution_count": null,
   "id": "c536db23-1729-4ac5-a8cc-994f57a9b22a",
   "metadata": {},
   "outputs": [],
   "source": [
    "df_prch = session.table(\"bx_ps_user_prch_hist_hr\")\n",
    "df_prch = df_prch.where(df_prch.BUYER_ID.isin(buyers_list)).alias(\"df_prch\")\n",
    "df_prch = df_prch.join(df_lst, \"ITEM_ID\").select(\"df_prch.*\", \"gallery_url\")"
   ]
  },
  {
   "cell_type": "code",
   "execution_count": null,
   "id": "6ddf027d-d45c-4b67-afc8-5d6b97eb106e",
   "metadata": {},
   "outputs": [],
   "source": [
    "df_vi = df_vi.toPandas()\n",
    "df_prch = df_prch.toPandas()\n",
    "df_vi.to_csv(\"demo_vis.cvs\")\n",
    "df_prch.to_csv(\"demo_prchs.cvs\")"
   ]
  },
  {
   "cell_type": "code",
   "execution_count": null,
   "id": "87879c22-cdfa-4603-9039-bcfefff2d9b1",
   "metadata": {},
   "outputs": [],
   "source": [
    "if session:\n",
    "    session.stop()"
   ]
  }
 ],
 "metadata": {
  "kernelspec": {
   "display_name": "Python 3 (ipykernel)",
   "language": "python",
   "name": "python3"
  },
  "language_info": {
   "codemirror_mode": {
    "name": "ipython",
    "version": 3
   },
   "file_extension": ".py",
   "mimetype": "text/x-python",
   "name": "python",
   "nbconvert_exporter": "python",
   "pygments_lexer": "ipython3",
   "version": "3.7.10"
  }
 },
 "nbformat": 4,
 "nbformat_minor": 5
}
