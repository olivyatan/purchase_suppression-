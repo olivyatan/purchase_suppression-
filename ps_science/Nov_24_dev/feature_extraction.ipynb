{
 "cells": [
  {
   "cell_type": "code",
   "execution_count": 1,
   "id": "8a18bc6e-247b-4c9d-a7d0-e54f610a566a",
   "metadata": {
    "scrolled": true,
    "tags": []
   },
   "outputs": [
    {
     "name": "stderr",
     "output_type": "stream",
     "text": [
      "24/11/07 12:41:59 INFO SecurityManager: Changing view acls to: olivyatan,b_perso,*\n",
      "24/11/07 12:41:59 INFO SecurityManager: Changing modify acls to: olivyatan,b_perso\n",
      "24/11/07 12:41:59 INFO SecurityManager: Changing view acls groups to: \n",
      "24/11/07 12:41:59 INFO SecurityManager: Changing modify acls groups to: \n",
      "24/11/07 12:41:59 INFO SecurityManager: SecurityManager: authentication disabled; ui acls disabled; users  with view permissions: Set(olivyatan, b_perso, *); groups with view permissions: Set(); users  with modify permissions: Set(olivyatan, b_perso); groups with modify permissions: Set()\n",
      "24/11/07 12:41:59 INFO deprecation: mapred.reduce.tasks is deprecated. Instead, use mapreduce.job.reduces\n",
      "24/11/07 12:42:00 INFO SparkContext: Running Spark version 3.1.1.0.1.0\n",
      "24/11/07 12:42:00 INFO ResourceUtils: ==============================================================\n",
      "24/11/07 12:42:00 INFO ResourceUtils: No custom resources configured for spark.driver.\n",
      "24/11/07 12:42:00 INFO ResourceUtils: ==============================================================\n",
      "24/11/07 12:42:00 INFO SparkContext: Submitted application: purchase-suppression-tmp\n",
      "24/11/07 12:42:00 INFO ResourceProfile: Default ResourceProfile created, executor resources: Map(memoryOverhead -> name: memoryOverhead, amount: 4096, script: , vendor: , cores -> name: cores, amount: 3, script: , vendor: , memory -> name: memory, amount: 20480, script: , vendor: , offHeap -> name: offHeap, amount: 0, script: , vendor: ), task resources: Map(cpus -> name: cpus, amount: 1.0)\n",
      "24/11/07 12:42:00 INFO ResourceProfile: Limiting resource is cpus at 3 tasks per executor\n",
      "24/11/07 12:42:00 INFO ResourceProfileManager: Added ResourceProfile id: 0\n",
      "24/11/07 12:42:00 INFO SecurityManager: Changing view acls to: olivyatan,b_perso,*\n",
      "24/11/07 12:42:00 INFO SecurityManager: Changing modify acls to: olivyatan,b_perso\n",
      "24/11/07 12:42:00 INFO SecurityManager: Changing view acls groups to: \n",
      "24/11/07 12:42:00 INFO SecurityManager: Changing modify acls groups to: \n",
      "24/11/07 12:42:00 INFO SecurityManager: SecurityManager: authentication disabled; ui acls disabled; users  with view permissions: Set(olivyatan, b_perso, *); groups with view permissions: Set(); users  with modify permissions: Set(olivyatan, b_perso); groups with modify permissions: Set()\n",
      "24/11/07 12:42:00 WARN Utils: Service 'sparkDriver' could not bind on port 30202. Attempting port 30203.\n",
      "24/11/07 12:42:00 INFO Utils: Successfully started service 'sparkDriver' on port 30203.\n",
      "24/11/07 12:42:00 INFO SparkEnv: Registering MapOutputTracker\n",
      "24/11/07 12:42:00 INFO SparkEnv: Registering BlockManagerMaster\n",
      "24/11/07 12:42:00 INFO BlockManagerMasterEndpoint: Using org.apache.spark.storage.DefaultTopologyMapper for getting topology information\n",
      "24/11/07 12:42:00 INFO BlockManagerMasterEndpoint: BlockManagerMasterEndpoint up\n",
      "24/11/07 12:42:00 INFO SparkEnv: Registering BlockManagerMasterHeartbeat\n",
      "24/11/07 12:42:00 INFO DiskBlockManager: Created local directory at /tmp/blockmgr-45c615b1-9050-40ea-9803-ccf69fb9f61c\n",
      "24/11/07 12:42:00 INFO MemoryStore: MemoryStore started with capacity 10.5 GiB\n",
      "24/11/07 12:42:00 INFO SparkEnv: Registering OutputCommitCoordinator\n",
      "24/11/07 12:42:00 INFO log: Logging initialized @3511ms to org.sparkproject.jetty.util.log.Slf4jLog\n",
      "24/11/07 12:42:01 INFO Server: jetty-9.4.36.v20210114; built: 2021-01-14T16:44:28.689Z; git: 238ec6997c7806b055319a6d11f8ae7564adc0de; jvm 1.8.0_292-b10\n",
      "24/11/07 12:42:01 INFO Server: Started @3645ms\n",
      "24/11/07 12:42:01 WARN Utils: Service 'SparkUI' could not bind on port 30401. Attempting port 30402.\n",
      "24/11/07 12:42:01 INFO AbstractConnector: Started ServerConnector@50bcefa9{HTTP/1.1, (http/1.1)}{0.0.0.0:30402}\n",
      "24/11/07 12:42:01 INFO Utils: Successfully started service 'SparkUI' on port 30402.\n",
      "24/11/07 12:42:01 INFO ContextHandler: Started o.s.j.s.ServletContextHandler@c83d{/jobs,null,AVAILABLE,@Spark}\n",
      "24/11/07 12:42:01 INFO ContextHandler: Started o.s.j.s.ServletContextHandler@de54638{/jobs/json,null,AVAILABLE,@Spark}\n",
      "24/11/07 12:42:01 INFO ContextHandler: Started o.s.j.s.ServletContextHandler@4a743488{/jobs/job,null,AVAILABLE,@Spark}\n",
      "24/11/07 12:42:01 INFO ContextHandler: Started o.s.j.s.ServletContextHandler@30221c45{/jobs/job/json,null,AVAILABLE,@Spark}\n",
      "24/11/07 12:42:01 INFO ContextHandler: Started o.s.j.s.ServletContextHandler@7163c46e{/stages,null,AVAILABLE,@Spark}\n",
      "24/11/07 12:42:01 INFO ContextHandler: Started o.s.j.s.ServletContextHandler@46694d3c{/stages/json,null,AVAILABLE,@Spark}\n",
      "24/11/07 12:42:01 INFO ContextHandler: Started o.s.j.s.ServletContextHandler@3fbc11c2{/stages/stage,null,AVAILABLE,@Spark}\n",
      "24/11/07 12:42:01 INFO ContextHandler: Started o.s.j.s.ServletContextHandler@8f737f9{/stages/stage/json,null,AVAILABLE,@Spark}\n",
      "24/11/07 12:42:01 INFO ContextHandler: Started o.s.j.s.ServletContextHandler@616ac499{/stages/pool,null,AVAILABLE,@Spark}\n",
      "24/11/07 12:42:01 INFO ContextHandler: Started o.s.j.s.ServletContextHandler@57f8c97d{/stages/pool/json,null,AVAILABLE,@Spark}\n",
      "24/11/07 12:42:01 INFO ContextHandler: Started o.s.j.s.ServletContextHandler@46deaf67{/storage,null,AVAILABLE,@Spark}\n",
      "24/11/07 12:42:01 INFO ContextHandler: Started o.s.j.s.ServletContextHandler@3a850e15{/storage/json,null,AVAILABLE,@Spark}\n",
      "24/11/07 12:42:01 INFO ContextHandler: Started o.s.j.s.ServletContextHandler@47645fae{/storage/rdd,null,AVAILABLE,@Spark}\n",
      "24/11/07 12:42:01 INFO ContextHandler: Started o.s.j.s.ServletContextHandler@42fa91ae{/storage/rdd/json,null,AVAILABLE,@Spark}\n",
      "24/11/07 12:42:01 INFO ContextHandler: Started o.s.j.s.ServletContextHandler@400db46d{/environment,null,AVAILABLE,@Spark}\n",
      "24/11/07 12:42:01 INFO ContextHandler: Started o.s.j.s.ServletContextHandler@688fd0c8{/environment/json,null,AVAILABLE,@Spark}\n",
      "24/11/07 12:42:01 INFO ContextHandler: Started o.s.j.s.ServletContextHandler@6862e210{/executors,null,AVAILABLE,@Spark}\n",
      "24/11/07 12:42:01 INFO ContextHandler: Started o.s.j.s.ServletContextHandler@72d5471e{/executors/json,null,AVAILABLE,@Spark}\n",
      "24/11/07 12:42:01 INFO ContextHandler: Started o.s.j.s.ServletContextHandler@44308f3c{/executors/threadDump,null,AVAILABLE,@Spark}\n",
      "24/11/07 12:42:01 INFO ContextHandler: Started o.s.j.s.ServletContextHandler@2eeb253d{/executors/threadDump/json,null,AVAILABLE,@Spark}\n",
      "24/11/07 12:42:01 INFO ContextHandler: Started o.s.j.s.ServletContextHandler@394935f2{/static,null,AVAILABLE,@Spark}\n",
      "24/11/07 12:42:01 INFO ContextHandler: Started o.s.j.s.ServletContextHandler@74ab4854{/,null,AVAILABLE,@Spark}\n",
      "24/11/07 12:42:01 INFO ContextHandler: Started o.s.j.s.ServletContextHandler@6ef3de9a{/api,null,AVAILABLE,@Spark}\n",
      "24/11/07 12:42:01 INFO ContextHandler: Started o.s.j.s.ServletContextHandler@aaf347c{/jobs/job/kill,null,AVAILABLE,@Spark}\n",
      "24/11/07 12:42:01 INFO ContextHandler: Started o.s.j.s.ServletContextHandler@6e8d3acd{/stages/stage/kill,null,AVAILABLE,@Spark}\n",
      "24/11/07 12:42:01 INFO SparkUI: Bound SparkUI to 0.0.0.0, and started at http://10.198.242.32:30402\n",
      "24/11/07 12:42:01 INFO SparkContext: Added file /data/shpx/notebooks/hroitman/Purchase-Suppression/feature_helpers.py at spark://10.198.242.32:30203/files/feature_helpers.py with timestamp 1730983320123\n",
      "24/11/07 12:42:01 INFO Utils: Copying /data/shpx/notebooks/hroitman/Purchase-Suppression/feature_helpers.py to /tmp/spark-133c76c8-c2af-44b1-b129-ae5ddb32ce1d/userFiles-ca226df7-6b6f-4d6b-ac9e-7296885b6f96/feature_helpers.py\n",
      "24/11/07 12:42:01 INFO HadoopDelegationTokenManager: Attempting to load user's ticket cache.\n",
      "24/11/07 12:42:01 INFO HadoopFSDelegationTokenProvider: getting token for: org.apache.hadoop.fs.viewfs.ViewFileSystem@2261805c with renewer rm/apollo-rno-rm-1.vip.hadoop.ebay.com@PROD.EBAY.COM\n",
      "24/11/07 12:42:02 INFO DFSClient: Created token for b_perso: HDFS_DELEGATION_TOKEN owner=b_perso@PROD.EBAY.COM, renewer=yarn, realUser=, issueDate=1730983322787, maxDate=1731588122787, sequenceNumber=256100271, masterKeyId=34957 on ha-hdfs:apollo-router\n",
      "24/11/07 12:42:02 INFO HadoopFSDelegationTokenProvider: getting token for: org.apache.hadoop.fs.viewfs.ViewFileSystem@2261805c with renewer b_perso@PROD.EBAY.COM\n",
      "24/11/07 12:42:02 INFO DFSClient: Created token for b_perso: HDFS_DELEGATION_TOKEN owner=b_perso@PROD.EBAY.COM, renewer=b_perso, realUser=, issueDate=1730983322834, maxDate=1731588122834, sequenceNumber=256100272, masterKeyId=34957 on ha-hdfs:apollo-router\n",
      "24/11/07 12:42:02 INFO HadoopFSDelegationTokenProvider: Renewal interval is 86400054 for token HDFS_DELEGATION_TOKEN\n",
      "24/11/07 12:42:04 INFO HiveConf: Found configuration file file:/apache/releases/apache-hive-1.2.1000.2.6.4.2.0.23-bin/conf/hive-site.xml\n",
      "24/11/07 12:42:04 WARN HiveConf: DEPRECATED: hive.metastore.ds.retry.* no longer has any effect.  Use hive.hmshandler.retry.* instead\n",
      "24/11/07 12:42:04 WARN HiveConf: HiveConf of name hive.metastore.local does not exist\n",
      "24/11/07 12:42:04 WARN HiveConf: HiveConf of name hive.enforce.sorting does not exist\n",
      "24/11/07 12:42:04 WARN HiveConf: HiveConf of name hive.server2.proxyuser.hue.groups does not exist\n",
      "24/11/07 12:42:04 WARN HiveConf: HiveConf of name hive.server2.proxyuser.hue.hosts does not exist\n",
      "24/11/07 12:42:04 WARN HiveConf: HiveConf of name hive.metastore.ds.retry.interval does not exist\n",
      "24/11/07 12:42:04 WARN HiveConf: HiveConf of name hive.enforce.bucketing does not exist\n",
      "24/11/07 12:42:04 WARN HiveConf: HiveConf of name hive.metastore.ds.retry.attempts does not exist\n",
      "24/11/07 12:42:04 WARN HiveConf: HiveConf of name hive.server2.enable.impersonation does not exist\n",
      "24/11/07 12:42:04 INFO deprecation: mapred.reduce.tasks is deprecated. Instead, use mapreduce.job.reduces\n",
      "24/11/07 12:42:04 INFO SparkHadoopUtil: Updating delegation tokens for current user.\n",
      "24/11/07 12:42:04 INFO Utils: Using initial executors = 10, max of spark.dynamicAllocation.initialExecutors, spark.dynamicAllocation.minExecutors and spark.executor.instances\n",
      "24/11/07 12:42:05 INFO RemoteConfig: Merged with remote configs\n",
      "24/11/07 12:42:05 INFO Client: Requesting a new application from cluster with 12740 NodeManagers\n",
      "24/11/07 12:42:05 INFO Configuration: resource-types.xml not found\n",
      "24/11/07 12:42:05 INFO ResourceUtils: Unable to find 'resource-types.xml'.\n",
      "24/11/07 12:42:05 INFO Client: Verifying our application has not requested more than the maximum memory capability of the cluster (65536 MB per container)\n",
      "24/11/07 12:42:05 INFO Client: Will allocate AM container, with 4505 MB memory including 409 MB overhead\n",
      "24/11/07 12:42:05 INFO Client: Setting up container launch context for our AM\n",
      "24/11/07 12:42:05 INFO Client: Setting up the launch environment for our AM container\n",
      "24/11/07 12:42:05 INFO Client: Preparing resources for our AM container\n",
      "24/11/07 12:42:06 WARN Client: Neither spark.yarn.jars nor spark.yarn.archive is set, falling back to uploading libraries under SPARK_HOME.\n",
      "24/11/07 12:42:07 INFO Client: Uploading resource file:/tmp/spark-133c76c8-c2af-44b1-b129-ae5ddb32ce1d/__spark_libs__1596661790716437147.zip -> viewfs://apollo-rno/user/b_perso/.sparkStaging/application_1728324362732_7747545/__spark_libs__1596661790716437147.zip\n",
      "24/11/07 12:42:09 INFO Client: Uploading resource file:/data/shpx/notebooks/hroitman/Purchase-Suppression/feature_helpers.py -> viewfs://apollo-rno/user/b_perso/.sparkStaging/application_1728324362732_7747545/feature_helpers.py\n",
      "24/11/07 12:42:09 INFO Client: Uploading resource file:/data/shpx/data/mpalei/spark-3.1.1.0.1.0-bin-ebay/python/lib/pyspark.zip -> viewfs://apollo-rno/user/b_perso/.sparkStaging/application_1728324362732_7747545/pyspark.zip\n",
      "24/11/07 12:42:10 INFO Client: Uploading resource file:/data/shpx/data/mpalei/spark-3.1.1.0.1.0-bin-ebay/python/lib/py4j-0.10.9-src.zip -> viewfs://apollo-rno/user/b_perso/.sparkStaging/application_1728324362732_7747545/py4j-0.10.9-src.zip\n",
      "24/11/07 12:42:10 INFO Client: Uploading resource file:/tmp/spark-133c76c8-c2af-44b1-b129-ae5ddb32ce1d/__spark_conf__3393749069970398990.zip -> viewfs://apollo-rno/user/b_perso/.sparkStaging/application_1728324362732_7747545/__spark_conf__.zip\n",
      "24/11/07 12:42:10 INFO SecurityManager: Changing view acls to: olivyatan,b_perso,*\n",
      "24/11/07 12:42:10 INFO SecurityManager: Changing modify acls to: olivyatan,b_perso\n",
      "24/11/07 12:42:10 INFO SecurityManager: Changing view acls groups to: \n",
      "24/11/07 12:42:10 INFO SecurityManager: Changing modify acls groups to: \n",
      "24/11/07 12:42:10 INFO SecurityManager: SecurityManager: authentication disabled; ui acls disabled; users  with view permissions: Set(olivyatan, b_perso, *); groups with view permissions: Set(); users  with modify permissions: Set(olivyatan, b_perso); groups with modify permissions: Set()\n",
      "24/11/07 12:42:10 INFO Client: Submitting application application_1728324362732_7747545 to ResourceManager\n",
      "24/11/07 12:42:12 INFO YarnClientImpl: Application submission is not finished, submitted application application_1728324362732_7747545 is still in SUBMITTED\n",
      "24/11/07 12:42:14 INFO YarnClientImpl: Application submission is not finished, submitted application application_1728324362732_7747545 is still in SUBMITTED\n",
      "24/11/07 12:42:16 INFO YarnClientImpl: Application submission is not finished, submitted application application_1728324362732_7747545 is still in SUBMITTED\n",
      "24/11/07 12:42:18 INFO YarnClientImpl: Application submission is not finished, submitted application application_1728324362732_7747545 is still in SUBMITTED\n",
      "24/11/07 12:42:20 INFO YarnClientImpl: Application submission is not finished, submitted application application_1728324362732_7747545 is still in SUBMITTED\n",
      "24/11/07 12:42:22 INFO YarnClientImpl: Submitted application application_1728324362732_7747545\n",
      "24/11/07 12:42:23 INFO Client: Application report for application_1728324362732_7747545 (state: ACCEPTED)\n",
      "24/11/07 12:42:23 INFO Client: \n",
      "\t client token: N/A\n",
      "\t diagnostics: N/A\n",
      "\t ApplicationMaster host: N/A\n",
      "\t ApplicationMaster RPC port: -1\n",
      "\t queue: hddq-exprce-perso-high-mem\n",
      "\t start time: 1730983330683\n",
      "\t final status: UNDEFINED\n",
      "\t tracking URL: https://apollo-rno-rm-1.vip.hadoop.ebay.com:50030/proxy/application_1728324362732_7747545/\n",
      "\t user: b_perso\n",
      "24/11/07 12:42:24 INFO Client: Application report for application_1728324362732_7747545 (state: ACCEPTED)\n",
      "24/11/07 12:42:25 INFO Client: Application report for application_1728324362732_7747545 (state: ACCEPTED)\n",
      "24/11/07 12:42:26 INFO Client: Application report for application_1728324362732_7747545 (state: ACCEPTED)\n",
      "24/11/07 12:42:27 INFO Client: Application report for application_1728324362732_7747545 (state: ACCEPTED)\n",
      "24/11/07 12:42:28 INFO Client: Application report for application_1728324362732_7747545 (state: ACCEPTED)\n",
      "24/11/07 12:42:29 INFO Client: Application report for application_1728324362732_7747545 (state: ACCEPTED)\n",
      "24/11/07 12:42:30 INFO Client: Application report for application_1728324362732_7747545 (state: ACCEPTED)\n",
      "24/11/07 12:42:31 INFO Client: Application report for application_1728324362732_7747545 (state: ACCEPTED)\n",
      "24/11/07 12:42:32 INFO Client: Application report for application_1728324362732_7747545 (state: ACCEPTED)\n",
      "24/11/07 12:42:33 INFO Client: Application report for application_1728324362732_7747545 (state: ACCEPTED)\n",
      "24/11/07 12:42:34 INFO Client: Application report for application_1728324362732_7747545 (state: ACCEPTED)\n",
      "24/11/07 12:42:35 INFO Client: Application report for application_1728324362732_7747545 (state: ACCEPTED)\n",
      "24/11/07 12:42:36 INFO Client: Application report for application_1728324362732_7747545 (state: ACCEPTED)\n",
      "24/11/07 12:42:37 INFO Client: Application report for application_1728324362732_7747545 (state: ACCEPTED)\n",
      "24/11/07 12:42:38 INFO Client: Application report for application_1728324362732_7747545 (state: ACCEPTED)\n",
      "24/11/07 12:42:39 INFO Client: Application report for application_1728324362732_7747545 (state: ACCEPTED)\n",
      "24/11/07 12:42:40 INFO Client: Application report for application_1728324362732_7747545 (state: ACCEPTED)\n",
      "24/11/07 12:42:41 INFO Client: Application report for application_1728324362732_7747545 (state: ACCEPTED)\n",
      "24/11/07 12:42:42 INFO Client: Application report for application_1728324362732_7747545 (state: ACCEPTED)\n",
      "24/11/07 12:42:43 INFO Client: Application report for application_1728324362732_7747545 (state: ACCEPTED)\n",
      "24/11/07 12:42:44 INFO Client: Application report for application_1728324362732_7747545 (state: ACCEPTED)\n",
      "24/11/07 12:42:45 INFO Client: Application report for application_1728324362732_7747545 (state: ACCEPTED)\n",
      "24/11/07 12:42:46 INFO Client: Application report for application_1728324362732_7747545 (state: ACCEPTED)\n",
      "24/11/07 12:42:47 INFO Client: Application report for application_1728324362732_7747545 (state: ACCEPTED)\n",
      "24/11/07 12:42:48 INFO Client: Application report for application_1728324362732_7747545 (state: ACCEPTED)\n",
      "24/11/07 12:42:49 INFO Client: Application report for application_1728324362732_7747545 (state: ACCEPTED)\n",
      "24/11/07 12:42:50 INFO Client: Application report for application_1728324362732_7747545 (state: ACCEPTED)\n",
      "24/11/07 12:42:51 INFO Client: Application report for application_1728324362732_7747545 (state: ACCEPTED)\n",
      "24/11/07 12:42:52 INFO Client: Application report for application_1728324362732_7747545 (state: ACCEPTED)\n",
      "24/11/07 12:42:53 INFO Client: Application report for application_1728324362732_7747545 (state: ACCEPTED)\n",
      "24/11/07 12:42:54 INFO Client: Application report for application_1728324362732_7747545 (state: ACCEPTED)\n",
      "24/11/07 12:42:55 INFO Client: Application report for application_1728324362732_7747545 (state: ACCEPTED)\n",
      "24/11/07 12:42:56 INFO Client: Application report for application_1728324362732_7747545 (state: ACCEPTED)\n",
      "24/11/07 12:42:57 INFO YarnClientSchedulerBackend: Add WebUI Filter. org.apache.hadoop.yarn.server.webproxy.amfilter.AmIpFilter, Map(PROXY_HOSTS -> apollo-rno-rm-1.vip.hadoop.ebay.com,apollo-rno-rm-2.vip.hadoop.ebay.com, PROXY_URI_BASES -> https://apollo-rno-rm-1.vip.hadoop.ebay.com:50030/proxy/application_1728324362732_7747545,https://apollo-rno-rm-2.vip.hadoop.ebay.com:50030/proxy/application_1728324362732_7747545, RM_HA_URLS -> apollo-rno-rm-1.vip.hadoop.ebay.com:50030,apollo-rno-rm-2.vip.hadoop.ebay.com:50030), /proxy/application_1728324362732_7747545\n",
      "24/11/07 12:42:57 INFO Client: Application report for application_1728324362732_7747545 (state: RUNNING)\n",
      "24/11/07 12:42:57 INFO Client: \n",
      "\t client token: Token { kind: YARN_CLIENT_TOKEN, service:  }\n",
      "\t diagnostics: N/A\n",
      "\t ApplicationMaster host: 10.97.207.75\n",
      "\t ApplicationMaster RPC port: -1\n",
      "\t queue: hddq-exprce-perso-high-mem\n",
      "\t start time: 1730983330683\n",
      "\t final status: UNDEFINED\n",
      "\t tracking URL: https://apollo-rno-rm-1.vip.hadoop.ebay.com:50030/proxy/application_1728324362732_7747545/\n",
      "\t user: b_perso\n",
      "24/11/07 12:42:57 INFO YarnClientSchedulerBackend: Application application_1728324362732_7747545 has started running.\n",
      "24/11/07 12:42:57 WARN Utils: Service 'org.apache.spark.network.netty.NettyBlockTransferService' could not bind on port 30601. Attempting port 30602.\n",
      "24/11/07 12:42:57 INFO Utils: Successfully started service 'org.apache.spark.network.netty.NettyBlockTransferService' on port 30602.\n",
      "24/11/07 12:42:57 INFO NettyBlockTransferService: Server created on 10.198.242.32:30602\n",
      "24/11/07 12:42:57 INFO BlockManager: Using org.apache.spark.storage.RandomBlockReplicationPolicy for block replication policy\n",
      "24/11/07 12:42:57 INFO BlockManagerMaster: Registering BlockManager BlockManagerId(driver, 10.198.242.32, 30602, None)\n",
      "24/11/07 12:42:57 INFO BlockManagerMasterEndpoint: Registering block manager 10.198.242.32:30602 with 10.5 GiB RAM, BlockManagerId(driver, 10.198.242.32, 30602, None)\n",
      "24/11/07 12:42:57 INFO BlockManagerMaster: Registered BlockManager BlockManagerId(driver, 10.198.242.32, 30602, None)\n",
      "24/11/07 12:42:57 INFO BlockManager: external shuffle service port = 7337\n",
      "24/11/07 12:42:57 INFO BlockManager: Initialized BlockManager: BlockManagerId(driver, 10.198.242.32, 30602, None)\n",
      "24/11/07 12:42:57 INFO ServerInfo: Adding filter to /metrics/json: org.apache.hadoop.yarn.server.webproxy.amfilter.AmIpFilter\n",
      "24/11/07 12:42:57 INFO ContextHandler: Started o.s.j.s.ServletContextHandler@57fac1cf{/metrics/json,null,AVAILABLE,@Spark}\n",
      "24/11/07 12:42:58 INFO SingleEventLogFileWriter: Logging events to hdfs://apollo-rno/spark-logs/application_1728324362732_7747545.lz4.inprogress\n",
      "24/11/07 12:42:58 INFO Utils: Using initial executors = 10, max of spark.dynamicAllocation.initialExecutors, spark.dynamicAllocation.minExecutors and spark.executor.instances\n",
      "24/11/07 12:42:58 WARN YarnSchedulerBackend$YarnSchedulerEndpoint: Attempted to request executors before the AM has registered!\n",
      "24/11/07 12:42:58 INFO YarnClientSchedulerBackend: SchedulerBackend is ready for scheduling beginning after waiting maxRegisteredResourcesWaitingTime: 30000000000(ns)\n",
      "24/11/07 12:42:58 INFO YarnSchedulerBackend$YarnSchedulerEndpoint: ApplicationMaster registered as NettyRpcEndpointRef(spark-client://YarnAM)\n",
      "24/11/07 12:42:58 INFO SharedState: Setting hive.metastore.warehouse.dir ('/user/hive/warehouse') to the value of spark.sql.warehouse.dir ('/user/hive/warehouse').\n",
      "24/11/07 12:42:58 INFO SharedState: Warehouse path is '/user/hive/warehouse'.\n",
      "24/11/07 12:42:58 INFO ServerInfo: Adding filter to /SQL: org.apache.hadoop.yarn.server.webproxy.amfilter.AmIpFilter\n",
      "24/11/07 12:42:58 INFO ContextHandler: Started o.s.j.s.ServletContextHandler@2a2a46ba{/SQL,null,AVAILABLE,@Spark}\n",
      "24/11/07 12:42:58 INFO ServerInfo: Adding filter to /SQL/json: org.apache.hadoop.yarn.server.webproxy.amfilter.AmIpFilter\n",
      "24/11/07 12:42:58 INFO ContextHandler: Started o.s.j.s.ServletContextHandler@7373cd0e{/SQL/json,null,AVAILABLE,@Spark}\n",
      "24/11/07 12:42:58 INFO ServerInfo: Adding filter to /SQL/execution: org.apache.hadoop.yarn.server.webproxy.amfilter.AmIpFilter\n",
      "24/11/07 12:42:58 INFO ContextHandler: Started o.s.j.s.ServletContextHandler@311e6430{/SQL/execution,null,AVAILABLE,@Spark}\n",
      "24/11/07 12:42:58 INFO ServerInfo: Adding filter to /SQL/execution/json: org.apache.hadoop.yarn.server.webproxy.amfilter.AmIpFilter\n",
      "24/11/07 12:42:58 INFO ContextHandler: Started o.s.j.s.ServletContextHandler@41868441{/SQL/execution/json,null,AVAILABLE,@Spark}\n",
      "24/11/07 12:42:58 INFO ServerInfo: Adding filter to /static/sql: org.apache.hadoop.yarn.server.webproxy.amfilter.AmIpFilter\n",
      "24/11/07 12:42:58 INFO ContextHandler: Started o.s.j.s.ServletContextHandler@3b8135c9{/static/sql,null,AVAILABLE,@Spark}\n"
     ]
    }
   ],
   "source": [
    "from utils import spark_session, save_table\n",
    "\n",
    "session = spark_session(\"purchase-suppression-tmp\")"
   ]
  },
  {
   "cell_type": "markdown",
   "id": "8f853726-925d-48c1-9b9d-2a38e64731f7",
   "metadata": {},
   "source": [
    "## Loading tables:"
   ]
  },
  {
   "cell_type": "code",
   "execution_count": 2,
   "id": "7d64439c-2576-4856-9112-4139ace876a0",
   "metadata": {
    "tags": []
   },
   "outputs": [],
   "source": [
    "import features as F\n",
    "\n",
    "df_smp = session.table(\"bx_ps_samples_enriched_1\")\n",
    "df_prch = session.table(\"bx_ps_user_prch_hist_1\")\n",
    "df_vi = session.table(\"bx_ps_user_vi_hist_1\")"
   ]
  },
  {
   "cell_type": "code",
   "execution_count": 3,
   "id": "9e2d0c6b-6387-4fae-8ae2-eb0f5427a24a",
   "metadata": {},
   "outputs": [],
   "source": [
    "#df_srch = session.table(\"bx_ps_user_srch_hist_1\")"
   ]
  },
  {
   "cell_type": "markdown",
   "id": "a0a044fa-d392-4321-8cec-3432727a2edb",
   "metadata": {},
   "source": [
    "## Features calculation add origin"
   ]
  },
  {
   "cell_type": "code",
   "execution_count": null,
   "id": "613efb66-04db-4529-a9f6-6bcf3f7e670a",
   "metadata": {
    "tags": []
   },
   "outputs": [],
   "source": [
    "# time_since_last_action_from_cat_in_days\n",
    "df_ft = F.f_time_since_last_action_from_cat_in_days(df_smp, df_prch, cat_type=\"LEAF\", action_type=\"purchase\")\n",
    "df_res = F.add_feature(df_smp, df_ft, join_key=\"LEAF_CATEG_ID\")\n",
    "\n",
    "df_ft = F.f_time_since_last_action_from_cat_in_days(df_smp, df_prch, cat_type=\"LVL2\", action_type=\"purchase\")\n",
    "df_res = F.add_feature(df_res, df_ft, join_key=\"CATEG_LVL2_ID\")\n",
    "\n",
    "df_ft = F.f_time_since_last_action_from_cat_in_days(df_smp, df_prch, cat_type=\"META\", action_type=\"purchase\")\n",
    "df_res = F.add_feature(df_res, df_ft, join_key=\"META_CATEG_ID\")\n",
    "\n",
    "df_ft = F.f_time_since_last_action_from_cat_in_days(df_smp, df_vi, cat_type=\"LEAF\", action_type=\"view\")\n",
    "df_res = F.add_feature(df_res, df_ft, join_key=\"LEAF_CATEG_ID\")\n",
    "\n",
    "df_ft = F.f_time_since_last_action_from_cat_in_days(df_smp, df_vi, cat_type=\"LVL2\", action_type=\"view\")\n",
    "df_res = F.add_feature(df_res, df_ft, join_key=\"CATEG_LVL2_ID\")\n",
    "\n",
    "df_ft = F.f_time_since_last_action_from_cat_in_days(df_smp, df_vi, cat_type=\"META\", action_type=\"view\")\n",
    "df_res = F.add_feature(df_res, df_ft, join_key=\"META_CATEG_ID\")\n",
    "\n",
    "\n",
    "#num_actions_from_cat_in_last_x_days\n",
    "df_ft = F.f_num_actions_from_cat_in_last_x_days(df_smp, df_prch, cat_type=\"LEAF\", days=1, action_type=\"purchase\")\n",
    "df_res = F.add_feature(df_res, df_ft, join_key=\"LEAF_CATEG_ID\")\n",
    "\n",
    "df_ft = F.f_num_actions_from_cat_in_last_x_days(df_smp, df_prch, cat_type=\"LEAF\", days=2, action_type=\"purchase\")\n",
    "df_res = F.add_feature(df_res, df_ft, join_key=\"LEAF_CATEG_ID\")\n",
    "\n",
    "df_ft = F.f_num_actions_from_cat_in_last_x_days(df_smp, df_prch, cat_type=\"LEAF\", days=5, action_type=\"purchase\")\n",
    "df_res = F.add_feature(df_res, df_ft, join_key=\"LEAF_CATEG_ID\")\n",
    "\n",
    "df_ft = F.f_num_actions_from_cat_in_last_x_days(df_smp, df_prch, cat_type=\"LEAF\", days=7, action_type=\"purchase\")\n",
    "df_res = F.add_feature(df_res, df_ft, join_key=\"LEAF_CATEG_ID\")\n",
    "\n",
    "df_ft = F.f_num_actions_from_cat_in_last_x_days(df_smp, df_prch, cat_type=\"LEAF\", days=14, action_type=\"purchase\")\n",
    "df_res = F.add_feature(df_res, df_ft, join_key=\"LEAF_CATEG_ID\")\n",
    "\n",
    "df_ft = F.f_num_actions_from_cat_in_last_x_days(df_smp, df_prch, cat_type=\"LEAF\", days=30, action_type=\"purchase\")\n",
    "df_res = F.add_feature(df_res, df_ft, join_key=\"LEAF_CATEG_ID\")\n",
    "\n",
    "df_ft = F.f_num_actions_from_cat_in_last_x_days(df_smp, df_prch, cat_type=\"LEAF\", days=60, action_type=\"purchase\")\n",
    "df_res = F.add_feature(df_res, df_ft, join_key=\"LEAF_CATEG_ID\")\n",
    "\n",
    "df_ft = F.f_num_actions_from_cat_in_last_x_days(df_smp, df_prch, cat_type=\"LEAF\", days=90, action_type=\"purchase\")\n",
    "df_res = F.add_feature(df_res, df_ft, join_key=\"LEAF_CATEG_ID\")\n",
    "\n",
    "df_ft = F.f_num_actions_from_cat_in_last_x_days(df_smp, df_prch, cat_type=\"LEAF\", days=180, action_type=\"purchase\")\n",
    "df_res = F.add_feature(df_res, df_ft, join_key=\"LEAF_CATEG_ID\")\n",
    "\n",
    "df_ft = F.f_num_actions_from_cat_in_last_x_days(df_smp, df_prch, cat_type=\"LEAF\", days=360, action_type=\"purchase\")\n",
    "df_res = F.add_feature(df_res, df_ft, join_key=\"LEAF_CATEG_ID\")\n",
    "\n",
    "df_ft = F.f_num_actions_from_cat_in_last_x_days(df_smp, df_prch, cat_type=\"LVL2\", days=1, action_type=\"purchase\")\n",
    "df_res = F.add_feature(df_res, df_ft, join_key=\"CATEG_LVL2_ID\")\n",
    "\n",
    "df_ft = F.f_num_actions_from_cat_in_last_x_days(df_smp, df_prch, cat_type=\"LVL2\", days=2, action_type=\"purchase\")\n",
    "df_res = F.add_feature(df_res, df_ft, join_key=\"CATEG_LVL2_ID\")\n",
    "\n",
    "df_ft = F.f_num_actions_from_cat_in_last_x_days(df_smp, df_prch, cat_type=\"LVL2\", days=5, action_type=\"purchase\")\n",
    "df_res = F.add_feature(df_res, df_ft, join_key=\"CATEG_LVL2_ID\")\n",
    "\n",
    "df_ft = F.f_num_actions_from_cat_in_last_x_days(df_smp, df_prch, cat_type=\"LVL2\", days=7, action_type=\"purchase\")\n",
    "df_res = F.add_feature(df_res, df_ft, join_key=\"CATEG_LVL2_ID\")\n",
    "\n",
    "df_ft = F.f_num_actions_from_cat_in_last_x_days(df_smp, df_prch, cat_type=\"LVL2\", days=14, action_type=\"purchase\")\n",
    "df_res = F.add_feature(df_res, df_ft, join_key=\"CATEG_LVL2_ID\")\n",
    "\n",
    "df_ft = F.f_num_actions_from_cat_in_last_x_days(df_smp, df_prch, cat_type=\"LVL2\", days=30, action_type=\"purchase\")\n",
    "df_res = F.add_feature(df_res, df_ft, join_key=\"CATEG_LVL2_ID\")\n",
    "\n",
    "df_ft = F.f_num_actions_from_cat_in_last_x_days(df_smp, df_prch, cat_type=\"LVL2\", days=60, action_type=\"purchase\")\n",
    "df_res = F.add_feature(df_res, df_ft, join_key=\"CATEG_LVL2_ID\")\n",
    "\n",
    "df_ft = F.f_num_actions_from_cat_in_last_x_days(df_smp, df_prch, cat_type=\"LVL2\", days=90, action_type=\"purchase\")\n",
    "df_res = F.add_feature(df_res, df_ft, join_key=\"CATEG_LVL2_ID\")\n",
    "\n",
    "df_ft = F.f_num_actions_from_cat_in_last_x_days(df_smp, df_prch, cat_type=\"LVL2\", days=180, action_type=\"purchase\")\n",
    "df_res = F.add_feature(df_res, df_ft, join_key=\"CATEG_LVL2_ID\")\n",
    "\n",
    "df_ft = F.f_num_actions_from_cat_in_last_x_days(df_smp, df_prch, cat_type=\"LVL2\", days=360, action_type=\"purchase\")\n",
    "df_res = F.add_feature(df_res, df_ft, join_key=\"CATEG_LVL2_ID\")\n",
    "\n",
    "df_ft = F.f_num_actions_from_cat_in_last_x_days(df_smp, df_prch, cat_type=\"META\", days=1, action_type=\"purchase\")\n",
    "df_res = F.add_feature(df_res, df_ft, join_key=\"META_CATEG_ID\")\n",
    "\n",
    "df_ft = F.f_num_actions_from_cat_in_last_x_days(df_smp, df_prch, cat_type=\"META\", days=2, action_type=\"purchase\")\n",
    "df_res = F.add_feature(df_res, df_ft, join_key=\"META_CATEG_ID\")\n",
    "\n",
    "df_ft = F.f_num_actions_from_cat_in_last_x_days(df_smp, df_prch, cat_type=\"META\", days=5, action_type=\"purchase\")\n",
    "df_res = F.add_feature(df_res, df_ft, join_key=\"META_CATEG_ID\")\n",
    "\n",
    "df_ft = F.f_num_actions_from_cat_in_last_x_days(df_smp, df_prch, cat_type=\"META\", days=7, action_type=\"purchase\")\n",
    "df_res = F.add_feature(df_res, df_ft, join_key=\"META_CATEG_ID\")\n",
    "\n",
    "df_ft = F.f_num_actions_from_cat_in_last_x_days(df_smp, df_prch, cat_type=\"META\", days=14, action_type=\"purchase\")\n",
    "df_res = F.add_feature(df_res, df_ft, join_key=\"META_CATEG_ID\")\n",
    "\n",
    "df_ft = F.f_num_actions_from_cat_in_last_x_days(df_smp, df_prch, cat_type=\"META\", days=30, action_type=\"purchase\")\n",
    "df_res = F.add_feature(df_res, df_ft, join_key=\"META_CATEG_ID\")\n",
    "\n",
    "df_ft = F.f_num_actions_from_cat_in_last_x_days(df_smp, df_prch, cat_type=\"META\", days=60, action_type=\"purchase\")\n",
    "df_res = F.add_feature(df_res, df_ft, join_key=\"META_CATEG_ID\")\n",
    "\n",
    "df_ft = F.f_num_actions_from_cat_in_last_x_days(df_smp, df_prch, cat_type=\"META\", days=90, action_type=\"purchase\")\n",
    "df_res = F.add_feature(df_res, df_ft, join_key=\"META_CATEG_ID\")\n",
    "\n",
    "df_ft = F.f_num_actions_from_cat_in_last_x_days(df_smp, df_prch, cat_type=\"META\", days=180, action_type=\"purchase\")\n",
    "df_res = F.add_feature(df_res, df_ft, join_key=\"META_CATEG_ID\")\n",
    "\n",
    "df_ft = F.f_num_actions_from_cat_in_last_x_days(df_smp, df_prch, cat_type=\"META\", days=360, action_type=\"purchase\")\n",
    "df_res = F.add_feature(df_res, df_ft, join_key=\"META_CATEG_ID\")\n",
    "\n",
    "df_ft = F.f_num_actions_from_cat_in_last_x_days(df_smp, df_vi, cat_type=\"LEAF\", days=1, action_type=\"view\")\n",
    "df_res = F.add_feature(df_res, df_ft, join_key=\"LEAF_CATEG_ID\")\n",
    "\n",
    "df_ft = F.f_num_actions_from_cat_in_last_x_days(df_smp, df_vi, cat_type=\"LEAF\", days=2, action_type=\"view\")\n",
    "df_res = F.add_feature(df_res, df_ft, join_key=\"LEAF_CATEG_ID\")\n",
    "\n",
    "df_ft = F.f_num_actions_from_cat_in_last_x_days(df_smp, df_vi, cat_type=\"LEAF\", days=5, action_type=\"view\")\n",
    "df_res = F.add_feature(df_res, df_ft, join_key=\"LEAF_CATEG_ID\")\n",
    "\n",
    "df_ft = F.f_num_actions_from_cat_in_last_x_days(df_smp, df_vi, cat_type=\"LEAF\", days=7, action_type=\"view\")\n",
    "df_res = F.add_feature(df_res, df_ft, join_key=\"LEAF_CATEG_ID\")\n",
    "\n",
    "df_ft = F.f_num_actions_from_cat_in_last_x_days(df_smp, df_vi, cat_type=\"LEAF\", days=14, action_type=\"view\")\n",
    "df_res = F.add_feature(df_res, df_ft, join_key=\"LEAF_CATEG_ID\")\n",
    "\n",
    "df_ft = F.f_num_actions_from_cat_in_last_x_days(df_smp, df_vi, cat_type=\"LEAF\", days=30, action_type=\"view\")\n",
    "df_res = F.add_feature(df_res, df_ft, join_key=\"LEAF_CATEG_ID\")\n",
    "\n",
    "df_ft = F.f_num_actions_from_cat_in_last_x_days(df_smp, df_vi, cat_type=\"LEAF\", days=60, action_type=\"view\")\n",
    "df_res = F.add_feature(df_res, df_ft, join_key=\"LEAF_CATEG_ID\")\n",
    "\n",
    "df_ft = F.f_num_actions_from_cat_in_last_x_days(df_smp, df_vi, cat_type=\"LEAF\", days=90, action_type=\"view\")\n",
    "df_res = F.add_feature(df_res, df_ft, join_key=\"LEAF_CATEG_ID\")\n",
    "\n",
    "df_ft = F.f_num_actions_from_cat_in_last_x_days(df_smp, df_vi, cat_type=\"LEAF\", days=180, action_type=\"view\")\n",
    "df_res = F.add_feature(df_res, df_ft, join_key=\"LEAF_CATEG_ID\")\n",
    "\n",
    "df_ft = F.f_num_actions_from_cat_in_last_x_days(df_smp, df_vi, cat_type=\"LEAF\", days=360, action_type=\"view\")\n",
    "df_res = F.add_feature(df_res, df_ft, join_key=\"LEAF_CATEG_ID\")\n",
    "\n",
    "df_ft = F.f_num_actions_from_cat_in_last_x_days(df_smp, df_vi, cat_type=\"LVL2\", days=1, action_type=\"view\")\n",
    "df_res = F.add_feature(df_res, df_ft, join_key=\"CATEG_LVL2_ID\")\n",
    "\n",
    "df_ft = F.f_num_actions_from_cat_in_last_x_days(df_smp, df_vi, cat_type=\"LVL2\", days=2, action_type=\"view\")\n",
    "df_res = F.add_feature(df_res, df_ft, join_key=\"CATEG_LVL2_ID\")\n",
    "\n",
    "df_ft = F.f_num_actions_from_cat_in_last_x_days(df_smp, df_vi, cat_type=\"LVL2\", days=5, action_type=\"view\")\n",
    "df_res = F.add_feature(df_res, df_ft, join_key=\"CATEG_LVL2_ID\")\n",
    "\n",
    "df_ft = F.f_num_actions_from_cat_in_last_x_days(df_smp, df_vi, cat_type=\"LVL2\", days=7, action_type=\"view\")\n",
    "df_res = F.add_feature(df_res, df_ft, join_key=\"CATEG_LVL2_ID\")\n",
    "\n",
    "df_ft = F.f_num_actions_from_cat_in_last_x_days(df_smp, df_vi, cat_type=\"LVL2\", days=14, action_type=\"view\")\n",
    "df_res = F.add_feature(df_res, df_ft, join_key=\"CATEG_LVL2_ID\")\n",
    "\n",
    "df_ft = F.f_num_actions_from_cat_in_last_x_days(df_smp, df_vi, cat_type=\"LVL2\", days=30, action_type=\"view\")\n",
    "df_res = F.add_feature(df_res, df_ft, join_key=\"CATEG_LVL2_ID\")\n",
    "\n",
    "df_ft = F.f_num_actions_from_cat_in_last_x_days(df_smp, df_vi, cat_type=\"LVL2\", days=60, action_type=\"view\")\n",
    "df_res = F.add_feature(df_res, df_ft, join_key=\"CATEG_LVL2_ID\")\n",
    "\n",
    "df_ft = F.f_num_actions_from_cat_in_last_x_days(df_smp, df_vi, cat_type=\"LVL2\", days=90, action_type=\"view\")\n",
    "df_res = F.add_feature(df_res, df_ft, join_key=\"CATEG_LVL2_ID\")\n",
    "\n",
    "df_ft = F.f_num_actions_from_cat_in_last_x_days(df_smp, df_vi, cat_type=\"LVL2\", days=180, action_type=\"view\")\n",
    "df_res = F.add_feature(df_res, df_ft, join_key=\"CATEG_LVL2_ID\")\n",
    "\n",
    "df_ft = F.f_num_actions_from_cat_in_last_x_days(df_smp, df_vi, cat_type=\"LVL2\", days=360, action_type=\"view\")\n",
    "df_res = F.add_feature(df_res, df_ft, join_key=\"CATEG_LVL2_ID\")\n",
    "\n",
    "df_ft = F.f_num_actions_from_cat_in_last_x_days(df_smp, df_vi, cat_type=\"META\", days=1, action_type=\"view\")\n",
    "df_res = F.add_feature(df_res, df_ft, join_key=\"META_CATEG_ID\")\n",
    "\n",
    "df_ft = F.f_num_actions_from_cat_in_last_x_days(df_smp, df_vi, cat_type=\"META\", days=2, action_type=\"view\")\n",
    "df_res = F.add_feature(df_res, df_ft, join_key=\"META_CATEG_ID\")\n",
    "\n",
    "df_ft = F.f_num_actions_from_cat_in_last_x_days(df_smp, df_vi, cat_type=\"META\", days=5, action_type=\"view\")\n",
    "df_res = F.add_feature(df_res, df_ft, join_key=\"META_CATEG_ID\")\n",
    "\n",
    "df_ft = F.f_num_actions_from_cat_in_last_x_days(df_smp, df_vi, cat_type=\"META\", days=7, action_type=\"view\")\n",
    "df_res = F.add_feature(df_res, df_ft, join_key=\"META_CATEG_ID\")\n",
    "\n",
    "df_ft = F.f_num_actions_from_cat_in_last_x_days(df_smp, df_vi, cat_type=\"META\", days=14, action_type=\"view\")\n",
    "df_res = F.add_feature(df_res, df_ft, join_key=\"META_CATEG_ID\")\n",
    "\n",
    "df_ft = F.f_num_actions_from_cat_in_last_x_days(df_smp, df_vi, cat_type=\"META\", days=30, action_type=\"view\")\n",
    "df_res = F.add_feature(df_res, df_ft, join_key=\"META_CATEG_ID\")\n",
    "\n",
    "df_ft = F.f_num_actions_from_cat_in_last_x_days(df_smp, df_vi, cat_type=\"META\", days=60, action_type=\"view\")\n",
    "df_res = F.add_feature(df_res, df_ft, join_key=\"META_CATEG_ID\")\n",
    "\n",
    "df_ft = F.f_num_actions_from_cat_in_last_x_days(df_smp, df_vi, cat_type=\"META\", days=90, action_type=\"view\")\n",
    "df_res = F.add_feature(df_res, df_ft, join_key=\"META_CATEG_ID\")\n",
    "\n",
    "df_ft = F.f_num_actions_from_cat_in_last_x_days(df_smp, df_vi, cat_type=\"META\", days=180, action_type=\"view\")\n",
    "df_res = F.add_feature(df_res, df_ft, join_key=\"META_CATEG_ID\")\n",
    "\n",
    "df_ft = F.f_num_actions_from_cat_in_last_x_days(df_smp, df_vi, cat_type=\"META\", days=360, action_type=\"view\")\n",
    "df_res = F.add_feature(df_res, df_ft, join_key=\"META_CATEG_ID\")"
   ]
  },
  {
   "cell_type": "code",
   "execution_count": null,
   "id": "9cca7634-a4cd-4d2c-a581-09e2e0a961a5",
   "metadata": {
    "tags": []
   },
   "outputs": [],
   "source": [
    "#cat_propensity_sim\n",
    "df_ft = F.f_cat_propensity_sim(df_smp, df_prch, action_type=\"purchase\", cat_type=\"LEAF\", days=7)\n",
    "df_res = F.add_feature(df_res, df_ft, join_key=\"LEAF_CATEG_ID\", how=\"left\")\n",
    "\n",
    "df_ft = F.f_cat_propensity_sim(df_smp, df_prch, action_type=\"purchase\", cat_type=\"LEAF\", days=14)\n",
    "df_res = F.add_feature(df_res, df_ft, join_key=\"LEAF_CATEG_ID\", how=\"left\")\n",
    "\n",
    "df_ft = F.f_cat_propensity_sim(df_smp, df_prch, action_type=\"purchase\", cat_type=\"LEAF\", days=30)\n",
    "df_res = F.add_feature(df_res, df_ft, join_key=\"LEAF_CATEG_ID\", how=\"left\")\n",
    "\n",
    "df_ft = F.f_cat_propensity_sim(df_smp, df_prch, action_type=\"purchase\", cat_type=\"LEAF\", days=60)\n",
    "df_res = F.add_feature(df_res, df_ft, join_key=\"LEAF_CATEG_ID\", how=\"left\")\n",
    "\n",
    "df_ft = F.f_cat_propensity_sim(df_smp, df_prch, action_type=\"purchase\", cat_type=\"LEAF\", days=90)\n",
    "df_res = F.add_feature(df_res, df_ft, join_key=\"LEAF_CATEG_ID\", how=\"left\")\n",
    "\n",
    "df_ft = F.f_cat_propensity_sim(df_smp, df_prch, action_type=\"purchase\", cat_type=\"LEAF\", days=180)\n",
    "df_res = F.add_feature(df_res, df_ft, join_key=\"LEAF_CATEG_ID\", how=\"left\")\n",
    "\n",
    "df_ft = F.f_cat_propensity_sim(df_smp, df_prch, action_type=\"purchase\", cat_type=\"LEAF\", days=360)\n",
    "df_res = F.add_feature(df_res, df_ft, join_key=\"LEAF_CATEG_ID\", how=\"left\")\n",
    "\n",
    "df_ft = F.f_cat_propensity_sim(df_smp, df_prch, action_type=\"purchase\", cat_type=\"LVL2\", days=7)\n",
    "df_res = F.add_feature(df_res, df_ft, join_key=\"CATEG_LVL2_ID\", how=\"left\")\n",
    "\n",
    "df_ft = F.f_cat_propensity_sim(df_smp, df_prch, action_type=\"purchase\", cat_type=\"LVL2\", days=14)\n",
    "df_res = F.add_feature(df_res, df_ft, join_key=\"CATEG_LVL2_ID\", how=\"left\")\n",
    "\n",
    "df_ft = F.f_cat_propensity_sim(df_smp, df_prch, action_type=\"purchase\", cat_type=\"LVL2\", days=30)\n",
    "df_res = F.add_feature(df_res, df_ft, join_key=\"CATEG_LVL2_ID\", how=\"left\")\n",
    "\n",
    "df_ft = F.f_cat_propensity_sim(df_smp, df_prch, action_type=\"purchase\", cat_type=\"LVL2\", days=60)\n",
    "df_res = F.add_feature(df_res, df_ft, join_key=\"CATEG_LVL2_ID\", how=\"left\")\n",
    "\n",
    "df_ft = F.f_cat_propensity_sim(df_smp, df_prch, action_type=\"purchase\", cat_type=\"LVL2\", days=90)\n",
    "df_res = F.add_feature(df_res, df_ft, join_key=\"CATEG_LVL2_ID\", how=\"left\")\n",
    "\n",
    "df_ft = F.f_cat_propensity_sim(df_smp, df_prch, action_type=\"purchase\", cat_type=\"LVL2\", days=180)\n",
    "df_res = F.add_feature(df_res, df_ft, join_key=\"CATEG_LVL2_ID\", how=\"left\")\n",
    "\n",
    "df_ft = F.f_cat_propensity_sim(df_smp, df_prch, action_type=\"purchase\", cat_type=\"LVL2\", days=360)\n",
    "df_res = F.add_feature(df_res, df_ft, join_key=\"CATEG_LVL2_ID\", how=\"left\")\n",
    "\n",
    "df_ft = F.f_cat_propensity_sim(df_smp, df_prch, action_type=\"purchase\", cat_type=\"META\", days=7)\n",
    "df_res = F.add_feature(df_res, df_ft, join_key=\"META_CATEG_ID\", how=\"left\")\n",
    "\n",
    "df_ft = F.f_cat_propensity_sim(df_smp, df_prch, action_type=\"purchase\", cat_type=\"META\", days=14)\n",
    "df_res = F.add_feature(df_res, df_ft, join_key=\"META_CATEG_ID\", how=\"left\")\n",
    "\n",
    "df_ft = F.f_cat_propensity_sim(df_smp, df_prch, action_type=\"purchase\", cat_type=\"META\", days=30)\n",
    "df_res = F.add_feature(df_res, df_ft, join_key=\"META_CATEG_ID\", how=\"left\")\n",
    "\n",
    "df_ft = F.f_cat_propensity_sim(df_smp, df_prch, action_type=\"purchase\", cat_type=\"META\", days=60)\n",
    "df_res = F.add_feature(df_res, df_ft, join_key=\"META_CATEG_ID\", how=\"left\")\n",
    "\n",
    "df_ft = F.f_cat_propensity_sim(df_smp, df_prch, action_type=\"purchase\", cat_type=\"META\", days=90)\n",
    "df_res = F.add_feature(df_res, df_ft, join_key=\"META_CATEG_ID\", how=\"left\")\n",
    "\n",
    "df_ft = F.f_cat_propensity_sim(df_smp, df_prch, action_type=\"purchase\", cat_type=\"META\", days=180)\n",
    "df_res = F.add_feature(df_res, df_ft, join_key=\"META_CATEG_ID\", how=\"left\")\n",
    "\n",
    "df_ft = F.f_cat_propensity_sim(df_smp, df_prch, action_type=\"purchase\", cat_type=\"META\", days=360)\n",
    "df_res = F.add_feature(df_res, df_ft, join_key=\"META_CATEG_ID\", how=\"left\")\n",
    "\n",
    "df_ft = F.f_cat_propensity_sim(df_smp, df_vi, action_type=\"view\", cat_type=\"LEAF\", days=7)\n",
    "df_res = F.add_feature(df_res, df_ft, join_key=\"LEAF_CATEG_ID\", how=\"left\")\n",
    "\n",
    "df_ft = F.f_cat_propensity_sim(df_smp, df_vi, action_type=\"view\", cat_type=\"LEAF\", days=14)\n",
    "df_res = F.add_feature(df_res, df_ft, join_key=\"LEAF_CATEG_ID\", how=\"left\")\n",
    "\n",
    "df_ft = F.f_cat_propensity_sim(df_smp, df_vi, action_type=\"view\", cat_type=\"LEAF\", days=30)\n",
    "df_res = F.add_feature(df_res, df_ft, join_key=\"LEAF_CATEG_ID\", how=\"left\")\n",
    "\n",
    "df_ft = F.f_cat_propensity_sim(df_smp, df_vi, action_type=\"view\", cat_type=\"LEAF\", days=60)\n",
    "df_res = F.add_feature(df_res, df_ft, join_key=\"LEAF_CATEG_ID\", how=\"left\")\n",
    "\n",
    "df_ft = F.f_cat_propensity_sim(df_smp, df_vi, action_type=\"view\", cat_type=\"LEAF\", days=90)\n",
    "df_res = F.add_feature(df_res, df_ft, join_key=\"LEAF_CATEG_ID\", how=\"left\")\n",
    "\n",
    "df_ft = F.f_cat_propensity_sim(df_smp, df_vi, action_type=\"view\", cat_type=\"LEAF\", days=180)\n",
    "df_res = F.add_feature(df_res, df_ft, join_key=\"LEAF_CATEG_ID\", how=\"left\")\n",
    "\n",
    "df_ft = F.f_cat_propensity_sim(df_smp, df_vi, action_type=\"view\", cat_type=\"LEAF\", days=360)\n",
    "df_res = F.add_feature(df_res, df_ft, join_key=\"LEAF_CATEG_ID\", how=\"left\")\n",
    "\n",
    "df_ft = F.f_cat_propensity_sim(df_smp, df_vi, action_type=\"view\", cat_type=\"LVL2\", days=7)\n",
    "df_res = F.add_feature(df_res, df_ft, join_key=\"CATEG_LVL2_ID\", how=\"left\")\n",
    "\n",
    "df_ft = F.f_cat_propensity_sim(df_smp, df_vi, action_type=\"view\", cat_type=\"LVL2\", days=14)\n",
    "df_res = F.add_feature(df_res, df_ft, join_key=\"CATEG_LVL2_ID\", how=\"left\")\n",
    "\n",
    "df_ft = F.f_cat_propensity_sim(df_smp, df_vi, action_type=\"view\", cat_type=\"LVL2\", days=30)\n",
    "df_res = F.add_feature(df_res, df_ft, join_key=\"CATEG_LVL2_ID\", how=\"left\")\n",
    "\n",
    "df_ft = F.f_cat_propensity_sim(df_smp, df_vi, action_type=\"view\", cat_type=\"LVL2\", days=60)\n",
    "df_res = F.add_feature(df_res, df_ft, join_key=\"CATEG_LVL2_ID\", how=\"left\")\n",
    "\n",
    "df_ft = F.f_cat_propensity_sim(df_smp, df_vi, action_type=\"view\", cat_type=\"LVL2\", days=90)\n",
    "df_res = F.add_feature(df_res, df_ft, join_key=\"CATEG_LVL2_ID\", how=\"left\")\n",
    "\n",
    "df_ft = F.f_cat_propensity_sim(df_smp, df_vi, action_type=\"view\", cat_type=\"LVL2\", days=180)\n",
    "df_res = F.add_feature(df_res, df_ft, join_key=\"CATEG_LVL2_ID\", how=\"left\")\n",
    "\n",
    "df_ft = F.f_cat_propensity_sim(df_smp, df_vi, action_type=\"view\", cat_type=\"LVL2\", days=360)\n",
    "df_res = F.add_feature(df_res, df_ft, join_key=\"CATEG_LVL2_ID\", how=\"left\")\n",
    "\n",
    "df_ft = F.f_cat_propensity_sim(df_smp, df_vi, action_type=\"view\", cat_type=\"META\", days=7)\n",
    "df_res = F.add_feature(df_res, df_ft, join_key=\"META_CATEG_ID\", how=\"left\")\n",
    "\n",
    "df_ft = F.f_cat_propensity_sim(df_smp, df_vi, action_type=\"view\", cat_type=\"META\", days=14)\n",
    "df_res = F.add_feature(df_res, df_ft, join_key=\"META_CATEG_ID\", how=\"left\")\n",
    "\n",
    "df_ft = F.f_cat_propensity_sim(df_smp, df_vi, action_type=\"view\", cat_type=\"META\", days=30)\n",
    "df_res = F.add_feature(df_res, df_ft, join_key=\"META_CATEG_ID\", how=\"left\")\n",
    "\n",
    "df_ft = F.f_cat_propensity_sim(df_smp, df_vi, action_type=\"view\", cat_type=\"META\", days=60)\n",
    "df_res = F.add_feature(df_res, df_ft, join_key=\"META_CATEG_ID\", how=\"left\")\n",
    "\n",
    "df_ft = F.f_cat_propensity_sim(df_smp, df_vi, action_type=\"view\", cat_type=\"META\", days=90)\n",
    "df_res = F.add_feature(df_res, df_ft, join_key=\"META_CATEG_ID\", how=\"left\")\n",
    "\n",
    "df_ft = F.f_cat_propensity_sim(df_smp, df_vi, action_type=\"view\", cat_type=\"META\", days=180)\n",
    "df_res = F.add_feature(df_res, df_ft, join_key=\"META_CATEG_ID\", how=\"left\")\n",
    "\n",
    "df_ft = F.f_cat_propensity_sim(df_smp, df_vi, action_type=\"view\", cat_type=\"META\", days=360)\n",
    "df_res = F.add_feature(df_res, df_ft, join_key=\"META_CATEG_ID\", how=\"left\")"
   ]
  },
  {
   "cell_type": "code",
   "execution_count": null,
   "id": "57a556cd-7a87-4a3f-9719-9ccb2a64766a",
   "metadata": {
    "tags": []
   },
   "outputs": [],
   "source": [
    "#title_propensity_sim\n",
    "# df_ft = F.f_title_propensity_sim(df_smp, df_prch, action_type=\"purchase\", days=7)\n",
    "# df_res = F.add_feature(df_res, df_ft, join_key=\"ITEM_ID\", how=\"left\")\n",
    "\n",
    "# df_ft = F.f_title_propensity_sim(df_smp, df_prch, action_type=\"purchase\", days=14)\n",
    "# df_res = F.add_feature(df_res, df_ft, join_key=\"ITEM_ID\", how=\"left\")\n",
    "\n",
    "# df_ft = F.f_title_propensity_sim(df_smp, df_prch, action_type=\"purchase\", days=30)\n",
    "# df_res = F.add_feature(df_res, df_ft, join_key=\"ITEM_ID\", how=\"left\")\n",
    "\n",
    "# df_ft = F.f_title_propensity_sim(df_smp, df_prch, action_type=\"purchase\", days=60)\n",
    "# df_res = F.add_feature(df_res, df_ft, join_key=\"ITEM_ID\", how=\"left\")\n",
    "\n",
    "# df_ft = F.f_title_propensity_sim(df_smp, df_prch, action_type=\"purchase\", days=90)\n",
    "# df_res = F.add_feature(df_res, df_ft, join_key=\"ITEM_ID\", how=\"left\")\n",
    "\n",
    "# df_ft = F.f_title_propensity_sim(df_smp, df_prch, action_type=\"purchase\", days=180)\n",
    "# df_res = F.add_feature(df_res, df_ft, join_key=\"ITEM_ID\", how=\"left\")\n",
    "\n",
    "# df_ft = F.f_title_propensity_sim(df_smp, df_prch, action_type=\"purchase\", days=360)\n",
    "# df_res = F.add_feature(df_res, df_ft, join_key=\"ITEM_ID\", how=\"left\")\n",
    "\n",
    "# df_ft = F.f_title_propensity_sim(df_smp, df_vi, action_type=\"view\", days=7)\n",
    "# df_res = F.add_feature(df_res, df_ft, join_key=\"ITEM_ID\", how=\"left\")\n",
    "\n",
    "# df_ft = F.f_title_propensity_sim(df_smp, df_vi, action_type=\"view\", days=14)\n",
    "# df_res = F.add_feature(df_res, df_ft, join_key=\"ITEM_ID\", how=\"left\")\n",
    "\n",
    "# df_ft = F.f_title_propensity_sim(df_smp, df_vi, action_type=\"view\", days=30)\n",
    "# df_res = F.add_feature(df_res, df_ft, join_key=\"ITEM_ID\", how=\"left\")\n",
    "\n",
    "# df_ft = F.f_title_propensity_sim(df_smp, df_vi, action_type=\"view\", days=60)\n",
    "# df_res = F.add_feature(df_res, df_ft, join_key=\"ITEM_ID\", how=\"left\")\n",
    "\n",
    "# df_ft = F.f_title_propensity_sim(df_smp, df_vi, action_type=\"view\", days=90)\n",
    "# df_res = F.add_feature(df_res, df_ft, join_key=\"ITEM_ID\", how=\"left\")\n",
    "\n",
    "# df_ft = F.f_title_propensity_sim(df_smp, df_vi, action_type=\"view\", days=180)\n",
    "# df_res = F.add_feature(df_res, df_ft, join_key=\"ITEM_ID\", how=\"left\")\n",
    "\n",
    "# df_ft = F.f_title_propensity_sim(df_smp, df_vi, action_type=\"view\", days=360)\n",
    "# df_res = F.add_feature(df_res, df_ft, join_key=\"ITEM_ID\", how=\"left\")"
   ]
  },
  {
   "cell_type": "markdown",
   "id": "24b86fd9-f93c-491a-93b5-b11879a12edf",
   "metadata": {},
   "source": [
    "### save features table:"
   ]
  },
  {
   "cell_type": "code",
   "execution_count": null,
   "id": "810cc1b6-6757-427f-bd56-e070d12bceae",
   "metadata": {
    "scrolled": true,
    "tags": []
   },
   "outputs": [],
   "source": [
    "#save_table(session, df_res, \"bx_ps_features_1\")"
   ]
  },
  {
   "cell_type": "code",
   "execution_count": null,
   "id": "f4c81497-d64f-4d23-8807-61f40ee07ffa",
   "metadata": {
    "tags": []
   },
   "outputs": [],
   "source": [
    "# create a smaller version only with key, features and label\n",
    "df = session.table(\"bx_ps_features_1\")\n",
    "f_columns = [col for col in df.columns if col.startswith('f_')]\n",
    "f_columns.extend([\"BUYER_ID\", \"LEAF_CATEG_ID\", \"EVENT_TIMESTAMP\", \"label\", \"num_repurchases\"])\n",
    "df = df.select(f_columns)\n",
    "\n",
    "# split data to train/validation/test sets\n",
    "train, validation, test = df.randomSplit([0.7, 0.1, 0.2])\n",
    "\n",
    "# save\n",
    "save_table(session, train, \"bx_ps_features_train_1\")\n",
    "save_table(session, validation, \"bx_ps_features_valid_1\")\n",
    "save_table(session, test, \"bx_ps_features_test_1\")"
   ]
  },
  {
   "cell_type": "code",
   "execution_count": null,
   "id": "089330dc-1a0d-445f-8195-804a1b9ec67a",
   "metadata": {
    "tags": []
   },
   "outputs": [],
   "source": [
    "if session:\n",
    "    session.stop()"
   ]
  },
  {
   "cell_type": "code",
   "execution_count": null,
   "id": "a300ffff-667c-47da-90e3-cab5b6cbfeee",
   "metadata": {},
   "outputs": [],
   "source": []
  },
  {
   "cell_type": "code",
   "execution_count": null,
   "id": "63e7dd04-070d-4f5e-97bb-59544c390c8f",
   "metadata": {},
   "outputs": [],
   "source": []
  },
  {
   "cell_type": "code",
   "execution_count": null,
   "id": "99fa0c6a-4151-443b-81e3-a7dfaf8b6c3d",
   "metadata": {},
   "outputs": [],
   "source": []
  },
  {
   "cell_type": "code",
   "execution_count": null,
   "id": "813c9d84-c56a-4a96-a9d0-666d08344229",
   "metadata": {},
   "outputs": [],
   "source": []
  },
  {
   "cell_type": "markdown",
   "id": "bd8b74cf-7020-46c3-bd27-8c582593a8da",
   "metadata": {},
   "source": [
    "## Add features of user's behaviour:"
   ]
  },
  {
   "cell_type": "code",
   "execution_count": 3,
   "id": "b76c94a8-ad0e-44d6-9988-86df4746fbeb",
   "metadata": {},
   "outputs": [],
   "source": [
    "#df_res=session.table( \"bx_ps_features_1\")"
   ]
  },
  {
   "cell_type": "markdown",
   "id": "ff24b77d-3fed-4892-94f6-e8f24094e9b5",
   "metadata": {},
   "source": [
    "### Sample df_res"
   ]
  },
  {
   "cell_type": "code",
   "execution_count": 4,
   "id": "a4644f3a-a31a-4f31-80f6-851f6d5b1a80",
   "metadata": {
    "scrolled": true,
    "tags": []
   },
   "outputs": [
    {
     "name": "stderr",
     "output_type": "stream",
     "text": [
      "                                                                                \r"
     ]
    },
    {
     "data": {
      "text/plain": [
       "1006"
      ]
     },
     "execution_count": 4,
     "metadata": {},
     "output_type": "execute_result"
    }
   ],
   "source": [
    "from pyspark.sql import functions as F\n",
    "import feature_helpers as fe\n",
    "from pyspark.sql.types import FloatType\n",
    "import numpy as np\n",
    "df_res=session.table( \"bx_ps_features_1\")\n",
    "sample_buyers = [row[\"BUYER_ID\"] for row in df_res.select(\"BUYER_ID\").distinct().limit(1000).collect()]\n",
    "\n",
    "# Step 2: Filter df_smp, df_prch, and df_vi to only include those specific buyers\n",
    "df_res_sample = df_res.filter(df_res.BUYER_ID.isin(sample_buyers))\n",
    "\n",
    "df_res_sample.count()"
   ]
  },
  {
   "cell_type": "code",
   "execution_count": 5,
   "id": "089dcc14-23e3-44db-aa2b-937483c4c1fc",
   "metadata": {},
   "outputs": [
    {
     "name": "stderr",
     "output_type": "stream",
     "text": [
      "                                                                                \r"
     ]
    },
    {
     "data": {
      "text/plain": [
       "1006"
      ]
     },
     "execution_count": 5,
     "metadata": {},
     "output_type": "execute_result"
    }
   ],
   "source": [
    "df_res_sample.count()"
   ]
  },
  {
   "cell_type": "code",
   "execution_count": 5,
   "id": "2091e93c-bc3c-496b-afbb-b10accf6160d",
   "metadata": {},
   "outputs": [
    {
     "name": "stdout",
     "output_type": "stream",
     "text": [
      "Number of columns: 832\n"
     ]
    },
    {
     "name": "stderr",
     "output_type": "stream",
     "text": [
      "[Stage 9:>                                                          (0 + 1) / 1]\r"
     ]
    },
    {
     "name": "stdout",
     "output_type": "stream",
     "text": [
      "Number of rows: 1006\n"
     ]
    },
    {
     "name": "stderr",
     "output_type": "stream",
     "text": [
      "                                                                                \r"
     ]
    }
   ],
   "source": [
    "# Check the number of columns\n",
    "num_columns = len(df_res_sample.columns)\n",
    "print(f\"Number of columns: {num_columns}\")\n",
    "\n",
    "# Check the number of rows\n",
    "num_rows = df_res_sample.count()\n",
    "print(f\"Number of rows: {num_rows}\")"
   ]
  },
  {
   "cell_type": "markdown",
   "id": "fc1010a4-9cf2-48c9-a717-a6a0dd4b6865",
   "metadata": {},
   "source": [
    "#### rows in origin features data"
   ]
  },
  {
   "cell_type": "code",
   "execution_count": 4,
   "id": "205db457-a18e-4018-8392-10ee706408d9",
   "metadata": {},
   "outputs": [
    {
     "name": "stdout",
     "output_type": "stream",
     "text": [
      "Number of columns: 832\n"
     ]
    },
    {
     "name": "stderr",
     "output_type": "stream",
     "text": [
      "[Stage 1:>                                                          (0 + 1) / 1]\r"
     ]
    },
    {
     "name": "stdout",
     "output_type": "stream",
     "text": [
      "Number of rows: 99999\n"
     ]
    },
    {
     "name": "stderr",
     "output_type": "stream",
     "text": [
      "                                                                                \r"
     ]
    }
   ],
   "source": [
    "# Check the number of columns\n",
    "num_columns = len(df_res.columns)\n",
    "print(f\"Number of columns: {num_columns}\")\n",
    "\n",
    "# Check the number of rows\n",
    "num_rows = df_res.count()\n",
    "print(f\"Number of rows: {num_rows}\")"
   ]
  },
  {
   "cell_type": "markdown",
   "id": "efd16dbc-db02-4e8a-bb45-56dc342ab853",
   "metadata": {},
   "source": [
    "## User's Behave Features calculation: "
   ]
  },
  {
   "cell_type": "code",
   "execution_count": 10,
   "id": "a2e85961-94d2-4c36-82c3-dd9322ffb6c4",
   "metadata": {},
   "outputs": [],
   "source": [
    "import features as F "
   ]
  },
  {
   "cell_type": "markdown",
   "id": "5cc74201-c25e-4f4f-b98a-a292e963928a",
   "metadata": {},
   "source": [
    "#### f_time_since_first_view_after_purchase_in_cat"
   ]
  },
  {
   "cell_type": "code",
   "execution_count": 5,
   "id": "506c93e9-d511-436f-9240-d02830cbca9b",
   "metadata": {},
   "outputs": [],
   "source": [
    "#1 mean/max/min time -- number of days between the first view after a purchase:\n",
    "import features as F \n",
    "df_ft = F.f_time_since_first_view_after_purchase_in_cat(df_smp, df_prch, df_vi, cat_type=\"LEAF\")\n",
    "df_res = F.add_feature(df_res, df_ft, join_key=\"LEAF_CATEG_ID\", how=\"inner\")\n",
    "\n",
    "df_ft = F.f_time_since_first_view_after_purchase_in_cat(df_smp, df_prch, df_vi, cat_type=\"LVL2\")\n",
    "df_res = F.add_feature(df_res, df_ft, join_key=\"CATEG_LVL2_ID\", how=\"inner\")\n",
    "\n",
    "df_ft = F.f_time_since_first_view_after_purchase_in_cat(df_smp, df_prch, df_vi, cat_type=\"META\")\n",
    "df_res = F.add_feature(df_res, df_ft, join_key=\"META_CATEG_ID\", how=\"inner\")"
   ]
  },
  {
   "cell_type": "code",
   "execution_count": 6,
   "id": "67d7dbf6-5cd3-412e-ab7e-ce573088a080",
   "metadata": {},
   "outputs": [
    {
     "name": "stdout",
     "output_type": "stream",
     "text": [
      "Number of columns: 841\n"
     ]
    },
    {
     "name": "stderr",
     "output_type": "stream",
     "text": [
      "[Stage 19:====================================================>(997 + 3) / 1000]00]]]\r"
     ]
    },
    {
     "name": "stdout",
     "output_type": "stream",
     "text": [
      "Number of rows: 99999\n"
     ]
    },
    {
     "name": "stderr",
     "output_type": "stream",
     "text": [
      "                                                                                \r"
     ]
    }
   ],
   "source": [
    "# Check the number of columns\n",
    "num_columns = len(df_res.columns)\n",
    "print(f\"Number of columns: {num_columns}\")\n",
    "\n",
    "# Check the number of rows\n",
    "num_rows = df_res.count()\n",
    "print(f\"Number of rows: {num_rows}\")"
   ]
  },
  {
   "cell_type": "code",
   "execution_count": 7,
   "id": "21e9ae73-a5b8-4fa7-8732-c7753d3a79d4",
   "metadata": {},
   "outputs": [
    {
     "name": "stderr",
     "output_type": "stream",
     "text": [
      "                                                                                0]]]\r"
     ]
    }
   ],
   "source": [
    "#save_table(session, df_res, \"bx_ps_features_time_since_first_view_1\")"
   ]
  },
  {
   "cell_type": "code",
   "execution_count": 7,
   "id": "81eac292-432e-4bf3-a919-61c01cc6f2df",
   "metadata": {},
   "outputs": [
    {
     "name": "stderr",
     "output_type": "stream",
     "text": [
      "[Stage 28:>                                                         (0 + 1) / 1]000]]\r"
     ]
    },
    {
     "name": "stdout",
     "output_type": "stream",
     "text": [
      "Number of rows: 1006\n"
     ]
    },
    {
     "name": "stderr",
     "output_type": "stream",
     "text": [
      "                                                                                \r"
     ]
    }
   ],
   "source": [
    "num_rows = df_res.count()\n",
    "print(f\"Number of rows: {num_rows}\")"
   ]
  },
  {
   "cell_type": "code",
   "execution_count": 8,
   "id": "326a6cd9-249e-4903-8b58-5a9375cc9110",
   "metadata": {},
   "outputs": [
    {
     "name": "stdout",
     "output_type": "stream",
     "text": [
      "Number of columns: 841\n"
     ]
    },
    {
     "name": "stderr",
     "output_type": "stream",
     "text": [
      "[Stage 46:===========================================>       (854 + 146) / 1000]00]]]\r"
     ]
    },
    {
     "name": "stdout",
     "output_type": "stream",
     "text": [
      "Number of rows: 1006\n"
     ]
    },
    {
     "name": "stderr",
     "output_type": "stream",
     "text": [
      "                                                                                \r"
     ]
    }
   ],
   "source": [
    "# Check the number of columns\n",
    "num_columns = len(df_res.columns)\n",
    "print(f\"Number of columns: {num_columns}\")\n",
    "\n",
    "# Check the number of rows\n",
    "num_rows = df_res.count()\n",
    "print(f\"Number of rows: {num_rows}\")"
   ]
  },
  {
   "cell_type": "markdown",
   "id": "c59d6660-5d4c-4575-8560-4b30ac81ef90",
   "metadata": {},
   "source": [
    "#### f_num_views_from_purchase_in_cat"
   ]
  },
  {
   "cell_type": "code",
   "execution_count": 3,
   "id": "601b3eed-630e-4e43-afcc-d68c63245154",
   "metadata": {},
   "outputs": [],
   "source": [
    "df_res = session.table(\"bx_ps_features_time_since_first_view_1\")"
   ]
  },
  {
   "cell_type": "code",
   "execution_count": null,
   "id": "a829ccb3-a3c8-4b42-862d-9dbf4a791e31",
   "metadata": {},
   "outputs": [],
   "source": [
    "from pyspark.sql import functions as F\n",
    "import feature_helpers as fe\n",
    "from pyspark.sql.types import FloatType\n",
    "import numpy as np\n",
    "df_res=session.table( \"bx_ps_features_1\")\n",
    "sample_buyers = [row[\"BUYER_ID\"] for row in df_res.select(\"BUYER_ID\").distinct().limit(1000).collect()]\n",
    "\n",
    "# Step 2: Filter df_smp, df_prch, and df_vi to only include those specific buyers\n",
    "df_res_sample = df_res.filter(df_res.BUYER_ID.isin(sample_buyers))\n",
    "\n",
    "df_res_sample.count()"
   ]
  },
  {
   "cell_type": "code",
   "execution_count": 5,
   "id": "42eab954-cbb6-4e5a-9a49-4bfeda856469",
   "metadata": {},
   "outputs": [
    {
     "name": "stdout",
     "output_type": "stream",
     "text": [
      "Number of columns: 841\n"
     ]
    },
    {
     "name": "stderr",
     "output_type": "stream",
     "text": [
      "[Stage 2:=====================================================>(994 + 6) / 1000]\r"
     ]
    },
    {
     "name": "stdout",
     "output_type": "stream",
     "text": [
      "Number of rows: 99999\n"
     ]
    },
    {
     "name": "stderr",
     "output_type": "stream",
     "text": [
      "                                                                                \r"
     ]
    }
   ],
   "source": [
    "# Check the number of columns\n",
    "num_columns = len(df_res.columns)\n",
    "print(f\"Number of columns: {num_columns}\")\n",
    "\n",
    "# Check the number of rows\n",
    "num_rows = df_res.count()\n",
    "print(f\"Number of rows: {num_rows}\")"
   ]
  },
  {
   "cell_type": "code",
   "execution_count": 6,
   "id": "a2895246-467a-45b6-a7fc-3b5c7b876715",
   "metadata": {},
   "outputs": [],
   "source": [
    "#2 mean/max/min num_views_between_purchases:\n",
    "df_ft = F.f_num_views_from_purchase_in_cat(df_res, df_prch, df_vi, cat_type=\"LEAF\")\n",
    "df_res = F.add_feature(df_res, df_ft, join_key=\"LEAF_CATEG_ID\")\n",
    "\n",
    "df_ft = F.f_num_views_from_purchase_in_cat(df_smp, df_prch, df_vi, cat_type=\"LVL2\")\n",
    "df_res = F.add_feature(df_res, df_ft, join_key=\"CATEG_LVL2_ID\")\n",
    "\n",
    "df_ft = F.f_num_views_from_purchase_in_cat(df_smp, df_prch, df_vi, cat_type=\"META\")\n",
    "df_res = F.add_feature(df_res, df_ft, join_key=\"META_CATEG_ID\")"
   ]
  },
  {
   "cell_type": "code",
   "execution_count": 7,
   "id": "be3070eb-9da3-43c0-8cc8-86c3078e3217",
   "metadata": {},
   "outputs": [
    {
     "name": "stdout",
     "output_type": "stream",
     "text": [
      "Number of columns: 859\n"
     ]
    },
    {
     "name": "stderr",
     "output_type": "stream",
     "text": [
      "[Stage 31:=========================================>         (812 + 188) / 1000]00]]]\r"
     ]
    },
    {
     "name": "stdout",
     "output_type": "stream",
     "text": [
      "Number of rows: 99999\n"
     ]
    },
    {
     "name": "stderr",
     "output_type": "stream",
     "text": [
      "                                                                                \r"
     ]
    }
   ],
   "source": [
    "# Check the number of columns\n",
    "num_columns = len(df_res.columns)\n",
    "print(f\"Number of columns: {num_columns}\")\n",
    "\n",
    "# Check the number of rows\n",
    "num_rows = df_res.count()\n",
    "print(f\"Number of rows: {num_rows}\")"
   ]
  },
  {
   "cell_type": "code",
   "execution_count": 8,
   "id": "446b888c-dd42-4d33-b8e5-e692e4574e60",
   "metadata": {},
   "outputs": [
    {
     "name": "stderr",
     "output_type": "stream",
     "text": [
      "                                                                                000]]]\r"
     ]
    }
   ],
   "source": [
    "#save_table(session, df_res, \"bx_ps_features_num_views_from_prch_1\")"
   ]
  },
  {
   "cell_type": "code",
   "execution_count": null,
   "id": "6b7654c6-31e7-45b0-bc2e-3b53afc81768",
   "metadata": {},
   "outputs": [],
   "source": [
    "num_rows = df_res.count()\n",
    "print(f\"Number of rows: {num_rows}\")"
   ]
  },
  {
   "cell_type": "markdown",
   "id": "cefbe06f-fb65-45bb-b2a2-958a52ff8df7",
   "metadata": {},
   "source": [
    "##  f_views_since_last_purchase_in_cat"
   ]
  },
  {
   "cell_type": "code",
   "execution_count": 3,
   "id": "d378322a-55c3-4396-85fd-ce5fe8fbeaa1",
   "metadata": {},
   "outputs": [],
   "source": [
    "df_res = session.table(\"bx_ps_features_num_views_from_prch_1\")"
   ]
  },
  {
   "cell_type": "code",
   "execution_count": 4,
   "id": "ea476b66-6fbb-42fd-b6cd-fb91c79f3a6c",
   "metadata": {},
   "outputs": [],
   "source": [
    "#Per user and category: num views since last purchase & Per user and category: time in days since last purchase \n",
    "df_ft = F.f_views_since_last_purchase_in_cat(df_res, df_prch, df_vi, cat_type=\"LEAF\")\n",
    "df_res = F.add_feature(df_res, df_ft, join_key=\"LEAF_CATEG_ID\") \n",
    "\n",
    "df_ft = F.f_views_since_last_purchase_in_cat(df_smp, df_prch, df_vi, cat_type=\"LVL2\")\n",
    "df_res = F.add_feature(df_res, df_ft, join_key=\"CATEG_LVL2_ID\")\n",
    "\n",
    "df_ft = F.f_views_since_last_purchase_in_cat(df_smp, df_prch, df_vi, cat_type=\"META\")\n",
    "df_res = F.add_feature(df_res, df_ft, join_key=\"META_CATEG_ID\")"
   ]
  },
  {
   "cell_type": "code",
   "execution_count": 5,
   "id": "feabe4e4-a336-49ea-8e35-92c2ce08d6bf",
   "metadata": {},
   "outputs": [
    {
     "name": "stdout",
     "output_type": "stream",
     "text": [
      "Number of columns: 865\n"
     ]
    },
    {
     "name": "stderr",
     "output_type": "stream",
     "text": [
      "[Stage 23:====================================================>(997 + 3) / 1000]0]]]]\r"
     ]
    },
    {
     "name": "stdout",
     "output_type": "stream",
     "text": [
      "Number of rows: 99999\n"
     ]
    },
    {
     "name": "stderr",
     "output_type": "stream",
     "text": [
      "                                                                                \r"
     ]
    }
   ],
   "source": [
    "# Check the number of columns\n",
    "num_columns = len(df_res.columns)\n",
    "print(f\"Number of columns: {num_columns}\")\n",
    "\n",
    "# Check the number of rows\n",
    "num_rows = df_res.count()\n",
    "print(f\"Number of rows: {num_rows}\")"
   ]
  },
  {
   "cell_type": "code",
   "execution_count": 6,
   "id": "059aa2b5-7096-4e8f-a8f9-38b6f509b936",
   "metadata": {
    "scrolled": true,
    "tags": []
   },
   "outputs": [
    {
     "name": "stderr",
     "output_type": "stream",
     "text": [
      "24/10/29 10:00:26 ERROR AsyncEventQueue: Listener EventLoggingListener threw an exception\n",
      "java.util.ConcurrentModificationException\n",
      "\tat java.util.Hashtable$Enumerator.next(Hashtable.java:1387)\n",
      "\tat scala.collection.convert.Wrappers$JPropertiesWrapper$$anon$6.next(Wrappers.scala:424)\n",
      "\tat scala.collection.convert.Wrappers$JPropertiesWrapper$$anon$6.next(Wrappers.scala:420)\n",
      "\tat scala.collection.Iterator.foreach(Iterator.scala:941)\n",
      "\tat scala.collection.Iterator.foreach$(Iterator.scala:941)\n",
      "\tat scala.collection.AbstractIterator.foreach(Iterator.scala:1429)\n",
      "\tat scala.collection.IterableLike.foreach(IterableLike.scala:74)\n",
      "\tat scala.collection.IterableLike.foreach$(IterableLike.scala:73)\n",
      "\tat scala.collection.AbstractIterable.foreach(Iterable.scala:56)\n",
      "\tat scala.collection.mutable.MapLike.toSeq(MapLike.scala:75)\n",
      "\tat scala.collection.mutable.MapLike.toSeq$(MapLike.scala:72)\n",
      "\tat scala.collection.mutable.AbstractMap.toSeq(Map.scala:82)\n",
      "\tat org.apache.spark.scheduler.EventLoggingListener.redactProperties(EventLoggingListener.scala:290)\n",
      "\tat org.apache.spark.scheduler.EventLoggingListener.onJobStart(EventLoggingListener.scala:162)\n",
      "\tat org.apache.spark.scheduler.SparkListenerBus.doPostEvent(SparkListenerBus.scala:37)\n",
      "\tat org.apache.spark.scheduler.SparkListenerBus.doPostEvent$(SparkListenerBus.scala:28)\n",
      "\tat org.apache.spark.scheduler.AsyncEventQueue.doPostEvent(AsyncEventQueue.scala:37)\n",
      "\tat org.apache.spark.scheduler.AsyncEventQueue.doPostEvent(AsyncEventQueue.scala:37)\n",
      "\tat org.apache.spark.util.ListenerBus.postToAll(ListenerBus.scala:117)\n",
      "\tat org.apache.spark.util.ListenerBus.postToAll$(ListenerBus.scala:101)\n",
      "\tat org.apache.spark.scheduler.AsyncEventQueue.super$postToAll(AsyncEventQueue.scala:105)\n",
      "\tat org.apache.spark.scheduler.AsyncEventQueue.$anonfun$dispatch$1(AsyncEventQueue.scala:105)\n",
      "\tat scala.runtime.java8.JFunction0$mcJ$sp.apply(JFunction0$mcJ$sp.java:23)\n",
      "\tat scala.util.DynamicVariable.withValue(DynamicVariable.scala:62)\n",
      "\tat org.apache.spark.scheduler.AsyncEventQueue.org$apache$spark$scheduler$AsyncEventQueue$$dispatch(AsyncEventQueue.scala:100)\n",
      "\tat org.apache.spark.scheduler.AsyncEventQueue$$anon$2.$anonfun$run$1(AsyncEventQueue.scala:96)\n",
      "\tat org.apache.spark.util.Utils$.tryOrStopSparkContext(Utils.scala:1381)\n",
      "\tat org.apache.spark.scheduler.AsyncEventQueue$$anon$2.run(AsyncEventQueue.scala:96)\n",
      "                                                                                00]]]\r"
     ]
    }
   ],
   "source": [
    "#save_table(session, df_res, \"bx_ps_features_views_since_last_prch_1\")"
   ]
  },
  {
   "cell_type": "markdown",
   "id": "3d02467c-7526-4c59-ad63-bc4802b3a4c2",
   "metadata": {},
   "source": [
    "##  f_category_entropy:"
   ]
  },
  {
   "cell_type": "code",
   "execution_count": 3,
   "id": "cbd7c812-eedd-453b-bf17-3551a1c21752",
   "metadata": {},
   "outputs": [],
   "source": [
    "df_res = session.table(\"bx_ps_features_views_since_last_prch_1\")"
   ]
  },
  {
   "cell_type": "code",
   "execution_count": 4,
   "id": "42322727-ddef-45f7-8d49-8c0595760467",
   "metadata": {},
   "outputs": [],
   "source": [
    "# category_diversity_entropy - diversity of purchases/views: \n",
    "df_ft = F.f_category_entropy(df_res, df_prch, action_type=\"purchase\", cat_type=\"LEAF\")\n",
    "df_res = F.add_feature(df_res, df_ft, join_key=\"LEAF_CATEG_ID\") \n",
    "\n",
    "df_ft = F.f_category_entropy(df_res, df_prch, action_type=\"purchase\", cat_type=\"LVL2\")\n",
    "df_res = F.add_feature(df_res, df_ft, join_key=\"CATEG_LVL2_ID\")\n",
    "\n",
    "df_ft = F.f_category_entropy(df_res, df_prch, action_type=\"purchase\", cat_type=\"META\")\n",
    "df_res = F.add_feature(df_res, df_ft, join_key=\"META_CATEG_ID\")\n",
    "#-------------------------------------------------------------------------------\n",
    "df_ft = F.f_category_entropy(df_res, df_vi, action_type=\"view\", cat_type=\"LEAF\")\n",
    "df_res = F.add_feature(df_res, df_ft, join_key=\"LEAF_CATEG_ID\") \n",
    "\n",
    "df_ft = F.f_category_entropy(df_res, df_vi,action_type=\"view\", cat_type=\"LVL2\")\n",
    "df_res = F.add_feature(df_res, df_ft, join_key=\"CATEG_LVL2_ID\")\n",
    "\n",
    "df_ft = F.f_category_entropy(df_res, df_vi, action_type=\"view\", cat_type=\"META\")\n",
    "df_res = F.add_feature(df_res, df_ft, join_key=\"META_CATEG_ID\")"
   ]
  },
  {
   "cell_type": "code",
   "execution_count": 5,
   "id": "26fe8633-e8d5-4cfa-9ef2-fe0a8900bc0c",
   "metadata": {},
   "outputs": [
    {
     "name": "stdout",
     "output_type": "stream",
     "text": [
      "Number of columns: 871\n"
     ]
    },
    {
     "name": "stderr",
     "output_type": "stream",
     "text": [
      "[Stage 50:====================================================>(997 + 3) / 1000]000]]]\r"
     ]
    },
    {
     "name": "stdout",
     "output_type": "stream",
     "text": [
      "Number of rows: 99999\n"
     ]
    },
    {
     "name": "stderr",
     "output_type": "stream",
     "text": [
      "                                                                                \r"
     ]
    }
   ],
   "source": [
    "# Check the number of columns\n",
    "num_columns = len(df_res.columns)\n",
    "print(f\"Number of columns: {num_columns}\")\n",
    "\n",
    "# Check the number of rows\n",
    "num_rows = df_res.count()\n",
    "print(f\"Number of rows: {num_rows}\")"
   ]
  },
  {
   "cell_type": "code",
   "execution_count": 6,
   "id": "2c4e889b-d69e-4eaa-a777-102aa4b5c5d7",
   "metadata": {},
   "outputs": [
    {
     "name": "stderr",
     "output_type": "stream",
     "text": [
      "                                                                                / 1000]]\r"
     ]
    }
   ],
   "source": [
    "#save_table(session, df_res, \"bx_ps_features_4_category_entropy_1\")"
   ]
  },
  {
   "cell_type": "markdown",
   "id": "ebeb8ac8-195b-4cdf-8751-acf6d31212e0",
   "metadata": {},
   "source": [
    "##  f_user_vs_mean_cat_actions_in_last_x_days:"
   ]
  },
  {
   "cell_type": "code",
   "execution_count": 3,
   "id": "c9919701-79b1-4929-9843-d3295b1c9917",
   "metadata": {},
   "outputs": [],
   "source": [
    "df_res = session.table(\"bx_ps_features_4_category_entropy_1\")"
   ]
  },
  {
   "cell_type": "code",
   "execution_count": 4,
   "id": "bd9fdd0f-cf12-4a50-96a9-3d26ddee53e6",
   "metadata": {},
   "outputs": [],
   "source": [
    "# Difference between mean purchases/views in period to user's own number of purchases/views in period so far\n",
    "\n",
    "df_ft = F.f_user_vs_mean_cat_actions_in_last_x_days(df_smp, df_prch, cat_type=\"LEAF\", days=2, action_type=\"purchase\")\n",
    "df_res = F.add_feature(df_res, df_ft, join_key=\"LEAF_CATEG_ID\") \n",
    "\n",
    "df_ft = F.f_user_vs_mean_cat_actions_in_last_x_days(df_smp, df_prch, cat_type=\"LEAF\", days=7, action_type=\"purchase\")\n",
    "df_res = F.add_feature(df_res, df_ft, join_key=\"LEAF_CATEG_ID\")\n",
    "\n",
    "df_ft = F.f_user_vs_mean_cat_actions_in_last_x_days(df_smp, df_prch, cat_type=\"LEAF\", days=14, action_type=\"purchase\")\n",
    "df_res = F.add_feature(df_res, df_ft, join_key=\"LEAF_CATEG_ID\")\n",
    "\n",
    "df_ft = F.f_user_vs_mean_cat_actions_in_last_x_days(df_smp, df_prch, cat_type=\"LEAF\", days=30, action_type=\"purchase\")\n",
    "df_res = F.add_feature(df_res, df_ft, join_key=\"LEAF_CATEG_ID\")\n",
    "\n",
    "df_ft = F.f_user_vs_mean_cat_actions_in_last_x_days(df_smp, df_prch, cat_type=\"LEAF\", days=60, action_type=\"purchase\")\n",
    "df_res = F.add_feature(df_res, df_ft, join_key=\"LEAF_CATEG_ID\")\n",
    "\n",
    "df_ft = F.f_user_vs_mean_cat_actions_in_last_x_days(df_smp, df_prch, cat_type=\"LEAF\", days=90, action_type=\"purchase\")\n",
    "df_res = F.add_feature(df_res, df_ft, join_key=\"LEAF_CATEG_ID\")\n",
    "\n",
    "df_ft = F.f_user_vs_mean_cat_actions_in_last_x_days(df_smp, df_prch, cat_type=\"LEAF\", days=180, action_type=\"purchase\")\n",
    "df_res = F.add_feature(df_res, df_ft, join_key=\"LEAF_CATEG_ID\")\n",
    "\n",
    "df_ft = F.f_user_vs_mean_cat_actions_in_last_x_days(df_smp, df_prch, cat_type=\"LEAF\", days=360, action_type=\"purchase\")\n",
    "df_res = F.add_feature(df_res, df_ft, join_key=\"LEAF_CATEG_ID\")\n",
    "\n",
    "# Adding features for LVL2 category type\n",
    "df_ft = F.f_user_vs_mean_cat_actions_in_last_x_days(df_smp, df_prch, cat_type=\"LVL2\", days=2, action_type=\"purchase\")\n",
    "df_res = F.add_feature(df_res, df_ft, join_key=\"CATEG_LVL2_ID\")  \n",
    "\n",
    "df_ft = F.f_user_vs_mean_cat_actions_in_last_x_days(df_smp, df_prch, cat_type=\"LVL2\", days=7, action_type=\"purchase\")\n",
    "df_res = F.add_feature(df_res, df_ft, join_key=\"CATEG_LVL2_ID\")\n",
    "\n",
    "df_ft = F.f_user_vs_mean_cat_actions_in_last_x_days(df_smp, df_prch, cat_type=\"LVL2\", days=14, action_type=\"purchase\")\n",
    "df_res = F.add_feature(df_res, df_ft, join_key=\"CATEG_LVL2_ID\")\n",
    "\n",
    "df_ft = F.f_user_vs_mean_cat_actions_in_last_x_days(df_smp, df_prch, cat_type=\"LVL2\", days=30, action_type=\"purchase\")\n",
    "df_res = F.add_feature(df_res, df_ft, join_key=\"CATEG_LVL2_ID\")\n",
    "\n",
    "df_ft = F.f_user_vs_mean_cat_actions_in_last_x_days(df_smp, df_prch, cat_type=\"LVL2\", days=60, action_type=\"purchase\")\n",
    "df_res = F.add_feature(df_res, df_ft, join_key=\"CATEG_LVL2_ID\")\n",
    "\n",
    "df_ft = F.f_user_vs_mean_cat_actions_in_last_x_days(df_smp, df_prch, cat_type=\"LVL2\", days=90, action_type=\"purchase\")\n",
    "df_res = F.add_feature(df_res, df_ft, join_key=\"CATEG_LVL2_ID\")\n",
    "\n",
    "df_ft = F.f_user_vs_mean_cat_actions_in_last_x_days(df_smp, df_prch, cat_type=\"LVL2\", days=180, action_type=\"purchase\")\n",
    "df_res = F.add_feature(df_res, df_ft, join_key=\"CATEG_LVL2_ID\")\n",
    "\n",
    "df_ft = F.f_user_vs_mean_cat_actions_in_last_x_days(df_smp, df_prch, cat_type=\"LVL2\", days=360, action_type=\"purchase\")\n",
    "df_res = F.add_feature(df_res, df_ft, join_key=\"CATEG_LVL2_ID\")\n",
    "\n",
    "# Adding features for META category type\n",
    "df_ft = F.f_user_vs_mean_cat_actions_in_last_x_days(df_smp, df_prch, cat_type=\"META\", days=2, action_type=\"purchase\")\n",
    "df_res = F.add_feature(df_res, df_ft, join_key=\"META_CATEG_ID\")   \n",
    "\n",
    "df_ft = F.f_user_vs_mean_cat_actions_in_last_x_days(df_smp, df_prch, cat_type=\"META\", days=7, action_type=\"purchase\")\n",
    "df_res = F.add_feature(df_res, df_ft, join_key=\"META_CATEG_ID\")\n",
    "\n",
    "df_ft = F.f_user_vs_mean_cat_actions_in_last_x_days(df_smp, df_prch, cat_type=\"META\", days=14, action_type=\"purchase\")\n",
    "df_res = F.add_feature(df_res, df_ft, join_key=\"META_CATEG_ID\") \n",
    "\n",
    "df_ft = F.f_user_vs_mean_cat_actions_in_last_x_days(df_smp, df_prch, cat_type=\"META\", days=30, action_type=\"purchase\")\n",
    "df_res = F.add_feature(df_res, df_ft, join_key=\"META_CATEG_ID\")\n",
    "\n",
    "df_ft = F.f_user_vs_mean_cat_actions_in_last_x_days(df_smp, df_prch, cat_type=\"META\", days=60, action_type=\"purchase\")\n",
    "df_res = F.add_feature(df_res, df_ft, join_key=\"META_CATEG_ID\")\n",
    "\n",
    "df_ft = F.f_user_vs_mean_cat_actions_in_last_x_days(df_smp, df_prch, cat_type=\"META\", days=90, action_type=\"purchase\")\n",
    "df_res = F.add_feature(df_res, df_ft, join_key=\"META_CATEG_ID\")\n",
    "\n",
    "df_ft = F.f_user_vs_mean_cat_actions_in_last_x_days(df_smp, df_prch, cat_type=\"META\", days=180, action_type=\"purchase\")\n",
    "df_res = F.add_feature(df_res, df_ft, join_key=\"META_CATEG_ID\")\n",
    "\n",
    "df_ft = F.f_user_vs_mean_cat_actions_in_last_x_days(df_smp, df_prch, cat_type=\"META\", days=360, action_type=\"purchase\")\n",
    "df_res = F.add_feature(df_res, df_ft, join_key=\"META_CATEG_ID\")\n",
    "\n",
    "# Adding features for LEAF category type for view action \n",
    "df_ft = F.f_user_vs_mean_cat_actions_in_last_x_days(df_smp, df_prch, cat_type=\"LEAF\", days=2, action_type=\"view\")\n",
    "df_res = F.add_feature(df_res, df_ft, join_key=\"LEAF_CATEG_ID\")  \n",
    "\n",
    "df_ft = F.f_user_vs_mean_cat_actions_in_last_x_days(df_smp, df_prch, cat_type=\"LEAF\", days=7, action_type=\"view\")\n",
    "df_res = F.add_feature(df_res, df_ft, join_key=\"LEAF_CATEG_ID\")\n",
    "\n",
    "df_ft = F.f_user_vs_mean_cat_actions_in_last_x_days(df_smp, df_prch, cat_type=\"LEAF\", days=14, action_type=\"view\")\n",
    "df_res = F.add_feature(df_res, df_ft, join_key=\"LEAF_CATEG_ID\") \n",
    "\n",
    "df_ft = F.f_user_vs_mean_cat_actions_in_last_x_days(df_smp, df_vi, cat_type=\"LEAF\", days=30, action_type=\"view\")\n",
    "df_res = F.add_feature(df_res, df_ft, join_key=\"LEAF_CATEG_ID\")\n",
    "\n",
    "df_ft = F.f_user_vs_mean_cat_actions_in_last_x_days(df_smp, df_vi, cat_type=\"LEAF\", days=60, action_type=\"view\")\n",
    "df_res = F.add_feature(df_res, df_ft, join_key=\"LEAF_CATEG_ID\")\n",
    "\n",
    "df_ft = F.f_user_vs_mean_cat_actions_in_last_x_days(df_smp, df_vi, cat_type=\"LEAF\", days=90, action_type=\"view\")\n",
    "df_res = F.add_feature(df_res, df_ft, join_key=\"LEAF_CATEG_ID\")\n",
    "\n",
    "df_ft = F.f_user_vs_mean_cat_actions_in_last_x_days(df_smp, df_vi, cat_type=\"LEAF\", days=180, action_type=\"view\")\n",
    "df_res = F.add_feature(df_res, df_ft, join_key=\"LEAF_CATEG_ID\")\n",
    "\n",
    "df_ft = F.f_user_vs_mean_cat_actions_in_last_x_days(df_smp, df_vi, cat_type=\"LEAF\", days=360, action_type=\"view\")\n",
    "df_res = F.add_feature(df_res, df_ft, join_key=\"LEAF_CATEG_ID\")\n",
    "\n",
    "# Adding features for LVL2 category type for view action\n",
    "df_ft = F.f_user_vs_mean_cat_actions_in_last_x_days(df_smp, df_prch, cat_type=\"LVL2\", days=2, action_type=\"view\")\n",
    "df_res = F.add_feature(df_res, df_ft, join_key=\"CATEG_LVL2_ID\")  \n",
    "\n",
    "df_ft = F.f_user_vs_mean_cat_actions_in_last_x_days(df_smp, df_prch, cat_type=\"LVL2\", days=7, action_type=\"view\")\n",
    "df_res = F.add_feature(df_res, df_ft, join_key=\"CATEG_LVL2_ID\")\n",
    "\n",
    "df_ft = F.f_user_vs_mean_cat_actions_in_last_x_days(df_smp, df_prch, cat_type=\"LVL2\", days=14, action_type=\"view\")\n",
    "df_res = F.add_feature(df_res, df_ft, join_key=\"CATEG_LVL2_ID\") \n",
    "\n",
    "df_ft = F.f_user_vs_mean_cat_actions_in_last_x_days(df_smp, df_vi, cat_type=\"LVL2\", days=30, action_type=\"view\")\n",
    "df_res = F.add_feature(df_res, df_ft, join_key=\"CATEG_LVL2_ID\")\n",
    "\n",
    "df_ft = F.f_user_vs_mean_cat_actions_in_last_x_days(df_smp, df_vi, cat_type=\"LVL2\", days=60, action_type=\"view\")\n",
    "df_res = F.add_feature(df_res, df_ft, join_key=\"CATEG_LVL2_ID\")\n",
    "\n",
    "df_ft = F.f_user_vs_mean_cat_actions_in_last_x_days(df_smp, df_vi, cat_type=\"LVL2\", days=90, action_type=\"view\")\n",
    "df_res = F.add_feature(df_res, df_ft, join_key=\"CATEG_LVL2_ID\")\n",
    "\n",
    "df_ft = F.f_user_vs_mean_cat_actions_in_last_x_days(df_smp, df_vi, cat_type=\"LVL2\", days=180, action_type=\"view\")\n",
    "df_res = F.add_feature(df_res, df_ft, join_key=\"CATEG_LVL2_ID\")\n",
    "\n",
    "df_ft = F.f_user_vs_mean_cat_actions_in_last_x_days(df_smp, df_vi, cat_type=\"LVL2\", days=360, action_type=\"view\")\n",
    "df_res = F.add_feature(df_res, df_ft, join_key=\"CATEG_LVL2_ID\")\n",
    "\n",
    "# Adding features for META category type for view action\n",
    "df_ft = F.f_user_vs_mean_cat_actions_in_last_x_days(df_smp, df_prch, cat_type=\"META\", days=2, action_type=\"view\")\n",
    "df_res = F.add_feature(df_res, df_ft, join_key=\"META_CATEG_ID\")   \n",
    "\n",
    "df_ft = F.f_user_vs_mean_cat_actions_in_last_x_days(df_smp, df_prch, cat_type=\"META\", days=7, action_type=\"view\")\n",
    "df_res = F.add_feature(df_res, df_ft, join_key=\"META_CATEG_ID\")\n",
    "\n",
    "df_ft = F.f_user_vs_mean_cat_actions_in_last_x_days(df_smp, df_prch, cat_type=\"META\", days=14, action_type=\"view\")\n",
    "df_res = F.add_feature(df_res, df_ft, join_key=\"META_CATEG_ID\")  \n",
    "\n",
    "df_ft = F.f_user_vs_mean_cat_actions_in_last_x_days(df_smp, df_vi, cat_type=\"META\", days=30, action_type=\"view\")\n",
    "df_res = F.add_feature(df_res, df_ft, join_key=\"META_CATEG_ID\")\n",
    "\n",
    "df_ft = F.f_user_vs_mean_cat_actions_in_last_x_days(df_smp, df_vi, cat_type=\"META\", days=60, action_type=\"view\")\n",
    "df_res = F.add_feature(df_res, df_ft, join_key=\"META_CATEG_ID\")\n",
    "\n",
    "df_ft = F.f_user_vs_mean_cat_actions_in_last_x_days(df_smp, df_vi, cat_type=\"META\", days=90, action_type=\"view\")\n",
    "df_res = F.add_feature(df_res, df_ft, join_key=\"META_CATEG_ID\")\n",
    "\n",
    "df_ft = F.f_user_vs_mean_cat_actions_in_last_x_days(df_smp, df_vi, cat_type=\"META\", days=180, action_type=\"view\")\n",
    "df_res = F.add_feature(df_res, df_ft, join_key=\"META_CATEG_ID\")\n",
    "\n",
    "df_ft = F.f_user_vs_mean_cat_actions_in_last_x_days(df_smp, df_vi, cat_type=\"META\", days=360, action_type=\"view\")\n",
    "df_res = F.add_feature(df_res, df_ft, join_key=\"META_CATEG_ID\")\n"
   ]
  },
  {
   "cell_type": "markdown",
   "id": "3b834608-c3b5-4004-976d-3b8b5d543499",
   "metadata": {},
   "source": [
    "#### Calc new features len :"
   ]
  },
  {
   "cell_type": "code",
   "execution_count": 5,
   "id": "5d04d655-92b1-4597-9e08-ff05bf5d9288",
   "metadata": {},
   "outputs": [
    {
     "name": "stdout",
     "output_type": "stream",
     "text": [
      "Number of columns: 919\n"
     ]
    },
    {
     "name": "stderr",
     "output_type": "stream",
     "text": [
      "[Stage 137:===================================================>(998 + 2) / 1000]00]]]]\r"
     ]
    },
    {
     "name": "stdout",
     "output_type": "stream",
     "text": [
      "Number of rows: 99999\n"
     ]
    },
    {
     "name": "stderr",
     "output_type": "stream",
     "text": [
      "                                                                                \r"
     ]
    }
   ],
   "source": [
    "# Check the number of columns\n",
    "num_columns = len(df_res.columns)\n",
    "print(f\"Number of columns: {num_columns}\")\n",
    "\n",
    "# Check the number of rows\n",
    "num_rows = df_res.count()\n",
    "print(f\"Number of rows: {num_rows}\")"
   ]
  },
  {
   "cell_type": "code",
   "execution_count": 8,
   "id": "f83c5a5f-cc10-420c-98d4-7a20717904a5",
   "metadata": {},
   "outputs": [
    {
     "name": "stderr",
     "output_type": "stream",
     "text": [
      "                                                                                00]]]]]]]\r"
     ]
    }
   ],
   "source": [
    "#save_table(session, df_res, \"bx_ps_features_user_behave_1\")"
   ]
  },
  {
   "cell_type": "code",
   "execution_count": 9,
   "id": "7d27f404-ca2e-4908-890d-d722003fb88b",
   "metadata": {},
   "outputs": [],
   "source": [
    "df_res_t = session.table(\"bx_ps_features_user_behave_1\")"
   ]
  },
  {
   "cell_type": "code",
   "execution_count": 10,
   "id": "d118ef40-86b2-465a-bc0a-01c00dfa8258",
   "metadata": {},
   "outputs": [
    {
     "name": "stdout",
     "output_type": "stream",
     "text": [
      "Number of columns: 919\n"
     ]
    },
    {
     "name": "stderr",
     "output_type": "stream",
     "text": [
      "[Stage 447:==============================================>    (919 + 81) / 1000]\r"
     ]
    },
    {
     "name": "stdout",
     "output_type": "stream",
     "text": [
      "Number of rows: 99999\n"
     ]
    },
    {
     "name": "stderr",
     "output_type": "stream",
     "text": [
      "                                                                                \r"
     ]
    }
   ],
   "source": [
    "num_columns = len(df_res_t.columns)\n",
    "print(f\"Number of columns: {num_columns}\")\n",
    "\n",
    "# Check the number of rows\n",
    "num_rows = df_res_t.count()\n",
    "print(f\"Number of rows: {num_rows}\")"
   ]
  },
  {
   "cell_type": "markdown",
   "id": "0bcb6bd1-8507-4d22-aeab-94f9dbd7c387",
   "metadata": {},
   "source": [
    "## Add Normalizing views and purchases:"
   ]
  },
  {
   "cell_type": "code",
   "execution_count": 4,
   "id": "4d9dacc3-3be2-4fd3-abc9-8d08d1403642",
   "metadata": {},
   "outputs": [],
   "source": [
    "df_res = session.table(\"bx_ps_features_user_behave_f_1\")"
   ]
  },
  {
   "cell_type": "code",
   "execution_count": 5,
   "id": "97dc92bb-b59f-4b85-bce0-5fa29d91e332",
   "metadata": {},
   "outputs": [],
   "source": [
    "# num_actions_from_cat_in_last_x_days\n",
    "df_ft = F.f_norm_num_actions_from_cat_in_last_x_days(df_smp, df_prch, cat_type=\"LEAF\", days=1, action_type=\"purchase\")\n",
    "df_res = F.add_feature(df_res, df_ft, join_key=\"LEAF_CATEG_ID\")\n",
    "\n",
    "df_ft = F.f_norm_num_actions_from_cat_in_last_x_days(df_smp, df_prch, cat_type=\"LEAF\", days=2, action_type=\"purchase\")\n",
    "df_res = F.add_feature(df_res, df_ft, join_key=\"LEAF_CATEG_ID\")\n",
    "\n",
    "df_ft = F.f_norm_num_actions_from_cat_in_last_x_days(df_smp, df_prch, cat_type=\"LEAF\", days=5, action_type=\"purchase\")\n",
    "df_res = F.add_feature(df_res, df_ft, join_key=\"LEAF_CATEG_ID\")\n",
    "\n",
    "df_ft = F.f_norm_num_actions_from_cat_in_last_x_days(df_smp, df_prch, cat_type=\"LEAF\", days=7, action_type=\"purchase\")\n",
    "df_res = F.add_feature(df_res, df_ft, join_key=\"LEAF_CATEG_ID\")\n",
    "\n",
    "df_ft = F.f_norm_num_actions_from_cat_in_last_x_days(df_smp, df_prch, cat_type=\"LEAF\", days=14, action_type=\"purchase\")\n",
    "df_res = F.add_feature(df_res, df_ft, join_key=\"LEAF_CATEG_ID\")\n",
    "\n",
    "df_ft = F.f_norm_num_actions_from_cat_in_last_x_days(df_smp, df_prch, cat_type=\"LEAF\", days=30, action_type=\"purchase\")\n",
    "df_res = F.add_feature(df_res, df_ft, join_key=\"LEAF_CATEG_ID\")\n",
    "\n",
    "df_ft = F.f_norm_num_actions_from_cat_in_last_x_days(df_smp, df_prch, cat_type=\"LEAF\", days=60, action_type=\"purchase\")\n",
    "df_res = F.add_feature(df_res, df_ft, join_key=\"LEAF_CATEG_ID\")\n",
    "\n",
    "df_ft = F.f_norm_num_actions_from_cat_in_last_x_days(df_smp, df_prch, cat_type=\"LEAF\", days=90, action_type=\"purchase\")\n",
    "df_res = F.add_feature(df_res, df_ft, join_key=\"LEAF_CATEG_ID\")\n",
    "\n",
    "df_ft = F.f_norm_num_actions_from_cat_in_last_x_days(df_smp, df_prch, cat_type=\"LEAF\", days=180, action_type=\"purchase\")\n",
    "df_res = F.add_feature(df_res, df_ft, join_key=\"LEAF_CATEG_ID\")\n",
    "\n",
    "df_ft = F.f_norm_num_actions_from_cat_in_last_x_days(df_smp, df_prch, cat_type=\"LEAF\", days=360, action_type=\"purchase\")\n",
    "df_res = F.add_feature(df_res, df_ft, join_key=\"LEAF_CATEG_ID\")\n",
    "\n",
    "df_ft = F.f_norm_num_actions_from_cat_in_last_x_days(df_smp, df_prch, cat_type=\"LVL2\", days=1, action_type=\"purchase\")\n",
    "df_res = F.add_feature(df_res, df_ft, join_key=\"CATEG_LVL2_ID\")\n",
    "\n",
    "df_ft = F.f_norm_num_actions_from_cat_in_last_x_days(df_smp, df_prch, cat_type=\"LVL2\", days=2, action_type=\"purchase\")\n",
    "df_res = F.add_feature(df_res, df_ft, join_key=\"CATEG_LVL2_ID\")\n",
    "\n",
    "df_ft = F.f_norm_num_actions_from_cat_in_last_x_days(df_smp, df_prch, cat_type=\"LVL2\", days=5, action_type=\"purchase\")\n",
    "df_res = F.add_feature(df_res, df_ft, join_key=\"CATEG_LVL2_ID\")\n",
    "\n",
    "df_ft = F.f_norm_num_actions_from_cat_in_last_x_days(df_smp, df_prch, cat_type=\"LVL2\", days=7, action_type=\"purchase\")\n",
    "df_res = F.add_feature(df_res, df_ft, join_key=\"CATEG_LVL2_ID\")\n",
    "\n",
    "df_ft = F.f_norm_num_actions_from_cat_in_last_x_days(df_smp, df_prch, cat_type=\"LVL2\", days=14, action_type=\"purchase\")\n",
    "df_res = F.add_feature(df_res, df_ft, join_key=\"CATEG_LVL2_ID\")\n",
    "\n",
    "df_ft = F.f_norm_num_actions_from_cat_in_last_x_days(df_smp, df_prch, cat_type=\"LVL2\", days=30, action_type=\"purchase\")\n",
    "df_res = F.add_feature(df_res, df_ft, join_key=\"CATEG_LVL2_ID\")\n",
    "\n",
    "df_ft = F.f_norm_num_actions_from_cat_in_last_x_days(df_smp, df_prch, cat_type=\"LVL2\", days=60, action_type=\"purchase\")\n",
    "df_res = F.add_feature(df_res, df_ft, join_key=\"CATEG_LVL2_ID\")\n",
    "\n",
    "df_ft = F.f_norm_num_actions_from_cat_in_last_x_days(df_smp, df_prch, cat_type=\"LVL2\", days=90, action_type=\"purchase\")\n",
    "df_res = F.add_feature(df_res, df_ft, join_key=\"CATEG_LVL2_ID\")\n",
    "\n",
    "df_ft = F.f_norm_num_actions_from_cat_in_last_x_days(df_smp, df_prch, cat_type=\"LVL2\", days=180, action_type=\"purchase\")\n",
    "df_res = F.add_feature(df_res, df_ft, join_key=\"CATEG_LVL2_ID\")\n",
    "\n",
    "df_ft = F.f_norm_num_actions_from_cat_in_last_x_days(df_smp, df_prch, cat_type=\"LVL2\", days=360, action_type=\"purchase\")\n",
    "df_res = F.add_feature(df_res, df_ft, join_key=\"CATEG_LVL2_ID\")\n",
    "\n",
    "df_ft = F.f_norm_num_actions_from_cat_in_last_x_days(df_smp, df_prch, cat_type=\"META\", days=1, action_type=\"purchase\")\n",
    "df_res = F.add_feature(df_res, df_ft, join_key=\"META_CATEG_ID\")\n",
    "\n",
    "df_ft = F.f_norm_num_actions_from_cat_in_last_x_days(df_smp, df_prch, cat_type=\"META\", days=2, action_type=\"purchase\")\n",
    "df_res = F.add_feature(df_res, df_ft, join_key=\"META_CATEG_ID\")\n",
    "\n",
    "df_ft = F.f_norm_num_actions_from_cat_in_last_x_days(df_smp, df_prch, cat_type=\"META\", days=5, action_type=\"purchase\")\n",
    "df_res = F.add_feature(df_res, df_ft, join_key=\"META_CATEG_ID\")\n",
    "\n",
    "df_ft = F.f_norm_num_actions_from_cat_in_last_x_days(df_smp, df_prch, cat_type=\"META\", days=7, action_type=\"purchase\")\n",
    "df_res = F.add_feature(df_res, df_ft, join_key=\"META_CATEG_ID\")\n",
    "\n",
    "df_ft = F.f_norm_num_actions_from_cat_in_last_x_days(df_smp, df_prch, cat_type=\"META\", days=14, action_type=\"purchase\")\n",
    "df_res = F.add_feature(df_res, df_ft, join_key=\"META_CATEG_ID\")\n",
    "\n",
    "df_ft = F.f_norm_num_actions_from_cat_in_last_x_days(df_smp, df_prch, cat_type=\"META\", days=30, action_type=\"purchase\")\n",
    "df_res = F.add_feature(df_res, df_ft, join_key=\"META_CATEG_ID\")\n",
    "\n",
    "df_ft = F.f_norm_num_actions_from_cat_in_last_x_days(df_smp, df_prch, cat_type=\"META\", days=60, action_type=\"purchase\")\n",
    "df_res = F.add_feature(df_res, df_ft, join_key=\"META_CATEG_ID\")\n",
    "\n",
    "df_ft = F.f_norm_num_actions_from_cat_in_last_x_days(df_smp, df_prch, cat_type=\"META\", days=90, action_type=\"purchase\")\n",
    "df_res = F.add_feature(df_res, df_ft, join_key=\"META_CATEG_ID\")\n",
    "\n",
    "df_ft = F.f_norm_num_actions_from_cat_in_last_x_days(df_smp, df_prch, cat_type=\"META\", days=180, action_type=\"purchase\")\n",
    "df_res = F.add_feature(df_res, df_ft, join_key=\"META_CATEG_ID\")\n",
    "\n",
    "df_ft = F.f_norm_num_actions_from_cat_in_last_x_days(df_smp, df_prch, cat_type=\"META\", days=360, action_type=\"purchase\")\n",
    "df_res = F.add_feature(df_res, df_ft, join_key=\"META_CATEG_ID\")\n",
    "\n",
    "#-------- views: \n",
    "# Change function name to f_norm_num_actions_from_cat_in_last_x_days\n",
    "df_ft = F.f_norm_num_actions_from_cat_in_last_x_days(df_smp, df_vi, cat_type=\"LEAF\", days=1, action_type=\"view\")\n",
    "df_res = F.add_feature(df_res, df_ft, join_key=\"LEAF_CATEG_ID\")\n",
    "\n",
    "df_ft = F.f_norm_num_actions_from_cat_in_last_x_days(df_smp, df_vi, cat_type=\"LEAF\", days=2, action_type=\"view\")\n",
    "df_res = F.add_feature(df_res, df_ft, join_key=\"LEAF_CATEG_ID\")\n",
    "\n",
    "df_ft = F.f_norm_num_actions_from_cat_in_last_x_days(df_smp, df_vi, cat_type=\"LEAF\", days=5, action_type=\"view\")\n",
    "df_res = F.add_feature(df_res, df_ft, join_key=\"LEAF_CATEG_ID\")\n",
    "\n",
    "df_ft = F.f_norm_num_actions_from_cat_in_last_x_days(df_smp, df_vi, cat_type=\"LEAF\", days=7, action_type=\"view\")\n",
    "df_res = F.add_feature(df_res, df_ft, join_key=\"LEAF_CATEG_ID\")\n",
    "\n",
    "df_ft = F.f_norm_num_actions_from_cat_in_last_x_days(df_smp, df_vi, cat_type=\"LEAF\", days=14, action_type=\"view\")\n",
    "df_res = F.add_feature(df_res, df_ft, join_key=\"LEAF_CATEG_ID\")\n",
    "\n",
    "df_ft = F.f_norm_num_actions_from_cat_in_last_x_days(df_smp, df_vi, cat_type=\"LEAF\", days=30, action_type=\"view\")\n",
    "df_res = F.add_feature(df_res, df_ft, join_key=\"LEAF_CATEG_ID\")\n",
    "\n",
    "df_ft = F.f_norm_num_actions_from_cat_in_last_x_days(df_smp, df_vi, cat_type=\"LEAF\", days=60, action_type=\"view\")\n",
    "df_res = F.add_feature(df_res, df_ft, join_key=\"LEAF_CATEG_ID\")\n",
    "\n",
    "df_ft = F.f_norm_num_actions_from_cat_in_last_x_days(df_smp, df_vi, cat_type=\"LEAF\", days=90, action_type=\"view\")\n",
    "df_res = F.add_feature(df_res, df_ft, join_key=\"LEAF_CATEG_ID\")\n",
    "\n",
    "df_ft = F.f_norm_num_actions_from_cat_in_last_x_days(df_smp, df_vi, cat_type=\"LEAF\", days=180, action_type=\"view\")\n",
    "df_res = F.add_feature(df_res, df_ft, join_key=\"LEAF_CATEG_ID\")\n",
    "\n",
    "df_ft = F.f_norm_num_actions_from_cat_in_last_x_days(df_smp, df_vi, cat_type=\"LEAF\", days=360, action_type=\"view\")\n",
    "df_res = F.add_feature(df_res, df_ft, join_key=\"LEAF_CATEG_ID\")\n",
    "\n",
    "df_ft = F.f_norm_num_actions_from_cat_in_last_x_days(df_smp, df_vi, cat_type=\"LVL2\", days=1, action_type=\"view\")\n",
    "df_res = F.add_feature(df_res, df_ft, join_key=\"CATEG_LVL2_ID\")\n",
    "\n",
    "df_ft = F.f_norm_num_actions_from_cat_in_last_x_days(df_smp, df_vi, cat_type=\"LVL2\", days=2, action_type=\"view\")\n",
    "df_res = F.add_feature(df_res, df_ft, join_key=\"CATEG_LVL2_ID\")\n",
    "\n",
    "df_ft = F.f_norm_num_actions_from_cat_in_last_x_days(df_smp, df_vi, cat_type=\"LVL2\", days=5, action_type=\"view\")\n",
    "df_res = F.add_feature(df_res, df_ft, join_key=\"CATEG_LVL2_ID\")\n",
    "\n",
    "df_ft = F.f_norm_num_actions_from_cat_in_last_x_days(df_smp, df_vi, cat_type=\"LVL2\", days=7, action_type=\"view\")\n",
    "df_res = F.add_feature(df_res, df_ft, join_key=\"CATEG_LVL2_ID\")\n",
    "\n",
    "df_ft = F.f_norm_num_actions_from_cat_in_last_x_days(df_smp, df_vi, cat_type=\"LVL2\", days=14, action_type=\"view\")\n",
    "df_res = F.add_feature(df_res, df_ft, join_key=\"CATEG_LVL2_ID\")\n",
    "\n",
    "df_ft = F.f_norm_num_actions_from_cat_in_last_x_days(df_smp, df_vi, cat_type=\"LVL2\", days=30, action_type=\"view\")\n",
    "df_res = F.add_feature(df_res, df_ft, join_key=\"CATEG_LVL2_ID\")\n",
    "\n",
    "df_ft = F.f_norm_num_actions_from_cat_in_last_x_days(df_smp, df_vi, cat_type=\"LVL2\", days=60, action_type=\"view\")\n",
    "df_res = F.add_feature(df_res, df_ft, join_key=\"CATEG_LVL2_ID\")\n",
    "\n",
    "df_ft = F.f_norm_num_actions_from_cat_in_last_x_days(df_smp, df_vi, cat_type=\"LVL2\", days=90, action_type=\"view\")\n",
    "df_res = F.add_feature(df_res, df_ft, join_key=\"CATEG_LVL2_ID\")\n",
    "\n",
    "df_ft = F.f_norm_num_actions_from_cat_in_last_x_days(df_smp, df_vi, cat_type=\"LVL2\", days=180, action_type=\"view\")\n",
    "df_res = F.add_feature(df_res, df_ft, join_key=\"CATEG_LVL2_ID\")\n",
    "\n",
    "df_ft = F.f_norm_num_actions_from_cat_in_last_x_days(df_smp, df_vi, cat_type=\"LVL2\", days=360, action_type=\"view\")\n",
    "df_res = F.add_feature(df_res, df_ft, join_key=\"CATEG_LVL2_ID\")\n",
    "\n",
    "df_ft = F.f_norm_num_actions_from_cat_in_last_x_days(df_smp, df_vi, cat_type=\"META\", days=1, action_type=\"view\")\n",
    "df_res = F.add_feature(df_res, df_ft, join_key=\"META_CATEG_ID\")\n",
    "\n",
    "df_ft = F.f_norm_num_actions_from_cat_in_last_x_days(df_smp, df_vi, cat_type=\"META\", days=2, action_type=\"view\")\n",
    "df_res = F.add_feature(df_res, df_ft, join_key=\"META_CATEG_ID\")\n",
    "\n",
    "df_ft = F.f_norm_num_actions_from_cat_in_last_x_days(df_smp, df_vi, cat_type=\"META\", days=5, action_type=\"view\")\n",
    "df_res = F.add_feature(df_res, df_ft, join_key=\"META_CATEG_ID\")\n",
    "\n",
    "df_ft = F.f_norm_num_actions_from_cat_in_last_x_days(df_smp, df_vi, cat_type=\"META\", days=7, action_type=\"view\")\n",
    "df_res = F.add_feature(df_res, df_ft, join_key=\"META_CATEG_ID\")\n",
    "\n",
    "df_ft = F.f_norm_num_actions_from_cat_in_last_x_days(df_smp, df_vi, cat_type=\"META\", days=14, action_type=\"view\")\n",
    "df_res = F.add_feature(df_res, df_ft, join_key=\"META_CATEG_ID\")\n",
    "\n",
    "df_ft = F.f_norm_num_actions_from_cat_in_last_x_days(df_smp, df_vi, cat_type=\"META\", days=30, action_type=\"view\")\n",
    "df_res = F.add_feature(df_res, df_ft, join_key=\"META_CATEG_ID\")\n",
    "\n",
    "df_ft = F.f_norm_num_actions_from_cat_in_last_x_days(df_smp, df_vi, cat_type=\"META\", days=60, action_type=\"view\")\n",
    "df_res = F.add_feature(df_res, df_ft, join_key=\"META_CATEG_ID\")\n",
    "\n",
    "df_ft = F.f_norm_num_actions_from_cat_in_last_x_days(df_smp, df_vi, cat_type=\"META\", days=90, action_type=\"view\")\n",
    "df_res = F.add_feature(df_res, df_ft, join_key=\"META_CATEG_ID\")\n",
    "\n",
    "df_ft = F.f_norm_num_actions_from_cat_in_last_x_days(df_smp, df_vi, cat_type=\"META\", days=180, action_type=\"view\")\n",
    "df_res = F.add_feature(df_res, df_ft, join_key=\"META_CATEG_ID\")\n",
    "\n",
    "df_ft = F.f_norm_num_actions_from_cat_in_last_x_days(df_smp, df_vi, cat_type=\"META\", days=360, action_type=\"view\")\n",
    "df_res = F.add_feature(df_res, df_ft, join_key=\"META_CATEG_ID\")\n"
   ]
  },
  {
   "cell_type": "code",
   "execution_count": 6,
   "id": "b9be24b4-f198-4ab0-8456-02734d8fba68",
   "metadata": {},
   "outputs": [
    {
     "name": "stderr",
     "output_type": "stream",
     "text": [
      "                                                                                000]]]\r"
     ]
    }
   ],
   "source": [
    "#save_table(session, df_res, \"bx_ps_features_actions_norm_1\")"
   ]
  },
  {
   "cell_type": "code",
   "execution_count": 7,
   "id": "620d3779-9692-4ca1-b2c7-9243946d1de8",
   "metadata": {},
   "outputs": [
    {
     "name": "stdout",
     "output_type": "stream",
     "text": [
      "Number of columns: 979\n"
     ]
    },
    {
     "name": "stderr",
     "output_type": "stream",
     "text": [
      "[Stage 317:=================================================> (971 + 29) / 1000]00]]]]]]]\r"
     ]
    },
    {
     "name": "stdout",
     "output_type": "stream",
     "text": [
      "Number of rows: 99999\n"
     ]
    },
    {
     "name": "stderr",
     "output_type": "stream",
     "text": [
      "                                                                                \r"
     ]
    }
   ],
   "source": [
    "num_columns = len(df_res.columns)\n",
    "print(f\"Number of columns: {num_columns}\")\n",
    "\n",
    "# Check the number of rows\n",
    "num_rows = df_res.count()\n",
    "print(f\"Number of rows: {num_rows}\")"
   ]
  },
  {
   "cell_type": "markdown",
   "id": "78b72e2a-00cd-472b-bc17-baa8d709971f",
   "metadata": {},
   "source": [
    "### Add view to purchase ratio: watch/ view watch/ purchase"
   ]
  },
  {
   "cell_type": "code",
   "execution_count": 3,
   "id": "1d213310-6399-401c-912d-02763ba72dc8",
   "metadata": {},
   "outputs": [],
   "source": [
    "df_res = session.table(\"bx_ps_features_actions_norm_1\")"
   ]
  },
  {
   "cell_type": "code",
   "execution_count": 4,
   "id": "ce86f92e-ddb8-455a-864e-6a44a541c9ef",
   "metadata": {},
   "outputs": [],
   "source": [
    "#actions_ratio_from_cat_in_last_x_days\n",
    "df_ft = F.f_actions_ratio_from_cat_in_last_x_days(df_smp, df_vi, df_prch, cat_type=\"LEAF\", days=30, action_types=[\"view\",\"purchase\"])\n",
    "df_res = F.add_feature(df_res, df_ft, join_key=\"LEAF_CATEG_ID\")\n",
    "\n",
    "df_ft = F.f_actions_ratio_from_cat_in_last_x_days(df_smp, df_vi, df_prch, cat_type=\"LEAF\", days=60, action_types=[\"view\",\"purchase\"])\n",
    "df_res = F.add_feature(df_res, df_ft, join_key=\"LEAF_CATEG_ID\") \n",
    "\n",
    "df_ft = F.f_actions_ratio_from_cat_in_last_x_days(df_smp, df_vi, df_prch, cat_type=\"LEAF\", days=90, action_types=[\"view\",\"purchase\"])\n",
    "df_res = F.add_feature(df_res, df_ft, join_key=\"LEAF_CATEG_ID\") \n",
    "\n",
    "df_ft = F.f_actions_ratio_from_cat_in_last_x_days(df_smp, df_vi, df_prch, cat_type=\"LEAF\", days=180, action_types=[\"view\",\"purchase\"])\n",
    "df_res = F.add_feature(df_res, df_ft, join_key=\"LEAF_CATEG_ID\") \n",
    "\n",
    "df_ft = F.f_actions_ratio_from_cat_in_last_x_days(df_smp, df_vi, df_prch, cat_type=\"LEAF\", days=360, action_types=[\"view\",\"purchase\"])\n",
    "df_res = F.add_feature(df_res, df_ft, join_key=\"LEAF_CATEG_ID\") \n",
    "\n",
    "\n",
    "df_ft = F.f_actions_ratio_from_cat_in_last_x_days(df_smp, df_vi, df_prch, cat_type=\"LVL2\", days=30, action_types=[\"view\",\"purchase\"])\n",
    "df_res = F.add_feature(df_res, df_ft, join_key=\"CATEG_LVL2_ID\")\n",
    "\n",
    "df_ft = F.f_actions_ratio_from_cat_in_last_x_days(df_smp, df_vi, df_prch, cat_type=\"LVL2\", days=60, action_types=[\"view\",\"purchase\"])\n",
    "df_res = F.add_feature(df_res, df_ft, join_key=\"CATEG_LVL2_ID\") \n",
    "\n",
    "df_ft = F.f_actions_ratio_from_cat_in_last_x_days(df_smp, df_vi, df_prch, cat_type=\"LVL2\", days=90, action_types=[\"view\",\"purchase\"])\n",
    "df_res = F.add_feature(df_res, df_ft, join_key=\"CATEG_LVL2_ID\") \n",
    "\n",
    "df_ft = F.f_actions_ratio_from_cat_in_last_x_days(df_smp, df_vi, df_prch, cat_type=\"LVL2\", days=180, action_types=[\"view\",\"purchase\"])\n",
    "df_res = F.add_feature(df_res, df_ft, join_key=\"CATEG_LVL2_ID\") \n",
    "\n",
    "df_ft = F.f_actions_ratio_from_cat_in_last_x_days(df_smp, df_vi, df_prch, cat_type=\"LVL2\", days=360, action_types=[\"view\",\"purchase\"])\n",
    "df_res = F.add_feature(df_res, df_ft, join_key=\"CATEG_LVL2_ID\") \n",
    "\n",
    "\n",
    "df_ft = F.f_actions_ratio_from_cat_in_last_x_days(df_smp, df_vi, df_prch, cat_type=\"META\", days=30, action_types=[\"view\",\"purchase\"])\n",
    "df_res = F.add_feature(df_res, df_ft, join_key=\"META_CATEG_ID\")\n",
    "\n",
    "df_ft = F.f_actions_ratio_from_cat_in_last_x_days(df_smp, df_vi, df_prch, cat_type=\"META\", days=60, action_types=[\"view\",\"purchase\"])\n",
    "df_res = F.add_feature(df_res, df_ft, join_key=\"META_CATEG_ID\") \n",
    "\n",
    "df_ft = F.f_actions_ratio_from_cat_in_last_x_days(df_smp, df_vi, df_prch, cat_type=\"META\", days=90, action_types=[\"view\",\"purchase\"])\n",
    "df_res = F.add_feature(df_res, df_ft, join_key=\"META_CATEG_ID\") \n",
    "\n",
    "df_ft = F.f_actions_ratio_from_cat_in_last_x_days(df_smp, df_vi, df_prch, cat_type=\"META\", days=180, action_types=[\"view\",\"purchase\"])\n",
    "df_res = F.add_feature(df_res, df_ft, join_key=\"META_CATEG_ID\") \n",
    "\n",
    "df_ft = F.f_actions_ratio_from_cat_in_last_x_days(df_smp, df_vi, df_prch, cat_type=\"META\", days=360, action_types=[\"view\",\"purchase\"])\n",
    "df_res = F.add_feature(df_res, df_ft, join_key=\"META_CATEG_ID\") \n",
    "\n"
   ]
  },
  {
   "cell_type": "code",
   "execution_count": 5,
   "id": "d22203e2-f425-46f1-90b2-5b38eca52a45",
   "metadata": {},
   "outputs": [
    {
     "name": "stderr",
     "output_type": "stream",
     "text": [
      "                                                                                ]]]]]\r"
     ]
    }
   ],
   "source": [
    "#save_table(session, df_res, \"bx_ps_features_actions_ratio_1\")"
   ]
  },
  {
   "cell_type": "code",
   "execution_count": 6,
   "id": "8a43e529-2223-4ca8-bb91-9bef19e94f6f",
   "metadata": {},
   "outputs": [
    {
     "name": "stdout",
     "output_type": "stream",
     "text": [
      "Number of columns: 994\n"
     ]
    },
    {
     "name": "stderr",
     "output_type": "stream",
     "text": [
      "[Stage 85:==================================================> (980 + 20) / 1000]0]]]]\r"
     ]
    },
    {
     "name": "stdout",
     "output_type": "stream",
     "text": [
      "Number of rows: 99999\n"
     ]
    },
    {
     "name": "stderr",
     "output_type": "stream",
     "text": [
      "                                                                                \r"
     ]
    }
   ],
   "source": [
    "num_columns = len(df_res.columns)\n",
    "print(f\"Number of columns: {num_columns}\")\n",
    "\n",
    "# Check the number of rows\n",
    "num_rows = df_res.count()\n",
    "print(f\"Number of rows: {num_rows}\")"
   ]
  },
  {
   "cell_type": "markdown",
   "id": "ea473e44-0a00-4733-9f8f-93aa3b3a05f6",
   "metadata": {},
   "source": [
    "##  Add weighted actions: f_weighted_f_num_purchases_from_LVL2_cat_in_last"
   ]
  },
  {
   "cell_type": "code",
   "execution_count": 3,
   "id": "a6f62348-dd08-44f4-910e-f990ff57e9fa",
   "metadata": {},
   "outputs": [],
   "source": [
    "df_res = session.table(\"bx_ps_features_actions_ratio_1\")"
   ]
  },
  {
   "cell_type": "code",
   "execution_count": 4,
   "id": "214a0554-09d2-47d1-8420-e1fa38995c05",
   "metadata": {},
   "outputs": [],
   "source": [
    "df_ft = F.f_weighted_num_actions_from_cat_in_last_x_days(df_smp, df_prch, cat_type=\"LEAF\", action_type=\"purchase\", \\\n",
    "                                                  time_windows=[2, 7, 30, 90, 180, 360], weights=[0.35, 0.25, 0.2, 0.1, 0.06, 0.04])\n",
    "df_res = F.add_feature(df_res, df_ft, join_key=\"LEAF_CATEG_ID\")\n",
    "\n",
    "df_ft = F.f_weighted_num_actions_from_cat_in_last_x_days(df_smp, df_prch, cat_type=\"LVL2\", action_type=\"purchase\", \\\n",
    "                                                  time_windows=[2, 7, 30, 90, 180, 360], weights=[0.35, 0.25, 0.2, 0.1, 0.06, 0.04]) \n",
    "df_res = F.add_feature(df_res, df_ft, join_key=\"CATEG_LVL2_ID\")\n",
    "\n",
    "df_ft = F.f_weighted_num_actions_from_cat_in_last_x_days(df_smp, df_prch, cat_type=\"META\", action_type=\"purchase\", \\\n",
    "                                                  time_windows=[2, 7, 30, 90, 180, 360], weights=[0.35, 0.25, 0.2, 0.1, 0.06, 0.04]) \n",
    "df_res = F.add_feature(df_res, df_ft, join_key=\"META_CATEG_ID\") \n",
    "\n",
    "\n",
    "df_ft = F.f_weighted_num_actions_from_cat_in_last_x_days(df_smp, df_prch, cat_type=\"LEAF\", action_type=\"view\", \\\n",
    "                                                  time_windows=[2, 7, 30, 90, 180, 360], weights=[0.35, 0.25, 0.2, 0.1, 0.06, 0.04])\n",
    "df_res = F.add_feature(df_res, df_ft, join_key=\"LEAF_CATEG_ID\")\n",
    "\n",
    "df_ft = F.f_weighted_num_actions_from_cat_in_last_x_days(df_smp, df_prch, cat_type=\"LVL2\", action_type=\"view\", \\\n",
    "                                                  time_windows=[2, 7, 30, 90, 180, 360], weights=[0.35, 0.25, 0.2, 0.1, 0.06, 0.04]) \n",
    "df_res = F.add_feature(df_res, df_ft, join_key=\"CATEG_LVL2_ID\")\n",
    "\n",
    "df_ft = F.f_weighted_num_actions_from_cat_in_last_x_days(df_smp, df_prch, cat_type=\"META\", action_type=\"view\", \\\n",
    "                                                  time_windows=[2, 7, 30, 90, 180, 360], weights=[0.35, 0.25, 0.2, 0.1, 0.06, 0.04]) \n",
    "df_res = F.add_feature(df_res, df_ft, join_key=\"META_CATEG_ID\") "
   ]
  },
  {
   "cell_type": "code",
   "execution_count": 5,
   "id": "b1c6911e-6622-4bad-a8b3-c9fc8dfa8f40",
   "metadata": {},
   "outputs": [
    {
     "name": "stderr",
     "output_type": "stream",
     "text": [
      "                                                                                ]]]]]]\r"
     ]
    }
   ],
   "source": [
    "save_table(session, df_res, \"bx_ps_features_actions_weighted_1\")"
   ]
  },
  {
   "cell_type": "code",
   "execution_count": 6,
   "id": "22c93793-e721-4b3a-8441-0a9ab30c27c9",
   "metadata": {},
   "outputs": [
    {
     "name": "stdout",
     "output_type": "stream",
     "text": [
      "Number of columns: 1000\n"
     ]
    },
    {
     "name": "stderr",
     "output_type": "stream",
     "text": [
      "[Stage 163:===================================================>(999 + 1) / 1000] 1000]]]\r"
     ]
    },
    {
     "name": "stdout",
     "output_type": "stream",
     "text": [
      "Number of rows: 99999\n"
     ]
    },
    {
     "name": "stderr",
     "output_type": "stream",
     "text": [
      "                                                                                \r"
     ]
    }
   ],
   "source": [
    "num_columns = len(df_res.columns)\n",
    "print(f\"Number of columns: {num_columns}\")\n",
    "\n",
    "# Check the number of rows\n",
    "num_rows = df_res.count()\n",
    "print(f\"Number of rows: {num_rows}\")"
   ]
  },
  {
   "cell_type": "markdown",
   "id": "e0a81fa8-9ad3-4a00-af07-708d3a1afa07",
   "metadata": {},
   "source": [
    "## Add watches: "
   ]
  },
  {
   "cell_type": "code",
   "execution_count": null,
   "id": "cf9d12ca-d8d8-4696-bdcb-d80d71be7d99",
   "metadata": {},
   "outputs": [],
   "source": []
  },
  {
   "cell_type": "markdown",
   "id": "7f305da3-bccc-427e-9ef2-a7583dc302d5",
   "metadata": {},
   "source": [
    "### Calc train/val/test set :"
   ]
  },
  {
   "cell_type": "code",
   "execution_count": 8,
   "id": "b9cec1ec-36ed-4c71-b5d5-23420c749afd",
   "metadata": {},
   "outputs": [
    {
     "name": "stderr",
     "output_type": "stream",
     "text": [
      "                                                                                \r"
     ]
    }
   ],
   "source": [
    "# create a smaller version only with key, features and label #(\"bx_ps_features_1\")  Updated!\n",
    "df = session.table(\"bx_ps_features_actions_norm_1\")\n",
    "f_columns = [col for col in df.columns if col.startswith('f_')]\n",
    "f_columns.extend([\"BUYER_ID\", \"LEAF_CATEG_ID\", \"EVENT_TIMESTAMP\", \"label\", \"num_repurchases\"])\n",
    "df = df.select(f_columns)\n",
    "\n",
    "# split data to train/validation/test sets\n",
    "train, validation, test = df.randomSplit([0.7, 0.1, 0.2])\n",
    "\n",
    "# save # prev bx_ps_features_train_1 , bx_ps_features_valid_1, bx_ps_features_test_1 \n",
    "#save_table(session, train, \"bx_ps_features_train_user_behave_1\")\n",
    "#save_table(session, validation, \"bx_ps_features_valid_user_behave_1\")\n",
    "#save_table(session, test, \"bx_ps_features_test_user_behave_1\") \n",
    "\n",
    "save_table(session, train, \"bx_ps_features_train_actions_norm_1\")\n",
    "save_table(session, validation, \"bx_ps_features_valid_actions_norm_1\")\n",
    "save_table(session, test, \"bx_ps_features_test_actions_norm_1\")"
   ]
  },
  {
   "cell_type": "code",
   "execution_count": null,
   "id": "97a14681-017b-457d-a30d-b62d8713ff6f",
   "metadata": {},
   "outputs": [],
   "source": [
    "# Check the number of columns\n",
    "num_columns = len(df_res.columns)\n",
    "print(f\"Number of columns: {num_columns}\")\n",
    "\n",
    "# Check the number of rows\n",
    "num_rows = df_res.count()\n",
    "print(f\"Number of rows: {num_rows}\")"
   ]
  },
  {
   "cell_type": "code",
   "execution_count": 24,
   "id": "bde19e2d-12e3-450e-be61-fb29404ac332",
   "metadata": {},
   "outputs": [
    {
     "name": "stderr",
     "output_type": "stream",
     "text": [
      "                                                                                \r"
     ]
    }
   ],
   "source": [
    "# create a smaller version only with key, features and label #(\"bx_ps_features_1\")  Updated!\n",
    "df = session.table(\"bx_ps_features_user_behave_f_1\")\n",
    "f_columns = [col for col in df.columns if col.startswith('f_')]\n",
    "f_columns.extend([\"BUYER_ID\", \"LEAF_CATEG_ID\", \"EVENT_TIMESTAMP\", \"label\", \"num_repurchases\"])\n",
    "df = df.select(f_columns)\n",
    "\n",
    "# split data to train/validation/test sets\n",
    "train, validation, test = df.randomSplit([0.7, 0.1, 0.2])\n",
    "\n",
    "# save # prev bx_ps_features_train_1 , bx_ps_features_valid_1, bx_ps_features_test_1 \n",
    "save_table(session, train, \"bx_ps_features_train_user_behave_1\")\n",
    "save_table(session, validation, \"bx_ps_features_valid_user_behave_1\")\n",
    "save_table(session, test, \"bx_ps_features_test_user_behave_1\")"
   ]
  },
  {
   "cell_type": "markdown",
   "id": "e1e6e6aa-b374-4073-be57-10d30c7e0116",
   "metadata": {},
   "source": [
    "#### updated features list: "
   ]
  },
  {
   "cell_type": "code",
   "execution_count": 11,
   "id": "0d24196c-3901-493f-a7a7-6f1b877d9138",
   "metadata": {},
   "outputs": [],
   "source": [
    "#origin 832 features \n",
    "df_origin=session.table( \"bx_ps_features_1\")\n",
    "\n",
    "#919 features of user behaviour ->925\n",
    "df_behave=session.table(\"bx_ps_features_user_behave_f_1\")"
   ]
  },
  {
   "cell_type": "code",
   "execution_count": 15,
   "id": "ebf21c75-7726-4579-ae7b-18f821b8c7ff",
   "metadata": {},
   "outputs": [],
   "source": [
    "#modify features with:  to have f_ in begining :----------- DO not run again!----------------\n",
    "Features updated with f_\n",
    " # (f\"num_views_since_last_purchase_in_{cat_type}_cat\"), (f\"time_from_last_view_to_last_purchase_in_{cat_type}_cat\"))) ->f_\n",
    "# rename_map = {}\n",
    "\n",
    "# # Loop through the columns to identify which need to be renamed\n",
    "# for col in df_behave.columns:\n",
    "#     if col.startswith(\"num_views_since_last_purchase\"):\n",
    "#         new_name = f\"f_{col}\"  # Add 'f_' prefix to the old column name\n",
    "#         rename_map[col] = new_name\n",
    "#     elif col.startswith(\"time_from_last_view_to_last_purchase\"):\n",
    "#         new_name = f\"f_{col}\"  \n",
    "        \n",
    "#         rename_map[col] = new_name\n",
    "\n",
    "# # Rename the columns using the mapping\n",
    "# for old_name, new_name in rename_map.items():\n",
    "#     df_behave = df_behave.withColumnRenamed(old_name, new_name)"
   ]
  },
  {
   "cell_type": "code",
   "execution_count": 21,
   "id": "10a3d0e9-8df5-42e3-9c88-dfcab00a858a",
   "metadata": {},
   "outputs": [
    {
     "name": "stderr",
     "output_type": "stream",
     "text": [
      "                                                                                \r"
     ]
    }
   ],
   "source": [
    "#save_table(session, df_behave, \"bx_ps_features_user_behave_f_1\")"
   ]
  },
  {
   "cell_type": "code",
   "execution_count": 22,
   "id": "a382f842-cbf5-4b74-b86b-105283800e32",
   "metadata": {},
   "outputs": [
    {
     "name": "stdout",
     "output_type": "stream",
     "text": [
      "Number of columns: 919\n"
     ]
    },
    {
     "name": "stderr",
     "output_type": "stream",
     "text": [
      "[Stage 451:>                                                        (0 + 1) / 1]\r"
     ]
    },
    {
     "name": "stdout",
     "output_type": "stream",
     "text": [
      "Number of rows: 99999\n"
     ]
    },
    {
     "name": "stderr",
     "output_type": "stream",
     "text": [
      "                                                                                \r"
     ]
    }
   ],
   "source": [
    "num_columns = len(df_behave.columns)\n",
    "print(f\"Number of columns: {num_columns}\")\n",
    "\n",
    "# Check the number of rows\n",
    "num_rows = df_behave.count()\n",
    "print(f\"Number of rows: {num_rows}\")"
   ]
  },
  {
   "cell_type": "code",
   "execution_count": 16,
   "id": "881cffdf-bbdc-4181-b971-5bd8216d4afa",
   "metadata": {
    "scrolled": true,
    "tags": []
   },
   "outputs": [
    {
     "data": {
      "text/plain": [
       "['f_user_vs_mean_view_from_META_cat_in_last_7_days',\n",
       " 'f_user_vs_mean_view_from_LEAF_cat_in_last_180_days',\n",
       " 'f_min_time_since_first_view_after_purchase_in_LEAF_cat',\n",
       " 'f_min_num_views_between_purchases_in_META_cat',\n",
       " 'f_user_vs_mean_purchase_from_META_cat_in_last_30_days',\n",
       " 'f_user_vs_mean_view_from_LEAF_cat_in_last_14_days',\n",
       " 'f_user_vs_mean_purchase_from_LEAF_cat_in_last_2_days',\n",
       " 'f_max_views_between_purchases_per_days_in_META_cat',\n",
       " 'f_user_vs_mean_purchase_from_LEAF_cat_in_last_180_days',\n",
       " 'f_max_time_since_first_view_after_purchase_in_META_cat',\n",
       " 'f_user_vs_mean_view_from_LVL2_cat_in_last_180_days',\n",
       " 'f_user_vs_mean_purchase_from_LVL2_cat_in_last_2_days',\n",
       " 'f_user_vs_mean_purchase_from_LVL2_cat_in_last_30_days',\n",
       " 'f_user_vs_mean_purchase_from_META_cat_in_last_60_days',\n",
       " 'f_user_vs_mean_view_from_META_cat_in_last_360_days',\n",
       " 'f_time_from_last_view_to_last_purchase_in_LVL2_cat',\n",
       " 'f_user_vs_mean_purchase_from_LVL2_cat_in_last_7_days',\n",
       " 'f_mean_time_since_first_view_after_purchase_in_META_cat',\n",
       " 'f_min_num_views_between_purchases_in_LVL2_cat',\n",
       " 'f_mean_time_since_first_view_after_purchase_in_LVL2_cat',\n",
       " 'f_min_views_between_purchases_per_days_in_META_cat',\n",
       " 'f_max_time_since_first_view_after_purchase_in_LVL2_cat',\n",
       " 'f_user_vs_mean_purchase_from_META_cat_in_last_7_days',\n",
       " 'f_user_vs_mean_purchase_from_META_cat_in_last_360_days',\n",
       " 'f_max_num_views_between_purchases_in_META_cat',\n",
       " 'f_user_vs_mean_view_from_LVL2_cat_in_last_360_days',\n",
       " 'f_user_vs_mean_purchase_from_LVL2_cat_in_last_180_days',\n",
       " 'f_user_vs_mean_purchase_from_LVL2_cat_in_last_60_days',\n",
       " 'f_user_vs_mean_view_from_META_cat_in_last_180_days',\n",
       " 'f_user_vs_mean_view_from_LEAF_cat_in_last_2_days',\n",
       " 'f_mean_views_between_purchases_per_days_in_LEAF_cat',\n",
       " 'f_user_vs_mean_purchase_from_META_cat_in_last_90_days',\n",
       " 'f_user_vs_mean_view_from_LEAF_cat_in_last_90_days',\n",
       " 'f_user_vs_mean_purchase_from_LVL2_cat_in_last_90_days',\n",
       " 'f_user_vs_mean_view_from_META_cat_in_last_60_days',\n",
       " 'f_user_vs_mean_purchase_from_LEAF_cat_in_last_90_days',\n",
       " 'f_max_views_between_purchases_per_days_in_LEAF_cat',\n",
       " 'f_entropy_for_META_cat_views',\n",
       " 'f_entropy_for_META_cat_purchases',\n",
       " 'f_max_num_views_between_purchases_in_LEAF_cat',\n",
       " 'f_user_vs_mean_view_from_META_cat_in_last_30_days',\n",
       " 'f_num_views_since_last_purchase_in_LVL2_cat',\n",
       " 'f_user_vs_mean_view_from_LVL2_cat_in_last_30_days',\n",
       " 'f_user_vs_mean_view_from_LVL2_cat_in_last_14_days',\n",
       " 'f_mean_num_views_between_purchases_in_LVL2_cat',\n",
       " 'f_mean_num_views_between_purchases_in_LEAF_cat',\n",
       " 'f_min_time_since_first_view_after_purchase_in_LVL2_cat',\n",
       " 'f_entropy_for_LVL2_cat_views',\n",
       " 'f_mean_num_views_between_purchases_in_META_cat',\n",
       " 'f_mean_views_between_purchases_per_days_in_META_cat',\n",
       " 'f_user_vs_mean_view_from_LEAF_cat_in_last_7_days',\n",
       " 'f_user_vs_mean_purchase_from_META_cat_in_last_14_days',\n",
       " 'f_user_vs_mean_purchase_from_LEAF_cat_in_last_360_days',\n",
       " 'f_user_vs_mean_purchase_from_LVL2_cat_in_last_360_days',\n",
       " 'f_user_vs_mean_purchase_from_META_cat_in_last_2_days',\n",
       " 'f_user_vs_mean_view_from_META_cat_in_last_14_days',\n",
       " 'f_min_views_between_purchases_per_days_in_LEAF_cat',\n",
       " 'f_min_views_between_purchases_per_days_in_LVL2_cat',\n",
       " 'f_user_vs_mean_view_from_LVL2_cat_in_last_60_days',\n",
       " 'f_min_num_views_between_purchases_in_LEAF_cat',\n",
       " 'f_user_vs_mean_purchase_from_LEAF_cat_in_last_7_days',\n",
       " 'f_user_vs_mean_purchase_from_LVL2_cat_in_last_14_days',\n",
       " 'f_user_vs_mean_view_from_LVL2_cat_in_last_2_days',\n",
       " 'f_time_from_last_view_to_last_purchase_in_LEAF_cat',\n",
       " 'f_user_vs_mean_view_from_META_cat_in_last_2_days',\n",
       " 'f_user_vs_mean_view_from_LVL2_cat_in_last_90_days',\n",
       " 'f_user_vs_mean_purchase_from_LEAF_cat_in_last_30_days',\n",
       " 'f_entropy_for_LEAF_cat_purchases',\n",
       " 'f_mean_views_between_purchases_per_days_in_LVL2_cat',\n",
       " 'f_num_views_since_last_purchase_in_META_cat',\n",
       " 'f_user_vs_mean_view_from_LEAF_cat_in_last_60_days',\n",
       " 'f_user_vs_mean_purchase_from_META_cat_in_last_180_days',\n",
       " 'f_entropy_for_LVL2_cat_purchases',\n",
       " 'f_user_vs_mean_purchase_from_LEAF_cat_in_last_14_days',\n",
       " 'f_user_vs_mean_view_from_LVL2_cat_in_last_7_days',\n",
       " 'f_entropy_for_LEAF_cat_views',\n",
       " 'f_user_vs_mean_view_from_LEAF_cat_in_last_30_days',\n",
       " 'f_num_views_since_last_purchase_in_LEAF_cat',\n",
       " 'f_max_views_between_purchases_per_days_in_LVL2_cat',\n",
       " 'f_min_time_since_first_view_after_purchase_in_META_cat',\n",
       " 'f_max_time_since_first_view_after_purchase_in_LEAF_cat',\n",
       " 'f_time_from_last_view_to_last_purchase_in_META_cat',\n",
       " 'f_user_vs_mean_view_from_LEAF_cat_in_last_360_days',\n",
       " 'f_user_vs_mean_view_from_META_cat_in_last_90_days',\n",
       " 'f_mean_time_since_first_view_after_purchase_in_LEAF_cat',\n",
       " 'f_user_vs_mean_purchase_from_LEAF_cat_in_last_60_days',\n",
       " 'f_max_num_views_between_purchases_in_LVL2_cat']"
      ]
     },
     "execution_count": 16,
     "metadata": {},
     "output_type": "execute_result"
    }
   ],
   "source": [
    "# Get feature columns from each DataFrame\n",
    "behave_f_columns = [col for col in df_behave.columns if col.startswith('f_')]\n",
    "origin_f_columns = [col for col in df_origin.columns if col.startswith('f_')]\n",
    "\n",
    "# Find columns in df_behave but not in df_origin\n",
    "new_features = list(set(behave_f_columns) - set(origin_f_columns))\n",
    "new_features\n"
   ]
  },
  {
   "cell_type": "code",
   "execution_count": 17,
   "id": "fe13206e-d6f8-460a-9bf4-3dec15bd0ee0",
   "metadata": {},
   "outputs": [
    {
     "data": {
      "text/plain": [
       "87"
      ]
     },
     "execution_count": 17,
     "metadata": {},
     "output_type": "execute_result"
    }
   ],
   "source": [
    "len(new_features) #87 "
   ]
  },
  {
   "cell_type": "code",
   "execution_count": 18,
   "id": "e2d4b50f-a1a4-4b7b-9e0a-7ff53c4ae38b",
   "metadata": {},
   "outputs": [
    {
     "data": {
      "text/plain": [
       "['f_user_vs_mean_view_from_META_cat_in_last_7_days',\n",
       " 'f_user_vs_mean_view_from_LEAF_cat_in_last_180_days',\n",
       " 'f_num_views_from_LEAF_cat_in_last_5_days',\n",
       " 'f_max_LEAF_cat_view_propensity_cosine_sim_in_last_60_days',\n",
       " 'f_max_LEAF_cat_view_propensity_jaccard_sim_in_last_14_days',\n",
       " 'f_min_time_since_first_view_after_purchase_in_LEAF_cat',\n",
       " 'f_min_num_views_between_purchases_in_META_cat',\n",
       " 'f_num_views_from_LEAF_cat_in_last_7_days',\n",
       " 'f_num_views_from_LVL2_cat_in_last_5_days',\n",
       " 'f_user_vs_mean_purchase_from_META_cat_in_last_30_days',\n",
       " 'f_min_LEAF_cat_view_propensity_cosine_sim_in_last_60_days',\n",
       " 'f_user_vs_mean_view_from_LEAF_cat_in_last_14_days',\n",
       " 'f_max_views_between_purchases_per_days_in_META_cat',\n",
       " 'f_user_vs_mean_purchase_from_LEAF_cat_in_last_2_days',\n",
       " 'f_user_vs_mean_purchase_from_LEAF_cat_in_last_180_days',\n",
       " 'f_max_time_since_first_view_after_purchase_in_META_cat',\n",
       " 'f_user_vs_mean_view_from_LVL2_cat_in_last_180_days',\n",
       " 'f_user_vs_mean_purchase_from_LVL2_cat_in_last_2_days',\n",
       " 'f_user_vs_mean_purchase_from_LVL2_cat_in_last_30_days',\n",
       " 'f_user_vs_mean_purchase_from_META_cat_in_last_60_days',\n",
       " 'f_user_vs_mean_view_from_META_cat_in_last_360_days',\n",
       " 'f_max_LEAF_cat_view_propensity_jaccard_sim_in_last_60_days',\n",
       " 'f_time_from_last_view_to_last_purchase_in_LVL2_cat',\n",
       " 'f_user_vs_mean_purchase_from_LVL2_cat_in_last_7_days',\n",
       " 'f_mean_time_since_first_view_after_purchase_in_META_cat',\n",
       " 'f_num_views_from_LVL2_cat_in_last_60_days',\n",
       " 'f_max_LEAF_cat_view_propensity_jaccard_sim_in_last_30_days',\n",
       " 'f_min_num_views_between_purchases_in_LVL2_cat',\n",
       " 'f_mean_time_since_first_view_after_purchase_in_LVL2_cat',\n",
       " 'f_min_views_between_purchases_per_days_in_META_cat',\n",
       " 'f_user_vs_mean_purchase_from_META_cat_in_last_7_days',\n",
       " 'f_max_time_since_first_view_after_purchase_in_LVL2_cat',\n",
       " 'f_user_vs_mean_purchase_from_META_cat_in_last_360_days',\n",
       " 'f_max_num_views_between_purchases_in_META_cat',\n",
       " 'f_user_vs_mean_view_from_LVL2_cat_in_last_360_days',\n",
       " 'f_user_vs_mean_purchase_from_LVL2_cat_in_last_180_days',\n",
       " 'f_max_LEAF_cat_view_propensity_cosine_sim_in_last_14_days',\n",
       " 'f_user_vs_mean_purchase_from_LVL2_cat_in_last_60_days',\n",
       " 'f_user_vs_mean_view_from_META_cat_in_last_180_days',\n",
       " 'f_user_vs_mean_view_from_LEAF_cat_in_last_2_days',\n",
       " 'f_mean_views_between_purchases_per_days_in_LEAF_cat',\n",
       " 'f_user_vs_mean_purchase_from_META_cat_in_last_90_days',\n",
       " 'f_user_vs_mean_view_from_LEAF_cat_in_last_90_days',\n",
       " 'f_user_vs_mean_purchase_from_LVL2_cat_in_last_90_days',\n",
       " 'f_user_vs_mean_view_from_META_cat_in_last_60_days',\n",
       " 'f_user_vs_mean_purchase_from_LEAF_cat_in_last_90_days',\n",
       " 'f_max_views_between_purchases_per_days_in_LEAF_cat',\n",
       " 'f_entropy_for_META_cat_views',\n",
       " 'f_entropy_for_META_cat_purchases',\n",
       " 'f_max_LVL2_cat_purchase_propensity_jaccard_sim_in_last_60_days',\n",
       " 'f_max_num_views_between_purchases_in_LEAF_cat',\n",
       " 'f_num_purchases_from_LEAF_cat_in_last_14_days',\n",
       " 'f_user_vs_mean_view_from_META_cat_in_last_30_days',\n",
       " 'f_num_views_since_last_purchase_in_LVL2_cat',\n",
       " 'f_max_LEAF_cat_view_propensity_cosine_sim_in_last_30_days',\n",
       " 'f_user_vs_mean_view_from_LVL2_cat_in_last_30_days',\n",
       " 'f_user_vs_mean_view_from_LVL2_cat_in_last_14_days',\n",
       " 'f_mean_num_views_between_purchases_in_LVL2_cat',\n",
       " 'f_num_purchases_from_LEAF_cat_in_last_30_days',\n",
       " 'f_mean_num_views_between_purchases_in_LEAF_cat',\n",
       " 'f_min_time_since_first_view_after_purchase_in_LVL2_cat',\n",
       " 'f_entropy_for_LVL2_cat_views',\n",
       " 'f_num_purchases_from_LVL2_cat_in_last_60_days',\n",
       " 'f_mean_num_views_between_purchases_in_META_cat',\n",
       " 'f_mean_views_between_purchases_per_days_in_META_cat',\n",
       " 'f_user_vs_mean_view_from_LEAF_cat_in_last_7_days',\n",
       " 'f_num_views_from_LEAF_cat_in_last_30_days',\n",
       " 'f_user_vs_mean_purchase_from_META_cat_in_last_14_days',\n",
       " 'f_user_vs_mean_purchase_from_LEAF_cat_in_last_360_days',\n",
       " 'f_user_vs_mean_purchase_from_LVL2_cat_in_last_360_days',\n",
       " 'f_user_vs_mean_purchase_from_META_cat_in_last_2_days',\n",
       " 'f_user_vs_mean_view_from_META_cat_in_last_14_days',\n",
       " 'f_min_views_between_purchases_per_days_in_LEAF_cat',\n",
       " 'f_min_views_between_purchases_per_days_in_LVL2_cat',\n",
       " 'f_time_since_last_purchase_from_LEAF_cat',\n",
       " 'f_user_vs_mean_view_from_LVL2_cat_in_last_60_days',\n",
       " 'f_min_num_views_between_purchases_in_LEAF_cat',\n",
       " 'f_num_views_from_LEAF_cat_in_last_60_days',\n",
       " 'f_user_vs_mean_purchase_from_LEAF_cat_in_last_7_days',\n",
       " 'f_user_vs_mean_purchase_from_LVL2_cat_in_last_14_days',\n",
       " 'f_user_vs_mean_view_from_LVL2_cat_in_last_2_days',\n",
       " 'f_time_from_last_view_to_last_purchase_in_LEAF_cat',\n",
       " 'f_max_LEAF_cat_view_propensity_cosine_sim_in_last_7_days',\n",
       " 'f_time_since_last_view_from_LEAF_cat',\n",
       " 'f_max_LEAF_cat_purchase_propensity_cosine_sim_in_last_30_days',\n",
       " 'f_max_LVL2_cat_view_propensity_jaccard_sim_in_last_60_days',\n",
       " 'f_user_vs_mean_view_from_META_cat_in_last_2_days',\n",
       " 'f_max_LVL2_cat_purchase_propensity_cosine_sim_in_last_30_days',\n",
       " 'f_user_vs_mean_view_from_LVL2_cat_in_last_90_days',\n",
       " 'f_user_vs_mean_purchase_from_LEAF_cat_in_last_30_days',\n",
       " 'f_max_LVL2_cat_purchase_propensity_jaccard_sim_in_last_30_days',\n",
       " 'f_entropy_for_LEAF_cat_purchases',\n",
       " 'f_mean_views_between_purchases_per_days_in_LVL2_cat',\n",
       " 'f_num_views_since_last_purchase_in_META_cat',\n",
       " 'f_user_vs_mean_view_from_LEAF_cat_in_last_60_days',\n",
       " 'f_user_vs_mean_purchase_from_META_cat_in_last_180_days',\n",
       " 'f_entropy_for_LVL2_cat_purchases',\n",
       " 'f_max_LVL2_cat_view_propensity_cosine_sim_in_last_60_days',\n",
       " 'f_user_vs_mean_purchase_from_LEAF_cat_in_last_14_days',\n",
       " 'f_user_vs_mean_view_from_LVL2_cat_in_last_7_days',\n",
       " 'f_entropy_for_LEAF_cat_views',\n",
       " 'f_user_vs_mean_view_from_LEAF_cat_in_last_30_days',\n",
       " 'f_max_META_cat_view_propensity_jaccard_sim_in_last_60_days',\n",
       " 'f_num_views_since_last_purchase_in_LEAF_cat',\n",
       " 'f_num_views_from_LEAF_cat_in_last_2_days',\n",
       " 'f_max_views_between_purchases_per_days_in_LVL2_cat',\n",
       " 'f_min_time_since_first_view_after_purchase_in_META_cat',\n",
       " 'f_max_time_since_first_view_after_purchase_in_LEAF_cat',\n",
       " 'f_time_since_last_view_from_LVL2_cat',\n",
       " 'f_time_from_last_view_to_last_purchase_in_META_cat',\n",
       " 'f_num_purchases_from_LEAF_cat_in_last_60_days',\n",
       " 'f_user_vs_mean_view_from_LEAF_cat_in_last_360_days',\n",
       " 'f_user_vs_mean_view_from_META_cat_in_last_90_days',\n",
       " 'f_mean_time_since_first_view_after_purchase_in_LEAF_cat',\n",
       " 'f_num_views_from_LEAF_cat_in_last_14_days',\n",
       " 'f_user_vs_mean_purchase_from_LEAF_cat_in_last_60_days',\n",
       " 'f_max_num_views_between_purchases_in_LVL2_cat']"
      ]
     },
     "execution_count": 18,
     "metadata": {},
     "output_type": "execute_result"
    }
   ],
   "source": [
    "# Provided list of features\n",
    "mvp_features = [\n",
    "    'f_num_views_from_LEAF_cat_in_last_30_days', 'f_num_views_from_LEAF_cat_in_last_14_days',\n",
    "    'f_num_purchases_from_LEAF_cat_in_last_60_days', 'f_num_views_from_LEAF_cat_in_last_60_days',\n",
    "    'f_num_purchases_from_LVL2_cat_in_last_60_days', 'f_max_LEAF_cat_view_propensity_cosine_sim_in_last_30_days',\n",
    "    'f_time_since_last_view_from_LEAF_cat', 'f_num_views_from_LEAF_cat_in_last_2_days',\n",
    "    'f_num_purchases_from_LEAF_cat_in_last_30_days', 'f_max_META_cat_view_propensity_jaccard_sim_in_last_60_days',\n",
    "    'f_num_views_from_LEAF_cat_in_last_7_days', 'f_num_views_from_LEAF_cat_in_last_5_days',\n",
    "    'f_max_LEAF_cat_view_propensity_jaccard_sim_in_last_30_days', 'f_time_since_last_view_from_LVL2_cat',\n",
    "    'f_max_LEAF_cat_view_propensity_cosine_sim_in_last_14_days', 'f_max_LEAF_cat_view_propensity_cosine_sim_in_last_60_days',\n",
    "    'f_num_purchases_from_LEAF_cat_in_last_14_days', 'f_max_LEAF_cat_view_propensity_jaccard_sim_in_last_60_days',\n",
    "    'f_max_LVL2_cat_view_propensity_jaccard_sim_in_last_60_days', 'f_max_LVL2_cat_purchase_propensity_jaccard_sim_in_last_30_days',\n",
    "    'f_num_views_from_LVL2_cat_in_last_60_days', 'f_num_views_from_LVL2_cat_in_last_5_days',\n",
    "    'f_time_since_last_purchase_from_LEAF_cat', 'f_max_LEAF_cat_view_propensity_cosine_sim_in_last_7_days',\n",
    "    'f_max_LVL2_cat_view_propensity_cosine_sim_in_last_60_days', 'f_min_LEAF_cat_view_propensity_cosine_sim_in_last_60_days',\n",
    "    'f_max_LVL2_cat_purchase_propensity_jaccard_sim_in_last_60_days', 'f_max_LEAF_cat_purchase_propensity_cosine_sim_in_last_30_days',\n",
    "    'f_max_LVL2_cat_purchase_propensity_cosine_sim_in_last_30_days', 'f_max_LEAF_cat_view_propensity_jaccard_sim_in_last_14_days'\n",
    "]\n",
    "\n",
    "# Combine `new_features` and `provided_features` into a single list without duplicates\n",
    "combined_features = list(set(new_features + mvp_features))\n",
    "combined_features"
   ]
  },
  {
   "cell_type": "code",
   "execution_count": 20,
   "id": "3a8e0623-7598-4357-9728-691582b37708",
   "metadata": {},
   "outputs": [
    {
     "data": {
      "text/plain": [
       "(30, 87, 117)"
      ]
     },
     "execution_count": 20,
     "metadata": {},
     "output_type": "execute_result"
    }
   ],
   "source": [
    "len(mvp_features), len(new_features), len(combined_features)"
   ]
  },
  {
   "cell_type": "code",
   "execution_count": null,
   "id": "e67e9879-1e15-4740-929f-6d3fca92a149",
   "metadata": {},
   "outputs": [],
   "source": [
    "#take all feaures which are in df_behave and not in df_origin and return a list"
   ]
  },
  {
   "cell_type": "code",
   "execution_count": null,
   "id": "141a14c0-9d4f-4516-b11f-cbb8ed11ab65",
   "metadata": {},
   "outputs": [],
   "source": [
    "if session:\n",
    "    session.stop()"
   ]
  }
 ],
 "metadata": {
  "kernelspec": {
   "display_name": "Python 3 (ipykernel)",
   "language": "python",
   "name": "python3"
  },
  "language_info": {
   "codemirror_mode": {
    "name": "ipython",
    "version": 3
   },
   "file_extension": ".py",
   "mimetype": "text/x-python",
   "name": "python",
   "nbconvert_exporter": "python",
   "pygments_lexer": "ipython3",
   "version": "3.7.10"
  },
  "toc-autonumbering": true,
  "toc-showcode": false,
  "toc-showmarkdowntxt": true,
  "toc-showtags": true
 },
 "nbformat": 4,
 "nbformat_minor": 5
}
